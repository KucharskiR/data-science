{
  "nbformat": 4,
  "nbformat_minor": 0,
  "metadata": {
    "colab": {
      "provenance": [],
      "include_colab_link": true
    },
    "kernelspec": {
      "name": "python3",
      "display_name": "Python 3"
    },
    "language_info": {
      "name": "python"
    }
  },
  "cells": [
    {
      "cell_type": "markdown",
      "metadata": {
        "id": "view-in-github",
        "colab_type": "text"
      },
      "source": [
        "<a href=\"https://colab.research.google.com/github/KucharskiR/data-science/blob/main/trained/001.ipynb\" target=\"_parent\"><img src=\"https://colab.research.google.com/assets/colab-badge.svg\" alt=\"Open In Colab\"/></a>"
      ]
    },
    {
      "cell_type": "markdown",
      "source": [],
      "metadata": {
        "id": "WuSMzASeSIkv"
      }
    },
    {
      "cell_type": "markdown",
      "source": [
        "### **Sieć neuronowa LSTM**\n",
        "\n",
        "Budowa sieci neuronowej LSTM\n",
        "\n",
        "#### **Spis treści:**\n",
        "1. [Import bibliotek](#a0)\n",
        "2. [Przygotowanie danych](#a1)\n",
        "3. [Konfiguracja LSTM layer](#a2)\n",
        "4. [Główny model](#a3)\n",
        "5. [Klasyfikacja](#a4)\n",
        "6. [Przykład budowy modelu z kursu](#a5)\n",
        "7. [Ocena modelu + wykresy](#a6)\n",
        "8. [Predykcja na podstawie modelu](#a7)\n",
        "9. [Zip file](#a8)\n",
        "10. [Extract .tar.gz](#a9)"
      ],
      "metadata": {
        "id": "9_IXOH1xSAE6"
      }
    },
    {
      "cell_type": "markdown",
      "source": [
        "### <a name='a0'></a> Import bibliotek"
      ],
      "metadata": {
        "id": "R8c4m6mdRsCn"
      }
    },
    {
      "cell_type": "code",
      "source": [
        "import csv\n",
        "import numpy as np\n",
        "import pandas as pd\n",
        "import tensorflow as tf\n",
        "from sklearn.model_selection import train_test_split\n",
        "from sklearn.preprocessing import MinMaxScaler\n",
        "from keras.models import Sequential\n",
        "from keras.layers import LSTM\n",
        "from keras.layers import Dense\n",
        "from keras.optimizers import Adam\n",
        "from keras.callbacks import LambdaCallback\n",
        "from keras.initializers import TruncatedNormal\n",
        "from keras.models import save_model\n",
        "import matplotlib.pyplot as plt\n",
        "from sklearn.metrics import confusion_matrix, accuracy_score, roc_auc_score, roc_curve\n",
        "import os\n",
        "\n",
        "np.set_printoptions(precision=12, suppress=True, linewidth=150)\n",
        "pd.options.display.float_format = '{:.6f}'.format\n",
        "# sns.set()   <--- seaborn\n",
        "print(np.__version__)"
      ],
      "metadata": {
        "id": "oscxr8yAP1qs",
        "colab": {
          "base_uri": "https://localhost:8080/"
        },
        "outputId": "bb0439d0-1bdf-40c8-a469-ae6f6b2efc1e"
      },
      "execution_count": 1,
      "outputs": [
        {
          "output_type": "stream",
          "name": "stdout",
          "text": [
            "1.25.2\n"
          ]
        }
      ]
    },
    {
      "cell_type": "markdown",
      "source": [
        "### <a name='a1'></a> Przygotowanie danych"
      ],
      "metadata": {
        "id": "SRGMRUlBQdgu"
      }
    },
    {
      "cell_type": "code",
      "source": [
        "# Epochs\n",
        "epochs = 5"
      ],
      "metadata": {
        "id": "U1ea4fFgzZSs"
      },
      "execution_count": 256,
      "outputs": []
    },
    {
      "cell_type": "code",
      "source": [
        "# Assuming there are three features in your data\n",
        "num_labels = 2\n",
        "timestepsPerSample = 150\n",
        "batch = 32"
      ],
      "metadata": {
        "id": "RPfYadvw1QjV"
      },
      "execution_count": 257,
      "outputs": []
    },
    {
      "cell_type": "code",
      "source": [
        "# Replace 'your_file.csv' with the actual file path\n",
        "file_features = './1_150x9/1_150x9f.csv'\n",
        "file_labels = './1_150x9/1_150x9l.csv'\n",
        "\n",
        "# Specify the CSV file name\n",
        "csv_file_name = 'my_data1.csv'\n",
        "\n",
        "# Read the .csv file and create an array\n",
        "data_strings = np.genfromtxt(file_features, delimiter=';')\n",
        "labels_strings = np.genfromtxt(file_labels,delimiter=';')"
      ],
      "metadata": {
        "id": "ZpRmwBm5dg36"
      },
      "execution_count": 4,
      "outputs": []
    },
    {
      "cell_type": "code",
      "source": [
        "# Wycinanie wybranych kolumn\n",
        "# data_s = data_strings[:,[0,2,3,4,5,6,7,8]]\n",
        "data_s = data_strings[:,[0,4,5,8]]\n",
        "num_features = data_s.shape[1]\n",
        "print(data_strings[:3])\n",
        "print(data_s[:3])"
      ],
      "metadata": {
        "colab": {
          "base_uri": "https://localhost:8080/"
        },
        "id": "1DaCMgIUTOZJ",
        "outputId": "2e321646-eea2-4fff-ca04-498e838c365d"
      },
      "execution_count": 258,
      "outputs": [
        {
          "output_type": "stream",
          "name": "stdout",
          "text": [
            "[[-0.07371   0.001137  0.01742  -0.0145   -0.06481   0.08029  -0.11523   0.10792   0.989   ]\n",
            " [-0.17048   0.007527  0.019168 -0.01685  -0.10209  -0.44286  -0.18144   0.01512   0.94915 ]\n",
            " [-0.17888   0.007856  0.018207 -0.01051  -0.09147  -0.71242  -0.25967  -0.04955   0.76432 ]]\n",
            "[[-0.07371 -0.06481  0.08029  0.989  ]\n",
            " [-0.17048 -0.10209 -0.44286  0.94915]\n",
            " [-0.17888 -0.09147 -0.71242  0.76432]]\n"
          ]
        }
      ]
    },
    {
      "cell_type": "code",
      "source": [
        "# Convert from strings to float and int\n",
        "X = data_s.astype(float).reshape((-1,timestepsPerSample,num_features))\n",
        "Y = labels_strings.astype(float).reshape((-1,3))\n",
        "print(X.shape)\n",
        "print(Y.shape)"
      ],
      "metadata": {
        "colab": {
          "base_uri": "https://localhost:8080/"
        },
        "id": "sXAmO91iVIsZ",
        "outputId": "e231bed4-f293-406e-cdcb-7314208ea239"
      },
      "execution_count": 259,
      "outputs": [
        {
          "output_type": "stream",
          "name": "stdout",
          "text": [
            "(33300, 150, 4)\n",
            "(33300, 3)\n"
          ]
        }
      ]
    },
    {
      "cell_type": "code",
      "source": [
        "# Modification from imported to new size\n",
        "X_mod = X[1000:11000,130:]\n",
        "Y_mod = Y[1000:11000]\n",
        "timestepsPerSample = X_mod.shape[1]\n",
        "print(X_mod.shape)\n",
        "print(Y_mod.shape)\n",
        "print(X_mod[:1])\n",
        "# print(X[:1])"
      ],
      "metadata": {
        "colab": {
          "base_uri": "https://localhost:8080/"
        },
        "id": "8q9JeLLNkIf0",
        "outputId": "0c9120fc-a770-42f0-8f4b-ba07b8b091b1"
      },
      "execution_count": 348,
      "outputs": [
        {
          "output_type": "stream",
          "name": "stdout",
          "text": [
            "(10000, 20, 4)\n",
            "(10000, 3)\n",
            "[[[ 0.27949  0.14847  0.79856  0.99734]\n",
            "  [ 0.26975  0.12186  0.74     0.99837]\n",
            "  [ 0.24924  0.17163  0.52381  0.99875]\n",
            "  [ 0.25571  0.15738  0.22449  0.99897]\n",
            "  [ 0.23283  0.18952 -0.02128  0.99898]\n",
            "  [ 0.17516  0.112   -0.22449  0.99879]\n",
            "  [ 0.05792  0.06112 -0.6      0.99816]\n",
            "  [ 0.08473  0.10709 -0.6      0.99754]\n",
            "  [ 0.18472  0.14816 -0.25641  0.99763]\n",
            "  [ 0.07894  0.08105 -0.02778  0.99711]\n",
            "  [ 0.11305  0.10543  0.24242  0.99692]\n",
            "  [ 0.08073  0.14804 -0.0303   0.99657]\n",
            "  [-0.02131  0.04477 -0.28358  0.99528]\n",
            "  [-0.11164  0.03727 -0.62963  0.99219]\n",
            "  [-0.1537  -0.0509  -0.87097  0.98657]\n",
            "  [-0.21008 -0.14329 -0.87387  0.97478]\n",
            "  [-0.21008 -0.14598 -0.84211  0.95592]\n",
            "  [-0.14679 -0.14043 -0.65766  0.93689]\n",
            "  [-0.18358 -0.1647  -0.46667  0.90984]\n",
            "  [-0.17    -0.17851 -0.25714  0.88401]]]\n"
          ]
        }
      ]
    },
    {
      "cell_type": "code",
      "source": [
        "# splitting the dataset 75% for training and 25% testing\n",
        "# X_train, X_test, y_train, y_test = train_test_split(X,Y, test_size=0.2, random_state=42)\n",
        "x_train, x_test, Y_train, Y_test = train_test_split(X_mod,Y_mod, test_size=0.15, shuffle=False)\n",
        "print(x_train.shape)\n",
        "# print(x_train[:5])"
      ],
      "metadata": {
        "id": "7Nj3hWqDQb-T",
        "colab": {
          "base_uri": "https://localhost:8080/"
        },
        "outputId": "b9738323-f992-44b3-a8e1-d835721f22f2"
      },
      "execution_count": 376,
      "outputs": [
        {
          "output_type": "stream",
          "name": "stdout",
          "text": [
            "(8500, 20, 4)\n"
          ]
        }
      ]
    },
    {
      "cell_type": "code",
      "source": [
        "y_train = Y_train[:, 0:2]\n",
        "y_test = Y_test[:, 0:2]\n",
        "print(y_train[:2])\n",
        "print(y_test[:2])"
      ],
      "metadata": {
        "id": "iCXnu_I_kcXB",
        "outputId": "42f5b27d-8ab7-4e4e-c54c-6fa6371d5d1d",
        "colab": {
          "base_uri": "https://localhost:8080/"
        }
      },
      "execution_count": 377,
      "outputs": [
        {
          "output_type": "stream",
          "name": "stdout",
          "text": [
            "[[0. 1.]\n",
            " [0. 1.]]\n",
            "[[0. 1.]\n",
            " [0. 1.]]\n"
          ]
        }
      ]
    },
    {
      "cell_type": "markdown",
      "source": [
        "### <a name='a4'></a> Konfiguracja LSTM layer"
      ],
      "metadata": {
        "id": "8HqOhfTgQsYb"
      }
    },
    {
      "cell_type": "code",
      "source": [
        "LstmLayer = LSTM(\n",
        "    units=200,\n",
        "    activation=\"tanh\",\n",
        "    recurrent_activation=\"sigmoid\",\n",
        "    use_bias=True,\n",
        "    kernel_initializer=\"glorot_uniform\",\n",
        "    recurrent_initializer=\"orthogonal\",\n",
        "    bias_initializer=\"zeros\",\n",
        "    unit_forget_bias=True,\n",
        "    kernel_regularizer=None,\n",
        "    recurrent_regularizer=None,\n",
        "    bias_regularizer=None,\n",
        "    activity_regularizer=None,\n",
        "    kernel_constraint=None,\n",
        "    recurrent_constraint=None,\n",
        "    bias_constraint=None,\n",
        "    dropout=0.2,\n",
        "    recurrent_dropout=0.0,\n",
        "    seed=None,\n",
        "    return_sequences=False,\n",
        "    return_state=False,\n",
        "    go_backwards=False,\n",
        "    stateful=False,\n",
        "    unroll=False,\n",
        "    input_shape=(x_train.shape[1],x_train.shape[2])\n",
        ")"
      ],
      "metadata": {
        "id": "c_nNj1oIQRZ8"
      },
      "execution_count": 378,
      "outputs": []
    },
    {
      "cell_type": "markdown",
      "source": [
        "### <a name='a3'></a> Główny model"
      ],
      "metadata": {
        "id": "JtbGqmW8Q49l"
      }
    },
    {
      "cell_type": "code",
      "source": [
        "# Optimizer decay\n",
        "num_samples = x_train.shape[0]\n",
        "STEPS_PER_EPOCH = num_samples/batch\n",
        "num_samples\n",
        "print(f\"Timesteps: {timestepsPerSample}\")\n",
        "print(f\"Num Samples: {num_samples}\")\n",
        "print(f\"Num features: {num_features}\")"
      ],
      "metadata": {
        "colab": {
          "base_uri": "https://localhost:8080/"
        },
        "id": "82GpoNe4x0sR",
        "outputId": "8bd6b78e-e7c9-4d25-f2e6-599d894c1c20"
      },
      "execution_count": 379,
      "outputs": [
        {
          "output_type": "stream",
          "name": "stdout",
          "text": [
            "Timesteps: 20\n",
            "Num Samples: 8500\n",
            "Num features: 4\n"
          ]
        }
      ]
    },
    {
      "cell_type": "code",
      "source": [
        "model = Sequential() # initializing model\n",
        "\n",
        "# input layer and LSTM layer with 50 neurons\n",
        "# lst.add(LSTM(units=300, return_sequences=False, input_shape=(x_train.shape[1],x_train.shape[2])))\n",
        "model.add(LstmLayer)\n",
        "model.add(Dense(100, activation='relu'))\n",
        "# model.add(Dense(100, activation='relu'))\n",
        "model.add(Dense(20, activation='relu'))\n",
        "# outpute layer with sigmoid activation\n",
        "model.add(Dense(num_labels, activation='sigmoid'))\n",
        "\n",
        "# lr_schedule = tf.keras.optimizers.schedules.InverseTimeDecay(\n",
        "lr_schedule = tf.keras.optimizers.schedules.ExponentialDecay(\n",
        "  0.001,\n",
        "  decay_steps=STEPS_PER_EPOCH*100,\n",
        "  decay_rate=0.9,\n",
        "  staircase=False)\n",
        "\n",
        "def get_optimizer():\n",
        "  # return tf.keras.optimizers.Adam(learning_rate=0.001)\n",
        "  return tf.keras.optimizers.Adam(learning_rate= lr_schedule)\n",
        "\n",
        "optimizer = get_optimizer()\n",
        "\n",
        "# defining loss function, optimizer, metrics and then compiling model\n",
        "model.compile(loss='binary_crossentropy',optimizer=optimizer,metrics=['accuracy'])\n",
        "model.summary()"
      ],
      "metadata": {
        "id": "yxpq8IoogFdl",
        "colab": {
          "base_uri": "https://localhost:8080/"
        },
        "outputId": "72ffed38-b7ab-4309-851f-d6f64c6002c8"
      },
      "execution_count": 380,
      "outputs": [
        {
          "output_type": "stream",
          "name": "stdout",
          "text": [
            "Model: \"sequential_23\"\n",
            "_________________________________________________________________\n",
            " Layer (type)                Output Shape              Param #   \n",
            "=================================================================\n",
            " lstm_19 (LSTM)              (None, 200)               164000    \n",
            "                                                                 \n",
            " dense_56 (Dense)            (None, 100)               20100     \n",
            "                                                                 \n",
            " dense_57 (Dense)            (None, 20)                2020      \n",
            "                                                                 \n",
            " dense_58 (Dense)            (None, 2)                 42        \n",
            "                                                                 \n",
            "=================================================================\n",
            "Total params: 186162 (727.20 KB)\n",
            "Trainable params: 186162 (727.20 KB)\n",
            "Non-trainable params: 0 (0.00 Byte)\n",
            "_________________________________________________________________\n"
          ]
        }
      ]
    },
    {
      "cell_type": "markdown",
      "source": [
        "### Training"
      ],
      "metadata": {
        "id": "mn7ZgX4wj8-T"
      }
    },
    {
      "cell_type": "code",
      "source": [
        "# training the model on training dataset\n",
        "# history = lst.fit(x_train, y_train, epochs=epochs, batch_size=batch,validation_split=0.2)\n",
        "history = model.fit(x_train, y_train, epochs=epochs, batch_size=batch, validation_data=(x_test, y_test))\n",
        "\n",
        "# Save model\n",
        "model.save(\"1_150x_trained.h5\", overwrite=True, save_format='h5')\n",
        "\n",
        "# predicting target attribute on testing dataset\n",
        "predict = model.predict(x_test)\n",
        "# predict = np.argmax(lst.predict(x_test), axis=-1)"
      ],
      "metadata": {
        "id": "ckxOaCSvhpcB",
        "colab": {
          "base_uri": "https://localhost:8080/"
        },
        "outputId": "9397c5d5-fec6-498d-e7aa-c785088dbc22"
      },
      "execution_count": 381,
      "outputs": [
        {
          "output_type": "stream",
          "name": "stdout",
          "text": [
            "Epoch 1/5\n",
            "266/266 [==============================] - 16s 46ms/step - loss: 0.6232 - accuracy: 0.6629 - val_loss: 0.5692 - val_accuracy: 0.7120\n",
            "Epoch 2/5\n",
            "266/266 [==============================] - 13s 49ms/step - loss: 0.5994 - accuracy: 0.6816 - val_loss: 0.5700 - val_accuracy: 0.7093\n",
            "Epoch 3/5\n",
            "266/266 [==============================] - 13s 49ms/step - loss: 0.5939 - accuracy: 0.6889 - val_loss: 0.5570 - val_accuracy: 0.7120\n",
            "Epoch 4/5\n",
            "266/266 [==============================] - 13s 49ms/step - loss: 0.5924 - accuracy: 0.6864 - val_loss: 0.5625 - val_accuracy: 0.7120\n",
            "Epoch 5/5\n",
            "266/266 [==============================] - 13s 48ms/step - loss: 0.5851 - accuracy: 0.6960 - val_loss: 0.5723 - val_accuracy: 0.7140\n"
          ]
        },
        {
          "output_type": "stream",
          "name": "stderr",
          "text": [
            "/usr/local/lib/python3.10/dist-packages/keras/src/engine/training.py:3103: UserWarning:\n",
            "\n",
            "You are saving your model as an HDF5 file via `model.save()`. This file format is considered legacy. We recommend using instead the native Keras format, e.g. `model.save('my_model.keras')`.\n",
            "\n"
          ]
        },
        {
          "output_type": "stream",
          "name": "stdout",
          "text": [
            "47/47 [==============================] - 1s 14ms/step\n"
          ]
        }
      ]
    },
    {
      "cell_type": "code",
      "execution_count": 382,
      "metadata": {
        "id": "51o6kObaoKAk",
        "colab": {
          "base_uri": "https://localhost:8080/"
        },
        "outputId": "f984b07b-58b5-4949-acbc-92d91f35ddd4"
      },
      "outputs": [
        {
          "output_type": "stream",
          "name": "stdout",
          "text": [
            "[[0.65295124054  0.349432885647 0.             1.            ]\n",
            " [0.688349425793 0.307092696428 0.             1.            ]\n",
            " [0.710048615932 0.284625679255 0.             1.            ]\n",
            " ...\n",
            " [0.415741801262 0.571114420891 0.             1.            ]\n",
            " [0.434298396111 0.551436603069 0.             1.            ]\n",
            " [0.398584574461 0.584887742996 0.             1.            ]]\n",
            "47/47 [==============================] - 1s 14ms/step - loss: 0.5723 - accuracy: 0.7140\n",
            "Test results - Loss: 0.5723249912261963 - Accuracy: 71.39999866485596%\n"
          ]
        }
      ],
      "source": [
        "# Set print options to suppress scientific notation\n",
        "np.set_printoptions(suppress=True)\n",
        "\n",
        "# Concatenate arrays\n",
        "result = np.hstack((predict, y_test))\n",
        "print(result)\n",
        "\n",
        "test_results = model.evaluate(x_test, y_test, verbose=1)\n",
        "print(f'Test results - Loss: {test_results[0]} - Accuracy: {test_results[1]*100}%')\n",
        "\n",
        "# # Create a DataFrame from the 2D array\n",
        "# df = pd.DataFrame(predict, columns=['Column1', 'Column2'])\n",
        "\n",
        "# # Export the DataFrame to CSV with semicolon as the delimiter and avoiding scientific notation\n",
        "# # df.to_csv(csv_file_name, sep=';', index=False, float_format='%.0f')\n",
        "# df.to_csv(csv_file_name, sep=';', index=False)\n",
        "\n",
        "# # Read the CSV file into a DataFrame without header\n",
        "# df = pd.read_csv(csv_file_name, sep=';', header=None)\n",
        "\n",
        "# # Drop the first row containing data\n",
        "# df = df.iloc[1:]\n",
        "\n",
        "# # Save the modified DataFrame back to the CSV file without header\n",
        "# df.to_csv(csv_file_name, sep=';', index=False, header=False)\n",
        "\n",
        "# print(f'CSV file name: {csv_file_name}.')\n",
        "\n"
      ]
    },
    {
      "cell_type": "markdown",
      "source": [
        "### <a name='a4'></a> Predict i Klasyfikacja"
      ],
      "metadata": {
        "id": "Gi3IESNbmXQ2"
      }
    },
    {
      "cell_type": "code",
      "source": [
        "predict = model.predict(x_test)\n",
        "predict[:3]"
      ],
      "metadata": {
        "id": "QpZVxifpko37",
        "colab": {
          "base_uri": "https://localhost:8080/"
        },
        "outputId": "59709dcd-d765-4129-8dd8-46f5581516fe"
      },
      "execution_count": 383,
      "outputs": [
        {
          "output_type": "stream",
          "name": "stdout",
          "text": [
            "47/47 [==============================] - 1s 13ms/step\n"
          ]
        },
        {
          "output_type": "execute_result",
          "data": {
            "text/plain": [
              "array([[0.65295124, 0.3494329 ],\n",
              "       [0.6883494 , 0.3070927 ],\n",
              "       [0.7100486 , 0.28462568]], dtype=float32)"
            ]
          },
          "metadata": {},
          "execution_count": 383
        }
      ]
    },
    {
      "cell_type": "code",
      "source": [
        "# np.info(predict)\n",
        "# np.where(y_pred > threshold, 1,0)\n",
        "predict_classes = predict\n",
        "# predict_classes = np.argmax(predict_classes, axis=-1)\n",
        "predict_classes = np.where(predict > 0.5, 1,0)\n",
        "np.info(predict_classes)\n",
        "predict_classes[:3]\n",
        "# predict"
      ],
      "metadata": {
        "id": "WqQZNp_UhtfY",
        "colab": {
          "base_uri": "https://localhost:8080/"
        },
        "outputId": "a02fcc88-3f59-4c16-fb79-08ce1aa241e5"
      },
      "execution_count": 384,
      "outputs": [
        {
          "output_type": "stream",
          "name": "stdout",
          "text": [
            "class:  ndarray\n",
            "shape:  (1500, 2)\n",
            "strides:  (16, 8)\n",
            "itemsize:  8\n",
            "aligned:  True\n",
            "contiguous:  True\n",
            "fortran:  False\n",
            "data pointer: 0x5b1933c13de0\n",
            "byteorder:  little\n",
            "byteswap:  False\n",
            "type: int64\n"
          ]
        },
        {
          "output_type": "execute_result",
          "data": {
            "text/plain": [
              "array([[1, 0],\n",
              "       [1, 0],\n",
              "       [1, 0]])"
            ]
          },
          "metadata": {},
          "execution_count": 384
        }
      ]
    },
    {
      "cell_type": "markdown",
      "source": [
        "**epochs** - ile razy zestaw treningowy zostanie przetworzony przez model. Przy każdej iteracji optymalizator próbuje dopasować wagi, aby funkcja celu została zminimalizowana.\n",
        "\n",
        "**batch_size** - liczba przykładów treningowych po której następuje aktualizacji wag\n",
        "\n",
        "**validation_split** - procent danych użytych do walidacji"
      ],
      "metadata": {
        "id": "iP8wBH2x6zN6"
      }
    },
    {
      "cell_type": "code",
      "source": [
        "metrics = pd.DataFrame(history.history)\n",
        "metrics['epoch'] = history.epoch\n",
        "metrics[:3]"
      ],
      "metadata": {
        "id": "Id7wOgRSPxgb",
        "colab": {
          "base_uri": "https://localhost:8080/",
          "height": 143
        },
        "outputId": "27694960-ecda-4d2c-ecba-960e7215ecb6"
      },
      "execution_count": 385,
      "outputs": [
        {
          "output_type": "execute_result",
          "data": {
            "text/plain": [
              "      loss  accuracy  val_loss  val_accuracy  epoch\n",
              "0 0.623158  0.662941  0.569152      0.712000      0\n",
              "1 0.599403  0.681647  0.570017      0.709333      1\n",
              "2 0.593932  0.688941  0.557011      0.712000      2"
            ],
            "text/html": [
              "\n",
              "  <div id=\"df-ce286b63-0d19-4e94-aad9-9a3f7c90e67e\" class=\"colab-df-container\">\n",
              "    <div>\n",
              "<style scoped>\n",
              "    .dataframe tbody tr th:only-of-type {\n",
              "        vertical-align: middle;\n",
              "    }\n",
              "\n",
              "    .dataframe tbody tr th {\n",
              "        vertical-align: top;\n",
              "    }\n",
              "\n",
              "    .dataframe thead th {\n",
              "        text-align: right;\n",
              "    }\n",
              "</style>\n",
              "<table border=\"1\" class=\"dataframe\">\n",
              "  <thead>\n",
              "    <tr style=\"text-align: right;\">\n",
              "      <th></th>\n",
              "      <th>loss</th>\n",
              "      <th>accuracy</th>\n",
              "      <th>val_loss</th>\n",
              "      <th>val_accuracy</th>\n",
              "      <th>epoch</th>\n",
              "    </tr>\n",
              "  </thead>\n",
              "  <tbody>\n",
              "    <tr>\n",
              "      <th>0</th>\n",
              "      <td>0.623158</td>\n",
              "      <td>0.662941</td>\n",
              "      <td>0.569152</td>\n",
              "      <td>0.712000</td>\n",
              "      <td>0</td>\n",
              "    </tr>\n",
              "    <tr>\n",
              "      <th>1</th>\n",
              "      <td>0.599403</td>\n",
              "      <td>0.681647</td>\n",
              "      <td>0.570017</td>\n",
              "      <td>0.709333</td>\n",
              "      <td>1</td>\n",
              "    </tr>\n",
              "    <tr>\n",
              "      <th>2</th>\n",
              "      <td>0.593932</td>\n",
              "      <td>0.688941</td>\n",
              "      <td>0.557011</td>\n",
              "      <td>0.712000</td>\n",
              "      <td>2</td>\n",
              "    </tr>\n",
              "  </tbody>\n",
              "</table>\n",
              "</div>\n",
              "    <div class=\"colab-df-buttons\">\n",
              "\n",
              "  <div class=\"colab-df-container\">\n",
              "    <button class=\"colab-df-convert\" onclick=\"convertToInteractive('df-ce286b63-0d19-4e94-aad9-9a3f7c90e67e')\"\n",
              "            title=\"Convert this dataframe to an interactive table.\"\n",
              "            style=\"display:none;\">\n",
              "\n",
              "  <svg xmlns=\"http://www.w3.org/2000/svg\" height=\"24px\" viewBox=\"0 -960 960 960\">\n",
              "    <path d=\"M120-120v-720h720v720H120Zm60-500h600v-160H180v160Zm220 220h160v-160H400v160Zm0 220h160v-160H400v160ZM180-400h160v-160H180v160Zm440 0h160v-160H620v160ZM180-180h160v-160H180v160Zm440 0h160v-160H620v160Z\"/>\n",
              "  </svg>\n",
              "    </button>\n",
              "\n",
              "  <style>\n",
              "    .colab-df-container {\n",
              "      display:flex;\n",
              "      gap: 12px;\n",
              "    }\n",
              "\n",
              "    .colab-df-convert {\n",
              "      background-color: #E8F0FE;\n",
              "      border: none;\n",
              "      border-radius: 50%;\n",
              "      cursor: pointer;\n",
              "      display: none;\n",
              "      fill: #1967D2;\n",
              "      height: 32px;\n",
              "      padding: 0 0 0 0;\n",
              "      width: 32px;\n",
              "    }\n",
              "\n",
              "    .colab-df-convert:hover {\n",
              "      background-color: #E2EBFA;\n",
              "      box-shadow: 0px 1px 2px rgba(60, 64, 67, 0.3), 0px 1px 3px 1px rgba(60, 64, 67, 0.15);\n",
              "      fill: #174EA6;\n",
              "    }\n",
              "\n",
              "    .colab-df-buttons div {\n",
              "      margin-bottom: 4px;\n",
              "    }\n",
              "\n",
              "    [theme=dark] .colab-df-convert {\n",
              "      background-color: #3B4455;\n",
              "      fill: #D2E3FC;\n",
              "    }\n",
              "\n",
              "    [theme=dark] .colab-df-convert:hover {\n",
              "      background-color: #434B5C;\n",
              "      box-shadow: 0px 1px 3px 1px rgba(0, 0, 0, 0.15);\n",
              "      filter: drop-shadow(0px 1px 2px rgba(0, 0, 0, 0.3));\n",
              "      fill: #FFFFFF;\n",
              "    }\n",
              "  </style>\n",
              "\n",
              "    <script>\n",
              "      const buttonEl =\n",
              "        document.querySelector('#df-ce286b63-0d19-4e94-aad9-9a3f7c90e67e button.colab-df-convert');\n",
              "      buttonEl.style.display =\n",
              "        google.colab.kernel.accessAllowed ? 'block' : 'none';\n",
              "\n",
              "      async function convertToInteractive(key) {\n",
              "        const element = document.querySelector('#df-ce286b63-0d19-4e94-aad9-9a3f7c90e67e');\n",
              "        const dataTable =\n",
              "          await google.colab.kernel.invokeFunction('convertToInteractive',\n",
              "                                                    [key], {});\n",
              "        if (!dataTable) return;\n",
              "\n",
              "        const docLinkHtml = 'Like what you see? Visit the ' +\n",
              "          '<a target=\"_blank\" href=https://colab.research.google.com/notebooks/data_table.ipynb>data table notebook</a>'\n",
              "          + ' to learn more about interactive tables.';\n",
              "        element.innerHTML = '';\n",
              "        dataTable['output_type'] = 'display_data';\n",
              "        await google.colab.output.renderOutput(dataTable, element);\n",
              "        const docLink = document.createElement('div');\n",
              "        docLink.innerHTML = docLinkHtml;\n",
              "        element.appendChild(docLink);\n",
              "      }\n",
              "    </script>\n",
              "  </div>\n",
              "\n",
              "\n",
              "<div id=\"df-66d0c5fa-d0e1-43c2-9b70-fe7f06b3525e\">\n",
              "  <button class=\"colab-df-quickchart\" onclick=\"quickchart('df-66d0c5fa-d0e1-43c2-9b70-fe7f06b3525e')\"\n",
              "            title=\"Suggest charts\"\n",
              "            style=\"display:none;\">\n",
              "\n",
              "<svg xmlns=\"http://www.w3.org/2000/svg\" height=\"24px\"viewBox=\"0 0 24 24\"\n",
              "     width=\"24px\">\n",
              "    <g>\n",
              "        <path d=\"M19 3H5c-1.1 0-2 .9-2 2v14c0 1.1.9 2 2 2h14c1.1 0 2-.9 2-2V5c0-1.1-.9-2-2-2zM9 17H7v-7h2v7zm4 0h-2V7h2v10zm4 0h-2v-4h2v4z\"/>\n",
              "    </g>\n",
              "</svg>\n",
              "  </button>\n",
              "\n",
              "<style>\n",
              "  .colab-df-quickchart {\n",
              "      --bg-color: #E8F0FE;\n",
              "      --fill-color: #1967D2;\n",
              "      --hover-bg-color: #E2EBFA;\n",
              "      --hover-fill-color: #174EA6;\n",
              "      --disabled-fill-color: #AAA;\n",
              "      --disabled-bg-color: #DDD;\n",
              "  }\n",
              "\n",
              "  [theme=dark] .colab-df-quickchart {\n",
              "      --bg-color: #3B4455;\n",
              "      --fill-color: #D2E3FC;\n",
              "      --hover-bg-color: #434B5C;\n",
              "      --hover-fill-color: #FFFFFF;\n",
              "      --disabled-bg-color: #3B4455;\n",
              "      --disabled-fill-color: #666;\n",
              "  }\n",
              "\n",
              "  .colab-df-quickchart {\n",
              "    background-color: var(--bg-color);\n",
              "    border: none;\n",
              "    border-radius: 50%;\n",
              "    cursor: pointer;\n",
              "    display: none;\n",
              "    fill: var(--fill-color);\n",
              "    height: 32px;\n",
              "    padding: 0;\n",
              "    width: 32px;\n",
              "  }\n",
              "\n",
              "  .colab-df-quickchart:hover {\n",
              "    background-color: var(--hover-bg-color);\n",
              "    box-shadow: 0 1px 2px rgba(60, 64, 67, 0.3), 0 1px 3px 1px rgba(60, 64, 67, 0.15);\n",
              "    fill: var(--button-hover-fill-color);\n",
              "  }\n",
              "\n",
              "  .colab-df-quickchart-complete:disabled,\n",
              "  .colab-df-quickchart-complete:disabled:hover {\n",
              "    background-color: var(--disabled-bg-color);\n",
              "    fill: var(--disabled-fill-color);\n",
              "    box-shadow: none;\n",
              "  }\n",
              "\n",
              "  .colab-df-spinner {\n",
              "    border: 2px solid var(--fill-color);\n",
              "    border-color: transparent;\n",
              "    border-bottom-color: var(--fill-color);\n",
              "    animation:\n",
              "      spin 1s steps(1) infinite;\n",
              "  }\n",
              "\n",
              "  @keyframes spin {\n",
              "    0% {\n",
              "      border-color: transparent;\n",
              "      border-bottom-color: var(--fill-color);\n",
              "      border-left-color: var(--fill-color);\n",
              "    }\n",
              "    20% {\n",
              "      border-color: transparent;\n",
              "      border-left-color: var(--fill-color);\n",
              "      border-top-color: var(--fill-color);\n",
              "    }\n",
              "    30% {\n",
              "      border-color: transparent;\n",
              "      border-left-color: var(--fill-color);\n",
              "      border-top-color: var(--fill-color);\n",
              "      border-right-color: var(--fill-color);\n",
              "    }\n",
              "    40% {\n",
              "      border-color: transparent;\n",
              "      border-right-color: var(--fill-color);\n",
              "      border-top-color: var(--fill-color);\n",
              "    }\n",
              "    60% {\n",
              "      border-color: transparent;\n",
              "      border-right-color: var(--fill-color);\n",
              "    }\n",
              "    80% {\n",
              "      border-color: transparent;\n",
              "      border-right-color: var(--fill-color);\n",
              "      border-bottom-color: var(--fill-color);\n",
              "    }\n",
              "    90% {\n",
              "      border-color: transparent;\n",
              "      border-bottom-color: var(--fill-color);\n",
              "    }\n",
              "  }\n",
              "</style>\n",
              "\n",
              "  <script>\n",
              "    async function quickchart(key) {\n",
              "      const quickchartButtonEl =\n",
              "        document.querySelector('#' + key + ' button');\n",
              "      quickchartButtonEl.disabled = true;  // To prevent multiple clicks.\n",
              "      quickchartButtonEl.classList.add('colab-df-spinner');\n",
              "      try {\n",
              "        const charts = await google.colab.kernel.invokeFunction(\n",
              "            'suggestCharts', [key], {});\n",
              "      } catch (error) {\n",
              "        console.error('Error during call to suggestCharts:', error);\n",
              "      }\n",
              "      quickchartButtonEl.classList.remove('colab-df-spinner');\n",
              "      quickchartButtonEl.classList.add('colab-df-quickchart-complete');\n",
              "    }\n",
              "    (() => {\n",
              "      let quickchartButtonEl =\n",
              "        document.querySelector('#df-66d0c5fa-d0e1-43c2-9b70-fe7f06b3525e button');\n",
              "      quickchartButtonEl.style.display =\n",
              "        google.colab.kernel.accessAllowed ? 'block' : 'none';\n",
              "    })();\n",
              "  </script>\n",
              "</div>\n",
              "    </div>\n",
              "  </div>\n"
            ],
            "application/vnd.google.colaboratory.intrinsic+json": {
              "type": "dataframe",
              "summary": "{\n  \"name\": \"metrics[:3]\",\n  \"rows\": 3,\n  \"fields\": [\n    {\n      \"column\": \"loss\",\n      \"properties\": {\n        \"dtype\": \"number\",\n        \"std\": 0.015537010922782543,\n        \"min\": 0.5939322710037231,\n        \"max\": 0.6231581568717957,\n        \"num_unique_values\": 3,\n        \"samples\": [\n          0.6231581568717957,\n          0.599402904510498,\n          0.5939322710037231\n        ],\n        \"semantic_type\": \"\",\n        \"description\": \"\"\n      }\n    },\n    {\n      \"column\": \"accuracy\",\n      \"properties\": {\n        \"dtype\": \"number\",\n        \"std\": 0.013410917294255557,\n        \"min\": 0.6629411578178406,\n        \"max\": 0.6889411807060242,\n        \"num_unique_values\": 3,\n        \"samples\": [\n          0.6629411578178406,\n          0.6816470623016357,\n          0.6889411807060242\n        ],\n        \"semantic_type\": \"\",\n        \"description\": \"\"\n      }\n    },\n    {\n      \"column\": \"val_loss\",\n      \"properties\": {\n        \"dtype\": \"number\",\n        \"std\": 0.007271906658229468,\n        \"min\": 0.5570114850997925,\n        \"max\": 0.5700170993804932,\n        \"num_unique_values\": 3,\n        \"samples\": [\n          0.5691518783569336,\n          0.5700170993804932,\n          0.5570114850997925\n        ],\n        \"semantic_type\": \"\",\n        \"description\": \"\"\n      }\n    },\n    {\n      \"column\": \"val_accuracy\",\n      \"properties\": {\n        \"dtype\": \"number\",\n        \"std\": 0.0015395923670097986,\n        \"min\": 0.7093333601951599,\n        \"max\": 0.7120000123977661,\n        \"num_unique_values\": 2,\n        \"samples\": [\n          0.7093333601951599,\n          0.7120000123977661\n        ],\n        \"semantic_type\": \"\",\n        \"description\": \"\"\n      }\n    },\n    {\n      \"column\": \"epoch\",\n      \"properties\": {\n        \"dtype\": \"number\",\n        \"std\": 1,\n        \"min\": 0,\n        \"max\": 2,\n        \"num_unique_values\": 3,\n        \"samples\": [\n          0,\n          1\n        ],\n        \"semantic_type\": \"\",\n        \"description\": \"\"\n      }\n    }\n  ]\n}"
            }
          },
          "metadata": {},
          "execution_count": 385
        }
      ]
    },
    {
      "cell_type": "markdown",
      "source": [
        "### <a name='a6'></a> Ocena modelu LSTM"
      ],
      "metadata": {
        "id": "c8fsX9-1SaXY"
      }
    },
    {
      "cell_type": "code",
      "source": [
        "import plotly.graph_objects as go\n",
        "from plotly.subplots import make_subplots\n",
        "\n",
        "fig = make_subplots(rows=1, cols=2)\n",
        "fig.add_trace(go.Scatter(x=metrics['epoch'], y=metrics['accuracy'], name='accuracy'), row=1, col=1)\n",
        "fig.add_trace(go.Scatter(x=metrics['epoch'], y=metrics['loss'], name='loss'), row=1, col=2)\n",
        "fig.add_trace(go.Scatter(x=metrics['epoch'], y=metrics['val_accuracy'], name='val_accuracy'), row=1, col=1)\n",
        "fig.add_trace(go.Scatter(x=metrics['epoch'], y=metrics['val_loss'], name='val_loss'), row=1, col=2)\n",
        "\n",
        "fig.update_xaxes(title_text='epochs')\n",
        "fig.update_yaxes(title_text='accuracy')\n",
        "fig.update_layout(width=1000, title='Accuracy and Loss')\n",
        "fig.show()"
      ],
      "metadata": {
        "id": "2XOExmC-wsQV",
        "colab": {
          "base_uri": "https://localhost:8080/",
          "height": 542
        },
        "outputId": "040832ce-4a5e-4e41-ccea-4c0b0cbd5db1"
      },
      "execution_count": 386,
      "outputs": [
        {
          "output_type": "display_data",
          "data": {
            "text/html": [
              "<html>\n",
              "<head><meta charset=\"utf-8\" /></head>\n",
              "<body>\n",
              "    <div>            <script src=\"https://cdnjs.cloudflare.com/ajax/libs/mathjax/2.7.5/MathJax.js?config=TeX-AMS-MML_SVG\"></script><script type=\"text/javascript\">if (window.MathJax && window.MathJax.Hub && window.MathJax.Hub.Config) {window.MathJax.Hub.Config({SVG: {font: \"STIX-Web\"}});}</script>                <script type=\"text/javascript\">window.PlotlyConfig = {MathJaxConfig: 'local'};</script>\n",
              "        <script charset=\"utf-8\" src=\"https://cdn.plot.ly/plotly-2.24.1.min.js\"></script>                <div id=\"e97fb938-4944-4696-a765-e2f6e4113f1a\" class=\"plotly-graph-div\" style=\"height:525px; width:1000px;\"></div>            <script type=\"text/javascript\">                                    window.PLOTLYENV=window.PLOTLYENV || {};                                    if (document.getElementById(\"e97fb938-4944-4696-a765-e2f6e4113f1a\")) {                    Plotly.newPlot(                        \"e97fb938-4944-4696-a765-e2f6e4113f1a\",                        [{\"name\":\"accuracy\",\"x\":[0,1,2,3,4],\"y\":[0.6629411578178406,0.6816470623016357,0.6889411807060242,0.6863529682159424,0.6959999799728394],\"type\":\"scatter\",\"xaxis\":\"x\",\"yaxis\":\"y\"},{\"name\":\"loss\",\"x\":[0,1,2,3,4],\"y\":[0.6231581568717957,0.599402904510498,0.5939322710037231,0.5923512578010559,0.585054337978363],\"type\":\"scatter\",\"xaxis\":\"x2\",\"yaxis\":\"y2\"},{\"name\":\"val_accuracy\",\"x\":[0,1,2,3,4],\"y\":[0.7120000123977661,0.7093333601951599,0.7120000123977661,0.7120000123977661,0.7139999866485596],\"type\":\"scatter\",\"xaxis\":\"x\",\"yaxis\":\"y\"},{\"name\":\"val_loss\",\"x\":[0,1,2,3,4],\"y\":[0.5691518783569336,0.5700170993804932,0.5570114850997925,0.5625029802322388,0.5723249912261963],\"type\":\"scatter\",\"xaxis\":\"x2\",\"yaxis\":\"y2\"}],                        {\"template\":{\"data\":{\"histogram2dcontour\":[{\"type\":\"histogram2dcontour\",\"colorbar\":{\"outlinewidth\":0,\"ticks\":\"\"},\"colorscale\":[[0.0,\"#0d0887\"],[0.1111111111111111,\"#46039f\"],[0.2222222222222222,\"#7201a8\"],[0.3333333333333333,\"#9c179e\"],[0.4444444444444444,\"#bd3786\"],[0.5555555555555556,\"#d8576b\"],[0.6666666666666666,\"#ed7953\"],[0.7777777777777778,\"#fb9f3a\"],[0.8888888888888888,\"#fdca26\"],[1.0,\"#f0f921\"]]}],\"choropleth\":[{\"type\":\"choropleth\",\"colorbar\":{\"outlinewidth\":0,\"ticks\":\"\"}}],\"histogram2d\":[{\"type\":\"histogram2d\",\"colorbar\":{\"outlinewidth\":0,\"ticks\":\"\"},\"colorscale\":[[0.0,\"#0d0887\"],[0.1111111111111111,\"#46039f\"],[0.2222222222222222,\"#7201a8\"],[0.3333333333333333,\"#9c179e\"],[0.4444444444444444,\"#bd3786\"],[0.5555555555555556,\"#d8576b\"],[0.6666666666666666,\"#ed7953\"],[0.7777777777777778,\"#fb9f3a\"],[0.8888888888888888,\"#fdca26\"],[1.0,\"#f0f921\"]]}],\"heatmap\":[{\"type\":\"heatmap\",\"colorbar\":{\"outlinewidth\":0,\"ticks\":\"\"},\"colorscale\":[[0.0,\"#0d0887\"],[0.1111111111111111,\"#46039f\"],[0.2222222222222222,\"#7201a8\"],[0.3333333333333333,\"#9c179e\"],[0.4444444444444444,\"#bd3786\"],[0.5555555555555556,\"#d8576b\"],[0.6666666666666666,\"#ed7953\"],[0.7777777777777778,\"#fb9f3a\"],[0.8888888888888888,\"#fdca26\"],[1.0,\"#f0f921\"]]}],\"heatmapgl\":[{\"type\":\"heatmapgl\",\"colorbar\":{\"outlinewidth\":0,\"ticks\":\"\"},\"colorscale\":[[0.0,\"#0d0887\"],[0.1111111111111111,\"#46039f\"],[0.2222222222222222,\"#7201a8\"],[0.3333333333333333,\"#9c179e\"],[0.4444444444444444,\"#bd3786\"],[0.5555555555555556,\"#d8576b\"],[0.6666666666666666,\"#ed7953\"],[0.7777777777777778,\"#fb9f3a\"],[0.8888888888888888,\"#fdca26\"],[1.0,\"#f0f921\"]]}],\"contourcarpet\":[{\"type\":\"contourcarpet\",\"colorbar\":{\"outlinewidth\":0,\"ticks\":\"\"}}],\"contour\":[{\"type\":\"contour\",\"colorbar\":{\"outlinewidth\":0,\"ticks\":\"\"},\"colorscale\":[[0.0,\"#0d0887\"],[0.1111111111111111,\"#46039f\"],[0.2222222222222222,\"#7201a8\"],[0.3333333333333333,\"#9c179e\"],[0.4444444444444444,\"#bd3786\"],[0.5555555555555556,\"#d8576b\"],[0.6666666666666666,\"#ed7953\"],[0.7777777777777778,\"#fb9f3a\"],[0.8888888888888888,\"#fdca26\"],[1.0,\"#f0f921\"]]}],\"surface\":[{\"type\":\"surface\",\"colorbar\":{\"outlinewidth\":0,\"ticks\":\"\"},\"colorscale\":[[0.0,\"#0d0887\"],[0.1111111111111111,\"#46039f\"],[0.2222222222222222,\"#7201a8\"],[0.3333333333333333,\"#9c179e\"],[0.4444444444444444,\"#bd3786\"],[0.5555555555555556,\"#d8576b\"],[0.6666666666666666,\"#ed7953\"],[0.7777777777777778,\"#fb9f3a\"],[0.8888888888888888,\"#fdca26\"],[1.0,\"#f0f921\"]]}],\"mesh3d\":[{\"type\":\"mesh3d\",\"colorbar\":{\"outlinewidth\":0,\"ticks\":\"\"}}],\"scatter\":[{\"fillpattern\":{\"fillmode\":\"overlay\",\"size\":10,\"solidity\":0.2},\"type\":\"scatter\"}],\"parcoords\":[{\"type\":\"parcoords\",\"line\":{\"colorbar\":{\"outlinewidth\":0,\"ticks\":\"\"}}}],\"scatterpolargl\":[{\"type\":\"scatterpolargl\",\"marker\":{\"colorbar\":{\"outlinewidth\":0,\"ticks\":\"\"}}}],\"bar\":[{\"error_x\":{\"color\":\"#2a3f5f\"},\"error_y\":{\"color\":\"#2a3f5f\"},\"marker\":{\"line\":{\"color\":\"#E5ECF6\",\"width\":0.5},\"pattern\":{\"fillmode\":\"overlay\",\"size\":10,\"solidity\":0.2}},\"type\":\"bar\"}],\"scattergeo\":[{\"type\":\"scattergeo\",\"marker\":{\"colorbar\":{\"outlinewidth\":0,\"ticks\":\"\"}}}],\"scatterpolar\":[{\"type\":\"scatterpolar\",\"marker\":{\"colorbar\":{\"outlinewidth\":0,\"ticks\":\"\"}}}],\"histogram\":[{\"marker\":{\"pattern\":{\"fillmode\":\"overlay\",\"size\":10,\"solidity\":0.2}},\"type\":\"histogram\"}],\"scattergl\":[{\"type\":\"scattergl\",\"marker\":{\"colorbar\":{\"outlinewidth\":0,\"ticks\":\"\"}}}],\"scatter3d\":[{\"type\":\"scatter3d\",\"line\":{\"colorbar\":{\"outlinewidth\":0,\"ticks\":\"\"}},\"marker\":{\"colorbar\":{\"outlinewidth\":0,\"ticks\":\"\"}}}],\"scattermapbox\":[{\"type\":\"scattermapbox\",\"marker\":{\"colorbar\":{\"outlinewidth\":0,\"ticks\":\"\"}}}],\"scatterternary\":[{\"type\":\"scatterternary\",\"marker\":{\"colorbar\":{\"outlinewidth\":0,\"ticks\":\"\"}}}],\"scattercarpet\":[{\"type\":\"scattercarpet\",\"marker\":{\"colorbar\":{\"outlinewidth\":0,\"ticks\":\"\"}}}],\"carpet\":[{\"aaxis\":{\"endlinecolor\":\"#2a3f5f\",\"gridcolor\":\"white\",\"linecolor\":\"white\",\"minorgridcolor\":\"white\",\"startlinecolor\":\"#2a3f5f\"},\"baxis\":{\"endlinecolor\":\"#2a3f5f\",\"gridcolor\":\"white\",\"linecolor\":\"white\",\"minorgridcolor\":\"white\",\"startlinecolor\":\"#2a3f5f\"},\"type\":\"carpet\"}],\"table\":[{\"cells\":{\"fill\":{\"color\":\"#EBF0F8\"},\"line\":{\"color\":\"white\"}},\"header\":{\"fill\":{\"color\":\"#C8D4E3\"},\"line\":{\"color\":\"white\"}},\"type\":\"table\"}],\"barpolar\":[{\"marker\":{\"line\":{\"color\":\"#E5ECF6\",\"width\":0.5},\"pattern\":{\"fillmode\":\"overlay\",\"size\":10,\"solidity\":0.2}},\"type\":\"barpolar\"}],\"pie\":[{\"automargin\":true,\"type\":\"pie\"}]},\"layout\":{\"autotypenumbers\":\"strict\",\"colorway\":[\"#636efa\",\"#EF553B\",\"#00cc96\",\"#ab63fa\",\"#FFA15A\",\"#19d3f3\",\"#FF6692\",\"#B6E880\",\"#FF97FF\",\"#FECB52\"],\"font\":{\"color\":\"#2a3f5f\"},\"hovermode\":\"closest\",\"hoverlabel\":{\"align\":\"left\"},\"paper_bgcolor\":\"white\",\"plot_bgcolor\":\"#E5ECF6\",\"polar\":{\"bgcolor\":\"#E5ECF6\",\"angularaxis\":{\"gridcolor\":\"white\",\"linecolor\":\"white\",\"ticks\":\"\"},\"radialaxis\":{\"gridcolor\":\"white\",\"linecolor\":\"white\",\"ticks\":\"\"}},\"ternary\":{\"bgcolor\":\"#E5ECF6\",\"aaxis\":{\"gridcolor\":\"white\",\"linecolor\":\"white\",\"ticks\":\"\"},\"baxis\":{\"gridcolor\":\"white\",\"linecolor\":\"white\",\"ticks\":\"\"},\"caxis\":{\"gridcolor\":\"white\",\"linecolor\":\"white\",\"ticks\":\"\"}},\"coloraxis\":{\"colorbar\":{\"outlinewidth\":0,\"ticks\":\"\"}},\"colorscale\":{\"sequential\":[[0.0,\"#0d0887\"],[0.1111111111111111,\"#46039f\"],[0.2222222222222222,\"#7201a8\"],[0.3333333333333333,\"#9c179e\"],[0.4444444444444444,\"#bd3786\"],[0.5555555555555556,\"#d8576b\"],[0.6666666666666666,\"#ed7953\"],[0.7777777777777778,\"#fb9f3a\"],[0.8888888888888888,\"#fdca26\"],[1.0,\"#f0f921\"]],\"sequentialminus\":[[0.0,\"#0d0887\"],[0.1111111111111111,\"#46039f\"],[0.2222222222222222,\"#7201a8\"],[0.3333333333333333,\"#9c179e\"],[0.4444444444444444,\"#bd3786\"],[0.5555555555555556,\"#d8576b\"],[0.6666666666666666,\"#ed7953\"],[0.7777777777777778,\"#fb9f3a\"],[0.8888888888888888,\"#fdca26\"],[1.0,\"#f0f921\"]],\"diverging\":[[0,\"#8e0152\"],[0.1,\"#c51b7d\"],[0.2,\"#de77ae\"],[0.3,\"#f1b6da\"],[0.4,\"#fde0ef\"],[0.5,\"#f7f7f7\"],[0.6,\"#e6f5d0\"],[0.7,\"#b8e186\"],[0.8,\"#7fbc41\"],[0.9,\"#4d9221\"],[1,\"#276419\"]]},\"xaxis\":{\"gridcolor\":\"white\",\"linecolor\":\"white\",\"ticks\":\"\",\"title\":{\"standoff\":15},\"zerolinecolor\":\"white\",\"automargin\":true,\"zerolinewidth\":2},\"yaxis\":{\"gridcolor\":\"white\",\"linecolor\":\"white\",\"ticks\":\"\",\"title\":{\"standoff\":15},\"zerolinecolor\":\"white\",\"automargin\":true,\"zerolinewidth\":2},\"scene\":{\"xaxis\":{\"backgroundcolor\":\"#E5ECF6\",\"gridcolor\":\"white\",\"linecolor\":\"white\",\"showbackground\":true,\"ticks\":\"\",\"zerolinecolor\":\"white\",\"gridwidth\":2},\"yaxis\":{\"backgroundcolor\":\"#E5ECF6\",\"gridcolor\":\"white\",\"linecolor\":\"white\",\"showbackground\":true,\"ticks\":\"\",\"zerolinecolor\":\"white\",\"gridwidth\":2},\"zaxis\":{\"backgroundcolor\":\"#E5ECF6\",\"gridcolor\":\"white\",\"linecolor\":\"white\",\"showbackground\":true,\"ticks\":\"\",\"zerolinecolor\":\"white\",\"gridwidth\":2}},\"shapedefaults\":{\"line\":{\"color\":\"#2a3f5f\"}},\"annotationdefaults\":{\"arrowcolor\":\"#2a3f5f\",\"arrowhead\":0,\"arrowwidth\":1},\"geo\":{\"bgcolor\":\"white\",\"landcolor\":\"#E5ECF6\",\"subunitcolor\":\"white\",\"showland\":true,\"showlakes\":true,\"lakecolor\":\"white\"},\"title\":{\"x\":0.05},\"mapbox\":{\"style\":\"light\"}}},\"xaxis\":{\"anchor\":\"y\",\"domain\":[0.0,0.45],\"title\":{\"text\":\"epochs\"}},\"yaxis\":{\"anchor\":\"x\",\"domain\":[0.0,1.0],\"title\":{\"text\":\"accuracy\"}},\"xaxis2\":{\"anchor\":\"y2\",\"domain\":[0.55,1.0],\"title\":{\"text\":\"epochs\"}},\"yaxis2\":{\"anchor\":\"x2\",\"domain\":[0.0,1.0],\"title\":{\"text\":\"accuracy\"}},\"width\":1000,\"title\":{\"text\":\"Accuracy and Loss\"}},                        {\"responsive\": true}                    ).then(function(){\n",
              "                            \n",
              "var gd = document.getElementById('e97fb938-4944-4696-a765-e2f6e4113f1a');\n",
              "var x = new MutationObserver(function (mutations, observer) {{\n",
              "        var display = window.getComputedStyle(gd).display;\n",
              "        if (!display || display === 'none') {{\n",
              "            console.log([gd, 'removed!']);\n",
              "            Plotly.purge(gd);\n",
              "            observer.disconnect();\n",
              "        }}\n",
              "}});\n",
              "\n",
              "// Listen for the removal of the full notebook cells\n",
              "var notebookContainer = gd.closest('#notebook-container');\n",
              "if (notebookContainer) {{\n",
              "    x.observe(notebookContainer, {childList: true});\n",
              "}}\n",
              "\n",
              "// Listen for the clearing of the current output cell\n",
              "var outputEl = gd.closest('.output');\n",
              "if (outputEl) {{\n",
              "    x.observe(outputEl, {childList: true});\n",
              "}}\n",
              "\n",
              "                        })                };                            </script>        </div>\n",
              "</body>\n",
              "</html>"
            ]
          },
          "metadata": {}
        }
      ]
    },
    {
      "cell_type": "code",
      "source": [
        "# nie wiem co to za blok\n",
        "from keras.utils import to_categorical\n",
        "\n",
        "y_train = to_categorical(y_train, num_classes=10)\n",
        "y_test_cat = to_categorical(y_test, num_classes=10)"
      ],
      "metadata": {
        "id": "msrI6vC5xw3H"
      },
      "execution_count": 387,
      "outputs": []
    },
    {
      "cell_type": "code",
      "source": [
        "test_loss, test_acc = model.evaluate(x_test, y_test, verbose=0)\n",
        "print(test_acc)"
      ],
      "metadata": {
        "id": "DEKIy3Pdwuqs",
        "colab": {
          "base_uri": "https://localhost:8080/"
        },
        "outputId": "16993306-e39a-44b7-cc50-9c2d5e1e8d54"
      },
      "execution_count": 388,
      "outputs": [
        {
          "output_type": "stream",
          "name": "stdout",
          "text": [
            "0.7139999866485596\n"
          ]
        }
      ]
    },
    {
      "cell_type": "markdown",
      "source": [
        "### <a name='a7'></a> Graf zielono czerwony"
      ],
      "metadata": {
        "id": "EXfoIx7zUJLQ"
      }
    },
    {
      "cell_type": "code",
      "source": [
        "# Połączenie dwóch tablic\n",
        "concat = np.hstack((predict_classes, Y_test[:,2:]))\n",
        "print(concat.shape)\n",
        "print(concat[:3])"
      ],
      "metadata": {
        "id": "ZEJOPSNBVDC6",
        "colab": {
          "base_uri": "https://localhost:8080/"
        },
        "outputId": "7477c3d3-35b6-4b80-d56a-0a82c12b32e7"
      },
      "execution_count": 389,
      "outputs": [
        {
          "output_type": "stream",
          "name": "stdout",
          "text": [
            "(1500, 3)\n",
            "[[ 1.    0.   87.53]\n",
            " [ 1.    0.   87.52]\n",
            " [ 1.    0.   87.55]]\n"
          ]
        }
      ]
    },
    {
      "cell_type": "code",
      "source": [
        "import plotly.express as px\n",
        "import pandas as pd\n",
        "\n",
        "# Tworzenie Date Frame\n",
        "df = pd.DataFrame(concat, columns=['Sell', 'Buy', 'Price'])\n",
        "df.head(5)"
      ],
      "metadata": {
        "id": "FdY1159qUqXN",
        "colab": {
          "base_uri": "https://localhost:8080/",
          "height": 206
        },
        "outputId": "d85a41c4-a757-4ca7-8559-80722615d8eb"
      },
      "execution_count": 390,
      "outputs": [
        {
          "output_type": "execute_result",
          "data": {
            "text/plain": [
              "      Sell      Buy     Price\n",
              "0 1.000000 0.000000 87.530000\n",
              "1 1.000000 0.000000 87.520000\n",
              "2 1.000000 0.000000 87.550000\n",
              "3 1.000000 0.000000 87.510000\n",
              "4 1.000000 0.000000 87.530000"
            ],
            "text/html": [
              "\n",
              "  <div id=\"df-c71fff9f-4922-4603-981b-a8cf577c9a24\" class=\"colab-df-container\">\n",
              "    <div>\n",
              "<style scoped>\n",
              "    .dataframe tbody tr th:only-of-type {\n",
              "        vertical-align: middle;\n",
              "    }\n",
              "\n",
              "    .dataframe tbody tr th {\n",
              "        vertical-align: top;\n",
              "    }\n",
              "\n",
              "    .dataframe thead th {\n",
              "        text-align: right;\n",
              "    }\n",
              "</style>\n",
              "<table border=\"1\" class=\"dataframe\">\n",
              "  <thead>\n",
              "    <tr style=\"text-align: right;\">\n",
              "      <th></th>\n",
              "      <th>Sell</th>\n",
              "      <th>Buy</th>\n",
              "      <th>Price</th>\n",
              "    </tr>\n",
              "  </thead>\n",
              "  <tbody>\n",
              "    <tr>\n",
              "      <th>0</th>\n",
              "      <td>1.000000</td>\n",
              "      <td>0.000000</td>\n",
              "      <td>87.530000</td>\n",
              "    </tr>\n",
              "    <tr>\n",
              "      <th>1</th>\n",
              "      <td>1.000000</td>\n",
              "      <td>0.000000</td>\n",
              "      <td>87.520000</td>\n",
              "    </tr>\n",
              "    <tr>\n",
              "      <th>2</th>\n",
              "      <td>1.000000</td>\n",
              "      <td>0.000000</td>\n",
              "      <td>87.550000</td>\n",
              "    </tr>\n",
              "    <tr>\n",
              "      <th>3</th>\n",
              "      <td>1.000000</td>\n",
              "      <td>0.000000</td>\n",
              "      <td>87.510000</td>\n",
              "    </tr>\n",
              "    <tr>\n",
              "      <th>4</th>\n",
              "      <td>1.000000</td>\n",
              "      <td>0.000000</td>\n",
              "      <td>87.530000</td>\n",
              "    </tr>\n",
              "  </tbody>\n",
              "</table>\n",
              "</div>\n",
              "    <div class=\"colab-df-buttons\">\n",
              "\n",
              "  <div class=\"colab-df-container\">\n",
              "    <button class=\"colab-df-convert\" onclick=\"convertToInteractive('df-c71fff9f-4922-4603-981b-a8cf577c9a24')\"\n",
              "            title=\"Convert this dataframe to an interactive table.\"\n",
              "            style=\"display:none;\">\n",
              "\n",
              "  <svg xmlns=\"http://www.w3.org/2000/svg\" height=\"24px\" viewBox=\"0 -960 960 960\">\n",
              "    <path d=\"M120-120v-720h720v720H120Zm60-500h600v-160H180v160Zm220 220h160v-160H400v160Zm0 220h160v-160H400v160ZM180-400h160v-160H180v160Zm440 0h160v-160H620v160ZM180-180h160v-160H180v160Zm440 0h160v-160H620v160Z\"/>\n",
              "  </svg>\n",
              "    </button>\n",
              "\n",
              "  <style>\n",
              "    .colab-df-container {\n",
              "      display:flex;\n",
              "      gap: 12px;\n",
              "    }\n",
              "\n",
              "    .colab-df-convert {\n",
              "      background-color: #E8F0FE;\n",
              "      border: none;\n",
              "      border-radius: 50%;\n",
              "      cursor: pointer;\n",
              "      display: none;\n",
              "      fill: #1967D2;\n",
              "      height: 32px;\n",
              "      padding: 0 0 0 0;\n",
              "      width: 32px;\n",
              "    }\n",
              "\n",
              "    .colab-df-convert:hover {\n",
              "      background-color: #E2EBFA;\n",
              "      box-shadow: 0px 1px 2px rgba(60, 64, 67, 0.3), 0px 1px 3px 1px rgba(60, 64, 67, 0.15);\n",
              "      fill: #174EA6;\n",
              "    }\n",
              "\n",
              "    .colab-df-buttons div {\n",
              "      margin-bottom: 4px;\n",
              "    }\n",
              "\n",
              "    [theme=dark] .colab-df-convert {\n",
              "      background-color: #3B4455;\n",
              "      fill: #D2E3FC;\n",
              "    }\n",
              "\n",
              "    [theme=dark] .colab-df-convert:hover {\n",
              "      background-color: #434B5C;\n",
              "      box-shadow: 0px 1px 3px 1px rgba(0, 0, 0, 0.15);\n",
              "      filter: drop-shadow(0px 1px 2px rgba(0, 0, 0, 0.3));\n",
              "      fill: #FFFFFF;\n",
              "    }\n",
              "  </style>\n",
              "\n",
              "    <script>\n",
              "      const buttonEl =\n",
              "        document.querySelector('#df-c71fff9f-4922-4603-981b-a8cf577c9a24 button.colab-df-convert');\n",
              "      buttonEl.style.display =\n",
              "        google.colab.kernel.accessAllowed ? 'block' : 'none';\n",
              "\n",
              "      async function convertToInteractive(key) {\n",
              "        const element = document.querySelector('#df-c71fff9f-4922-4603-981b-a8cf577c9a24');\n",
              "        const dataTable =\n",
              "          await google.colab.kernel.invokeFunction('convertToInteractive',\n",
              "                                                    [key], {});\n",
              "        if (!dataTable) return;\n",
              "\n",
              "        const docLinkHtml = 'Like what you see? Visit the ' +\n",
              "          '<a target=\"_blank\" href=https://colab.research.google.com/notebooks/data_table.ipynb>data table notebook</a>'\n",
              "          + ' to learn more about interactive tables.';\n",
              "        element.innerHTML = '';\n",
              "        dataTable['output_type'] = 'display_data';\n",
              "        await google.colab.output.renderOutput(dataTable, element);\n",
              "        const docLink = document.createElement('div');\n",
              "        docLink.innerHTML = docLinkHtml;\n",
              "        element.appendChild(docLink);\n",
              "      }\n",
              "    </script>\n",
              "  </div>\n",
              "\n",
              "\n",
              "<div id=\"df-4ddcb12d-8480-45bc-857c-edcddbe396e1\">\n",
              "  <button class=\"colab-df-quickchart\" onclick=\"quickchart('df-4ddcb12d-8480-45bc-857c-edcddbe396e1')\"\n",
              "            title=\"Suggest charts\"\n",
              "            style=\"display:none;\">\n",
              "\n",
              "<svg xmlns=\"http://www.w3.org/2000/svg\" height=\"24px\"viewBox=\"0 0 24 24\"\n",
              "     width=\"24px\">\n",
              "    <g>\n",
              "        <path d=\"M19 3H5c-1.1 0-2 .9-2 2v14c0 1.1.9 2 2 2h14c1.1 0 2-.9 2-2V5c0-1.1-.9-2-2-2zM9 17H7v-7h2v7zm4 0h-2V7h2v10zm4 0h-2v-4h2v4z\"/>\n",
              "    </g>\n",
              "</svg>\n",
              "  </button>\n",
              "\n",
              "<style>\n",
              "  .colab-df-quickchart {\n",
              "      --bg-color: #E8F0FE;\n",
              "      --fill-color: #1967D2;\n",
              "      --hover-bg-color: #E2EBFA;\n",
              "      --hover-fill-color: #174EA6;\n",
              "      --disabled-fill-color: #AAA;\n",
              "      --disabled-bg-color: #DDD;\n",
              "  }\n",
              "\n",
              "  [theme=dark] .colab-df-quickchart {\n",
              "      --bg-color: #3B4455;\n",
              "      --fill-color: #D2E3FC;\n",
              "      --hover-bg-color: #434B5C;\n",
              "      --hover-fill-color: #FFFFFF;\n",
              "      --disabled-bg-color: #3B4455;\n",
              "      --disabled-fill-color: #666;\n",
              "  }\n",
              "\n",
              "  .colab-df-quickchart {\n",
              "    background-color: var(--bg-color);\n",
              "    border: none;\n",
              "    border-radius: 50%;\n",
              "    cursor: pointer;\n",
              "    display: none;\n",
              "    fill: var(--fill-color);\n",
              "    height: 32px;\n",
              "    padding: 0;\n",
              "    width: 32px;\n",
              "  }\n",
              "\n",
              "  .colab-df-quickchart:hover {\n",
              "    background-color: var(--hover-bg-color);\n",
              "    box-shadow: 0 1px 2px rgba(60, 64, 67, 0.3), 0 1px 3px 1px rgba(60, 64, 67, 0.15);\n",
              "    fill: var(--button-hover-fill-color);\n",
              "  }\n",
              "\n",
              "  .colab-df-quickchart-complete:disabled,\n",
              "  .colab-df-quickchart-complete:disabled:hover {\n",
              "    background-color: var(--disabled-bg-color);\n",
              "    fill: var(--disabled-fill-color);\n",
              "    box-shadow: none;\n",
              "  }\n",
              "\n",
              "  .colab-df-spinner {\n",
              "    border: 2px solid var(--fill-color);\n",
              "    border-color: transparent;\n",
              "    border-bottom-color: var(--fill-color);\n",
              "    animation:\n",
              "      spin 1s steps(1) infinite;\n",
              "  }\n",
              "\n",
              "  @keyframes spin {\n",
              "    0% {\n",
              "      border-color: transparent;\n",
              "      border-bottom-color: var(--fill-color);\n",
              "      border-left-color: var(--fill-color);\n",
              "    }\n",
              "    20% {\n",
              "      border-color: transparent;\n",
              "      border-left-color: var(--fill-color);\n",
              "      border-top-color: var(--fill-color);\n",
              "    }\n",
              "    30% {\n",
              "      border-color: transparent;\n",
              "      border-left-color: var(--fill-color);\n",
              "      border-top-color: var(--fill-color);\n",
              "      border-right-color: var(--fill-color);\n",
              "    }\n",
              "    40% {\n",
              "      border-color: transparent;\n",
              "      border-right-color: var(--fill-color);\n",
              "      border-top-color: var(--fill-color);\n",
              "    }\n",
              "    60% {\n",
              "      border-color: transparent;\n",
              "      border-right-color: var(--fill-color);\n",
              "    }\n",
              "    80% {\n",
              "      border-color: transparent;\n",
              "      border-right-color: var(--fill-color);\n",
              "      border-bottom-color: var(--fill-color);\n",
              "    }\n",
              "    90% {\n",
              "      border-color: transparent;\n",
              "      border-bottom-color: var(--fill-color);\n",
              "    }\n",
              "  }\n",
              "</style>\n",
              "\n",
              "  <script>\n",
              "    async function quickchart(key) {\n",
              "      const quickchartButtonEl =\n",
              "        document.querySelector('#' + key + ' button');\n",
              "      quickchartButtonEl.disabled = true;  // To prevent multiple clicks.\n",
              "      quickchartButtonEl.classList.add('colab-df-spinner');\n",
              "      try {\n",
              "        const charts = await google.colab.kernel.invokeFunction(\n",
              "            'suggestCharts', [key], {});\n",
              "      } catch (error) {\n",
              "        console.error('Error during call to suggestCharts:', error);\n",
              "      }\n",
              "      quickchartButtonEl.classList.remove('colab-df-spinner');\n",
              "      quickchartButtonEl.classList.add('colab-df-quickchart-complete');\n",
              "    }\n",
              "    (() => {\n",
              "      let quickchartButtonEl =\n",
              "        document.querySelector('#df-4ddcb12d-8480-45bc-857c-edcddbe396e1 button');\n",
              "      quickchartButtonEl.style.display =\n",
              "        google.colab.kernel.accessAllowed ? 'block' : 'none';\n",
              "    })();\n",
              "  </script>\n",
              "</div>\n",
              "    </div>\n",
              "  </div>\n"
            ],
            "application/vnd.google.colaboratory.intrinsic+json": {
              "type": "dataframe",
              "variable_name": "df",
              "summary": "{\n  \"name\": \"df\",\n  \"rows\": 1500,\n  \"fields\": [\n    {\n      \"column\": \"Sell\",\n      \"properties\": {\n        \"dtype\": \"number\",\n        \"std\": 0.5001507444542284,\n        \"min\": 0.0,\n        \"max\": 1.0,\n        \"num_unique_values\": 2,\n        \"samples\": [\n          0.0,\n          1.0\n        ],\n        \"semantic_type\": \"\",\n        \"description\": \"\"\n      }\n    },\n    {\n      \"column\": \"Buy\",\n      \"properties\": {\n        \"dtype\": \"number\",\n        \"std\": 0.5001507444542282,\n        \"min\": 0.0,\n        \"max\": 1.0,\n        \"num_unique_values\": 2,\n        \"samples\": [\n          1.0,\n          0.0\n        ],\n        \"semantic_type\": \"\",\n        \"description\": \"\"\n      }\n    },\n    {\n      \"column\": \"Price\",\n      \"properties\": {\n        \"dtype\": \"number\",\n        \"std\": 2.007397576459516,\n        \"min\": 85.19,\n        \"max\": 92.77,\n        \"num_unique_values\": 539,\n        \"samples\": [\n          91.56,\n          87.32\n        ],\n        \"semantic_type\": \"\",\n        \"description\": \"\"\n      }\n    }\n  ]\n}"
            }
          },
          "metadata": {},
          "execution_count": 390
        }
      ]
    },
    {
      "cell_type": "code",
      "source": [
        "import plotly.graph_objects as go\n",
        "import pandas as pd\n",
        "\n",
        "# Tworzenie wykresu liniowego\n",
        "fig = go.Figure()\n",
        "\n",
        "start = 1\n",
        "end = start + 1480\n",
        "\n",
        "# Dodawanie linii do wykresu\n",
        "for i in range(start, len(df[:end])):\n",
        "    color = 'green' if df.at[i, 'Buy'] == 1 else 'red'\n",
        "    fig.add_trace(go.Scatter(x=[i-1, i], y=[df.at[i-1, 'Price'], df.at[i, 'Price']], line=dict(color=color), showlegend=False))\n",
        "\n",
        "# Ustawienia osi i tytuł\n",
        "fig.update_layout(\n",
        "    xaxis_title='Indeks',\n",
        "    yaxis_title='Close',\n",
        "    title='Wykres liniowy z kolorami'\n",
        ")\n",
        "\n",
        "# Wyświetlanie wykresu\n",
        "fig.show()"
      ],
      "metadata": {
        "id": "SahOH5S5UFs4",
        "colab": {
          "base_uri": "https://localhost:8080/",
          "height": 542
        },
        "outputId": "c7ac049d-2bbe-46da-8d24-f0ed5a666b04"
      },
      "execution_count": 391,
      "outputs": [
        {
          "output_type": "display_data",
          "data": {
            "text/html": [
              "<html>\n",
              "<head><meta charset=\"utf-8\" /></head>\n",
              "<body>\n",
              "    <div>            <script src=\"https://cdnjs.cloudflare.com/ajax/libs/mathjax/2.7.5/MathJax.js?config=TeX-AMS-MML_SVG\"></script><script type=\"text/javascript\">if (window.MathJax && window.MathJax.Hub && window.MathJax.Hub.Config) {window.MathJax.Hub.Config({SVG: {font: \"STIX-Web\"}});}</script>                <script type=\"text/javascript\">window.PlotlyConfig = {MathJaxConfig: 'local'};</script>\n",
              "        <script charset=\"utf-8\" src=\"https://cdn.plot.ly/plotly-2.24.1.min.js\"></script>                <div id=\"c9d800d9-9520-4230-87df-51d9e5826bec\" class=\"plotly-graph-div\" style=\"height:525px; width:100%;\"></div>            <script type=\"text/javascript\">                                    window.PLOTLYENV=window.PLOTLYENV || {};                                    if (document.getElementById(\"c9d800d9-9520-4230-87df-51d9e5826bec\")) {                    Plotly.newPlot(                        \"c9d800d9-9520-4230-87df-51d9e5826bec\",                        [{\"line\":{\"color\":\"red\"},\"showlegend\":false,\"x\":[0,1],\"y\":[87.53,87.52],\"type\":\"scatter\"},{\"line\":{\"color\":\"red\"},\"showlegend\":false,\"x\":[1,2],\"y\":[87.52,87.55],\"type\":\"scatter\"},{\"line\":{\"color\":\"red\"},\"showlegend\":false,\"x\":[2,3],\"y\":[87.55,87.51],\"type\":\"scatter\"},{\"line\":{\"color\":\"red\"},\"showlegend\":false,\"x\":[3,4],\"y\":[87.51,87.53],\"type\":\"scatter\"},{\"line\":{\"color\":\"red\"},\"showlegend\":false,\"x\":[4,5],\"y\":[87.53,87.52],\"type\":\"scatter\"},{\"line\":{\"color\":\"red\"},\"showlegend\":false,\"x\":[5,6],\"y\":[87.52,87.48],\"type\":\"scatter\"},{\"line\":{\"color\":\"red\"},\"showlegend\":false,\"x\":[6,7],\"y\":[87.48,87.48],\"type\":\"scatter\"},{\"line\":{\"color\":\"red\"},\"showlegend\":false,\"x\":[7,8],\"y\":[87.48,87.49],\"type\":\"scatter\"},{\"line\":{\"color\":\"red\"},\"showlegend\":false,\"x\":[8,9],\"y\":[87.49,87.5],\"type\":\"scatter\"},{\"line\":{\"color\":\"red\"},\"showlegend\":false,\"x\":[9,10],\"y\":[87.5,87.51],\"type\":\"scatter\"},{\"line\":{\"color\":\"red\"},\"showlegend\":false,\"x\":[10,11],\"y\":[87.51,87.51],\"type\":\"scatter\"},{\"line\":{\"color\":\"red\"},\"showlegend\":false,\"x\":[11,12],\"y\":[87.51,87.49],\"type\":\"scatter\"},{\"line\":{\"color\":\"red\"},\"showlegend\":false,\"x\":[12,13],\"y\":[87.49,87.56],\"type\":\"scatter\"},{\"line\":{\"color\":\"green\"},\"showlegend\":false,\"x\":[13,14],\"y\":[87.56,87.59],\"type\":\"scatter\"},{\"line\":{\"color\":\"green\"},\"showlegend\":false,\"x\":[14,15],\"y\":[87.59,87.56],\"type\":\"scatter\"},{\"line\":{\"color\":\"green\"},\"showlegend\":false,\"x\":[15,16],\"y\":[87.56,87.58],\"type\":\"scatter\"},{\"line\":{\"color\":\"green\"},\"showlegend\":false,\"x\":[16,17],\"y\":[87.58,87.56],\"type\":\"scatter\"},{\"line\":{\"color\":\"green\"},\"showlegend\":false,\"x\":[17,18],\"y\":[87.56,87.56],\"type\":\"scatter\"},{\"line\":{\"color\":\"green\"},\"showlegend\":false,\"x\":[18,19],\"y\":[87.56,87.55],\"type\":\"scatter\"},{\"line\":{\"color\":\"green\"},\"showlegend\":false,\"x\":[19,20],\"y\":[87.55,87.6],\"type\":\"scatter\"},{\"line\":{\"color\":\"green\"},\"showlegend\":false,\"x\":[20,21],\"y\":[87.6,87.64],\"type\":\"scatter\"},{\"line\":{\"color\":\"green\"},\"showlegend\":false,\"x\":[21,22],\"y\":[87.64,87.65],\"type\":\"scatter\"},{\"line\":{\"color\":\"green\"},\"showlegend\":false,\"x\":[22,23],\"y\":[87.65,87.68],\"type\":\"scatter\"},{\"line\":{\"color\":\"green\"},\"showlegend\":false,\"x\":[23,24],\"y\":[87.68,87.66],\"type\":\"scatter\"},{\"line\":{\"color\":\"green\"},\"showlegend\":false,\"x\":[24,25],\"y\":[87.66,87.68],\"type\":\"scatter\"},{\"line\":{\"color\":\"green\"},\"showlegend\":false,\"x\":[25,26],\"y\":[87.68,87.68],\"type\":\"scatter\"},{\"line\":{\"color\":\"green\"},\"showlegend\":false,\"x\":[26,27],\"y\":[87.68,87.69],\"type\":\"scatter\"},{\"line\":{\"color\":\"green\"},\"showlegend\":false,\"x\":[27,28],\"y\":[87.69,87.64],\"type\":\"scatter\"},{\"line\":{\"color\":\"red\"},\"showlegend\":false,\"x\":[28,29],\"y\":[87.64,87.61],\"type\":\"scatter\"},{\"line\":{\"color\":\"red\"},\"showlegend\":false,\"x\":[29,30],\"y\":[87.61,87.63],\"type\":\"scatter\"},{\"line\":{\"color\":\"red\"},\"showlegend\":false,\"x\":[30,31],\"y\":[87.63,87.64],\"type\":\"scatter\"},{\"line\":{\"color\":\"red\"},\"showlegend\":false,\"x\":[31,32],\"y\":[87.64,87.74],\"type\":\"scatter\"},{\"line\":{\"color\":\"green\"},\"showlegend\":false,\"x\":[32,33],\"y\":[87.74,87.72],\"type\":\"scatter\"},{\"line\":{\"color\":\"green\"},\"showlegend\":false,\"x\":[33,34],\"y\":[87.72,87.74],\"type\":\"scatter\"},{\"line\":{\"color\":\"green\"},\"showlegend\":false,\"x\":[34,35],\"y\":[87.74,87.76],\"type\":\"scatter\"},{\"line\":{\"color\":\"green\"},\"showlegend\":false,\"x\":[35,36],\"y\":[87.76,87.74],\"type\":\"scatter\"},{\"line\":{\"color\":\"green\"},\"showlegend\":false,\"x\":[36,37],\"y\":[87.74,87.77],\"type\":\"scatter\"},{\"line\":{\"color\":\"green\"},\"showlegend\":false,\"x\":[37,38],\"y\":[87.77,87.78],\"type\":\"scatter\"},{\"line\":{\"color\":\"green\"},\"showlegend\":false,\"x\":[38,39],\"y\":[87.78,87.85],\"type\":\"scatter\"},{\"line\":{\"color\":\"green\"},\"showlegend\":false,\"x\":[39,40],\"y\":[87.85,87.93],\"type\":\"scatter\"},{\"line\":{\"color\":\"green\"},\"showlegend\":false,\"x\":[40,41],\"y\":[87.93,87.93],\"type\":\"scatter\"},{\"line\":{\"color\":\"green\"},\"showlegend\":false,\"x\":[41,42],\"y\":[87.93,87.88],\"type\":\"scatter\"},{\"line\":{\"color\":\"green\"},\"showlegend\":false,\"x\":[42,43],\"y\":[87.88,87.96],\"type\":\"scatter\"},{\"line\":{\"color\":\"green\"},\"showlegend\":false,\"x\":[43,44],\"y\":[87.96,87.84],\"type\":\"scatter\"},{\"line\":{\"color\":\"red\"},\"showlegend\":false,\"x\":[44,45],\"y\":[87.84,87.78],\"type\":\"scatter\"},{\"line\":{\"color\":\"red\"},\"showlegend\":false,\"x\":[45,46],\"y\":[87.78,87.84],\"type\":\"scatter\"},{\"line\":{\"color\":\"red\"},\"showlegend\":false,\"x\":[46,47],\"y\":[87.84,87.8],\"type\":\"scatter\"},{\"line\":{\"color\":\"red\"},\"showlegend\":false,\"x\":[47,48],\"y\":[87.8,87.78],\"type\":\"scatter\"},{\"line\":{\"color\":\"red\"},\"showlegend\":false,\"x\":[48,49],\"y\":[87.78,87.75],\"type\":\"scatter\"},{\"line\":{\"color\":\"red\"},\"showlegend\":false,\"x\":[49,50],\"y\":[87.75,87.76],\"type\":\"scatter\"},{\"line\":{\"color\":\"red\"},\"showlegend\":false,\"x\":[50,51],\"y\":[87.76,87.75],\"type\":\"scatter\"},{\"line\":{\"color\":\"red\"},\"showlegend\":false,\"x\":[51,52],\"y\":[87.75,87.87],\"type\":\"scatter\"},{\"line\":{\"color\":\"green\"},\"showlegend\":false,\"x\":[52,53],\"y\":[87.87,87.83],\"type\":\"scatter\"},{\"line\":{\"color\":\"red\"},\"showlegend\":false,\"x\":[53,54],\"y\":[87.83,87.77],\"type\":\"scatter\"},{\"line\":{\"color\":\"red\"},\"showlegend\":false,\"x\":[54,55],\"y\":[87.77,87.77],\"type\":\"scatter\"},{\"line\":{\"color\":\"red\"},\"showlegend\":false,\"x\":[55,56],\"y\":[87.77,87.76],\"type\":\"scatter\"},{\"line\":{\"color\":\"red\"},\"showlegend\":false,\"x\":[56,57],\"y\":[87.76,87.85],\"type\":\"scatter\"},{\"line\":{\"color\":\"red\"},\"showlegend\":false,\"x\":[57,58],\"y\":[87.85,87.83],\"type\":\"scatter\"},{\"line\":{\"color\":\"green\"},\"showlegend\":false,\"x\":[58,59],\"y\":[87.83,87.87],\"type\":\"scatter\"},{\"line\":{\"color\":\"green\"},\"showlegend\":false,\"x\":[59,60],\"y\":[87.87,87.88],\"type\":\"scatter\"},{\"line\":{\"color\":\"green\"},\"showlegend\":false,\"x\":[60,61],\"y\":[87.88,87.9],\"type\":\"scatter\"},{\"line\":{\"color\":\"green\"},\"showlegend\":false,\"x\":[61,62],\"y\":[87.9,87.89],\"type\":\"scatter\"},{\"line\":{\"color\":\"green\"},\"showlegend\":false,\"x\":[62,63],\"y\":[87.89,87.96],\"type\":\"scatter\"},{\"line\":{\"color\":\"green\"},\"showlegend\":false,\"x\":[63,64],\"y\":[87.96,87.95],\"type\":\"scatter\"},{\"line\":{\"color\":\"green\"},\"showlegend\":false,\"x\":[64,65],\"y\":[87.95,87.96],\"type\":\"scatter\"},{\"line\":{\"color\":\"green\"},\"showlegend\":false,\"x\":[65,66],\"y\":[87.96,87.93],\"type\":\"scatter\"},{\"line\":{\"color\":\"green\"},\"showlegend\":false,\"x\":[66,67],\"y\":[87.93,87.91],\"type\":\"scatter\"},{\"line\":{\"color\":\"green\"},\"showlegend\":false,\"x\":[67,68],\"y\":[87.91,87.88],\"type\":\"scatter\"},{\"line\":{\"color\":\"green\"},\"showlegend\":false,\"x\":[68,69],\"y\":[87.88,87.9],\"type\":\"scatter\"},{\"line\":{\"color\":\"green\"},\"showlegend\":false,\"x\":[69,70],\"y\":[87.9,87.85],\"type\":\"scatter\"},{\"line\":{\"color\":\"green\"},\"showlegend\":false,\"x\":[70,71],\"y\":[87.85,87.85],\"type\":\"scatter\"},{\"line\":{\"color\":\"red\"},\"showlegend\":false,\"x\":[71,72],\"y\":[87.85,87.87],\"type\":\"scatter\"},{\"line\":{\"color\":\"red\"},\"showlegend\":false,\"x\":[72,73],\"y\":[87.87,87.87],\"type\":\"scatter\"},{\"line\":{\"color\":\"green\"},\"showlegend\":false,\"x\":[73,74],\"y\":[87.87,87.91],\"type\":\"scatter\"},{\"line\":{\"color\":\"green\"},\"showlegend\":false,\"x\":[74,75],\"y\":[87.91,87.86],\"type\":\"scatter\"},{\"line\":{\"color\":\"green\"},\"showlegend\":false,\"x\":[75,76],\"y\":[87.86,87.85],\"type\":\"scatter\"},{\"line\":{\"color\":\"red\"},\"showlegend\":false,\"x\":[76,77],\"y\":[87.85,87.87],\"type\":\"scatter\"},{\"line\":{\"color\":\"red\"},\"showlegend\":false,\"x\":[77,78],\"y\":[87.87,87.89],\"type\":\"scatter\"},{\"line\":{\"color\":\"green\"},\"showlegend\":false,\"x\":[78,79],\"y\":[87.89,87.92],\"type\":\"scatter\"},{\"line\":{\"color\":\"green\"},\"showlegend\":false,\"x\":[79,80],\"y\":[87.92,87.92],\"type\":\"scatter\"},{\"line\":{\"color\":\"green\"},\"showlegend\":false,\"x\":[80,81],\"y\":[87.92,87.95],\"type\":\"scatter\"},{\"line\":{\"color\":\"green\"},\"showlegend\":false,\"x\":[81,82],\"y\":[87.95,87.95],\"type\":\"scatter\"},{\"line\":{\"color\":\"green\"},\"showlegend\":false,\"x\":[82,83],\"y\":[87.95,87.92],\"type\":\"scatter\"},{\"line\":{\"color\":\"green\"},\"showlegend\":false,\"x\":[83,84],\"y\":[87.92,87.92],\"type\":\"scatter\"},{\"line\":{\"color\":\"green\"},\"showlegend\":false,\"x\":[84,85],\"y\":[87.92,87.93],\"type\":\"scatter\"},{\"line\":{\"color\":\"green\"},\"showlegend\":false,\"x\":[85,86],\"y\":[87.93,87.93],\"type\":\"scatter\"},{\"line\":{\"color\":\"green\"},\"showlegend\":false,\"x\":[86,87],\"y\":[87.93,87.9],\"type\":\"scatter\"},{\"line\":{\"color\":\"green\"},\"showlegend\":false,\"x\":[87,88],\"y\":[87.9,87.93],\"type\":\"scatter\"},{\"line\":{\"color\":\"green\"},\"showlegend\":false,\"x\":[88,89],\"y\":[87.93,87.93],\"type\":\"scatter\"},{\"line\":{\"color\":\"green\"},\"showlegend\":false,\"x\":[89,90],\"y\":[87.93,87.93],\"type\":\"scatter\"},{\"line\":{\"color\":\"green\"},\"showlegend\":false,\"x\":[90,91],\"y\":[87.93,87.9],\"type\":\"scatter\"},{\"line\":{\"color\":\"green\"},\"showlegend\":false,\"x\":[91,92],\"y\":[87.9,87.91],\"type\":\"scatter\"},{\"line\":{\"color\":\"green\"},\"showlegend\":false,\"x\":[92,93],\"y\":[87.91,87.96],\"type\":\"scatter\"},{\"line\":{\"color\":\"green\"},\"showlegend\":false,\"x\":[93,94],\"y\":[87.96,87.96],\"type\":\"scatter\"},{\"line\":{\"color\":\"green\"},\"showlegend\":false,\"x\":[94,95],\"y\":[87.96,87.97],\"type\":\"scatter\"},{\"line\":{\"color\":\"green\"},\"showlegend\":false,\"x\":[95,96],\"y\":[87.97,88.02],\"type\":\"scatter\"},{\"line\":{\"color\":\"green\"},\"showlegend\":false,\"x\":[96,97],\"y\":[88.02,87.99],\"type\":\"scatter\"},{\"line\":{\"color\":\"green\"},\"showlegend\":false,\"x\":[97,98],\"y\":[87.99,87.97],\"type\":\"scatter\"},{\"line\":{\"color\":\"green\"},\"showlegend\":false,\"x\":[98,99],\"y\":[87.97,87.91],\"type\":\"scatter\"},{\"line\":{\"color\":\"red\"},\"showlegend\":false,\"x\":[99,100],\"y\":[87.91,87.86],\"type\":\"scatter\"},{\"line\":{\"color\":\"red\"},\"showlegend\":false,\"x\":[100,101],\"y\":[87.86,87.84],\"type\":\"scatter\"},{\"line\":{\"color\":\"red\"},\"showlegend\":false,\"x\":[101,102],\"y\":[87.84,87.82],\"type\":\"scatter\"},{\"line\":{\"color\":\"red\"},\"showlegend\":false,\"x\":[102,103],\"y\":[87.82,87.82],\"type\":\"scatter\"},{\"line\":{\"color\":\"red\"},\"showlegend\":false,\"x\":[103,104],\"y\":[87.82,87.78],\"type\":\"scatter\"},{\"line\":{\"color\":\"red\"},\"showlegend\":false,\"x\":[104,105],\"y\":[87.78,87.74],\"type\":\"scatter\"},{\"line\":{\"color\":\"red\"},\"showlegend\":false,\"x\":[105,106],\"y\":[87.74,87.75],\"type\":\"scatter\"},{\"line\":{\"color\":\"red\"},\"showlegend\":false,\"x\":[106,107],\"y\":[87.75,87.74],\"type\":\"scatter\"},{\"line\":{\"color\":\"red\"},\"showlegend\":false,\"x\":[107,108],\"y\":[87.74,87.77],\"type\":\"scatter\"},{\"line\":{\"color\":\"red\"},\"showlegend\":false,\"x\":[108,109],\"y\":[87.77,87.85],\"type\":\"scatter\"},{\"line\":{\"color\":\"green\"},\"showlegend\":false,\"x\":[109,110],\"y\":[87.85,87.91],\"type\":\"scatter\"},{\"line\":{\"color\":\"green\"},\"showlegend\":false,\"x\":[110,111],\"y\":[87.91,87.97],\"type\":\"scatter\"},{\"line\":{\"color\":\"green\"},\"showlegend\":false,\"x\":[111,112],\"y\":[87.97,88.01],\"type\":\"scatter\"},{\"line\":{\"color\":\"green\"},\"showlegend\":false,\"x\":[112,113],\"y\":[88.01,88.0],\"type\":\"scatter\"},{\"line\":{\"color\":\"green\"},\"showlegend\":false,\"x\":[113,114],\"y\":[88.0,88.08],\"type\":\"scatter\"},{\"line\":{\"color\":\"green\"},\"showlegend\":false,\"x\":[114,115],\"y\":[88.08,88.01],\"type\":\"scatter\"},{\"line\":{\"color\":\"green\"},\"showlegend\":false,\"x\":[115,116],\"y\":[88.01,88.08],\"type\":\"scatter\"},{\"line\":{\"color\":\"green\"},\"showlegend\":false,\"x\":[116,117],\"y\":[88.08,88.03],\"type\":\"scatter\"},{\"line\":{\"color\":\"green\"},\"showlegend\":false,\"x\":[117,118],\"y\":[88.03,88.14],\"type\":\"scatter\"},{\"line\":{\"color\":\"green\"},\"showlegend\":false,\"x\":[118,119],\"y\":[88.14,88.08],\"type\":\"scatter\"},{\"line\":{\"color\":\"green\"},\"showlegend\":false,\"x\":[119,120],\"y\":[88.08,88.21],\"type\":\"scatter\"},{\"line\":{\"color\":\"green\"},\"showlegend\":false,\"x\":[120,121],\"y\":[88.21,88.12],\"type\":\"scatter\"},{\"line\":{\"color\":\"green\"},\"showlegend\":false,\"x\":[121,122],\"y\":[88.12,87.88],\"type\":\"scatter\"},{\"line\":{\"color\":\"green\"},\"showlegend\":false,\"x\":[122,123],\"y\":[87.88,87.94],\"type\":\"scatter\"},{\"line\":{\"color\":\"red\"},\"showlegend\":false,\"x\":[123,124],\"y\":[87.94,88.05],\"type\":\"scatter\"},{\"line\":{\"color\":\"green\"},\"showlegend\":false,\"x\":[124,125],\"y\":[88.05,88.06],\"type\":\"scatter\"},{\"line\":{\"color\":\"green\"},\"showlegend\":false,\"x\":[125,126],\"y\":[88.06,87.99],\"type\":\"scatter\"},{\"line\":{\"color\":\"green\"},\"showlegend\":false,\"x\":[126,127],\"y\":[87.99,87.89],\"type\":\"scatter\"},{\"line\":{\"color\":\"red\"},\"showlegend\":false,\"x\":[127,128],\"y\":[87.89,87.83],\"type\":\"scatter\"},{\"line\":{\"color\":\"red\"},\"showlegend\":false,\"x\":[128,129],\"y\":[87.83,87.88],\"type\":\"scatter\"},{\"line\":{\"color\":\"red\"},\"showlegend\":false,\"x\":[129,130],\"y\":[87.88,87.83],\"type\":\"scatter\"},{\"line\":{\"color\":\"red\"},\"showlegend\":false,\"x\":[130,131],\"y\":[87.83,87.79],\"type\":\"scatter\"},{\"line\":{\"color\":\"red\"},\"showlegend\":false,\"x\":[131,132],\"y\":[87.79,87.77],\"type\":\"scatter\"},{\"line\":{\"color\":\"red\"},\"showlegend\":false,\"x\":[132,133],\"y\":[87.77,87.59],\"type\":\"scatter\"},{\"line\":{\"color\":\"red\"},\"showlegend\":false,\"x\":[133,134],\"y\":[87.59,87.64],\"type\":\"scatter\"},{\"line\":{\"color\":\"red\"},\"showlegend\":false,\"x\":[134,135],\"y\":[87.64,87.7],\"type\":\"scatter\"},{\"line\":{\"color\":\"red\"},\"showlegend\":false,\"x\":[135,136],\"y\":[87.7,87.78],\"type\":\"scatter\"},{\"line\":{\"color\":\"red\"},\"showlegend\":false,\"x\":[136,137],\"y\":[87.78,87.75],\"type\":\"scatter\"},{\"line\":{\"color\":\"red\"},\"showlegend\":false,\"x\":[137,138],\"y\":[87.75,87.68],\"type\":\"scatter\"},{\"line\":{\"color\":\"red\"},\"showlegend\":false,\"x\":[138,139],\"y\":[87.68,87.3],\"type\":\"scatter\"},{\"line\":{\"color\":\"red\"},\"showlegend\":false,\"x\":[139,140],\"y\":[87.3,87.45],\"type\":\"scatter\"},{\"line\":{\"color\":\"red\"},\"showlegend\":false,\"x\":[140,141],\"y\":[87.45,87.36],\"type\":\"scatter\"},{\"line\":{\"color\":\"red\"},\"showlegend\":false,\"x\":[141,142],\"y\":[87.36,87.6],\"type\":\"scatter\"},{\"line\":{\"color\":\"red\"},\"showlegend\":false,\"x\":[142,143],\"y\":[87.6,87.5],\"type\":\"scatter\"},{\"line\":{\"color\":\"red\"},\"showlegend\":false,\"x\":[143,144],\"y\":[87.5,87.41],\"type\":\"scatter\"},{\"line\":{\"color\":\"red\"},\"showlegend\":false,\"x\":[144,145],\"y\":[87.41,87.4],\"type\":\"scatter\"},{\"line\":{\"color\":\"red\"},\"showlegend\":false,\"x\":[145,146],\"y\":[87.4,87.34],\"type\":\"scatter\"},{\"line\":{\"color\":\"red\"},\"showlegend\":false,\"x\":[146,147],\"y\":[87.34,87.34],\"type\":\"scatter\"},{\"line\":{\"color\":\"red\"},\"showlegend\":false,\"x\":[147,148],\"y\":[87.34,87.16],\"type\":\"scatter\"},{\"line\":{\"color\":\"red\"},\"showlegend\":false,\"x\":[148,149],\"y\":[87.16,87.08],\"type\":\"scatter\"},{\"line\":{\"color\":\"red\"},\"showlegend\":false,\"x\":[149,150],\"y\":[87.08,87.1],\"type\":\"scatter\"},{\"line\":{\"color\":\"red\"},\"showlegend\":false,\"x\":[150,151],\"y\":[87.1,87.03],\"type\":\"scatter\"},{\"line\":{\"color\":\"red\"},\"showlegend\":false,\"x\":[151,152],\"y\":[87.03,87.13],\"type\":\"scatter\"},{\"line\":{\"color\":\"red\"},\"showlegend\":false,\"x\":[152,153],\"y\":[87.13,87.23],\"type\":\"scatter\"},{\"line\":{\"color\":\"red\"},\"showlegend\":false,\"x\":[153,154],\"y\":[87.23,87.38],\"type\":\"scatter\"},{\"line\":{\"color\":\"green\"},\"showlegend\":false,\"x\":[154,155],\"y\":[87.38,87.34],\"type\":\"scatter\"},{\"line\":{\"color\":\"green\"},\"showlegend\":false,\"x\":[155,156],\"y\":[87.34,87.42],\"type\":\"scatter\"},{\"line\":{\"color\":\"green\"},\"showlegend\":false,\"x\":[156,157],\"y\":[87.42,87.35],\"type\":\"scatter\"},{\"line\":{\"color\":\"green\"},\"showlegend\":false,\"x\":[157,158],\"y\":[87.35,87.36],\"type\":\"scatter\"},{\"line\":{\"color\":\"green\"},\"showlegend\":false,\"x\":[158,159],\"y\":[87.36,87.44],\"type\":\"scatter\"},{\"line\":{\"color\":\"green\"},\"showlegend\":false,\"x\":[159,160],\"y\":[87.44,87.46],\"type\":\"scatter\"},{\"line\":{\"color\":\"green\"},\"showlegend\":false,\"x\":[160,161],\"y\":[87.46,87.42],\"type\":\"scatter\"},{\"line\":{\"color\":\"green\"},\"showlegend\":false,\"x\":[161,162],\"y\":[87.42,87.36],\"type\":\"scatter\"},{\"line\":{\"color\":\"green\"},\"showlegend\":false,\"x\":[162,163],\"y\":[87.36,87.31],\"type\":\"scatter\"},{\"line\":{\"color\":\"green\"},\"showlegend\":false,\"x\":[163,164],\"y\":[87.31,87.41],\"type\":\"scatter\"},{\"line\":{\"color\":\"green\"},\"showlegend\":false,\"x\":[164,165],\"y\":[87.41,87.42],\"type\":\"scatter\"},{\"line\":{\"color\":\"green\"},\"showlegend\":false,\"x\":[165,166],\"y\":[87.42,87.46],\"type\":\"scatter\"},{\"line\":{\"color\":\"green\"},\"showlegend\":false,\"x\":[166,167],\"y\":[87.46,87.44],\"type\":\"scatter\"},{\"line\":{\"color\":\"green\"},\"showlegend\":false,\"x\":[167,168],\"y\":[87.44,87.43],\"type\":\"scatter\"},{\"line\":{\"color\":\"green\"},\"showlegend\":false,\"x\":[168,169],\"y\":[87.43,87.45],\"type\":\"scatter\"},{\"line\":{\"color\":\"green\"},\"showlegend\":false,\"x\":[169,170],\"y\":[87.45,87.32],\"type\":\"scatter\"},{\"line\":{\"color\":\"red\"},\"showlegend\":false,\"x\":[170,171],\"y\":[87.32,87.12],\"type\":\"scatter\"},{\"line\":{\"color\":\"red\"},\"showlegend\":false,\"x\":[171,172],\"y\":[87.12,86.88],\"type\":\"scatter\"},{\"line\":{\"color\":\"red\"},\"showlegend\":false,\"x\":[172,173],\"y\":[86.88,86.91],\"type\":\"scatter\"},{\"line\":{\"color\":\"red\"},\"showlegend\":false,\"x\":[173,174],\"y\":[86.91,87.11],\"type\":\"scatter\"},{\"line\":{\"color\":\"red\"},\"showlegend\":false,\"x\":[174,175],\"y\":[87.11,87.08],\"type\":\"scatter\"},{\"line\":{\"color\":\"red\"},\"showlegend\":false,\"x\":[175,176],\"y\":[87.08,86.9],\"type\":\"scatter\"},{\"line\":{\"color\":\"red\"},\"showlegend\":false,\"x\":[176,177],\"y\":[86.9,86.99],\"type\":\"scatter\"},{\"line\":{\"color\":\"red\"},\"showlegend\":false,\"x\":[177,178],\"y\":[86.99,86.94],\"type\":\"scatter\"},{\"line\":{\"color\":\"red\"},\"showlegend\":false,\"x\":[178,179],\"y\":[86.94,86.75],\"type\":\"scatter\"},{\"line\":{\"color\":\"red\"},\"showlegend\":false,\"x\":[179,180],\"y\":[86.75,86.88],\"type\":\"scatter\"},{\"line\":{\"color\":\"red\"},\"showlegend\":false,\"x\":[180,181],\"y\":[86.88,86.89],\"type\":\"scatter\"},{\"line\":{\"color\":\"red\"},\"showlegend\":false,\"x\":[181,182],\"y\":[86.89,86.8],\"type\":\"scatter\"},{\"line\":{\"color\":\"red\"},\"showlegend\":false,\"x\":[182,183],\"y\":[86.8,86.76],\"type\":\"scatter\"},{\"line\":{\"color\":\"red\"},\"showlegend\":false,\"x\":[183,184],\"y\":[86.76,86.95],\"type\":\"scatter\"},{\"line\":{\"color\":\"red\"},\"showlegend\":false,\"x\":[184,185],\"y\":[86.95,87.03],\"type\":\"scatter\"},{\"line\":{\"color\":\"red\"},\"showlegend\":false,\"x\":[185,186],\"y\":[87.03,86.9],\"type\":\"scatter\"},{\"line\":{\"color\":\"red\"},\"showlegend\":false,\"x\":[186,187],\"y\":[86.9,86.87],\"type\":\"scatter\"},{\"line\":{\"color\":\"red\"},\"showlegend\":false,\"x\":[187,188],\"y\":[86.87,87.0],\"type\":\"scatter\"},{\"line\":{\"color\":\"green\"},\"showlegend\":false,\"x\":[188,189],\"y\":[87.0,86.9],\"type\":\"scatter\"},{\"line\":{\"color\":\"red\"},\"showlegend\":false,\"x\":[189,190],\"y\":[86.9,86.92],\"type\":\"scatter\"},{\"line\":{\"color\":\"green\"},\"showlegend\":false,\"x\":[190,191],\"y\":[86.92,87.1],\"type\":\"scatter\"},{\"line\":{\"color\":\"green\"},\"showlegend\":false,\"x\":[191,192],\"y\":[87.1,86.76],\"type\":\"scatter\"},{\"line\":{\"color\":\"red\"},\"showlegend\":false,\"x\":[192,193],\"y\":[86.76,86.91],\"type\":\"scatter\"},{\"line\":{\"color\":\"red\"},\"showlegend\":false,\"x\":[193,194],\"y\":[86.91,86.78],\"type\":\"scatter\"},{\"line\":{\"color\":\"red\"},\"showlegend\":false,\"x\":[194,195],\"y\":[86.78,86.86],\"type\":\"scatter\"},{\"line\":{\"color\":\"red\"},\"showlegend\":false,\"x\":[195,196],\"y\":[86.86,86.98],\"type\":\"scatter\"},{\"line\":{\"color\":\"red\"},\"showlegend\":false,\"x\":[196,197],\"y\":[86.98,86.73],\"type\":\"scatter\"},{\"line\":{\"color\":\"red\"},\"showlegend\":false,\"x\":[197,198],\"y\":[86.73,86.66],\"type\":\"scatter\"},{\"line\":{\"color\":\"red\"},\"showlegend\":false,\"x\":[198,199],\"y\":[86.66,86.7],\"type\":\"scatter\"},{\"line\":{\"color\":\"red\"},\"showlegend\":false,\"x\":[199,200],\"y\":[86.7,86.73],\"type\":\"scatter\"},{\"line\":{\"color\":\"red\"},\"showlegend\":false,\"x\":[200,201],\"y\":[86.73,86.56],\"type\":\"scatter\"},{\"line\":{\"color\":\"red\"},\"showlegend\":false,\"x\":[201,202],\"y\":[86.56,86.6],\"type\":\"scatter\"},{\"line\":{\"color\":\"red\"},\"showlegend\":false,\"x\":[202,203],\"y\":[86.6,86.36],\"type\":\"scatter\"},{\"line\":{\"color\":\"red\"},\"showlegend\":false,\"x\":[203,204],\"y\":[86.36,86.25],\"type\":\"scatter\"},{\"line\":{\"color\":\"red\"},\"showlegend\":false,\"x\":[204,205],\"y\":[86.25,86.19],\"type\":\"scatter\"},{\"line\":{\"color\":\"red\"},\"showlegend\":false,\"x\":[205,206],\"y\":[86.19,85.72],\"type\":\"scatter\"},{\"line\":{\"color\":\"red\"},\"showlegend\":false,\"x\":[206,207],\"y\":[85.72,85.6],\"type\":\"scatter\"},{\"line\":{\"color\":\"red\"},\"showlegend\":false,\"x\":[207,208],\"y\":[85.6,85.56],\"type\":\"scatter\"},{\"line\":{\"color\":\"red\"},\"showlegend\":false,\"x\":[208,209],\"y\":[85.56,85.59],\"type\":\"scatter\"},{\"line\":{\"color\":\"red\"},\"showlegend\":false,\"x\":[209,210],\"y\":[85.59,85.94],\"type\":\"scatter\"},{\"line\":{\"color\":\"red\"},\"showlegend\":false,\"x\":[210,211],\"y\":[85.94,85.64],\"type\":\"scatter\"},{\"line\":{\"color\":\"red\"},\"showlegend\":false,\"x\":[211,212],\"y\":[85.64,85.36],\"type\":\"scatter\"},{\"line\":{\"color\":\"red\"},\"showlegend\":false,\"x\":[212,213],\"y\":[85.36,85.44],\"type\":\"scatter\"},{\"line\":{\"color\":\"red\"},\"showlegend\":false,\"x\":[213,214],\"y\":[85.44,85.35],\"type\":\"scatter\"},{\"line\":{\"color\":\"red\"},\"showlegend\":false,\"x\":[214,215],\"y\":[85.35,85.33],\"type\":\"scatter\"},{\"line\":{\"color\":\"red\"},\"showlegend\":false,\"x\":[215,216],\"y\":[85.33,85.61],\"type\":\"scatter\"},{\"line\":{\"color\":\"red\"},\"showlegend\":false,\"x\":[216,217],\"y\":[85.61,85.68],\"type\":\"scatter\"},{\"line\":{\"color\":\"red\"},\"showlegend\":false,\"x\":[217,218],\"y\":[85.68,85.94],\"type\":\"scatter\"},{\"line\":{\"color\":\"green\"},\"showlegend\":false,\"x\":[218,219],\"y\":[85.94,86.09],\"type\":\"scatter\"},{\"line\":{\"color\":\"green\"},\"showlegend\":false,\"x\":[219,220],\"y\":[86.09,86.0],\"type\":\"scatter\"},{\"line\":{\"color\":\"green\"},\"showlegend\":false,\"x\":[220,221],\"y\":[86.0,85.96],\"type\":\"scatter\"},{\"line\":{\"color\":\"green\"},\"showlegend\":false,\"x\":[221,222],\"y\":[85.96,85.79],\"type\":\"scatter\"},{\"line\":{\"color\":\"green\"},\"showlegend\":false,\"x\":[222,223],\"y\":[85.79,85.96],\"type\":\"scatter\"},{\"line\":{\"color\":\"green\"},\"showlegend\":false,\"x\":[223,224],\"y\":[85.96,86.29],\"type\":\"scatter\"},{\"line\":{\"color\":\"green\"},\"showlegend\":false,\"x\":[224,225],\"y\":[86.29,86.32],\"type\":\"scatter\"},{\"line\":{\"color\":\"green\"},\"showlegend\":false,\"x\":[225,226],\"y\":[86.32,86.54],\"type\":\"scatter\"},{\"line\":{\"color\":\"green\"},\"showlegend\":false,\"x\":[226,227],\"y\":[86.54,86.63],\"type\":\"scatter\"},{\"line\":{\"color\":\"green\"},\"showlegend\":false,\"x\":[227,228],\"y\":[86.63,86.47],\"type\":\"scatter\"},{\"line\":{\"color\":\"green\"},\"showlegend\":false,\"x\":[228,229],\"y\":[86.47,86.55],\"type\":\"scatter\"},{\"line\":{\"color\":\"green\"},\"showlegend\":false,\"x\":[229,230],\"y\":[86.55,86.57],\"type\":\"scatter\"},{\"line\":{\"color\":\"green\"},\"showlegend\":false,\"x\":[230,231],\"y\":[86.57,86.56],\"type\":\"scatter\"},{\"line\":{\"color\":\"green\"},\"showlegend\":false,\"x\":[231,232],\"y\":[86.56,86.44],\"type\":\"scatter\"},{\"line\":{\"color\":\"green\"},\"showlegend\":false,\"x\":[232,233],\"y\":[86.44,86.59],\"type\":\"scatter\"},{\"line\":{\"color\":\"green\"},\"showlegend\":false,\"x\":[233,234],\"y\":[86.59,86.55],\"type\":\"scatter\"},{\"line\":{\"color\":\"green\"},\"showlegend\":false,\"x\":[234,235],\"y\":[86.55,86.58],\"type\":\"scatter\"},{\"line\":{\"color\":\"green\"},\"showlegend\":false,\"x\":[235,236],\"y\":[86.58,86.51],\"type\":\"scatter\"},{\"line\":{\"color\":\"red\"},\"showlegend\":false,\"x\":[236,237],\"y\":[86.51,86.6],\"type\":\"scatter\"},{\"line\":{\"color\":\"red\"},\"showlegend\":false,\"x\":[237,238],\"y\":[86.6,86.53],\"type\":\"scatter\"},{\"line\":{\"color\":\"red\"},\"showlegend\":false,\"x\":[238,239],\"y\":[86.53,86.39],\"type\":\"scatter\"},{\"line\":{\"color\":\"red\"},\"showlegend\":false,\"x\":[239,240],\"y\":[86.39,86.48],\"type\":\"scatter\"},{\"line\":{\"color\":\"red\"},\"showlegend\":false,\"x\":[240,241],\"y\":[86.48,86.4],\"type\":\"scatter\"},{\"line\":{\"color\":\"red\"},\"showlegend\":false,\"x\":[241,242],\"y\":[86.4,86.38],\"type\":\"scatter\"},{\"line\":{\"color\":\"red\"},\"showlegend\":false,\"x\":[242,243],\"y\":[86.38,86.35],\"type\":\"scatter\"},{\"line\":{\"color\":\"red\"},\"showlegend\":false,\"x\":[243,244],\"y\":[86.35,86.31],\"type\":\"scatter\"},{\"line\":{\"color\":\"red\"},\"showlegend\":false,\"x\":[244,245],\"y\":[86.31,86.28],\"type\":\"scatter\"},{\"line\":{\"color\":\"red\"},\"showlegend\":false,\"x\":[245,246],\"y\":[86.28,86.4],\"type\":\"scatter\"},{\"line\":{\"color\":\"red\"},\"showlegend\":false,\"x\":[246,247],\"y\":[86.4,86.27],\"type\":\"scatter\"},{\"line\":{\"color\":\"red\"},\"showlegend\":false,\"x\":[247,248],\"y\":[86.27,86.11],\"type\":\"scatter\"},{\"line\":{\"color\":\"red\"},\"showlegend\":false,\"x\":[248,249],\"y\":[86.11,86.11],\"type\":\"scatter\"},{\"line\":{\"color\":\"red\"},\"showlegend\":false,\"x\":[249,250],\"y\":[86.11,86.21],\"type\":\"scatter\"},{\"line\":{\"color\":\"red\"},\"showlegend\":false,\"x\":[250,251],\"y\":[86.21,85.98],\"type\":\"scatter\"},{\"line\":{\"color\":\"red\"},\"showlegend\":false,\"x\":[251,252],\"y\":[85.98,85.73],\"type\":\"scatter\"},{\"line\":{\"color\":\"red\"},\"showlegend\":false,\"x\":[252,253],\"y\":[85.73,85.98],\"type\":\"scatter\"},{\"line\":{\"color\":\"red\"},\"showlegend\":false,\"x\":[253,254],\"y\":[85.98,85.99],\"type\":\"scatter\"},{\"line\":{\"color\":\"red\"},\"showlegend\":false,\"x\":[254,255],\"y\":[85.99,86.15],\"type\":\"scatter\"},{\"line\":{\"color\":\"green\"},\"showlegend\":false,\"x\":[255,256],\"y\":[86.15,86.23],\"type\":\"scatter\"},{\"line\":{\"color\":\"green\"},\"showlegend\":false,\"x\":[256,257],\"y\":[86.23,86.17],\"type\":\"scatter\"},{\"line\":{\"color\":\"green\"},\"showlegend\":false,\"x\":[257,258],\"y\":[86.17,86.21],\"type\":\"scatter\"},{\"line\":{\"color\":\"green\"},\"showlegend\":false,\"x\":[258,259],\"y\":[86.21,86.16],\"type\":\"scatter\"},{\"line\":{\"color\":\"green\"},\"showlegend\":false,\"x\":[259,260],\"y\":[86.16,86.18],\"type\":\"scatter\"},{\"line\":{\"color\":\"green\"},\"showlegend\":false,\"x\":[260,261],\"y\":[86.18,86.28],\"type\":\"scatter\"},{\"line\":{\"color\":\"green\"},\"showlegend\":false,\"x\":[261,262],\"y\":[86.28,86.25],\"type\":\"scatter\"},{\"line\":{\"color\":\"green\"},\"showlegend\":false,\"x\":[262,263],\"y\":[86.25,86.26],\"type\":\"scatter\"},{\"line\":{\"color\":\"green\"},\"showlegend\":false,\"x\":[263,264],\"y\":[86.26,86.29],\"type\":\"scatter\"},{\"line\":{\"color\":\"green\"},\"showlegend\":false,\"x\":[264,265],\"y\":[86.29,86.31],\"type\":\"scatter\"},{\"line\":{\"color\":\"green\"},\"showlegend\":false,\"x\":[265,266],\"y\":[86.31,86.29],\"type\":\"scatter\"},{\"line\":{\"color\":\"green\"},\"showlegend\":false,\"x\":[266,267],\"y\":[86.29,86.32],\"type\":\"scatter\"},{\"line\":{\"color\":\"green\"},\"showlegend\":false,\"x\":[267,268],\"y\":[86.32,86.35],\"type\":\"scatter\"},{\"line\":{\"color\":\"green\"},\"showlegend\":false,\"x\":[268,269],\"y\":[86.35,86.3],\"type\":\"scatter\"},{\"line\":{\"color\":\"green\"},\"showlegend\":false,\"x\":[269,270],\"y\":[86.3,86.31],\"type\":\"scatter\"},{\"line\":{\"color\":\"green\"},\"showlegend\":false,\"x\":[270,271],\"y\":[86.31,86.23],\"type\":\"scatter\"},{\"line\":{\"color\":\"red\"},\"showlegend\":false,\"x\":[271,272],\"y\":[86.23,86.15],\"type\":\"scatter\"},{\"line\":{\"color\":\"red\"},\"showlegend\":false,\"x\":[272,273],\"y\":[86.15,86.07],\"type\":\"scatter\"},{\"line\":{\"color\":\"red\"},\"showlegend\":false,\"x\":[273,274],\"y\":[86.07,86.03],\"type\":\"scatter\"},{\"line\":{\"color\":\"red\"},\"showlegend\":false,\"x\":[274,275],\"y\":[86.03,86.04],\"type\":\"scatter\"},{\"line\":{\"color\":\"red\"},\"showlegend\":false,\"x\":[275,276],\"y\":[86.04,86.1],\"type\":\"scatter\"},{\"line\":{\"color\":\"red\"},\"showlegend\":false,\"x\":[276,277],\"y\":[86.1,85.99],\"type\":\"scatter\"},{\"line\":{\"color\":\"red\"},\"showlegend\":false,\"x\":[277,278],\"y\":[85.99,85.74],\"type\":\"scatter\"},{\"line\":{\"color\":\"red\"},\"showlegend\":false,\"x\":[278,279],\"y\":[85.74,85.61],\"type\":\"scatter\"},{\"line\":{\"color\":\"red\"},\"showlegend\":false,\"x\":[279,280],\"y\":[85.61,85.58],\"type\":\"scatter\"},{\"line\":{\"color\":\"red\"},\"showlegend\":false,\"x\":[280,281],\"y\":[85.58,85.66],\"type\":\"scatter\"},{\"line\":{\"color\":\"red\"},\"showlegend\":false,\"x\":[281,282],\"y\":[85.66,85.65],\"type\":\"scatter\"},{\"line\":{\"color\":\"red\"},\"showlegend\":false,\"x\":[282,283],\"y\":[85.65,85.59],\"type\":\"scatter\"},{\"line\":{\"color\":\"red\"},\"showlegend\":false,\"x\":[283,284],\"y\":[85.59,85.46],\"type\":\"scatter\"},{\"line\":{\"color\":\"red\"},\"showlegend\":false,\"x\":[284,285],\"y\":[85.46,85.48],\"type\":\"scatter\"},{\"line\":{\"color\":\"red\"},\"showlegend\":false,\"x\":[285,286],\"y\":[85.48,85.48],\"type\":\"scatter\"},{\"line\":{\"color\":\"red\"},\"showlegend\":false,\"x\":[286,287],\"y\":[85.48,85.47],\"type\":\"scatter\"},{\"line\":{\"color\":\"red\"},\"showlegend\":false,\"x\":[287,288],\"y\":[85.47,85.46],\"type\":\"scatter\"},{\"line\":{\"color\":\"red\"},\"showlegend\":false,\"x\":[288,289],\"y\":[85.46,85.48],\"type\":\"scatter\"},{\"line\":{\"color\":\"red\"},\"showlegend\":false,\"x\":[289,290],\"y\":[85.48,85.5],\"type\":\"scatter\"},{\"line\":{\"color\":\"red\"},\"showlegend\":false,\"x\":[290,291],\"y\":[85.5,85.5],\"type\":\"scatter\"},{\"line\":{\"color\":\"red\"},\"showlegend\":false,\"x\":[291,292],\"y\":[85.5,85.52],\"type\":\"scatter\"},{\"line\":{\"color\":\"red\"},\"showlegend\":false,\"x\":[292,293],\"y\":[85.52,85.51],\"type\":\"scatter\"},{\"line\":{\"color\":\"red\"},\"showlegend\":false,\"x\":[293,294],\"y\":[85.51,85.47],\"type\":\"scatter\"},{\"line\":{\"color\":\"red\"},\"showlegend\":false,\"x\":[294,295],\"y\":[85.47,85.46],\"type\":\"scatter\"},{\"line\":{\"color\":\"red\"},\"showlegend\":false,\"x\":[295,296],\"y\":[85.46,85.53],\"type\":\"scatter\"},{\"line\":{\"color\":\"red\"},\"showlegend\":false,\"x\":[296,297],\"y\":[85.53,85.48],\"type\":\"scatter\"},{\"line\":{\"color\":\"red\"},\"showlegend\":false,\"x\":[297,298],\"y\":[85.48,85.51],\"type\":\"scatter\"},{\"line\":{\"color\":\"green\"},\"showlegend\":false,\"x\":[298,299],\"y\":[85.51,85.56],\"type\":\"scatter\"},{\"line\":{\"color\":\"green\"},\"showlegend\":false,\"x\":[299,300],\"y\":[85.56,85.55],\"type\":\"scatter\"},{\"line\":{\"color\":\"green\"},\"showlegend\":false,\"x\":[300,301],\"y\":[85.55,85.53],\"type\":\"scatter\"},{\"line\":{\"color\":\"green\"},\"showlegend\":false,\"x\":[301,302],\"y\":[85.53,85.62],\"type\":\"scatter\"},{\"line\":{\"color\":\"green\"},\"showlegend\":false,\"x\":[302,303],\"y\":[85.62,85.58],\"type\":\"scatter\"},{\"line\":{\"color\":\"green\"},\"showlegend\":false,\"x\":[303,304],\"y\":[85.58,85.59],\"type\":\"scatter\"},{\"line\":{\"color\":\"green\"},\"showlegend\":false,\"x\":[304,305],\"y\":[85.59,85.54],\"type\":\"scatter\"},{\"line\":{\"color\":\"green\"},\"showlegend\":false,\"x\":[305,306],\"y\":[85.54,85.56],\"type\":\"scatter\"},{\"line\":{\"color\":\"green\"},\"showlegend\":false,\"x\":[306,307],\"y\":[85.56,85.49],\"type\":\"scatter\"},{\"line\":{\"color\":\"red\"},\"showlegend\":false,\"x\":[307,308],\"y\":[85.49,85.46],\"type\":\"scatter\"},{\"line\":{\"color\":\"red\"},\"showlegend\":false,\"x\":[308,309],\"y\":[85.46,85.38],\"type\":\"scatter\"},{\"line\":{\"color\":\"red\"},\"showlegend\":false,\"x\":[309,310],\"y\":[85.38,85.34],\"type\":\"scatter\"},{\"line\":{\"color\":\"red\"},\"showlegend\":false,\"x\":[310,311],\"y\":[85.34,85.44],\"type\":\"scatter\"},{\"line\":{\"color\":\"red\"},\"showlegend\":false,\"x\":[311,312],\"y\":[85.44,85.39],\"type\":\"scatter\"},{\"line\":{\"color\":\"red\"},\"showlegend\":false,\"x\":[312,313],\"y\":[85.39,85.48],\"type\":\"scatter\"},{\"line\":{\"color\":\"red\"},\"showlegend\":false,\"x\":[313,314],\"y\":[85.48,85.43],\"type\":\"scatter\"},{\"line\":{\"color\":\"red\"},\"showlegend\":false,\"x\":[314,315],\"y\":[85.43,85.41],\"type\":\"scatter\"},{\"line\":{\"color\":\"red\"},\"showlegend\":false,\"x\":[315,316],\"y\":[85.41,85.4],\"type\":\"scatter\"},{\"line\":{\"color\":\"red\"},\"showlegend\":false,\"x\":[316,317],\"y\":[85.4,85.44],\"type\":\"scatter\"},{\"line\":{\"color\":\"red\"},\"showlegend\":false,\"x\":[317,318],\"y\":[85.44,85.29],\"type\":\"scatter\"},{\"line\":{\"color\":\"red\"},\"showlegend\":false,\"x\":[318,319],\"y\":[85.29,85.25],\"type\":\"scatter\"},{\"line\":{\"color\":\"red\"},\"showlegend\":false,\"x\":[319,320],\"y\":[85.25,85.22],\"type\":\"scatter\"},{\"line\":{\"color\":\"red\"},\"showlegend\":false,\"x\":[320,321],\"y\":[85.22,85.25],\"type\":\"scatter\"},{\"line\":{\"color\":\"red\"},\"showlegend\":false,\"x\":[321,322],\"y\":[85.25,85.19],\"type\":\"scatter\"},{\"line\":{\"color\":\"red\"},\"showlegend\":false,\"x\":[322,323],\"y\":[85.19,85.27],\"type\":\"scatter\"},{\"line\":{\"color\":\"red\"},\"showlegend\":false,\"x\":[323,324],\"y\":[85.27,85.25],\"type\":\"scatter\"},{\"line\":{\"color\":\"red\"},\"showlegend\":false,\"x\":[324,325],\"y\":[85.25,85.29],\"type\":\"scatter\"},{\"line\":{\"color\":\"red\"},\"showlegend\":false,\"x\":[325,326],\"y\":[85.29,85.28],\"type\":\"scatter\"},{\"line\":{\"color\":\"green\"},\"showlegend\":false,\"x\":[326,327],\"y\":[85.28,85.29],\"type\":\"scatter\"},{\"line\":{\"color\":\"green\"},\"showlegend\":false,\"x\":[327,328],\"y\":[85.29,85.29],\"type\":\"scatter\"},{\"line\":{\"color\":\"green\"},\"showlegend\":false,\"x\":[328,329],\"y\":[85.29,85.28],\"type\":\"scatter\"},{\"line\":{\"color\":\"green\"},\"showlegend\":false,\"x\":[329,330],\"y\":[85.28,85.38],\"type\":\"scatter\"},{\"line\":{\"color\":\"green\"},\"showlegend\":false,\"x\":[330,331],\"y\":[85.38,85.35],\"type\":\"scatter\"},{\"line\":{\"color\":\"green\"},\"showlegend\":false,\"x\":[331,332],\"y\":[85.35,85.42],\"type\":\"scatter\"},{\"line\":{\"color\":\"green\"},\"showlegend\":false,\"x\":[332,333],\"y\":[85.42,85.45],\"type\":\"scatter\"},{\"line\":{\"color\":\"green\"},\"showlegend\":false,\"x\":[333,334],\"y\":[85.45,85.49],\"type\":\"scatter\"},{\"line\":{\"color\":\"green\"},\"showlegend\":false,\"x\":[334,335],\"y\":[85.49,85.52],\"type\":\"scatter\"},{\"line\":{\"color\":\"green\"},\"showlegend\":false,\"x\":[335,336],\"y\":[85.52,85.48],\"type\":\"scatter\"},{\"line\":{\"color\":\"green\"},\"showlegend\":false,\"x\":[336,337],\"y\":[85.48,85.49],\"type\":\"scatter\"},{\"line\":{\"color\":\"green\"},\"showlegend\":false,\"x\":[337,338],\"y\":[85.49,85.51],\"type\":\"scatter\"},{\"line\":{\"color\":\"green\"},\"showlegend\":false,\"x\":[338,339],\"y\":[85.51,85.5],\"type\":\"scatter\"},{\"line\":{\"color\":\"green\"},\"showlegend\":false,\"x\":[339,340],\"y\":[85.5,85.49],\"type\":\"scatter\"},{\"line\":{\"color\":\"green\"},\"showlegend\":false,\"x\":[340,341],\"y\":[85.49,85.5],\"type\":\"scatter\"},{\"line\":{\"color\":\"green\"},\"showlegend\":false,\"x\":[341,342],\"y\":[85.5,85.53],\"type\":\"scatter\"},{\"line\":{\"color\":\"green\"},\"showlegend\":false,\"x\":[342,343],\"y\":[85.53,85.57],\"type\":\"scatter\"},{\"line\":{\"color\":\"green\"},\"showlegend\":false,\"x\":[343,344],\"y\":[85.57,85.55],\"type\":\"scatter\"},{\"line\":{\"color\":\"green\"},\"showlegend\":false,\"x\":[344,345],\"y\":[85.55,85.54],\"type\":\"scatter\"},{\"line\":{\"color\":\"green\"},\"showlegend\":false,\"x\":[345,346],\"y\":[85.54,85.54],\"type\":\"scatter\"},{\"line\":{\"color\":\"green\"},\"showlegend\":false,\"x\":[346,347],\"y\":[85.54,85.59],\"type\":\"scatter\"},{\"line\":{\"color\":\"green\"},\"showlegend\":false,\"x\":[347,348],\"y\":[85.59,85.58],\"type\":\"scatter\"},{\"line\":{\"color\":\"green\"},\"showlegend\":false,\"x\":[348,349],\"y\":[85.58,85.59],\"type\":\"scatter\"},{\"line\":{\"color\":\"green\"},\"showlegend\":false,\"x\":[349,350],\"y\":[85.59,85.6],\"type\":\"scatter\"},{\"line\":{\"color\":\"green\"},\"showlegend\":false,\"x\":[350,351],\"y\":[85.6,85.58],\"type\":\"scatter\"},{\"line\":{\"color\":\"green\"},\"showlegend\":false,\"x\":[351,352],\"y\":[85.58,85.58],\"type\":\"scatter\"},{\"line\":{\"color\":\"red\"},\"showlegend\":false,\"x\":[352,353],\"y\":[85.58,85.59],\"type\":\"scatter\"},{\"line\":{\"color\":\"red\"},\"showlegend\":false,\"x\":[353,354],\"y\":[85.59,85.6],\"type\":\"scatter\"},{\"line\":{\"color\":\"red\"},\"showlegend\":false,\"x\":[354,355],\"y\":[85.6,85.59],\"type\":\"scatter\"},{\"line\":{\"color\":\"red\"},\"showlegend\":false,\"x\":[355,356],\"y\":[85.59,85.54],\"type\":\"scatter\"},{\"line\":{\"color\":\"red\"},\"showlegend\":false,\"x\":[356,357],\"y\":[85.54,85.53],\"type\":\"scatter\"},{\"line\":{\"color\":\"red\"},\"showlegend\":false,\"x\":[357,358],\"y\":[85.53,85.54],\"type\":\"scatter\"},{\"line\":{\"color\":\"red\"},\"showlegend\":false,\"x\":[358,359],\"y\":[85.54,85.55],\"type\":\"scatter\"},{\"line\":{\"color\":\"red\"},\"showlegend\":false,\"x\":[359,360],\"y\":[85.55,85.46],\"type\":\"scatter\"},{\"line\":{\"color\":\"red\"},\"showlegend\":false,\"x\":[360,361],\"y\":[85.46,85.43],\"type\":\"scatter\"},{\"line\":{\"color\":\"red\"},\"showlegend\":false,\"x\":[361,362],\"y\":[85.43,85.31],\"type\":\"scatter\"},{\"line\":{\"color\":\"red\"},\"showlegend\":false,\"x\":[362,363],\"y\":[85.31,85.31],\"type\":\"scatter\"},{\"line\":{\"color\":\"red\"},\"showlegend\":false,\"x\":[363,364],\"y\":[85.31,85.34],\"type\":\"scatter\"},{\"line\":{\"color\":\"red\"},\"showlegend\":false,\"x\":[364,365],\"y\":[85.34,85.41],\"type\":\"scatter\"},{\"line\":{\"color\":\"red\"},\"showlegend\":false,\"x\":[365,366],\"y\":[85.41,85.44],\"type\":\"scatter\"},{\"line\":{\"color\":\"red\"},\"showlegend\":false,\"x\":[366,367],\"y\":[85.44,85.45],\"type\":\"scatter\"},{\"line\":{\"color\":\"green\"},\"showlegend\":false,\"x\":[367,368],\"y\":[85.45,85.38],\"type\":\"scatter\"},{\"line\":{\"color\":\"red\"},\"showlegend\":false,\"x\":[368,369],\"y\":[85.38,85.33],\"type\":\"scatter\"},{\"line\":{\"color\":\"red\"},\"showlegend\":false,\"x\":[369,370],\"y\":[85.33,85.31],\"type\":\"scatter\"},{\"line\":{\"color\":\"red\"},\"showlegend\":false,\"x\":[370,371],\"y\":[85.31,85.4],\"type\":\"scatter\"},{\"line\":{\"color\":\"red\"},\"showlegend\":false,\"x\":[371,372],\"y\":[85.4,85.52],\"type\":\"scatter\"},{\"line\":{\"color\":\"green\"},\"showlegend\":false,\"x\":[372,373],\"y\":[85.52,85.53],\"type\":\"scatter\"},{\"line\":{\"color\":\"green\"},\"showlegend\":false,\"x\":[373,374],\"y\":[85.53,85.57],\"type\":\"scatter\"},{\"line\":{\"color\":\"green\"},\"showlegend\":false,\"x\":[374,375],\"y\":[85.57,85.64],\"type\":\"scatter\"},{\"line\":{\"color\":\"green\"},\"showlegend\":false,\"x\":[375,376],\"y\":[85.64,85.72],\"type\":\"scatter\"},{\"line\":{\"color\":\"green\"},\"showlegend\":false,\"x\":[376,377],\"y\":[85.72,85.71],\"type\":\"scatter\"},{\"line\":{\"color\":\"green\"},\"showlegend\":false,\"x\":[377,378],\"y\":[85.71,86.0],\"type\":\"scatter\"},{\"line\":{\"color\":\"green\"},\"showlegend\":false,\"x\":[378,379],\"y\":[86.0,86.02],\"type\":\"scatter\"},{\"line\":{\"color\":\"green\"},\"showlegend\":false,\"x\":[379,380],\"y\":[86.02,86.05],\"type\":\"scatter\"},{\"line\":{\"color\":\"green\"},\"showlegend\":false,\"x\":[380,381],\"y\":[86.05,86.2],\"type\":\"scatter\"},{\"line\":{\"color\":\"green\"},\"showlegend\":false,\"x\":[381,382],\"y\":[86.2,86.18],\"type\":\"scatter\"},{\"line\":{\"color\":\"green\"},\"showlegend\":false,\"x\":[382,383],\"y\":[86.18,86.25],\"type\":\"scatter\"},{\"line\":{\"color\":\"green\"},\"showlegend\":false,\"x\":[383,384],\"y\":[86.25,86.17],\"type\":\"scatter\"},{\"line\":{\"color\":\"green\"},\"showlegend\":false,\"x\":[384,385],\"y\":[86.17,86.13],\"type\":\"scatter\"},{\"line\":{\"color\":\"green\"},\"showlegend\":false,\"x\":[385,386],\"y\":[86.13,86.28],\"type\":\"scatter\"},{\"line\":{\"color\":\"green\"},\"showlegend\":false,\"x\":[386,387],\"y\":[86.28,86.29],\"type\":\"scatter\"},{\"line\":{\"color\":\"green\"},\"showlegend\":false,\"x\":[387,388],\"y\":[86.29,86.4],\"type\":\"scatter\"},{\"line\":{\"color\":\"green\"},\"showlegend\":false,\"x\":[388,389],\"y\":[86.4,86.37],\"type\":\"scatter\"},{\"line\":{\"color\":\"green\"},\"showlegend\":false,\"x\":[389,390],\"y\":[86.37,86.6],\"type\":\"scatter\"},{\"line\":{\"color\":\"green\"},\"showlegend\":false,\"x\":[390,391],\"y\":[86.6,86.6],\"type\":\"scatter\"},{\"line\":{\"color\":\"green\"},\"showlegend\":false,\"x\":[391,392],\"y\":[86.6,86.58],\"type\":\"scatter\"},{\"line\":{\"color\":\"green\"},\"showlegend\":false,\"x\":[392,393],\"y\":[86.58,86.62],\"type\":\"scatter\"},{\"line\":{\"color\":\"green\"},\"showlegend\":false,\"x\":[393,394],\"y\":[86.62,86.59],\"type\":\"scatter\"},{\"line\":{\"color\":\"green\"},\"showlegend\":false,\"x\":[394,395],\"y\":[86.59,86.65],\"type\":\"scatter\"},{\"line\":{\"color\":\"green\"},\"showlegend\":false,\"x\":[395,396],\"y\":[86.65,86.72],\"type\":\"scatter\"},{\"line\":{\"color\":\"green\"},\"showlegend\":false,\"x\":[396,397],\"y\":[86.72,86.59],\"type\":\"scatter\"},{\"line\":{\"color\":\"red\"},\"showlegend\":false,\"x\":[397,398],\"y\":[86.59,86.6],\"type\":\"scatter\"},{\"line\":{\"color\":\"red\"},\"showlegend\":false,\"x\":[398,399],\"y\":[86.6,86.76],\"type\":\"scatter\"},{\"line\":{\"color\":\"red\"},\"showlegend\":false,\"x\":[399,400],\"y\":[86.76,86.76],\"type\":\"scatter\"},{\"line\":{\"color\":\"red\"},\"showlegend\":false,\"x\":[400,401],\"y\":[86.76,86.67],\"type\":\"scatter\"},{\"line\":{\"color\":\"red\"},\"showlegend\":false,\"x\":[401,402],\"y\":[86.67,86.69],\"type\":\"scatter\"},{\"line\":{\"color\":\"red\"},\"showlegend\":false,\"x\":[402,403],\"y\":[86.69,86.78],\"type\":\"scatter\"},{\"line\":{\"color\":\"red\"},\"showlegend\":false,\"x\":[403,404],\"y\":[86.78,86.87],\"type\":\"scatter\"},{\"line\":{\"color\":\"green\"},\"showlegend\":false,\"x\":[404,405],\"y\":[86.87,86.95],\"type\":\"scatter\"},{\"line\":{\"color\":\"green\"},\"showlegend\":false,\"x\":[405,406],\"y\":[86.95,86.89],\"type\":\"scatter\"},{\"line\":{\"color\":\"green\"},\"showlegend\":false,\"x\":[406,407],\"y\":[86.89,86.94],\"type\":\"scatter\"},{\"line\":{\"color\":\"green\"},\"showlegend\":false,\"x\":[407,408],\"y\":[86.94,86.92],\"type\":\"scatter\"},{\"line\":{\"color\":\"green\"},\"showlegend\":false,\"x\":[408,409],\"y\":[86.92,86.93],\"type\":\"scatter\"},{\"line\":{\"color\":\"green\"},\"showlegend\":false,\"x\":[409,410],\"y\":[86.93,86.83],\"type\":\"scatter\"},{\"line\":{\"color\":\"red\"},\"showlegend\":false,\"x\":[410,411],\"y\":[86.83,86.78],\"type\":\"scatter\"},{\"line\":{\"color\":\"red\"},\"showlegend\":false,\"x\":[411,412],\"y\":[86.78,86.85],\"type\":\"scatter\"},{\"line\":{\"color\":\"red\"},\"showlegend\":false,\"x\":[412,413],\"y\":[86.85,86.74],\"type\":\"scatter\"},{\"line\":{\"color\":\"red\"},\"showlegend\":false,\"x\":[413,414],\"y\":[86.74,86.73],\"type\":\"scatter\"},{\"line\":{\"color\":\"red\"},\"showlegend\":false,\"x\":[414,415],\"y\":[86.73,86.67],\"type\":\"scatter\"},{\"line\":{\"color\":\"red\"},\"showlegend\":false,\"x\":[415,416],\"y\":[86.67,86.66],\"type\":\"scatter\"},{\"line\":{\"color\":\"red\"},\"showlegend\":false,\"x\":[416,417],\"y\":[86.66,86.8],\"type\":\"scatter\"},{\"line\":{\"color\":\"red\"},\"showlegend\":false,\"x\":[417,418],\"y\":[86.8,86.82],\"type\":\"scatter\"},{\"line\":{\"color\":\"red\"},\"showlegend\":false,\"x\":[418,419],\"y\":[86.82,86.78],\"type\":\"scatter\"},{\"line\":{\"color\":\"red\"},\"showlegend\":false,\"x\":[419,420],\"y\":[86.78,86.85],\"type\":\"scatter\"},{\"line\":{\"color\":\"green\"},\"showlegend\":false,\"x\":[420,421],\"y\":[86.85,86.83],\"type\":\"scatter\"},{\"line\":{\"color\":\"red\"},\"showlegend\":false,\"x\":[421,422],\"y\":[86.83,86.73],\"type\":\"scatter\"},{\"line\":{\"color\":\"red\"},\"showlegend\":false,\"x\":[422,423],\"y\":[86.73,86.67],\"type\":\"scatter\"},{\"line\":{\"color\":\"red\"},\"showlegend\":false,\"x\":[423,424],\"y\":[86.67,86.61],\"type\":\"scatter\"},{\"line\":{\"color\":\"red\"},\"showlegend\":false,\"x\":[424,425],\"y\":[86.61,86.66],\"type\":\"scatter\"},{\"line\":{\"color\":\"red\"},\"showlegend\":false,\"x\":[425,426],\"y\":[86.66,86.68],\"type\":\"scatter\"},{\"line\":{\"color\":\"red\"},\"showlegend\":false,\"x\":[426,427],\"y\":[86.68,86.7],\"type\":\"scatter\"},{\"line\":{\"color\":\"red\"},\"showlegend\":false,\"x\":[427,428],\"y\":[86.7,86.77],\"type\":\"scatter\"},{\"line\":{\"color\":\"red\"},\"showlegend\":false,\"x\":[428,429],\"y\":[86.77,86.86],\"type\":\"scatter\"},{\"line\":{\"color\":\"green\"},\"showlegend\":false,\"x\":[429,430],\"y\":[86.86,86.86],\"type\":\"scatter\"},{\"line\":{\"color\":\"green\"},\"showlegend\":false,\"x\":[430,431],\"y\":[86.86,86.81],\"type\":\"scatter\"},{\"line\":{\"color\":\"green\"},\"showlegend\":false,\"x\":[431,432],\"y\":[86.81,86.88],\"type\":\"scatter\"},{\"line\":{\"color\":\"green\"},\"showlegend\":false,\"x\":[432,433],\"y\":[86.88,86.88],\"type\":\"scatter\"},{\"line\":{\"color\":\"green\"},\"showlegend\":false,\"x\":[433,434],\"y\":[86.88,86.92],\"type\":\"scatter\"},{\"line\":{\"color\":\"green\"},\"showlegend\":false,\"x\":[434,435],\"y\":[86.92,87.03],\"type\":\"scatter\"},{\"line\":{\"color\":\"green\"},\"showlegend\":false,\"x\":[435,436],\"y\":[87.03,86.96],\"type\":\"scatter\"},{\"line\":{\"color\":\"green\"},\"showlegend\":false,\"x\":[436,437],\"y\":[86.96,87.24],\"type\":\"scatter\"},{\"line\":{\"color\":\"green\"},\"showlegend\":false,\"x\":[437,438],\"y\":[87.24,87.13],\"type\":\"scatter\"},{\"line\":{\"color\":\"green\"},\"showlegend\":false,\"x\":[438,439],\"y\":[87.13,87.03],\"type\":\"scatter\"},{\"line\":{\"color\":\"green\"},\"showlegend\":false,\"x\":[439,440],\"y\":[87.03,87.09],\"type\":\"scatter\"},{\"line\":{\"color\":\"green\"},\"showlegend\":false,\"x\":[440,441],\"y\":[87.09,87.4],\"type\":\"scatter\"},{\"line\":{\"color\":\"green\"},\"showlegend\":false,\"x\":[441,442],\"y\":[87.4,87.37],\"type\":\"scatter\"},{\"line\":{\"color\":\"green\"},\"showlegend\":false,\"x\":[442,443],\"y\":[87.37,87.44],\"type\":\"scatter\"},{\"line\":{\"color\":\"green\"},\"showlegend\":false,\"x\":[443,444],\"y\":[87.44,87.33],\"type\":\"scatter\"},{\"line\":{\"color\":\"green\"},\"showlegend\":false,\"x\":[444,445],\"y\":[87.33,87.45],\"type\":\"scatter\"},{\"line\":{\"color\":\"green\"},\"showlegend\":false,\"x\":[445,446],\"y\":[87.45,87.39],\"type\":\"scatter\"},{\"line\":{\"color\":\"green\"},\"showlegend\":false,\"x\":[446,447],\"y\":[87.39,87.54],\"type\":\"scatter\"},{\"line\":{\"color\":\"green\"},\"showlegend\":false,\"x\":[447,448],\"y\":[87.54,87.36],\"type\":\"scatter\"},{\"line\":{\"color\":\"green\"},\"showlegend\":false,\"x\":[448,449],\"y\":[87.36,87.15],\"type\":\"scatter\"},{\"line\":{\"color\":\"red\"},\"showlegend\":false,\"x\":[449,450],\"y\":[87.15,87.43],\"type\":\"scatter\"},{\"line\":{\"color\":\"green\"},\"showlegend\":false,\"x\":[450,451],\"y\":[87.43,87.54],\"type\":\"scatter\"},{\"line\":{\"color\":\"green\"},\"showlegend\":false,\"x\":[451,452],\"y\":[87.54,87.45],\"type\":\"scatter\"},{\"line\":{\"color\":\"green\"},\"showlegend\":false,\"x\":[452,453],\"y\":[87.45,87.35],\"type\":\"scatter\"},{\"line\":{\"color\":\"green\"},\"showlegend\":false,\"x\":[453,454],\"y\":[87.35,87.41],\"type\":\"scatter\"},{\"line\":{\"color\":\"green\"},\"showlegend\":false,\"x\":[454,455],\"y\":[87.41,87.46],\"type\":\"scatter\"},{\"line\":{\"color\":\"green\"},\"showlegend\":false,\"x\":[455,456],\"y\":[87.46,87.37],\"type\":\"scatter\"},{\"line\":{\"color\":\"red\"},\"showlegend\":false,\"x\":[456,457],\"y\":[87.37,87.35],\"type\":\"scatter\"},{\"line\":{\"color\":\"red\"},\"showlegend\":false,\"x\":[457,458],\"y\":[87.35,87.08],\"type\":\"scatter\"},{\"line\":{\"color\":\"red\"},\"showlegend\":false,\"x\":[458,459],\"y\":[87.08,87.08],\"type\":\"scatter\"},{\"line\":{\"color\":\"red\"},\"showlegend\":false,\"x\":[459,460],\"y\":[87.08,87.02],\"type\":\"scatter\"},{\"line\":{\"color\":\"red\"},\"showlegend\":false,\"x\":[460,461],\"y\":[87.02,87.19],\"type\":\"scatter\"},{\"line\":{\"color\":\"red\"},\"showlegend\":false,\"x\":[461,462],\"y\":[87.19,87.11],\"type\":\"scatter\"},{\"line\":{\"color\":\"red\"},\"showlegend\":false,\"x\":[462,463],\"y\":[87.11,86.88],\"type\":\"scatter\"},{\"line\":{\"color\":\"red\"},\"showlegend\":false,\"x\":[463,464],\"y\":[86.88,87.01],\"type\":\"scatter\"},{\"line\":{\"color\":\"red\"},\"showlegend\":false,\"x\":[464,465],\"y\":[87.01,87.04],\"type\":\"scatter\"},{\"line\":{\"color\":\"red\"},\"showlegend\":false,\"x\":[465,466],\"y\":[87.04,87.09],\"type\":\"scatter\"},{\"line\":{\"color\":\"red\"},\"showlegend\":false,\"x\":[466,467],\"y\":[87.09,87.28],\"type\":\"scatter\"},{\"line\":{\"color\":\"green\"},\"showlegend\":false,\"x\":[467,468],\"y\":[87.28,87.17],\"type\":\"scatter\"},{\"line\":{\"color\":\"green\"},\"showlegend\":false,\"x\":[468,469],\"y\":[87.17,87.5],\"type\":\"scatter\"},{\"line\":{\"color\":\"green\"},\"showlegend\":false,\"x\":[469,470],\"y\":[87.5,87.35],\"type\":\"scatter\"},{\"line\":{\"color\":\"green\"},\"showlegend\":false,\"x\":[470,471],\"y\":[87.35,87.23],\"type\":\"scatter\"},{\"line\":{\"color\":\"green\"},\"showlegend\":false,\"x\":[471,472],\"y\":[87.23,87.09],\"type\":\"scatter\"},{\"line\":{\"color\":\"red\"},\"showlegend\":false,\"x\":[472,473],\"y\":[87.09,87.28],\"type\":\"scatter\"},{\"line\":{\"color\":\"red\"},\"showlegend\":false,\"x\":[473,474],\"y\":[87.28,87.32],\"type\":\"scatter\"},{\"line\":{\"color\":\"green\"},\"showlegend\":false,\"x\":[474,475],\"y\":[87.32,86.91],\"type\":\"scatter\"},{\"line\":{\"color\":\"red\"},\"showlegend\":false,\"x\":[475,476],\"y\":[86.91,86.76],\"type\":\"scatter\"},{\"line\":{\"color\":\"red\"},\"showlegend\":false,\"x\":[476,477],\"y\":[86.76,86.74],\"type\":\"scatter\"},{\"line\":{\"color\":\"red\"},\"showlegend\":false,\"x\":[477,478],\"y\":[86.74,86.62],\"type\":\"scatter\"},{\"line\":{\"color\":\"red\"},\"showlegend\":false,\"x\":[478,479],\"y\":[86.62,86.62],\"type\":\"scatter\"},{\"line\":{\"color\":\"red\"},\"showlegend\":false,\"x\":[479,480],\"y\":[86.62,86.55],\"type\":\"scatter\"},{\"line\":{\"color\":\"red\"},\"showlegend\":false,\"x\":[480,481],\"y\":[86.55,86.66],\"type\":\"scatter\"},{\"line\":{\"color\":\"red\"},\"showlegend\":false,\"x\":[481,482],\"y\":[86.66,86.28],\"type\":\"scatter\"},{\"line\":{\"color\":\"red\"},\"showlegend\":false,\"x\":[482,483],\"y\":[86.28,86.22],\"type\":\"scatter\"},{\"line\":{\"color\":\"red\"},\"showlegend\":false,\"x\":[483,484],\"y\":[86.22,86.17],\"type\":\"scatter\"},{\"line\":{\"color\":\"red\"},\"showlegend\":false,\"x\":[484,485],\"y\":[86.17,86.47],\"type\":\"scatter\"},{\"line\":{\"color\":\"red\"},\"showlegend\":false,\"x\":[485,486],\"y\":[86.47,86.2],\"type\":\"scatter\"},{\"line\":{\"color\":\"red\"},\"showlegend\":false,\"x\":[486,487],\"y\":[86.2,86.28],\"type\":\"scatter\"},{\"line\":{\"color\":\"red\"},\"showlegend\":false,\"x\":[487,488],\"y\":[86.28,86.2],\"type\":\"scatter\"},{\"line\":{\"color\":\"red\"},\"showlegend\":false,\"x\":[488,489],\"y\":[86.2,86.17],\"type\":\"scatter\"},{\"line\":{\"color\":\"red\"},\"showlegend\":false,\"x\":[489,490],\"y\":[86.17,86.36],\"type\":\"scatter\"},{\"line\":{\"color\":\"red\"},\"showlegend\":false,\"x\":[490,491],\"y\":[86.36,86.32],\"type\":\"scatter\"},{\"line\":{\"color\":\"red\"},\"showlegend\":false,\"x\":[491,492],\"y\":[86.32,86.33],\"type\":\"scatter\"},{\"line\":{\"color\":\"green\"},\"showlegend\":false,\"x\":[492,493],\"y\":[86.33,86.09],\"type\":\"scatter\"},{\"line\":{\"color\":\"red\"},\"showlegend\":false,\"x\":[493,494],\"y\":[86.09,86.18],\"type\":\"scatter\"},{\"line\":{\"color\":\"red\"},\"showlegend\":false,\"x\":[494,495],\"y\":[86.18,86.01],\"type\":\"scatter\"},{\"line\":{\"color\":\"red\"},\"showlegend\":false,\"x\":[495,496],\"y\":[86.01,85.8],\"type\":\"scatter\"},{\"line\":{\"color\":\"red\"},\"showlegend\":false,\"x\":[496,497],\"y\":[85.8,85.88],\"type\":\"scatter\"},{\"line\":{\"color\":\"red\"},\"showlegend\":false,\"x\":[497,498],\"y\":[85.88,85.92],\"type\":\"scatter\"},{\"line\":{\"color\":\"red\"},\"showlegend\":false,\"x\":[498,499],\"y\":[85.92,85.6],\"type\":\"scatter\"},{\"line\":{\"color\":\"red\"},\"showlegend\":false,\"x\":[499,500],\"y\":[85.6,85.94],\"type\":\"scatter\"},{\"line\":{\"color\":\"red\"},\"showlegend\":false,\"x\":[500,501],\"y\":[85.94,86.03],\"type\":\"scatter\"},{\"line\":{\"color\":\"red\"},\"showlegend\":false,\"x\":[501,502],\"y\":[86.03,85.82],\"type\":\"scatter\"},{\"line\":{\"color\":\"red\"},\"showlegend\":false,\"x\":[502,503],\"y\":[85.82,85.79],\"type\":\"scatter\"},{\"line\":{\"color\":\"red\"},\"showlegend\":false,\"x\":[503,504],\"y\":[85.79,85.7],\"type\":\"scatter\"},{\"line\":{\"color\":\"red\"},\"showlegend\":false,\"x\":[504,505],\"y\":[85.7,85.67],\"type\":\"scatter\"},{\"line\":{\"color\":\"red\"},\"showlegend\":false,\"x\":[505,506],\"y\":[85.67,85.8],\"type\":\"scatter\"},{\"line\":{\"color\":\"red\"},\"showlegend\":false,\"x\":[506,507],\"y\":[85.8,85.55],\"type\":\"scatter\"},{\"line\":{\"color\":\"red\"},\"showlegend\":false,\"x\":[507,508],\"y\":[85.55,85.51],\"type\":\"scatter\"},{\"line\":{\"color\":\"red\"},\"showlegend\":false,\"x\":[508,509],\"y\":[85.51,85.57],\"type\":\"scatter\"},{\"line\":{\"color\":\"red\"},\"showlegend\":false,\"x\":[509,510],\"y\":[85.57,85.65],\"type\":\"scatter\"},{\"line\":{\"color\":\"red\"},\"showlegend\":false,\"x\":[510,511],\"y\":[85.65,85.54],\"type\":\"scatter\"},{\"line\":{\"color\":\"red\"},\"showlegend\":false,\"x\":[511,512],\"y\":[85.54,85.73],\"type\":\"scatter\"},{\"line\":{\"color\":\"red\"},\"showlegend\":false,\"x\":[512,513],\"y\":[85.73,85.66],\"type\":\"scatter\"},{\"line\":{\"color\":\"red\"},\"showlegend\":false,\"x\":[513,514],\"y\":[85.66,85.91],\"type\":\"scatter\"},{\"line\":{\"color\":\"green\"},\"showlegend\":false,\"x\":[514,515],\"y\":[85.91,86.01],\"type\":\"scatter\"},{\"line\":{\"color\":\"green\"},\"showlegend\":false,\"x\":[515,516],\"y\":[86.01,86.08],\"type\":\"scatter\"},{\"line\":{\"color\":\"green\"},\"showlegend\":false,\"x\":[516,517],\"y\":[86.08,86.26],\"type\":\"scatter\"},{\"line\":{\"color\":\"green\"},\"showlegend\":false,\"x\":[517,518],\"y\":[86.26,86.28],\"type\":\"scatter\"},{\"line\":{\"color\":\"green\"},\"showlegend\":false,\"x\":[518,519],\"y\":[86.28,86.29],\"type\":\"scatter\"},{\"line\":{\"color\":\"green\"},\"showlegend\":false,\"x\":[519,520],\"y\":[86.29,86.33],\"type\":\"scatter\"},{\"line\":{\"color\":\"green\"},\"showlegend\":false,\"x\":[520,521],\"y\":[86.33,86.3],\"type\":\"scatter\"},{\"line\":{\"color\":\"green\"},\"showlegend\":false,\"x\":[521,522],\"y\":[86.3,86.28],\"type\":\"scatter\"},{\"line\":{\"color\":\"green\"},\"showlegend\":false,\"x\":[522,523],\"y\":[86.28,86.32],\"type\":\"scatter\"},{\"line\":{\"color\":\"green\"},\"showlegend\":false,\"x\":[523,524],\"y\":[86.32,86.37],\"type\":\"scatter\"},{\"line\":{\"color\":\"green\"},\"showlegend\":false,\"x\":[524,525],\"y\":[86.37,86.4],\"type\":\"scatter\"},{\"line\":{\"color\":\"green\"},\"showlegend\":false,\"x\":[525,526],\"y\":[86.4,86.35],\"type\":\"scatter\"},{\"line\":{\"color\":\"green\"},\"showlegend\":false,\"x\":[526,527],\"y\":[86.35,86.38],\"type\":\"scatter\"},{\"line\":{\"color\":\"green\"},\"showlegend\":false,\"x\":[527,528],\"y\":[86.38,86.34],\"type\":\"scatter\"},{\"line\":{\"color\":\"green\"},\"showlegend\":false,\"x\":[528,529],\"y\":[86.34,86.3],\"type\":\"scatter\"},{\"line\":{\"color\":\"red\"},\"showlegend\":false,\"x\":[529,530],\"y\":[86.3,86.31],\"type\":\"scatter\"},{\"line\":{\"color\":\"red\"},\"showlegend\":false,\"x\":[530,531],\"y\":[86.31,86.37],\"type\":\"scatter\"},{\"line\":{\"color\":\"red\"},\"showlegend\":false,\"x\":[531,532],\"y\":[86.37,86.38],\"type\":\"scatter\"},{\"line\":{\"color\":\"green\"},\"showlegend\":false,\"x\":[532,533],\"y\":[86.38,86.39],\"type\":\"scatter\"},{\"line\":{\"color\":\"green\"},\"showlegend\":false,\"x\":[533,534],\"y\":[86.39,86.34],\"type\":\"scatter\"},{\"line\":{\"color\":\"red\"},\"showlegend\":false,\"x\":[534,535],\"y\":[86.34,86.37],\"type\":\"scatter\"},{\"line\":{\"color\":\"red\"},\"showlegend\":false,\"x\":[535,536],\"y\":[86.37,86.35],\"type\":\"scatter\"},{\"line\":{\"color\":\"red\"},\"showlegend\":false,\"x\":[536,537],\"y\":[86.35,86.37],\"type\":\"scatter\"},{\"line\":{\"color\":\"red\"},\"showlegend\":false,\"x\":[537,538],\"y\":[86.37,86.38],\"type\":\"scatter\"},{\"line\":{\"color\":\"red\"},\"showlegend\":false,\"x\":[538,539],\"y\":[86.38,86.38],\"type\":\"scatter\"},{\"line\":{\"color\":\"red\"},\"showlegend\":false,\"x\":[539,540],\"y\":[86.38,86.34],\"type\":\"scatter\"},{\"line\":{\"color\":\"red\"},\"showlegend\":false,\"x\":[540,541],\"y\":[86.34,86.34],\"type\":\"scatter\"},{\"line\":{\"color\":\"red\"},\"showlegend\":false,\"x\":[541,542],\"y\":[86.34,86.35],\"type\":\"scatter\"},{\"line\":{\"color\":\"red\"},\"showlegend\":false,\"x\":[542,543],\"y\":[86.35,86.37],\"type\":\"scatter\"},{\"line\":{\"color\":\"red\"},\"showlegend\":false,\"x\":[543,544],\"y\":[86.37,86.37],\"type\":\"scatter\"},{\"line\":{\"color\":\"red\"},\"showlegend\":false,\"x\":[544,545],\"y\":[86.37,86.34],\"type\":\"scatter\"},{\"line\":{\"color\":\"red\"},\"showlegend\":false,\"x\":[545,546],\"y\":[86.34,86.35],\"type\":\"scatter\"},{\"line\":{\"color\":\"red\"},\"showlegend\":false,\"x\":[546,547],\"y\":[86.35,86.26],\"type\":\"scatter\"},{\"line\":{\"color\":\"red\"},\"showlegend\":false,\"x\":[547,548],\"y\":[86.26,86.19],\"type\":\"scatter\"},{\"line\":{\"color\":\"red\"},\"showlegend\":false,\"x\":[548,549],\"y\":[86.19,86.21],\"type\":\"scatter\"},{\"line\":{\"color\":\"red\"},\"showlegend\":false,\"x\":[549,550],\"y\":[86.21,86.2],\"type\":\"scatter\"},{\"line\":{\"color\":\"red\"},\"showlegend\":false,\"x\":[550,551],\"y\":[86.2,86.26],\"type\":\"scatter\"},{\"line\":{\"color\":\"red\"},\"showlegend\":false,\"x\":[551,552],\"y\":[86.26,86.24],\"type\":\"scatter\"},{\"line\":{\"color\":\"red\"},\"showlegend\":false,\"x\":[552,553],\"y\":[86.24,86.23],\"type\":\"scatter\"},{\"line\":{\"color\":\"red\"},\"showlegend\":false,\"x\":[553,554],\"y\":[86.23,86.24],\"type\":\"scatter\"},{\"line\":{\"color\":\"red\"},\"showlegend\":false,\"x\":[554,555],\"y\":[86.24,86.23],\"type\":\"scatter\"},{\"line\":{\"color\":\"red\"},\"showlegend\":false,\"x\":[555,556],\"y\":[86.23,86.28],\"type\":\"scatter\"},{\"line\":{\"color\":\"red\"},\"showlegend\":false,\"x\":[556,557],\"y\":[86.28,86.27],\"type\":\"scatter\"},{\"line\":{\"color\":\"red\"},\"showlegend\":false,\"x\":[557,558],\"y\":[86.27,86.38],\"type\":\"scatter\"},{\"line\":{\"color\":\"green\"},\"showlegend\":false,\"x\":[558,559],\"y\":[86.38,86.4],\"type\":\"scatter\"},{\"line\":{\"color\":\"green\"},\"showlegend\":false,\"x\":[559,560],\"y\":[86.4,86.42],\"type\":\"scatter\"},{\"line\":{\"color\":\"green\"},\"showlegend\":false,\"x\":[560,561],\"y\":[86.42,86.4],\"type\":\"scatter\"},{\"line\":{\"color\":\"green\"},\"showlegend\":false,\"x\":[561,562],\"y\":[86.4,86.44],\"type\":\"scatter\"},{\"line\":{\"color\":\"green\"},\"showlegend\":false,\"x\":[562,563],\"y\":[86.44,86.46],\"type\":\"scatter\"},{\"line\":{\"color\":\"green\"},\"showlegend\":false,\"x\":[563,564],\"y\":[86.46,86.37],\"type\":\"scatter\"},{\"line\":{\"color\":\"green\"},\"showlegend\":false,\"x\":[564,565],\"y\":[86.37,86.35],\"type\":\"scatter\"},{\"line\":{\"color\":\"green\"},\"showlegend\":false,\"x\":[565,566],\"y\":[86.35,86.34],\"type\":\"scatter\"},{\"line\":{\"color\":\"red\"},\"showlegend\":false,\"x\":[566,567],\"y\":[86.34,86.34],\"type\":\"scatter\"},{\"line\":{\"color\":\"red\"},\"showlegend\":false,\"x\":[567,568],\"y\":[86.34,86.35],\"type\":\"scatter\"},{\"line\":{\"color\":\"red\"},\"showlegend\":false,\"x\":[568,569],\"y\":[86.35,86.32],\"type\":\"scatter\"},{\"line\":{\"color\":\"red\"},\"showlegend\":false,\"x\":[569,570],\"y\":[86.32,86.31],\"type\":\"scatter\"},{\"line\":{\"color\":\"red\"},\"showlegend\":false,\"x\":[570,571],\"y\":[86.31,86.29],\"type\":\"scatter\"},{\"line\":{\"color\":\"red\"},\"showlegend\":false,\"x\":[571,572],\"y\":[86.29,86.34],\"type\":\"scatter\"},{\"line\":{\"color\":\"red\"},\"showlegend\":false,\"x\":[572,573],\"y\":[86.34,86.34],\"type\":\"scatter\"},{\"line\":{\"color\":\"red\"},\"showlegend\":false,\"x\":[573,574],\"y\":[86.34,86.3],\"type\":\"scatter\"},{\"line\":{\"color\":\"red\"},\"showlegend\":false,\"x\":[574,575],\"y\":[86.3,86.32],\"type\":\"scatter\"},{\"line\":{\"color\":\"red\"},\"showlegend\":false,\"x\":[575,576],\"y\":[86.32,86.34],\"type\":\"scatter\"},{\"line\":{\"color\":\"red\"},\"showlegend\":false,\"x\":[576,577],\"y\":[86.34,86.32],\"type\":\"scatter\"},{\"line\":{\"color\":\"red\"},\"showlegend\":false,\"x\":[577,578],\"y\":[86.32,86.37],\"type\":\"scatter\"},{\"line\":{\"color\":\"red\"},\"showlegend\":false,\"x\":[578,579],\"y\":[86.37,86.45],\"type\":\"scatter\"},{\"line\":{\"color\":\"green\"},\"showlegend\":false,\"x\":[579,580],\"y\":[86.45,86.42],\"type\":\"scatter\"},{\"line\":{\"color\":\"green\"},\"showlegend\":false,\"x\":[580,581],\"y\":[86.42,86.42],\"type\":\"scatter\"},{\"line\":{\"color\":\"green\"},\"showlegend\":false,\"x\":[581,582],\"y\":[86.42,86.43],\"type\":\"scatter\"},{\"line\":{\"color\":\"green\"},\"showlegend\":false,\"x\":[582,583],\"y\":[86.43,86.46],\"type\":\"scatter\"},{\"line\":{\"color\":\"green\"},\"showlegend\":false,\"x\":[583,584],\"y\":[86.46,86.44],\"type\":\"scatter\"},{\"line\":{\"color\":\"green\"},\"showlegend\":false,\"x\":[584,585],\"y\":[86.44,86.46],\"type\":\"scatter\"},{\"line\":{\"color\":\"green\"},\"showlegend\":false,\"x\":[585,586],\"y\":[86.46,86.56],\"type\":\"scatter\"},{\"line\":{\"color\":\"green\"},\"showlegend\":false,\"x\":[586,587],\"y\":[86.56,86.56],\"type\":\"scatter\"},{\"line\":{\"color\":\"green\"},\"showlegend\":false,\"x\":[587,588],\"y\":[86.56,86.52],\"type\":\"scatter\"},{\"line\":{\"color\":\"green\"},\"showlegend\":false,\"x\":[588,589],\"y\":[86.52,86.51],\"type\":\"scatter\"},{\"line\":{\"color\":\"green\"},\"showlegend\":false,\"x\":[589,590],\"y\":[86.51,86.56],\"type\":\"scatter\"},{\"line\":{\"color\":\"green\"},\"showlegend\":false,\"x\":[590,591],\"y\":[86.56,86.66],\"type\":\"scatter\"},{\"line\":{\"color\":\"green\"},\"showlegend\":false,\"x\":[591,592],\"y\":[86.66,86.61],\"type\":\"scatter\"},{\"line\":{\"color\":\"green\"},\"showlegend\":false,\"x\":[592,593],\"y\":[86.61,86.63],\"type\":\"scatter\"},{\"line\":{\"color\":\"green\"},\"showlegend\":false,\"x\":[593,594],\"y\":[86.63,86.61],\"type\":\"scatter\"},{\"line\":{\"color\":\"green\"},\"showlegend\":false,\"x\":[594,595],\"y\":[86.61,86.59],\"type\":\"scatter\"},{\"line\":{\"color\":\"green\"},\"showlegend\":false,\"x\":[595,596],\"y\":[86.59,86.5],\"type\":\"scatter\"},{\"line\":{\"color\":\"green\"},\"showlegend\":false,\"x\":[596,597],\"y\":[86.5,86.5],\"type\":\"scatter\"},{\"line\":{\"color\":\"red\"},\"showlegend\":false,\"x\":[597,598],\"y\":[86.5,86.54],\"type\":\"scatter\"},{\"line\":{\"color\":\"red\"},\"showlegend\":false,\"x\":[598,599],\"y\":[86.54,86.52],\"type\":\"scatter\"},{\"line\":{\"color\":\"red\"},\"showlegend\":false,\"x\":[599,600],\"y\":[86.52,86.48],\"type\":\"scatter\"},{\"line\":{\"color\":\"red\"},\"showlegend\":false,\"x\":[600,601],\"y\":[86.48,86.46],\"type\":\"scatter\"},{\"line\":{\"color\":\"red\"},\"showlegend\":false,\"x\":[601,602],\"y\":[86.46,86.48],\"type\":\"scatter\"},{\"line\":{\"color\":\"red\"},\"showlegend\":false,\"x\":[602,603],\"y\":[86.48,86.47],\"type\":\"scatter\"},{\"line\":{\"color\":\"red\"},\"showlegend\":false,\"x\":[603,604],\"y\":[86.47,86.47],\"type\":\"scatter\"},{\"line\":{\"color\":\"red\"},\"showlegend\":false,\"x\":[604,605],\"y\":[86.47,86.5],\"type\":\"scatter\"},{\"line\":{\"color\":\"red\"},\"showlegend\":false,\"x\":[605,606],\"y\":[86.5,86.49],\"type\":\"scatter\"},{\"line\":{\"color\":\"red\"},\"showlegend\":false,\"x\":[606,607],\"y\":[86.49,86.5],\"type\":\"scatter\"},{\"line\":{\"color\":\"red\"},\"showlegend\":false,\"x\":[607,608],\"y\":[86.5,86.53],\"type\":\"scatter\"},{\"line\":{\"color\":\"green\"},\"showlegend\":false,\"x\":[608,609],\"y\":[86.53,86.56],\"type\":\"scatter\"},{\"line\":{\"color\":\"green\"},\"showlegend\":false,\"x\":[609,610],\"y\":[86.56,86.61],\"type\":\"scatter\"},{\"line\":{\"color\":\"green\"},\"showlegend\":false,\"x\":[610,611],\"y\":[86.61,86.6],\"type\":\"scatter\"},{\"line\":{\"color\":\"green\"},\"showlegend\":false,\"x\":[611,612],\"y\":[86.6,86.59],\"type\":\"scatter\"},{\"line\":{\"color\":\"green\"},\"showlegend\":false,\"x\":[612,613],\"y\":[86.59,86.56],\"type\":\"scatter\"},{\"line\":{\"color\":\"green\"},\"showlegend\":false,\"x\":[613,614],\"y\":[86.56,86.58],\"type\":\"scatter\"},{\"line\":{\"color\":\"green\"},\"showlegend\":false,\"x\":[614,615],\"y\":[86.58,86.6],\"type\":\"scatter\"},{\"line\":{\"color\":\"green\"},\"showlegend\":false,\"x\":[615,616],\"y\":[86.6,86.58],\"type\":\"scatter\"},{\"line\":{\"color\":\"green\"},\"showlegend\":false,\"x\":[616,617],\"y\":[86.58,86.62],\"type\":\"scatter\"},{\"line\":{\"color\":\"green\"},\"showlegend\":false,\"x\":[617,618],\"y\":[86.62,86.66],\"type\":\"scatter\"},{\"line\":{\"color\":\"green\"},\"showlegend\":false,\"x\":[618,619],\"y\":[86.66,86.6],\"type\":\"scatter\"},{\"line\":{\"color\":\"green\"},\"showlegend\":false,\"x\":[619,620],\"y\":[86.6,86.63],\"type\":\"scatter\"},{\"line\":{\"color\":\"green\"},\"showlegend\":false,\"x\":[620,621],\"y\":[86.63,86.64],\"type\":\"scatter\"},{\"line\":{\"color\":\"green\"},\"showlegend\":false,\"x\":[621,622],\"y\":[86.64,86.67],\"type\":\"scatter\"},{\"line\":{\"color\":\"green\"},\"showlegend\":false,\"x\":[622,623],\"y\":[86.67,86.66],\"type\":\"scatter\"},{\"line\":{\"color\":\"green\"},\"showlegend\":false,\"x\":[623,624],\"y\":[86.66,86.71],\"type\":\"scatter\"},{\"line\":{\"color\":\"green\"},\"showlegend\":false,\"x\":[624,625],\"y\":[86.71,86.67],\"type\":\"scatter\"},{\"line\":{\"color\":\"green\"},\"showlegend\":false,\"x\":[625,626],\"y\":[86.67,86.69],\"type\":\"scatter\"},{\"line\":{\"color\":\"green\"},\"showlegend\":false,\"x\":[626,627],\"y\":[86.69,86.66],\"type\":\"scatter\"},{\"line\":{\"color\":\"green\"},\"showlegend\":false,\"x\":[627,628],\"y\":[86.66,86.61],\"type\":\"scatter\"},{\"line\":{\"color\":\"red\"},\"showlegend\":false,\"x\":[628,629],\"y\":[86.61,86.61],\"type\":\"scatter\"},{\"line\":{\"color\":\"red\"},\"showlegend\":false,\"x\":[629,630],\"y\":[86.61,86.6],\"type\":\"scatter\"},{\"line\":{\"color\":\"red\"},\"showlegend\":false,\"x\":[630,631],\"y\":[86.6,86.66],\"type\":\"scatter\"},{\"line\":{\"color\":\"red\"},\"showlegend\":false,\"x\":[631,632],\"y\":[86.66,86.78],\"type\":\"scatter\"},{\"line\":{\"color\":\"green\"},\"showlegend\":false,\"x\":[632,633],\"y\":[86.78,86.83],\"type\":\"scatter\"},{\"line\":{\"color\":\"green\"},\"showlegend\":false,\"x\":[633,634],\"y\":[86.83,86.85],\"type\":\"scatter\"},{\"line\":{\"color\":\"green\"},\"showlegend\":false,\"x\":[634,635],\"y\":[86.85,86.9],\"type\":\"scatter\"},{\"line\":{\"color\":\"green\"},\"showlegend\":false,\"x\":[635,636],\"y\":[86.9,86.85],\"type\":\"scatter\"},{\"line\":{\"color\":\"green\"},\"showlegend\":false,\"x\":[636,637],\"y\":[86.85,86.92],\"type\":\"scatter\"},{\"line\":{\"color\":\"green\"},\"showlegend\":false,\"x\":[637,638],\"y\":[86.92,86.96],\"type\":\"scatter\"},{\"line\":{\"color\":\"green\"},\"showlegend\":false,\"x\":[638,639],\"y\":[86.96,87.0],\"type\":\"scatter\"},{\"line\":{\"color\":\"green\"},\"showlegend\":false,\"x\":[639,640],\"y\":[87.0,87.07],\"type\":\"scatter\"},{\"line\":{\"color\":\"green\"},\"showlegend\":false,\"x\":[640,641],\"y\":[87.07,87.09],\"type\":\"scatter\"},{\"line\":{\"color\":\"green\"},\"showlegend\":false,\"x\":[641,642],\"y\":[87.09,87.27],\"type\":\"scatter\"},{\"line\":{\"color\":\"green\"},\"showlegend\":false,\"x\":[642,643],\"y\":[87.27,87.18],\"type\":\"scatter\"},{\"line\":{\"color\":\"green\"},\"showlegend\":false,\"x\":[643,644],\"y\":[87.18,87.41],\"type\":\"scatter\"},{\"line\":{\"color\":\"green\"},\"showlegend\":false,\"x\":[644,645],\"y\":[87.41,87.42],\"type\":\"scatter\"},{\"line\":{\"color\":\"green\"},\"showlegend\":false,\"x\":[645,646],\"y\":[87.42,87.47],\"type\":\"scatter\"},{\"line\":{\"color\":\"green\"},\"showlegend\":false,\"x\":[646,647],\"y\":[87.47,87.52],\"type\":\"scatter\"},{\"line\":{\"color\":\"green\"},\"showlegend\":false,\"x\":[647,648],\"y\":[87.52,87.76],\"type\":\"scatter\"},{\"line\":{\"color\":\"green\"},\"showlegend\":false,\"x\":[648,649],\"y\":[87.76,87.79],\"type\":\"scatter\"},{\"line\":{\"color\":\"green\"},\"showlegend\":false,\"x\":[649,650],\"y\":[87.79,87.83],\"type\":\"scatter\"},{\"line\":{\"color\":\"green\"},\"showlegend\":false,\"x\":[650,651],\"y\":[87.83,87.88],\"type\":\"scatter\"},{\"line\":{\"color\":\"green\"},\"showlegend\":false,\"x\":[651,652],\"y\":[87.88,87.89],\"type\":\"scatter\"},{\"line\":{\"color\":\"green\"},\"showlegend\":false,\"x\":[652,653],\"y\":[87.89,87.95],\"type\":\"scatter\"},{\"line\":{\"color\":\"green\"},\"showlegend\":false,\"x\":[653,654],\"y\":[87.95,87.91],\"type\":\"scatter\"},{\"line\":{\"color\":\"green\"},\"showlegend\":false,\"x\":[654,655],\"y\":[87.91,87.98],\"type\":\"scatter\"},{\"line\":{\"color\":\"green\"},\"showlegend\":false,\"x\":[655,656],\"y\":[87.98,87.86],\"type\":\"scatter\"},{\"line\":{\"color\":\"green\"},\"showlegend\":false,\"x\":[656,657],\"y\":[87.86,87.93],\"type\":\"scatter\"},{\"line\":{\"color\":\"green\"},\"showlegend\":false,\"x\":[657,658],\"y\":[87.93,88.02],\"type\":\"scatter\"},{\"line\":{\"color\":\"green\"},\"showlegend\":false,\"x\":[658,659],\"y\":[88.02,88.2],\"type\":\"scatter\"},{\"line\":{\"color\":\"green\"},\"showlegend\":false,\"x\":[659,660],\"y\":[88.2,88.23],\"type\":\"scatter\"},{\"line\":{\"color\":\"green\"},\"showlegend\":false,\"x\":[660,661],\"y\":[88.23,88.29],\"type\":\"scatter\"},{\"line\":{\"color\":\"green\"},\"showlegend\":false,\"x\":[661,662],\"y\":[88.29,88.23],\"type\":\"scatter\"},{\"line\":{\"color\":\"green\"},\"showlegend\":false,\"x\":[662,663],\"y\":[88.23,88.26],\"type\":\"scatter\"},{\"line\":{\"color\":\"green\"},\"showlegend\":false,\"x\":[663,664],\"y\":[88.26,88.19],\"type\":\"scatter\"},{\"line\":{\"color\":\"green\"},\"showlegend\":false,\"x\":[664,665],\"y\":[88.19,88.26],\"type\":\"scatter\"},{\"line\":{\"color\":\"green\"},\"showlegend\":false,\"x\":[665,666],\"y\":[88.26,88.45],\"type\":\"scatter\"},{\"line\":{\"color\":\"green\"},\"showlegend\":false,\"x\":[666,667],\"y\":[88.45,88.48],\"type\":\"scatter\"},{\"line\":{\"color\":\"green\"},\"showlegend\":false,\"x\":[667,668],\"y\":[88.48,88.4],\"type\":\"scatter\"},{\"line\":{\"color\":\"green\"},\"showlegend\":false,\"x\":[668,669],\"y\":[88.4,88.52],\"type\":\"scatter\"},{\"line\":{\"color\":\"green\"},\"showlegend\":false,\"x\":[669,670],\"y\":[88.52,88.48],\"type\":\"scatter\"},{\"line\":{\"color\":\"green\"},\"showlegend\":false,\"x\":[670,671],\"y\":[88.48,88.56],\"type\":\"scatter\"},{\"line\":{\"color\":\"green\"},\"showlegend\":false,\"x\":[671,672],\"y\":[88.56,88.85],\"type\":\"scatter\"},{\"line\":{\"color\":\"green\"},\"showlegend\":false,\"x\":[672,673],\"y\":[88.85,89.05],\"type\":\"scatter\"},{\"line\":{\"color\":\"green\"},\"showlegend\":false,\"x\":[673,674],\"y\":[89.05,88.91],\"type\":\"scatter\"},{\"line\":{\"color\":\"green\"},\"showlegend\":false,\"x\":[674,675],\"y\":[88.91,88.95],\"type\":\"scatter\"},{\"line\":{\"color\":\"green\"},\"showlegend\":false,\"x\":[675,676],\"y\":[88.95,89.04],\"type\":\"scatter\"},{\"line\":{\"color\":\"green\"},\"showlegend\":false,\"x\":[676,677],\"y\":[89.04,89.05],\"type\":\"scatter\"},{\"line\":{\"color\":\"green\"},\"showlegend\":false,\"x\":[677,678],\"y\":[89.05,89.18],\"type\":\"scatter\"},{\"line\":{\"color\":\"green\"},\"showlegend\":false,\"x\":[678,679],\"y\":[89.18,89.21],\"type\":\"scatter\"},{\"line\":{\"color\":\"green\"},\"showlegend\":false,\"x\":[679,680],\"y\":[89.21,89.14],\"type\":\"scatter\"},{\"line\":{\"color\":\"green\"},\"showlegend\":false,\"x\":[680,681],\"y\":[89.14,89.26],\"type\":\"scatter\"},{\"line\":{\"color\":\"green\"},\"showlegend\":false,\"x\":[681,682],\"y\":[89.26,89.31],\"type\":\"scatter\"},{\"line\":{\"color\":\"green\"},\"showlegend\":false,\"x\":[682,683],\"y\":[89.31,89.28],\"type\":\"scatter\"},{\"line\":{\"color\":\"green\"},\"showlegend\":false,\"x\":[683,684],\"y\":[89.28,89.07],\"type\":\"scatter\"},{\"line\":{\"color\":\"red\"},\"showlegend\":false,\"x\":[684,685],\"y\":[89.07,88.91],\"type\":\"scatter\"},{\"line\":{\"color\":\"red\"},\"showlegend\":false,\"x\":[685,686],\"y\":[88.91,88.85],\"type\":\"scatter\"},{\"line\":{\"color\":\"red\"},\"showlegend\":false,\"x\":[686,687],\"y\":[88.85,88.85],\"type\":\"scatter\"},{\"line\":{\"color\":\"red\"},\"showlegend\":false,\"x\":[687,688],\"y\":[88.85,88.91],\"type\":\"scatter\"},{\"line\":{\"color\":\"red\"},\"showlegend\":false,\"x\":[688,689],\"y\":[88.91,89.16],\"type\":\"scatter\"},{\"line\":{\"color\":\"red\"},\"showlegend\":false,\"x\":[689,690],\"y\":[89.16,88.94],\"type\":\"scatter\"},{\"line\":{\"color\":\"red\"},\"showlegend\":false,\"x\":[690,691],\"y\":[88.94,89.11],\"type\":\"scatter\"},{\"line\":{\"color\":\"red\"},\"showlegend\":false,\"x\":[691,692],\"y\":[89.11,89.08],\"type\":\"scatter\"},{\"line\":{\"color\":\"red\"},\"showlegend\":false,\"x\":[692,693],\"y\":[89.08,89.04],\"type\":\"scatter\"},{\"line\":{\"color\":\"red\"},\"showlegend\":false,\"x\":[693,694],\"y\":[89.04,89.06],\"type\":\"scatter\"},{\"line\":{\"color\":\"red\"},\"showlegend\":false,\"x\":[694,695],\"y\":[89.06,89.16],\"type\":\"scatter\"},{\"line\":{\"color\":\"red\"},\"showlegend\":false,\"x\":[695,696],\"y\":[89.16,89.31],\"type\":\"scatter\"},{\"line\":{\"color\":\"green\"},\"showlegend\":false,\"x\":[696,697],\"y\":[89.31,89.4],\"type\":\"scatter\"},{\"line\":{\"color\":\"green\"},\"showlegend\":false,\"x\":[697,698],\"y\":[89.4,89.36],\"type\":\"scatter\"},{\"line\":{\"color\":\"green\"},\"showlegend\":false,\"x\":[698,699],\"y\":[89.36,89.43],\"type\":\"scatter\"},{\"line\":{\"color\":\"green\"},\"showlegend\":false,\"x\":[699,700],\"y\":[89.43,89.42],\"type\":\"scatter\"},{\"line\":{\"color\":\"green\"},\"showlegend\":false,\"x\":[700,701],\"y\":[89.42,89.45],\"type\":\"scatter\"},{\"line\":{\"color\":\"green\"},\"showlegend\":false,\"x\":[701,702],\"y\":[89.45,89.5],\"type\":\"scatter\"},{\"line\":{\"color\":\"green\"},\"showlegend\":false,\"x\":[702,703],\"y\":[89.5,89.39],\"type\":\"scatter\"},{\"line\":{\"color\":\"green\"},\"showlegend\":false,\"x\":[703,704],\"y\":[89.39,89.53],\"type\":\"scatter\"},{\"line\":{\"color\":\"green\"},\"showlegend\":false,\"x\":[704,705],\"y\":[89.53,89.59],\"type\":\"scatter\"},{\"line\":{\"color\":\"green\"},\"showlegend\":false,\"x\":[705,706],\"y\":[89.59,89.61],\"type\":\"scatter\"},{\"line\":{\"color\":\"green\"},\"showlegend\":false,\"x\":[706,707],\"y\":[89.61,89.66],\"type\":\"scatter\"},{\"line\":{\"color\":\"green\"},\"showlegend\":false,\"x\":[707,708],\"y\":[89.66,89.57],\"type\":\"scatter\"},{\"line\":{\"color\":\"green\"},\"showlegend\":false,\"x\":[708,709],\"y\":[89.57,89.81],\"type\":\"scatter\"},{\"line\":{\"color\":\"green\"},\"showlegend\":false,\"x\":[709,710],\"y\":[89.81,89.91],\"type\":\"scatter\"},{\"line\":{\"color\":\"green\"},\"showlegend\":false,\"x\":[710,711],\"y\":[89.91,89.8],\"type\":\"scatter\"},{\"line\":{\"color\":\"green\"},\"showlegend\":false,\"x\":[711,712],\"y\":[89.8,89.73],\"type\":\"scatter\"},{\"line\":{\"color\":\"green\"},\"showlegend\":false,\"x\":[712,713],\"y\":[89.73,89.52],\"type\":\"scatter\"},{\"line\":{\"color\":\"red\"},\"showlegend\":false,\"x\":[713,714],\"y\":[89.52,89.19],\"type\":\"scatter\"},{\"line\":{\"color\":\"red\"},\"showlegend\":false,\"x\":[714,715],\"y\":[89.19,89.31],\"type\":\"scatter\"},{\"line\":{\"color\":\"red\"},\"showlegend\":false,\"x\":[715,716],\"y\":[89.31,89.38],\"type\":\"scatter\"},{\"line\":{\"color\":\"red\"},\"showlegend\":false,\"x\":[716,717],\"y\":[89.38,89.01],\"type\":\"scatter\"},{\"line\":{\"color\":\"red\"},\"showlegend\":false,\"x\":[717,718],\"y\":[89.01,89.09],\"type\":\"scatter\"},{\"line\":{\"color\":\"red\"},\"showlegend\":false,\"x\":[718,719],\"y\":[89.09,89.04],\"type\":\"scatter\"},{\"line\":{\"color\":\"red\"},\"showlegend\":false,\"x\":[719,720],\"y\":[89.04,89.26],\"type\":\"scatter\"},{\"line\":{\"color\":\"red\"},\"showlegend\":false,\"x\":[720,721],\"y\":[89.26,88.99],\"type\":\"scatter\"},{\"line\":{\"color\":\"red\"},\"showlegend\":false,\"x\":[721,722],\"y\":[88.99,88.7],\"type\":\"scatter\"},{\"line\":{\"color\":\"red\"},\"showlegend\":false,\"x\":[722,723],\"y\":[88.7,88.73],\"type\":\"scatter\"},{\"line\":{\"color\":\"red\"},\"showlegend\":false,\"x\":[723,724],\"y\":[88.73,88.58],\"type\":\"scatter\"},{\"line\":{\"color\":\"red\"},\"showlegend\":false,\"x\":[724,725],\"y\":[88.58,88.91],\"type\":\"scatter\"},{\"line\":{\"color\":\"red\"},\"showlegend\":false,\"x\":[725,726],\"y\":[88.91,88.84],\"type\":\"scatter\"},{\"line\":{\"color\":\"red\"},\"showlegend\":false,\"x\":[726,727],\"y\":[88.84,88.89],\"type\":\"scatter\"},{\"line\":{\"color\":\"red\"},\"showlegend\":false,\"x\":[727,728],\"y\":[88.89,88.89],\"type\":\"scatter\"},{\"line\":{\"color\":\"red\"},\"showlegend\":false,\"x\":[728,729],\"y\":[88.89,88.93],\"type\":\"scatter\"},{\"line\":{\"color\":\"red\"},\"showlegend\":false,\"x\":[729,730],\"y\":[88.93,89.36],\"type\":\"scatter\"},{\"line\":{\"color\":\"green\"},\"showlegend\":false,\"x\":[730,731],\"y\":[89.36,89.36],\"type\":\"scatter\"},{\"line\":{\"color\":\"green\"},\"showlegend\":false,\"x\":[731,732],\"y\":[89.36,89.35],\"type\":\"scatter\"},{\"line\":{\"color\":\"green\"},\"showlegend\":false,\"x\":[732,733],\"y\":[89.35,89.1],\"type\":\"scatter\"},{\"line\":{\"color\":\"green\"},\"showlegend\":false,\"x\":[733,734],\"y\":[89.1,89.03],\"type\":\"scatter\"},{\"line\":{\"color\":\"green\"},\"showlegend\":false,\"x\":[734,735],\"y\":[89.03,89.17],\"type\":\"scatter\"},{\"line\":{\"color\":\"green\"},\"showlegend\":false,\"x\":[735,736],\"y\":[89.17,89.14],\"type\":\"scatter\"},{\"line\":{\"color\":\"green\"},\"showlegend\":false,\"x\":[736,737],\"y\":[89.14,89.26],\"type\":\"scatter\"},{\"line\":{\"color\":\"green\"},\"showlegend\":false,\"x\":[737,738],\"y\":[89.26,88.94],\"type\":\"scatter\"},{\"line\":{\"color\":\"green\"},\"showlegend\":false,\"x\":[738,739],\"y\":[88.94,89.25],\"type\":\"scatter\"},{\"line\":{\"color\":\"green\"},\"showlegend\":false,\"x\":[739,740],\"y\":[89.25,89.31],\"type\":\"scatter\"},{\"line\":{\"color\":\"green\"},\"showlegend\":false,\"x\":[740,741],\"y\":[89.31,89.41],\"type\":\"scatter\"},{\"line\":{\"color\":\"green\"},\"showlegend\":false,\"x\":[741,742],\"y\":[89.41,89.46],\"type\":\"scatter\"},{\"line\":{\"color\":\"green\"},\"showlegend\":false,\"x\":[742,743],\"y\":[89.46,89.43],\"type\":\"scatter\"},{\"line\":{\"color\":\"green\"},\"showlegend\":false,\"x\":[743,744],\"y\":[89.43,89.62],\"type\":\"scatter\"},{\"line\":{\"color\":\"green\"},\"showlegend\":false,\"x\":[744,745],\"y\":[89.62,89.57],\"type\":\"scatter\"},{\"line\":{\"color\":\"green\"},\"showlegend\":false,\"x\":[745,746],\"y\":[89.57,89.64],\"type\":\"scatter\"},{\"line\":{\"color\":\"green\"},\"showlegend\":false,\"x\":[746,747],\"y\":[89.64,89.55],\"type\":\"scatter\"},{\"line\":{\"color\":\"green\"},\"showlegend\":false,\"x\":[747,748],\"y\":[89.55,89.63],\"type\":\"scatter\"},{\"line\":{\"color\":\"green\"},\"showlegend\":false,\"x\":[748,749],\"y\":[89.63,89.72],\"type\":\"scatter\"},{\"line\":{\"color\":\"green\"},\"showlegend\":false,\"x\":[749,750],\"y\":[89.72,89.83],\"type\":\"scatter\"},{\"line\":{\"color\":\"green\"},\"showlegend\":false,\"x\":[750,751],\"y\":[89.83,89.71],\"type\":\"scatter\"},{\"line\":{\"color\":\"green\"},\"showlegend\":false,\"x\":[751,752],\"y\":[89.71,89.62],\"type\":\"scatter\"},{\"line\":{\"color\":\"green\"},\"showlegend\":false,\"x\":[752,753],\"y\":[89.62,89.75],\"type\":\"scatter\"},{\"line\":{\"color\":\"green\"},\"showlegend\":false,\"x\":[753,754],\"y\":[89.75,89.6],\"type\":\"scatter\"},{\"line\":{\"color\":\"green\"},\"showlegend\":false,\"x\":[754,755],\"y\":[89.6,89.72],\"type\":\"scatter\"},{\"line\":{\"color\":\"green\"},\"showlegend\":false,\"x\":[755,756],\"y\":[89.72,89.84],\"type\":\"scatter\"},{\"line\":{\"color\":\"green\"},\"showlegend\":false,\"x\":[756,757],\"y\":[89.84,89.78],\"type\":\"scatter\"},{\"line\":{\"color\":\"green\"},\"showlegend\":false,\"x\":[757,758],\"y\":[89.78,89.95],\"type\":\"scatter\"},{\"line\":{\"color\":\"green\"},\"showlegend\":false,\"x\":[758,759],\"y\":[89.95,89.91],\"type\":\"scatter\"},{\"line\":{\"color\":\"green\"},\"showlegend\":false,\"x\":[759,760],\"y\":[89.91,90.07],\"type\":\"scatter\"},{\"line\":{\"color\":\"green\"},\"showlegend\":false,\"x\":[760,761],\"y\":[90.07,90.13],\"type\":\"scatter\"},{\"line\":{\"color\":\"green\"},\"showlegend\":false,\"x\":[761,762],\"y\":[90.13,90.42],\"type\":\"scatter\"},{\"line\":{\"color\":\"green\"},\"showlegend\":false,\"x\":[762,763],\"y\":[90.42,90.42],\"type\":\"scatter\"},{\"line\":{\"color\":\"green\"},\"showlegend\":false,\"x\":[763,764],\"y\":[90.42,90.36],\"type\":\"scatter\"},{\"line\":{\"color\":\"green\"},\"showlegend\":false,\"x\":[764,765],\"y\":[90.36,90.29],\"type\":\"scatter\"},{\"line\":{\"color\":\"green\"},\"showlegend\":false,\"x\":[765,766],\"y\":[90.29,90.28],\"type\":\"scatter\"},{\"line\":{\"color\":\"green\"},\"showlegend\":false,\"x\":[766,767],\"y\":[90.28,90.13],\"type\":\"scatter\"},{\"line\":{\"color\":\"green\"},\"showlegend\":false,\"x\":[767,768],\"y\":[90.13,90.24],\"type\":\"scatter\"},{\"line\":{\"color\":\"green\"},\"showlegend\":false,\"x\":[768,769],\"y\":[90.24,90.21],\"type\":\"scatter\"},{\"line\":{\"color\":\"green\"},\"showlegend\":false,\"x\":[769,770],\"y\":[90.21,90.28],\"type\":\"scatter\"},{\"line\":{\"color\":\"green\"},\"showlegend\":false,\"x\":[770,771],\"y\":[90.28,90.21],\"type\":\"scatter\"},{\"line\":{\"color\":\"green\"},\"showlegend\":false,\"x\":[771,772],\"y\":[90.21,90.38],\"type\":\"scatter\"},{\"line\":{\"color\":\"green\"},\"showlegend\":false,\"x\":[772,773],\"y\":[90.38,90.42],\"type\":\"scatter\"},{\"line\":{\"color\":\"green\"},\"showlegend\":false,\"x\":[773,774],\"y\":[90.42,90.47],\"type\":\"scatter\"},{\"line\":{\"color\":\"green\"},\"showlegend\":false,\"x\":[774,775],\"y\":[90.47,90.46],\"type\":\"scatter\"},{\"line\":{\"color\":\"green\"},\"showlegend\":false,\"x\":[775,776],\"y\":[90.46,90.63],\"type\":\"scatter\"},{\"line\":{\"color\":\"green\"},\"showlegend\":false,\"x\":[776,777],\"y\":[90.63,90.71],\"type\":\"scatter\"},{\"line\":{\"color\":\"green\"},\"showlegend\":false,\"x\":[777,778],\"y\":[90.71,90.79],\"type\":\"scatter\"},{\"line\":{\"color\":\"green\"},\"showlegend\":false,\"x\":[778,779],\"y\":[90.79,90.89],\"type\":\"scatter\"},{\"line\":{\"color\":\"green\"},\"showlegend\":false,\"x\":[779,780],\"y\":[90.89,90.8],\"type\":\"scatter\"},{\"line\":{\"color\":\"green\"},\"showlegend\":false,\"x\":[780,781],\"y\":[90.8,90.66],\"type\":\"scatter\"},{\"line\":{\"color\":\"green\"},\"showlegend\":false,\"x\":[781,782],\"y\":[90.66,90.65],\"type\":\"scatter\"},{\"line\":{\"color\":\"green\"},\"showlegend\":false,\"x\":[782,783],\"y\":[90.65,90.72],\"type\":\"scatter\"},{\"line\":{\"color\":\"green\"},\"showlegend\":false,\"x\":[783,784],\"y\":[90.72,90.77],\"type\":\"scatter\"},{\"line\":{\"color\":\"green\"},\"showlegend\":false,\"x\":[784,785],\"y\":[90.77,90.83],\"type\":\"scatter\"},{\"line\":{\"color\":\"green\"},\"showlegend\":false,\"x\":[785,786],\"y\":[90.83,90.73],\"type\":\"scatter\"},{\"line\":{\"color\":\"green\"},\"showlegend\":false,\"x\":[786,787],\"y\":[90.73,90.72],\"type\":\"scatter\"},{\"line\":{\"color\":\"green\"},\"showlegend\":false,\"x\":[787,788],\"y\":[90.72,90.73],\"type\":\"scatter\"},{\"line\":{\"color\":\"green\"},\"showlegend\":false,\"x\":[788,789],\"y\":[90.73,90.7],\"type\":\"scatter\"},{\"line\":{\"color\":\"red\"},\"showlegend\":false,\"x\":[789,790],\"y\":[90.7,90.78],\"type\":\"scatter\"},{\"line\":{\"color\":\"green\"},\"showlegend\":false,\"x\":[790,791],\"y\":[90.78,90.81],\"type\":\"scatter\"},{\"line\":{\"color\":\"green\"},\"showlegend\":false,\"x\":[791,792],\"y\":[90.81,90.8],\"type\":\"scatter\"},{\"line\":{\"color\":\"green\"},\"showlegend\":false,\"x\":[792,793],\"y\":[90.8,90.81],\"type\":\"scatter\"},{\"line\":{\"color\":\"green\"},\"showlegend\":false,\"x\":[793,794],\"y\":[90.81,90.88],\"type\":\"scatter\"},{\"line\":{\"color\":\"green\"},\"showlegend\":false,\"x\":[794,795],\"y\":[90.88,90.91],\"type\":\"scatter\"},{\"line\":{\"color\":\"green\"},\"showlegend\":false,\"x\":[795,796],\"y\":[90.91,90.89],\"type\":\"scatter\"},{\"line\":{\"color\":\"green\"},\"showlegend\":false,\"x\":[796,797],\"y\":[90.89,90.88],\"type\":\"scatter\"},{\"line\":{\"color\":\"green\"},\"showlegend\":false,\"x\":[797,798],\"y\":[90.88,90.87],\"type\":\"scatter\"},{\"line\":{\"color\":\"red\"},\"showlegend\":false,\"x\":[798,799],\"y\":[90.87,90.91],\"type\":\"scatter\"},{\"line\":{\"color\":\"green\"},\"showlegend\":false,\"x\":[799,800],\"y\":[90.91,90.92],\"type\":\"scatter\"},{\"line\":{\"color\":\"green\"},\"showlegend\":false,\"x\":[800,801],\"y\":[90.92,90.95],\"type\":\"scatter\"},{\"line\":{\"color\":\"green\"},\"showlegend\":false,\"x\":[801,802],\"y\":[90.95,90.95],\"type\":\"scatter\"},{\"line\":{\"color\":\"green\"},\"showlegend\":false,\"x\":[802,803],\"y\":[90.95,90.91],\"type\":\"scatter\"},{\"line\":{\"color\":\"green\"},\"showlegend\":false,\"x\":[803,804],\"y\":[90.91,90.91],\"type\":\"scatter\"},{\"line\":{\"color\":\"green\"},\"showlegend\":false,\"x\":[804,805],\"y\":[90.91,90.87],\"type\":\"scatter\"},{\"line\":{\"color\":\"red\"},\"showlegend\":false,\"x\":[805,806],\"y\":[90.87,90.9],\"type\":\"scatter\"},{\"line\":{\"color\":\"green\"},\"showlegend\":false,\"x\":[806,807],\"y\":[90.9,90.9],\"type\":\"scatter\"},{\"line\":{\"color\":\"green\"},\"showlegend\":false,\"x\":[807,808],\"y\":[90.9,90.87],\"type\":\"scatter\"},{\"line\":{\"color\":\"red\"},\"showlegend\":false,\"x\":[808,809],\"y\":[90.87,90.92],\"type\":\"scatter\"},{\"line\":{\"color\":\"green\"},\"showlegend\":false,\"x\":[809,810],\"y\":[90.92,90.66],\"type\":\"scatter\"},{\"line\":{\"color\":\"red\"},\"showlegend\":false,\"x\":[810,811],\"y\":[90.66,90.61],\"type\":\"scatter\"},{\"line\":{\"color\":\"red\"},\"showlegend\":false,\"x\":[811,812],\"y\":[90.61,90.56],\"type\":\"scatter\"},{\"line\":{\"color\":\"red\"},\"showlegend\":false,\"x\":[812,813],\"y\":[90.56,90.55],\"type\":\"scatter\"},{\"line\":{\"color\":\"red\"},\"showlegend\":false,\"x\":[813,814],\"y\":[90.55,90.55],\"type\":\"scatter\"},{\"line\":{\"color\":\"red\"},\"showlegend\":false,\"x\":[814,815],\"y\":[90.55,90.48],\"type\":\"scatter\"},{\"line\":{\"color\":\"red\"},\"showlegend\":false,\"x\":[815,816],\"y\":[90.48,90.45],\"type\":\"scatter\"},{\"line\":{\"color\":\"red\"},\"showlegend\":false,\"x\":[816,817],\"y\":[90.45,90.44],\"type\":\"scatter\"},{\"line\":{\"color\":\"red\"},\"showlegend\":false,\"x\":[817,818],\"y\":[90.44,90.49],\"type\":\"scatter\"},{\"line\":{\"color\":\"red\"},\"showlegend\":false,\"x\":[818,819],\"y\":[90.49,90.54],\"type\":\"scatter\"},{\"line\":{\"color\":\"red\"},\"showlegend\":false,\"x\":[819,820],\"y\":[90.54,90.64],\"type\":\"scatter\"},{\"line\":{\"color\":\"red\"},\"showlegend\":false,\"x\":[820,821],\"y\":[90.64,90.43],\"type\":\"scatter\"},{\"line\":{\"color\":\"red\"},\"showlegend\":false,\"x\":[821,822],\"y\":[90.43,90.57],\"type\":\"scatter\"},{\"line\":{\"color\":\"red\"},\"showlegend\":false,\"x\":[822,823],\"y\":[90.57,90.65],\"type\":\"scatter\"},{\"line\":{\"color\":\"red\"},\"showlegend\":false,\"x\":[823,824],\"y\":[90.65,90.49],\"type\":\"scatter\"},{\"line\":{\"color\":\"red\"},\"showlegend\":false,\"x\":[824,825],\"y\":[90.49,90.56],\"type\":\"scatter\"},{\"line\":{\"color\":\"red\"},\"showlegend\":false,\"x\":[825,826],\"y\":[90.56,90.66],\"type\":\"scatter\"},{\"line\":{\"color\":\"green\"},\"showlegend\":false,\"x\":[826,827],\"y\":[90.66,90.64],\"type\":\"scatter\"},{\"line\":{\"color\":\"green\"},\"showlegend\":false,\"x\":[827,828],\"y\":[90.64,90.66],\"type\":\"scatter\"},{\"line\":{\"color\":\"green\"},\"showlegend\":false,\"x\":[828,829],\"y\":[90.66,90.72],\"type\":\"scatter\"},{\"line\":{\"color\":\"green\"},\"showlegend\":false,\"x\":[829,830],\"y\":[90.72,90.59],\"type\":\"scatter\"},{\"line\":{\"color\":\"green\"},\"showlegend\":false,\"x\":[830,831],\"y\":[90.59,90.73],\"type\":\"scatter\"},{\"line\":{\"color\":\"green\"},\"showlegend\":false,\"x\":[831,832],\"y\":[90.73,90.83],\"type\":\"scatter\"},{\"line\":{\"color\":\"green\"},\"showlegend\":false,\"x\":[832,833],\"y\":[90.83,90.84],\"type\":\"scatter\"},{\"line\":{\"color\":\"green\"},\"showlegend\":false,\"x\":[833,834],\"y\":[90.84,90.85],\"type\":\"scatter\"},{\"line\":{\"color\":\"green\"},\"showlegend\":false,\"x\":[834,835],\"y\":[90.85,90.85],\"type\":\"scatter\"},{\"line\":{\"color\":\"green\"},\"showlegend\":false,\"x\":[835,836],\"y\":[90.85,90.84],\"type\":\"scatter\"},{\"line\":{\"color\":\"green\"},\"showlegend\":false,\"x\":[836,837],\"y\":[90.84,90.85],\"type\":\"scatter\"},{\"line\":{\"color\":\"green\"},\"showlegend\":false,\"x\":[837,838],\"y\":[90.85,90.9],\"type\":\"scatter\"},{\"line\":{\"color\":\"green\"},\"showlegend\":false,\"x\":[838,839],\"y\":[90.9,90.91],\"type\":\"scatter\"},{\"line\":{\"color\":\"green\"},\"showlegend\":false,\"x\":[839,840],\"y\":[90.91,90.95],\"type\":\"scatter\"},{\"line\":{\"color\":\"green\"},\"showlegend\":false,\"x\":[840,841],\"y\":[90.95,90.97],\"type\":\"scatter\"},{\"line\":{\"color\":\"green\"},\"showlegend\":false,\"x\":[841,842],\"y\":[90.97,91.03],\"type\":\"scatter\"},{\"line\":{\"color\":\"green\"},\"showlegend\":false,\"x\":[842,843],\"y\":[91.03,90.99],\"type\":\"scatter\"},{\"line\":{\"color\":\"green\"},\"showlegend\":false,\"x\":[843,844],\"y\":[90.99,90.9],\"type\":\"scatter\"},{\"line\":{\"color\":\"green\"},\"showlegend\":false,\"x\":[844,845],\"y\":[90.9,90.88],\"type\":\"scatter\"},{\"line\":{\"color\":\"green\"},\"showlegend\":false,\"x\":[845,846],\"y\":[90.88,90.87],\"type\":\"scatter\"},{\"line\":{\"color\":\"red\"},\"showlegend\":false,\"x\":[846,847],\"y\":[90.87,90.86],\"type\":\"scatter\"},{\"line\":{\"color\":\"red\"},\"showlegend\":false,\"x\":[847,848],\"y\":[90.86,90.86],\"type\":\"scatter\"},{\"line\":{\"color\":\"red\"},\"showlegend\":false,\"x\":[848,849],\"y\":[90.86,90.8],\"type\":\"scatter\"},{\"line\":{\"color\":\"red\"},\"showlegend\":false,\"x\":[849,850],\"y\":[90.8,90.76],\"type\":\"scatter\"},{\"line\":{\"color\":\"red\"},\"showlegend\":false,\"x\":[850,851],\"y\":[90.76,90.82],\"type\":\"scatter\"},{\"line\":{\"color\":\"red\"},\"showlegend\":false,\"x\":[851,852],\"y\":[90.82,90.95],\"type\":\"scatter\"},{\"line\":{\"color\":\"green\"},\"showlegend\":false,\"x\":[852,853],\"y\":[90.95,90.96],\"type\":\"scatter\"},{\"line\":{\"color\":\"green\"},\"showlegend\":false,\"x\":[853,854],\"y\":[90.96,90.98],\"type\":\"scatter\"},{\"line\":{\"color\":\"green\"},\"showlegend\":false,\"x\":[854,855],\"y\":[90.98,91.01],\"type\":\"scatter\"},{\"line\":{\"color\":\"green\"},\"showlegend\":false,\"x\":[855,856],\"y\":[91.01,90.99],\"type\":\"scatter\"},{\"line\":{\"color\":\"green\"},\"showlegend\":false,\"x\":[856,857],\"y\":[90.99,90.96],\"type\":\"scatter\"},{\"line\":{\"color\":\"green\"},\"showlegend\":false,\"x\":[857,858],\"y\":[90.96,90.93],\"type\":\"scatter\"},{\"line\":{\"color\":\"red\"},\"showlegend\":false,\"x\":[858,859],\"y\":[90.93,90.89],\"type\":\"scatter\"},{\"line\":{\"color\":\"red\"},\"showlegend\":false,\"x\":[859,860],\"y\":[90.89,90.87],\"type\":\"scatter\"},{\"line\":{\"color\":\"red\"},\"showlegend\":false,\"x\":[860,861],\"y\":[90.87,90.88],\"type\":\"scatter\"},{\"line\":{\"color\":\"red\"},\"showlegend\":false,\"x\":[861,862],\"y\":[90.88,90.89],\"type\":\"scatter\"},{\"line\":{\"color\":\"red\"},\"showlegend\":false,\"x\":[862,863],\"y\":[90.89,90.9],\"type\":\"scatter\"},{\"line\":{\"color\":\"red\"},\"showlegend\":false,\"x\":[863,864],\"y\":[90.9,90.89],\"type\":\"scatter\"},{\"line\":{\"color\":\"red\"},\"showlegend\":false,\"x\":[864,865],\"y\":[90.89,90.9],\"type\":\"scatter\"},{\"line\":{\"color\":\"red\"},\"showlegend\":false,\"x\":[865,866],\"y\":[90.9,90.92],\"type\":\"scatter\"},{\"line\":{\"color\":\"green\"},\"showlegend\":false,\"x\":[866,867],\"y\":[90.92,90.92],\"type\":\"scatter\"},{\"line\":{\"color\":\"green\"},\"showlegend\":false,\"x\":[867,868],\"y\":[90.92,90.92],\"type\":\"scatter\"},{\"line\":{\"color\":\"green\"},\"showlegend\":false,\"x\":[868,869],\"y\":[90.92,90.91],\"type\":\"scatter\"},{\"line\":{\"color\":\"green\"},\"showlegend\":false,\"x\":[869,870],\"y\":[90.91,90.9],\"type\":\"scatter\"},{\"line\":{\"color\":\"red\"},\"showlegend\":false,\"x\":[870,871],\"y\":[90.9,90.91],\"type\":\"scatter\"},{\"line\":{\"color\":\"red\"},\"showlegend\":false,\"x\":[871,872],\"y\":[90.91,90.89],\"type\":\"scatter\"},{\"line\":{\"color\":\"red\"},\"showlegend\":false,\"x\":[872,873],\"y\":[90.89,90.92],\"type\":\"scatter\"},{\"line\":{\"color\":\"red\"},\"showlegend\":false,\"x\":[873,874],\"y\":[90.92,90.94],\"type\":\"scatter\"},{\"line\":{\"color\":\"green\"},\"showlegend\":false,\"x\":[874,875],\"y\":[90.94,90.96],\"type\":\"scatter\"},{\"line\":{\"color\":\"green\"},\"showlegend\":false,\"x\":[875,876],\"y\":[90.96,90.95],\"type\":\"scatter\"},{\"line\":{\"color\":\"green\"},\"showlegend\":false,\"x\":[876,877],\"y\":[90.95,90.95],\"type\":\"scatter\"},{\"line\":{\"color\":\"green\"},\"showlegend\":false,\"x\":[877,878],\"y\":[90.95,90.89],\"type\":\"scatter\"},{\"line\":{\"color\":\"red\"},\"showlegend\":false,\"x\":[878,879],\"y\":[90.89,90.72],\"type\":\"scatter\"},{\"line\":{\"color\":\"red\"},\"showlegend\":false,\"x\":[879,880],\"y\":[90.72,90.53],\"type\":\"scatter\"},{\"line\":{\"color\":\"red\"},\"showlegend\":false,\"x\":[880,881],\"y\":[90.53,90.66],\"type\":\"scatter\"},{\"line\":{\"color\":\"red\"},\"showlegend\":false,\"x\":[881,882],\"y\":[90.66,90.56],\"type\":\"scatter\"},{\"line\":{\"color\":\"red\"},\"showlegend\":false,\"x\":[882,883],\"y\":[90.56,90.55],\"type\":\"scatter\"},{\"line\":{\"color\":\"red\"},\"showlegend\":false,\"x\":[883,884],\"y\":[90.55,90.6],\"type\":\"scatter\"},{\"line\":{\"color\":\"red\"},\"showlegend\":false,\"x\":[884,885],\"y\":[90.6,90.62],\"type\":\"scatter\"},{\"line\":{\"color\":\"red\"},\"showlegend\":false,\"x\":[885,886],\"y\":[90.62,90.61],\"type\":\"scatter\"},{\"line\":{\"color\":\"red\"},\"showlegend\":false,\"x\":[886,887],\"y\":[90.61,90.56],\"type\":\"scatter\"},{\"line\":{\"color\":\"red\"},\"showlegend\":false,\"x\":[887,888],\"y\":[90.56,90.56],\"type\":\"scatter\"},{\"line\":{\"color\":\"red\"},\"showlegend\":false,\"x\":[888,889],\"y\":[90.56,90.55],\"type\":\"scatter\"},{\"line\":{\"color\":\"red\"},\"showlegend\":false,\"x\":[889,890],\"y\":[90.55,90.53],\"type\":\"scatter\"},{\"line\":{\"color\":\"red\"},\"showlegend\":false,\"x\":[890,891],\"y\":[90.53,90.48],\"type\":\"scatter\"},{\"line\":{\"color\":\"red\"},\"showlegend\":false,\"x\":[891,892],\"y\":[90.48,90.33],\"type\":\"scatter\"},{\"line\":{\"color\":\"red\"},\"showlegend\":false,\"x\":[892,893],\"y\":[90.33,90.51],\"type\":\"scatter\"},{\"line\":{\"color\":\"red\"},\"showlegend\":false,\"x\":[893,894],\"y\":[90.51,90.69],\"type\":\"scatter\"},{\"line\":{\"color\":\"green\"},\"showlegend\":false,\"x\":[894,895],\"y\":[90.69,90.68],\"type\":\"scatter\"},{\"line\":{\"color\":\"green\"},\"showlegend\":false,\"x\":[895,896],\"y\":[90.68,90.74],\"type\":\"scatter\"},{\"line\":{\"color\":\"green\"},\"showlegend\":false,\"x\":[896,897],\"y\":[90.74,90.69],\"type\":\"scatter\"},{\"line\":{\"color\":\"green\"},\"showlegend\":false,\"x\":[897,898],\"y\":[90.69,90.66],\"type\":\"scatter\"},{\"line\":{\"color\":\"green\"},\"showlegend\":false,\"x\":[898,899],\"y\":[90.66,90.56],\"type\":\"scatter\"},{\"line\":{\"color\":\"green\"},\"showlegend\":false,\"x\":[899,900],\"y\":[90.56,90.35],\"type\":\"scatter\"},{\"line\":{\"color\":\"red\"},\"showlegend\":false,\"x\":[900,901],\"y\":[90.35,90.42],\"type\":\"scatter\"},{\"line\":{\"color\":\"red\"},\"showlegend\":false,\"x\":[901,902],\"y\":[90.42,90.47],\"type\":\"scatter\"},{\"line\":{\"color\":\"red\"},\"showlegend\":false,\"x\":[902,903],\"y\":[90.47,90.6],\"type\":\"scatter\"},{\"line\":{\"color\":\"green\"},\"showlegend\":false,\"x\":[903,904],\"y\":[90.6,90.44],\"type\":\"scatter\"},{\"line\":{\"color\":\"red\"},\"showlegend\":false,\"x\":[904,905],\"y\":[90.44,90.74],\"type\":\"scatter\"},{\"line\":{\"color\":\"green\"},\"showlegend\":false,\"x\":[905,906],\"y\":[90.74,90.64],\"type\":\"scatter\"},{\"line\":{\"color\":\"green\"},\"showlegend\":false,\"x\":[906,907],\"y\":[90.64,90.68],\"type\":\"scatter\"},{\"line\":{\"color\":\"green\"},\"showlegend\":false,\"x\":[907,908],\"y\":[90.68,90.36],\"type\":\"scatter\"},{\"line\":{\"color\":\"red\"},\"showlegend\":false,\"x\":[908,909],\"y\":[90.36,90.18],\"type\":\"scatter\"},{\"line\":{\"color\":\"red\"},\"showlegend\":false,\"x\":[909,910],\"y\":[90.18,90.15],\"type\":\"scatter\"},{\"line\":{\"color\":\"red\"},\"showlegend\":false,\"x\":[910,911],\"y\":[90.15,90.28],\"type\":\"scatter\"},{\"line\":{\"color\":\"red\"},\"showlegend\":false,\"x\":[911,912],\"y\":[90.28,90.4],\"type\":\"scatter\"},{\"line\":{\"color\":\"red\"},\"showlegend\":false,\"x\":[912,913],\"y\":[90.4,90.37],\"type\":\"scatter\"},{\"line\":{\"color\":\"red\"},\"showlegend\":false,\"x\":[913,914],\"y\":[90.37,90.38],\"type\":\"scatter\"},{\"line\":{\"color\":\"red\"},\"showlegend\":false,\"x\":[914,915],\"y\":[90.38,90.43],\"type\":\"scatter\"},{\"line\":{\"color\":\"red\"},\"showlegend\":false,\"x\":[915,916],\"y\":[90.43,90.45],\"type\":\"scatter\"},{\"line\":{\"color\":\"red\"},\"showlegend\":false,\"x\":[916,917],\"y\":[90.45,90.43],\"type\":\"scatter\"},{\"line\":{\"color\":\"red\"},\"showlegend\":false,\"x\":[917,918],\"y\":[90.43,90.44],\"type\":\"scatter\"},{\"line\":{\"color\":\"red\"},\"showlegend\":false,\"x\":[918,919],\"y\":[90.44,90.45],\"type\":\"scatter\"},{\"line\":{\"color\":\"green\"},\"showlegend\":false,\"x\":[919,920],\"y\":[90.45,90.61],\"type\":\"scatter\"},{\"line\":{\"color\":\"green\"},\"showlegend\":false,\"x\":[920,921],\"y\":[90.61,90.53],\"type\":\"scatter\"},{\"line\":{\"color\":\"green\"},\"showlegend\":false,\"x\":[921,922],\"y\":[90.53,90.59],\"type\":\"scatter\"},{\"line\":{\"color\":\"green\"},\"showlegend\":false,\"x\":[922,923],\"y\":[90.59,90.58],\"type\":\"scatter\"},{\"line\":{\"color\":\"green\"},\"showlegend\":false,\"x\":[923,924],\"y\":[90.58,90.56],\"type\":\"scatter\"},{\"line\":{\"color\":\"green\"},\"showlegend\":false,\"x\":[924,925],\"y\":[90.56,90.56],\"type\":\"scatter\"},{\"line\":{\"color\":\"green\"},\"showlegend\":false,\"x\":[925,926],\"y\":[90.56,90.6],\"type\":\"scatter\"},{\"line\":{\"color\":\"green\"},\"showlegend\":false,\"x\":[926,927],\"y\":[90.6,90.77],\"type\":\"scatter\"},{\"line\":{\"color\":\"green\"},\"showlegend\":false,\"x\":[927,928],\"y\":[90.77,90.78],\"type\":\"scatter\"},{\"line\":{\"color\":\"green\"},\"showlegend\":false,\"x\":[928,929],\"y\":[90.78,90.8],\"type\":\"scatter\"},{\"line\":{\"color\":\"green\"},\"showlegend\":false,\"x\":[929,930],\"y\":[90.8,90.8],\"type\":\"scatter\"},{\"line\":{\"color\":\"green\"},\"showlegend\":false,\"x\":[930,931],\"y\":[90.8,90.7],\"type\":\"scatter\"},{\"line\":{\"color\":\"red\"},\"showlegend\":false,\"x\":[931,932],\"y\":[90.7,90.73],\"type\":\"scatter\"},{\"line\":{\"color\":\"red\"},\"showlegend\":false,\"x\":[932,933],\"y\":[90.73,90.71],\"type\":\"scatter\"},{\"line\":{\"color\":\"red\"},\"showlegend\":false,\"x\":[933,934],\"y\":[90.71,90.7],\"type\":\"scatter\"},{\"line\":{\"color\":\"red\"},\"showlegend\":false,\"x\":[934,935],\"y\":[90.7,90.75],\"type\":\"scatter\"},{\"line\":{\"color\":\"red\"},\"showlegend\":false,\"x\":[935,936],\"y\":[90.75,90.78],\"type\":\"scatter\"},{\"line\":{\"color\":\"red\"},\"showlegend\":false,\"x\":[936,937],\"y\":[90.78,90.81],\"type\":\"scatter\"},{\"line\":{\"color\":\"red\"},\"showlegend\":false,\"x\":[937,938],\"y\":[90.81,90.85],\"type\":\"scatter\"},{\"line\":{\"color\":\"green\"},\"showlegend\":false,\"x\":[938,939],\"y\":[90.85,90.81],\"type\":\"scatter\"},{\"line\":{\"color\":\"red\"},\"showlegend\":false,\"x\":[939,940],\"y\":[90.81,90.78],\"type\":\"scatter\"},{\"line\":{\"color\":\"red\"},\"showlegend\":false,\"x\":[940,941],\"y\":[90.78,90.75],\"type\":\"scatter\"},{\"line\":{\"color\":\"red\"},\"showlegend\":false,\"x\":[941,942],\"y\":[90.75,90.75],\"type\":\"scatter\"},{\"line\":{\"color\":\"red\"},\"showlegend\":false,\"x\":[942,943],\"y\":[90.75,90.72],\"type\":\"scatter\"},{\"line\":{\"color\":\"red\"},\"showlegend\":false,\"x\":[943,944],\"y\":[90.72,90.78],\"type\":\"scatter\"},{\"line\":{\"color\":\"red\"},\"showlegend\":false,\"x\":[944,945],\"y\":[90.78,90.85],\"type\":\"scatter\"},{\"line\":{\"color\":\"green\"},\"showlegend\":false,\"x\":[945,946],\"y\":[90.85,90.74],\"type\":\"scatter\"},{\"line\":{\"color\":\"red\"},\"showlegend\":false,\"x\":[946,947],\"y\":[90.74,90.69],\"type\":\"scatter\"},{\"line\":{\"color\":\"red\"},\"showlegend\":false,\"x\":[947,948],\"y\":[90.69,90.73],\"type\":\"scatter\"},{\"line\":{\"color\":\"red\"},\"showlegend\":false,\"x\":[948,949],\"y\":[90.73,90.64],\"type\":\"scatter\"},{\"line\":{\"color\":\"red\"},\"showlegend\":false,\"x\":[949,950],\"y\":[90.64,90.61],\"type\":\"scatter\"},{\"line\":{\"color\":\"red\"},\"showlegend\":false,\"x\":[950,951],\"y\":[90.61,90.59],\"type\":\"scatter\"},{\"line\":{\"color\":\"red\"},\"showlegend\":false,\"x\":[951,952],\"y\":[90.59,90.59],\"type\":\"scatter\"},{\"line\":{\"color\":\"red\"},\"showlegend\":false,\"x\":[952,953],\"y\":[90.59,90.65],\"type\":\"scatter\"},{\"line\":{\"color\":\"red\"},\"showlegend\":false,\"x\":[953,954],\"y\":[90.65,90.7],\"type\":\"scatter\"},{\"line\":{\"color\":\"red\"},\"showlegend\":false,\"x\":[954,955],\"y\":[90.7,90.85],\"type\":\"scatter\"},{\"line\":{\"color\":\"green\"},\"showlegend\":false,\"x\":[955,956],\"y\":[90.85,90.86],\"type\":\"scatter\"},{\"line\":{\"color\":\"green\"},\"showlegend\":false,\"x\":[956,957],\"y\":[90.86,91.31],\"type\":\"scatter\"},{\"line\":{\"color\":\"green\"},\"showlegend\":false,\"x\":[957,958],\"y\":[91.31,91.17],\"type\":\"scatter\"},{\"line\":{\"color\":\"green\"},\"showlegend\":false,\"x\":[958,959],\"y\":[91.17,91.27],\"type\":\"scatter\"},{\"line\":{\"color\":\"green\"},\"showlegend\":false,\"x\":[959,960],\"y\":[91.27,91.24],\"type\":\"scatter\"},{\"line\":{\"color\":\"green\"},\"showlegend\":false,\"x\":[960,961],\"y\":[91.24,91.21],\"type\":\"scatter\"},{\"line\":{\"color\":\"green\"},\"showlegend\":false,\"x\":[961,962],\"y\":[91.21,91.28],\"type\":\"scatter\"},{\"line\":{\"color\":\"green\"},\"showlegend\":false,\"x\":[962,963],\"y\":[91.28,91.18],\"type\":\"scatter\"},{\"line\":{\"color\":\"green\"},\"showlegend\":false,\"x\":[963,964],\"y\":[91.18,91.23],\"type\":\"scatter\"},{\"line\":{\"color\":\"green\"},\"showlegend\":false,\"x\":[964,965],\"y\":[91.23,90.88],\"type\":\"scatter\"},{\"line\":{\"color\":\"red\"},\"showlegend\":false,\"x\":[965,966],\"y\":[90.88,90.83],\"type\":\"scatter\"},{\"line\":{\"color\":\"red\"},\"showlegend\":false,\"x\":[966,967],\"y\":[90.83,90.8],\"type\":\"scatter\"},{\"line\":{\"color\":\"red\"},\"showlegend\":false,\"x\":[967,968],\"y\":[90.8,90.83],\"type\":\"scatter\"},{\"line\":{\"color\":\"red\"},\"showlegend\":false,\"x\":[968,969],\"y\":[90.83,90.75],\"type\":\"scatter\"},{\"line\":{\"color\":\"red\"},\"showlegend\":false,\"x\":[969,970],\"y\":[90.75,90.55],\"type\":\"scatter\"},{\"line\":{\"color\":\"red\"},\"showlegend\":false,\"x\":[970,971],\"y\":[90.55,90.41],\"type\":\"scatter\"},{\"line\":{\"color\":\"red\"},\"showlegend\":false,\"x\":[971,972],\"y\":[90.41,90.33],\"type\":\"scatter\"},{\"line\":{\"color\":\"red\"},\"showlegend\":false,\"x\":[972,973],\"y\":[90.33,90.22],\"type\":\"scatter\"},{\"line\":{\"color\":\"red\"},\"showlegend\":false,\"x\":[973,974],\"y\":[90.22,90.34],\"type\":\"scatter\"},{\"line\":{\"color\":\"red\"},\"showlegend\":false,\"x\":[974,975],\"y\":[90.34,90.65],\"type\":\"scatter\"},{\"line\":{\"color\":\"red\"},\"showlegend\":false,\"x\":[975,976],\"y\":[90.65,90.43],\"type\":\"scatter\"},{\"line\":{\"color\":\"red\"},\"showlegend\":false,\"x\":[976,977],\"y\":[90.43,90.24],\"type\":\"scatter\"},{\"line\":{\"color\":\"red\"},\"showlegend\":false,\"x\":[977,978],\"y\":[90.24,90.11],\"type\":\"scatter\"},{\"line\":{\"color\":\"red\"},\"showlegend\":false,\"x\":[978,979],\"y\":[90.11,90.11],\"type\":\"scatter\"},{\"line\":{\"color\":\"red\"},\"showlegend\":false,\"x\":[979,980],\"y\":[90.11,90.34],\"type\":\"scatter\"},{\"line\":{\"color\":\"red\"},\"showlegend\":false,\"x\":[980,981],\"y\":[90.34,90.24],\"type\":\"scatter\"},{\"line\":{\"color\":\"red\"},\"showlegend\":false,\"x\":[981,982],\"y\":[90.24,89.53],\"type\":\"scatter\"},{\"line\":{\"color\":\"red\"},\"showlegend\":false,\"x\":[982,983],\"y\":[89.53,89.86],\"type\":\"scatter\"},{\"line\":{\"color\":\"red\"},\"showlegend\":false,\"x\":[983,984],\"y\":[89.86,89.75],\"type\":\"scatter\"},{\"line\":{\"color\":\"red\"},\"showlegend\":false,\"x\":[984,985],\"y\":[89.75,89.98],\"type\":\"scatter\"},{\"line\":{\"color\":\"red\"},\"showlegend\":false,\"x\":[985,986],\"y\":[89.98,89.91],\"type\":\"scatter\"},{\"line\":{\"color\":\"red\"},\"showlegend\":false,\"x\":[986,987],\"y\":[89.91,89.99],\"type\":\"scatter\"},{\"line\":{\"color\":\"red\"},\"showlegend\":false,\"x\":[987,988],\"y\":[89.99,90.12],\"type\":\"scatter\"},{\"line\":{\"color\":\"green\"},\"showlegend\":false,\"x\":[988,989],\"y\":[90.12,90.04],\"type\":\"scatter\"},{\"line\":{\"color\":\"green\"},\"showlegend\":false,\"x\":[989,990],\"y\":[90.04,90.12],\"type\":\"scatter\"},{\"line\":{\"color\":\"green\"},\"showlegend\":false,\"x\":[990,991],\"y\":[90.12,90.13],\"type\":\"scatter\"},{\"line\":{\"color\":\"green\"},\"showlegend\":false,\"x\":[991,992],\"y\":[90.13,90.33],\"type\":\"scatter\"},{\"line\":{\"color\":\"green\"},\"showlegend\":false,\"x\":[992,993],\"y\":[90.33,90.4],\"type\":\"scatter\"},{\"line\":{\"color\":\"green\"},\"showlegend\":false,\"x\":[993,994],\"y\":[90.4,90.34],\"type\":\"scatter\"},{\"line\":{\"color\":\"green\"},\"showlegend\":false,\"x\":[994,995],\"y\":[90.34,90.19],\"type\":\"scatter\"},{\"line\":{\"color\":\"green\"},\"showlegend\":false,\"x\":[995,996],\"y\":[90.19,89.81],\"type\":\"scatter\"},{\"line\":{\"color\":\"red\"},\"showlegend\":false,\"x\":[996,997],\"y\":[89.81,89.84],\"type\":\"scatter\"},{\"line\":{\"color\":\"red\"},\"showlegend\":false,\"x\":[997,998],\"y\":[89.84,90.0],\"type\":\"scatter\"},{\"line\":{\"color\":\"red\"},\"showlegend\":false,\"x\":[998,999],\"y\":[90.0,89.82],\"type\":\"scatter\"},{\"line\":{\"color\":\"red\"},\"showlegend\":false,\"x\":[999,1000],\"y\":[89.82,89.8],\"type\":\"scatter\"},{\"line\":{\"color\":\"red\"},\"showlegend\":false,\"x\":[1000,1001],\"y\":[89.8,89.93],\"type\":\"scatter\"},{\"line\":{\"color\":\"red\"},\"showlegend\":false,\"x\":[1001,1002],\"y\":[89.93,89.93],\"type\":\"scatter\"},{\"line\":{\"color\":\"red\"},\"showlegend\":false,\"x\":[1002,1003],\"y\":[89.93,90.05],\"type\":\"scatter\"},{\"line\":{\"color\":\"red\"},\"showlegend\":false,\"x\":[1003,1004],\"y\":[90.05,90.07],\"type\":\"scatter\"},{\"line\":{\"color\":\"red\"},\"showlegend\":false,\"x\":[1004,1005],\"y\":[90.07,90.1],\"type\":\"scatter\"},{\"line\":{\"color\":\"green\"},\"showlegend\":false,\"x\":[1005,1006],\"y\":[90.1,90.15],\"type\":\"scatter\"},{\"line\":{\"color\":\"green\"},\"showlegend\":false,\"x\":[1006,1007],\"y\":[90.15,89.99],\"type\":\"scatter\"},{\"line\":{\"color\":\"red\"},\"showlegend\":false,\"x\":[1007,1008],\"y\":[89.99,90.04],\"type\":\"scatter\"},{\"line\":{\"color\":\"red\"},\"showlegend\":false,\"x\":[1008,1009],\"y\":[90.04,89.95],\"type\":\"scatter\"},{\"line\":{\"color\":\"red\"},\"showlegend\":false,\"x\":[1009,1010],\"y\":[89.95,89.92],\"type\":\"scatter\"},{\"line\":{\"color\":\"red\"},\"showlegend\":false,\"x\":[1010,1011],\"y\":[89.92,89.95],\"type\":\"scatter\"},{\"line\":{\"color\":\"red\"},\"showlegend\":false,\"x\":[1011,1012],\"y\":[89.95,90.05],\"type\":\"scatter\"},{\"line\":{\"color\":\"red\"},\"showlegend\":false,\"x\":[1012,1013],\"y\":[90.05,90.04],\"type\":\"scatter\"},{\"line\":{\"color\":\"red\"},\"showlegend\":false,\"x\":[1013,1014],\"y\":[90.04,90.06],\"type\":\"scatter\"},{\"line\":{\"color\":\"green\"},\"showlegend\":false,\"x\":[1014,1015],\"y\":[90.06,90.19],\"type\":\"scatter\"},{\"line\":{\"color\":\"green\"},\"showlegend\":false,\"x\":[1015,1016],\"y\":[90.19,90.05],\"type\":\"scatter\"},{\"line\":{\"color\":\"red\"},\"showlegend\":false,\"x\":[1016,1017],\"y\":[90.05,89.91],\"type\":\"scatter\"},{\"line\":{\"color\":\"red\"},\"showlegend\":false,\"x\":[1017,1018],\"y\":[89.91,89.91],\"type\":\"scatter\"},{\"line\":{\"color\":\"red\"},\"showlegend\":false,\"x\":[1018,1019],\"y\":[89.91,89.87],\"type\":\"scatter\"},{\"line\":{\"color\":\"red\"},\"showlegend\":false,\"x\":[1019,1020],\"y\":[89.87,89.92],\"type\":\"scatter\"},{\"line\":{\"color\":\"red\"},\"showlegend\":false,\"x\":[1020,1021],\"y\":[89.92,89.91],\"type\":\"scatter\"},{\"line\":{\"color\":\"red\"},\"showlegend\":false,\"x\":[1021,1022],\"y\":[89.91,89.87],\"type\":\"scatter\"},{\"line\":{\"color\":\"red\"},\"showlegend\":false,\"x\":[1022,1023],\"y\":[89.87,89.84],\"type\":\"scatter\"},{\"line\":{\"color\":\"red\"},\"showlegend\":false,\"x\":[1023,1024],\"y\":[89.84,89.93],\"type\":\"scatter\"},{\"line\":{\"color\":\"red\"},\"showlegend\":false,\"x\":[1024,1025],\"y\":[89.93,89.93],\"type\":\"scatter\"},{\"line\":{\"color\":\"red\"},\"showlegend\":false,\"x\":[1025,1026],\"y\":[89.93,90.02],\"type\":\"scatter\"},{\"line\":{\"color\":\"green\"},\"showlegend\":false,\"x\":[1026,1027],\"y\":[90.02,89.99],\"type\":\"scatter\"},{\"line\":{\"color\":\"green\"},\"showlegend\":false,\"x\":[1027,1028],\"y\":[89.99,90.06],\"type\":\"scatter\"},{\"line\":{\"color\":\"green\"},\"showlegend\":false,\"x\":[1028,1029],\"y\":[90.06,90.05],\"type\":\"scatter\"},{\"line\":{\"color\":\"green\"},\"showlegend\":false,\"x\":[1029,1030],\"y\":[90.05,89.61],\"type\":\"scatter\"},{\"line\":{\"color\":\"red\"},\"showlegend\":false,\"x\":[1030,1031],\"y\":[89.61,89.66],\"type\":\"scatter\"},{\"line\":{\"color\":\"red\"},\"showlegend\":false,\"x\":[1031,1032],\"y\":[89.66,89.63],\"type\":\"scatter\"},{\"line\":{\"color\":\"red\"},\"showlegend\":false,\"x\":[1032,1033],\"y\":[89.63,89.63],\"type\":\"scatter\"},{\"line\":{\"color\":\"red\"},\"showlegend\":false,\"x\":[1033,1034],\"y\":[89.63,89.59],\"type\":\"scatter\"},{\"line\":{\"color\":\"red\"},\"showlegend\":false,\"x\":[1034,1035],\"y\":[89.59,89.6],\"type\":\"scatter\"},{\"line\":{\"color\":\"red\"},\"showlegend\":false,\"x\":[1035,1036],\"y\":[89.6,89.67],\"type\":\"scatter\"},{\"line\":{\"color\":\"red\"},\"showlegend\":false,\"x\":[1036,1037],\"y\":[89.67,89.66],\"type\":\"scatter\"},{\"line\":{\"color\":\"red\"},\"showlegend\":false,\"x\":[1037,1038],\"y\":[89.66,89.7],\"type\":\"scatter\"},{\"line\":{\"color\":\"red\"},\"showlegend\":false,\"x\":[1038,1039],\"y\":[89.7,89.74],\"type\":\"scatter\"},{\"line\":{\"color\":\"red\"},\"showlegend\":false,\"x\":[1039,1040],\"y\":[89.74,89.77],\"type\":\"scatter\"},{\"line\":{\"color\":\"green\"},\"showlegend\":false,\"x\":[1040,1041],\"y\":[89.77,89.79],\"type\":\"scatter\"},{\"line\":{\"color\":\"green\"},\"showlegend\":false,\"x\":[1041,1042],\"y\":[89.79,89.82],\"type\":\"scatter\"},{\"line\":{\"color\":\"green\"},\"showlegend\":false,\"x\":[1042,1043],\"y\":[89.82,89.84],\"type\":\"scatter\"},{\"line\":{\"color\":\"green\"},\"showlegend\":false,\"x\":[1043,1044],\"y\":[89.84,89.91],\"type\":\"scatter\"},{\"line\":{\"color\":\"green\"},\"showlegend\":false,\"x\":[1044,1045],\"y\":[89.91,89.89],\"type\":\"scatter\"},{\"line\":{\"color\":\"green\"},\"showlegend\":false,\"x\":[1045,1046],\"y\":[89.89,89.89],\"type\":\"scatter\"},{\"line\":{\"color\":\"green\"},\"showlegend\":false,\"x\":[1046,1047],\"y\":[89.89,89.92],\"type\":\"scatter\"},{\"line\":{\"color\":\"green\"},\"showlegend\":false,\"x\":[1047,1048],\"y\":[89.92,89.97],\"type\":\"scatter\"},{\"line\":{\"color\":\"green\"},\"showlegend\":false,\"x\":[1048,1049],\"y\":[89.97,90.03],\"type\":\"scatter\"},{\"line\":{\"color\":\"green\"},\"showlegend\":false,\"x\":[1049,1050],\"y\":[90.03,90.07],\"type\":\"scatter\"},{\"line\":{\"color\":\"green\"},\"showlegend\":false,\"x\":[1050,1051],\"y\":[90.07,90.08],\"type\":\"scatter\"},{\"line\":{\"color\":\"green\"},\"showlegend\":false,\"x\":[1051,1052],\"y\":[90.08,90.1],\"type\":\"scatter\"},{\"line\":{\"color\":\"green\"},\"showlegend\":false,\"x\":[1052,1053],\"y\":[90.1,90.12],\"type\":\"scatter\"},{\"line\":{\"color\":\"green\"},\"showlegend\":false,\"x\":[1053,1054],\"y\":[90.12,90.15],\"type\":\"scatter\"},{\"line\":{\"color\":\"green\"},\"showlegend\":false,\"x\":[1054,1055],\"y\":[90.15,90.11],\"type\":\"scatter\"},{\"line\":{\"color\":\"green\"},\"showlegend\":false,\"x\":[1055,1056],\"y\":[90.11,90.06],\"type\":\"scatter\"},{\"line\":{\"color\":\"green\"},\"showlegend\":false,\"x\":[1056,1057],\"y\":[90.06,90.05],\"type\":\"scatter\"},{\"line\":{\"color\":\"red\"},\"showlegend\":false,\"x\":[1057,1058],\"y\":[90.05,90.05],\"type\":\"scatter\"},{\"line\":{\"color\":\"red\"},\"showlegend\":false,\"x\":[1058,1059],\"y\":[90.05,90.08],\"type\":\"scatter\"},{\"line\":{\"color\":\"red\"},\"showlegend\":false,\"x\":[1059,1060],\"y\":[90.08,90.09],\"type\":\"scatter\"},{\"line\":{\"color\":\"green\"},\"showlegend\":false,\"x\":[1060,1061],\"y\":[90.09,90.08],\"type\":\"scatter\"},{\"line\":{\"color\":\"green\"},\"showlegend\":false,\"x\":[1061,1062],\"y\":[90.08,90.21],\"type\":\"scatter\"},{\"line\":{\"color\":\"green\"},\"showlegend\":false,\"x\":[1062,1063],\"y\":[90.21,90.15],\"type\":\"scatter\"},{\"line\":{\"color\":\"green\"},\"showlegend\":false,\"x\":[1063,1064],\"y\":[90.15,90.13],\"type\":\"scatter\"},{\"line\":{\"color\":\"green\"},\"showlegend\":false,\"x\":[1064,1065],\"y\":[90.13,90.15],\"type\":\"scatter\"},{\"line\":{\"color\":\"red\"},\"showlegend\":false,\"x\":[1065,1066],\"y\":[90.15,90.15],\"type\":\"scatter\"},{\"line\":{\"color\":\"red\"},\"showlegend\":false,\"x\":[1066,1067],\"y\":[90.15,90.14],\"type\":\"scatter\"},{\"line\":{\"color\":\"red\"},\"showlegend\":false,\"x\":[1067,1068],\"y\":[90.14,90.14],\"type\":\"scatter\"},{\"line\":{\"color\":\"red\"},\"showlegend\":false,\"x\":[1068,1069],\"y\":[90.14,90.15],\"type\":\"scatter\"},{\"line\":{\"color\":\"red\"},\"showlegend\":false,\"x\":[1069,1070],\"y\":[90.15,90.14],\"type\":\"scatter\"},{\"line\":{\"color\":\"red\"},\"showlegend\":false,\"x\":[1070,1071],\"y\":[90.14,89.86],\"type\":\"scatter\"},{\"line\":{\"color\":\"red\"},\"showlegend\":false,\"x\":[1071,1072],\"y\":[89.86,89.9],\"type\":\"scatter\"},{\"line\":{\"color\":\"red\"},\"showlegend\":false,\"x\":[1072,1073],\"y\":[89.9,89.78],\"type\":\"scatter\"},{\"line\":{\"color\":\"red\"},\"showlegend\":false,\"x\":[1073,1074],\"y\":[89.78,89.81],\"type\":\"scatter\"},{\"line\":{\"color\":\"red\"},\"showlegend\":false,\"x\":[1074,1075],\"y\":[89.81,89.85],\"type\":\"scatter\"},{\"line\":{\"color\":\"red\"},\"showlegend\":false,\"x\":[1075,1076],\"y\":[89.85,89.72],\"type\":\"scatter\"},{\"line\":{\"color\":\"red\"},\"showlegend\":false,\"x\":[1076,1077],\"y\":[89.72,89.89],\"type\":\"scatter\"},{\"line\":{\"color\":\"red\"},\"showlegend\":false,\"x\":[1077,1078],\"y\":[89.89,89.81],\"type\":\"scatter\"},{\"line\":{\"color\":\"red\"},\"showlegend\":false,\"x\":[1078,1079],\"y\":[89.81,89.81],\"type\":\"scatter\"},{\"line\":{\"color\":\"red\"},\"showlegend\":false,\"x\":[1079,1080],\"y\":[89.81,89.82],\"type\":\"scatter\"},{\"line\":{\"color\":\"red\"},\"showlegend\":false,\"x\":[1080,1081],\"y\":[89.82,89.84],\"type\":\"scatter\"},{\"line\":{\"color\":\"red\"},\"showlegend\":false,\"x\":[1081,1082],\"y\":[89.84,89.55],\"type\":\"scatter\"},{\"line\":{\"color\":\"red\"},\"showlegend\":false,\"x\":[1082,1083],\"y\":[89.55,89.76],\"type\":\"scatter\"},{\"line\":{\"color\":\"red\"},\"showlegend\":false,\"x\":[1083,1084],\"y\":[89.76,89.7],\"type\":\"scatter\"},{\"line\":{\"color\":\"red\"},\"showlegend\":false,\"x\":[1084,1085],\"y\":[89.7,89.64],\"type\":\"scatter\"},{\"line\":{\"color\":\"red\"},\"showlegend\":false,\"x\":[1085,1086],\"y\":[89.64,89.73],\"type\":\"scatter\"},{\"line\":{\"color\":\"red\"},\"showlegend\":false,\"x\":[1086,1087],\"y\":[89.73,89.76],\"type\":\"scatter\"},{\"line\":{\"color\":\"red\"},\"showlegend\":false,\"x\":[1087,1088],\"y\":[89.76,89.73],\"type\":\"scatter\"},{\"line\":{\"color\":\"red\"},\"showlegend\":false,\"x\":[1088,1089],\"y\":[89.73,89.72],\"type\":\"scatter\"},{\"line\":{\"color\":\"red\"},\"showlegend\":false,\"x\":[1089,1090],\"y\":[89.72,89.69],\"type\":\"scatter\"},{\"line\":{\"color\":\"red\"},\"showlegend\":false,\"x\":[1090,1091],\"y\":[89.69,89.69],\"type\":\"scatter\"},{\"line\":{\"color\":\"red\"},\"showlegend\":false,\"x\":[1091,1092],\"y\":[89.69,89.68],\"type\":\"scatter\"},{\"line\":{\"color\":\"red\"},\"showlegend\":false,\"x\":[1092,1093],\"y\":[89.68,89.61],\"type\":\"scatter\"},{\"line\":{\"color\":\"red\"},\"showlegend\":false,\"x\":[1093,1094],\"y\":[89.61,89.59],\"type\":\"scatter\"},{\"line\":{\"color\":\"red\"},\"showlegend\":false,\"x\":[1094,1095],\"y\":[89.59,89.58],\"type\":\"scatter\"},{\"line\":{\"color\":\"red\"},\"showlegend\":false,\"x\":[1095,1096],\"y\":[89.58,89.55],\"type\":\"scatter\"},{\"line\":{\"color\":\"red\"},\"showlegend\":false,\"x\":[1096,1097],\"y\":[89.55,89.56],\"type\":\"scatter\"},{\"line\":{\"color\":\"red\"},\"showlegend\":false,\"x\":[1097,1098],\"y\":[89.56,89.38],\"type\":\"scatter\"},{\"line\":{\"color\":\"red\"},\"showlegend\":false,\"x\":[1098,1099],\"y\":[89.38,89.24],\"type\":\"scatter\"},{\"line\":{\"color\":\"red\"},\"showlegend\":false,\"x\":[1099,1100],\"y\":[89.24,89.4],\"type\":\"scatter\"},{\"line\":{\"color\":\"red\"},\"showlegend\":false,\"x\":[1100,1101],\"y\":[89.4,89.39],\"type\":\"scatter\"},{\"line\":{\"color\":\"red\"},\"showlegend\":false,\"x\":[1101,1102],\"y\":[89.39,89.34],\"type\":\"scatter\"},{\"line\":{\"color\":\"red\"},\"showlegend\":false,\"x\":[1102,1103],\"y\":[89.34,89.35],\"type\":\"scatter\"},{\"line\":{\"color\":\"red\"},\"showlegend\":false,\"x\":[1103,1104],\"y\":[89.35,89.3],\"type\":\"scatter\"},{\"line\":{\"color\":\"red\"},\"showlegend\":false,\"x\":[1104,1105],\"y\":[89.3,89.35],\"type\":\"scatter\"},{\"line\":{\"color\":\"red\"},\"showlegend\":false,\"x\":[1105,1106],\"y\":[89.35,89.41],\"type\":\"scatter\"},{\"line\":{\"color\":\"red\"},\"showlegend\":false,\"x\":[1106,1107],\"y\":[89.41,89.4],\"type\":\"scatter\"},{\"line\":{\"color\":\"red\"},\"showlegend\":false,\"x\":[1107,1108],\"y\":[89.4,89.48],\"type\":\"scatter\"},{\"line\":{\"color\":\"green\"},\"showlegend\":false,\"x\":[1108,1109],\"y\":[89.48,89.54],\"type\":\"scatter\"},{\"line\":{\"color\":\"green\"},\"showlegend\":false,\"x\":[1109,1110],\"y\":[89.54,89.57],\"type\":\"scatter\"},{\"line\":{\"color\":\"green\"},\"showlegend\":false,\"x\":[1110,1111],\"y\":[89.57,89.54],\"type\":\"scatter\"},{\"line\":{\"color\":\"green\"},\"showlegend\":false,\"x\":[1111,1112],\"y\":[89.54,89.6],\"type\":\"scatter\"},{\"line\":{\"color\":\"green\"},\"showlegend\":false,\"x\":[1112,1113],\"y\":[89.6,89.6],\"type\":\"scatter\"},{\"line\":{\"color\":\"green\"},\"showlegend\":false,\"x\":[1113,1114],\"y\":[89.6,89.63],\"type\":\"scatter\"},{\"line\":{\"color\":\"green\"},\"showlegend\":false,\"x\":[1114,1115],\"y\":[89.63,89.63],\"type\":\"scatter\"},{\"line\":{\"color\":\"green\"},\"showlegend\":false,\"x\":[1115,1116],\"y\":[89.63,89.66],\"type\":\"scatter\"},{\"line\":{\"color\":\"green\"},\"showlegend\":false,\"x\":[1116,1117],\"y\":[89.66,89.61],\"type\":\"scatter\"},{\"line\":{\"color\":\"green\"},\"showlegend\":false,\"x\":[1117,1118],\"y\":[89.61,89.65],\"type\":\"scatter\"},{\"line\":{\"color\":\"green\"},\"showlegend\":false,\"x\":[1118,1119],\"y\":[89.65,89.66],\"type\":\"scatter\"},{\"line\":{\"color\":\"green\"},\"showlegend\":false,\"x\":[1119,1120],\"y\":[89.66,89.65],\"type\":\"scatter\"},{\"line\":{\"color\":\"green\"},\"showlegend\":false,\"x\":[1120,1121],\"y\":[89.65,89.61],\"type\":\"scatter\"},{\"line\":{\"color\":\"green\"},\"showlegend\":false,\"x\":[1121,1122],\"y\":[89.61,89.63],\"type\":\"scatter\"},{\"line\":{\"color\":\"red\"},\"showlegend\":false,\"x\":[1122,1123],\"y\":[89.63,89.66],\"type\":\"scatter\"},{\"line\":{\"color\":\"green\"},\"showlegend\":false,\"x\":[1123,1124],\"y\":[89.66,89.65],\"type\":\"scatter\"},{\"line\":{\"color\":\"green\"},\"showlegend\":false,\"x\":[1124,1125],\"y\":[89.65,89.62],\"type\":\"scatter\"},{\"line\":{\"color\":\"red\"},\"showlegend\":false,\"x\":[1125,1126],\"y\":[89.62,89.62],\"type\":\"scatter\"},{\"line\":{\"color\":\"red\"},\"showlegend\":false,\"x\":[1126,1127],\"y\":[89.62,89.63],\"type\":\"scatter\"},{\"line\":{\"color\":\"red\"},\"showlegend\":false,\"x\":[1127,1128],\"y\":[89.63,89.61],\"type\":\"scatter\"},{\"line\":{\"color\":\"red\"},\"showlegend\":false,\"x\":[1128,1129],\"y\":[89.61,89.62],\"type\":\"scatter\"},{\"line\":{\"color\":\"red\"},\"showlegend\":false,\"x\":[1129,1130],\"y\":[89.62,89.53],\"type\":\"scatter\"},{\"line\":{\"color\":\"red\"},\"showlegend\":false,\"x\":[1130,1131],\"y\":[89.53,89.52],\"type\":\"scatter\"},{\"line\":{\"color\":\"red\"},\"showlegend\":false,\"x\":[1131,1132],\"y\":[89.52,89.63],\"type\":\"scatter\"},{\"line\":{\"color\":\"red\"},\"showlegend\":false,\"x\":[1132,1133],\"y\":[89.63,89.67],\"type\":\"scatter\"},{\"line\":{\"color\":\"green\"},\"showlegend\":false,\"x\":[1133,1134],\"y\":[89.67,89.58],\"type\":\"scatter\"},{\"line\":{\"color\":\"red\"},\"showlegend\":false,\"x\":[1134,1135],\"y\":[89.58,89.59],\"type\":\"scatter\"},{\"line\":{\"color\":\"red\"},\"showlegend\":false,\"x\":[1135,1136],\"y\":[89.59,89.56],\"type\":\"scatter\"},{\"line\":{\"color\":\"red\"},\"showlegend\":false,\"x\":[1136,1137],\"y\":[89.56,89.53],\"type\":\"scatter\"},{\"line\":{\"color\":\"red\"},\"showlegend\":false,\"x\":[1137,1138],\"y\":[89.53,89.55],\"type\":\"scatter\"},{\"line\":{\"color\":\"red\"},\"showlegend\":false,\"x\":[1138,1139],\"y\":[89.55,89.5],\"type\":\"scatter\"},{\"line\":{\"color\":\"red\"},\"showlegend\":false,\"x\":[1139,1140],\"y\":[89.5,89.59],\"type\":\"scatter\"},{\"line\":{\"color\":\"red\"},\"showlegend\":false,\"x\":[1140,1141],\"y\":[89.59,89.66],\"type\":\"scatter\"},{\"line\":{\"color\":\"green\"},\"showlegend\":false,\"x\":[1141,1142],\"y\":[89.66,89.75],\"type\":\"scatter\"},{\"line\":{\"color\":\"green\"},\"showlegend\":false,\"x\":[1142,1143],\"y\":[89.75,89.74],\"type\":\"scatter\"},{\"line\":{\"color\":\"green\"},\"showlegend\":false,\"x\":[1143,1144],\"y\":[89.74,89.72],\"type\":\"scatter\"},{\"line\":{\"color\":\"green\"},\"showlegend\":false,\"x\":[1144,1145],\"y\":[89.72,89.81],\"type\":\"scatter\"},{\"line\":{\"color\":\"green\"},\"showlegend\":false,\"x\":[1145,1146],\"y\":[89.81,89.82],\"type\":\"scatter\"},{\"line\":{\"color\":\"green\"},\"showlegend\":false,\"x\":[1146,1147],\"y\":[89.82,89.83],\"type\":\"scatter\"},{\"line\":{\"color\":\"green\"},\"showlegend\":false,\"x\":[1147,1148],\"y\":[89.83,89.82],\"type\":\"scatter\"},{\"line\":{\"color\":\"green\"},\"showlegend\":false,\"x\":[1148,1149],\"y\":[89.82,89.69],\"type\":\"scatter\"},{\"line\":{\"color\":\"green\"},\"showlegend\":false,\"x\":[1149,1150],\"y\":[89.69,89.8],\"type\":\"scatter\"},{\"line\":{\"color\":\"green\"},\"showlegend\":false,\"x\":[1150,1151],\"y\":[89.8,89.8],\"type\":\"scatter\"},{\"line\":{\"color\":\"red\"},\"showlegend\":false,\"x\":[1151,1152],\"y\":[89.8,89.64],\"type\":\"scatter\"},{\"line\":{\"color\":\"red\"},\"showlegend\":false,\"x\":[1152,1153],\"y\":[89.64,89.69],\"type\":\"scatter\"},{\"line\":{\"color\":\"red\"},\"showlegend\":false,\"x\":[1153,1154],\"y\":[89.69,89.78],\"type\":\"scatter\"},{\"line\":{\"color\":\"red\"},\"showlegend\":false,\"x\":[1154,1155],\"y\":[89.78,89.63],\"type\":\"scatter\"},{\"line\":{\"color\":\"red\"},\"showlegend\":false,\"x\":[1155,1156],\"y\":[89.63,89.8],\"type\":\"scatter\"},{\"line\":{\"color\":\"red\"},\"showlegend\":false,\"x\":[1156,1157],\"y\":[89.8,89.88],\"type\":\"scatter\"},{\"line\":{\"color\":\"red\"},\"showlegend\":false,\"x\":[1157,1158],\"y\":[89.88,89.79],\"type\":\"scatter\"},{\"line\":{\"color\":\"red\"},\"showlegend\":false,\"x\":[1158,1159],\"y\":[89.79,89.9],\"type\":\"scatter\"},{\"line\":{\"color\":\"red\"},\"showlegend\":false,\"x\":[1159,1160],\"y\":[89.9,90.04],\"type\":\"scatter\"},{\"line\":{\"color\":\"green\"},\"showlegend\":false,\"x\":[1160,1161],\"y\":[90.04,90.07],\"type\":\"scatter\"},{\"line\":{\"color\":\"green\"},\"showlegend\":false,\"x\":[1161,1162],\"y\":[90.07,90.07],\"type\":\"scatter\"},{\"line\":{\"color\":\"green\"},\"showlegend\":false,\"x\":[1162,1163],\"y\":[90.07,90.04],\"type\":\"scatter\"},{\"line\":{\"color\":\"green\"},\"showlegend\":false,\"x\":[1163,1164],\"y\":[90.04,90.02],\"type\":\"scatter\"},{\"line\":{\"color\":\"green\"},\"showlegend\":false,\"x\":[1164,1165],\"y\":[90.02,89.87],\"type\":\"scatter\"},{\"line\":{\"color\":\"red\"},\"showlegend\":false,\"x\":[1165,1166],\"y\":[89.87,89.87],\"type\":\"scatter\"},{\"line\":{\"color\":\"red\"},\"showlegend\":false,\"x\":[1166,1167],\"y\":[89.87,89.93],\"type\":\"scatter\"},{\"line\":{\"color\":\"red\"},\"showlegend\":false,\"x\":[1167,1168],\"y\":[89.93,89.97],\"type\":\"scatter\"},{\"line\":{\"color\":\"red\"},\"showlegend\":false,\"x\":[1168,1169],\"y\":[89.97,89.97],\"type\":\"scatter\"},{\"line\":{\"color\":\"red\"},\"showlegend\":false,\"x\":[1169,1170],\"y\":[89.97,89.61],\"type\":\"scatter\"},{\"line\":{\"color\":\"red\"},\"showlegend\":false,\"x\":[1170,1171],\"y\":[89.61,89.59],\"type\":\"scatter\"},{\"line\":{\"color\":\"red\"},\"showlegend\":false,\"x\":[1171,1172],\"y\":[89.59,89.64],\"type\":\"scatter\"},{\"line\":{\"color\":\"red\"},\"showlegend\":false,\"x\":[1172,1173],\"y\":[89.64,89.61],\"type\":\"scatter\"},{\"line\":{\"color\":\"red\"},\"showlegend\":false,\"x\":[1173,1174],\"y\":[89.61,89.42],\"type\":\"scatter\"},{\"line\":{\"color\":\"red\"},\"showlegend\":false,\"x\":[1174,1175],\"y\":[89.42,89.58],\"type\":\"scatter\"},{\"line\":{\"color\":\"red\"},\"showlegend\":false,\"x\":[1175,1176],\"y\":[89.58,89.5],\"type\":\"scatter\"},{\"line\":{\"color\":\"red\"},\"showlegend\":false,\"x\":[1176,1177],\"y\":[89.5,89.54],\"type\":\"scatter\"},{\"line\":{\"color\":\"red\"},\"showlegend\":false,\"x\":[1177,1178],\"y\":[89.54,89.77],\"type\":\"scatter\"},{\"line\":{\"color\":\"green\"},\"showlegend\":false,\"x\":[1178,1179],\"y\":[89.77,89.82],\"type\":\"scatter\"},{\"line\":{\"color\":\"green\"},\"showlegend\":false,\"x\":[1179,1180],\"y\":[89.82,89.76],\"type\":\"scatter\"},{\"line\":{\"color\":\"green\"},\"showlegend\":false,\"x\":[1180,1181],\"y\":[89.76,89.74],\"type\":\"scatter\"},{\"line\":{\"color\":\"green\"},\"showlegend\":false,\"x\":[1181,1182],\"y\":[89.74,89.71],\"type\":\"scatter\"},{\"line\":{\"color\":\"green\"},\"showlegend\":false,\"x\":[1182,1183],\"y\":[89.71,89.98],\"type\":\"scatter\"},{\"line\":{\"color\":\"green\"},\"showlegend\":false,\"x\":[1183,1184],\"y\":[89.98,90.04],\"type\":\"scatter\"},{\"line\":{\"color\":\"green\"},\"showlegend\":false,\"x\":[1184,1185],\"y\":[90.04,90.06],\"type\":\"scatter\"},{\"line\":{\"color\":\"green\"},\"showlegend\":false,\"x\":[1185,1186],\"y\":[90.06,90.05],\"type\":\"scatter\"},{\"line\":{\"color\":\"green\"},\"showlegend\":false,\"x\":[1186,1187],\"y\":[90.05,90.02],\"type\":\"scatter\"},{\"line\":{\"color\":\"green\"},\"showlegend\":false,\"x\":[1187,1188],\"y\":[90.02,90.01],\"type\":\"scatter\"},{\"line\":{\"color\":\"green\"},\"showlegend\":false,\"x\":[1188,1189],\"y\":[90.01,90.08],\"type\":\"scatter\"},{\"line\":{\"color\":\"green\"},\"showlegend\":false,\"x\":[1189,1190],\"y\":[90.08,90.09],\"type\":\"scatter\"},{\"line\":{\"color\":\"green\"},\"showlegend\":false,\"x\":[1190,1191],\"y\":[90.09,89.99],\"type\":\"scatter\"},{\"line\":{\"color\":\"green\"},\"showlegend\":false,\"x\":[1191,1192],\"y\":[89.99,89.92],\"type\":\"scatter\"},{\"line\":{\"color\":\"red\"},\"showlegend\":false,\"x\":[1192,1193],\"y\":[89.92,89.86],\"type\":\"scatter\"},{\"line\":{\"color\":\"red\"},\"showlegend\":false,\"x\":[1193,1194],\"y\":[89.86,89.69],\"type\":\"scatter\"},{\"line\":{\"color\":\"red\"},\"showlegend\":false,\"x\":[1194,1195],\"y\":[89.69,89.8],\"type\":\"scatter\"},{\"line\":{\"color\":\"red\"},\"showlegend\":false,\"x\":[1195,1196],\"y\":[89.8,89.73],\"type\":\"scatter\"},{\"line\":{\"color\":\"red\"},\"showlegend\":false,\"x\":[1196,1197],\"y\":[89.73,89.87],\"type\":\"scatter\"},{\"line\":{\"color\":\"red\"},\"showlegend\":false,\"x\":[1197,1198],\"y\":[89.87,89.81],\"type\":\"scatter\"},{\"line\":{\"color\":\"red\"},\"showlegend\":false,\"x\":[1198,1199],\"y\":[89.81,89.85],\"type\":\"scatter\"},{\"line\":{\"color\":\"green\"},\"showlegend\":false,\"x\":[1199,1200],\"y\":[89.85,89.95],\"type\":\"scatter\"},{\"line\":{\"color\":\"green\"},\"showlegend\":false,\"x\":[1200,1201],\"y\":[89.95,89.97],\"type\":\"scatter\"},{\"line\":{\"color\":\"green\"},\"showlegend\":false,\"x\":[1201,1202],\"y\":[89.97,90.0],\"type\":\"scatter\"},{\"line\":{\"color\":\"green\"},\"showlegend\":false,\"x\":[1202,1203],\"y\":[90.0,89.96],\"type\":\"scatter\"},{\"line\":{\"color\":\"green\"},\"showlegend\":false,\"x\":[1203,1204],\"y\":[89.96,89.98],\"type\":\"scatter\"},{\"line\":{\"color\":\"green\"},\"showlegend\":false,\"x\":[1204,1205],\"y\":[89.98,90.08],\"type\":\"scatter\"},{\"line\":{\"color\":\"green\"},\"showlegend\":false,\"x\":[1205,1206],\"y\":[90.08,90.03],\"type\":\"scatter\"},{\"line\":{\"color\":\"green\"},\"showlegend\":false,\"x\":[1206,1207],\"y\":[90.03,90.0],\"type\":\"scatter\"},{\"line\":{\"color\":\"green\"},\"showlegend\":false,\"x\":[1207,1208],\"y\":[90.0,89.95],\"type\":\"scatter\"},{\"line\":{\"color\":\"green\"},\"showlegend\":false,\"x\":[1208,1209],\"y\":[89.95,89.96],\"type\":\"scatter\"},{\"line\":{\"color\":\"green\"},\"showlegend\":false,\"x\":[1209,1210],\"y\":[89.96,90.09],\"type\":\"scatter\"},{\"line\":{\"color\":\"green\"},\"showlegend\":false,\"x\":[1210,1211],\"y\":[90.09,90.06],\"type\":\"scatter\"},{\"line\":{\"color\":\"green\"},\"showlegend\":false,\"x\":[1211,1212],\"y\":[90.06,89.94],\"type\":\"scatter\"},{\"line\":{\"color\":\"green\"},\"showlegend\":false,\"x\":[1212,1213],\"y\":[89.94,89.93],\"type\":\"scatter\"},{\"line\":{\"color\":\"green\"},\"showlegend\":false,\"x\":[1213,1214],\"y\":[89.93,89.9],\"type\":\"scatter\"},{\"line\":{\"color\":\"red\"},\"showlegend\":false,\"x\":[1214,1215],\"y\":[89.9,89.98],\"type\":\"scatter\"},{\"line\":{\"color\":\"green\"},\"showlegend\":false,\"x\":[1215,1216],\"y\":[89.98,89.91],\"type\":\"scatter\"},{\"line\":{\"color\":\"red\"},\"showlegend\":false,\"x\":[1216,1217],\"y\":[89.91,89.97],\"type\":\"scatter\"},{\"line\":{\"color\":\"green\"},\"showlegend\":false,\"x\":[1217,1218],\"y\":[89.97,90.03],\"type\":\"scatter\"},{\"line\":{\"color\":\"green\"},\"showlegend\":false,\"x\":[1218,1219],\"y\":[90.03,89.94],\"type\":\"scatter\"},{\"line\":{\"color\":\"green\"},\"showlegend\":false,\"x\":[1219,1220],\"y\":[89.94,89.71],\"type\":\"scatter\"},{\"line\":{\"color\":\"red\"},\"showlegend\":false,\"x\":[1220,1221],\"y\":[89.71,89.77],\"type\":\"scatter\"},{\"line\":{\"color\":\"red\"},\"showlegend\":false,\"x\":[1221,1222],\"y\":[89.77,89.74],\"type\":\"scatter\"},{\"line\":{\"color\":\"red\"},\"showlegend\":false,\"x\":[1222,1223],\"y\":[89.74,89.77],\"type\":\"scatter\"},{\"line\":{\"color\":\"red\"},\"showlegend\":false,\"x\":[1223,1224],\"y\":[89.77,89.78],\"type\":\"scatter\"},{\"line\":{\"color\":\"red\"},\"showlegend\":false,\"x\":[1224,1225],\"y\":[89.78,89.79],\"type\":\"scatter\"},{\"line\":{\"color\":\"red\"},\"showlegend\":false,\"x\":[1225,1226],\"y\":[89.79,89.84],\"type\":\"scatter\"},{\"line\":{\"color\":\"green\"},\"showlegend\":false,\"x\":[1226,1227],\"y\":[89.84,89.52],\"type\":\"scatter\"},{\"line\":{\"color\":\"red\"},\"showlegend\":false,\"x\":[1227,1228],\"y\":[89.52,89.65],\"type\":\"scatter\"},{\"line\":{\"color\":\"red\"},\"showlegend\":false,\"x\":[1228,1229],\"y\":[89.65,89.65],\"type\":\"scatter\"},{\"line\":{\"color\":\"red\"},\"showlegend\":false,\"x\":[1229,1230],\"y\":[89.65,89.54],\"type\":\"scatter\"},{\"line\":{\"color\":\"red\"},\"showlegend\":false,\"x\":[1230,1231],\"y\":[89.54,89.56],\"type\":\"scatter\"},{\"line\":{\"color\":\"red\"},\"showlegend\":false,\"x\":[1231,1232],\"y\":[89.56,89.5],\"type\":\"scatter\"},{\"line\":{\"color\":\"red\"},\"showlegend\":false,\"x\":[1232,1233],\"y\":[89.5,89.62],\"type\":\"scatter\"},{\"line\":{\"color\":\"red\"},\"showlegend\":false,\"x\":[1233,1234],\"y\":[89.62,90.08],\"type\":\"scatter\"},{\"line\":{\"color\":\"green\"},\"showlegend\":false,\"x\":[1234,1235],\"y\":[90.08,89.99],\"type\":\"scatter\"},{\"line\":{\"color\":\"green\"},\"showlegend\":false,\"x\":[1235,1236],\"y\":[89.99,90.04],\"type\":\"scatter\"},{\"line\":{\"color\":\"green\"},\"showlegend\":false,\"x\":[1236,1237],\"y\":[90.04,89.95],\"type\":\"scatter\"},{\"line\":{\"color\":\"green\"},\"showlegend\":false,\"x\":[1237,1238],\"y\":[89.95,89.9],\"type\":\"scatter\"},{\"line\":{\"color\":\"green\"},\"showlegend\":false,\"x\":[1238,1239],\"y\":[89.9,89.82],\"type\":\"scatter\"},{\"line\":{\"color\":\"red\"},\"showlegend\":false,\"x\":[1239,1240],\"y\":[89.82,89.96],\"type\":\"scatter\"},{\"line\":{\"color\":\"red\"},\"showlegend\":false,\"x\":[1240,1241],\"y\":[89.96,90.05],\"type\":\"scatter\"},{\"line\":{\"color\":\"red\"},\"showlegend\":false,\"x\":[1241,1242],\"y\":[90.05,90.2],\"type\":\"scatter\"},{\"line\":{\"color\":\"green\"},\"showlegend\":false,\"x\":[1242,1243],\"y\":[90.2,90.12],\"type\":\"scatter\"},{\"line\":{\"color\":\"green\"},\"showlegend\":false,\"x\":[1243,1244],\"y\":[90.12,90.23],\"type\":\"scatter\"},{\"line\":{\"color\":\"green\"},\"showlegend\":false,\"x\":[1244,1245],\"y\":[90.23,90.14],\"type\":\"scatter\"},{\"line\":{\"color\":\"green\"},\"showlegend\":false,\"x\":[1245,1246],\"y\":[90.14,90.31],\"type\":\"scatter\"},{\"line\":{\"color\":\"green\"},\"showlegend\":false,\"x\":[1246,1247],\"y\":[90.31,90.22],\"type\":\"scatter\"},{\"line\":{\"color\":\"green\"},\"showlegend\":false,\"x\":[1247,1248],\"y\":[90.22,90.15],\"type\":\"scatter\"},{\"line\":{\"color\":\"red\"},\"showlegend\":false,\"x\":[1248,1249],\"y\":[90.15,90.11],\"type\":\"scatter\"},{\"line\":{\"color\":\"red\"},\"showlegend\":false,\"x\":[1249,1250],\"y\":[90.11,90.07],\"type\":\"scatter\"},{\"line\":{\"color\":\"red\"},\"showlegend\":false,\"x\":[1250,1251],\"y\":[90.07,90.09],\"type\":\"scatter\"},{\"line\":{\"color\":\"red\"},\"showlegend\":false,\"x\":[1251,1252],\"y\":[90.09,90.01],\"type\":\"scatter\"},{\"line\":{\"color\":\"red\"},\"showlegend\":false,\"x\":[1252,1253],\"y\":[90.01,89.96],\"type\":\"scatter\"},{\"line\":{\"color\":\"red\"},\"showlegend\":false,\"x\":[1253,1254],\"y\":[89.96,89.78],\"type\":\"scatter\"},{\"line\":{\"color\":\"red\"},\"showlegend\":false,\"x\":[1254,1255],\"y\":[89.78,89.51],\"type\":\"scatter\"},{\"line\":{\"color\":\"red\"},\"showlegend\":false,\"x\":[1255,1256],\"y\":[89.51,89.09],\"type\":\"scatter\"},{\"line\":{\"color\":\"red\"},\"showlegend\":false,\"x\":[1256,1257],\"y\":[89.09,89.14],\"type\":\"scatter\"},{\"line\":{\"color\":\"red\"},\"showlegend\":false,\"x\":[1257,1258],\"y\":[89.14,89.21],\"type\":\"scatter\"},{\"line\":{\"color\":\"red\"},\"showlegend\":false,\"x\":[1258,1259],\"y\":[89.21,89.21],\"type\":\"scatter\"},{\"line\":{\"color\":\"red\"},\"showlegend\":false,\"x\":[1259,1260],\"y\":[89.21,89.45],\"type\":\"scatter\"},{\"line\":{\"color\":\"red\"},\"showlegend\":false,\"x\":[1260,1261],\"y\":[89.45,89.23],\"type\":\"scatter\"},{\"line\":{\"color\":\"red\"},\"showlegend\":false,\"x\":[1261,1262],\"y\":[89.23,89.41],\"type\":\"scatter\"},{\"line\":{\"color\":\"red\"},\"showlegend\":false,\"x\":[1262,1263],\"y\":[89.41,89.18],\"type\":\"scatter\"},{\"line\":{\"color\":\"red\"},\"showlegend\":false,\"x\":[1263,1264],\"y\":[89.18,89.28],\"type\":\"scatter\"},{\"line\":{\"color\":\"red\"},\"showlegend\":false,\"x\":[1264,1265],\"y\":[89.28,89.48],\"type\":\"scatter\"},{\"line\":{\"color\":\"green\"},\"showlegend\":false,\"x\":[1265,1266],\"y\":[89.48,89.5],\"type\":\"scatter\"},{\"line\":{\"color\":\"green\"},\"showlegend\":false,\"x\":[1266,1267],\"y\":[89.5,89.42],\"type\":\"scatter\"},{\"line\":{\"color\":\"green\"},\"showlegend\":false,\"x\":[1267,1268],\"y\":[89.42,89.38],\"type\":\"scatter\"},{\"line\":{\"color\":\"green\"},\"showlegend\":false,\"x\":[1268,1269],\"y\":[89.38,89.4],\"type\":\"scatter\"},{\"line\":{\"color\":\"green\"},\"showlegend\":false,\"x\":[1269,1270],\"y\":[89.4,89.57],\"type\":\"scatter\"},{\"line\":{\"color\":\"green\"},\"showlegend\":false,\"x\":[1270,1271],\"y\":[89.57,89.55],\"type\":\"scatter\"},{\"line\":{\"color\":\"green\"},\"showlegend\":false,\"x\":[1271,1272],\"y\":[89.55,89.5],\"type\":\"scatter\"},{\"line\":{\"color\":\"green\"},\"showlegend\":false,\"x\":[1272,1273],\"y\":[89.5,89.43],\"type\":\"scatter\"},{\"line\":{\"color\":\"green\"},\"showlegend\":false,\"x\":[1273,1274],\"y\":[89.43,89.55],\"type\":\"scatter\"},{\"line\":{\"color\":\"green\"},\"showlegend\":false,\"x\":[1274,1275],\"y\":[89.55,89.63],\"type\":\"scatter\"},{\"line\":{\"color\":\"green\"},\"showlegend\":false,\"x\":[1275,1276],\"y\":[89.63,89.6],\"type\":\"scatter\"},{\"line\":{\"color\":\"green\"},\"showlegend\":false,\"x\":[1276,1277],\"y\":[89.6,89.5],\"type\":\"scatter\"},{\"line\":{\"color\":\"green\"},\"showlegend\":false,\"x\":[1277,1278],\"y\":[89.5,89.45],\"type\":\"scatter\"},{\"line\":{\"color\":\"red\"},\"showlegend\":false,\"x\":[1278,1279],\"y\":[89.45,89.49],\"type\":\"scatter\"},{\"line\":{\"color\":\"red\"},\"showlegend\":false,\"x\":[1279,1280],\"y\":[89.49,89.48],\"type\":\"scatter\"},{\"line\":{\"color\":\"red\"},\"showlegend\":false,\"x\":[1280,1281],\"y\":[89.48,89.49],\"type\":\"scatter\"},{\"line\":{\"color\":\"red\"},\"showlegend\":false,\"x\":[1281,1282],\"y\":[89.49,89.45],\"type\":\"scatter\"},{\"line\":{\"color\":\"red\"},\"showlegend\":false,\"x\":[1282,1283],\"y\":[89.45,89.43],\"type\":\"scatter\"},{\"line\":{\"color\":\"red\"},\"showlegend\":false,\"x\":[1283,1284],\"y\":[89.43,89.44],\"type\":\"scatter\"},{\"line\":{\"color\":\"red\"},\"showlegend\":false,\"x\":[1284,1285],\"y\":[89.44,89.57],\"type\":\"scatter\"},{\"line\":{\"color\":\"red\"},\"showlegend\":false,\"x\":[1285,1286],\"y\":[89.57,89.55],\"type\":\"scatter\"},{\"line\":{\"color\":\"red\"},\"showlegend\":false,\"x\":[1286,1287],\"y\":[89.55,89.59],\"type\":\"scatter\"},{\"line\":{\"color\":\"green\"},\"showlegend\":false,\"x\":[1287,1288],\"y\":[89.59,89.43],\"type\":\"scatter\"},{\"line\":{\"color\":\"red\"},\"showlegend\":false,\"x\":[1288,1289],\"y\":[89.43,89.47],\"type\":\"scatter\"},{\"line\":{\"color\":\"red\"},\"showlegend\":false,\"x\":[1289,1290],\"y\":[89.47,89.43],\"type\":\"scatter\"},{\"line\":{\"color\":\"red\"},\"showlegend\":false,\"x\":[1290,1291],\"y\":[89.43,89.53],\"type\":\"scatter\"},{\"line\":{\"color\":\"red\"},\"showlegend\":false,\"x\":[1291,1292],\"y\":[89.53,89.89],\"type\":\"scatter\"},{\"line\":{\"color\":\"green\"},\"showlegend\":false,\"x\":[1292,1293],\"y\":[89.89,89.91],\"type\":\"scatter\"},{\"line\":{\"color\":\"green\"},\"showlegend\":false,\"x\":[1293,1294],\"y\":[89.91,89.8],\"type\":\"scatter\"},{\"line\":{\"color\":\"green\"},\"showlegend\":false,\"x\":[1294,1295],\"y\":[89.8,89.69],\"type\":\"scatter\"},{\"line\":{\"color\":\"green\"},\"showlegend\":false,\"x\":[1295,1296],\"y\":[89.69,89.82],\"type\":\"scatter\"},{\"line\":{\"color\":\"green\"},\"showlegend\":false,\"x\":[1296,1297],\"y\":[89.82,89.86],\"type\":\"scatter\"},{\"line\":{\"color\":\"green\"},\"showlegend\":false,\"x\":[1297,1298],\"y\":[89.86,89.91],\"type\":\"scatter\"},{\"line\":{\"color\":\"green\"},\"showlegend\":false,\"x\":[1298,1299],\"y\":[89.91,90.02],\"type\":\"scatter\"},{\"line\":{\"color\":\"green\"},\"showlegend\":false,\"x\":[1299,1300],\"y\":[90.02,90.02],\"type\":\"scatter\"},{\"line\":{\"color\":\"green\"},\"showlegend\":false,\"x\":[1300,1301],\"y\":[90.02,90.08],\"type\":\"scatter\"},{\"line\":{\"color\":\"green\"},\"showlegend\":false,\"x\":[1301,1302],\"y\":[90.08,90.14],\"type\":\"scatter\"},{\"line\":{\"color\":\"green\"},\"showlegend\":false,\"x\":[1302,1303],\"y\":[90.14,90.13],\"type\":\"scatter\"},{\"line\":{\"color\":\"green\"},\"showlegend\":false,\"x\":[1303,1304],\"y\":[90.13,90.16],\"type\":\"scatter\"},{\"line\":{\"color\":\"green\"},\"showlegend\":false,\"x\":[1304,1305],\"y\":[90.16,90.22],\"type\":\"scatter\"},{\"line\":{\"color\":\"green\"},\"showlegend\":false,\"x\":[1305,1306],\"y\":[90.22,90.18],\"type\":\"scatter\"},{\"line\":{\"color\":\"green\"},\"showlegend\":false,\"x\":[1306,1307],\"y\":[90.18,90.18],\"type\":\"scatter\"},{\"line\":{\"color\":\"green\"},\"showlegend\":false,\"x\":[1307,1308],\"y\":[90.18,90.16],\"type\":\"scatter\"},{\"line\":{\"color\":\"green\"},\"showlegend\":false,\"x\":[1308,1309],\"y\":[90.16,90.28],\"type\":\"scatter\"},{\"line\":{\"color\":\"green\"},\"showlegend\":false,\"x\":[1309,1310],\"y\":[90.28,90.33],\"type\":\"scatter\"},{\"line\":{\"color\":\"green\"},\"showlegend\":false,\"x\":[1310,1311],\"y\":[90.33,90.39],\"type\":\"scatter\"},{\"line\":{\"color\":\"green\"},\"showlegend\":false,\"x\":[1311,1312],\"y\":[90.39,90.41],\"type\":\"scatter\"},{\"line\":{\"color\":\"green\"},\"showlegend\":false,\"x\":[1312,1313],\"y\":[90.41,90.29],\"type\":\"scatter\"},{\"line\":{\"color\":\"green\"},\"showlegend\":false,\"x\":[1313,1314],\"y\":[90.29,90.32],\"type\":\"scatter\"},{\"line\":{\"color\":\"green\"},\"showlegend\":false,\"x\":[1314,1315],\"y\":[90.32,90.31],\"type\":\"scatter\"},{\"line\":{\"color\":\"green\"},\"showlegend\":false,\"x\":[1315,1316],\"y\":[90.31,90.36],\"type\":\"scatter\"},{\"line\":{\"color\":\"green\"},\"showlegend\":false,\"x\":[1316,1317],\"y\":[90.36,90.42],\"type\":\"scatter\"},{\"line\":{\"color\":\"green\"},\"showlegend\":false,\"x\":[1317,1318],\"y\":[90.42,90.44],\"type\":\"scatter\"},{\"line\":{\"color\":\"green\"},\"showlegend\":false,\"x\":[1318,1319],\"y\":[90.44,90.58],\"type\":\"scatter\"},{\"line\":{\"color\":\"green\"},\"showlegend\":false,\"x\":[1319,1320],\"y\":[90.58,90.72],\"type\":\"scatter\"},{\"line\":{\"color\":\"green\"},\"showlegend\":false,\"x\":[1320,1321],\"y\":[90.72,90.83],\"type\":\"scatter\"},{\"line\":{\"color\":\"green\"},\"showlegend\":false,\"x\":[1321,1322],\"y\":[90.83,90.8],\"type\":\"scatter\"},{\"line\":{\"color\":\"green\"},\"showlegend\":false,\"x\":[1322,1323],\"y\":[90.8,90.87],\"type\":\"scatter\"},{\"line\":{\"color\":\"green\"},\"showlegend\":false,\"x\":[1323,1324],\"y\":[90.87,90.87],\"type\":\"scatter\"},{\"line\":{\"color\":\"green\"},\"showlegend\":false,\"x\":[1324,1325],\"y\":[90.87,90.87],\"type\":\"scatter\"},{\"line\":{\"color\":\"green\"},\"showlegend\":false,\"x\":[1325,1326],\"y\":[90.87,90.87],\"type\":\"scatter\"},{\"line\":{\"color\":\"green\"},\"showlegend\":false,\"x\":[1326,1327],\"y\":[90.87,90.87],\"type\":\"scatter\"},{\"line\":{\"color\":\"green\"},\"showlegend\":false,\"x\":[1327,1328],\"y\":[90.87,90.88],\"type\":\"scatter\"},{\"line\":{\"color\":\"green\"},\"showlegend\":false,\"x\":[1328,1329],\"y\":[90.88,90.89],\"type\":\"scatter\"},{\"line\":{\"color\":\"green\"},\"showlegend\":false,\"x\":[1329,1330],\"y\":[90.89,90.96],\"type\":\"scatter\"},{\"line\":{\"color\":\"green\"},\"showlegend\":false,\"x\":[1330,1331],\"y\":[90.96,90.88],\"type\":\"scatter\"},{\"line\":{\"color\":\"green\"},\"showlegend\":false,\"x\":[1331,1332],\"y\":[90.88,90.87],\"type\":\"scatter\"},{\"line\":{\"color\":\"red\"},\"showlegend\":false,\"x\":[1332,1333],\"y\":[90.87,90.83],\"type\":\"scatter\"},{\"line\":{\"color\":\"red\"},\"showlegend\":false,\"x\":[1333,1334],\"y\":[90.83,90.82],\"type\":\"scatter\"},{\"line\":{\"color\":\"red\"},\"showlegend\":false,\"x\":[1334,1335],\"y\":[90.82,91.31],\"type\":\"scatter\"},{\"line\":{\"color\":\"green\"},\"showlegend\":false,\"x\":[1335,1336],\"y\":[91.31,91.49],\"type\":\"scatter\"},{\"line\":{\"color\":\"green\"},\"showlegend\":false,\"x\":[1336,1337],\"y\":[91.49,91.65],\"type\":\"scatter\"},{\"line\":{\"color\":\"green\"},\"showlegend\":false,\"x\":[1337,1338],\"y\":[91.65,91.46],\"type\":\"scatter\"},{\"line\":{\"color\":\"green\"},\"showlegend\":false,\"x\":[1338,1339],\"y\":[91.46,91.42],\"type\":\"scatter\"},{\"line\":{\"color\":\"red\"},\"showlegend\":false,\"x\":[1339,1340],\"y\":[91.42,91.4],\"type\":\"scatter\"},{\"line\":{\"color\":\"red\"},\"showlegend\":false,\"x\":[1340,1341],\"y\":[91.4,91.38],\"type\":\"scatter\"},{\"line\":{\"color\":\"red\"},\"showlegend\":false,\"x\":[1341,1342],\"y\":[91.38,91.47],\"type\":\"scatter\"},{\"line\":{\"color\":\"red\"},\"showlegend\":false,\"x\":[1342,1343],\"y\":[91.47,91.48],\"type\":\"scatter\"},{\"line\":{\"color\":\"red\"},\"showlegend\":false,\"x\":[1343,1344],\"y\":[91.48,91.4],\"type\":\"scatter\"},{\"line\":{\"color\":\"red\"},\"showlegend\":false,\"x\":[1344,1345],\"y\":[91.4,91.4],\"type\":\"scatter\"},{\"line\":{\"color\":\"red\"},\"showlegend\":false,\"x\":[1345,1346],\"y\":[91.4,91.38],\"type\":\"scatter\"},{\"line\":{\"color\":\"red\"},\"showlegend\":false,\"x\":[1346,1347],\"y\":[91.38,91.34],\"type\":\"scatter\"},{\"line\":{\"color\":\"red\"},\"showlegend\":false,\"x\":[1347,1348],\"y\":[91.34,91.27],\"type\":\"scatter\"},{\"line\":{\"color\":\"red\"},\"showlegend\":false,\"x\":[1348,1349],\"y\":[91.27,91.3],\"type\":\"scatter\"},{\"line\":{\"color\":\"red\"},\"showlegend\":false,\"x\":[1349,1350],\"y\":[91.3,91.4],\"type\":\"scatter\"},{\"line\":{\"color\":\"red\"},\"showlegend\":false,\"x\":[1350,1351],\"y\":[91.4,91.39],\"type\":\"scatter\"},{\"line\":{\"color\":\"red\"},\"showlegend\":false,\"x\":[1351,1352],\"y\":[91.39,91.47],\"type\":\"scatter\"},{\"line\":{\"color\":\"green\"},\"showlegend\":false,\"x\":[1352,1353],\"y\":[91.47,91.5],\"type\":\"scatter\"},{\"line\":{\"color\":\"green\"},\"showlegend\":false,\"x\":[1353,1354],\"y\":[91.5,91.57],\"type\":\"scatter\"},{\"line\":{\"color\":\"green\"},\"showlegend\":false,\"x\":[1354,1355],\"y\":[91.57,91.67],\"type\":\"scatter\"},{\"line\":{\"color\":\"green\"},\"showlegend\":false,\"x\":[1355,1356],\"y\":[91.67,91.69],\"type\":\"scatter\"},{\"line\":{\"color\":\"green\"},\"showlegend\":false,\"x\":[1356,1357],\"y\":[91.69,91.69],\"type\":\"scatter\"},{\"line\":{\"color\":\"green\"},\"showlegend\":false,\"x\":[1357,1358],\"y\":[91.69,92.09],\"type\":\"scatter\"},{\"line\":{\"color\":\"green\"},\"showlegend\":false,\"x\":[1358,1359],\"y\":[92.09,92.06],\"type\":\"scatter\"},{\"line\":{\"color\":\"green\"},\"showlegend\":false,\"x\":[1359,1360],\"y\":[92.06,91.99],\"type\":\"scatter\"},{\"line\":{\"color\":\"green\"},\"showlegend\":false,\"x\":[1360,1361],\"y\":[91.99,92.0],\"type\":\"scatter\"},{\"line\":{\"color\":\"green\"},\"showlegend\":false,\"x\":[1361,1362],\"y\":[92.0,91.94],\"type\":\"scatter\"},{\"line\":{\"color\":\"green\"},\"showlegend\":false,\"x\":[1362,1363],\"y\":[91.94,91.97],\"type\":\"scatter\"},{\"line\":{\"color\":\"green\"},\"showlegend\":false,\"x\":[1363,1364],\"y\":[91.97,91.93],\"type\":\"scatter\"},{\"line\":{\"color\":\"green\"},\"showlegend\":false,\"x\":[1364,1365],\"y\":[91.93,91.73],\"type\":\"scatter\"},{\"line\":{\"color\":\"red\"},\"showlegend\":false,\"x\":[1365,1366],\"y\":[91.73,91.7],\"type\":\"scatter\"},{\"line\":{\"color\":\"red\"},\"showlegend\":false,\"x\":[1366,1367],\"y\":[91.7,91.63],\"type\":\"scatter\"},{\"line\":{\"color\":\"red\"},\"showlegend\":false,\"x\":[1367,1368],\"y\":[91.63,91.64],\"type\":\"scatter\"},{\"line\":{\"color\":\"red\"},\"showlegend\":false,\"x\":[1368,1369],\"y\":[91.64,91.55],\"type\":\"scatter\"},{\"line\":{\"color\":\"red\"},\"showlegend\":false,\"x\":[1369,1370],\"y\":[91.55,91.62],\"type\":\"scatter\"},{\"line\":{\"color\":\"red\"},\"showlegend\":false,\"x\":[1370,1371],\"y\":[91.62,91.68],\"type\":\"scatter\"},{\"line\":{\"color\":\"red\"},\"showlegend\":false,\"x\":[1371,1372],\"y\":[91.68,91.73],\"type\":\"scatter\"},{\"line\":{\"color\":\"red\"},\"showlegend\":false,\"x\":[1372,1373],\"y\":[91.73,91.64],\"type\":\"scatter\"},{\"line\":{\"color\":\"red\"},\"showlegend\":false,\"x\":[1373,1374],\"y\":[91.64,91.53],\"type\":\"scatter\"},{\"line\":{\"color\":\"red\"},\"showlegend\":false,\"x\":[1374,1375],\"y\":[91.53,91.57],\"type\":\"scatter\"},{\"line\":{\"color\":\"red\"},\"showlegend\":false,\"x\":[1375,1376],\"y\":[91.57,91.57],\"type\":\"scatter\"},{\"line\":{\"color\":\"red\"},\"showlegend\":false,\"x\":[1376,1377],\"y\":[91.57,91.54],\"type\":\"scatter\"},{\"line\":{\"color\":\"red\"},\"showlegend\":false,\"x\":[1377,1378],\"y\":[91.54,91.54],\"type\":\"scatter\"},{\"line\":{\"color\":\"red\"},\"showlegend\":false,\"x\":[1378,1379],\"y\":[91.54,91.56],\"type\":\"scatter\"},{\"line\":{\"color\":\"red\"},\"showlegend\":false,\"x\":[1379,1380],\"y\":[91.56,91.51],\"type\":\"scatter\"},{\"line\":{\"color\":\"red\"},\"showlegend\":false,\"x\":[1380,1381],\"y\":[91.51,91.55],\"type\":\"scatter\"},{\"line\":{\"color\":\"red\"},\"showlegend\":false,\"x\":[1381,1382],\"y\":[91.55,91.59],\"type\":\"scatter\"},{\"line\":{\"color\":\"red\"},\"showlegend\":false,\"x\":[1382,1383],\"y\":[91.59,91.61],\"type\":\"scatter\"},{\"line\":{\"color\":\"red\"},\"showlegend\":false,\"x\":[1383,1384],\"y\":[91.61,91.64],\"type\":\"scatter\"},{\"line\":{\"color\":\"green\"},\"showlegend\":false,\"x\":[1384,1385],\"y\":[91.64,91.74],\"type\":\"scatter\"},{\"line\":{\"color\":\"green\"},\"showlegend\":false,\"x\":[1385,1386],\"y\":[91.74,91.78],\"type\":\"scatter\"},{\"line\":{\"color\":\"green\"},\"showlegend\":false,\"x\":[1386,1387],\"y\":[91.78,91.82],\"type\":\"scatter\"},{\"line\":{\"color\":\"green\"},\"showlegend\":false,\"x\":[1387,1388],\"y\":[91.82,91.81],\"type\":\"scatter\"},{\"line\":{\"color\":\"green\"},\"showlegend\":false,\"x\":[1388,1389],\"y\":[91.81,91.93],\"type\":\"scatter\"},{\"line\":{\"color\":\"green\"},\"showlegend\":false,\"x\":[1389,1390],\"y\":[91.93,91.75],\"type\":\"scatter\"},{\"line\":{\"color\":\"green\"},\"showlegend\":false,\"x\":[1390,1391],\"y\":[91.75,91.77],\"type\":\"scatter\"},{\"line\":{\"color\":\"green\"},\"showlegend\":false,\"x\":[1391,1392],\"y\":[91.77,91.73],\"type\":\"scatter\"},{\"line\":{\"color\":\"green\"},\"showlegend\":false,\"x\":[1392,1393],\"y\":[91.73,91.7],\"type\":\"scatter\"},{\"line\":{\"color\":\"green\"},\"showlegend\":false,\"x\":[1393,1394],\"y\":[91.7,91.65],\"type\":\"scatter\"},{\"line\":{\"color\":\"red\"},\"showlegend\":false,\"x\":[1394,1395],\"y\":[91.65,91.65],\"type\":\"scatter\"},{\"line\":{\"color\":\"red\"},\"showlegend\":false,\"x\":[1395,1396],\"y\":[91.65,91.62],\"type\":\"scatter\"},{\"line\":{\"color\":\"red\"},\"showlegend\":false,\"x\":[1396,1397],\"y\":[91.62,91.61],\"type\":\"scatter\"},{\"line\":{\"color\":\"red\"},\"showlegend\":false,\"x\":[1397,1398],\"y\":[91.61,91.59],\"type\":\"scatter\"},{\"line\":{\"color\":\"red\"},\"showlegend\":false,\"x\":[1398,1399],\"y\":[91.59,91.49],\"type\":\"scatter\"},{\"line\":{\"color\":\"red\"},\"showlegend\":false,\"x\":[1399,1400],\"y\":[91.49,91.44],\"type\":\"scatter\"},{\"line\":{\"color\":\"red\"},\"showlegend\":false,\"x\":[1400,1401],\"y\":[91.44,91.43],\"type\":\"scatter\"},{\"line\":{\"color\":\"red\"},\"showlegend\":false,\"x\":[1401,1402],\"y\":[91.43,91.45],\"type\":\"scatter\"},{\"line\":{\"color\":\"red\"},\"showlegend\":false,\"x\":[1402,1403],\"y\":[91.45,91.43],\"type\":\"scatter\"},{\"line\":{\"color\":\"red\"},\"showlegend\":false,\"x\":[1403,1404],\"y\":[91.43,91.58],\"type\":\"scatter\"},{\"line\":{\"color\":\"red\"},\"showlegend\":false,\"x\":[1404,1405],\"y\":[91.58,91.57],\"type\":\"scatter\"},{\"line\":{\"color\":\"red\"},\"showlegend\":false,\"x\":[1405,1406],\"y\":[91.57,91.55],\"type\":\"scatter\"},{\"line\":{\"color\":\"red\"},\"showlegend\":false,\"x\":[1406,1407],\"y\":[91.55,91.5],\"type\":\"scatter\"},{\"line\":{\"color\":\"red\"},\"showlegend\":false,\"x\":[1407,1408],\"y\":[91.5,91.63],\"type\":\"scatter\"},{\"line\":{\"color\":\"green\"},\"showlegend\":false,\"x\":[1408,1409],\"y\":[91.63,91.55],\"type\":\"scatter\"},{\"line\":{\"color\":\"red\"},\"showlegend\":false,\"x\":[1409,1410],\"y\":[91.55,91.63],\"type\":\"scatter\"},{\"line\":{\"color\":\"green\"},\"showlegend\":false,\"x\":[1410,1411],\"y\":[91.63,91.63],\"type\":\"scatter\"},{\"line\":{\"color\":\"green\"},\"showlegend\":false,\"x\":[1411,1412],\"y\":[91.63,91.56],\"type\":\"scatter\"},{\"line\":{\"color\":\"green\"},\"showlegend\":false,\"x\":[1412,1413],\"y\":[91.56,91.43],\"type\":\"scatter\"},{\"line\":{\"color\":\"red\"},\"showlegend\":false,\"x\":[1413,1414],\"y\":[91.43,91.46],\"type\":\"scatter\"},{\"line\":{\"color\":\"red\"},\"showlegend\":false,\"x\":[1414,1415],\"y\":[91.46,91.35],\"type\":\"scatter\"},{\"line\":{\"color\":\"red\"},\"showlegend\":false,\"x\":[1415,1416],\"y\":[91.35,91.33],\"type\":\"scatter\"},{\"line\":{\"color\":\"red\"},\"showlegend\":false,\"x\":[1416,1417],\"y\":[91.33,91.37],\"type\":\"scatter\"},{\"line\":{\"color\":\"red\"},\"showlegend\":false,\"x\":[1417,1418],\"y\":[91.37,91.3],\"type\":\"scatter\"},{\"line\":{\"color\":\"red\"},\"showlegend\":false,\"x\":[1418,1419],\"y\":[91.3,91.42],\"type\":\"scatter\"},{\"line\":{\"color\":\"red\"},\"showlegend\":false,\"x\":[1419,1420],\"y\":[91.42,91.33],\"type\":\"scatter\"},{\"line\":{\"color\":\"red\"},\"showlegend\":false,\"x\":[1420,1421],\"y\":[91.33,91.2],\"type\":\"scatter\"},{\"line\":{\"color\":\"red\"},\"showlegend\":false,\"x\":[1421,1422],\"y\":[91.2,91.28],\"type\":\"scatter\"},{\"line\":{\"color\":\"red\"},\"showlegend\":false,\"x\":[1422,1423],\"y\":[91.28,91.34],\"type\":\"scatter\"},{\"line\":{\"color\":\"red\"},\"showlegend\":false,\"x\":[1423,1424],\"y\":[91.34,91.37],\"type\":\"scatter\"},{\"line\":{\"color\":\"red\"},\"showlegend\":false,\"x\":[1424,1425],\"y\":[91.37,91.37],\"type\":\"scatter\"},{\"line\":{\"color\":\"green\"},\"showlegend\":false,\"x\":[1425,1426],\"y\":[91.37,91.41],\"type\":\"scatter\"},{\"line\":{\"color\":\"green\"},\"showlegend\":false,\"x\":[1426,1427],\"y\":[91.41,91.46],\"type\":\"scatter\"},{\"line\":{\"color\":\"green\"},\"showlegend\":false,\"x\":[1427,1428],\"y\":[91.46,91.47],\"type\":\"scatter\"},{\"line\":{\"color\":\"green\"},\"showlegend\":false,\"x\":[1428,1429],\"y\":[91.47,91.49],\"type\":\"scatter\"},{\"line\":{\"color\":\"green\"},\"showlegend\":false,\"x\":[1429,1430],\"y\":[91.49,91.45],\"type\":\"scatter\"},{\"line\":{\"color\":\"green\"},\"showlegend\":false,\"x\":[1430,1431],\"y\":[91.45,91.48],\"type\":\"scatter\"},{\"line\":{\"color\":\"green\"},\"showlegend\":false,\"x\":[1431,1432],\"y\":[91.48,91.42],\"type\":\"scatter\"},{\"line\":{\"color\":\"green\"},\"showlegend\":false,\"x\":[1432,1433],\"y\":[91.42,91.51],\"type\":\"scatter\"},{\"line\":{\"color\":\"green\"},\"showlegend\":false,\"x\":[1433,1434],\"y\":[91.51,91.68],\"type\":\"scatter\"},{\"line\":{\"color\":\"green\"},\"showlegend\":false,\"x\":[1434,1435],\"y\":[91.68,91.69],\"type\":\"scatter\"},{\"line\":{\"color\":\"green\"},\"showlegend\":false,\"x\":[1435,1436],\"y\":[91.69,91.74],\"type\":\"scatter\"},{\"line\":{\"color\":\"green\"},\"showlegend\":false,\"x\":[1436,1437],\"y\":[91.74,91.76],\"type\":\"scatter\"},{\"line\":{\"color\":\"green\"},\"showlegend\":false,\"x\":[1437,1438],\"y\":[91.76,91.92],\"type\":\"scatter\"},{\"line\":{\"color\":\"green\"},\"showlegend\":false,\"x\":[1438,1439],\"y\":[91.92,91.84],\"type\":\"scatter\"},{\"line\":{\"color\":\"green\"},\"showlegend\":false,\"x\":[1439,1440],\"y\":[91.84,91.84],\"type\":\"scatter\"},{\"line\":{\"color\":\"green\"},\"showlegend\":false,\"x\":[1440,1441],\"y\":[91.84,91.77],\"type\":\"scatter\"},{\"line\":{\"color\":\"red\"},\"showlegend\":false,\"x\":[1441,1442],\"y\":[91.77,91.96],\"type\":\"scatter\"},{\"line\":{\"color\":\"green\"},\"showlegend\":false,\"x\":[1442,1443],\"y\":[91.96,92.08],\"type\":\"scatter\"},{\"line\":{\"color\":\"green\"},\"showlegend\":false,\"x\":[1443,1444],\"y\":[92.08,92.06],\"type\":\"scatter\"},{\"line\":{\"color\":\"green\"},\"showlegend\":false,\"x\":[1444,1445],\"y\":[92.06,92.01],\"type\":\"scatter\"},{\"line\":{\"color\":\"green\"},\"showlegend\":false,\"x\":[1445,1446],\"y\":[92.01,92.07],\"type\":\"scatter\"},{\"line\":{\"color\":\"green\"},\"showlegend\":false,\"x\":[1446,1447],\"y\":[92.07,92.59],\"type\":\"scatter\"},{\"line\":{\"color\":\"green\"},\"showlegend\":false,\"x\":[1447,1448],\"y\":[92.59,92.71],\"type\":\"scatter\"},{\"line\":{\"color\":\"green\"},\"showlegend\":false,\"x\":[1448,1449],\"y\":[92.71,92.69],\"type\":\"scatter\"},{\"line\":{\"color\":\"green\"},\"showlegend\":false,\"x\":[1449,1450],\"y\":[92.69,92.77],\"type\":\"scatter\"},{\"line\":{\"color\":\"green\"},\"showlegend\":false,\"x\":[1450,1451],\"y\":[92.77,92.64],\"type\":\"scatter\"},{\"line\":{\"color\":\"green\"},\"showlegend\":false,\"x\":[1451,1452],\"y\":[92.64,92.4],\"type\":\"scatter\"},{\"line\":{\"color\":\"red\"},\"showlegend\":false,\"x\":[1452,1453],\"y\":[92.4,92.44],\"type\":\"scatter\"},{\"line\":{\"color\":\"red\"},\"showlegend\":false,\"x\":[1453,1454],\"y\":[92.44,92.52],\"type\":\"scatter\"},{\"line\":{\"color\":\"red\"},\"showlegend\":false,\"x\":[1454,1455],\"y\":[92.52,92.45],\"type\":\"scatter\"},{\"line\":{\"color\":\"red\"},\"showlegend\":false,\"x\":[1455,1456],\"y\":[92.45,92.31],\"type\":\"scatter\"},{\"line\":{\"color\":\"red\"},\"showlegend\":false,\"x\":[1456,1457],\"y\":[92.31,92.38],\"type\":\"scatter\"},{\"line\":{\"color\":\"red\"},\"showlegend\":false,\"x\":[1457,1458],\"y\":[92.38,92.42],\"type\":\"scatter\"},{\"line\":{\"color\":\"red\"},\"showlegend\":false,\"x\":[1458,1459],\"y\":[92.42,92.56],\"type\":\"scatter\"},{\"line\":{\"color\":\"red\"},\"showlegend\":false,\"x\":[1459,1460],\"y\":[92.56,92.62],\"type\":\"scatter\"},{\"line\":{\"color\":\"green\"},\"showlegend\":false,\"x\":[1460,1461],\"y\":[92.62,92.62],\"type\":\"scatter\"},{\"line\":{\"color\":\"green\"},\"showlegend\":false,\"x\":[1461,1462],\"y\":[92.62,92.66],\"type\":\"scatter\"},{\"line\":{\"color\":\"green\"},\"showlegend\":false,\"x\":[1462,1463],\"y\":[92.66,92.47],\"type\":\"scatter\"},{\"line\":{\"color\":\"red\"},\"showlegend\":false,\"x\":[1463,1464],\"y\":[92.47,92.38],\"type\":\"scatter\"},{\"line\":{\"color\":\"red\"},\"showlegend\":false,\"x\":[1464,1465],\"y\":[92.38,92.38],\"type\":\"scatter\"},{\"line\":{\"color\":\"red\"},\"showlegend\":false,\"x\":[1465,1466],\"y\":[92.38,92.33],\"type\":\"scatter\"},{\"line\":{\"color\":\"red\"},\"showlegend\":false,\"x\":[1466,1467],\"y\":[92.33,92.27],\"type\":\"scatter\"},{\"line\":{\"color\":\"red\"},\"showlegend\":false,\"x\":[1467,1468],\"y\":[92.27,92.2],\"type\":\"scatter\"},{\"line\":{\"color\":\"red\"},\"showlegend\":false,\"x\":[1468,1469],\"y\":[92.2,92.2],\"type\":\"scatter\"},{\"line\":{\"color\":\"red\"},\"showlegend\":false,\"x\":[1469,1470],\"y\":[92.2,92.17],\"type\":\"scatter\"},{\"line\":{\"color\":\"red\"},\"showlegend\":false,\"x\":[1470,1471],\"y\":[92.17,92.2],\"type\":\"scatter\"},{\"line\":{\"color\":\"red\"},\"showlegend\":false,\"x\":[1471,1472],\"y\":[92.2,92.15],\"type\":\"scatter\"},{\"line\":{\"color\":\"red\"},\"showlegend\":false,\"x\":[1472,1473],\"y\":[92.15,92.08],\"type\":\"scatter\"},{\"line\":{\"color\":\"red\"},\"showlegend\":false,\"x\":[1473,1474],\"y\":[92.08,91.96],\"type\":\"scatter\"},{\"line\":{\"color\":\"red\"},\"showlegend\":false,\"x\":[1474,1475],\"y\":[91.96,91.8],\"type\":\"scatter\"},{\"line\":{\"color\":\"red\"},\"showlegend\":false,\"x\":[1475,1476],\"y\":[91.8,91.83],\"type\":\"scatter\"},{\"line\":{\"color\":\"red\"},\"showlegend\":false,\"x\":[1476,1477],\"y\":[91.83,91.78],\"type\":\"scatter\"},{\"line\":{\"color\":\"red\"},\"showlegend\":false,\"x\":[1477,1478],\"y\":[91.78,91.67],\"type\":\"scatter\"},{\"line\":{\"color\":\"red\"},\"showlegend\":false,\"x\":[1478,1479],\"y\":[91.67,91.75],\"type\":\"scatter\"},{\"line\":{\"color\":\"red\"},\"showlegend\":false,\"x\":[1479,1480],\"y\":[91.75,91.46],\"type\":\"scatter\"}],                        {\"template\":{\"data\":{\"histogram2dcontour\":[{\"type\":\"histogram2dcontour\",\"colorbar\":{\"outlinewidth\":0,\"ticks\":\"\"},\"colorscale\":[[0.0,\"#0d0887\"],[0.1111111111111111,\"#46039f\"],[0.2222222222222222,\"#7201a8\"],[0.3333333333333333,\"#9c179e\"],[0.4444444444444444,\"#bd3786\"],[0.5555555555555556,\"#d8576b\"],[0.6666666666666666,\"#ed7953\"],[0.7777777777777778,\"#fb9f3a\"],[0.8888888888888888,\"#fdca26\"],[1.0,\"#f0f921\"]]}],\"choropleth\":[{\"type\":\"choropleth\",\"colorbar\":{\"outlinewidth\":0,\"ticks\":\"\"}}],\"histogram2d\":[{\"type\":\"histogram2d\",\"colorbar\":{\"outlinewidth\":0,\"ticks\":\"\"},\"colorscale\":[[0.0,\"#0d0887\"],[0.1111111111111111,\"#46039f\"],[0.2222222222222222,\"#7201a8\"],[0.3333333333333333,\"#9c179e\"],[0.4444444444444444,\"#bd3786\"],[0.5555555555555556,\"#d8576b\"],[0.6666666666666666,\"#ed7953\"],[0.7777777777777778,\"#fb9f3a\"],[0.8888888888888888,\"#fdca26\"],[1.0,\"#f0f921\"]]}],\"heatmap\":[{\"type\":\"heatmap\",\"colorbar\":{\"outlinewidth\":0,\"ticks\":\"\"},\"colorscale\":[[0.0,\"#0d0887\"],[0.1111111111111111,\"#46039f\"],[0.2222222222222222,\"#7201a8\"],[0.3333333333333333,\"#9c179e\"],[0.4444444444444444,\"#bd3786\"],[0.5555555555555556,\"#d8576b\"],[0.6666666666666666,\"#ed7953\"],[0.7777777777777778,\"#fb9f3a\"],[0.8888888888888888,\"#fdca26\"],[1.0,\"#f0f921\"]]}],\"heatmapgl\":[{\"type\":\"heatmapgl\",\"colorbar\":{\"outlinewidth\":0,\"ticks\":\"\"},\"colorscale\":[[0.0,\"#0d0887\"],[0.1111111111111111,\"#46039f\"],[0.2222222222222222,\"#7201a8\"],[0.3333333333333333,\"#9c179e\"],[0.4444444444444444,\"#bd3786\"],[0.5555555555555556,\"#d8576b\"],[0.6666666666666666,\"#ed7953\"],[0.7777777777777778,\"#fb9f3a\"],[0.8888888888888888,\"#fdca26\"],[1.0,\"#f0f921\"]]}],\"contourcarpet\":[{\"type\":\"contourcarpet\",\"colorbar\":{\"outlinewidth\":0,\"ticks\":\"\"}}],\"contour\":[{\"type\":\"contour\",\"colorbar\":{\"outlinewidth\":0,\"ticks\":\"\"},\"colorscale\":[[0.0,\"#0d0887\"],[0.1111111111111111,\"#46039f\"],[0.2222222222222222,\"#7201a8\"],[0.3333333333333333,\"#9c179e\"],[0.4444444444444444,\"#bd3786\"],[0.5555555555555556,\"#d8576b\"],[0.6666666666666666,\"#ed7953\"],[0.7777777777777778,\"#fb9f3a\"],[0.8888888888888888,\"#fdca26\"],[1.0,\"#f0f921\"]]}],\"surface\":[{\"type\":\"surface\",\"colorbar\":{\"outlinewidth\":0,\"ticks\":\"\"},\"colorscale\":[[0.0,\"#0d0887\"],[0.1111111111111111,\"#46039f\"],[0.2222222222222222,\"#7201a8\"],[0.3333333333333333,\"#9c179e\"],[0.4444444444444444,\"#bd3786\"],[0.5555555555555556,\"#d8576b\"],[0.6666666666666666,\"#ed7953\"],[0.7777777777777778,\"#fb9f3a\"],[0.8888888888888888,\"#fdca26\"],[1.0,\"#f0f921\"]]}],\"mesh3d\":[{\"type\":\"mesh3d\",\"colorbar\":{\"outlinewidth\":0,\"ticks\":\"\"}}],\"scatter\":[{\"fillpattern\":{\"fillmode\":\"overlay\",\"size\":10,\"solidity\":0.2},\"type\":\"scatter\"}],\"parcoords\":[{\"type\":\"parcoords\",\"line\":{\"colorbar\":{\"outlinewidth\":0,\"ticks\":\"\"}}}],\"scatterpolargl\":[{\"type\":\"scatterpolargl\",\"marker\":{\"colorbar\":{\"outlinewidth\":0,\"ticks\":\"\"}}}],\"bar\":[{\"error_x\":{\"color\":\"#2a3f5f\"},\"error_y\":{\"color\":\"#2a3f5f\"},\"marker\":{\"line\":{\"color\":\"#E5ECF6\",\"width\":0.5},\"pattern\":{\"fillmode\":\"overlay\",\"size\":10,\"solidity\":0.2}},\"type\":\"bar\"}],\"scattergeo\":[{\"type\":\"scattergeo\",\"marker\":{\"colorbar\":{\"outlinewidth\":0,\"ticks\":\"\"}}}],\"scatterpolar\":[{\"type\":\"scatterpolar\",\"marker\":{\"colorbar\":{\"outlinewidth\":0,\"ticks\":\"\"}}}],\"histogram\":[{\"marker\":{\"pattern\":{\"fillmode\":\"overlay\",\"size\":10,\"solidity\":0.2}},\"type\":\"histogram\"}],\"scattergl\":[{\"type\":\"scattergl\",\"marker\":{\"colorbar\":{\"outlinewidth\":0,\"ticks\":\"\"}}}],\"scatter3d\":[{\"type\":\"scatter3d\",\"line\":{\"colorbar\":{\"outlinewidth\":0,\"ticks\":\"\"}},\"marker\":{\"colorbar\":{\"outlinewidth\":0,\"ticks\":\"\"}}}],\"scattermapbox\":[{\"type\":\"scattermapbox\",\"marker\":{\"colorbar\":{\"outlinewidth\":0,\"ticks\":\"\"}}}],\"scatterternary\":[{\"type\":\"scatterternary\",\"marker\":{\"colorbar\":{\"outlinewidth\":0,\"ticks\":\"\"}}}],\"scattercarpet\":[{\"type\":\"scattercarpet\",\"marker\":{\"colorbar\":{\"outlinewidth\":0,\"ticks\":\"\"}}}],\"carpet\":[{\"aaxis\":{\"endlinecolor\":\"#2a3f5f\",\"gridcolor\":\"white\",\"linecolor\":\"white\",\"minorgridcolor\":\"white\",\"startlinecolor\":\"#2a3f5f\"},\"baxis\":{\"endlinecolor\":\"#2a3f5f\",\"gridcolor\":\"white\",\"linecolor\":\"white\",\"minorgridcolor\":\"white\",\"startlinecolor\":\"#2a3f5f\"},\"type\":\"carpet\"}],\"table\":[{\"cells\":{\"fill\":{\"color\":\"#EBF0F8\"},\"line\":{\"color\":\"white\"}},\"header\":{\"fill\":{\"color\":\"#C8D4E3\"},\"line\":{\"color\":\"white\"}},\"type\":\"table\"}],\"barpolar\":[{\"marker\":{\"line\":{\"color\":\"#E5ECF6\",\"width\":0.5},\"pattern\":{\"fillmode\":\"overlay\",\"size\":10,\"solidity\":0.2}},\"type\":\"barpolar\"}],\"pie\":[{\"automargin\":true,\"type\":\"pie\"}]},\"layout\":{\"autotypenumbers\":\"strict\",\"colorway\":[\"#636efa\",\"#EF553B\",\"#00cc96\",\"#ab63fa\",\"#FFA15A\",\"#19d3f3\",\"#FF6692\",\"#B6E880\",\"#FF97FF\",\"#FECB52\"],\"font\":{\"color\":\"#2a3f5f\"},\"hovermode\":\"closest\",\"hoverlabel\":{\"align\":\"left\"},\"paper_bgcolor\":\"white\",\"plot_bgcolor\":\"#E5ECF6\",\"polar\":{\"bgcolor\":\"#E5ECF6\",\"angularaxis\":{\"gridcolor\":\"white\",\"linecolor\":\"white\",\"ticks\":\"\"},\"radialaxis\":{\"gridcolor\":\"white\",\"linecolor\":\"white\",\"ticks\":\"\"}},\"ternary\":{\"bgcolor\":\"#E5ECF6\",\"aaxis\":{\"gridcolor\":\"white\",\"linecolor\":\"white\",\"ticks\":\"\"},\"baxis\":{\"gridcolor\":\"white\",\"linecolor\":\"white\",\"ticks\":\"\"},\"caxis\":{\"gridcolor\":\"white\",\"linecolor\":\"white\",\"ticks\":\"\"}},\"coloraxis\":{\"colorbar\":{\"outlinewidth\":0,\"ticks\":\"\"}},\"colorscale\":{\"sequential\":[[0.0,\"#0d0887\"],[0.1111111111111111,\"#46039f\"],[0.2222222222222222,\"#7201a8\"],[0.3333333333333333,\"#9c179e\"],[0.4444444444444444,\"#bd3786\"],[0.5555555555555556,\"#d8576b\"],[0.6666666666666666,\"#ed7953\"],[0.7777777777777778,\"#fb9f3a\"],[0.8888888888888888,\"#fdca26\"],[1.0,\"#f0f921\"]],\"sequentialminus\":[[0.0,\"#0d0887\"],[0.1111111111111111,\"#46039f\"],[0.2222222222222222,\"#7201a8\"],[0.3333333333333333,\"#9c179e\"],[0.4444444444444444,\"#bd3786\"],[0.5555555555555556,\"#d8576b\"],[0.6666666666666666,\"#ed7953\"],[0.7777777777777778,\"#fb9f3a\"],[0.8888888888888888,\"#fdca26\"],[1.0,\"#f0f921\"]],\"diverging\":[[0,\"#8e0152\"],[0.1,\"#c51b7d\"],[0.2,\"#de77ae\"],[0.3,\"#f1b6da\"],[0.4,\"#fde0ef\"],[0.5,\"#f7f7f7\"],[0.6,\"#e6f5d0\"],[0.7,\"#b8e186\"],[0.8,\"#7fbc41\"],[0.9,\"#4d9221\"],[1,\"#276419\"]]},\"xaxis\":{\"gridcolor\":\"white\",\"linecolor\":\"white\",\"ticks\":\"\",\"title\":{\"standoff\":15},\"zerolinecolor\":\"white\",\"automargin\":true,\"zerolinewidth\":2},\"yaxis\":{\"gridcolor\":\"white\",\"linecolor\":\"white\",\"ticks\":\"\",\"title\":{\"standoff\":15},\"zerolinecolor\":\"white\",\"automargin\":true,\"zerolinewidth\":2},\"scene\":{\"xaxis\":{\"backgroundcolor\":\"#E5ECF6\",\"gridcolor\":\"white\",\"linecolor\":\"white\",\"showbackground\":true,\"ticks\":\"\",\"zerolinecolor\":\"white\",\"gridwidth\":2},\"yaxis\":{\"backgroundcolor\":\"#E5ECF6\",\"gridcolor\":\"white\",\"linecolor\":\"white\",\"showbackground\":true,\"ticks\":\"\",\"zerolinecolor\":\"white\",\"gridwidth\":2},\"zaxis\":{\"backgroundcolor\":\"#E5ECF6\",\"gridcolor\":\"white\",\"linecolor\":\"white\",\"showbackground\":true,\"ticks\":\"\",\"zerolinecolor\":\"white\",\"gridwidth\":2}},\"shapedefaults\":{\"line\":{\"color\":\"#2a3f5f\"}},\"annotationdefaults\":{\"arrowcolor\":\"#2a3f5f\",\"arrowhead\":0,\"arrowwidth\":1},\"geo\":{\"bgcolor\":\"white\",\"landcolor\":\"#E5ECF6\",\"subunitcolor\":\"white\",\"showland\":true,\"showlakes\":true,\"lakecolor\":\"white\"},\"title\":{\"x\":0.05},\"mapbox\":{\"style\":\"light\"}}},\"xaxis\":{\"title\":{\"text\":\"Indeks\"}},\"yaxis\":{\"title\":{\"text\":\"Close\"}},\"title\":{\"text\":\"Wykres liniowy z kolorami\"}},                        {\"responsive\": true}                    ).then(function(){\n",
              "                            \n",
              "var gd = document.getElementById('c9d800d9-9520-4230-87df-51d9e5826bec');\n",
              "var x = new MutationObserver(function (mutations, observer) {{\n",
              "        var display = window.getComputedStyle(gd).display;\n",
              "        if (!display || display === 'none') {{\n",
              "            console.log([gd, 'removed!']);\n",
              "            Plotly.purge(gd);\n",
              "            observer.disconnect();\n",
              "        }}\n",
              "}});\n",
              "\n",
              "// Listen for the removal of the full notebook cells\n",
              "var notebookContainer = gd.closest('#notebook-container');\n",
              "if (notebookContainer) {{\n",
              "    x.observe(notebookContainer, {childList: true});\n",
              "}}\n",
              "\n",
              "// Listen for the clearing of the current output cell\n",
              "var outputEl = gd.closest('.output');\n",
              "if (outputEl) {{\n",
              "    x.observe(outputEl, {childList: true});\n",
              "}}\n",
              "\n",
              "                        })                };                            </script>        </div>\n",
              "</body>\n",
              "</html>"
            ]
          },
          "metadata": {}
        }
      ]
    },
    {
      "cell_type": "code",
      "source": [
        "# Profit\n",
        "sum = 0;\n",
        "for i in range(0, len(df)):\n",
        "  if ((i-1) > 0):\n",
        "    if df.at[i,'Sell'] == 1:\n",
        "      sum += (df.at[i,'Price'] - df.at[i-1,'Price'])*(-1)\n",
        "    elif df.at[i,'Buy'] == 1:\n",
        "      sum += (df.at[i,'Price'] - df.at[i-1,'Price'])\n",
        "    if df.at[i,'Sell'] != df.at[i-1,'Sell']:\n",
        "      sum -= 0.03\n",
        "\n",
        "print(sum)"
      ],
      "metadata": {
        "id": "6BLFVuISXDAv",
        "outputId": "46c3be0a-b3b6-4478-da83-f801a11fc920",
        "colab": {
          "base_uri": "https://localhost:8080/"
        }
      },
      "execution_count": 393,
      "outputs": [
        {
          "output_type": "stream",
          "name": "stdout",
          "text": [
            "1.4600000000001134\n"
          ]
        }
      ]
    },
    {
      "cell_type": "markdown",
      "source": [
        "### <a name='a7'></a> Predykcja na podstawie modelu:\n",
        "\n",
        "\n",
        "\n",
        "1.   **model.evaluate(y_true, y_pred)** - pozwala obliczyć metryki modelu\n",
        "2.   **model.predict_classes()** - pozwala zwrócić odpowiednio przewidziane klasy\n",
        "3.   **model.predict_proba(), model.predict()** - pozwala zwrócić prawdopodobieństwo danej klasy\n",
        "\n",
        "\n",
        "\n"
      ],
      "metadata": {
        "id": "hZjlGQgPw2-G"
      }
    },
    {
      "cell_type": "code",
      "source": [
        "predictions = model.predict(x_test)\n",
        "predictions"
      ],
      "metadata": {
        "id": "Hnq1sJrZxPmf"
      },
      "execution_count": null,
      "outputs": []
    },
    {
      "cell_type": "code",
      "source": [
        "# predictions_cls = model.predict_classes(X_test)\n",
        "predictions_cls = np.argmax(model.predict(x_test), axis=-1)\n",
        "predictions_cls"
      ],
      "metadata": {
        "id": "--gCx91W0Csa"
      },
      "execution_count": null,
      "outputs": []
    },
    {
      "cell_type": "code",
      "source": [
        "metrics = pd.DataFrame(history.history)\n",
        "metrics['epoch'] = history.epoch\n",
        "metrics"
      ],
      "metadata": {
        "id": "YLoVcniO6toN"
      },
      "execution_count": null,
      "outputs": []
    },
    {
      "cell_type": "code",
      "source": [
        "history = model.fit(x_train, y_train, epochs=10, batch_size=32, validation_split=0.2)"
      ],
      "metadata": {
        "id": "GLQ4_vcn6oQa"
      },
      "execution_count": null,
      "outputs": []
    },
    {
      "cell_type": "code",
      "source": [
        "model = tf.keras.models.load_model('lstm_Model.keras')\n",
        "model.summary()"
      ],
      "metadata": {
        "id": "VTcKTFtqDz05"
      },
      "execution_count": null,
      "outputs": []
    },
    {
      "cell_type": "markdown",
      "source": [
        "### <a name='a5'></a> Przykład budowy modelu z kursu"
      ],
      "metadata": {
        "id": "L1dMlQcAxrBa"
      }
    },
    {
      "cell_type": "code",
      "source": [
        "# model = Sequential()\n",
        "# model.add(Flatten(input_shape=(28, 28)))\n",
        "# model.add(Dense(units=128, activation='relu'))\n",
        "# model.add(Dense(units=10, activation='softmax'))\n",
        "\n",
        "# model.compile(optimizer='rmsprop',\n",
        "#               loss='categorical_crossentropy',\n",
        "#               metrics=['accuracy'])\n",
        "\n",
        "# model.summary()\n",
        "model = Sequential()\n",
        "model.add(LstmLayer)\n",
        "model.add(Dense(units=2, activation='softmax')) # <----- output layer\n",
        "\n",
        "model.compile(optimizer='rmsprop',\n",
        "              loss='categorical_crossentropy',\n",
        "              metrics=['accuracy'])\n",
        "\n",
        "model.summary()"
      ],
      "metadata": {
        "id": "XXUBIQvdsdra"
      },
      "execution_count": null,
      "outputs": []
    },
    {
      "cell_type": "markdown",
      "source": [
        "### <a name='a8'></a> Zip file"
      ],
      "metadata": {
        "id": "EOfWIf-3-UsM"
      }
    },
    {
      "cell_type": "code",
      "source": [
        "from zipfile import ZipFile\n",
        "\n",
        "zip = ZipFile('my_python_files.zip','w')\n",
        "zip.write('lstm_Model.keras')"
      ],
      "metadata": {
        "id": "BzXru1KVD_H9"
      },
      "execution_count": null,
      "outputs": []
    },
    {
      "cell_type": "markdown",
      "source": [
        "### <a name='a9'></a> Extract tar gz"
      ],
      "metadata": {
        "id": "qwJG5yS6PU-V"
      }
    },
    {
      "cell_type": "code",
      "source": [
        "# importing the \"tarfile\" module\n",
        "import tarfile\n",
        "\n",
        "# open file\n",
        "file = tarfile.open('1_150x9.tar.gz')\n",
        "\n",
        "# extracting a specific file\n",
        "file.extractall(path='./1_150x9/')\n",
        "\n",
        "file.close()"
      ],
      "metadata": {
        "id": "vGD-1oYzPE3z"
      },
      "execution_count": 2,
      "outputs": []
    },
    {
      "cell_type": "code",
      "source": [],
      "metadata": {
        "id": "aVLlJ_ue-zvq"
      },
      "execution_count": null,
      "outputs": []
    }
  ]
}