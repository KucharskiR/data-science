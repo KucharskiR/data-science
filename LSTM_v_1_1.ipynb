{
  "nbformat": 4,
  "nbformat_minor": 0,
  "metadata": {
    "colab": {
      "provenance": [],
      "gpuType": "T4",
      "toc_visible": true,
      "authorship_tag": "ABX9TyOUi+VUGUqxXPzT876adj6M",
      "include_colab_link": true
    },
    "kernelspec": {
      "name": "python3",
      "display_name": "Python 3"
    },
    "language_info": {
      "name": "python"
    },
    "accelerator": "GPU"
  },
  "cells": [
    {
      "cell_type": "markdown",
      "metadata": {
        "id": "view-in-github",
        "colab_type": "text"
      },
      "source": [
        "<a href=\"https://colab.research.google.com/github/KucharskiR/data-science/blob/main/LSTM_v_1_1.ipynb\" target=\"_parent\"><img src=\"https://colab.research.google.com/assets/colab-badge.svg\" alt=\"Open In Colab\"/></a>"
      ]
    },
    {
      "cell_type": "markdown",
      "source": [],
      "metadata": {
        "id": "WuSMzASeSIkv"
      }
    },
    {
      "cell_type": "markdown",
      "source": [
        "### **Sieć neuronowa LSTM**\n",
        "\n",
        "Budowa sieci neuronowej LSTM\n",
        "\n",
        "#### **Spis treści:**\n",
        "1. [Import bibliotek](#a0)\n",
        "2. [Przygotowanie danych](#a1)\n",
        "3. [Konfiguracja LSTM layer](#a2)\n",
        "4. [Główny model](#a3)\n",
        "5. [Klasyfikacja](#a4)\n",
        "6. [Przykład budowy modelu z kursu](#a5)\n",
        "7. [Ocena modelu + wykresy](#a6)\n",
        "8. [Predykcja na podstawie modelu](#a7)\n",
        "9. [Zip file](#a8)\n",
        "10. [Extract .tar.gz](#a9)"
      ],
      "metadata": {
        "id": "9_IXOH1xSAE6"
      }
    },
    {
      "cell_type": "markdown",
      "source": [
        "### <a name='a0'></a> Import bibliotek"
      ],
      "metadata": {
        "id": "R8c4m6mdRsCn"
      }
    },
    {
      "cell_type": "code",
      "source": [
        "import csv\n",
        "import numpy as np\n",
        "import pandas as pd\n",
        "import tensorflow as tf\n",
        "from sklearn.model_selection import train_test_split\n",
        "from sklearn.preprocessing import MinMaxScaler\n",
        "from keras.models import Sequential\n",
        "from keras.layers import LSTM\n",
        "from keras.layers import Dense\n",
        "from keras.optimizers import Adam\n",
        "from keras.callbacks import LambdaCallback\n",
        "from keras.initializers import TruncatedNormal\n",
        "from keras.models import save_model\n",
        "import matplotlib.pyplot as plt\n",
        "from sklearn.metrics import confusion_matrix, accuracy_score, roc_auc_score, roc_curve\n",
        "import os\n",
        "\n",
        "np.set_printoptions(precision=12, suppress=True, linewidth=150)\n",
        "pd.options.display.float_format = '{:.6f}'.format\n",
        "# sns.set()   <--- seaborn\n",
        "print(np.__version__)"
      ],
      "metadata": {
        "id": "oscxr8yAP1qs",
        "colab": {
          "base_uri": "https://localhost:8080/"
        },
        "outputId": "c667270f-c645-4616-c43e-6e91dcbb7f80"
      },
      "execution_count": 2,
      "outputs": [
        {
          "output_type": "stream",
          "name": "stdout",
          "text": [
            "1.25.2\n"
          ]
        }
      ]
    },
    {
      "cell_type": "markdown",
      "source": [
        "### <a name='a1'></a> Przygotowanie danych"
      ],
      "metadata": {
        "id": "SRGMRUlBQdgu"
      }
    },
    {
      "cell_type": "code",
      "source": [
        "# Assuming there are three features in your data\n",
        "num_features = 8\n",
        "num_labels = 2\n",
        "timestepsPerSample = 150\n",
        "epochs = 2\n",
        "batch = 32"
      ],
      "metadata": {
        "id": "RPfYadvw1QjV"
      },
      "execution_count": 31,
      "outputs": []
    },
    {
      "cell_type": "code",
      "source": [
        "# Replace 'your_file.csv' with the actual file path\n",
        "file_features = './1_150x9/1_150x9f.csv'\n",
        "file_labels = './1_150x9/1_150x9l.csv'\n",
        "\n",
        "# Specify the CSV file name\n",
        "csv_file_name = 'my_data1.csv'\n",
        "\n",
        "# Read the .csv file and create an array\n",
        "data_strings = np.genfromtxt(file_features, delimiter=';')\n",
        "labels_strings = np.genfromtxt(file_labels,delimiter=';')"
      ],
      "metadata": {
        "id": "ZpRmwBm5dg36"
      },
      "execution_count": 34,
      "outputs": []
    },
    {
      "cell_type": "code",
      "source": [
        "# Wycinanie wybranych kolumn\n",
        "data_s = data_strings[:,[0,2,3,4,5,6,7,8]]\n",
        "print(data_strings[:3])\n",
        "print(data_s[:3])"
      ],
      "metadata": {
        "colab": {
          "base_uri": "https://localhost:8080/"
        },
        "id": "1DaCMgIUTOZJ",
        "outputId": "230680de-5cc1-4eb9-f585-586ff2fa4afb"
      },
      "execution_count": 42,
      "outputs": [
        {
          "output_type": "stream",
          "name": "stdout",
          "text": [
            "[[-0.07371   0.001137  0.01742  -0.0145   -0.06481   0.08029  -0.11523   0.10792   0.989   ]\n",
            " [-0.17048   0.007527  0.019168 -0.01685  -0.10209  -0.44286  -0.18144   0.01512   0.94915 ]\n",
            " [-0.17888   0.007856  0.018207 -0.01051  -0.09147  -0.71242  -0.25967  -0.04955   0.76432 ]]\n",
            "[[-0.07371   0.01742  -0.0145   -0.06481   0.08029  -0.11523   0.10792   0.989   ]\n",
            " [-0.17048   0.019168 -0.01685  -0.10209  -0.44286  -0.18144   0.01512   0.94915 ]\n",
            " [-0.17888   0.018207 -0.01051  -0.09147  -0.71242  -0.25967  -0.04955   0.76432 ]]\n"
          ]
        }
      ]
    },
    {
      "cell_type": "code",
      "source": [
        "# Convert from strings to float and int\n",
        "X = data_s.astype(float).reshape((-1,timestepsPerSample,num_features))\n",
        "Y = labels_strings.astype(float).reshape((-1,3))\n",
        "print(X.shape)\n",
        "print(Y.shape)"
      ],
      "metadata": {
        "colab": {
          "base_uri": "https://localhost:8080/"
        },
        "id": "sXAmO91iVIsZ",
        "outputId": "a9d0bb3c-99c5-46a2-f186-f266f18ed0da"
      },
      "execution_count": 43,
      "outputs": [
        {
          "output_type": "stream",
          "name": "stdout",
          "text": [
            "(33300, 150, 8)\n",
            "(33300, 3)\n"
          ]
        }
      ]
    },
    {
      "cell_type": "code",
      "source": [
        "# splitting the dataset 75% for training and 25% testing\n",
        "# X_train, X_test, y_train, y_test = train_test_split(X,Y, test_size=0.2, random_state=42)\n",
        "x_train, x_test, Y_train, Y_test = train_test_split(X,Y, test_size=0.15, shuffle=False)\n",
        "print(x_train.shape)\n",
        "# print(x_train[:5])"
      ],
      "metadata": {
        "id": "7Nj3hWqDQb-T",
        "colab": {
          "base_uri": "https://localhost:8080/"
        },
        "outputId": "b8dff8cd-597a-4780-a7ed-251357baf497"
      },
      "execution_count": 44,
      "outputs": [
        {
          "output_type": "stream",
          "name": "stdout",
          "text": [
            "(28305, 150, 8)\n"
          ]
        }
      ]
    },
    {
      "cell_type": "code",
      "source": [
        "y_train = Y_train[:, 0:2]\n",
        "y_test = Y_test[:, 0:2]\n",
        "print(y_train[:2])\n",
        "print(y_test[:2])"
      ],
      "metadata": {
        "id": "iCXnu_I_kcXB",
        "outputId": "a9211b55-5fa6-4999-e05f-6ac3c550617e",
        "colab": {
          "base_uri": "https://localhost:8080/"
        }
      },
      "execution_count": 45,
      "outputs": [
        {
          "output_type": "stream",
          "name": "stdout",
          "text": [
            "[[0. 1.]\n",
            " [0. 1.]]\n",
            "[[0. 1.]\n",
            " [0. 1.]]\n"
          ]
        }
      ]
    },
    {
      "cell_type": "markdown",
      "source": [
        "### <a name='a4'></a> Konfiguracja LSTM layer"
      ],
      "metadata": {
        "id": "8HqOhfTgQsYb"
      }
    },
    {
      "cell_type": "code",
      "source": [
        "LstmLayer = LSTM(\n",
        "    units=200,\n",
        "    activation=\"tanh\",\n",
        "    recurrent_activation=\"sigmoid\",\n",
        "    use_bias=True,\n",
        "    kernel_initializer=\"glorot_uniform\",\n",
        "    recurrent_initializer=\"orthogonal\",\n",
        "    bias_initializer=\"zeros\",\n",
        "    unit_forget_bias=True,\n",
        "    kernel_regularizer=None,\n",
        "    recurrent_regularizer=None,\n",
        "    bias_regularizer=None,\n",
        "    activity_regularizer=None,\n",
        "    kernel_constraint=None,\n",
        "    recurrent_constraint=None,\n",
        "    bias_constraint=None,\n",
        "    dropout=0.0,\n",
        "    recurrent_dropout=0.0,\n",
        "    seed=None,\n",
        "    return_sequences=False,\n",
        "    return_state=False,\n",
        "    go_backwards=False,\n",
        "    stateful=False,\n",
        "    unroll=False,\n",
        "    input_shape=(x_train.shape[1],x_train.shape[2])\n",
        ")"
      ],
      "metadata": {
        "id": "c_nNj1oIQRZ8"
      },
      "execution_count": 46,
      "outputs": []
    },
    {
      "cell_type": "markdown",
      "source": [
        "### <a name='a3'></a> Główny model"
      ],
      "metadata": {
        "id": "JtbGqmW8Q49l"
      }
    },
    {
      "cell_type": "code",
      "source": [
        "# Optimizer decay\n",
        "num_samples = x_train.shape[0]\n",
        "STEPS_PER_EPOCH = num_samples/batch\n",
        "num_samples"
      ],
      "metadata": {
        "colab": {
          "base_uri": "https://localhost:8080/"
        },
        "id": "82GpoNe4x0sR",
        "outputId": "18246c5e-4047-4100-9c2a-0a3321739031"
      },
      "execution_count": 47,
      "outputs": [
        {
          "output_type": "execute_result",
          "data": {
            "text/plain": [
              "28305"
            ]
          },
          "metadata": {},
          "execution_count": 47
        }
      ]
    },
    {
      "cell_type": "code",
      "source": [
        "model = Sequential() # initializing model\n",
        "\n",
        "# input layer and LSTM layer with 50 neurons\n",
        "# lst.add(LSTM(units=300, return_sequences=False, input_shape=(x_train.shape[1],x_train.shape[2])))\n",
        "model.add(LstmLayer)\n",
        "model.add(Dense(20, activation='relu'))\n",
        "model.add(Dense(10, activation='relu'))\n",
        "model.add(Dense(5, activation='relu'))\n",
        "# outpute layer with sigmoid activation\n",
        "model.add(Dense(num_labels, activation='sigmoid'))\n",
        "\n",
        "# lr_schedule = tf.keras.optimizers.schedules.InverseTimeDecay(\n",
        "lr_schedule = tf.keras.optimizers.schedules.ExponentialDecay(\n",
        "  0.001,\n",
        "  decay_steps=STEPS_PER_EPOCH*100,\n",
        "  decay_rate=0.9,\n",
        "  staircase=False)\n",
        "\n",
        "def get_optimizer():\n",
        "  # return tf.keras.optimizers.Adam(learning_rate=0.001)\n",
        "  return tf.keras.optimizers.Adam(learning_rate= lr_schedule)\n",
        "\n",
        "optimizer = get_optimizer()\n",
        "\n",
        "# defining loss function, optimizer, metrics and then compiling model\n",
        "model.compile(loss='binary_crossentropy',optimizer=optimizer,metrics=['accuracy'])\n",
        "model.summary()"
      ],
      "metadata": {
        "id": "yxpq8IoogFdl"
      },
      "execution_count": null,
      "outputs": []
    },
    {
      "cell_type": "markdown",
      "source": [
        "### Training"
      ],
      "metadata": {
        "id": "mn7ZgX4wj8-T"
      }
    },
    {
      "cell_type": "code",
      "source": [
        "# training the model on training dataset\n",
        "# history = lst.fit(x_train, y_train, epochs=epochs, batch_size=batch,validation_split=0.2)\n",
        "history = model.fit(x_train, y_train, epochs=epochs, batch_size=batch, validation_data=(x_test, y_test))\n",
        "\n",
        "# Save model\n",
        "model.save(\"1_150x_trained.h5\", overwrite=True, save_format='h5')\n",
        "\n",
        "# predicting target attribute on testing dataset\n",
        "predict = model.predict(x_test)\n",
        "# predict = np.argmax(lst.predict(x_test), axis=-1)"
      ],
      "metadata": {
        "id": "ckxOaCSvhpcB",
        "colab": {
          "base_uri": "https://localhost:8080/"
        },
        "outputId": "1ce75e6c-8807-4322-87e8-d7b758158efd"
      },
      "execution_count": 49,
      "outputs": [
        {
          "output_type": "stream",
          "name": "stdout",
          "text": [
            "Epoch 1/2\n",
            "885/885 [==============================] - 15s 13ms/step - loss: 0.5950 - accuracy: 0.6862 - val_loss: 0.5895 - val_accuracy: 0.6877\n",
            "Epoch 2/2\n",
            "885/885 [==============================] - 10s 11ms/step - loss: 0.5653 - accuracy: 0.7119 - val_loss: 0.5774 - val_accuracy: 0.7003\n"
          ]
        },
        {
          "output_type": "stream",
          "name": "stderr",
          "text": [
            "/usr/local/lib/python3.10/dist-packages/keras/src/engine/training.py:3103: UserWarning:\n",
            "\n",
            "You are saving your model as an HDF5 file via `model.save()`. This file format is considered legacy. We recommend using instead the native Keras format, e.g. `model.save('my_model.keras')`.\n",
            "\n"
          ]
        },
        {
          "output_type": "stream",
          "name": "stdout",
          "text": [
            "157/157 [==============================] - 1s 4ms/step\n"
          ]
        }
      ]
    },
    {
      "cell_type": "code",
      "execution_count": 50,
      "metadata": {
        "id": "51o6kObaoKAk",
        "colab": {
          "base_uri": "https://localhost:8080/"
        },
        "outputId": "49116054-8266-4f1e-de0d-990b38d1dcae"
      },
      "outputs": [
        {
          "output_type": "stream",
          "name": "stdout",
          "text": [
            "[[0.607951104641 0.428093641996 0.             1.            ]\n",
            " [0.558708667755 0.466064214706 0.             1.            ]\n",
            " [0.267418861389 0.73212647438  0.             1.            ]\n",
            " ...\n",
            " [0.604081392288 0.409286081791 0.             1.            ]\n",
            " [0.487379610538 0.505794346333 0.             1.            ]\n",
            " [0.586025238037 0.421605795622 0.             1.            ]]\n",
            "157/157 [==============================] - 1s 6ms/step - loss: 0.5774 - accuracy: 0.7003\n",
            "Test results - Loss: 0.5774118304252625 - Accuracy: 70.03002762794495%\n"
          ]
        }
      ],
      "source": [
        "# Set print options to suppress scientific notation\n",
        "np.set_printoptions(suppress=True)\n",
        "\n",
        "# Concatenate arrays\n",
        "result = np.hstack((predict, y_test))\n",
        "print(result)\n",
        "\n",
        "test_results = model.evaluate(x_test, y_test, verbose=1)\n",
        "print(f'Test results - Loss: {test_results[0]} - Accuracy: {test_results[1]*100}%')\n",
        "\n",
        "# # Create a DataFrame from the 2D array\n",
        "# df = pd.DataFrame(predict, columns=['Column1', 'Column2'])\n",
        "\n",
        "# # Export the DataFrame to CSV with semicolon as the delimiter and avoiding scientific notation\n",
        "# # df.to_csv(csv_file_name, sep=';', index=False, float_format='%.0f')\n",
        "# df.to_csv(csv_file_name, sep=';', index=False)\n",
        "\n",
        "# # Read the CSV file into a DataFrame without header\n",
        "# df = pd.read_csv(csv_file_name, sep=';', header=None)\n",
        "\n",
        "# # Drop the first row containing data\n",
        "# df = df.iloc[1:]\n",
        "\n",
        "# # Save the modified DataFrame back to the CSV file without header\n",
        "# df.to_csv(csv_file_name, sep=';', index=False, header=False)\n",
        "\n",
        "# print(f'CSV file name: {csv_file_name}.')\n",
        "\n"
      ]
    },
    {
      "cell_type": "markdown",
      "source": [
        "### <a name='a4'></a> Predict i Klasyfikacja"
      ],
      "metadata": {
        "id": "Gi3IESNbmXQ2"
      }
    },
    {
      "cell_type": "code",
      "source": [
        "predict = model.predict(x_test)\n",
        "predict[:3]"
      ],
      "metadata": {
        "id": "QpZVxifpko37",
        "colab": {
          "base_uri": "https://localhost:8080/"
        },
        "outputId": "02797ebb-c694-4173-8b5b-5e22263c3eb2"
      },
      "execution_count": 51,
      "outputs": [
        {
          "output_type": "stream",
          "name": "stdout",
          "text": [
            "157/157 [==============================] - 1s 5ms/step\n"
          ]
        },
        {
          "output_type": "execute_result",
          "data": {
            "text/plain": [
              "array([[0.6079511 , 0.42809364],\n",
              "       [0.55870867, 0.4660642 ],\n",
              "       [0.26741886, 0.7321265 ]], dtype=float32)"
            ]
          },
          "metadata": {},
          "execution_count": 51
        }
      ]
    },
    {
      "cell_type": "code",
      "source": [
        "# np.info(predict)\n",
        "# np.where(y_pred > threshold, 1,0)\n",
        "predict_classes = predict\n",
        "# predict_classes = np.argmax(predict_classes, axis=-1)\n",
        "predict_classes = np.where(predict > 0.5, 1,0)\n",
        "np.info(predict_classes)\n",
        "predict_classes[:3]\n",
        "# predict"
      ],
      "metadata": {
        "id": "WqQZNp_UhtfY",
        "colab": {
          "base_uri": "https://localhost:8080/"
        },
        "outputId": "a64b5b30-faf0-47a5-df3d-b4fb2db2d5c7"
      },
      "execution_count": 52,
      "outputs": [
        {
          "output_type": "stream",
          "name": "stdout",
          "text": [
            "class:  ndarray\n",
            "shape:  (4995, 2)\n",
            "strides:  (16, 8)\n",
            "itemsize:  8\n",
            "aligned:  True\n",
            "contiguous:  True\n",
            "fortran:  False\n",
            "data pointer: 0x56c9c2b0f820\n",
            "byteorder:  little\n",
            "byteswap:  False\n",
            "type: int64\n"
          ]
        },
        {
          "output_type": "execute_result",
          "data": {
            "text/plain": [
              "array([[1, 0],\n",
              "       [1, 0],\n",
              "       [0, 1]])"
            ]
          },
          "metadata": {},
          "execution_count": 52
        }
      ]
    },
    {
      "cell_type": "markdown",
      "source": [
        "**epochs** - ile razy zestaw treningowy zostanie przetworzony przez model. Przy każdej iteracji optymalizator próbuje dopasować wagi, aby funkcja celu została zminimalizowana.\n",
        "\n",
        "**batch_size** - liczba przykładów treningowych po której następuje aktualizacji wag\n",
        "\n",
        "**validation_split** - procent danych użytych do walidacji"
      ],
      "metadata": {
        "id": "iP8wBH2x6zN6"
      }
    },
    {
      "cell_type": "code",
      "source": [
        "metrics = pd.DataFrame(history.history)\n",
        "metrics['epoch'] = history.epoch\n",
        "metrics[:3]"
      ],
      "metadata": {
        "id": "Id7wOgRSPxgb",
        "colab": {
          "base_uri": "https://localhost:8080/",
          "height": 112
        },
        "outputId": "7e2fe762-72b9-4184-cbf1-8996324d55e6"
      },
      "execution_count": 53,
      "outputs": [
        {
          "output_type": "execute_result",
          "data": {
            "text/plain": [
              "      loss  accuracy  val_loss  val_accuracy  epoch\n",
              "0 0.594963  0.686204  0.589476      0.687688      0\n",
              "1 0.565332  0.711924  0.577412      0.700300      1"
            ],
            "text/html": [
              "\n",
              "  <div id=\"df-25720d75-a396-47e7-b6cf-3f44105b662c\" class=\"colab-df-container\">\n",
              "    <div>\n",
              "<style scoped>\n",
              "    .dataframe tbody tr th:only-of-type {\n",
              "        vertical-align: middle;\n",
              "    }\n",
              "\n",
              "    .dataframe tbody tr th {\n",
              "        vertical-align: top;\n",
              "    }\n",
              "\n",
              "    .dataframe thead th {\n",
              "        text-align: right;\n",
              "    }\n",
              "</style>\n",
              "<table border=\"1\" class=\"dataframe\">\n",
              "  <thead>\n",
              "    <tr style=\"text-align: right;\">\n",
              "      <th></th>\n",
              "      <th>loss</th>\n",
              "      <th>accuracy</th>\n",
              "      <th>val_loss</th>\n",
              "      <th>val_accuracy</th>\n",
              "      <th>epoch</th>\n",
              "    </tr>\n",
              "  </thead>\n",
              "  <tbody>\n",
              "    <tr>\n",
              "      <th>0</th>\n",
              "      <td>0.594963</td>\n",
              "      <td>0.686204</td>\n",
              "      <td>0.589476</td>\n",
              "      <td>0.687688</td>\n",
              "      <td>0</td>\n",
              "    </tr>\n",
              "    <tr>\n",
              "      <th>1</th>\n",
              "      <td>0.565332</td>\n",
              "      <td>0.711924</td>\n",
              "      <td>0.577412</td>\n",
              "      <td>0.700300</td>\n",
              "      <td>1</td>\n",
              "    </tr>\n",
              "  </tbody>\n",
              "</table>\n",
              "</div>\n",
              "    <div class=\"colab-df-buttons\">\n",
              "\n",
              "  <div class=\"colab-df-container\">\n",
              "    <button class=\"colab-df-convert\" onclick=\"convertToInteractive('df-25720d75-a396-47e7-b6cf-3f44105b662c')\"\n",
              "            title=\"Convert this dataframe to an interactive table.\"\n",
              "            style=\"display:none;\">\n",
              "\n",
              "  <svg xmlns=\"http://www.w3.org/2000/svg\" height=\"24px\" viewBox=\"0 -960 960 960\">\n",
              "    <path d=\"M120-120v-720h720v720H120Zm60-500h600v-160H180v160Zm220 220h160v-160H400v160Zm0 220h160v-160H400v160ZM180-400h160v-160H180v160Zm440 0h160v-160H620v160ZM180-180h160v-160H180v160Zm440 0h160v-160H620v160Z\"/>\n",
              "  </svg>\n",
              "    </button>\n",
              "\n",
              "  <style>\n",
              "    .colab-df-container {\n",
              "      display:flex;\n",
              "      gap: 12px;\n",
              "    }\n",
              "\n",
              "    .colab-df-convert {\n",
              "      background-color: #E8F0FE;\n",
              "      border: none;\n",
              "      border-radius: 50%;\n",
              "      cursor: pointer;\n",
              "      display: none;\n",
              "      fill: #1967D2;\n",
              "      height: 32px;\n",
              "      padding: 0 0 0 0;\n",
              "      width: 32px;\n",
              "    }\n",
              "\n",
              "    .colab-df-convert:hover {\n",
              "      background-color: #E2EBFA;\n",
              "      box-shadow: 0px 1px 2px rgba(60, 64, 67, 0.3), 0px 1px 3px 1px rgba(60, 64, 67, 0.15);\n",
              "      fill: #174EA6;\n",
              "    }\n",
              "\n",
              "    .colab-df-buttons div {\n",
              "      margin-bottom: 4px;\n",
              "    }\n",
              "\n",
              "    [theme=dark] .colab-df-convert {\n",
              "      background-color: #3B4455;\n",
              "      fill: #D2E3FC;\n",
              "    }\n",
              "\n",
              "    [theme=dark] .colab-df-convert:hover {\n",
              "      background-color: #434B5C;\n",
              "      box-shadow: 0px 1px 3px 1px rgba(0, 0, 0, 0.15);\n",
              "      filter: drop-shadow(0px 1px 2px rgba(0, 0, 0, 0.3));\n",
              "      fill: #FFFFFF;\n",
              "    }\n",
              "  </style>\n",
              "\n",
              "    <script>\n",
              "      const buttonEl =\n",
              "        document.querySelector('#df-25720d75-a396-47e7-b6cf-3f44105b662c button.colab-df-convert');\n",
              "      buttonEl.style.display =\n",
              "        google.colab.kernel.accessAllowed ? 'block' : 'none';\n",
              "\n",
              "      async function convertToInteractive(key) {\n",
              "        const element = document.querySelector('#df-25720d75-a396-47e7-b6cf-3f44105b662c');\n",
              "        const dataTable =\n",
              "          await google.colab.kernel.invokeFunction('convertToInteractive',\n",
              "                                                    [key], {});\n",
              "        if (!dataTable) return;\n",
              "\n",
              "        const docLinkHtml = 'Like what you see? Visit the ' +\n",
              "          '<a target=\"_blank\" href=https://colab.research.google.com/notebooks/data_table.ipynb>data table notebook</a>'\n",
              "          + ' to learn more about interactive tables.';\n",
              "        element.innerHTML = '';\n",
              "        dataTable['output_type'] = 'display_data';\n",
              "        await google.colab.output.renderOutput(dataTable, element);\n",
              "        const docLink = document.createElement('div');\n",
              "        docLink.innerHTML = docLinkHtml;\n",
              "        element.appendChild(docLink);\n",
              "      }\n",
              "    </script>\n",
              "  </div>\n",
              "\n",
              "\n",
              "<div id=\"df-9a028bbf-3168-46b1-9140-1e4261027c22\">\n",
              "  <button class=\"colab-df-quickchart\" onclick=\"quickchart('df-9a028bbf-3168-46b1-9140-1e4261027c22')\"\n",
              "            title=\"Suggest charts\"\n",
              "            style=\"display:none;\">\n",
              "\n",
              "<svg xmlns=\"http://www.w3.org/2000/svg\" height=\"24px\"viewBox=\"0 0 24 24\"\n",
              "     width=\"24px\">\n",
              "    <g>\n",
              "        <path d=\"M19 3H5c-1.1 0-2 .9-2 2v14c0 1.1.9 2 2 2h14c1.1 0 2-.9 2-2V5c0-1.1-.9-2-2-2zM9 17H7v-7h2v7zm4 0h-2V7h2v10zm4 0h-2v-4h2v4z\"/>\n",
              "    </g>\n",
              "</svg>\n",
              "  </button>\n",
              "\n",
              "<style>\n",
              "  .colab-df-quickchart {\n",
              "      --bg-color: #E8F0FE;\n",
              "      --fill-color: #1967D2;\n",
              "      --hover-bg-color: #E2EBFA;\n",
              "      --hover-fill-color: #174EA6;\n",
              "      --disabled-fill-color: #AAA;\n",
              "      --disabled-bg-color: #DDD;\n",
              "  }\n",
              "\n",
              "  [theme=dark] .colab-df-quickchart {\n",
              "      --bg-color: #3B4455;\n",
              "      --fill-color: #D2E3FC;\n",
              "      --hover-bg-color: #434B5C;\n",
              "      --hover-fill-color: #FFFFFF;\n",
              "      --disabled-bg-color: #3B4455;\n",
              "      --disabled-fill-color: #666;\n",
              "  }\n",
              "\n",
              "  .colab-df-quickchart {\n",
              "    background-color: var(--bg-color);\n",
              "    border: none;\n",
              "    border-radius: 50%;\n",
              "    cursor: pointer;\n",
              "    display: none;\n",
              "    fill: var(--fill-color);\n",
              "    height: 32px;\n",
              "    padding: 0;\n",
              "    width: 32px;\n",
              "  }\n",
              "\n",
              "  .colab-df-quickchart:hover {\n",
              "    background-color: var(--hover-bg-color);\n",
              "    box-shadow: 0 1px 2px rgba(60, 64, 67, 0.3), 0 1px 3px 1px rgba(60, 64, 67, 0.15);\n",
              "    fill: var(--button-hover-fill-color);\n",
              "  }\n",
              "\n",
              "  .colab-df-quickchart-complete:disabled,\n",
              "  .colab-df-quickchart-complete:disabled:hover {\n",
              "    background-color: var(--disabled-bg-color);\n",
              "    fill: var(--disabled-fill-color);\n",
              "    box-shadow: none;\n",
              "  }\n",
              "\n",
              "  .colab-df-spinner {\n",
              "    border: 2px solid var(--fill-color);\n",
              "    border-color: transparent;\n",
              "    border-bottom-color: var(--fill-color);\n",
              "    animation:\n",
              "      spin 1s steps(1) infinite;\n",
              "  }\n",
              "\n",
              "  @keyframes spin {\n",
              "    0% {\n",
              "      border-color: transparent;\n",
              "      border-bottom-color: var(--fill-color);\n",
              "      border-left-color: var(--fill-color);\n",
              "    }\n",
              "    20% {\n",
              "      border-color: transparent;\n",
              "      border-left-color: var(--fill-color);\n",
              "      border-top-color: var(--fill-color);\n",
              "    }\n",
              "    30% {\n",
              "      border-color: transparent;\n",
              "      border-left-color: var(--fill-color);\n",
              "      border-top-color: var(--fill-color);\n",
              "      border-right-color: var(--fill-color);\n",
              "    }\n",
              "    40% {\n",
              "      border-color: transparent;\n",
              "      border-right-color: var(--fill-color);\n",
              "      border-top-color: var(--fill-color);\n",
              "    }\n",
              "    60% {\n",
              "      border-color: transparent;\n",
              "      border-right-color: var(--fill-color);\n",
              "    }\n",
              "    80% {\n",
              "      border-color: transparent;\n",
              "      border-right-color: var(--fill-color);\n",
              "      border-bottom-color: var(--fill-color);\n",
              "    }\n",
              "    90% {\n",
              "      border-color: transparent;\n",
              "      border-bottom-color: var(--fill-color);\n",
              "    }\n",
              "  }\n",
              "</style>\n",
              "\n",
              "  <script>\n",
              "    async function quickchart(key) {\n",
              "      const quickchartButtonEl =\n",
              "        document.querySelector('#' + key + ' button');\n",
              "      quickchartButtonEl.disabled = true;  // To prevent multiple clicks.\n",
              "      quickchartButtonEl.classList.add('colab-df-spinner');\n",
              "      try {\n",
              "        const charts = await google.colab.kernel.invokeFunction(\n",
              "            'suggestCharts', [key], {});\n",
              "      } catch (error) {\n",
              "        console.error('Error during call to suggestCharts:', error);\n",
              "      }\n",
              "      quickchartButtonEl.classList.remove('colab-df-spinner');\n",
              "      quickchartButtonEl.classList.add('colab-df-quickchart-complete');\n",
              "    }\n",
              "    (() => {\n",
              "      let quickchartButtonEl =\n",
              "        document.querySelector('#df-9a028bbf-3168-46b1-9140-1e4261027c22 button');\n",
              "      quickchartButtonEl.style.display =\n",
              "        google.colab.kernel.accessAllowed ? 'block' : 'none';\n",
              "    })();\n",
              "  </script>\n",
              "</div>\n",
              "    </div>\n",
              "  </div>\n"
            ],
            "application/vnd.google.colaboratory.intrinsic+json": {
              "type": "dataframe",
              "summary": "{\n  \"name\": \"metrics[:3]\",\n  \"rows\": 2,\n  \"fields\": [\n    {\n      \"column\": \"loss\",\n      \"properties\": {\n        \"dtype\": \"number\",\n        \"std\": 0.020952420653372238,\n        \"min\": 0.5653322339057922,\n        \"max\": 0.5949634313583374,\n        \"num_unique_values\": 2,\n        \"samples\": [\n          0.5653322339057922,\n          0.5949634313583374\n        ],\n        \"semantic_type\": \"\",\n        \"description\": \"\"\n      }\n    },\n    {\n      \"column\": \"accuracy\",\n      \"properties\": {\n        \"dtype\": \"number\",\n        \"std\": 0.01818666016039035,\n        \"min\": 0.6862038373947144,\n        \"max\": 0.7119236588478088,\n        \"num_unique_values\": 2,\n        \"samples\": [\n          0.7119236588478088,\n          0.6862038373947144\n        ],\n        \"semantic_type\": \"\",\n        \"description\": \"\"\n      }\n    },\n    {\n      \"column\": \"val_loss\",\n      \"properties\": {\n        \"dtype\": \"number\",\n        \"std\": 0.008530648579150485,\n        \"min\": 0.5774118304252625,\n        \"max\": 0.5894759893417358,\n        \"num_unique_values\": 2,\n        \"samples\": [\n          0.5774118304252625,\n          0.5894759893417358\n        ],\n        \"semantic_type\": \"\",\n        \"description\": \"\"\n      }\n    },\n    {\n      \"column\": \"val_accuracy\",\n      \"properties\": {\n        \"dtype\": \"number\",\n        \"std\": 0.00891844173229922,\n        \"min\": 0.6876876950263977,\n        \"max\": 0.7003002762794495,\n        \"num_unique_values\": 2,\n        \"samples\": [\n          0.7003002762794495,\n          0.6876876950263977\n        ],\n        \"semantic_type\": \"\",\n        \"description\": \"\"\n      }\n    },\n    {\n      \"column\": \"epoch\",\n      \"properties\": {\n        \"dtype\": \"number\",\n        \"std\": 0,\n        \"min\": 0,\n        \"max\": 1,\n        \"num_unique_values\": 2,\n        \"samples\": [\n          1,\n          0\n        ],\n        \"semantic_type\": \"\",\n        \"description\": \"\"\n      }\n    }\n  ]\n}"
            }
          },
          "metadata": {},
          "execution_count": 53
        }
      ]
    },
    {
      "cell_type": "markdown",
      "source": [
        "### <a name='a6'></a> Ocena modelu LSTM"
      ],
      "metadata": {
        "id": "c8fsX9-1SaXY"
      }
    },
    {
      "cell_type": "code",
      "source": [
        "import plotly.graph_objects as go\n",
        "from plotly.subplots import make_subplots\n",
        "\n",
        "fig = make_subplots(rows=1, cols=2)\n",
        "fig.add_trace(go.Scatter(x=metrics['epoch'], y=metrics['accuracy'], name='accuracy'), row=1, col=1)\n",
        "fig.add_trace(go.Scatter(x=metrics['epoch'], y=metrics['loss'], name='loss'), row=1, col=2)\n",
        "fig.add_trace(go.Scatter(x=metrics['epoch'], y=metrics['val_accuracy'], name='val_accuracy'), row=1, col=1)\n",
        "fig.add_trace(go.Scatter(x=metrics['epoch'], y=metrics['val_loss'], name='val_loss'), row=1, col=2)\n",
        "\n",
        "fig.update_xaxes(title_text='epochs')\n",
        "fig.update_yaxes(title_text='accuracy')\n",
        "fig.update_layout(width=1000, title='Accuracy and Loss')\n",
        "fig.show()"
      ],
      "metadata": {
        "id": "2XOExmC-wsQV",
        "colab": {
          "base_uri": "https://localhost:8080/",
          "height": 562
        },
        "outputId": "849693f4-92c1-426a-827d-375611aa2fbc"
      },
      "execution_count": 54,
      "outputs": [
        {
          "output_type": "display_data",
          "data": {
            "text/html": [
              "<html>\n",
              "<head><meta charset=\"utf-8\" /></head>\n",
              "<body>\n",
              "    <div>            <script src=\"https://cdnjs.cloudflare.com/ajax/libs/mathjax/2.7.5/MathJax.js?config=TeX-AMS-MML_SVG\"></script><script type=\"text/javascript\">if (window.MathJax && window.MathJax.Hub && window.MathJax.Hub.Config) {window.MathJax.Hub.Config({SVG: {font: \"STIX-Web\"}});}</script>                <script type=\"text/javascript\">window.PlotlyConfig = {MathJaxConfig: 'local'};</script>\n",
              "        <script charset=\"utf-8\" src=\"https://cdn.plot.ly/plotly-2.24.1.min.js\"></script>                <div id=\"3ec44c8a-1cd3-493d-8103-7e16c59657af\" class=\"plotly-graph-div\" style=\"height:525px; width:1000px;\"></div>            <script type=\"text/javascript\">                                    window.PLOTLYENV=window.PLOTLYENV || {};                                    if (document.getElementById(\"3ec44c8a-1cd3-493d-8103-7e16c59657af\")) {                    Plotly.newPlot(                        \"3ec44c8a-1cd3-493d-8103-7e16c59657af\",                        [{\"name\":\"accuracy\",\"x\":[0,1],\"y\":[0.6862038373947144,0.7119236588478088],\"type\":\"scatter\",\"xaxis\":\"x\",\"yaxis\":\"y\"},{\"name\":\"loss\",\"x\":[0,1],\"y\":[0.5949634313583374,0.5653322339057922],\"type\":\"scatter\",\"xaxis\":\"x2\",\"yaxis\":\"y2\"},{\"name\":\"val_accuracy\",\"x\":[0,1],\"y\":[0.6876876950263977,0.7003002762794495],\"type\":\"scatter\",\"xaxis\":\"x\",\"yaxis\":\"y\"},{\"name\":\"val_loss\",\"x\":[0,1],\"y\":[0.5894759893417358,0.5774118304252625],\"type\":\"scatter\",\"xaxis\":\"x2\",\"yaxis\":\"y2\"}],                        {\"template\":{\"data\":{\"histogram2dcontour\":[{\"type\":\"histogram2dcontour\",\"colorbar\":{\"outlinewidth\":0,\"ticks\":\"\"},\"colorscale\":[[0.0,\"#0d0887\"],[0.1111111111111111,\"#46039f\"],[0.2222222222222222,\"#7201a8\"],[0.3333333333333333,\"#9c179e\"],[0.4444444444444444,\"#bd3786\"],[0.5555555555555556,\"#d8576b\"],[0.6666666666666666,\"#ed7953\"],[0.7777777777777778,\"#fb9f3a\"],[0.8888888888888888,\"#fdca26\"],[1.0,\"#f0f921\"]]}],\"choropleth\":[{\"type\":\"choropleth\",\"colorbar\":{\"outlinewidth\":0,\"ticks\":\"\"}}],\"histogram2d\":[{\"type\":\"histogram2d\",\"colorbar\":{\"outlinewidth\":0,\"ticks\":\"\"},\"colorscale\":[[0.0,\"#0d0887\"],[0.1111111111111111,\"#46039f\"],[0.2222222222222222,\"#7201a8\"],[0.3333333333333333,\"#9c179e\"],[0.4444444444444444,\"#bd3786\"],[0.5555555555555556,\"#d8576b\"],[0.6666666666666666,\"#ed7953\"],[0.7777777777777778,\"#fb9f3a\"],[0.8888888888888888,\"#fdca26\"],[1.0,\"#f0f921\"]]}],\"heatmap\":[{\"type\":\"heatmap\",\"colorbar\":{\"outlinewidth\":0,\"ticks\":\"\"},\"colorscale\":[[0.0,\"#0d0887\"],[0.1111111111111111,\"#46039f\"],[0.2222222222222222,\"#7201a8\"],[0.3333333333333333,\"#9c179e\"],[0.4444444444444444,\"#bd3786\"],[0.5555555555555556,\"#d8576b\"],[0.6666666666666666,\"#ed7953\"],[0.7777777777777778,\"#fb9f3a\"],[0.8888888888888888,\"#fdca26\"],[1.0,\"#f0f921\"]]}],\"heatmapgl\":[{\"type\":\"heatmapgl\",\"colorbar\":{\"outlinewidth\":0,\"ticks\":\"\"},\"colorscale\":[[0.0,\"#0d0887\"],[0.1111111111111111,\"#46039f\"],[0.2222222222222222,\"#7201a8\"],[0.3333333333333333,\"#9c179e\"],[0.4444444444444444,\"#bd3786\"],[0.5555555555555556,\"#d8576b\"],[0.6666666666666666,\"#ed7953\"],[0.7777777777777778,\"#fb9f3a\"],[0.8888888888888888,\"#fdca26\"],[1.0,\"#f0f921\"]]}],\"contourcarpet\":[{\"type\":\"contourcarpet\",\"colorbar\":{\"outlinewidth\":0,\"ticks\":\"\"}}],\"contour\":[{\"type\":\"contour\",\"colorbar\":{\"outlinewidth\":0,\"ticks\":\"\"},\"colorscale\":[[0.0,\"#0d0887\"],[0.1111111111111111,\"#46039f\"],[0.2222222222222222,\"#7201a8\"],[0.3333333333333333,\"#9c179e\"],[0.4444444444444444,\"#bd3786\"],[0.5555555555555556,\"#d8576b\"],[0.6666666666666666,\"#ed7953\"],[0.7777777777777778,\"#fb9f3a\"],[0.8888888888888888,\"#fdca26\"],[1.0,\"#f0f921\"]]}],\"surface\":[{\"type\":\"surface\",\"colorbar\":{\"outlinewidth\":0,\"ticks\":\"\"},\"colorscale\":[[0.0,\"#0d0887\"],[0.1111111111111111,\"#46039f\"],[0.2222222222222222,\"#7201a8\"],[0.3333333333333333,\"#9c179e\"],[0.4444444444444444,\"#bd3786\"],[0.5555555555555556,\"#d8576b\"],[0.6666666666666666,\"#ed7953\"],[0.7777777777777778,\"#fb9f3a\"],[0.8888888888888888,\"#fdca26\"],[1.0,\"#f0f921\"]]}],\"mesh3d\":[{\"type\":\"mesh3d\",\"colorbar\":{\"outlinewidth\":0,\"ticks\":\"\"}}],\"scatter\":[{\"fillpattern\":{\"fillmode\":\"overlay\",\"size\":10,\"solidity\":0.2},\"type\":\"scatter\"}],\"parcoords\":[{\"type\":\"parcoords\",\"line\":{\"colorbar\":{\"outlinewidth\":0,\"ticks\":\"\"}}}],\"scatterpolargl\":[{\"type\":\"scatterpolargl\",\"marker\":{\"colorbar\":{\"outlinewidth\":0,\"ticks\":\"\"}}}],\"bar\":[{\"error_x\":{\"color\":\"#2a3f5f\"},\"error_y\":{\"color\":\"#2a3f5f\"},\"marker\":{\"line\":{\"color\":\"#E5ECF6\",\"width\":0.5},\"pattern\":{\"fillmode\":\"overlay\",\"size\":10,\"solidity\":0.2}},\"type\":\"bar\"}],\"scattergeo\":[{\"type\":\"scattergeo\",\"marker\":{\"colorbar\":{\"outlinewidth\":0,\"ticks\":\"\"}}}],\"scatterpolar\":[{\"type\":\"scatterpolar\",\"marker\":{\"colorbar\":{\"outlinewidth\":0,\"ticks\":\"\"}}}],\"histogram\":[{\"marker\":{\"pattern\":{\"fillmode\":\"overlay\",\"size\":10,\"solidity\":0.2}},\"type\":\"histogram\"}],\"scattergl\":[{\"type\":\"scattergl\",\"marker\":{\"colorbar\":{\"outlinewidth\":0,\"ticks\":\"\"}}}],\"scatter3d\":[{\"type\":\"scatter3d\",\"line\":{\"colorbar\":{\"outlinewidth\":0,\"ticks\":\"\"}},\"marker\":{\"colorbar\":{\"outlinewidth\":0,\"ticks\":\"\"}}}],\"scattermapbox\":[{\"type\":\"scattermapbox\",\"marker\":{\"colorbar\":{\"outlinewidth\":0,\"ticks\":\"\"}}}],\"scatterternary\":[{\"type\":\"scatterternary\",\"marker\":{\"colorbar\":{\"outlinewidth\":0,\"ticks\":\"\"}}}],\"scattercarpet\":[{\"type\":\"scattercarpet\",\"marker\":{\"colorbar\":{\"outlinewidth\":0,\"ticks\":\"\"}}}],\"carpet\":[{\"aaxis\":{\"endlinecolor\":\"#2a3f5f\",\"gridcolor\":\"white\",\"linecolor\":\"white\",\"minorgridcolor\":\"white\",\"startlinecolor\":\"#2a3f5f\"},\"baxis\":{\"endlinecolor\":\"#2a3f5f\",\"gridcolor\":\"white\",\"linecolor\":\"white\",\"minorgridcolor\":\"white\",\"startlinecolor\":\"#2a3f5f\"},\"type\":\"carpet\"}],\"table\":[{\"cells\":{\"fill\":{\"color\":\"#EBF0F8\"},\"line\":{\"color\":\"white\"}},\"header\":{\"fill\":{\"color\":\"#C8D4E3\"},\"line\":{\"color\":\"white\"}},\"type\":\"table\"}],\"barpolar\":[{\"marker\":{\"line\":{\"color\":\"#E5ECF6\",\"width\":0.5},\"pattern\":{\"fillmode\":\"overlay\",\"size\":10,\"solidity\":0.2}},\"type\":\"barpolar\"}],\"pie\":[{\"automargin\":true,\"type\":\"pie\"}]},\"layout\":{\"autotypenumbers\":\"strict\",\"colorway\":[\"#636efa\",\"#EF553B\",\"#00cc96\",\"#ab63fa\",\"#FFA15A\",\"#19d3f3\",\"#FF6692\",\"#B6E880\",\"#FF97FF\",\"#FECB52\"],\"font\":{\"color\":\"#2a3f5f\"},\"hovermode\":\"closest\",\"hoverlabel\":{\"align\":\"left\"},\"paper_bgcolor\":\"white\",\"plot_bgcolor\":\"#E5ECF6\",\"polar\":{\"bgcolor\":\"#E5ECF6\",\"angularaxis\":{\"gridcolor\":\"white\",\"linecolor\":\"white\",\"ticks\":\"\"},\"radialaxis\":{\"gridcolor\":\"white\",\"linecolor\":\"white\",\"ticks\":\"\"}},\"ternary\":{\"bgcolor\":\"#E5ECF6\",\"aaxis\":{\"gridcolor\":\"white\",\"linecolor\":\"white\",\"ticks\":\"\"},\"baxis\":{\"gridcolor\":\"white\",\"linecolor\":\"white\",\"ticks\":\"\"},\"caxis\":{\"gridcolor\":\"white\",\"linecolor\":\"white\",\"ticks\":\"\"}},\"coloraxis\":{\"colorbar\":{\"outlinewidth\":0,\"ticks\":\"\"}},\"colorscale\":{\"sequential\":[[0.0,\"#0d0887\"],[0.1111111111111111,\"#46039f\"],[0.2222222222222222,\"#7201a8\"],[0.3333333333333333,\"#9c179e\"],[0.4444444444444444,\"#bd3786\"],[0.5555555555555556,\"#d8576b\"],[0.6666666666666666,\"#ed7953\"],[0.7777777777777778,\"#fb9f3a\"],[0.8888888888888888,\"#fdca26\"],[1.0,\"#f0f921\"]],\"sequentialminus\":[[0.0,\"#0d0887\"],[0.1111111111111111,\"#46039f\"],[0.2222222222222222,\"#7201a8\"],[0.3333333333333333,\"#9c179e\"],[0.4444444444444444,\"#bd3786\"],[0.5555555555555556,\"#d8576b\"],[0.6666666666666666,\"#ed7953\"],[0.7777777777777778,\"#fb9f3a\"],[0.8888888888888888,\"#fdca26\"],[1.0,\"#f0f921\"]],\"diverging\":[[0,\"#8e0152\"],[0.1,\"#c51b7d\"],[0.2,\"#de77ae\"],[0.3,\"#f1b6da\"],[0.4,\"#fde0ef\"],[0.5,\"#f7f7f7\"],[0.6,\"#e6f5d0\"],[0.7,\"#b8e186\"],[0.8,\"#7fbc41\"],[0.9,\"#4d9221\"],[1,\"#276419\"]]},\"xaxis\":{\"gridcolor\":\"white\",\"linecolor\":\"white\",\"ticks\":\"\",\"title\":{\"standoff\":15},\"zerolinecolor\":\"white\",\"automargin\":true,\"zerolinewidth\":2},\"yaxis\":{\"gridcolor\":\"white\",\"linecolor\":\"white\",\"ticks\":\"\",\"title\":{\"standoff\":15},\"zerolinecolor\":\"white\",\"automargin\":true,\"zerolinewidth\":2},\"scene\":{\"xaxis\":{\"backgroundcolor\":\"#E5ECF6\",\"gridcolor\":\"white\",\"linecolor\":\"white\",\"showbackground\":true,\"ticks\":\"\",\"zerolinecolor\":\"white\",\"gridwidth\":2},\"yaxis\":{\"backgroundcolor\":\"#E5ECF6\",\"gridcolor\":\"white\",\"linecolor\":\"white\",\"showbackground\":true,\"ticks\":\"\",\"zerolinecolor\":\"white\",\"gridwidth\":2},\"zaxis\":{\"backgroundcolor\":\"#E5ECF6\",\"gridcolor\":\"white\",\"linecolor\":\"white\",\"showbackground\":true,\"ticks\":\"\",\"zerolinecolor\":\"white\",\"gridwidth\":2}},\"shapedefaults\":{\"line\":{\"color\":\"#2a3f5f\"}},\"annotationdefaults\":{\"arrowcolor\":\"#2a3f5f\",\"arrowhead\":0,\"arrowwidth\":1},\"geo\":{\"bgcolor\":\"white\",\"landcolor\":\"#E5ECF6\",\"subunitcolor\":\"white\",\"showland\":true,\"showlakes\":true,\"lakecolor\":\"white\"},\"title\":{\"x\":0.05},\"mapbox\":{\"style\":\"light\"}}},\"xaxis\":{\"anchor\":\"y\",\"domain\":[0.0,0.45],\"title\":{\"text\":\"epochs\"}},\"yaxis\":{\"anchor\":\"x\",\"domain\":[0.0,1.0],\"title\":{\"text\":\"accuracy\"}},\"xaxis2\":{\"anchor\":\"y2\",\"domain\":[0.55,1.0],\"title\":{\"text\":\"epochs\"}},\"yaxis2\":{\"anchor\":\"x2\",\"domain\":[0.0,1.0],\"title\":{\"text\":\"accuracy\"}},\"width\":1000,\"title\":{\"text\":\"Accuracy and Loss\"}},                        {\"responsive\": true}                    ).then(function(){\n",
              "                            \n",
              "var gd = document.getElementById('3ec44c8a-1cd3-493d-8103-7e16c59657af');\n",
              "var x = new MutationObserver(function (mutations, observer) {{\n",
              "        var display = window.getComputedStyle(gd).display;\n",
              "        if (!display || display === 'none') {{\n",
              "            console.log([gd, 'removed!']);\n",
              "            Plotly.purge(gd);\n",
              "            observer.disconnect();\n",
              "        }}\n",
              "}});\n",
              "\n",
              "// Listen for the removal of the full notebook cells\n",
              "var notebookContainer = gd.closest('#notebook-container');\n",
              "if (notebookContainer) {{\n",
              "    x.observe(notebookContainer, {childList: true});\n",
              "}}\n",
              "\n",
              "// Listen for the clearing of the current output cell\n",
              "var outputEl = gd.closest('.output');\n",
              "if (outputEl) {{\n",
              "    x.observe(outputEl, {childList: true});\n",
              "}}\n",
              "\n",
              "                        })                };                            </script>        </div>\n",
              "</body>\n",
              "</html>"
            ]
          },
          "metadata": {}
        }
      ]
    },
    {
      "cell_type": "code",
      "source": [
        "# nie wiem co to za blok\n",
        "from keras.utils import to_categorical\n",
        "\n",
        "y_train = to_categorical(y_train, num_classes=10)\n",
        "y_test_cat = to_categorical(y_test, num_classes=10)"
      ],
      "metadata": {
        "id": "msrI6vC5xw3H"
      },
      "execution_count": 55,
      "outputs": []
    },
    {
      "cell_type": "code",
      "source": [
        "test_loss, test_acc = model.evaluate(x_test, y_test, verbose=0)\n",
        "print(test_acc)"
      ],
      "metadata": {
        "id": "DEKIy3Pdwuqs",
        "colab": {
          "base_uri": "https://localhost:8080/"
        },
        "outputId": "c123f98c-0e3c-4e9a-b19b-0bb14e0516c8"
      },
      "execution_count": 56,
      "outputs": [
        {
          "output_type": "stream",
          "name": "stdout",
          "text": [
            "0.7003002762794495\n"
          ]
        }
      ]
    },
    {
      "cell_type": "markdown",
      "source": [
        "### <a name='a7'></a> Graf zielono czerwony"
      ],
      "metadata": {
        "id": "EXfoIx7zUJLQ"
      }
    },
    {
      "cell_type": "code",
      "source": [
        "# Połączenie dwóch tablic\n",
        "concat = np.hstack((predict_classes, Y_test[:,2:]))\n",
        "print(concat.shape)\n",
        "print(concat[:3])"
      ],
      "metadata": {
        "id": "ZEJOPSNBVDC6",
        "colab": {
          "base_uri": "https://localhost:8080/"
        },
        "outputId": "23103f60-f08c-4c73-88e1-8e8831599207"
      },
      "execution_count": 57,
      "outputs": [
        {
          "output_type": "stream",
          "name": "stdout",
          "text": [
            "(4995, 3)\n",
            "[[ 1.    0.   79.8 ]\n",
            " [ 1.    0.   80.04]\n",
            " [ 0.    1.   80.  ]]\n"
          ]
        }
      ]
    },
    {
      "cell_type": "code",
      "source": [
        "import plotly.express as px\n",
        "import pandas as pd\n",
        "\n",
        "# Tworzenie Date Frame\n",
        "df = pd.DataFrame(concat, columns=['Sell', 'Buy', 'Price'])\n",
        "df.head(5)"
      ],
      "metadata": {
        "id": "FdY1159qUqXN",
        "colab": {
          "base_uri": "https://localhost:8080/",
          "height": 206
        },
        "outputId": "9b98f0ad-f9f8-4f46-de9b-bd9eeb664e03"
      },
      "execution_count": 58,
      "outputs": [
        {
          "output_type": "execute_result",
          "data": {
            "text/plain": [
              "      Sell      Buy     Price\n",
              "0 1.000000 0.000000 79.800000\n",
              "1 1.000000 0.000000 80.040000\n",
              "2 0.000000 1.000000 80.000000\n",
              "3 0.000000 1.000000 80.140000\n",
              "4 0.000000 1.000000 80.310000"
            ],
            "text/html": [
              "\n",
              "  <div id=\"df-57d62f21-5e05-4756-b4f5-c03986c3fd4d\" class=\"colab-df-container\">\n",
              "    <div>\n",
              "<style scoped>\n",
              "    .dataframe tbody tr th:only-of-type {\n",
              "        vertical-align: middle;\n",
              "    }\n",
              "\n",
              "    .dataframe tbody tr th {\n",
              "        vertical-align: top;\n",
              "    }\n",
              "\n",
              "    .dataframe thead th {\n",
              "        text-align: right;\n",
              "    }\n",
              "</style>\n",
              "<table border=\"1\" class=\"dataframe\">\n",
              "  <thead>\n",
              "    <tr style=\"text-align: right;\">\n",
              "      <th></th>\n",
              "      <th>Sell</th>\n",
              "      <th>Buy</th>\n",
              "      <th>Price</th>\n",
              "    </tr>\n",
              "  </thead>\n",
              "  <tbody>\n",
              "    <tr>\n",
              "      <th>0</th>\n",
              "      <td>1.000000</td>\n",
              "      <td>0.000000</td>\n",
              "      <td>79.800000</td>\n",
              "    </tr>\n",
              "    <tr>\n",
              "      <th>1</th>\n",
              "      <td>1.000000</td>\n",
              "      <td>0.000000</td>\n",
              "      <td>80.040000</td>\n",
              "    </tr>\n",
              "    <tr>\n",
              "      <th>2</th>\n",
              "      <td>0.000000</td>\n",
              "      <td>1.000000</td>\n",
              "      <td>80.000000</td>\n",
              "    </tr>\n",
              "    <tr>\n",
              "      <th>3</th>\n",
              "      <td>0.000000</td>\n",
              "      <td>1.000000</td>\n",
              "      <td>80.140000</td>\n",
              "    </tr>\n",
              "    <tr>\n",
              "      <th>4</th>\n",
              "      <td>0.000000</td>\n",
              "      <td>1.000000</td>\n",
              "      <td>80.310000</td>\n",
              "    </tr>\n",
              "  </tbody>\n",
              "</table>\n",
              "</div>\n",
              "    <div class=\"colab-df-buttons\">\n",
              "\n",
              "  <div class=\"colab-df-container\">\n",
              "    <button class=\"colab-df-convert\" onclick=\"convertToInteractive('df-57d62f21-5e05-4756-b4f5-c03986c3fd4d')\"\n",
              "            title=\"Convert this dataframe to an interactive table.\"\n",
              "            style=\"display:none;\">\n",
              "\n",
              "  <svg xmlns=\"http://www.w3.org/2000/svg\" height=\"24px\" viewBox=\"0 -960 960 960\">\n",
              "    <path d=\"M120-120v-720h720v720H120Zm60-500h600v-160H180v160Zm220 220h160v-160H400v160Zm0 220h160v-160H400v160ZM180-400h160v-160H180v160Zm440 0h160v-160H620v160ZM180-180h160v-160H180v160Zm440 0h160v-160H620v160Z\"/>\n",
              "  </svg>\n",
              "    </button>\n",
              "\n",
              "  <style>\n",
              "    .colab-df-container {\n",
              "      display:flex;\n",
              "      gap: 12px;\n",
              "    }\n",
              "\n",
              "    .colab-df-convert {\n",
              "      background-color: #E8F0FE;\n",
              "      border: none;\n",
              "      border-radius: 50%;\n",
              "      cursor: pointer;\n",
              "      display: none;\n",
              "      fill: #1967D2;\n",
              "      height: 32px;\n",
              "      padding: 0 0 0 0;\n",
              "      width: 32px;\n",
              "    }\n",
              "\n",
              "    .colab-df-convert:hover {\n",
              "      background-color: #E2EBFA;\n",
              "      box-shadow: 0px 1px 2px rgba(60, 64, 67, 0.3), 0px 1px 3px 1px rgba(60, 64, 67, 0.15);\n",
              "      fill: #174EA6;\n",
              "    }\n",
              "\n",
              "    .colab-df-buttons div {\n",
              "      margin-bottom: 4px;\n",
              "    }\n",
              "\n",
              "    [theme=dark] .colab-df-convert {\n",
              "      background-color: #3B4455;\n",
              "      fill: #D2E3FC;\n",
              "    }\n",
              "\n",
              "    [theme=dark] .colab-df-convert:hover {\n",
              "      background-color: #434B5C;\n",
              "      box-shadow: 0px 1px 3px 1px rgba(0, 0, 0, 0.15);\n",
              "      filter: drop-shadow(0px 1px 2px rgba(0, 0, 0, 0.3));\n",
              "      fill: #FFFFFF;\n",
              "    }\n",
              "  </style>\n",
              "\n",
              "    <script>\n",
              "      const buttonEl =\n",
              "        document.querySelector('#df-57d62f21-5e05-4756-b4f5-c03986c3fd4d button.colab-df-convert');\n",
              "      buttonEl.style.display =\n",
              "        google.colab.kernel.accessAllowed ? 'block' : 'none';\n",
              "\n",
              "      async function convertToInteractive(key) {\n",
              "        const element = document.querySelector('#df-57d62f21-5e05-4756-b4f5-c03986c3fd4d');\n",
              "        const dataTable =\n",
              "          await google.colab.kernel.invokeFunction('convertToInteractive',\n",
              "                                                    [key], {});\n",
              "        if (!dataTable) return;\n",
              "\n",
              "        const docLinkHtml = 'Like what you see? Visit the ' +\n",
              "          '<a target=\"_blank\" href=https://colab.research.google.com/notebooks/data_table.ipynb>data table notebook</a>'\n",
              "          + ' to learn more about interactive tables.';\n",
              "        element.innerHTML = '';\n",
              "        dataTable['output_type'] = 'display_data';\n",
              "        await google.colab.output.renderOutput(dataTable, element);\n",
              "        const docLink = document.createElement('div');\n",
              "        docLink.innerHTML = docLinkHtml;\n",
              "        element.appendChild(docLink);\n",
              "      }\n",
              "    </script>\n",
              "  </div>\n",
              "\n",
              "\n",
              "<div id=\"df-ea3ab419-ad91-4e84-9f2a-6a78c898ac3a\">\n",
              "  <button class=\"colab-df-quickchart\" onclick=\"quickchart('df-ea3ab419-ad91-4e84-9f2a-6a78c898ac3a')\"\n",
              "            title=\"Suggest charts\"\n",
              "            style=\"display:none;\">\n",
              "\n",
              "<svg xmlns=\"http://www.w3.org/2000/svg\" height=\"24px\"viewBox=\"0 0 24 24\"\n",
              "     width=\"24px\">\n",
              "    <g>\n",
              "        <path d=\"M19 3H5c-1.1 0-2 .9-2 2v14c0 1.1.9 2 2 2h14c1.1 0 2-.9 2-2V5c0-1.1-.9-2-2-2zM9 17H7v-7h2v7zm4 0h-2V7h2v10zm4 0h-2v-4h2v4z\"/>\n",
              "    </g>\n",
              "</svg>\n",
              "  </button>\n",
              "\n",
              "<style>\n",
              "  .colab-df-quickchart {\n",
              "      --bg-color: #E8F0FE;\n",
              "      --fill-color: #1967D2;\n",
              "      --hover-bg-color: #E2EBFA;\n",
              "      --hover-fill-color: #174EA6;\n",
              "      --disabled-fill-color: #AAA;\n",
              "      --disabled-bg-color: #DDD;\n",
              "  }\n",
              "\n",
              "  [theme=dark] .colab-df-quickchart {\n",
              "      --bg-color: #3B4455;\n",
              "      --fill-color: #D2E3FC;\n",
              "      --hover-bg-color: #434B5C;\n",
              "      --hover-fill-color: #FFFFFF;\n",
              "      --disabled-bg-color: #3B4455;\n",
              "      --disabled-fill-color: #666;\n",
              "  }\n",
              "\n",
              "  .colab-df-quickchart {\n",
              "    background-color: var(--bg-color);\n",
              "    border: none;\n",
              "    border-radius: 50%;\n",
              "    cursor: pointer;\n",
              "    display: none;\n",
              "    fill: var(--fill-color);\n",
              "    height: 32px;\n",
              "    padding: 0;\n",
              "    width: 32px;\n",
              "  }\n",
              "\n",
              "  .colab-df-quickchart:hover {\n",
              "    background-color: var(--hover-bg-color);\n",
              "    box-shadow: 0 1px 2px rgba(60, 64, 67, 0.3), 0 1px 3px 1px rgba(60, 64, 67, 0.15);\n",
              "    fill: var(--button-hover-fill-color);\n",
              "  }\n",
              "\n",
              "  .colab-df-quickchart-complete:disabled,\n",
              "  .colab-df-quickchart-complete:disabled:hover {\n",
              "    background-color: var(--disabled-bg-color);\n",
              "    fill: var(--disabled-fill-color);\n",
              "    box-shadow: none;\n",
              "  }\n",
              "\n",
              "  .colab-df-spinner {\n",
              "    border: 2px solid var(--fill-color);\n",
              "    border-color: transparent;\n",
              "    border-bottom-color: var(--fill-color);\n",
              "    animation:\n",
              "      spin 1s steps(1) infinite;\n",
              "  }\n",
              "\n",
              "  @keyframes spin {\n",
              "    0% {\n",
              "      border-color: transparent;\n",
              "      border-bottom-color: var(--fill-color);\n",
              "      border-left-color: var(--fill-color);\n",
              "    }\n",
              "    20% {\n",
              "      border-color: transparent;\n",
              "      border-left-color: var(--fill-color);\n",
              "      border-top-color: var(--fill-color);\n",
              "    }\n",
              "    30% {\n",
              "      border-color: transparent;\n",
              "      border-left-color: var(--fill-color);\n",
              "      border-top-color: var(--fill-color);\n",
              "      border-right-color: var(--fill-color);\n",
              "    }\n",
              "    40% {\n",
              "      border-color: transparent;\n",
              "      border-right-color: var(--fill-color);\n",
              "      border-top-color: var(--fill-color);\n",
              "    }\n",
              "    60% {\n",
              "      border-color: transparent;\n",
              "      border-right-color: var(--fill-color);\n",
              "    }\n",
              "    80% {\n",
              "      border-color: transparent;\n",
              "      border-right-color: var(--fill-color);\n",
              "      border-bottom-color: var(--fill-color);\n",
              "    }\n",
              "    90% {\n",
              "      border-color: transparent;\n",
              "      border-bottom-color: var(--fill-color);\n",
              "    }\n",
              "  }\n",
              "</style>\n",
              "\n",
              "  <script>\n",
              "    async function quickchart(key) {\n",
              "      const quickchartButtonEl =\n",
              "        document.querySelector('#' + key + ' button');\n",
              "      quickchartButtonEl.disabled = true;  // To prevent multiple clicks.\n",
              "      quickchartButtonEl.classList.add('colab-df-spinner');\n",
              "      try {\n",
              "        const charts = await google.colab.kernel.invokeFunction(\n",
              "            'suggestCharts', [key], {});\n",
              "      } catch (error) {\n",
              "        console.error('Error during call to suggestCharts:', error);\n",
              "      }\n",
              "      quickchartButtonEl.classList.remove('colab-df-spinner');\n",
              "      quickchartButtonEl.classList.add('colab-df-quickchart-complete');\n",
              "    }\n",
              "    (() => {\n",
              "      let quickchartButtonEl =\n",
              "        document.querySelector('#df-ea3ab419-ad91-4e84-9f2a-6a78c898ac3a button');\n",
              "      quickchartButtonEl.style.display =\n",
              "        google.colab.kernel.accessAllowed ? 'block' : 'none';\n",
              "    })();\n",
              "  </script>\n",
              "</div>\n",
              "    </div>\n",
              "  </div>\n"
            ],
            "application/vnd.google.colaboratory.intrinsic+json": {
              "type": "dataframe",
              "variable_name": "df",
              "summary": "{\n  \"name\": \"df\",\n  \"rows\": 4995,\n  \"fields\": [\n    {\n      \"column\": \"Sell\",\n      \"properties\": {\n        \"dtype\": \"number\",\n        \"std\": 0.4995952064423919,\n        \"min\": 0.0,\n        \"max\": 1.0,\n        \"num_unique_values\": 2,\n        \"samples\": [\n          0.0,\n          1.0\n        ],\n        \"semantic_type\": \"\",\n        \"description\": \"\"\n      }\n    },\n    {\n      \"column\": \"Buy\",\n      \"properties\": {\n        \"dtype\": \"number\",\n        \"std\": 0.49966099993831087,\n        \"min\": 0.0,\n        \"max\": 1.0,\n        \"num_unique_values\": 2,\n        \"samples\": [\n          1.0,\n          0.0\n        ],\n        \"semantic_type\": \"\",\n        \"description\": \"\"\n      }\n    },\n    {\n      \"column\": \"Price\",\n      \"properties\": {\n        \"dtype\": \"number\",\n        \"std\": 1.7302645188980268,\n        \"min\": 76.72,\n        \"max\": 83.75,\n        \"num_unique_values\": 673,\n        \"samples\": [\n          82.26,\n          83.54\n        ],\n        \"semantic_type\": \"\",\n        \"description\": \"\"\n      }\n    }\n  ]\n}"
            }
          },
          "metadata": {},
          "execution_count": 58
        }
      ]
    },
    {
      "cell_type": "code",
      "source": [
        "import plotly.graph_objects as go\n",
        "import pandas as pd\n",
        "\n",
        "# Tworzenie wykresu liniowego\n",
        "fig = go.Figure()\n",
        "\n",
        "start = 4500\n",
        "end = start + 500\n",
        "\n",
        "# Dodawanie linii do wykresu\n",
        "for i in range(start, len(df[:end])):\n",
        "    color = 'green' if df.at[i, 'Buy'] == 1 else 'red'\n",
        "    fig.add_trace(go.Scatter(x=[i-1, i], y=[df.at[i-1, 'Price'], df.at[i, 'Price']], line=dict(color=color), showlegend=False))\n",
        "\n",
        "# Ustawienia osi i tytuł\n",
        "fig.update_layout(\n",
        "    xaxis_title='Indeks',\n",
        "    yaxis_title='Close',\n",
        "    title='Wykres liniowy z kolorami'\n",
        ")\n",
        "\n",
        "# Wyświetlanie wykresu\n",
        "fig.show()"
      ],
      "metadata": {
        "id": "SahOH5S5UFs4",
        "colab": {
          "base_uri": "https://localhost:8080/",
          "height": 542
        },
        "outputId": "e3cd8cb8-8010-41d7-8be7-800e6e0eca17"
      },
      "execution_count": 59,
      "outputs": [
        {
          "output_type": "display_data",
          "data": {
            "text/html": [
              "<html>\n",
              "<head><meta charset=\"utf-8\" /></head>\n",
              "<body>\n",
              "    <div>            <script src=\"https://cdnjs.cloudflare.com/ajax/libs/mathjax/2.7.5/MathJax.js?config=TeX-AMS-MML_SVG\"></script><script type=\"text/javascript\">if (window.MathJax && window.MathJax.Hub && window.MathJax.Hub.Config) {window.MathJax.Hub.Config({SVG: {font: \"STIX-Web\"}});}</script>                <script type=\"text/javascript\">window.PlotlyConfig = {MathJaxConfig: 'local'};</script>\n",
              "        <script charset=\"utf-8\" src=\"https://cdn.plot.ly/plotly-2.24.1.min.js\"></script>                <div id=\"ddc85497-79fe-44c4-bfcf-dee2f213f1ae\" class=\"plotly-graph-div\" style=\"height:525px; width:100%;\"></div>            <script type=\"text/javascript\">                                    window.PLOTLYENV=window.PLOTLYENV || {};                                    if (document.getElementById(\"ddc85497-79fe-44c4-bfcf-dee2f213f1ae\")) {                    Plotly.newPlot(                        \"ddc85497-79fe-44c4-bfcf-dee2f213f1ae\",                        [{\"line\":{\"color\":\"red\"},\"showlegend\":false,\"x\":[4499,4500],\"y\":[82.73,82.73],\"type\":\"scatter\"},{\"line\":{\"color\":\"red\"},\"showlegend\":false,\"x\":[4500,4501],\"y\":[82.73,82.77],\"type\":\"scatter\"},{\"line\":{\"color\":\"red\"},\"showlegend\":false,\"x\":[4501,4502],\"y\":[82.77,82.77],\"type\":\"scatter\"},{\"line\":{\"color\":\"red\"},\"showlegend\":false,\"x\":[4502,4503],\"y\":[82.77,82.76],\"type\":\"scatter\"},{\"line\":{\"color\":\"red\"},\"showlegend\":false,\"x\":[4503,4504],\"y\":[82.76,82.76],\"type\":\"scatter\"},{\"line\":{\"color\":\"red\"},\"showlegend\":false,\"x\":[4504,4505],\"y\":[82.76,82.8],\"type\":\"scatter\"},{\"line\":{\"color\":\"green\"},\"showlegend\":false,\"x\":[4505,4506],\"y\":[82.8,82.8],\"type\":\"scatter\"},{\"line\":{\"color\":\"green\"},\"showlegend\":false,\"x\":[4506,4507],\"y\":[82.8,82.82],\"type\":\"scatter\"},{\"line\":{\"color\":\"green\"},\"showlegend\":false,\"x\":[4507,4508],\"y\":[82.82,82.8],\"type\":\"scatter\"},{\"line\":{\"color\":\"green\"},\"showlegend\":false,\"x\":[4508,4509],\"y\":[82.8,82.84],\"type\":\"scatter\"},{\"line\":{\"color\":\"green\"},\"showlegend\":false,\"x\":[4509,4510],\"y\":[82.84,82.68],\"type\":\"scatter\"},{\"line\":{\"color\":\"red\"},\"showlegend\":false,\"x\":[4510,4511],\"y\":[82.68,82.7],\"type\":\"scatter\"},{\"line\":{\"color\":\"red\"},\"showlegend\":false,\"x\":[4511,4512],\"y\":[82.7,82.69],\"type\":\"scatter\"},{\"line\":{\"color\":\"red\"},\"showlegend\":false,\"x\":[4512,4513],\"y\":[82.69,82.73],\"type\":\"scatter\"},{\"line\":{\"color\":\"green\"},\"showlegend\":false,\"x\":[4513,4514],\"y\":[82.73,82.73],\"type\":\"scatter\"},{\"line\":{\"color\":\"red\"},\"showlegend\":false,\"x\":[4514,4515],\"y\":[82.73,82.72],\"type\":\"scatter\"},{\"line\":{\"color\":\"red\"},\"showlegend\":false,\"x\":[4515,4516],\"y\":[82.72,82.71],\"type\":\"scatter\"},{\"line\":{\"color\":\"red\"},\"showlegend\":false,\"x\":[4516,4517],\"y\":[82.71,82.7],\"type\":\"scatter\"},{\"line\":{\"color\":\"red\"},\"showlegend\":false,\"x\":[4517,4518],\"y\":[82.7,82.71],\"type\":\"scatter\"},{\"line\":{\"color\":\"red\"},\"showlegend\":false,\"x\":[4518,4519],\"y\":[82.71,82.72],\"type\":\"scatter\"},{\"line\":{\"color\":\"red\"},\"showlegend\":false,\"x\":[4519,4520],\"y\":[82.72,82.74],\"type\":\"scatter\"},{\"line\":{\"color\":\"green\"},\"showlegend\":false,\"x\":[4520,4521],\"y\":[82.74,82.74],\"type\":\"scatter\"},{\"line\":{\"color\":\"green\"},\"showlegend\":false,\"x\":[4521,4522],\"y\":[82.74,82.73],\"type\":\"scatter\"},{\"line\":{\"color\":\"red\"},\"showlegend\":false,\"x\":[4522,4523],\"y\":[82.73,82.74],\"type\":\"scatter\"},{\"line\":{\"color\":\"red\"},\"showlegend\":false,\"x\":[4523,4524],\"y\":[82.74,82.72],\"type\":\"scatter\"},{\"line\":{\"color\":\"red\"},\"showlegend\":false,\"x\":[4524,4525],\"y\":[82.72,82.75],\"type\":\"scatter\"},{\"line\":{\"color\":\"green\"},\"showlegend\":false,\"x\":[4525,4526],\"y\":[82.75,82.74],\"type\":\"scatter\"},{\"line\":{\"color\":\"green\"},\"showlegend\":false,\"x\":[4526,4527],\"y\":[82.74,82.77],\"type\":\"scatter\"},{\"line\":{\"color\":\"green\"},\"showlegend\":false,\"x\":[4527,4528],\"y\":[82.77,82.79],\"type\":\"scatter\"},{\"line\":{\"color\":\"green\"},\"showlegend\":false,\"x\":[4528,4529],\"y\":[82.79,82.81],\"type\":\"scatter\"},{\"line\":{\"color\":\"green\"},\"showlegend\":false,\"x\":[4529,4530],\"y\":[82.81,82.85],\"type\":\"scatter\"},{\"line\":{\"color\":\"green\"},\"showlegend\":false,\"x\":[4530,4531],\"y\":[82.85,82.85],\"type\":\"scatter\"},{\"line\":{\"color\":\"green\"},\"showlegend\":false,\"x\":[4531,4532],\"y\":[82.85,82.84],\"type\":\"scatter\"},{\"line\":{\"color\":\"green\"},\"showlegend\":false,\"x\":[4532,4533],\"y\":[82.84,82.84],\"type\":\"scatter\"},{\"line\":{\"color\":\"green\"},\"showlegend\":false,\"x\":[4533,4534],\"y\":[82.84,82.83],\"type\":\"scatter\"},{\"line\":{\"color\":\"green\"},\"showlegend\":false,\"x\":[4534,4535],\"y\":[82.83,82.82],\"type\":\"scatter\"},{\"line\":{\"color\":\"green\"},\"showlegend\":false,\"x\":[4535,4536],\"y\":[82.82,82.84],\"type\":\"scatter\"},{\"line\":{\"color\":\"green\"},\"showlegend\":false,\"x\":[4536,4537],\"y\":[82.84,82.82],\"type\":\"scatter\"},{\"line\":{\"color\":\"green\"},\"showlegend\":false,\"x\":[4537,4538],\"y\":[82.82,82.82],\"type\":\"scatter\"},{\"line\":{\"color\":\"green\"},\"showlegend\":false,\"x\":[4538,4539],\"y\":[82.82,82.78],\"type\":\"scatter\"},{\"line\":{\"color\":\"red\"},\"showlegend\":false,\"x\":[4539,4540],\"y\":[82.78,82.78],\"type\":\"scatter\"},{\"line\":{\"color\":\"red\"},\"showlegend\":false,\"x\":[4540,4541],\"y\":[82.78,82.77],\"type\":\"scatter\"},{\"line\":{\"color\":\"red\"},\"showlegend\":false,\"x\":[4541,4542],\"y\":[82.77,82.75],\"type\":\"scatter\"},{\"line\":{\"color\":\"red\"},\"showlegend\":false,\"x\":[4542,4543],\"y\":[82.75,82.71],\"type\":\"scatter\"},{\"line\":{\"color\":\"red\"},\"showlegend\":false,\"x\":[4543,4544],\"y\":[82.71,82.71],\"type\":\"scatter\"},{\"line\":{\"color\":\"red\"},\"showlegend\":false,\"x\":[4544,4545],\"y\":[82.71,82.7],\"type\":\"scatter\"},{\"line\":{\"color\":\"red\"},\"showlegend\":false,\"x\":[4545,4546],\"y\":[82.7,82.74],\"type\":\"scatter\"},{\"line\":{\"color\":\"red\"},\"showlegend\":false,\"x\":[4546,4547],\"y\":[82.74,82.76],\"type\":\"scatter\"},{\"line\":{\"color\":\"red\"},\"showlegend\":false,\"x\":[4547,4548],\"y\":[82.76,82.73],\"type\":\"scatter\"},{\"line\":{\"color\":\"red\"},\"showlegend\":false,\"x\":[4548,4549],\"y\":[82.73,82.75],\"type\":\"scatter\"},{\"line\":{\"color\":\"red\"},\"showlegend\":false,\"x\":[4549,4550],\"y\":[82.75,82.73],\"type\":\"scatter\"},{\"line\":{\"color\":\"red\"},\"showlegend\":false,\"x\":[4550,4551],\"y\":[82.73,82.74],\"type\":\"scatter\"},{\"line\":{\"color\":\"red\"},\"showlegend\":false,\"x\":[4551,4552],\"y\":[82.74,82.72],\"type\":\"scatter\"},{\"line\":{\"color\":\"red\"},\"showlegend\":false,\"x\":[4552,4553],\"y\":[82.72,82.74],\"type\":\"scatter\"},{\"line\":{\"color\":\"red\"},\"showlegend\":false,\"x\":[4553,4554],\"y\":[82.74,82.75],\"type\":\"scatter\"},{\"line\":{\"color\":\"green\"},\"showlegend\":false,\"x\":[4554,4555],\"y\":[82.75,82.76],\"type\":\"scatter\"},{\"line\":{\"color\":\"green\"},\"showlegend\":false,\"x\":[4555,4556],\"y\":[82.76,82.76],\"type\":\"scatter\"},{\"line\":{\"color\":\"green\"},\"showlegend\":false,\"x\":[4556,4557],\"y\":[82.76,82.76],\"type\":\"scatter\"},{\"line\":{\"color\":\"green\"},\"showlegend\":false,\"x\":[4557,4558],\"y\":[82.76,82.77],\"type\":\"scatter\"},{\"line\":{\"color\":\"green\"},\"showlegend\":false,\"x\":[4558,4559],\"y\":[82.77,82.8],\"type\":\"scatter\"},{\"line\":{\"color\":\"green\"},\"showlegend\":false,\"x\":[4559,4560],\"y\":[82.8,82.79],\"type\":\"scatter\"},{\"line\":{\"color\":\"green\"},\"showlegend\":false,\"x\":[4560,4561],\"y\":[82.79,82.76],\"type\":\"scatter\"},{\"line\":{\"color\":\"red\"},\"showlegend\":false,\"x\":[4561,4562],\"y\":[82.76,82.74],\"type\":\"scatter\"},{\"line\":{\"color\":\"red\"},\"showlegend\":false,\"x\":[4562,4563],\"y\":[82.74,82.77],\"type\":\"scatter\"},{\"line\":{\"color\":\"green\"},\"showlegend\":false,\"x\":[4563,4564],\"y\":[82.77,82.75],\"type\":\"scatter\"},{\"line\":{\"color\":\"red\"},\"showlegend\":false,\"x\":[4564,4565],\"y\":[82.75,82.77],\"type\":\"scatter\"},{\"line\":{\"color\":\"green\"},\"showlegend\":false,\"x\":[4565,4566],\"y\":[82.77,82.77],\"type\":\"scatter\"},{\"line\":{\"color\":\"green\"},\"showlegend\":false,\"x\":[4566,4567],\"y\":[82.77,82.79],\"type\":\"scatter\"},{\"line\":{\"color\":\"green\"},\"showlegend\":false,\"x\":[4567,4568],\"y\":[82.79,82.77],\"type\":\"scatter\"},{\"line\":{\"color\":\"green\"},\"showlegend\":false,\"x\":[4568,4569],\"y\":[82.77,82.8],\"type\":\"scatter\"},{\"line\":{\"color\":\"green\"},\"showlegend\":false,\"x\":[4569,4570],\"y\":[82.8,82.8],\"type\":\"scatter\"},{\"line\":{\"color\":\"green\"},\"showlegend\":false,\"x\":[4570,4571],\"y\":[82.8,82.8],\"type\":\"scatter\"},{\"line\":{\"color\":\"green\"},\"showlegend\":false,\"x\":[4571,4572],\"y\":[82.8,82.78],\"type\":\"scatter\"},{\"line\":{\"color\":\"red\"},\"showlegend\":false,\"x\":[4572,4573],\"y\":[82.78,82.77],\"type\":\"scatter\"},{\"line\":{\"color\":\"red\"},\"showlegend\":false,\"x\":[4573,4574],\"y\":[82.77,82.75],\"type\":\"scatter\"},{\"line\":{\"color\":\"red\"},\"showlegend\":false,\"x\":[4574,4575],\"y\":[82.75,82.76],\"type\":\"scatter\"},{\"line\":{\"color\":\"red\"},\"showlegend\":false,\"x\":[4575,4576],\"y\":[82.76,82.75],\"type\":\"scatter\"},{\"line\":{\"color\":\"red\"},\"showlegend\":false,\"x\":[4576,4577],\"y\":[82.75,82.75],\"type\":\"scatter\"},{\"line\":{\"color\":\"red\"},\"showlegend\":false,\"x\":[4577,4578],\"y\":[82.75,82.77],\"type\":\"scatter\"},{\"line\":{\"color\":\"red\"},\"showlegend\":false,\"x\":[4578,4579],\"y\":[82.77,82.78],\"type\":\"scatter\"},{\"line\":{\"color\":\"green\"},\"showlegend\":false,\"x\":[4579,4580],\"y\":[82.78,82.75],\"type\":\"scatter\"},{\"line\":{\"color\":\"red\"},\"showlegend\":false,\"x\":[4580,4581],\"y\":[82.75,82.8],\"type\":\"scatter\"},{\"line\":{\"color\":\"green\"},\"showlegend\":false,\"x\":[4581,4582],\"y\":[82.8,82.77],\"type\":\"scatter\"},{\"line\":{\"color\":\"red\"},\"showlegend\":false,\"x\":[4582,4583],\"y\":[82.77,82.71],\"type\":\"scatter\"},{\"line\":{\"color\":\"red\"},\"showlegend\":false,\"x\":[4583,4584],\"y\":[82.71,82.69],\"type\":\"scatter\"},{\"line\":{\"color\":\"red\"},\"showlegend\":false,\"x\":[4584,4585],\"y\":[82.69,82.74],\"type\":\"scatter\"},{\"line\":{\"color\":\"red\"},\"showlegend\":false,\"x\":[4585,4586],\"y\":[82.74,82.67],\"type\":\"scatter\"},{\"line\":{\"color\":\"red\"},\"showlegend\":false,\"x\":[4586,4587],\"y\":[82.67,82.66],\"type\":\"scatter\"},{\"line\":{\"color\":\"red\"},\"showlegend\":false,\"x\":[4587,4588],\"y\":[82.66,82.67],\"type\":\"scatter\"},{\"line\":{\"color\":\"red\"},\"showlegend\":false,\"x\":[4588,4589],\"y\":[82.67,82.67],\"type\":\"scatter\"},{\"line\":{\"color\":\"red\"},\"showlegend\":false,\"x\":[4589,4590],\"y\":[82.67,82.65],\"type\":\"scatter\"},{\"line\":{\"color\":\"red\"},\"showlegend\":false,\"x\":[4590,4591],\"y\":[82.65,82.65],\"type\":\"scatter\"},{\"line\":{\"color\":\"red\"},\"showlegend\":false,\"x\":[4591,4592],\"y\":[82.65,82.67],\"type\":\"scatter\"},{\"line\":{\"color\":\"red\"},\"showlegend\":false,\"x\":[4592,4593],\"y\":[82.67,82.64],\"type\":\"scatter\"},{\"line\":{\"color\":\"red\"},\"showlegend\":false,\"x\":[4593,4594],\"y\":[82.64,82.66],\"type\":\"scatter\"},{\"line\":{\"color\":\"red\"},\"showlegend\":false,\"x\":[4594,4595],\"y\":[82.66,82.64],\"type\":\"scatter\"},{\"line\":{\"color\":\"red\"},\"showlegend\":false,\"x\":[4595,4596],\"y\":[82.64,82.66],\"type\":\"scatter\"},{\"line\":{\"color\":\"red\"},\"showlegend\":false,\"x\":[4596,4597],\"y\":[82.66,82.59],\"type\":\"scatter\"},{\"line\":{\"color\":\"red\"},\"showlegend\":false,\"x\":[4597,4598],\"y\":[82.59,82.6],\"type\":\"scatter\"},{\"line\":{\"color\":\"red\"},\"showlegend\":false,\"x\":[4598,4599],\"y\":[82.6,82.7],\"type\":\"scatter\"},{\"line\":{\"color\":\"green\"},\"showlegend\":false,\"x\":[4599,4600],\"y\":[82.7,82.62],\"type\":\"scatter\"},{\"line\":{\"color\":\"red\"},\"showlegend\":false,\"x\":[4600,4601],\"y\":[82.62,82.62],\"type\":\"scatter\"},{\"line\":{\"color\":\"red\"},\"showlegend\":false,\"x\":[4601,4602],\"y\":[82.62,82.59],\"type\":\"scatter\"},{\"line\":{\"color\":\"red\"},\"showlegend\":false,\"x\":[4602,4603],\"y\":[82.59,82.5],\"type\":\"scatter\"},{\"line\":{\"color\":\"red\"},\"showlegend\":false,\"x\":[4603,4604],\"y\":[82.5,82.44],\"type\":\"scatter\"},{\"line\":{\"color\":\"red\"},\"showlegend\":false,\"x\":[4604,4605],\"y\":[82.44,82.36],\"type\":\"scatter\"},{\"line\":{\"color\":\"red\"},\"showlegend\":false,\"x\":[4605,4606],\"y\":[82.36,82.39],\"type\":\"scatter\"},{\"line\":{\"color\":\"red\"},\"showlegend\":false,\"x\":[4606,4607],\"y\":[82.39,82.44],\"type\":\"scatter\"},{\"line\":{\"color\":\"red\"},\"showlegend\":false,\"x\":[4607,4608],\"y\":[82.44,82.31],\"type\":\"scatter\"},{\"line\":{\"color\":\"red\"},\"showlegend\":false,\"x\":[4608,4609],\"y\":[82.31,82.32],\"type\":\"scatter\"},{\"line\":{\"color\":\"red\"},\"showlegend\":false,\"x\":[4609,4610],\"y\":[82.32,82.28],\"type\":\"scatter\"},{\"line\":{\"color\":\"red\"},\"showlegend\":false,\"x\":[4610,4611],\"y\":[82.28,82.23],\"type\":\"scatter\"},{\"line\":{\"color\":\"red\"},\"showlegend\":false,\"x\":[4611,4612],\"y\":[82.23,82.07],\"type\":\"scatter\"},{\"line\":{\"color\":\"red\"},\"showlegend\":false,\"x\":[4612,4613],\"y\":[82.07,82.1],\"type\":\"scatter\"},{\"line\":{\"color\":\"red\"},\"showlegend\":false,\"x\":[4613,4614],\"y\":[82.1,82.07],\"type\":\"scatter\"},{\"line\":{\"color\":\"red\"},\"showlegend\":false,\"x\":[4614,4615],\"y\":[82.07,82.04],\"type\":\"scatter\"},{\"line\":{\"color\":\"red\"},\"showlegend\":false,\"x\":[4615,4616],\"y\":[82.04,81.95],\"type\":\"scatter\"},{\"line\":{\"color\":\"red\"},\"showlegend\":false,\"x\":[4616,4617],\"y\":[81.95,82.06],\"type\":\"scatter\"},{\"line\":{\"color\":\"red\"},\"showlegend\":false,\"x\":[4617,4618],\"y\":[82.06,82.17],\"type\":\"scatter\"},{\"line\":{\"color\":\"red\"},\"showlegend\":false,\"x\":[4618,4619],\"y\":[82.17,82.04],\"type\":\"scatter\"},{\"line\":{\"color\":\"red\"},\"showlegend\":false,\"x\":[4619,4620],\"y\":[82.04,82.06],\"type\":\"scatter\"},{\"line\":{\"color\":\"red\"},\"showlegend\":false,\"x\":[4620,4621],\"y\":[82.06,82.05],\"type\":\"scatter\"},{\"line\":{\"color\":\"red\"},\"showlegend\":false,\"x\":[4621,4622],\"y\":[82.05,82.02],\"type\":\"scatter\"},{\"line\":{\"color\":\"red\"},\"showlegend\":false,\"x\":[4622,4623],\"y\":[82.02,81.93],\"type\":\"scatter\"},{\"line\":{\"color\":\"red\"},\"showlegend\":false,\"x\":[4623,4624],\"y\":[81.93,82.05],\"type\":\"scatter\"},{\"line\":{\"color\":\"red\"},\"showlegend\":false,\"x\":[4624,4625],\"y\":[82.05,82.08],\"type\":\"scatter\"},{\"line\":{\"color\":\"green\"},\"showlegend\":false,\"x\":[4625,4626],\"y\":[82.08,82.08],\"type\":\"scatter\"},{\"line\":{\"color\":\"green\"},\"showlegend\":false,\"x\":[4626,4627],\"y\":[82.08,82.04],\"type\":\"scatter\"},{\"line\":{\"color\":\"red\"},\"showlegend\":false,\"x\":[4627,4628],\"y\":[82.04,82.05],\"type\":\"scatter\"},{\"line\":{\"color\":\"red\"},\"showlegend\":false,\"x\":[4628,4629],\"y\":[82.05,82.01],\"type\":\"scatter\"},{\"line\":{\"color\":\"red\"},\"showlegend\":false,\"x\":[4629,4630],\"y\":[82.01,81.99],\"type\":\"scatter\"},{\"line\":{\"color\":\"red\"},\"showlegend\":false,\"x\":[4630,4631],\"y\":[81.99,81.98],\"type\":\"scatter\"},{\"line\":{\"color\":\"red\"},\"showlegend\":false,\"x\":[4631,4632],\"y\":[81.98,81.96],\"type\":\"scatter\"},{\"line\":{\"color\":\"red\"},\"showlegend\":false,\"x\":[4632,4633],\"y\":[81.96,81.99],\"type\":\"scatter\"},{\"line\":{\"color\":\"red\"},\"showlegend\":false,\"x\":[4633,4634],\"y\":[81.99,82.01],\"type\":\"scatter\"},{\"line\":{\"color\":\"red\"},\"showlegend\":false,\"x\":[4634,4635],\"y\":[82.01,82.03],\"type\":\"scatter\"},{\"line\":{\"color\":\"red\"},\"showlegend\":false,\"x\":[4635,4636],\"y\":[82.03,82.09],\"type\":\"scatter\"},{\"line\":{\"color\":\"green\"},\"showlegend\":false,\"x\":[4636,4637],\"y\":[82.09,82.01],\"type\":\"scatter\"},{\"line\":{\"color\":\"red\"},\"showlegend\":false,\"x\":[4637,4638],\"y\":[82.01,82.04],\"type\":\"scatter\"},{\"line\":{\"color\":\"green\"},\"showlegend\":false,\"x\":[4638,4639],\"y\":[82.04,81.98],\"type\":\"scatter\"},{\"line\":{\"color\":\"red\"},\"showlegend\":false,\"x\":[4639,4640],\"y\":[81.98,82.1],\"type\":\"scatter\"},{\"line\":{\"color\":\"green\"},\"showlegend\":false,\"x\":[4640,4641],\"y\":[82.1,82.06],\"type\":\"scatter\"},{\"line\":{\"color\":\"green\"},\"showlegend\":false,\"x\":[4641,4642],\"y\":[82.06,82.14],\"type\":\"scatter\"},{\"line\":{\"color\":\"green\"},\"showlegend\":false,\"x\":[4642,4643],\"y\":[82.14,82.16],\"type\":\"scatter\"},{\"line\":{\"color\":\"green\"},\"showlegend\":false,\"x\":[4643,4644],\"y\":[82.16,82.23],\"type\":\"scatter\"},{\"line\":{\"color\":\"green\"},\"showlegend\":false,\"x\":[4644,4645],\"y\":[82.23,82.23],\"type\":\"scatter\"},{\"line\":{\"color\":\"green\"},\"showlegend\":false,\"x\":[4645,4646],\"y\":[82.23,82.2],\"type\":\"scatter\"},{\"line\":{\"color\":\"green\"},\"showlegend\":false,\"x\":[4646,4647],\"y\":[82.2,82.19],\"type\":\"scatter\"},{\"line\":{\"color\":\"green\"},\"showlegend\":false,\"x\":[4647,4648],\"y\":[82.19,82.14],\"type\":\"scatter\"},{\"line\":{\"color\":\"green\"},\"showlegend\":false,\"x\":[4648,4649],\"y\":[82.14,82.1],\"type\":\"scatter\"},{\"line\":{\"color\":\"green\"},\"showlegend\":false,\"x\":[4649,4650],\"y\":[82.1,82.1],\"type\":\"scatter\"},{\"line\":{\"color\":\"red\"},\"showlegend\":false,\"x\":[4650,4651],\"y\":[82.1,82.07],\"type\":\"scatter\"},{\"line\":{\"color\":\"red\"},\"showlegend\":false,\"x\":[4651,4652],\"y\":[82.07,82.13],\"type\":\"scatter\"},{\"line\":{\"color\":\"green\"},\"showlegend\":false,\"x\":[4652,4653],\"y\":[82.13,82.17],\"type\":\"scatter\"},{\"line\":{\"color\":\"green\"},\"showlegend\":false,\"x\":[4653,4654],\"y\":[82.17,82.04],\"type\":\"scatter\"},{\"line\":{\"color\":\"red\"},\"showlegend\":false,\"x\":[4654,4655],\"y\":[82.04,82.07],\"type\":\"scatter\"},{\"line\":{\"color\":\"red\"},\"showlegend\":false,\"x\":[4655,4656],\"y\":[82.07,82.09],\"type\":\"scatter\"},{\"line\":{\"color\":\"red\"},\"showlegend\":false,\"x\":[4656,4657],\"y\":[82.09,82.16],\"type\":\"scatter\"},{\"line\":{\"color\":\"green\"},\"showlegend\":false,\"x\":[4657,4658],\"y\":[82.16,82.29],\"type\":\"scatter\"},{\"line\":{\"color\":\"green\"},\"showlegend\":false,\"x\":[4658,4659],\"y\":[82.29,82.13],\"type\":\"scatter\"},{\"line\":{\"color\":\"red\"},\"showlegend\":false,\"x\":[4659,4660],\"y\":[82.13,82.24],\"type\":\"scatter\"},{\"line\":{\"color\":\"green\"},\"showlegend\":false,\"x\":[4660,4661],\"y\":[82.24,82.29],\"type\":\"scatter\"},{\"line\":{\"color\":\"green\"},\"showlegend\":false,\"x\":[4661,4662],\"y\":[82.29,82.41],\"type\":\"scatter\"},{\"line\":{\"color\":\"green\"},\"showlegend\":false,\"x\":[4662,4663],\"y\":[82.41,82.48],\"type\":\"scatter\"},{\"line\":{\"color\":\"green\"},\"showlegend\":false,\"x\":[4663,4664],\"y\":[82.48,82.67],\"type\":\"scatter\"},{\"line\":{\"color\":\"green\"},\"showlegend\":false,\"x\":[4664,4665],\"y\":[82.67,82.86],\"type\":\"scatter\"},{\"line\":{\"color\":\"green\"},\"showlegend\":false,\"x\":[4665,4666],\"y\":[82.86,82.88],\"type\":\"scatter\"},{\"line\":{\"color\":\"green\"},\"showlegend\":false,\"x\":[4666,4667],\"y\":[82.88,82.91],\"type\":\"scatter\"},{\"line\":{\"color\":\"green\"},\"showlegend\":false,\"x\":[4667,4668],\"y\":[82.91,83.02],\"type\":\"scatter\"},{\"line\":{\"color\":\"green\"},\"showlegend\":false,\"x\":[4668,4669],\"y\":[83.02,83.19],\"type\":\"scatter\"},{\"line\":{\"color\":\"green\"},\"showlegend\":false,\"x\":[4669,4670],\"y\":[83.19,83.06],\"type\":\"scatter\"},{\"line\":{\"color\":\"green\"},\"showlegend\":false,\"x\":[4670,4671],\"y\":[83.06,83.02],\"type\":\"scatter\"},{\"line\":{\"color\":\"green\"},\"showlegend\":false,\"x\":[4671,4672],\"y\":[83.02,83.15],\"type\":\"scatter\"},{\"line\":{\"color\":\"green\"},\"showlegend\":false,\"x\":[4672,4673],\"y\":[83.15,83.0],\"type\":\"scatter\"},{\"line\":{\"color\":\"green\"},\"showlegend\":false,\"x\":[4673,4674],\"y\":[83.0,83.03],\"type\":\"scatter\"},{\"line\":{\"color\":\"green\"},\"showlegend\":false,\"x\":[4674,4675],\"y\":[83.03,82.71],\"type\":\"scatter\"},{\"line\":{\"color\":\"red\"},\"showlegend\":false,\"x\":[4675,4676],\"y\":[82.71,82.72],\"type\":\"scatter\"},{\"line\":{\"color\":\"red\"},\"showlegend\":false,\"x\":[4676,4677],\"y\":[82.72,82.74],\"type\":\"scatter\"},{\"line\":{\"color\":\"red\"},\"showlegend\":false,\"x\":[4677,4678],\"y\":[82.74,83.06],\"type\":\"scatter\"},{\"line\":{\"color\":\"green\"},\"showlegend\":false,\"x\":[4678,4679],\"y\":[83.06,83.08],\"type\":\"scatter\"},{\"line\":{\"color\":\"green\"},\"showlegend\":false,\"x\":[4679,4680],\"y\":[83.08,83.11],\"type\":\"scatter\"},{\"line\":{\"color\":\"green\"},\"showlegend\":false,\"x\":[4680,4681],\"y\":[83.11,82.75],\"type\":\"scatter\"},{\"line\":{\"color\":\"red\"},\"showlegend\":false,\"x\":[4681,4682],\"y\":[82.75,82.65],\"type\":\"scatter\"},{\"line\":{\"color\":\"red\"},\"showlegend\":false,\"x\":[4682,4683],\"y\":[82.65,82.6],\"type\":\"scatter\"},{\"line\":{\"color\":\"red\"},\"showlegend\":false,\"x\":[4683,4684],\"y\":[82.6,82.55],\"type\":\"scatter\"},{\"line\":{\"color\":\"red\"},\"showlegend\":false,\"x\":[4684,4685],\"y\":[82.55,82.74],\"type\":\"scatter\"},{\"line\":{\"color\":\"red\"},\"showlegend\":false,\"x\":[4685,4686],\"y\":[82.74,82.97],\"type\":\"scatter\"},{\"line\":{\"color\":\"red\"},\"showlegend\":false,\"x\":[4686,4687],\"y\":[82.97,82.9],\"type\":\"scatter\"},{\"line\":{\"color\":\"red\"},\"showlegend\":false,\"x\":[4687,4688],\"y\":[82.9,82.9],\"type\":\"scatter\"},{\"line\":{\"color\":\"red\"},\"showlegend\":false,\"x\":[4688,4689],\"y\":[82.9,82.88],\"type\":\"scatter\"},{\"line\":{\"color\":\"red\"},\"showlegend\":false,\"x\":[4689,4690],\"y\":[82.88,82.83],\"type\":\"scatter\"},{\"line\":{\"color\":\"red\"},\"showlegend\":false,\"x\":[4690,4691],\"y\":[82.83,83.01],\"type\":\"scatter\"},{\"line\":{\"color\":\"green\"},\"showlegend\":false,\"x\":[4691,4692],\"y\":[83.01,82.94],\"type\":\"scatter\"},{\"line\":{\"color\":\"green\"},\"showlegend\":false,\"x\":[4692,4693],\"y\":[82.94,83.08],\"type\":\"scatter\"},{\"line\":{\"color\":\"green\"},\"showlegend\":false,\"x\":[4693,4694],\"y\":[83.08,83.17],\"type\":\"scatter\"},{\"line\":{\"color\":\"green\"},\"showlegend\":false,\"x\":[4694,4695],\"y\":[83.17,83.07],\"type\":\"scatter\"},{\"line\":{\"color\":\"green\"},\"showlegend\":false,\"x\":[4695,4696],\"y\":[83.07,83.15],\"type\":\"scatter\"},{\"line\":{\"color\":\"green\"},\"showlegend\":false,\"x\":[4696,4697],\"y\":[83.15,83.18],\"type\":\"scatter\"},{\"line\":{\"color\":\"green\"},\"showlegend\":false,\"x\":[4697,4698],\"y\":[83.18,83.27],\"type\":\"scatter\"},{\"line\":{\"color\":\"green\"},\"showlegend\":false,\"x\":[4698,4699],\"y\":[83.27,83.2],\"type\":\"scatter\"},{\"line\":{\"color\":\"green\"},\"showlegend\":false,\"x\":[4699,4700],\"y\":[83.2,83.23],\"type\":\"scatter\"},{\"line\":{\"color\":\"green\"},\"showlegend\":false,\"x\":[4700,4701],\"y\":[83.23,83.29],\"type\":\"scatter\"},{\"line\":{\"color\":\"green\"},\"showlegend\":false,\"x\":[4701,4702],\"y\":[83.29,83.31],\"type\":\"scatter\"},{\"line\":{\"color\":\"green\"},\"showlegend\":false,\"x\":[4702,4703],\"y\":[83.31,83.37],\"type\":\"scatter\"},{\"line\":{\"color\":\"green\"},\"showlegend\":false,\"x\":[4703,4704],\"y\":[83.37,83.47],\"type\":\"scatter\"},{\"line\":{\"color\":\"green\"},\"showlegend\":false,\"x\":[4704,4705],\"y\":[83.47,83.37],\"type\":\"scatter\"},{\"line\":{\"color\":\"green\"},\"showlegend\":false,\"x\":[4705,4706],\"y\":[83.37,83.46],\"type\":\"scatter\"},{\"line\":{\"color\":\"green\"},\"showlegend\":false,\"x\":[4706,4707],\"y\":[83.46,83.52],\"type\":\"scatter\"},{\"line\":{\"color\":\"green\"},\"showlegend\":false,\"x\":[4707,4708],\"y\":[83.52,83.57],\"type\":\"scatter\"},{\"line\":{\"color\":\"green\"},\"showlegend\":false,\"x\":[4708,4709],\"y\":[83.57,83.63],\"type\":\"scatter\"},{\"line\":{\"color\":\"green\"},\"showlegend\":false,\"x\":[4709,4710],\"y\":[83.63,83.5],\"type\":\"scatter\"},{\"line\":{\"color\":\"green\"},\"showlegend\":false,\"x\":[4710,4711],\"y\":[83.5,83.39],\"type\":\"scatter\"},{\"line\":{\"color\":\"green\"},\"showlegend\":false,\"x\":[4711,4712],\"y\":[83.39,83.25],\"type\":\"scatter\"},{\"line\":{\"color\":\"red\"},\"showlegend\":false,\"x\":[4712,4713],\"y\":[83.25,83.3],\"type\":\"scatter\"},{\"line\":{\"color\":\"red\"},\"showlegend\":false,\"x\":[4713,4714],\"y\":[83.3,83.17],\"type\":\"scatter\"},{\"line\":{\"color\":\"red\"},\"showlegend\":false,\"x\":[4714,4715],\"y\":[83.17,83.2],\"type\":\"scatter\"},{\"line\":{\"color\":\"red\"},\"showlegend\":false,\"x\":[4715,4716],\"y\":[83.2,83.28],\"type\":\"scatter\"},{\"line\":{\"color\":\"red\"},\"showlegend\":false,\"x\":[4716,4717],\"y\":[83.28,83.25],\"type\":\"scatter\"},{\"line\":{\"color\":\"red\"},\"showlegend\":false,\"x\":[4717,4718],\"y\":[83.25,83.29],\"type\":\"scatter\"},{\"line\":{\"color\":\"red\"},\"showlegend\":false,\"x\":[4718,4719],\"y\":[83.29,83.32],\"type\":\"scatter\"},{\"line\":{\"color\":\"red\"},\"showlegend\":false,\"x\":[4719,4720],\"y\":[83.32,83.34],\"type\":\"scatter\"},{\"line\":{\"color\":\"green\"},\"showlegend\":false,\"x\":[4720,4721],\"y\":[83.34,83.36],\"type\":\"scatter\"},{\"line\":{\"color\":\"green\"},\"showlegend\":false,\"x\":[4721,4722],\"y\":[83.36,83.43],\"type\":\"scatter\"},{\"line\":{\"color\":\"green\"},\"showlegend\":false,\"x\":[4722,4723],\"y\":[83.43,83.36],\"type\":\"scatter\"},{\"line\":{\"color\":\"green\"},\"showlegend\":false,\"x\":[4723,4724],\"y\":[83.36,83.29],\"type\":\"scatter\"},{\"line\":{\"color\":\"red\"},\"showlegend\":false,\"x\":[4724,4725],\"y\":[83.29,83.39],\"type\":\"scatter\"},{\"line\":{\"color\":\"green\"},\"showlegend\":false,\"x\":[4725,4726],\"y\":[83.39,83.28],\"type\":\"scatter\"},{\"line\":{\"color\":\"green\"},\"showlegend\":false,\"x\":[4726,4727],\"y\":[83.28,83.26],\"type\":\"scatter\"},{\"line\":{\"color\":\"red\"},\"showlegend\":false,\"x\":[4727,4728],\"y\":[83.26,83.25],\"type\":\"scatter\"},{\"line\":{\"color\":\"red\"},\"showlegend\":false,\"x\":[4728,4729],\"y\":[83.25,83.34],\"type\":\"scatter\"},{\"line\":{\"color\":\"green\"},\"showlegend\":false,\"x\":[4729,4730],\"y\":[83.34,83.43],\"type\":\"scatter\"},{\"line\":{\"color\":\"green\"},\"showlegend\":false,\"x\":[4730,4731],\"y\":[83.43,83.44],\"type\":\"scatter\"},{\"line\":{\"color\":\"green\"},\"showlegend\":false,\"x\":[4731,4732],\"y\":[83.44,83.39],\"type\":\"scatter\"},{\"line\":{\"color\":\"green\"},\"showlegend\":false,\"x\":[4732,4733],\"y\":[83.39,83.4],\"type\":\"scatter\"},{\"line\":{\"color\":\"green\"},\"showlegend\":false,\"x\":[4733,4734],\"y\":[83.4,83.35],\"type\":\"scatter\"},{\"line\":{\"color\":\"green\"},\"showlegend\":false,\"x\":[4734,4735],\"y\":[83.35,83.37],\"type\":\"scatter\"},{\"line\":{\"color\":\"green\"},\"showlegend\":false,\"x\":[4735,4736],\"y\":[83.37,83.38],\"type\":\"scatter\"},{\"line\":{\"color\":\"green\"},\"showlegend\":false,\"x\":[4736,4737],\"y\":[83.38,83.36],\"type\":\"scatter\"},{\"line\":{\"color\":\"green\"},\"showlegend\":false,\"x\":[4737,4738],\"y\":[83.36,83.37],\"type\":\"scatter\"},{\"line\":{\"color\":\"green\"},\"showlegend\":false,\"x\":[4738,4739],\"y\":[83.37,83.35],\"type\":\"scatter\"},{\"line\":{\"color\":\"red\"},\"showlegend\":false,\"x\":[4739,4740],\"y\":[83.35,83.35],\"type\":\"scatter\"},{\"line\":{\"color\":\"red\"},\"showlegend\":false,\"x\":[4740,4741],\"y\":[83.35,83.38],\"type\":\"scatter\"},{\"line\":{\"color\":\"red\"},\"showlegend\":false,\"x\":[4741,4742],\"y\":[83.38,83.36],\"type\":\"scatter\"},{\"line\":{\"color\":\"red\"},\"showlegend\":false,\"x\":[4742,4743],\"y\":[83.36,83.35],\"type\":\"scatter\"},{\"line\":{\"color\":\"red\"},\"showlegend\":false,\"x\":[4743,4744],\"y\":[83.35,83.36],\"type\":\"scatter\"},{\"line\":{\"color\":\"red\"},\"showlegend\":false,\"x\":[4744,4745],\"y\":[83.36,83.31],\"type\":\"scatter\"},{\"line\":{\"color\":\"red\"},\"showlegend\":false,\"x\":[4745,4746],\"y\":[83.31,83.3],\"type\":\"scatter\"},{\"line\":{\"color\":\"red\"},\"showlegend\":false,\"x\":[4746,4747],\"y\":[83.3,83.3],\"type\":\"scatter\"},{\"line\":{\"color\":\"red\"},\"showlegend\":false,\"x\":[4747,4748],\"y\":[83.3,83.29],\"type\":\"scatter\"},{\"line\":{\"color\":\"red\"},\"showlegend\":false,\"x\":[4748,4749],\"y\":[83.29,83.24],\"type\":\"scatter\"},{\"line\":{\"color\":\"red\"},\"showlegend\":false,\"x\":[4749,4750],\"y\":[83.24,83.26],\"type\":\"scatter\"},{\"line\":{\"color\":\"red\"},\"showlegend\":false,\"x\":[4750,4751],\"y\":[83.26,83.24],\"type\":\"scatter\"},{\"line\":{\"color\":\"red\"},\"showlegend\":false,\"x\":[4751,4752],\"y\":[83.24,83.25],\"type\":\"scatter\"},{\"line\":{\"color\":\"red\"},\"showlegend\":false,\"x\":[4752,4753],\"y\":[83.25,83.26],\"type\":\"scatter\"},{\"line\":{\"color\":\"red\"},\"showlegend\":false,\"x\":[4753,4754],\"y\":[83.26,83.26],\"type\":\"scatter\"},{\"line\":{\"color\":\"red\"},\"showlegend\":false,\"x\":[4754,4755],\"y\":[83.26,83.27],\"type\":\"scatter\"},{\"line\":{\"color\":\"red\"},\"showlegend\":false,\"x\":[4755,4756],\"y\":[83.27,83.29],\"type\":\"scatter\"},{\"line\":{\"color\":\"green\"},\"showlegend\":false,\"x\":[4756,4757],\"y\":[83.29,83.28],\"type\":\"scatter\"},{\"line\":{\"color\":\"red\"},\"showlegend\":false,\"x\":[4757,4758],\"y\":[83.28,83.28],\"type\":\"scatter\"},{\"line\":{\"color\":\"green\"},\"showlegend\":false,\"x\":[4758,4759],\"y\":[83.28,83.28],\"type\":\"scatter\"},{\"line\":{\"color\":\"green\"},\"showlegend\":false,\"x\":[4759,4760],\"y\":[83.28,83.22],\"type\":\"scatter\"},{\"line\":{\"color\":\"red\"},\"showlegend\":false,\"x\":[4760,4761],\"y\":[83.22,83.26],\"type\":\"scatter\"},{\"line\":{\"color\":\"green\"},\"showlegend\":false,\"x\":[4761,4762],\"y\":[83.26,82.78],\"type\":\"scatter\"},{\"line\":{\"color\":\"red\"},\"showlegend\":false,\"x\":[4762,4763],\"y\":[82.78,82.89],\"type\":\"scatter\"},{\"line\":{\"color\":\"red\"},\"showlegend\":false,\"x\":[4763,4764],\"y\":[82.89,82.91],\"type\":\"scatter\"},{\"line\":{\"color\":\"red\"},\"showlegend\":false,\"x\":[4764,4765],\"y\":[82.91,82.92],\"type\":\"scatter\"},{\"line\":{\"color\":\"red\"},\"showlegend\":false,\"x\":[4765,4766],\"y\":[82.92,82.97],\"type\":\"scatter\"},{\"line\":{\"color\":\"red\"},\"showlegend\":false,\"x\":[4766,4767],\"y\":[82.97,82.98],\"type\":\"scatter\"},{\"line\":{\"color\":\"red\"},\"showlegend\":false,\"x\":[4767,4768],\"y\":[82.98,82.86],\"type\":\"scatter\"},{\"line\":{\"color\":\"red\"},\"showlegend\":false,\"x\":[4768,4769],\"y\":[82.86,82.84],\"type\":\"scatter\"},{\"line\":{\"color\":\"red\"},\"showlegend\":false,\"x\":[4769,4770],\"y\":[82.84,82.85],\"type\":\"scatter\"},{\"line\":{\"color\":\"red\"},\"showlegend\":false,\"x\":[4770,4771],\"y\":[82.85,82.89],\"type\":\"scatter\"},{\"line\":{\"color\":\"red\"},\"showlegend\":false,\"x\":[4771,4772],\"y\":[82.89,82.94],\"type\":\"scatter\"},{\"line\":{\"color\":\"red\"},\"showlegend\":false,\"x\":[4772,4773],\"y\":[82.94,82.9],\"type\":\"scatter\"},{\"line\":{\"color\":\"red\"},\"showlegend\":false,\"x\":[4773,4774],\"y\":[82.9,82.84],\"type\":\"scatter\"},{\"line\":{\"color\":\"red\"},\"showlegend\":false,\"x\":[4774,4775],\"y\":[82.84,82.83],\"type\":\"scatter\"},{\"line\":{\"color\":\"red\"},\"showlegend\":false,\"x\":[4775,4776],\"y\":[82.83,82.82],\"type\":\"scatter\"},{\"line\":{\"color\":\"red\"},\"showlegend\":false,\"x\":[4776,4777],\"y\":[82.82,82.85],\"type\":\"scatter\"},{\"line\":{\"color\":\"red\"},\"showlegend\":false,\"x\":[4777,4778],\"y\":[82.85,82.89],\"type\":\"scatter\"},{\"line\":{\"color\":\"red\"},\"showlegend\":false,\"x\":[4778,4779],\"y\":[82.89,82.85],\"type\":\"scatter\"},{\"line\":{\"color\":\"red\"},\"showlegend\":false,\"x\":[4779,4780],\"y\":[82.85,82.84],\"type\":\"scatter\"},{\"line\":{\"color\":\"red\"},\"showlegend\":false,\"x\":[4780,4781],\"y\":[82.84,82.83],\"type\":\"scatter\"},{\"line\":{\"color\":\"red\"},\"showlegend\":false,\"x\":[4781,4782],\"y\":[82.83,82.85],\"type\":\"scatter\"},{\"line\":{\"color\":\"red\"},\"showlegend\":false,\"x\":[4782,4783],\"y\":[82.85,82.86],\"type\":\"scatter\"},{\"line\":{\"color\":\"red\"},\"showlegend\":false,\"x\":[4783,4784],\"y\":[82.86,82.86],\"type\":\"scatter\"},{\"line\":{\"color\":\"red\"},\"showlegend\":false,\"x\":[4784,4785],\"y\":[82.86,82.89],\"type\":\"scatter\"},{\"line\":{\"color\":\"green\"},\"showlegend\":false,\"x\":[4785,4786],\"y\":[82.89,82.91],\"type\":\"scatter\"},{\"line\":{\"color\":\"green\"},\"showlegend\":false,\"x\":[4786,4787],\"y\":[82.91,82.89],\"type\":\"scatter\"},{\"line\":{\"color\":\"green\"},\"showlegend\":false,\"x\":[4787,4788],\"y\":[82.89,82.95],\"type\":\"scatter\"},{\"line\":{\"color\":\"green\"},\"showlegend\":false,\"x\":[4788,4789],\"y\":[82.95,82.95],\"type\":\"scatter\"},{\"line\":{\"color\":\"green\"},\"showlegend\":false,\"x\":[4789,4790],\"y\":[82.95,82.95],\"type\":\"scatter\"},{\"line\":{\"color\":\"green\"},\"showlegend\":false,\"x\":[4790,4791],\"y\":[82.95,82.86],\"type\":\"scatter\"},{\"line\":{\"color\":\"red\"},\"showlegend\":false,\"x\":[4791,4792],\"y\":[82.86,82.87],\"type\":\"scatter\"},{\"line\":{\"color\":\"red\"},\"showlegend\":false,\"x\":[4792,4793],\"y\":[82.87,82.89],\"type\":\"scatter\"},{\"line\":{\"color\":\"green\"},\"showlegend\":false,\"x\":[4793,4794],\"y\":[82.89,82.88],\"type\":\"scatter\"},{\"line\":{\"color\":\"green\"},\"showlegend\":false,\"x\":[4794,4795],\"y\":[82.88,82.88],\"type\":\"scatter\"},{\"line\":{\"color\":\"red\"},\"showlegend\":false,\"x\":[4795,4796],\"y\":[82.88,82.87],\"type\":\"scatter\"},{\"line\":{\"color\":\"red\"},\"showlegend\":false,\"x\":[4796,4797],\"y\":[82.87,82.88],\"type\":\"scatter\"},{\"line\":{\"color\":\"red\"},\"showlegend\":false,\"x\":[4797,4798],\"y\":[82.88,82.87],\"type\":\"scatter\"},{\"line\":{\"color\":\"red\"},\"showlegend\":false,\"x\":[4798,4799],\"y\":[82.87,82.87],\"type\":\"scatter\"},{\"line\":{\"color\":\"red\"},\"showlegend\":false,\"x\":[4799,4800],\"y\":[82.87,82.86],\"type\":\"scatter\"},{\"line\":{\"color\":\"red\"},\"showlegend\":false,\"x\":[4800,4801],\"y\":[82.86,82.86],\"type\":\"scatter\"},{\"line\":{\"color\":\"red\"},\"showlegend\":false,\"x\":[4801,4802],\"y\":[82.86,82.86],\"type\":\"scatter\"},{\"line\":{\"color\":\"red\"},\"showlegend\":false,\"x\":[4802,4803],\"y\":[82.86,82.86],\"type\":\"scatter\"},{\"line\":{\"color\":\"red\"},\"showlegend\":false,\"x\":[4803,4804],\"y\":[82.86,82.86],\"type\":\"scatter\"},{\"line\":{\"color\":\"red\"},\"showlegend\":false,\"x\":[4804,4805],\"y\":[82.86,82.84],\"type\":\"scatter\"},{\"line\":{\"color\":\"red\"},\"showlegend\":false,\"x\":[4805,4806],\"y\":[82.84,82.85],\"type\":\"scatter\"},{\"line\":{\"color\":\"red\"},\"showlegend\":false,\"x\":[4806,4807],\"y\":[82.85,82.84],\"type\":\"scatter\"},{\"line\":{\"color\":\"red\"},\"showlegend\":false,\"x\":[4807,4808],\"y\":[82.84,82.83],\"type\":\"scatter\"},{\"line\":{\"color\":\"red\"},\"showlegend\":false,\"x\":[4808,4809],\"y\":[82.83,82.82],\"type\":\"scatter\"},{\"line\":{\"color\":\"red\"},\"showlegend\":false,\"x\":[4809,4810],\"y\":[82.82,82.83],\"type\":\"scatter\"},{\"line\":{\"color\":\"red\"},\"showlegend\":false,\"x\":[4810,4811],\"y\":[82.83,82.84],\"type\":\"scatter\"},{\"line\":{\"color\":\"red\"},\"showlegend\":false,\"x\":[4811,4812],\"y\":[82.84,82.83],\"type\":\"scatter\"},{\"line\":{\"color\":\"red\"},\"showlegend\":false,\"x\":[4812,4813],\"y\":[82.83,82.82],\"type\":\"scatter\"},{\"line\":{\"color\":\"red\"},\"showlegend\":false,\"x\":[4813,4814],\"y\":[82.82,82.83],\"type\":\"scatter\"},{\"line\":{\"color\":\"red\"},\"showlegend\":false,\"x\":[4814,4815],\"y\":[82.83,82.81],\"type\":\"scatter\"},{\"line\":{\"color\":\"red\"},\"showlegend\":false,\"x\":[4815,4816],\"y\":[82.81,82.81],\"type\":\"scatter\"},{\"line\":{\"color\":\"red\"},\"showlegend\":false,\"x\":[4816,4817],\"y\":[82.81,82.81],\"type\":\"scatter\"},{\"line\":{\"color\":\"red\"},\"showlegend\":false,\"x\":[4817,4818],\"y\":[82.81,82.84],\"type\":\"scatter\"},{\"line\":{\"color\":\"green\"},\"showlegend\":false,\"x\":[4818,4819],\"y\":[82.84,82.81],\"type\":\"scatter\"},{\"line\":{\"color\":\"red\"},\"showlegend\":false,\"x\":[4819,4820],\"y\":[82.81,82.81],\"type\":\"scatter\"},{\"line\":{\"color\":\"red\"},\"showlegend\":false,\"x\":[4820,4821],\"y\":[82.81,82.8],\"type\":\"scatter\"},{\"line\":{\"color\":\"red\"},\"showlegend\":false,\"x\":[4821,4822],\"y\":[82.8,82.83],\"type\":\"scatter\"},{\"line\":{\"color\":\"green\"},\"showlegend\":false,\"x\":[4822,4823],\"y\":[82.83,82.85],\"type\":\"scatter\"},{\"line\":{\"color\":\"green\"},\"showlegend\":false,\"x\":[4823,4824],\"y\":[82.85,82.86],\"type\":\"scatter\"},{\"line\":{\"color\":\"green\"},\"showlegend\":false,\"x\":[4824,4825],\"y\":[82.86,82.85],\"type\":\"scatter\"},{\"line\":{\"color\":\"green\"},\"showlegend\":false,\"x\":[4825,4826],\"y\":[82.85,82.85],\"type\":\"scatter\"},{\"line\":{\"color\":\"green\"},\"showlegend\":false,\"x\":[4826,4827],\"y\":[82.85,82.86],\"type\":\"scatter\"},{\"line\":{\"color\":\"green\"},\"showlegend\":false,\"x\":[4827,4828],\"y\":[82.86,82.83],\"type\":\"scatter\"},{\"line\":{\"color\":\"green\"},\"showlegend\":false,\"x\":[4828,4829],\"y\":[82.83,82.81],\"type\":\"scatter\"},{\"line\":{\"color\":\"red\"},\"showlegend\":false,\"x\":[4829,4830],\"y\":[82.81,82.76],\"type\":\"scatter\"},{\"line\":{\"color\":\"red\"},\"showlegend\":false,\"x\":[4830,4831],\"y\":[82.76,82.76],\"type\":\"scatter\"},{\"line\":{\"color\":\"red\"},\"showlegend\":false,\"x\":[4831,4832],\"y\":[82.76,82.78],\"type\":\"scatter\"},{\"line\":{\"color\":\"red\"},\"showlegend\":false,\"x\":[4832,4833],\"y\":[82.78,82.77],\"type\":\"scatter\"},{\"line\":{\"color\":\"red\"},\"showlegend\":false,\"x\":[4833,4834],\"y\":[82.77,82.79],\"type\":\"scatter\"},{\"line\":{\"color\":\"red\"},\"showlegend\":false,\"x\":[4834,4835],\"y\":[82.79,82.9],\"type\":\"scatter\"},{\"line\":{\"color\":\"green\"},\"showlegend\":false,\"x\":[4835,4836],\"y\":[82.9,82.87],\"type\":\"scatter\"},{\"line\":{\"color\":\"green\"},\"showlegend\":false,\"x\":[4836,4837],\"y\":[82.87,82.9],\"type\":\"scatter\"},{\"line\":{\"color\":\"green\"},\"showlegend\":false,\"x\":[4837,4838],\"y\":[82.9,82.9],\"type\":\"scatter\"},{\"line\":{\"color\":\"green\"},\"showlegend\":false,\"x\":[4838,4839],\"y\":[82.9,82.89],\"type\":\"scatter\"},{\"line\":{\"color\":\"green\"},\"showlegend\":false,\"x\":[4839,4840],\"y\":[82.89,82.85],\"type\":\"scatter\"},{\"line\":{\"color\":\"green\"},\"showlegend\":false,\"x\":[4840,4841],\"y\":[82.85,82.89],\"type\":\"scatter\"},{\"line\":{\"color\":\"green\"},\"showlegend\":false,\"x\":[4841,4842],\"y\":[82.89,82.91],\"type\":\"scatter\"},{\"line\":{\"color\":\"green\"},\"showlegend\":false,\"x\":[4842,4843],\"y\":[82.91,82.9],\"type\":\"scatter\"},{\"line\":{\"color\":\"green\"},\"showlegend\":false,\"x\":[4843,4844],\"y\":[82.9,82.9],\"type\":\"scatter\"},{\"line\":{\"color\":\"green\"},\"showlegend\":false,\"x\":[4844,4845],\"y\":[82.9,82.89],\"type\":\"scatter\"},{\"line\":{\"color\":\"green\"},\"showlegend\":false,\"x\":[4845,4846],\"y\":[82.89,82.87],\"type\":\"scatter\"},{\"line\":{\"color\":\"green\"},\"showlegend\":false,\"x\":[4846,4847],\"y\":[82.87,82.79],\"type\":\"scatter\"},{\"line\":{\"color\":\"red\"},\"showlegend\":false,\"x\":[4847,4848],\"y\":[82.79,82.79],\"type\":\"scatter\"},{\"line\":{\"color\":\"red\"},\"showlegend\":false,\"x\":[4848,4849],\"y\":[82.79,82.81],\"type\":\"scatter\"},{\"line\":{\"color\":\"red\"},\"showlegend\":false,\"x\":[4849,4850],\"y\":[82.81,82.78],\"type\":\"scatter\"},{\"line\":{\"color\":\"red\"},\"showlegend\":false,\"x\":[4850,4851],\"y\":[82.78,82.83],\"type\":\"scatter\"},{\"line\":{\"color\":\"red\"},\"showlegend\":false,\"x\":[4851,4852],\"y\":[82.83,82.73],\"type\":\"scatter\"},{\"line\":{\"color\":\"red\"},\"showlegend\":false,\"x\":[4852,4853],\"y\":[82.73,82.7],\"type\":\"scatter\"},{\"line\":{\"color\":\"red\"},\"showlegend\":false,\"x\":[4853,4854],\"y\":[82.7,82.67],\"type\":\"scatter\"},{\"line\":{\"color\":\"red\"},\"showlegend\":false,\"x\":[4854,4855],\"y\":[82.67,82.65],\"type\":\"scatter\"},{\"line\":{\"color\":\"red\"},\"showlegend\":false,\"x\":[4855,4856],\"y\":[82.65,82.63],\"type\":\"scatter\"},{\"line\":{\"color\":\"red\"},\"showlegend\":false,\"x\":[4856,4857],\"y\":[82.63,82.64],\"type\":\"scatter\"},{\"line\":{\"color\":\"red\"},\"showlegend\":false,\"x\":[4857,4858],\"y\":[82.64,82.64],\"type\":\"scatter\"},{\"line\":{\"color\":\"red\"},\"showlegend\":false,\"x\":[4858,4859],\"y\":[82.64,82.61],\"type\":\"scatter\"},{\"line\":{\"color\":\"red\"},\"showlegend\":false,\"x\":[4859,4860],\"y\":[82.61,82.57],\"type\":\"scatter\"},{\"line\":{\"color\":\"red\"},\"showlegend\":false,\"x\":[4860,4861],\"y\":[82.57,82.59],\"type\":\"scatter\"},{\"line\":{\"color\":\"red\"},\"showlegend\":false,\"x\":[4861,4862],\"y\":[82.59,82.55],\"type\":\"scatter\"},{\"line\":{\"color\":\"red\"},\"showlegend\":false,\"x\":[4862,4863],\"y\":[82.55,82.6],\"type\":\"scatter\"},{\"line\":{\"color\":\"red\"},\"showlegend\":false,\"x\":[4863,4864],\"y\":[82.6,82.64],\"type\":\"scatter\"},{\"line\":{\"color\":\"red\"},\"showlegend\":false,\"x\":[4864,4865],\"y\":[82.64,82.72],\"type\":\"scatter\"},{\"line\":{\"color\":\"green\"},\"showlegend\":false,\"x\":[4865,4866],\"y\":[82.72,82.79],\"type\":\"scatter\"},{\"line\":{\"color\":\"green\"},\"showlegend\":false,\"x\":[4866,4867],\"y\":[82.79,82.76],\"type\":\"scatter\"},{\"line\":{\"color\":\"green\"},\"showlegend\":false,\"x\":[4867,4868],\"y\":[82.76,82.75],\"type\":\"scatter\"},{\"line\":{\"color\":\"green\"},\"showlegend\":false,\"x\":[4868,4869],\"y\":[82.75,82.61],\"type\":\"scatter\"},{\"line\":{\"color\":\"red\"},\"showlegend\":false,\"x\":[4869,4870],\"y\":[82.61,82.68],\"type\":\"scatter\"},{\"line\":{\"color\":\"green\"},\"showlegend\":false,\"x\":[4870,4871],\"y\":[82.68,82.68],\"type\":\"scatter\"},{\"line\":{\"color\":\"green\"},\"showlegend\":false,\"x\":[4871,4872],\"y\":[82.68,82.69],\"type\":\"scatter\"},{\"line\":{\"color\":\"green\"},\"showlegend\":false,\"x\":[4872,4873],\"y\":[82.69,82.69],\"type\":\"scatter\"},{\"line\":{\"color\":\"green\"},\"showlegend\":false,\"x\":[4873,4874],\"y\":[82.69,82.65],\"type\":\"scatter\"},{\"line\":{\"color\":\"green\"},\"showlegend\":false,\"x\":[4874,4875],\"y\":[82.65,82.67],\"type\":\"scatter\"},{\"line\":{\"color\":\"green\"},\"showlegend\":false,\"x\":[4875,4876],\"y\":[82.67,82.64],\"type\":\"scatter\"},{\"line\":{\"color\":\"red\"},\"showlegend\":false,\"x\":[4876,4877],\"y\":[82.64,82.66],\"type\":\"scatter\"},{\"line\":{\"color\":\"green\"},\"showlegend\":false,\"x\":[4877,4878],\"y\":[82.66,82.79],\"type\":\"scatter\"},{\"line\":{\"color\":\"green\"},\"showlegend\":false,\"x\":[4878,4879],\"y\":[82.79,82.74],\"type\":\"scatter\"},{\"line\":{\"color\":\"green\"},\"showlegend\":false,\"x\":[4879,4880],\"y\":[82.74,82.76],\"type\":\"scatter\"},{\"line\":{\"color\":\"green\"},\"showlegend\":false,\"x\":[4880,4881],\"y\":[82.76,82.78],\"type\":\"scatter\"},{\"line\":{\"color\":\"green\"},\"showlegend\":false,\"x\":[4881,4882],\"y\":[82.78,82.81],\"type\":\"scatter\"},{\"line\":{\"color\":\"green\"},\"showlegend\":false,\"x\":[4882,4883],\"y\":[82.81,82.8],\"type\":\"scatter\"},{\"line\":{\"color\":\"green\"},\"showlegend\":false,\"x\":[4883,4884],\"y\":[82.8,82.78],\"type\":\"scatter\"},{\"line\":{\"color\":\"green\"},\"showlegend\":false,\"x\":[4884,4885],\"y\":[82.78,82.94],\"type\":\"scatter\"},{\"line\":{\"color\":\"green\"},\"showlegend\":false,\"x\":[4885,4886],\"y\":[82.94,82.93],\"type\":\"scatter\"},{\"line\":{\"color\":\"green\"},\"showlegend\":false,\"x\":[4886,4887],\"y\":[82.93,82.95],\"type\":\"scatter\"},{\"line\":{\"color\":\"green\"},\"showlegend\":false,\"x\":[4887,4888],\"y\":[82.95,82.96],\"type\":\"scatter\"},{\"line\":{\"color\":\"green\"},\"showlegend\":false,\"x\":[4888,4889],\"y\":[82.96,83.11],\"type\":\"scatter\"},{\"line\":{\"color\":\"green\"},\"showlegend\":false,\"x\":[4889,4890],\"y\":[83.11,83.16],\"type\":\"scatter\"},{\"line\":{\"color\":\"green\"},\"showlegend\":false,\"x\":[4890,4891],\"y\":[83.16,83.15],\"type\":\"scatter\"},{\"line\":{\"color\":\"green\"},\"showlegend\":false,\"x\":[4891,4892],\"y\":[83.15,83.16],\"type\":\"scatter\"},{\"line\":{\"color\":\"green\"},\"showlegend\":false,\"x\":[4892,4893],\"y\":[83.16,83.22],\"type\":\"scatter\"},{\"line\":{\"color\":\"green\"},\"showlegend\":false,\"x\":[4893,4894],\"y\":[83.22,83.23],\"type\":\"scatter\"},{\"line\":{\"color\":\"green\"},\"showlegend\":false,\"x\":[4894,4895],\"y\":[83.23,83.22],\"type\":\"scatter\"},{\"line\":{\"color\":\"green\"},\"showlegend\":false,\"x\":[4895,4896],\"y\":[83.22,83.24],\"type\":\"scatter\"},{\"line\":{\"color\":\"green\"},\"showlegend\":false,\"x\":[4896,4897],\"y\":[83.24,83.27],\"type\":\"scatter\"},{\"line\":{\"color\":\"green\"},\"showlegend\":false,\"x\":[4897,4898],\"y\":[83.27,83.22],\"type\":\"scatter\"},{\"line\":{\"color\":\"green\"},\"showlegend\":false,\"x\":[4898,4899],\"y\":[83.22,83.26],\"type\":\"scatter\"},{\"line\":{\"color\":\"green\"},\"showlegend\":false,\"x\":[4899,4900],\"y\":[83.26,83.27],\"type\":\"scatter\"},{\"line\":{\"color\":\"green\"},\"showlegend\":false,\"x\":[4900,4901],\"y\":[83.27,83.29],\"type\":\"scatter\"},{\"line\":{\"color\":\"green\"},\"showlegend\":false,\"x\":[4901,4902],\"y\":[83.29,83.34],\"type\":\"scatter\"},{\"line\":{\"color\":\"green\"},\"showlegend\":false,\"x\":[4902,4903],\"y\":[83.34,83.39],\"type\":\"scatter\"},{\"line\":{\"color\":\"green\"},\"showlegend\":false,\"x\":[4903,4904],\"y\":[83.39,83.37],\"type\":\"scatter\"},{\"line\":{\"color\":\"green\"},\"showlegend\":false,\"x\":[4904,4905],\"y\":[83.37,83.36],\"type\":\"scatter\"},{\"line\":{\"color\":\"green\"},\"showlegend\":false,\"x\":[4905,4906],\"y\":[83.36,83.22],\"type\":\"scatter\"},{\"line\":{\"color\":\"red\"},\"showlegend\":false,\"x\":[4906,4907],\"y\":[83.22,83.22],\"type\":\"scatter\"},{\"line\":{\"color\":\"red\"},\"showlegend\":false,\"x\":[4907,4908],\"y\":[83.22,83.23],\"type\":\"scatter\"},{\"line\":{\"color\":\"red\"},\"showlegend\":false,\"x\":[4908,4909],\"y\":[83.23,83.24],\"type\":\"scatter\"},{\"line\":{\"color\":\"red\"},\"showlegend\":false,\"x\":[4909,4910],\"y\":[83.24,83.22],\"type\":\"scatter\"},{\"line\":{\"color\":\"red\"},\"showlegend\":false,\"x\":[4910,4911],\"y\":[83.22,83.29],\"type\":\"scatter\"},{\"line\":{\"color\":\"red\"},\"showlegend\":false,\"x\":[4911,4912],\"y\":[83.29,83.31],\"type\":\"scatter\"},{\"line\":{\"color\":\"green\"},\"showlegend\":false,\"x\":[4912,4913],\"y\":[83.31,83.32],\"type\":\"scatter\"},{\"line\":{\"color\":\"green\"},\"showlegend\":false,\"x\":[4913,4914],\"y\":[83.32,83.32],\"type\":\"scatter\"},{\"line\":{\"color\":\"green\"},\"showlegend\":false,\"x\":[4914,4915],\"y\":[83.32,83.26],\"type\":\"scatter\"},{\"line\":{\"color\":\"red\"},\"showlegend\":false,\"x\":[4915,4916],\"y\":[83.26,83.31],\"type\":\"scatter\"},{\"line\":{\"color\":\"red\"},\"showlegend\":false,\"x\":[4916,4917],\"y\":[83.31,83.25],\"type\":\"scatter\"},{\"line\":{\"color\":\"red\"},\"showlegend\":false,\"x\":[4917,4918],\"y\":[83.25,83.16],\"type\":\"scatter\"},{\"line\":{\"color\":\"red\"},\"showlegend\":false,\"x\":[4918,4919],\"y\":[83.16,83.25],\"type\":\"scatter\"},{\"line\":{\"color\":\"red\"},\"showlegend\":false,\"x\":[4919,4920],\"y\":[83.25,83.3],\"type\":\"scatter\"},{\"line\":{\"color\":\"red\"},\"showlegend\":false,\"x\":[4920,4921],\"y\":[83.3,83.38],\"type\":\"scatter\"},{\"line\":{\"color\":\"green\"},\"showlegend\":false,\"x\":[4921,4922],\"y\":[83.38,83.39],\"type\":\"scatter\"},{\"line\":{\"color\":\"green\"},\"showlegend\":false,\"x\":[4922,4923],\"y\":[83.39,83.33],\"type\":\"scatter\"},{\"line\":{\"color\":\"red\"},\"showlegend\":false,\"x\":[4923,4924],\"y\":[83.33,83.33],\"type\":\"scatter\"},{\"line\":{\"color\":\"red\"},\"showlegend\":false,\"x\":[4924,4925],\"y\":[83.33,83.39],\"type\":\"scatter\"},{\"line\":{\"color\":\"green\"},\"showlegend\":false,\"x\":[4925,4926],\"y\":[83.39,83.34],\"type\":\"scatter\"},{\"line\":{\"color\":\"red\"},\"showlegend\":false,\"x\":[4926,4927],\"y\":[83.34,83.29],\"type\":\"scatter\"},{\"line\":{\"color\":\"red\"},\"showlegend\":false,\"x\":[4927,4928],\"y\":[83.29,83.3],\"type\":\"scatter\"},{\"line\":{\"color\":\"red\"},\"showlegend\":false,\"x\":[4928,4929],\"y\":[83.3,83.41],\"type\":\"scatter\"},{\"line\":{\"color\":\"green\"},\"showlegend\":false,\"x\":[4929,4930],\"y\":[83.41,83.45],\"type\":\"scatter\"},{\"line\":{\"color\":\"green\"},\"showlegend\":false,\"x\":[4930,4931],\"y\":[83.45,83.49],\"type\":\"scatter\"},{\"line\":{\"color\":\"green\"},\"showlegend\":false,\"x\":[4931,4932],\"y\":[83.49,83.53],\"type\":\"scatter\"},{\"line\":{\"color\":\"green\"},\"showlegend\":false,\"x\":[4932,4933],\"y\":[83.53,83.5],\"type\":\"scatter\"},{\"line\":{\"color\":\"green\"},\"showlegend\":false,\"x\":[4933,4934],\"y\":[83.5,83.52],\"type\":\"scatter\"},{\"line\":{\"color\":\"green\"},\"showlegend\":false,\"x\":[4934,4935],\"y\":[83.52,83.48],\"type\":\"scatter\"},{\"line\":{\"color\":\"green\"},\"showlegend\":false,\"x\":[4935,4936],\"y\":[83.48,83.52],\"type\":\"scatter\"},{\"line\":{\"color\":\"green\"},\"showlegend\":false,\"x\":[4936,4937],\"y\":[83.52,83.51],\"type\":\"scatter\"},{\"line\":{\"color\":\"green\"},\"showlegend\":false,\"x\":[4937,4938],\"y\":[83.51,83.55],\"type\":\"scatter\"},{\"line\":{\"color\":\"green\"},\"showlegend\":false,\"x\":[4938,4939],\"y\":[83.55,83.54],\"type\":\"scatter\"},{\"line\":{\"color\":\"green\"},\"showlegend\":false,\"x\":[4939,4940],\"y\":[83.54,83.54],\"type\":\"scatter\"},{\"line\":{\"color\":\"green\"},\"showlegend\":false,\"x\":[4940,4941],\"y\":[83.54,83.55],\"type\":\"scatter\"},{\"line\":{\"color\":\"green\"},\"showlegend\":false,\"x\":[4941,4942],\"y\":[83.55,83.55],\"type\":\"scatter\"},{\"line\":{\"color\":\"green\"},\"showlegend\":false,\"x\":[4942,4943],\"y\":[83.55,83.55],\"type\":\"scatter\"},{\"line\":{\"color\":\"green\"},\"showlegend\":false,\"x\":[4943,4944],\"y\":[83.55,83.53],\"type\":\"scatter\"},{\"line\":{\"color\":\"green\"},\"showlegend\":false,\"x\":[4944,4945],\"y\":[83.53,83.5],\"type\":\"scatter\"},{\"line\":{\"color\":\"red\"},\"showlegend\":false,\"x\":[4945,4946],\"y\":[83.5,83.53],\"type\":\"scatter\"},{\"line\":{\"color\":\"green\"},\"showlegend\":false,\"x\":[4946,4947],\"y\":[83.53,83.44],\"type\":\"scatter\"},{\"line\":{\"color\":\"red\"},\"showlegend\":false,\"x\":[4947,4948],\"y\":[83.44,83.37],\"type\":\"scatter\"},{\"line\":{\"color\":\"red\"},\"showlegend\":false,\"x\":[4948,4949],\"y\":[83.37,83.46],\"type\":\"scatter\"},{\"line\":{\"color\":\"red\"},\"showlegend\":false,\"x\":[4949,4950],\"y\":[83.46,83.38],\"type\":\"scatter\"},{\"line\":{\"color\":\"red\"},\"showlegend\":false,\"x\":[4950,4951],\"y\":[83.38,83.39],\"type\":\"scatter\"},{\"line\":{\"color\":\"red\"},\"showlegend\":false,\"x\":[4951,4952],\"y\":[83.39,83.35],\"type\":\"scatter\"},{\"line\":{\"color\":\"red\"},\"showlegend\":false,\"x\":[4952,4953],\"y\":[83.35,83.4],\"type\":\"scatter\"},{\"line\":{\"color\":\"red\"},\"showlegend\":false,\"x\":[4953,4954],\"y\":[83.4,83.41],\"type\":\"scatter\"},{\"line\":{\"color\":\"red\"},\"showlegend\":false,\"x\":[4954,4955],\"y\":[83.41,83.41],\"type\":\"scatter\"},{\"line\":{\"color\":\"red\"},\"showlegend\":false,\"x\":[4955,4956],\"y\":[83.41,83.4],\"type\":\"scatter\"},{\"line\":{\"color\":\"red\"},\"showlegend\":false,\"x\":[4956,4957],\"y\":[83.4,83.42],\"type\":\"scatter\"},{\"line\":{\"color\":\"red\"},\"showlegend\":false,\"x\":[4957,4958],\"y\":[83.42,83.41],\"type\":\"scatter\"},{\"line\":{\"color\":\"red\"},\"showlegend\":false,\"x\":[4958,4959],\"y\":[83.41,83.48],\"type\":\"scatter\"},{\"line\":{\"color\":\"green\"},\"showlegend\":false,\"x\":[4959,4960],\"y\":[83.48,83.48],\"type\":\"scatter\"},{\"line\":{\"color\":\"green\"},\"showlegend\":false,\"x\":[4960,4961],\"y\":[83.48,83.54],\"type\":\"scatter\"},{\"line\":{\"color\":\"green\"},\"showlegend\":false,\"x\":[4961,4962],\"y\":[83.54,83.57],\"type\":\"scatter\"},{\"line\":{\"color\":\"green\"},\"showlegend\":false,\"x\":[4962,4963],\"y\":[83.57,83.52],\"type\":\"scatter\"},{\"line\":{\"color\":\"green\"},\"showlegend\":false,\"x\":[4963,4964],\"y\":[83.52,83.51],\"type\":\"scatter\"},{\"line\":{\"color\":\"green\"},\"showlegend\":false,\"x\":[4964,4965],\"y\":[83.51,83.48],\"type\":\"scatter\"},{\"line\":{\"color\":\"green\"},\"showlegend\":false,\"x\":[4965,4966],\"y\":[83.48,83.44],\"type\":\"scatter\"},{\"line\":{\"color\":\"red\"},\"showlegend\":false,\"x\":[4966,4967],\"y\":[83.44,83.43],\"type\":\"scatter\"},{\"line\":{\"color\":\"red\"},\"showlegend\":false,\"x\":[4967,4968],\"y\":[83.43,83.42],\"type\":\"scatter\"},{\"line\":{\"color\":\"red\"},\"showlegend\":false,\"x\":[4968,4969],\"y\":[83.42,83.41],\"type\":\"scatter\"},{\"line\":{\"color\":\"red\"},\"showlegend\":false,\"x\":[4969,4970],\"y\":[83.41,83.4],\"type\":\"scatter\"},{\"line\":{\"color\":\"red\"},\"showlegend\":false,\"x\":[4970,4971],\"y\":[83.4,83.38],\"type\":\"scatter\"},{\"line\":{\"color\":\"red\"},\"showlegend\":false,\"x\":[4971,4972],\"y\":[83.38,83.36],\"type\":\"scatter\"},{\"line\":{\"color\":\"red\"},\"showlegend\":false,\"x\":[4972,4973],\"y\":[83.36,83.38],\"type\":\"scatter\"},{\"line\":{\"color\":\"red\"},\"showlegend\":false,\"x\":[4973,4974],\"y\":[83.38,83.38],\"type\":\"scatter\"},{\"line\":{\"color\":\"red\"},\"showlegend\":false,\"x\":[4974,4975],\"y\":[83.38,83.39],\"type\":\"scatter\"},{\"line\":{\"color\":\"red\"},\"showlegend\":false,\"x\":[4975,4976],\"y\":[83.39,83.33],\"type\":\"scatter\"},{\"line\":{\"color\":\"red\"},\"showlegend\":false,\"x\":[4976,4977],\"y\":[83.33,83.31],\"type\":\"scatter\"},{\"line\":{\"color\":\"red\"},\"showlegend\":false,\"x\":[4977,4978],\"y\":[83.31,83.27],\"type\":\"scatter\"},{\"line\":{\"color\":\"red\"},\"showlegend\":false,\"x\":[4978,4979],\"y\":[83.27,83.26],\"type\":\"scatter\"},{\"line\":{\"color\":\"red\"},\"showlegend\":false,\"x\":[4979,4980],\"y\":[83.26,83.27],\"type\":\"scatter\"},{\"line\":{\"color\":\"red\"},\"showlegend\":false,\"x\":[4980,4981],\"y\":[83.27,83.31],\"type\":\"scatter\"},{\"line\":{\"color\":\"red\"},\"showlegend\":false,\"x\":[4981,4982],\"y\":[83.31,83.28],\"type\":\"scatter\"},{\"line\":{\"color\":\"red\"},\"showlegend\":false,\"x\":[4982,4983],\"y\":[83.28,83.29],\"type\":\"scatter\"},{\"line\":{\"color\":\"red\"},\"showlegend\":false,\"x\":[4983,4984],\"y\":[83.29,83.27],\"type\":\"scatter\"},{\"line\":{\"color\":\"red\"},\"showlegend\":false,\"x\":[4984,4985],\"y\":[83.27,83.3],\"type\":\"scatter\"},{\"line\":{\"color\":\"red\"},\"showlegend\":false,\"x\":[4985,4986],\"y\":[83.3,83.28],\"type\":\"scatter\"},{\"line\":{\"color\":\"red\"},\"showlegend\":false,\"x\":[4986,4987],\"y\":[83.28,83.29],\"type\":\"scatter\"},{\"line\":{\"color\":\"red\"},\"showlegend\":false,\"x\":[4987,4988],\"y\":[83.29,83.29],\"type\":\"scatter\"},{\"line\":{\"color\":\"red\"},\"showlegend\":false,\"x\":[4988,4989],\"y\":[83.29,83.29],\"type\":\"scatter\"},{\"line\":{\"color\":\"green\"},\"showlegend\":false,\"x\":[4989,4990],\"y\":[83.29,83.3],\"type\":\"scatter\"},{\"line\":{\"color\":\"green\"},\"showlegend\":false,\"x\":[4990,4991],\"y\":[83.3,83.29],\"type\":\"scatter\"},{\"line\":{\"color\":\"red\"},\"showlegend\":false,\"x\":[4991,4992],\"y\":[83.29,83.3],\"type\":\"scatter\"},{\"line\":{\"color\":\"green\"},\"showlegend\":false,\"x\":[4992,4993],\"y\":[83.3,83.29],\"type\":\"scatter\"},{\"line\":{\"color\":\"red\"},\"showlegend\":false,\"x\":[4993,4994],\"y\":[83.29,83.3],\"type\":\"scatter\"}],                        {\"template\":{\"data\":{\"histogram2dcontour\":[{\"type\":\"histogram2dcontour\",\"colorbar\":{\"outlinewidth\":0,\"ticks\":\"\"},\"colorscale\":[[0.0,\"#0d0887\"],[0.1111111111111111,\"#46039f\"],[0.2222222222222222,\"#7201a8\"],[0.3333333333333333,\"#9c179e\"],[0.4444444444444444,\"#bd3786\"],[0.5555555555555556,\"#d8576b\"],[0.6666666666666666,\"#ed7953\"],[0.7777777777777778,\"#fb9f3a\"],[0.8888888888888888,\"#fdca26\"],[1.0,\"#f0f921\"]]}],\"choropleth\":[{\"type\":\"choropleth\",\"colorbar\":{\"outlinewidth\":0,\"ticks\":\"\"}}],\"histogram2d\":[{\"type\":\"histogram2d\",\"colorbar\":{\"outlinewidth\":0,\"ticks\":\"\"},\"colorscale\":[[0.0,\"#0d0887\"],[0.1111111111111111,\"#46039f\"],[0.2222222222222222,\"#7201a8\"],[0.3333333333333333,\"#9c179e\"],[0.4444444444444444,\"#bd3786\"],[0.5555555555555556,\"#d8576b\"],[0.6666666666666666,\"#ed7953\"],[0.7777777777777778,\"#fb9f3a\"],[0.8888888888888888,\"#fdca26\"],[1.0,\"#f0f921\"]]}],\"heatmap\":[{\"type\":\"heatmap\",\"colorbar\":{\"outlinewidth\":0,\"ticks\":\"\"},\"colorscale\":[[0.0,\"#0d0887\"],[0.1111111111111111,\"#46039f\"],[0.2222222222222222,\"#7201a8\"],[0.3333333333333333,\"#9c179e\"],[0.4444444444444444,\"#bd3786\"],[0.5555555555555556,\"#d8576b\"],[0.6666666666666666,\"#ed7953\"],[0.7777777777777778,\"#fb9f3a\"],[0.8888888888888888,\"#fdca26\"],[1.0,\"#f0f921\"]]}],\"heatmapgl\":[{\"type\":\"heatmapgl\",\"colorbar\":{\"outlinewidth\":0,\"ticks\":\"\"},\"colorscale\":[[0.0,\"#0d0887\"],[0.1111111111111111,\"#46039f\"],[0.2222222222222222,\"#7201a8\"],[0.3333333333333333,\"#9c179e\"],[0.4444444444444444,\"#bd3786\"],[0.5555555555555556,\"#d8576b\"],[0.6666666666666666,\"#ed7953\"],[0.7777777777777778,\"#fb9f3a\"],[0.8888888888888888,\"#fdca26\"],[1.0,\"#f0f921\"]]}],\"contourcarpet\":[{\"type\":\"contourcarpet\",\"colorbar\":{\"outlinewidth\":0,\"ticks\":\"\"}}],\"contour\":[{\"type\":\"contour\",\"colorbar\":{\"outlinewidth\":0,\"ticks\":\"\"},\"colorscale\":[[0.0,\"#0d0887\"],[0.1111111111111111,\"#46039f\"],[0.2222222222222222,\"#7201a8\"],[0.3333333333333333,\"#9c179e\"],[0.4444444444444444,\"#bd3786\"],[0.5555555555555556,\"#d8576b\"],[0.6666666666666666,\"#ed7953\"],[0.7777777777777778,\"#fb9f3a\"],[0.8888888888888888,\"#fdca26\"],[1.0,\"#f0f921\"]]}],\"surface\":[{\"type\":\"surface\",\"colorbar\":{\"outlinewidth\":0,\"ticks\":\"\"},\"colorscale\":[[0.0,\"#0d0887\"],[0.1111111111111111,\"#46039f\"],[0.2222222222222222,\"#7201a8\"],[0.3333333333333333,\"#9c179e\"],[0.4444444444444444,\"#bd3786\"],[0.5555555555555556,\"#d8576b\"],[0.6666666666666666,\"#ed7953\"],[0.7777777777777778,\"#fb9f3a\"],[0.8888888888888888,\"#fdca26\"],[1.0,\"#f0f921\"]]}],\"mesh3d\":[{\"type\":\"mesh3d\",\"colorbar\":{\"outlinewidth\":0,\"ticks\":\"\"}}],\"scatter\":[{\"fillpattern\":{\"fillmode\":\"overlay\",\"size\":10,\"solidity\":0.2},\"type\":\"scatter\"}],\"parcoords\":[{\"type\":\"parcoords\",\"line\":{\"colorbar\":{\"outlinewidth\":0,\"ticks\":\"\"}}}],\"scatterpolargl\":[{\"type\":\"scatterpolargl\",\"marker\":{\"colorbar\":{\"outlinewidth\":0,\"ticks\":\"\"}}}],\"bar\":[{\"error_x\":{\"color\":\"#2a3f5f\"},\"error_y\":{\"color\":\"#2a3f5f\"},\"marker\":{\"line\":{\"color\":\"#E5ECF6\",\"width\":0.5},\"pattern\":{\"fillmode\":\"overlay\",\"size\":10,\"solidity\":0.2}},\"type\":\"bar\"}],\"scattergeo\":[{\"type\":\"scattergeo\",\"marker\":{\"colorbar\":{\"outlinewidth\":0,\"ticks\":\"\"}}}],\"scatterpolar\":[{\"type\":\"scatterpolar\",\"marker\":{\"colorbar\":{\"outlinewidth\":0,\"ticks\":\"\"}}}],\"histogram\":[{\"marker\":{\"pattern\":{\"fillmode\":\"overlay\",\"size\":10,\"solidity\":0.2}},\"type\":\"histogram\"}],\"scattergl\":[{\"type\":\"scattergl\",\"marker\":{\"colorbar\":{\"outlinewidth\":0,\"ticks\":\"\"}}}],\"scatter3d\":[{\"type\":\"scatter3d\",\"line\":{\"colorbar\":{\"outlinewidth\":0,\"ticks\":\"\"}},\"marker\":{\"colorbar\":{\"outlinewidth\":0,\"ticks\":\"\"}}}],\"scattermapbox\":[{\"type\":\"scattermapbox\",\"marker\":{\"colorbar\":{\"outlinewidth\":0,\"ticks\":\"\"}}}],\"scatterternary\":[{\"type\":\"scatterternary\",\"marker\":{\"colorbar\":{\"outlinewidth\":0,\"ticks\":\"\"}}}],\"scattercarpet\":[{\"type\":\"scattercarpet\",\"marker\":{\"colorbar\":{\"outlinewidth\":0,\"ticks\":\"\"}}}],\"carpet\":[{\"aaxis\":{\"endlinecolor\":\"#2a3f5f\",\"gridcolor\":\"white\",\"linecolor\":\"white\",\"minorgridcolor\":\"white\",\"startlinecolor\":\"#2a3f5f\"},\"baxis\":{\"endlinecolor\":\"#2a3f5f\",\"gridcolor\":\"white\",\"linecolor\":\"white\",\"minorgridcolor\":\"white\",\"startlinecolor\":\"#2a3f5f\"},\"type\":\"carpet\"}],\"table\":[{\"cells\":{\"fill\":{\"color\":\"#EBF0F8\"},\"line\":{\"color\":\"white\"}},\"header\":{\"fill\":{\"color\":\"#C8D4E3\"},\"line\":{\"color\":\"white\"}},\"type\":\"table\"}],\"barpolar\":[{\"marker\":{\"line\":{\"color\":\"#E5ECF6\",\"width\":0.5},\"pattern\":{\"fillmode\":\"overlay\",\"size\":10,\"solidity\":0.2}},\"type\":\"barpolar\"}],\"pie\":[{\"automargin\":true,\"type\":\"pie\"}]},\"layout\":{\"autotypenumbers\":\"strict\",\"colorway\":[\"#636efa\",\"#EF553B\",\"#00cc96\",\"#ab63fa\",\"#FFA15A\",\"#19d3f3\",\"#FF6692\",\"#B6E880\",\"#FF97FF\",\"#FECB52\"],\"font\":{\"color\":\"#2a3f5f\"},\"hovermode\":\"closest\",\"hoverlabel\":{\"align\":\"left\"},\"paper_bgcolor\":\"white\",\"plot_bgcolor\":\"#E5ECF6\",\"polar\":{\"bgcolor\":\"#E5ECF6\",\"angularaxis\":{\"gridcolor\":\"white\",\"linecolor\":\"white\",\"ticks\":\"\"},\"radialaxis\":{\"gridcolor\":\"white\",\"linecolor\":\"white\",\"ticks\":\"\"}},\"ternary\":{\"bgcolor\":\"#E5ECF6\",\"aaxis\":{\"gridcolor\":\"white\",\"linecolor\":\"white\",\"ticks\":\"\"},\"baxis\":{\"gridcolor\":\"white\",\"linecolor\":\"white\",\"ticks\":\"\"},\"caxis\":{\"gridcolor\":\"white\",\"linecolor\":\"white\",\"ticks\":\"\"}},\"coloraxis\":{\"colorbar\":{\"outlinewidth\":0,\"ticks\":\"\"}},\"colorscale\":{\"sequential\":[[0.0,\"#0d0887\"],[0.1111111111111111,\"#46039f\"],[0.2222222222222222,\"#7201a8\"],[0.3333333333333333,\"#9c179e\"],[0.4444444444444444,\"#bd3786\"],[0.5555555555555556,\"#d8576b\"],[0.6666666666666666,\"#ed7953\"],[0.7777777777777778,\"#fb9f3a\"],[0.8888888888888888,\"#fdca26\"],[1.0,\"#f0f921\"]],\"sequentialminus\":[[0.0,\"#0d0887\"],[0.1111111111111111,\"#46039f\"],[0.2222222222222222,\"#7201a8\"],[0.3333333333333333,\"#9c179e\"],[0.4444444444444444,\"#bd3786\"],[0.5555555555555556,\"#d8576b\"],[0.6666666666666666,\"#ed7953\"],[0.7777777777777778,\"#fb9f3a\"],[0.8888888888888888,\"#fdca26\"],[1.0,\"#f0f921\"]],\"diverging\":[[0,\"#8e0152\"],[0.1,\"#c51b7d\"],[0.2,\"#de77ae\"],[0.3,\"#f1b6da\"],[0.4,\"#fde0ef\"],[0.5,\"#f7f7f7\"],[0.6,\"#e6f5d0\"],[0.7,\"#b8e186\"],[0.8,\"#7fbc41\"],[0.9,\"#4d9221\"],[1,\"#276419\"]]},\"xaxis\":{\"gridcolor\":\"white\",\"linecolor\":\"white\",\"ticks\":\"\",\"title\":{\"standoff\":15},\"zerolinecolor\":\"white\",\"automargin\":true,\"zerolinewidth\":2},\"yaxis\":{\"gridcolor\":\"white\",\"linecolor\":\"white\",\"ticks\":\"\",\"title\":{\"standoff\":15},\"zerolinecolor\":\"white\",\"automargin\":true,\"zerolinewidth\":2},\"scene\":{\"xaxis\":{\"backgroundcolor\":\"#E5ECF6\",\"gridcolor\":\"white\",\"linecolor\":\"white\",\"showbackground\":true,\"ticks\":\"\",\"zerolinecolor\":\"white\",\"gridwidth\":2},\"yaxis\":{\"backgroundcolor\":\"#E5ECF6\",\"gridcolor\":\"white\",\"linecolor\":\"white\",\"showbackground\":true,\"ticks\":\"\",\"zerolinecolor\":\"white\",\"gridwidth\":2},\"zaxis\":{\"backgroundcolor\":\"#E5ECF6\",\"gridcolor\":\"white\",\"linecolor\":\"white\",\"showbackground\":true,\"ticks\":\"\",\"zerolinecolor\":\"white\",\"gridwidth\":2}},\"shapedefaults\":{\"line\":{\"color\":\"#2a3f5f\"}},\"annotationdefaults\":{\"arrowcolor\":\"#2a3f5f\",\"arrowhead\":0,\"arrowwidth\":1},\"geo\":{\"bgcolor\":\"white\",\"landcolor\":\"#E5ECF6\",\"subunitcolor\":\"white\",\"showland\":true,\"showlakes\":true,\"lakecolor\":\"white\"},\"title\":{\"x\":0.05},\"mapbox\":{\"style\":\"light\"}}},\"xaxis\":{\"title\":{\"text\":\"Indeks\"}},\"yaxis\":{\"title\":{\"text\":\"Close\"}},\"title\":{\"text\":\"Wykres liniowy z kolorami\"}},                        {\"responsive\": true}                    ).then(function(){\n",
              "                            \n",
              "var gd = document.getElementById('ddc85497-79fe-44c4-bfcf-dee2f213f1ae');\n",
              "var x = new MutationObserver(function (mutations, observer) {{\n",
              "        var display = window.getComputedStyle(gd).display;\n",
              "        if (!display || display === 'none') {{\n",
              "            console.log([gd, 'removed!']);\n",
              "            Plotly.purge(gd);\n",
              "            observer.disconnect();\n",
              "        }}\n",
              "}});\n",
              "\n",
              "// Listen for the removal of the full notebook cells\n",
              "var notebookContainer = gd.closest('#notebook-container');\n",
              "if (notebookContainer) {{\n",
              "    x.observe(notebookContainer, {childList: true});\n",
              "}}\n",
              "\n",
              "// Listen for the clearing of the current output cell\n",
              "var outputEl = gd.closest('.output');\n",
              "if (outputEl) {{\n",
              "    x.observe(outputEl, {childList: true});\n",
              "}}\n",
              "\n",
              "                        })                };                            </script>        </div>\n",
              "</body>\n",
              "</html>"
            ]
          },
          "metadata": {}
        }
      ]
    },
    {
      "cell_type": "code",
      "source": [
        "# Profit\n",
        "sum = 0;\n",
        "for i in range(0, len(df)):\n",
        "  if ((i-1) > 0):\n",
        "    if df.at[i,'Sell'] == 1:\n",
        "      sum += (df.at[i,'Price'] - df.at[i-1,'Price'])*(-1)\n",
        "    elif df.at[i,'Buy'] == 1:\n",
        "      sum += (df.at[i,'Price'] - df.at[i-1,'Price'])\n",
        "    if df.at[i,'Sell'] != df.at[i-1,'Sell']:\n",
        "      sum -= 0.03\n",
        "\n",
        "print(sum)"
      ],
      "metadata": {
        "id": "6BLFVuISXDAv",
        "outputId": "bbc64668-db71-49d9-eddd-86dd61d5e4f5",
        "colab": {
          "base_uri": "https://localhost:8080/"
        }
      },
      "execution_count": 100,
      "outputs": [
        {
          "output_type": "stream",
          "name": "stdout",
          "text": [
            "-27.930000000000412\n"
          ]
        }
      ]
    },
    {
      "cell_type": "markdown",
      "source": [
        "### <a name='a7'></a> Predykcja na podstawie modelu:\n",
        "\n",
        "\n",
        "\n",
        "1.   **model.evaluate(y_true, y_pred)** - pozwala obliczyć metryki modelu\n",
        "2.   **model.predict_classes()** - pozwala zwrócić odpowiednio przewidziane klasy\n",
        "3.   **model.predict_proba(), model.predict()** - pozwala zwrócić prawdopodobieństwo danej klasy\n",
        "\n",
        "\n",
        "\n"
      ],
      "metadata": {
        "id": "hZjlGQgPw2-G"
      }
    },
    {
      "cell_type": "code",
      "source": [
        "predictions = model.predict(x_test)\n",
        "predictions"
      ],
      "metadata": {
        "id": "Hnq1sJrZxPmf"
      },
      "execution_count": null,
      "outputs": []
    },
    {
      "cell_type": "code",
      "source": [
        "# predictions_cls = model.predict_classes(X_test)\n",
        "predictions_cls = np.argmax(model.predict(x_test), axis=-1)\n",
        "predictions_cls"
      ],
      "metadata": {
        "id": "--gCx91W0Csa"
      },
      "execution_count": null,
      "outputs": []
    },
    {
      "cell_type": "code",
      "source": [
        "metrics = pd.DataFrame(history.history)\n",
        "metrics['epoch'] = history.epoch\n",
        "metrics"
      ],
      "metadata": {
        "id": "YLoVcniO6toN"
      },
      "execution_count": null,
      "outputs": []
    },
    {
      "cell_type": "code",
      "source": [
        "history = model.fit(x_train, y_train, epochs=10, batch_size=32, validation_split=0.2)"
      ],
      "metadata": {
        "id": "GLQ4_vcn6oQa"
      },
      "execution_count": null,
      "outputs": []
    },
    {
      "cell_type": "code",
      "source": [
        "model = tf.keras.models.load_model('lstm_Model.keras')\n",
        "model.summary()"
      ],
      "metadata": {
        "id": "VTcKTFtqDz05"
      },
      "execution_count": null,
      "outputs": []
    },
    {
      "cell_type": "markdown",
      "source": [
        "### <a name='a5'></a> Przykład budowy modelu z kursu"
      ],
      "metadata": {
        "id": "L1dMlQcAxrBa"
      }
    },
    {
      "cell_type": "code",
      "source": [
        "# model = Sequential()\n",
        "# model.add(Flatten(input_shape=(28, 28)))\n",
        "# model.add(Dense(units=128, activation='relu'))\n",
        "# model.add(Dense(units=10, activation='softmax'))\n",
        "\n",
        "# model.compile(optimizer='rmsprop',\n",
        "#               loss='categorical_crossentropy',\n",
        "#               metrics=['accuracy'])\n",
        "\n",
        "# model.summary()\n",
        "model = Sequential()\n",
        "model.add(LstmLayer)\n",
        "model.add(Dense(units=2, activation='softmax')) # <----- output layer\n",
        "\n",
        "model.compile(optimizer='rmsprop',\n",
        "              loss='categorical_crossentropy',\n",
        "              metrics=['accuracy'])\n",
        "\n",
        "model.summary()"
      ],
      "metadata": {
        "id": "XXUBIQvdsdra"
      },
      "execution_count": null,
      "outputs": []
    },
    {
      "cell_type": "markdown",
      "source": [
        "### <a name='a8'></a> Zip file"
      ],
      "metadata": {
        "id": "EOfWIf-3-UsM"
      }
    },
    {
      "cell_type": "code",
      "source": [
        "from zipfile import ZipFile\n",
        "\n",
        "zip = ZipFile('my_python_files.zip','w')\n",
        "zip.write('lstm_Model.keras')"
      ],
      "metadata": {
        "id": "BzXru1KVD_H9"
      },
      "execution_count": null,
      "outputs": []
    },
    {
      "cell_type": "markdown",
      "source": [
        "### <a name='a9'></a> Extract tar gz"
      ],
      "metadata": {
        "id": "qwJG5yS6PU-V"
      }
    },
    {
      "cell_type": "code",
      "source": [
        "# importing the \"tarfile\" module\n",
        "import tarfile\n",
        "\n",
        "# open file\n",
        "file = tarfile.open('1_150x9.tar.gz')\n",
        "\n",
        "# extracting a specific file\n",
        "file.extractall(path='./1_150x9/')\n",
        "\n",
        "file.close()"
      ],
      "metadata": {
        "id": "vGD-1oYzPE3z"
      },
      "execution_count": 1,
      "outputs": []
    },
    {
      "cell_type": "code",
      "source": [],
      "metadata": {
        "id": "aVLlJ_ue-zvq"
      },
      "execution_count": null,
      "outputs": []
    }
  ]
}