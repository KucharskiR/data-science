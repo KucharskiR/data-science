{
  "nbformat": 4,
  "nbformat_minor": 0,
  "metadata": {
    "colab": {
      "provenance": [],
      "include_colab_link": true
    },
    "kernelspec": {
      "name": "python3",
      "display_name": "Python 3"
    },
    "language_info": {
      "name": "python"
    }
  },
  "cells": [
    {
      "cell_type": "markdown",
      "metadata": {
        "id": "view-in-github",
        "colab_type": "text"
      },
      "source": [
        "<a href=\"https://colab.research.google.com/github/KucharskiR/data-science/blob/main/trained/001.ipynb\" target=\"_parent\"><img src=\"https://colab.research.google.com/assets/colab-badge.svg\" alt=\"Open In Colab\"/></a>"
      ]
    },
    {
      "cell_type": "markdown",
      "source": [],
      "metadata": {
        "id": "WuSMzASeSIkv"
      }
    },
    {
      "cell_type": "markdown",
      "source": [
        "### **Sieć neuronowa LSTM**\n",
        "\n",
        "Budowa sieci neuronowej LSTM\n",
        "\n",
        "#### **Spis treści:**\n",
        "1. [Import bibliotek](#a0)\n",
        "2. [Przygotowanie danych](#a1)\n",
        "3. [Konfiguracja LSTM layer](#a2)\n",
        "4. [Główny model](#a3)\n",
        "5. [Klasyfikacja](#a4)\n",
        "6. [Przykład budowy modelu z kursu](#a5)\n",
        "7. [Ocena modelu + wykresy](#a6)\n",
        "8. [Predykcja na podstawie modelu](#a7)\n",
        "9. [Zip file](#a8)\n",
        "10. [Extract .tar.gz](#a9)"
      ],
      "metadata": {
        "id": "9_IXOH1xSAE6"
      }
    },
    {
      "cell_type": "markdown",
      "source": [
        "### <a name='a0'></a> Import bibliotek"
      ],
      "metadata": {
        "id": "R8c4m6mdRsCn"
      }
    },
    {
      "cell_type": "code",
      "source": [
        "import csv\n",
        "import numpy as np\n",
        "import pandas as pd\n",
        "import tensorflow as tf\n",
        "from sklearn.model_selection import train_test_split\n",
        "from sklearn.preprocessing import MinMaxScaler\n",
        "from keras.models import Sequential\n",
        "from keras.layers import LSTM\n",
        "from keras.layers import Dense\n",
        "from keras.optimizers import Adam\n",
        "from keras.callbacks import LambdaCallback\n",
        "from keras.initializers import TruncatedNormal\n",
        "from keras.models import save_model\n",
        "import matplotlib.pyplot as plt\n",
        "from sklearn.metrics import confusion_matrix, accuracy_score, roc_auc_score, roc_curve\n",
        "import os\n",
        "\n",
        "np.set_printoptions(precision=12, suppress=True, linewidth=150)\n",
        "pd.options.display.float_format = '{:.6f}'.format\n",
        "# sns.set()   <--- seaborn\n",
        "print(np.__version__)"
      ],
      "metadata": {
        "id": "oscxr8yAP1qs",
        "colab": {
          "base_uri": "https://localhost:8080/"
        },
        "outputId": "bb0439d0-1bdf-40c8-a469-ae6f6b2efc1e"
      },
      "execution_count": 1,
      "outputs": [
        {
          "output_type": "stream",
          "name": "stdout",
          "text": [
            "1.25.2\n"
          ]
        }
      ]
    },
    {
      "cell_type": "markdown",
      "source": [
        "### <a name='a1'></a> Przygotowanie danych"
      ],
      "metadata": {
        "id": "SRGMRUlBQdgu"
      }
    },
    {
      "cell_type": "code",
      "source": [
        "# Epochs\n",
        "epochs = 5"
      ],
      "metadata": {
        "id": "U1ea4fFgzZSs"
      },
      "execution_count": 256,
      "outputs": []
    },
    {
      "cell_type": "code",
      "source": [
        "# Assuming there are three features in your data\n",
        "num_labels = 2\n",
        "timestepsPerSample = 150\n",
        "batch = 32"
      ],
      "metadata": {
        "id": "RPfYadvw1QjV"
      },
      "execution_count": 257,
      "outputs": []
    },
    {
      "cell_type": "code",
      "source": [
        "# Replace 'your_file.csv' with the actual file path\n",
        "file_features = './1_150x9/1_150x9f.csv'\n",
        "file_labels = './1_150x9/1_150x9l.csv'\n",
        "\n",
        "# Specify the CSV file name\n",
        "csv_file_name = 'my_data1.csv'\n",
        "\n",
        "# Read the .csv file and create an array\n",
        "data_strings = np.genfromtxt(file_features, delimiter=';')\n",
        "labels_strings = np.genfromtxt(file_labels,delimiter=';')"
      ],
      "metadata": {
        "id": "ZpRmwBm5dg36"
      },
      "execution_count": 4,
      "outputs": []
    },
    {
      "cell_type": "code",
      "source": [
        "# Wycinanie wybranych kolumn\n",
        "# data_s = data_strings[:,[0,2,3,4,5,6,7,8]]\n",
        "data_s = data_strings[:,[0,4,5,8]]\n",
        "num_features = data_s.shape[1]\n",
        "print(data_strings[:3])\n",
        "print(data_s[:3])"
      ],
      "metadata": {
        "colab": {
          "base_uri": "https://localhost:8080/"
        },
        "id": "1DaCMgIUTOZJ",
        "outputId": "2e321646-eea2-4fff-ca04-498e838c365d"
      },
      "execution_count": 258,
      "outputs": [
        {
          "output_type": "stream",
          "name": "stdout",
          "text": [
            "[[-0.07371   0.001137  0.01742  -0.0145   -0.06481   0.08029  -0.11523   0.10792   0.989   ]\n",
            " [-0.17048   0.007527  0.019168 -0.01685  -0.10209  -0.44286  -0.18144   0.01512   0.94915 ]\n",
            " [-0.17888   0.007856  0.018207 -0.01051  -0.09147  -0.71242  -0.25967  -0.04955   0.76432 ]]\n",
            "[[-0.07371 -0.06481  0.08029  0.989  ]\n",
            " [-0.17048 -0.10209 -0.44286  0.94915]\n",
            " [-0.17888 -0.09147 -0.71242  0.76432]]\n"
          ]
        }
      ]
    },
    {
      "cell_type": "code",
      "source": [
        "# Convert from strings to float and int\n",
        "X = data_s.astype(float).reshape((-1,timestepsPerSample,num_features))\n",
        "Y = labels_strings.astype(float).reshape((-1,3))\n",
        "print(X.shape)\n",
        "print(Y.shape)"
      ],
      "metadata": {
        "colab": {
          "base_uri": "https://localhost:8080/"
        },
        "id": "sXAmO91iVIsZ",
        "outputId": "e231bed4-f293-406e-cdcb-7314208ea239"
      },
      "execution_count": 259,
      "outputs": [
        {
          "output_type": "stream",
          "name": "stdout",
          "text": [
            "(33300, 150, 4)\n",
            "(33300, 3)\n"
          ]
        }
      ]
    },
    {
      "cell_type": "code",
      "source": [
        "# Modification from imported to new size\n",
        "X_mod = X[:10000,130:]\n",
        "Y_mod = Y[:10000]\n",
        "timestepsPerSample = X_mod.shape[1]\n",
        "print(X_mod.shape)\n",
        "print(Y_mod.shape)\n",
        "print(X_mod[:1])\n",
        "# print(X[:1])"
      ],
      "metadata": {
        "colab": {
          "base_uri": "https://localhost:8080/"
        },
        "id": "8q9JeLLNkIf0",
        "outputId": "61887b91-fbe1-4464-86ac-925592a77f1f"
      },
      "execution_count": 260,
      "outputs": [
        {
          "output_type": "stream",
          "name": "stdout",
          "text": [
            "(10000, 20, 4)\n",
            "(10000, 3)\n",
            "[[[-0.10312 -0.03733 -0.73913  0.99668]\n",
            "  [-0.00252 -0.03436 -0.51402  0.99574]\n",
            "  [ 0.0215  -0.04084 -0.30769  0.99498]\n",
            "  [ 0.06953 -0.0703   0.11111  0.99477]\n",
            "  [-0.00904 -0.09481  0.31579  0.99398]\n",
            "  [-0.00904 -0.06843  0.34375  0.99347]\n",
            "  [ 0.08219 -0.09397  0.2549   0.99421]\n",
            "  [ 0.08219 -0.11162  0.38462  0.99497]\n",
            "  [ 0.03565 -0.06563  0.5      0.99527]\n",
            "  [ 0.03565 -0.09871  0.27273  0.99548]\n",
            "  [ 0.00232 -0.0933  -0.0303   0.99534]\n",
            "  [-0.01475 -0.09204 -0.25     0.99506]\n",
            "  [ 0.08586 -0.08117 -0.03448  0.99544]\n",
            "  [ 0.08586 -0.11801  0.24138  0.99579]\n",
            "  [ 0.00854 -0.16035  0.33333  0.99566]\n",
            "  [ 0.02719 -0.1198   0.       0.99559]\n",
            "  [ 0.02719 -0.11146 -0.22581  0.99556]\n",
            "  [ 0.00526 -0.00849 -0.31034  0.99546]\n",
            "  [-0.03893  0.02978 -0.42857  0.99514]\n",
            "  [-0.0149   0.14187 -0.28571  0.99497]]]\n"
          ]
        }
      ]
    },
    {
      "cell_type": "code",
      "source": [
        "# splitting the dataset 75% for training and 25% testing\n",
        "# X_train, X_test, y_train, y_test = train_test_split(X,Y, test_size=0.2, random_state=42)\n",
        "x_train, x_test, Y_train, Y_test = train_test_split(X_mod,Y_mod, test_size=0.15, shuffle=False)\n",
        "print(x_train.shape)\n",
        "# print(x_train[:5])"
      ],
      "metadata": {
        "id": "7Nj3hWqDQb-T",
        "colab": {
          "base_uri": "https://localhost:8080/"
        },
        "outputId": "d5e63229-6bf0-4da2-d07e-74ca277d6fb4"
      },
      "execution_count": 305,
      "outputs": [
        {
          "output_type": "stream",
          "name": "stdout",
          "text": [
            "(8500, 20, 4)\n"
          ]
        }
      ]
    },
    {
      "cell_type": "code",
      "source": [
        "y_train = Y_train[:, 0:2]\n",
        "y_test = Y_test[:, 0:2]\n",
        "print(y_train[:2])\n",
        "print(y_test[:2])"
      ],
      "metadata": {
        "id": "iCXnu_I_kcXB",
        "outputId": "877b0728-15f0-404c-f2fe-83453fa0b95a",
        "colab": {
          "base_uri": "https://localhost:8080/"
        }
      },
      "execution_count": 306,
      "outputs": [
        {
          "output_type": "stream",
          "name": "stdout",
          "text": [
            "[[0. 1.]\n",
            " [0. 1.]]\n",
            "[[0. 1.]\n",
            " [0. 1.]]\n"
          ]
        }
      ]
    },
    {
      "cell_type": "markdown",
      "source": [
        "### <a name='a4'></a> Konfiguracja LSTM layer"
      ],
      "metadata": {
        "id": "8HqOhfTgQsYb"
      }
    },
    {
      "cell_type": "code",
      "source": [
        "LstmLayer = LSTM(\n",
        "    units=600,\n",
        "    activation=\"tanh\",\n",
        "    recurrent_activation=\"sigmoid\",\n",
        "    use_bias=True,\n",
        "    kernel_initializer=\"glorot_uniform\",\n",
        "    recurrent_initializer=\"orthogonal\",\n",
        "    bias_initializer=\"zeros\",\n",
        "    unit_forget_bias=True,\n",
        "    kernel_regularizer=None,\n",
        "    recurrent_regularizer=None,\n",
        "    bias_regularizer=None,\n",
        "    activity_regularizer=None,\n",
        "    kernel_constraint=None,\n",
        "    recurrent_constraint=None,\n",
        "    bias_constraint=None,\n",
        "    dropout=0.0,\n",
        "    recurrent_dropout=0.0,\n",
        "    seed=None,\n",
        "    return_sequences=False,\n",
        "    return_state=False,\n",
        "    go_backwards=False,\n",
        "    stateful=False,\n",
        "    unroll=False,\n",
        "    input_shape=(x_train.shape[1],x_train.shape[2])\n",
        ")"
      ],
      "metadata": {
        "id": "c_nNj1oIQRZ8"
      },
      "execution_count": 307,
      "outputs": []
    },
    {
      "cell_type": "markdown",
      "source": [
        "### <a name='a3'></a> Główny model"
      ],
      "metadata": {
        "id": "JtbGqmW8Q49l"
      }
    },
    {
      "cell_type": "code",
      "source": [
        "# Optimizer decay\n",
        "num_samples = x_train.shape[0]\n",
        "STEPS_PER_EPOCH = num_samples/batch\n",
        "num_samples\n",
        "print(f\"Timesteps: {timestepsPerSample}\")\n",
        "print(f\"Num Samples: {num_samples}\")\n",
        "print(f\"Num features: {num_features}\")"
      ],
      "metadata": {
        "colab": {
          "base_uri": "https://localhost:8080/"
        },
        "id": "82GpoNe4x0sR",
        "outputId": "72f25879-d095-4cf3-c289-ee20d49f29c8"
      },
      "execution_count": 308,
      "outputs": [
        {
          "output_type": "stream",
          "name": "stdout",
          "text": [
            "Timesteps: 20\n",
            "Num Samples: 8500\n",
            "Num features: 4\n"
          ]
        }
      ]
    },
    {
      "cell_type": "code",
      "source": [
        "model = Sequential() # initializing model\n",
        "\n",
        "# input layer and LSTM layer with 50 neurons\n",
        "# lst.add(LSTM(units=300, return_sequences=False, input_shape=(x_train.shape[1],x_train.shape[2])))\n",
        "model.add(LstmLayer)\n",
        "# model.add(Dense(50, activation='relu'))\n",
        "# model.add(Dense(100, activation='relu'))\n",
        "# model.add(Dense(20, activation='relu'))\n",
        "# outpute layer with sigmoid activation\n",
        "model.add(Dense(num_labels, activation='sigmoid'))\n",
        "\n",
        "# lr_schedule = tf.keras.optimizers.schedules.InverseTimeDecay(\n",
        "lr_schedule = tf.keras.optimizers.schedules.ExponentialDecay(\n",
        "  0.001,\n",
        "  decay_steps=STEPS_PER_EPOCH*100,\n",
        "  decay_rate=0.9,\n",
        "  staircase=False)\n",
        "\n",
        "def get_optimizer():\n",
        "  # return tf.keras.optimizers.Adam(learning_rate=0.001)\n",
        "  return tf.keras.optimizers.Adam(learning_rate= lr_schedule)\n",
        "\n",
        "optimizer = get_optimizer()\n",
        "\n",
        "# defining loss function, optimizer, metrics and then compiling model\n",
        "model.compile(loss='binary_crossentropy',optimizer=optimizer,metrics=['accuracy'])\n",
        "model.summary()"
      ],
      "metadata": {
        "id": "yxpq8IoogFdl",
        "colab": {
          "base_uri": "https://localhost:8080/"
        },
        "outputId": "a67879d0-0919-4c64-f06f-b58076bec179"
      },
      "execution_count": 309,
      "outputs": [
        {
          "output_type": "stream",
          "name": "stdout",
          "text": [
            "Model: \"sequential_18\"\n",
            "_________________________________________________________________\n",
            " Layer (type)                Output Shape              Param #   \n",
            "=================================================================\n",
            " lstm_14 (LSTM)              (None, 600)               1452000   \n",
            "                                                                 \n",
            " dense_47 (Dense)            (None, 2)                 1202      \n",
            "                                                                 \n",
            "=================================================================\n",
            "Total params: 1453202 (5.54 MB)\n",
            "Trainable params: 1453202 (5.54 MB)\n",
            "Non-trainable params: 0 (0.00 Byte)\n",
            "_________________________________________________________________\n"
          ]
        }
      ]
    },
    {
      "cell_type": "markdown",
      "source": [
        "### Training"
      ],
      "metadata": {
        "id": "mn7ZgX4wj8-T"
      }
    },
    {
      "cell_type": "code",
      "source": [
        "# training the model on training dataset\n",
        "# history = lst.fit(x_train, y_train, epochs=epochs, batch_size=batch,validation_split=0.2)\n",
        "history = model.fit(x_train, y_train, epochs=epochs, batch_size=batch, validation_data=(x_test, y_test))\n",
        "\n",
        "# Save model\n",
        "model.save(\"1_150x_trained.h5\", overwrite=True, save_format='h5')\n",
        "\n",
        "# predicting target attribute on testing dataset\n",
        "predict = model.predict(x_test)\n",
        "# predict = np.argmax(lst.predict(x_test), axis=-1)"
      ],
      "metadata": {
        "id": "ckxOaCSvhpcB",
        "colab": {
          "base_uri": "https://localhost:8080/"
        },
        "outputId": "1173c3c0-30ea-4740-e7fd-0e60c2e0e819"
      },
      "execution_count": 310,
      "outputs": [
        {
          "output_type": "stream",
          "name": "stdout",
          "text": [
            "Epoch 1/5\n",
            "266/266 [==============================] - 73s 261ms/step - loss: 0.6093 - accuracy: 0.6731 - val_loss: 0.5852 - val_accuracy: 0.7053\n",
            "Epoch 2/5\n",
            "266/266 [==============================] - 66s 246ms/step - loss: 0.5825 - accuracy: 0.6958 - val_loss: 0.5784 - val_accuracy: 0.6973\n",
            "Epoch 3/5\n",
            "266/266 [==============================] - 67s 254ms/step - loss: 0.5734 - accuracy: 0.7040 - val_loss: 0.5853 - val_accuracy: 0.6927\n",
            "Epoch 4/5\n",
            "266/266 [==============================] - 70s 263ms/step - loss: 0.5705 - accuracy: 0.7054 - val_loss: 0.5709 - val_accuracy: 0.6993\n",
            "Epoch 5/5\n",
            "266/266 [==============================] - 66s 247ms/step - loss: 0.5681 - accuracy: 0.7047 - val_loss: 0.5704 - val_accuracy: 0.7073\n"
          ]
        },
        {
          "output_type": "stream",
          "name": "stderr",
          "text": [
            "/usr/local/lib/python3.10/dist-packages/keras/src/engine/training.py:3103: UserWarning:\n",
            "\n",
            "You are saving your model as an HDF5 file via `model.save()`. This file format is considered legacy. We recommend using instead the native Keras format, e.g. `model.save('my_model.keras')`.\n",
            "\n"
          ]
        },
        {
          "output_type": "stream",
          "name": "stdout",
          "text": [
            "47/47 [==============================] - 5s 98ms/step\n"
          ]
        }
      ]
    },
    {
      "cell_type": "code",
      "execution_count": 311,
      "metadata": {
        "id": "51o6kObaoKAk",
        "colab": {
          "base_uri": "https://localhost:8080/"
        },
        "outputId": "2af41b64-e802-4202-fc88-0f9b58878738"
      },
      "outputs": [
        {
          "output_type": "stream",
          "name": "stdout",
          "text": [
            "[[0.327067911625 0.676469802856 0.             1.            ]\n",
            " [0.379106253386 0.625310659409 0.             1.            ]\n",
            " [0.482015907764 0.522036373615 0.             1.            ]\n",
            " ...\n",
            " [0.781472504139 0.222117513418 1.             0.            ]\n",
            " [0.683960258961 0.320381373167 1.             0.            ]\n",
            " [0.640357255936 0.36431440711  1.             0.            ]]\n",
            "47/47 [==============================] - 3s 62ms/step - loss: 0.5704 - accuracy: 0.7073\n",
            "Test results - Loss: 0.5704068541526794 - Accuracy: 70.73333263397217%\n"
          ]
        }
      ],
      "source": [
        "# Set print options to suppress scientific notation\n",
        "np.set_printoptions(suppress=True)\n",
        "\n",
        "# Concatenate arrays\n",
        "result = np.hstack((predict, y_test))\n",
        "print(result)\n",
        "\n",
        "test_results = model.evaluate(x_test, y_test, verbose=1)\n",
        "print(f'Test results - Loss: {test_results[0]} - Accuracy: {test_results[1]*100}%')\n",
        "\n",
        "# # Create a DataFrame from the 2D array\n",
        "# df = pd.DataFrame(predict, columns=['Column1', 'Column2'])\n",
        "\n",
        "# # Export the DataFrame to CSV with semicolon as the delimiter and avoiding scientific notation\n",
        "# # df.to_csv(csv_file_name, sep=';', index=False, float_format='%.0f')\n",
        "# df.to_csv(csv_file_name, sep=';', index=False)\n",
        "\n",
        "# # Read the CSV file into a DataFrame without header\n",
        "# df = pd.read_csv(csv_file_name, sep=';', header=None)\n",
        "\n",
        "# # Drop the first row containing data\n",
        "# df = df.iloc[1:]\n",
        "\n",
        "# # Save the modified DataFrame back to the CSV file without header\n",
        "# df.to_csv(csv_file_name, sep=';', index=False, header=False)\n",
        "\n",
        "# print(f'CSV file name: {csv_file_name}.')\n",
        "\n"
      ]
    },
    {
      "cell_type": "markdown",
      "source": [
        "### <a name='a4'></a> Predict i Klasyfikacja"
      ],
      "metadata": {
        "id": "Gi3IESNbmXQ2"
      }
    },
    {
      "cell_type": "code",
      "source": [
        "predict = model.predict(x_test)\n",
        "predict[:3]"
      ],
      "metadata": {
        "id": "QpZVxifpko37",
        "colab": {
          "base_uri": "https://localhost:8080/"
        },
        "outputId": "0056c822-66fb-4170-8cdf-24b7868b8519"
      },
      "execution_count": 312,
      "outputs": [
        {
          "output_type": "stream",
          "name": "stdout",
          "text": [
            "47/47 [==============================] - 5s 107ms/step\n"
          ]
        },
        {
          "output_type": "execute_result",
          "data": {
            "text/plain": [
              "array([[0.3270679 , 0.6764698 ],\n",
              "       [0.37910625, 0.62531066],\n",
              "       [0.4820159 , 0.5220364 ]], dtype=float32)"
            ]
          },
          "metadata": {},
          "execution_count": 312
        }
      ]
    },
    {
      "cell_type": "code",
      "source": [
        "# np.info(predict)\n",
        "# np.where(y_pred > threshold, 1,0)\n",
        "predict_classes = predict\n",
        "# predict_classes = np.argmax(predict_classes, axis=-1)\n",
        "predict_classes = np.where(predict > 0.5, 1,0)\n",
        "np.info(predict_classes)\n",
        "predict_classes[:3]\n",
        "# predict"
      ],
      "metadata": {
        "id": "WqQZNp_UhtfY",
        "colab": {
          "base_uri": "https://localhost:8080/"
        },
        "outputId": "219345d6-5431-477f-bd45-fc71a87a7bf7"
      },
      "execution_count": 313,
      "outputs": [
        {
          "output_type": "stream",
          "name": "stdout",
          "text": [
            "class:  ndarray\n",
            "shape:  (1500, 2)\n",
            "strides:  (16, 8)\n",
            "itemsize:  8\n",
            "aligned:  True\n",
            "contiguous:  True\n",
            "fortran:  False\n",
            "data pointer: 0x5b192c6d9930\n",
            "byteorder:  little\n",
            "byteswap:  False\n",
            "type: int64\n"
          ]
        },
        {
          "output_type": "execute_result",
          "data": {
            "text/plain": [
              "array([[0, 1],\n",
              "       [0, 1],\n",
              "       [0, 1]])"
            ]
          },
          "metadata": {},
          "execution_count": 313
        }
      ]
    },
    {
      "cell_type": "markdown",
      "source": [
        "**epochs** - ile razy zestaw treningowy zostanie przetworzony przez model. Przy każdej iteracji optymalizator próbuje dopasować wagi, aby funkcja celu została zminimalizowana.\n",
        "\n",
        "**batch_size** - liczba przykładów treningowych po której następuje aktualizacji wag\n",
        "\n",
        "**validation_split** - procent danych użytych do walidacji"
      ],
      "metadata": {
        "id": "iP8wBH2x6zN6"
      }
    },
    {
      "cell_type": "code",
      "source": [
        "metrics = pd.DataFrame(history.history)\n",
        "metrics['epoch'] = history.epoch\n",
        "metrics[:3]"
      ],
      "metadata": {
        "id": "Id7wOgRSPxgb",
        "colab": {
          "base_uri": "https://localhost:8080/",
          "height": 143
        },
        "outputId": "80299626-6f09-4a3d-a6e7-6468709fd90a"
      },
      "execution_count": 314,
      "outputs": [
        {
          "output_type": "execute_result",
          "data": {
            "text/plain": [
              "      loss  accuracy  val_loss  val_accuracy  epoch\n",
              "0 0.609282  0.673059  0.585209      0.705333      0\n",
              "1 0.582526  0.695765  0.578353      0.697333      1\n",
              "2 0.573397  0.704000  0.585326      0.692667      2"
            ],
            "text/html": [
              "\n",
              "  <div id=\"df-4ee39915-1e9c-47f2-92b7-3508797ce917\" class=\"colab-df-container\">\n",
              "    <div>\n",
              "<style scoped>\n",
              "    .dataframe tbody tr th:only-of-type {\n",
              "        vertical-align: middle;\n",
              "    }\n",
              "\n",
              "    .dataframe tbody tr th {\n",
              "        vertical-align: top;\n",
              "    }\n",
              "\n",
              "    .dataframe thead th {\n",
              "        text-align: right;\n",
              "    }\n",
              "</style>\n",
              "<table border=\"1\" class=\"dataframe\">\n",
              "  <thead>\n",
              "    <tr style=\"text-align: right;\">\n",
              "      <th></th>\n",
              "      <th>loss</th>\n",
              "      <th>accuracy</th>\n",
              "      <th>val_loss</th>\n",
              "      <th>val_accuracy</th>\n",
              "      <th>epoch</th>\n",
              "    </tr>\n",
              "  </thead>\n",
              "  <tbody>\n",
              "    <tr>\n",
              "      <th>0</th>\n",
              "      <td>0.609282</td>\n",
              "      <td>0.673059</td>\n",
              "      <td>0.585209</td>\n",
              "      <td>0.705333</td>\n",
              "      <td>0</td>\n",
              "    </tr>\n",
              "    <tr>\n",
              "      <th>1</th>\n",
              "      <td>0.582526</td>\n",
              "      <td>0.695765</td>\n",
              "      <td>0.578353</td>\n",
              "      <td>0.697333</td>\n",
              "      <td>1</td>\n",
              "    </tr>\n",
              "    <tr>\n",
              "      <th>2</th>\n",
              "      <td>0.573397</td>\n",
              "      <td>0.704000</td>\n",
              "      <td>0.585326</td>\n",
              "      <td>0.692667</td>\n",
              "      <td>2</td>\n",
              "    </tr>\n",
              "  </tbody>\n",
              "</table>\n",
              "</div>\n",
              "    <div class=\"colab-df-buttons\">\n",
              "\n",
              "  <div class=\"colab-df-container\">\n",
              "    <button class=\"colab-df-convert\" onclick=\"convertToInteractive('df-4ee39915-1e9c-47f2-92b7-3508797ce917')\"\n",
              "            title=\"Convert this dataframe to an interactive table.\"\n",
              "            style=\"display:none;\">\n",
              "\n",
              "  <svg xmlns=\"http://www.w3.org/2000/svg\" height=\"24px\" viewBox=\"0 -960 960 960\">\n",
              "    <path d=\"M120-120v-720h720v720H120Zm60-500h600v-160H180v160Zm220 220h160v-160H400v160Zm0 220h160v-160H400v160ZM180-400h160v-160H180v160Zm440 0h160v-160H620v160ZM180-180h160v-160H180v160Zm440 0h160v-160H620v160Z\"/>\n",
              "  </svg>\n",
              "    </button>\n",
              "\n",
              "  <style>\n",
              "    .colab-df-container {\n",
              "      display:flex;\n",
              "      gap: 12px;\n",
              "    }\n",
              "\n",
              "    .colab-df-convert {\n",
              "      background-color: #E8F0FE;\n",
              "      border: none;\n",
              "      border-radius: 50%;\n",
              "      cursor: pointer;\n",
              "      display: none;\n",
              "      fill: #1967D2;\n",
              "      height: 32px;\n",
              "      padding: 0 0 0 0;\n",
              "      width: 32px;\n",
              "    }\n",
              "\n",
              "    .colab-df-convert:hover {\n",
              "      background-color: #E2EBFA;\n",
              "      box-shadow: 0px 1px 2px rgba(60, 64, 67, 0.3), 0px 1px 3px 1px rgba(60, 64, 67, 0.15);\n",
              "      fill: #174EA6;\n",
              "    }\n",
              "\n",
              "    .colab-df-buttons div {\n",
              "      margin-bottom: 4px;\n",
              "    }\n",
              "\n",
              "    [theme=dark] .colab-df-convert {\n",
              "      background-color: #3B4455;\n",
              "      fill: #D2E3FC;\n",
              "    }\n",
              "\n",
              "    [theme=dark] .colab-df-convert:hover {\n",
              "      background-color: #434B5C;\n",
              "      box-shadow: 0px 1px 3px 1px rgba(0, 0, 0, 0.15);\n",
              "      filter: drop-shadow(0px 1px 2px rgba(0, 0, 0, 0.3));\n",
              "      fill: #FFFFFF;\n",
              "    }\n",
              "  </style>\n",
              "\n",
              "    <script>\n",
              "      const buttonEl =\n",
              "        document.querySelector('#df-4ee39915-1e9c-47f2-92b7-3508797ce917 button.colab-df-convert');\n",
              "      buttonEl.style.display =\n",
              "        google.colab.kernel.accessAllowed ? 'block' : 'none';\n",
              "\n",
              "      async function convertToInteractive(key) {\n",
              "        const element = document.querySelector('#df-4ee39915-1e9c-47f2-92b7-3508797ce917');\n",
              "        const dataTable =\n",
              "          await google.colab.kernel.invokeFunction('convertToInteractive',\n",
              "                                                    [key], {});\n",
              "        if (!dataTable) return;\n",
              "\n",
              "        const docLinkHtml = 'Like what you see? Visit the ' +\n",
              "          '<a target=\"_blank\" href=https://colab.research.google.com/notebooks/data_table.ipynb>data table notebook</a>'\n",
              "          + ' to learn more about interactive tables.';\n",
              "        element.innerHTML = '';\n",
              "        dataTable['output_type'] = 'display_data';\n",
              "        await google.colab.output.renderOutput(dataTable, element);\n",
              "        const docLink = document.createElement('div');\n",
              "        docLink.innerHTML = docLinkHtml;\n",
              "        element.appendChild(docLink);\n",
              "      }\n",
              "    </script>\n",
              "  </div>\n",
              "\n",
              "\n",
              "<div id=\"df-83f063ac-8f47-437e-bec1-2b01252c36de\">\n",
              "  <button class=\"colab-df-quickchart\" onclick=\"quickchart('df-83f063ac-8f47-437e-bec1-2b01252c36de')\"\n",
              "            title=\"Suggest charts\"\n",
              "            style=\"display:none;\">\n",
              "\n",
              "<svg xmlns=\"http://www.w3.org/2000/svg\" height=\"24px\"viewBox=\"0 0 24 24\"\n",
              "     width=\"24px\">\n",
              "    <g>\n",
              "        <path d=\"M19 3H5c-1.1 0-2 .9-2 2v14c0 1.1.9 2 2 2h14c1.1 0 2-.9 2-2V5c0-1.1-.9-2-2-2zM9 17H7v-7h2v7zm4 0h-2V7h2v10zm4 0h-2v-4h2v4z\"/>\n",
              "    </g>\n",
              "</svg>\n",
              "  </button>\n",
              "\n",
              "<style>\n",
              "  .colab-df-quickchart {\n",
              "      --bg-color: #E8F0FE;\n",
              "      --fill-color: #1967D2;\n",
              "      --hover-bg-color: #E2EBFA;\n",
              "      --hover-fill-color: #174EA6;\n",
              "      --disabled-fill-color: #AAA;\n",
              "      --disabled-bg-color: #DDD;\n",
              "  }\n",
              "\n",
              "  [theme=dark] .colab-df-quickchart {\n",
              "      --bg-color: #3B4455;\n",
              "      --fill-color: #D2E3FC;\n",
              "      --hover-bg-color: #434B5C;\n",
              "      --hover-fill-color: #FFFFFF;\n",
              "      --disabled-bg-color: #3B4455;\n",
              "      --disabled-fill-color: #666;\n",
              "  }\n",
              "\n",
              "  .colab-df-quickchart {\n",
              "    background-color: var(--bg-color);\n",
              "    border: none;\n",
              "    border-radius: 50%;\n",
              "    cursor: pointer;\n",
              "    display: none;\n",
              "    fill: var(--fill-color);\n",
              "    height: 32px;\n",
              "    padding: 0;\n",
              "    width: 32px;\n",
              "  }\n",
              "\n",
              "  .colab-df-quickchart:hover {\n",
              "    background-color: var(--hover-bg-color);\n",
              "    box-shadow: 0 1px 2px rgba(60, 64, 67, 0.3), 0 1px 3px 1px rgba(60, 64, 67, 0.15);\n",
              "    fill: var(--button-hover-fill-color);\n",
              "  }\n",
              "\n",
              "  .colab-df-quickchart-complete:disabled,\n",
              "  .colab-df-quickchart-complete:disabled:hover {\n",
              "    background-color: var(--disabled-bg-color);\n",
              "    fill: var(--disabled-fill-color);\n",
              "    box-shadow: none;\n",
              "  }\n",
              "\n",
              "  .colab-df-spinner {\n",
              "    border: 2px solid var(--fill-color);\n",
              "    border-color: transparent;\n",
              "    border-bottom-color: var(--fill-color);\n",
              "    animation:\n",
              "      spin 1s steps(1) infinite;\n",
              "  }\n",
              "\n",
              "  @keyframes spin {\n",
              "    0% {\n",
              "      border-color: transparent;\n",
              "      border-bottom-color: var(--fill-color);\n",
              "      border-left-color: var(--fill-color);\n",
              "    }\n",
              "    20% {\n",
              "      border-color: transparent;\n",
              "      border-left-color: var(--fill-color);\n",
              "      border-top-color: var(--fill-color);\n",
              "    }\n",
              "    30% {\n",
              "      border-color: transparent;\n",
              "      border-left-color: var(--fill-color);\n",
              "      border-top-color: var(--fill-color);\n",
              "      border-right-color: var(--fill-color);\n",
              "    }\n",
              "    40% {\n",
              "      border-color: transparent;\n",
              "      border-right-color: var(--fill-color);\n",
              "      border-top-color: var(--fill-color);\n",
              "    }\n",
              "    60% {\n",
              "      border-color: transparent;\n",
              "      border-right-color: var(--fill-color);\n",
              "    }\n",
              "    80% {\n",
              "      border-color: transparent;\n",
              "      border-right-color: var(--fill-color);\n",
              "      border-bottom-color: var(--fill-color);\n",
              "    }\n",
              "    90% {\n",
              "      border-color: transparent;\n",
              "      border-bottom-color: var(--fill-color);\n",
              "    }\n",
              "  }\n",
              "</style>\n",
              "\n",
              "  <script>\n",
              "    async function quickchart(key) {\n",
              "      const quickchartButtonEl =\n",
              "        document.querySelector('#' + key + ' button');\n",
              "      quickchartButtonEl.disabled = true;  // To prevent multiple clicks.\n",
              "      quickchartButtonEl.classList.add('colab-df-spinner');\n",
              "      try {\n",
              "        const charts = await google.colab.kernel.invokeFunction(\n",
              "            'suggestCharts', [key], {});\n",
              "      } catch (error) {\n",
              "        console.error('Error during call to suggestCharts:', error);\n",
              "      }\n",
              "      quickchartButtonEl.classList.remove('colab-df-spinner');\n",
              "      quickchartButtonEl.classList.add('colab-df-quickchart-complete');\n",
              "    }\n",
              "    (() => {\n",
              "      let quickchartButtonEl =\n",
              "        document.querySelector('#df-83f063ac-8f47-437e-bec1-2b01252c36de button');\n",
              "      quickchartButtonEl.style.display =\n",
              "        google.colab.kernel.accessAllowed ? 'block' : 'none';\n",
              "    })();\n",
              "  </script>\n",
              "</div>\n",
              "    </div>\n",
              "  </div>\n"
            ],
            "application/vnd.google.colaboratory.intrinsic+json": {
              "type": "dataframe",
              "summary": "{\n  \"name\": \"metrics[:3]\",\n  \"rows\": 3,\n  \"fields\": [\n    {\n      \"column\": \"loss\",\n      \"properties\": {\n        \"dtype\": \"number\",\n        \"std\": 0.01864986508167553,\n        \"min\": 0.5733972787857056,\n        \"max\": 0.6092818379402161,\n        \"num_unique_values\": 3,\n        \"samples\": [\n          0.6092818379402161,\n          0.5825261473655701,\n          0.5733972787857056\n        ],\n        \"semantic_type\": \"\",\n        \"description\": \"\"\n      }\n    },\n    {\n      \"column\": \"accuracy\",\n      \"properties\": {\n        \"dtype\": \"number\",\n        \"std\": 0.016024644399364112,\n        \"min\": 0.673058807849884,\n        \"max\": 0.7039999961853027,\n        \"num_unique_values\": 3,\n        \"samples\": [\n          0.673058807849884,\n          0.6957647204399109,\n          0.7039999961853027\n        ],\n        \"semantic_type\": \"\",\n        \"description\": \"\"\n      }\n    },\n    {\n      \"column\": \"val_loss\",\n      \"properties\": {\n        \"dtype\": \"number\",\n        \"std\": 0.003992722770777522,\n        \"min\": 0.5783527493476868,\n        \"max\": 0.5853261947631836,\n        \"num_unique_values\": 3,\n        \"samples\": [\n          0.5852090120315552,\n          0.5783527493476868,\n          0.5853261947631836\n        ],\n        \"semantic_type\": \"\",\n        \"description\": \"\"\n      }\n    },\n    {\n      \"column\": \"val_accuracy\",\n      \"properties\": {\n        \"dtype\": \"number\",\n        \"std\": 0.006406033153386358,\n        \"min\": 0.6926666498184204,\n        \"max\": 0.7053333520889282,\n        \"num_unique_values\": 3,\n        \"samples\": [\n          0.7053333520889282,\n          0.6973333358764648,\n          0.6926666498184204\n        ],\n        \"semantic_type\": \"\",\n        \"description\": \"\"\n      }\n    },\n    {\n      \"column\": \"epoch\",\n      \"properties\": {\n        \"dtype\": \"number\",\n        \"std\": 1,\n        \"min\": 0,\n        \"max\": 2,\n        \"num_unique_values\": 3,\n        \"samples\": [\n          0,\n          1,\n          2\n        ],\n        \"semantic_type\": \"\",\n        \"description\": \"\"\n      }\n    }\n  ]\n}"
            }
          },
          "metadata": {},
          "execution_count": 314
        }
      ]
    },
    {
      "cell_type": "markdown",
      "source": [
        "### <a name='a6'></a> Ocena modelu LSTM"
      ],
      "metadata": {
        "id": "c8fsX9-1SaXY"
      }
    },
    {
      "cell_type": "code",
      "source": [
        "import plotly.graph_objects as go\n",
        "from plotly.subplots import make_subplots\n",
        "\n",
        "fig = make_subplots(rows=1, cols=2)\n",
        "fig.add_trace(go.Scatter(x=metrics['epoch'], y=metrics['accuracy'], name='accuracy'), row=1, col=1)\n",
        "fig.add_trace(go.Scatter(x=metrics['epoch'], y=metrics['loss'], name='loss'), row=1, col=2)\n",
        "fig.add_trace(go.Scatter(x=metrics['epoch'], y=metrics['val_accuracy'], name='val_accuracy'), row=1, col=1)\n",
        "fig.add_trace(go.Scatter(x=metrics['epoch'], y=metrics['val_loss'], name='val_loss'), row=1, col=2)\n",
        "\n",
        "fig.update_xaxes(title_text='epochs')\n",
        "fig.update_yaxes(title_text='accuracy')\n",
        "fig.update_layout(width=1000, title='Accuracy and Loss')\n",
        "fig.show()"
      ],
      "metadata": {
        "id": "2XOExmC-wsQV",
        "colab": {
          "base_uri": "https://localhost:8080/",
          "height": 542
        },
        "outputId": "806b3aeb-5ba6-4be7-e162-cf68d2bcb0b6"
      },
      "execution_count": 315,
      "outputs": [
        {
          "output_type": "display_data",
          "data": {
            "text/html": [
              "<html>\n",
              "<head><meta charset=\"utf-8\" /></head>\n",
              "<body>\n",
              "    <div>            <script src=\"https://cdnjs.cloudflare.com/ajax/libs/mathjax/2.7.5/MathJax.js?config=TeX-AMS-MML_SVG\"></script><script type=\"text/javascript\">if (window.MathJax && window.MathJax.Hub && window.MathJax.Hub.Config) {window.MathJax.Hub.Config({SVG: {font: \"STIX-Web\"}});}</script>                <script type=\"text/javascript\">window.PlotlyConfig = {MathJaxConfig: 'local'};</script>\n",
              "        <script charset=\"utf-8\" src=\"https://cdn.plot.ly/plotly-2.24.1.min.js\"></script>                <div id=\"f88afe74-cde8-45f8-941a-78f38b93fe56\" class=\"plotly-graph-div\" style=\"height:525px; width:1000px;\"></div>            <script type=\"text/javascript\">                                    window.PLOTLYENV=window.PLOTLYENV || {};                                    if (document.getElementById(\"f88afe74-cde8-45f8-941a-78f38b93fe56\")) {                    Plotly.newPlot(                        \"f88afe74-cde8-45f8-941a-78f38b93fe56\",                        [{\"name\":\"accuracy\",\"x\":[0,1,2,3,4],\"y\":[0.673058807849884,0.6957647204399109,0.7039999961853027,0.7054117918014526,0.7047058939933777],\"type\":\"scatter\",\"xaxis\":\"x\",\"yaxis\":\"y\"},{\"name\":\"loss\",\"x\":[0,1,2,3,4],\"y\":[0.6092818379402161,0.5825261473655701,0.5733972787857056,0.5705002546310425,0.5680628418922424],\"type\":\"scatter\",\"xaxis\":\"x2\",\"yaxis\":\"y2\"},{\"name\":\"val_accuracy\",\"x\":[0,1,2,3,4],\"y\":[0.7053333520889282,0.6973333358764648,0.6926666498184204,0.6993333101272583,0.7073333263397217],\"type\":\"scatter\",\"xaxis\":\"x\",\"yaxis\":\"y\"},{\"name\":\"val_loss\",\"x\":[0,1,2,3,4],\"y\":[0.5852090120315552,0.5783527493476868,0.5853261947631836,0.5709416270256042,0.5704068541526794],\"type\":\"scatter\",\"xaxis\":\"x2\",\"yaxis\":\"y2\"}],                        {\"template\":{\"data\":{\"histogram2dcontour\":[{\"type\":\"histogram2dcontour\",\"colorbar\":{\"outlinewidth\":0,\"ticks\":\"\"},\"colorscale\":[[0.0,\"#0d0887\"],[0.1111111111111111,\"#46039f\"],[0.2222222222222222,\"#7201a8\"],[0.3333333333333333,\"#9c179e\"],[0.4444444444444444,\"#bd3786\"],[0.5555555555555556,\"#d8576b\"],[0.6666666666666666,\"#ed7953\"],[0.7777777777777778,\"#fb9f3a\"],[0.8888888888888888,\"#fdca26\"],[1.0,\"#f0f921\"]]}],\"choropleth\":[{\"type\":\"choropleth\",\"colorbar\":{\"outlinewidth\":0,\"ticks\":\"\"}}],\"histogram2d\":[{\"type\":\"histogram2d\",\"colorbar\":{\"outlinewidth\":0,\"ticks\":\"\"},\"colorscale\":[[0.0,\"#0d0887\"],[0.1111111111111111,\"#46039f\"],[0.2222222222222222,\"#7201a8\"],[0.3333333333333333,\"#9c179e\"],[0.4444444444444444,\"#bd3786\"],[0.5555555555555556,\"#d8576b\"],[0.6666666666666666,\"#ed7953\"],[0.7777777777777778,\"#fb9f3a\"],[0.8888888888888888,\"#fdca26\"],[1.0,\"#f0f921\"]]}],\"heatmap\":[{\"type\":\"heatmap\",\"colorbar\":{\"outlinewidth\":0,\"ticks\":\"\"},\"colorscale\":[[0.0,\"#0d0887\"],[0.1111111111111111,\"#46039f\"],[0.2222222222222222,\"#7201a8\"],[0.3333333333333333,\"#9c179e\"],[0.4444444444444444,\"#bd3786\"],[0.5555555555555556,\"#d8576b\"],[0.6666666666666666,\"#ed7953\"],[0.7777777777777778,\"#fb9f3a\"],[0.8888888888888888,\"#fdca26\"],[1.0,\"#f0f921\"]]}],\"heatmapgl\":[{\"type\":\"heatmapgl\",\"colorbar\":{\"outlinewidth\":0,\"ticks\":\"\"},\"colorscale\":[[0.0,\"#0d0887\"],[0.1111111111111111,\"#46039f\"],[0.2222222222222222,\"#7201a8\"],[0.3333333333333333,\"#9c179e\"],[0.4444444444444444,\"#bd3786\"],[0.5555555555555556,\"#d8576b\"],[0.6666666666666666,\"#ed7953\"],[0.7777777777777778,\"#fb9f3a\"],[0.8888888888888888,\"#fdca26\"],[1.0,\"#f0f921\"]]}],\"contourcarpet\":[{\"type\":\"contourcarpet\",\"colorbar\":{\"outlinewidth\":0,\"ticks\":\"\"}}],\"contour\":[{\"type\":\"contour\",\"colorbar\":{\"outlinewidth\":0,\"ticks\":\"\"},\"colorscale\":[[0.0,\"#0d0887\"],[0.1111111111111111,\"#46039f\"],[0.2222222222222222,\"#7201a8\"],[0.3333333333333333,\"#9c179e\"],[0.4444444444444444,\"#bd3786\"],[0.5555555555555556,\"#d8576b\"],[0.6666666666666666,\"#ed7953\"],[0.7777777777777778,\"#fb9f3a\"],[0.8888888888888888,\"#fdca26\"],[1.0,\"#f0f921\"]]}],\"surface\":[{\"type\":\"surface\",\"colorbar\":{\"outlinewidth\":0,\"ticks\":\"\"},\"colorscale\":[[0.0,\"#0d0887\"],[0.1111111111111111,\"#46039f\"],[0.2222222222222222,\"#7201a8\"],[0.3333333333333333,\"#9c179e\"],[0.4444444444444444,\"#bd3786\"],[0.5555555555555556,\"#d8576b\"],[0.6666666666666666,\"#ed7953\"],[0.7777777777777778,\"#fb9f3a\"],[0.8888888888888888,\"#fdca26\"],[1.0,\"#f0f921\"]]}],\"mesh3d\":[{\"type\":\"mesh3d\",\"colorbar\":{\"outlinewidth\":0,\"ticks\":\"\"}}],\"scatter\":[{\"fillpattern\":{\"fillmode\":\"overlay\",\"size\":10,\"solidity\":0.2},\"type\":\"scatter\"}],\"parcoords\":[{\"type\":\"parcoords\",\"line\":{\"colorbar\":{\"outlinewidth\":0,\"ticks\":\"\"}}}],\"scatterpolargl\":[{\"type\":\"scatterpolargl\",\"marker\":{\"colorbar\":{\"outlinewidth\":0,\"ticks\":\"\"}}}],\"bar\":[{\"error_x\":{\"color\":\"#2a3f5f\"},\"error_y\":{\"color\":\"#2a3f5f\"},\"marker\":{\"line\":{\"color\":\"#E5ECF6\",\"width\":0.5},\"pattern\":{\"fillmode\":\"overlay\",\"size\":10,\"solidity\":0.2}},\"type\":\"bar\"}],\"scattergeo\":[{\"type\":\"scattergeo\",\"marker\":{\"colorbar\":{\"outlinewidth\":0,\"ticks\":\"\"}}}],\"scatterpolar\":[{\"type\":\"scatterpolar\",\"marker\":{\"colorbar\":{\"outlinewidth\":0,\"ticks\":\"\"}}}],\"histogram\":[{\"marker\":{\"pattern\":{\"fillmode\":\"overlay\",\"size\":10,\"solidity\":0.2}},\"type\":\"histogram\"}],\"scattergl\":[{\"type\":\"scattergl\",\"marker\":{\"colorbar\":{\"outlinewidth\":0,\"ticks\":\"\"}}}],\"scatter3d\":[{\"type\":\"scatter3d\",\"line\":{\"colorbar\":{\"outlinewidth\":0,\"ticks\":\"\"}},\"marker\":{\"colorbar\":{\"outlinewidth\":0,\"ticks\":\"\"}}}],\"scattermapbox\":[{\"type\":\"scattermapbox\",\"marker\":{\"colorbar\":{\"outlinewidth\":0,\"ticks\":\"\"}}}],\"scatterternary\":[{\"type\":\"scatterternary\",\"marker\":{\"colorbar\":{\"outlinewidth\":0,\"ticks\":\"\"}}}],\"scattercarpet\":[{\"type\":\"scattercarpet\",\"marker\":{\"colorbar\":{\"outlinewidth\":0,\"ticks\":\"\"}}}],\"carpet\":[{\"aaxis\":{\"endlinecolor\":\"#2a3f5f\",\"gridcolor\":\"white\",\"linecolor\":\"white\",\"minorgridcolor\":\"white\",\"startlinecolor\":\"#2a3f5f\"},\"baxis\":{\"endlinecolor\":\"#2a3f5f\",\"gridcolor\":\"white\",\"linecolor\":\"white\",\"minorgridcolor\":\"white\",\"startlinecolor\":\"#2a3f5f\"},\"type\":\"carpet\"}],\"table\":[{\"cells\":{\"fill\":{\"color\":\"#EBF0F8\"},\"line\":{\"color\":\"white\"}},\"header\":{\"fill\":{\"color\":\"#C8D4E3\"},\"line\":{\"color\":\"white\"}},\"type\":\"table\"}],\"barpolar\":[{\"marker\":{\"line\":{\"color\":\"#E5ECF6\",\"width\":0.5},\"pattern\":{\"fillmode\":\"overlay\",\"size\":10,\"solidity\":0.2}},\"type\":\"barpolar\"}],\"pie\":[{\"automargin\":true,\"type\":\"pie\"}]},\"layout\":{\"autotypenumbers\":\"strict\",\"colorway\":[\"#636efa\",\"#EF553B\",\"#00cc96\",\"#ab63fa\",\"#FFA15A\",\"#19d3f3\",\"#FF6692\",\"#B6E880\",\"#FF97FF\",\"#FECB52\"],\"font\":{\"color\":\"#2a3f5f\"},\"hovermode\":\"closest\",\"hoverlabel\":{\"align\":\"left\"},\"paper_bgcolor\":\"white\",\"plot_bgcolor\":\"#E5ECF6\",\"polar\":{\"bgcolor\":\"#E5ECF6\",\"angularaxis\":{\"gridcolor\":\"white\",\"linecolor\":\"white\",\"ticks\":\"\"},\"radialaxis\":{\"gridcolor\":\"white\",\"linecolor\":\"white\",\"ticks\":\"\"}},\"ternary\":{\"bgcolor\":\"#E5ECF6\",\"aaxis\":{\"gridcolor\":\"white\",\"linecolor\":\"white\",\"ticks\":\"\"},\"baxis\":{\"gridcolor\":\"white\",\"linecolor\":\"white\",\"ticks\":\"\"},\"caxis\":{\"gridcolor\":\"white\",\"linecolor\":\"white\",\"ticks\":\"\"}},\"coloraxis\":{\"colorbar\":{\"outlinewidth\":0,\"ticks\":\"\"}},\"colorscale\":{\"sequential\":[[0.0,\"#0d0887\"],[0.1111111111111111,\"#46039f\"],[0.2222222222222222,\"#7201a8\"],[0.3333333333333333,\"#9c179e\"],[0.4444444444444444,\"#bd3786\"],[0.5555555555555556,\"#d8576b\"],[0.6666666666666666,\"#ed7953\"],[0.7777777777777778,\"#fb9f3a\"],[0.8888888888888888,\"#fdca26\"],[1.0,\"#f0f921\"]],\"sequentialminus\":[[0.0,\"#0d0887\"],[0.1111111111111111,\"#46039f\"],[0.2222222222222222,\"#7201a8\"],[0.3333333333333333,\"#9c179e\"],[0.4444444444444444,\"#bd3786\"],[0.5555555555555556,\"#d8576b\"],[0.6666666666666666,\"#ed7953\"],[0.7777777777777778,\"#fb9f3a\"],[0.8888888888888888,\"#fdca26\"],[1.0,\"#f0f921\"]],\"diverging\":[[0,\"#8e0152\"],[0.1,\"#c51b7d\"],[0.2,\"#de77ae\"],[0.3,\"#f1b6da\"],[0.4,\"#fde0ef\"],[0.5,\"#f7f7f7\"],[0.6,\"#e6f5d0\"],[0.7,\"#b8e186\"],[0.8,\"#7fbc41\"],[0.9,\"#4d9221\"],[1,\"#276419\"]]},\"xaxis\":{\"gridcolor\":\"white\",\"linecolor\":\"white\",\"ticks\":\"\",\"title\":{\"standoff\":15},\"zerolinecolor\":\"white\",\"automargin\":true,\"zerolinewidth\":2},\"yaxis\":{\"gridcolor\":\"white\",\"linecolor\":\"white\",\"ticks\":\"\",\"title\":{\"standoff\":15},\"zerolinecolor\":\"white\",\"automargin\":true,\"zerolinewidth\":2},\"scene\":{\"xaxis\":{\"backgroundcolor\":\"#E5ECF6\",\"gridcolor\":\"white\",\"linecolor\":\"white\",\"showbackground\":true,\"ticks\":\"\",\"zerolinecolor\":\"white\",\"gridwidth\":2},\"yaxis\":{\"backgroundcolor\":\"#E5ECF6\",\"gridcolor\":\"white\",\"linecolor\":\"white\",\"showbackground\":true,\"ticks\":\"\",\"zerolinecolor\":\"white\",\"gridwidth\":2},\"zaxis\":{\"backgroundcolor\":\"#E5ECF6\",\"gridcolor\":\"white\",\"linecolor\":\"white\",\"showbackground\":true,\"ticks\":\"\",\"zerolinecolor\":\"white\",\"gridwidth\":2}},\"shapedefaults\":{\"line\":{\"color\":\"#2a3f5f\"}},\"annotationdefaults\":{\"arrowcolor\":\"#2a3f5f\",\"arrowhead\":0,\"arrowwidth\":1},\"geo\":{\"bgcolor\":\"white\",\"landcolor\":\"#E5ECF6\",\"subunitcolor\":\"white\",\"showland\":true,\"showlakes\":true,\"lakecolor\":\"white\"},\"title\":{\"x\":0.05},\"mapbox\":{\"style\":\"light\"}}},\"xaxis\":{\"anchor\":\"y\",\"domain\":[0.0,0.45],\"title\":{\"text\":\"epochs\"}},\"yaxis\":{\"anchor\":\"x\",\"domain\":[0.0,1.0],\"title\":{\"text\":\"accuracy\"}},\"xaxis2\":{\"anchor\":\"y2\",\"domain\":[0.55,1.0],\"title\":{\"text\":\"epochs\"}},\"yaxis2\":{\"anchor\":\"x2\",\"domain\":[0.0,1.0],\"title\":{\"text\":\"accuracy\"}},\"width\":1000,\"title\":{\"text\":\"Accuracy and Loss\"}},                        {\"responsive\": true}                    ).then(function(){\n",
              "                            \n",
              "var gd = document.getElementById('f88afe74-cde8-45f8-941a-78f38b93fe56');\n",
              "var x = new MutationObserver(function (mutations, observer) {{\n",
              "        var display = window.getComputedStyle(gd).display;\n",
              "        if (!display || display === 'none') {{\n",
              "            console.log([gd, 'removed!']);\n",
              "            Plotly.purge(gd);\n",
              "            observer.disconnect();\n",
              "        }}\n",
              "}});\n",
              "\n",
              "// Listen for the removal of the full notebook cells\n",
              "var notebookContainer = gd.closest('#notebook-container');\n",
              "if (notebookContainer) {{\n",
              "    x.observe(notebookContainer, {childList: true});\n",
              "}}\n",
              "\n",
              "// Listen for the clearing of the current output cell\n",
              "var outputEl = gd.closest('.output');\n",
              "if (outputEl) {{\n",
              "    x.observe(outputEl, {childList: true});\n",
              "}}\n",
              "\n",
              "                        })                };                            </script>        </div>\n",
              "</body>\n",
              "</html>"
            ]
          },
          "metadata": {}
        }
      ]
    },
    {
      "cell_type": "code",
      "source": [
        "# nie wiem co to za blok\n",
        "from keras.utils import to_categorical\n",
        "\n",
        "y_train = to_categorical(y_train, num_classes=10)\n",
        "y_test_cat = to_categorical(y_test, num_classes=10)"
      ],
      "metadata": {
        "id": "msrI6vC5xw3H"
      },
      "execution_count": 316,
      "outputs": []
    },
    {
      "cell_type": "code",
      "source": [
        "test_loss, test_acc = model.evaluate(x_test, y_test, verbose=0)\n",
        "print(test_acc)"
      ],
      "metadata": {
        "id": "DEKIy3Pdwuqs",
        "colab": {
          "base_uri": "https://localhost:8080/"
        },
        "outputId": "60966e44-79ee-420d-ee7b-d416526385f6"
      },
      "execution_count": 317,
      "outputs": [
        {
          "output_type": "stream",
          "name": "stdout",
          "text": [
            "0.7073333263397217\n"
          ]
        }
      ]
    },
    {
      "cell_type": "markdown",
      "source": [
        "### <a name='a7'></a> Graf zielono czerwony"
      ],
      "metadata": {
        "id": "EXfoIx7zUJLQ"
      }
    },
    {
      "cell_type": "code",
      "source": [
        "# Połączenie dwóch tablic\n",
        "concat = np.hstack((predict_classes, Y_test[:,2:]))\n",
        "print(concat.shape)\n",
        "print(concat[:3])"
      ],
      "metadata": {
        "id": "ZEJOPSNBVDC6",
        "colab": {
          "base_uri": "https://localhost:8080/"
        },
        "outputId": "08830389-b849-44bf-df34-e60361343f46"
      },
      "execution_count": 318,
      "outputs": [
        {
          "output_type": "stream",
          "name": "stdout",
          "text": [
            "(1500, 3)\n",
            "[[ 0.    1.   85.93]\n",
            " [ 0.    1.   85.92]\n",
            " [ 0.    1.   85.9 ]]\n"
          ]
        }
      ]
    },
    {
      "cell_type": "code",
      "source": [
        "import plotly.express as px\n",
        "import pandas as pd\n",
        "\n",
        "# Tworzenie Date Frame\n",
        "df = pd.DataFrame(concat, columns=['Sell', 'Buy', 'Price'])\n",
        "df.head(5)"
      ],
      "metadata": {
        "id": "FdY1159qUqXN",
        "colab": {
          "base_uri": "https://localhost:8080/",
          "height": 206
        },
        "outputId": "b30b78cc-a679-44f7-d11b-97e99c29b192"
      },
      "execution_count": 319,
      "outputs": [
        {
          "output_type": "execute_result",
          "data": {
            "text/plain": [
              "      Sell      Buy     Price\n",
              "0 0.000000 1.000000 85.930000\n",
              "1 0.000000 1.000000 85.920000\n",
              "2 0.000000 1.000000 85.900000\n",
              "3 1.000000 0.000000 85.890000\n",
              "4 1.000000 0.000000 85.990000"
            ],
            "text/html": [
              "\n",
              "  <div id=\"df-934e1f52-0e2e-4567-ba5a-2ab2897c9be3\" class=\"colab-df-container\">\n",
              "    <div>\n",
              "<style scoped>\n",
              "    .dataframe tbody tr th:only-of-type {\n",
              "        vertical-align: middle;\n",
              "    }\n",
              "\n",
              "    .dataframe tbody tr th {\n",
              "        vertical-align: top;\n",
              "    }\n",
              "\n",
              "    .dataframe thead th {\n",
              "        text-align: right;\n",
              "    }\n",
              "</style>\n",
              "<table border=\"1\" class=\"dataframe\">\n",
              "  <thead>\n",
              "    <tr style=\"text-align: right;\">\n",
              "      <th></th>\n",
              "      <th>Sell</th>\n",
              "      <th>Buy</th>\n",
              "      <th>Price</th>\n",
              "    </tr>\n",
              "  </thead>\n",
              "  <tbody>\n",
              "    <tr>\n",
              "      <th>0</th>\n",
              "      <td>0.000000</td>\n",
              "      <td>1.000000</td>\n",
              "      <td>85.930000</td>\n",
              "    </tr>\n",
              "    <tr>\n",
              "      <th>1</th>\n",
              "      <td>0.000000</td>\n",
              "      <td>1.000000</td>\n",
              "      <td>85.920000</td>\n",
              "    </tr>\n",
              "    <tr>\n",
              "      <th>2</th>\n",
              "      <td>0.000000</td>\n",
              "      <td>1.000000</td>\n",
              "      <td>85.900000</td>\n",
              "    </tr>\n",
              "    <tr>\n",
              "      <th>3</th>\n",
              "      <td>1.000000</td>\n",
              "      <td>0.000000</td>\n",
              "      <td>85.890000</td>\n",
              "    </tr>\n",
              "    <tr>\n",
              "      <th>4</th>\n",
              "      <td>1.000000</td>\n",
              "      <td>0.000000</td>\n",
              "      <td>85.990000</td>\n",
              "    </tr>\n",
              "  </tbody>\n",
              "</table>\n",
              "</div>\n",
              "    <div class=\"colab-df-buttons\">\n",
              "\n",
              "  <div class=\"colab-df-container\">\n",
              "    <button class=\"colab-df-convert\" onclick=\"convertToInteractive('df-934e1f52-0e2e-4567-ba5a-2ab2897c9be3')\"\n",
              "            title=\"Convert this dataframe to an interactive table.\"\n",
              "            style=\"display:none;\">\n",
              "\n",
              "  <svg xmlns=\"http://www.w3.org/2000/svg\" height=\"24px\" viewBox=\"0 -960 960 960\">\n",
              "    <path d=\"M120-120v-720h720v720H120Zm60-500h600v-160H180v160Zm220 220h160v-160H400v160Zm0 220h160v-160H400v160ZM180-400h160v-160H180v160Zm440 0h160v-160H620v160ZM180-180h160v-160H180v160Zm440 0h160v-160H620v160Z\"/>\n",
              "  </svg>\n",
              "    </button>\n",
              "\n",
              "  <style>\n",
              "    .colab-df-container {\n",
              "      display:flex;\n",
              "      gap: 12px;\n",
              "    }\n",
              "\n",
              "    .colab-df-convert {\n",
              "      background-color: #E8F0FE;\n",
              "      border: none;\n",
              "      border-radius: 50%;\n",
              "      cursor: pointer;\n",
              "      display: none;\n",
              "      fill: #1967D2;\n",
              "      height: 32px;\n",
              "      padding: 0 0 0 0;\n",
              "      width: 32px;\n",
              "    }\n",
              "\n",
              "    .colab-df-convert:hover {\n",
              "      background-color: #E2EBFA;\n",
              "      box-shadow: 0px 1px 2px rgba(60, 64, 67, 0.3), 0px 1px 3px 1px rgba(60, 64, 67, 0.15);\n",
              "      fill: #174EA6;\n",
              "    }\n",
              "\n",
              "    .colab-df-buttons div {\n",
              "      margin-bottom: 4px;\n",
              "    }\n",
              "\n",
              "    [theme=dark] .colab-df-convert {\n",
              "      background-color: #3B4455;\n",
              "      fill: #D2E3FC;\n",
              "    }\n",
              "\n",
              "    [theme=dark] .colab-df-convert:hover {\n",
              "      background-color: #434B5C;\n",
              "      box-shadow: 0px 1px 3px 1px rgba(0, 0, 0, 0.15);\n",
              "      filter: drop-shadow(0px 1px 2px rgba(0, 0, 0, 0.3));\n",
              "      fill: #FFFFFF;\n",
              "    }\n",
              "  </style>\n",
              "\n",
              "    <script>\n",
              "      const buttonEl =\n",
              "        document.querySelector('#df-934e1f52-0e2e-4567-ba5a-2ab2897c9be3 button.colab-df-convert');\n",
              "      buttonEl.style.display =\n",
              "        google.colab.kernel.accessAllowed ? 'block' : 'none';\n",
              "\n",
              "      async function convertToInteractive(key) {\n",
              "        const element = document.querySelector('#df-934e1f52-0e2e-4567-ba5a-2ab2897c9be3');\n",
              "        const dataTable =\n",
              "          await google.colab.kernel.invokeFunction('convertToInteractive',\n",
              "                                                    [key], {});\n",
              "        if (!dataTable) return;\n",
              "\n",
              "        const docLinkHtml = 'Like what you see? Visit the ' +\n",
              "          '<a target=\"_blank\" href=https://colab.research.google.com/notebooks/data_table.ipynb>data table notebook</a>'\n",
              "          + ' to learn more about interactive tables.';\n",
              "        element.innerHTML = '';\n",
              "        dataTable['output_type'] = 'display_data';\n",
              "        await google.colab.output.renderOutput(dataTable, element);\n",
              "        const docLink = document.createElement('div');\n",
              "        docLink.innerHTML = docLinkHtml;\n",
              "        element.appendChild(docLink);\n",
              "      }\n",
              "    </script>\n",
              "  </div>\n",
              "\n",
              "\n",
              "<div id=\"df-d2e65632-df7f-4cc0-9137-7739824ea152\">\n",
              "  <button class=\"colab-df-quickchart\" onclick=\"quickchart('df-d2e65632-df7f-4cc0-9137-7739824ea152')\"\n",
              "            title=\"Suggest charts\"\n",
              "            style=\"display:none;\">\n",
              "\n",
              "<svg xmlns=\"http://www.w3.org/2000/svg\" height=\"24px\"viewBox=\"0 0 24 24\"\n",
              "     width=\"24px\">\n",
              "    <g>\n",
              "        <path d=\"M19 3H5c-1.1 0-2 .9-2 2v14c0 1.1.9 2 2 2h14c1.1 0 2-.9 2-2V5c0-1.1-.9-2-2-2zM9 17H7v-7h2v7zm4 0h-2V7h2v10zm4 0h-2v-4h2v4z\"/>\n",
              "    </g>\n",
              "</svg>\n",
              "  </button>\n",
              "\n",
              "<style>\n",
              "  .colab-df-quickchart {\n",
              "      --bg-color: #E8F0FE;\n",
              "      --fill-color: #1967D2;\n",
              "      --hover-bg-color: #E2EBFA;\n",
              "      --hover-fill-color: #174EA6;\n",
              "      --disabled-fill-color: #AAA;\n",
              "      --disabled-bg-color: #DDD;\n",
              "  }\n",
              "\n",
              "  [theme=dark] .colab-df-quickchart {\n",
              "      --bg-color: #3B4455;\n",
              "      --fill-color: #D2E3FC;\n",
              "      --hover-bg-color: #434B5C;\n",
              "      --hover-fill-color: #FFFFFF;\n",
              "      --disabled-bg-color: #3B4455;\n",
              "      --disabled-fill-color: #666;\n",
              "  }\n",
              "\n",
              "  .colab-df-quickchart {\n",
              "    background-color: var(--bg-color);\n",
              "    border: none;\n",
              "    border-radius: 50%;\n",
              "    cursor: pointer;\n",
              "    display: none;\n",
              "    fill: var(--fill-color);\n",
              "    height: 32px;\n",
              "    padding: 0;\n",
              "    width: 32px;\n",
              "  }\n",
              "\n",
              "  .colab-df-quickchart:hover {\n",
              "    background-color: var(--hover-bg-color);\n",
              "    box-shadow: 0 1px 2px rgba(60, 64, 67, 0.3), 0 1px 3px 1px rgba(60, 64, 67, 0.15);\n",
              "    fill: var(--button-hover-fill-color);\n",
              "  }\n",
              "\n",
              "  .colab-df-quickchart-complete:disabled,\n",
              "  .colab-df-quickchart-complete:disabled:hover {\n",
              "    background-color: var(--disabled-bg-color);\n",
              "    fill: var(--disabled-fill-color);\n",
              "    box-shadow: none;\n",
              "  }\n",
              "\n",
              "  .colab-df-spinner {\n",
              "    border: 2px solid var(--fill-color);\n",
              "    border-color: transparent;\n",
              "    border-bottom-color: var(--fill-color);\n",
              "    animation:\n",
              "      spin 1s steps(1) infinite;\n",
              "  }\n",
              "\n",
              "  @keyframes spin {\n",
              "    0% {\n",
              "      border-color: transparent;\n",
              "      border-bottom-color: var(--fill-color);\n",
              "      border-left-color: var(--fill-color);\n",
              "    }\n",
              "    20% {\n",
              "      border-color: transparent;\n",
              "      border-left-color: var(--fill-color);\n",
              "      border-top-color: var(--fill-color);\n",
              "    }\n",
              "    30% {\n",
              "      border-color: transparent;\n",
              "      border-left-color: var(--fill-color);\n",
              "      border-top-color: var(--fill-color);\n",
              "      border-right-color: var(--fill-color);\n",
              "    }\n",
              "    40% {\n",
              "      border-color: transparent;\n",
              "      border-right-color: var(--fill-color);\n",
              "      border-top-color: var(--fill-color);\n",
              "    }\n",
              "    60% {\n",
              "      border-color: transparent;\n",
              "      border-right-color: var(--fill-color);\n",
              "    }\n",
              "    80% {\n",
              "      border-color: transparent;\n",
              "      border-right-color: var(--fill-color);\n",
              "      border-bottom-color: var(--fill-color);\n",
              "    }\n",
              "    90% {\n",
              "      border-color: transparent;\n",
              "      border-bottom-color: var(--fill-color);\n",
              "    }\n",
              "  }\n",
              "</style>\n",
              "\n",
              "  <script>\n",
              "    async function quickchart(key) {\n",
              "      const quickchartButtonEl =\n",
              "        document.querySelector('#' + key + ' button');\n",
              "      quickchartButtonEl.disabled = true;  // To prevent multiple clicks.\n",
              "      quickchartButtonEl.classList.add('colab-df-spinner');\n",
              "      try {\n",
              "        const charts = await google.colab.kernel.invokeFunction(\n",
              "            'suggestCharts', [key], {});\n",
              "      } catch (error) {\n",
              "        console.error('Error during call to suggestCharts:', error);\n",
              "      }\n",
              "      quickchartButtonEl.classList.remove('colab-df-spinner');\n",
              "      quickchartButtonEl.classList.add('colab-df-quickchart-complete');\n",
              "    }\n",
              "    (() => {\n",
              "      let quickchartButtonEl =\n",
              "        document.querySelector('#df-d2e65632-df7f-4cc0-9137-7739824ea152 button');\n",
              "      quickchartButtonEl.style.display =\n",
              "        google.colab.kernel.accessAllowed ? 'block' : 'none';\n",
              "    })();\n",
              "  </script>\n",
              "</div>\n",
              "    </div>\n",
              "  </div>\n"
            ],
            "application/vnd.google.colaboratory.intrinsic+json": {
              "type": "dataframe",
              "variable_name": "df",
              "summary": "{\n  \"name\": \"df\",\n  \"rows\": 1500,\n  \"fields\": [\n    {\n      \"column\": \"Sell\",\n      \"properties\": {\n        \"dtype\": \"number\",\n        \"std\": 0.5001556351061549,\n        \"min\": 0.0,\n        \"max\": 1.0,\n        \"num_unique_values\": 2,\n        \"samples\": [\n          1.0,\n          0.0\n        ],\n        \"semantic_type\": \"\",\n        \"description\": \"\"\n      }\n    },\n    {\n      \"column\": \"Buy\",\n      \"properties\": {\n        \"dtype\": \"number\",\n        \"std\": 0.5001382953062518,\n        \"min\": 0.0,\n        \"max\": 1.0,\n        \"num_unique_values\": 2,\n        \"samples\": [\n          0.0,\n          1.0\n        ],\n        \"semantic_type\": \"\",\n        \"description\": \"\"\n      }\n    },\n    {\n      \"column\": \"Price\",\n      \"properties\": {\n        \"dtype\": \"number\",\n        \"std\": 1.4318609190897813,\n        \"min\": 83.6,\n        \"max\": 88.91,\n        \"num_unique_values\": 406,\n        \"samples\": [\n          84.17,\n          87.73\n        ],\n        \"semantic_type\": \"\",\n        \"description\": \"\"\n      }\n    }\n  ]\n}"
            }
          },
          "metadata": {},
          "execution_count": 319
        }
      ]
    },
    {
      "cell_type": "code",
      "source": [
        "import plotly.graph_objects as go\n",
        "import pandas as pd\n",
        "\n",
        "# Tworzenie wykresu liniowego\n",
        "fig = go.Figure()\n",
        "\n",
        "start = 500\n",
        "end = start + 500\n",
        "\n",
        "# Dodawanie linii do wykresu\n",
        "for i in range(start, len(df[:end])):\n",
        "    color = 'green' if df.at[i, 'Buy'] == 1 else 'red'\n",
        "    fig.add_trace(go.Scatter(x=[i-1, i], y=[df.at[i-1, 'Price'], df.at[i, 'Price']], line=dict(color=color), showlegend=False))\n",
        "\n",
        "# Ustawienia osi i tytuł\n",
        "fig.update_layout(\n",
        "    xaxis_title='Indeks',\n",
        "    yaxis_title='Close',\n",
        "    title='Wykres liniowy z kolorami'\n",
        ")\n",
        "\n",
        "# Wyświetlanie wykresu\n",
        "fig.show()"
      ],
      "metadata": {
        "id": "SahOH5S5UFs4",
        "colab": {
          "base_uri": "https://localhost:8080/",
          "height": 542
        },
        "outputId": "151f1ee6-46d5-41fa-a7a4-73a4dae8d392"
      },
      "execution_count": 323,
      "outputs": [
        {
          "output_type": "display_data",
          "data": {
            "text/html": [
              "<html>\n",
              "<head><meta charset=\"utf-8\" /></head>\n",
              "<body>\n",
              "    <div>            <script src=\"https://cdnjs.cloudflare.com/ajax/libs/mathjax/2.7.5/MathJax.js?config=TeX-AMS-MML_SVG\"></script><script type=\"text/javascript\">if (window.MathJax && window.MathJax.Hub && window.MathJax.Hub.Config) {window.MathJax.Hub.Config({SVG: {font: \"STIX-Web\"}});}</script>                <script type=\"text/javascript\">window.PlotlyConfig = {MathJaxConfig: 'local'};</script>\n",
              "        <script charset=\"utf-8\" src=\"https://cdn.plot.ly/plotly-2.24.1.min.js\"></script>                <div id=\"18b599e6-dd16-4968-b5bd-31dffffef5f3\" class=\"plotly-graph-div\" style=\"height:525px; width:100%;\"></div>            <script type=\"text/javascript\">                                    window.PLOTLYENV=window.PLOTLYENV || {};                                    if (document.getElementById(\"18b599e6-dd16-4968-b5bd-31dffffef5f3\")) {                    Plotly.newPlot(                        \"18b599e6-dd16-4968-b5bd-31dffffef5f3\",                        [{\"line\":{\"color\":\"red\"},\"showlegend\":false,\"x\":[499,500],\"y\":[84.39,84.39],\"type\":\"scatter\"},{\"line\":{\"color\":\"red\"},\"showlegend\":false,\"x\":[500,501],\"y\":[84.39,84.39],\"type\":\"scatter\"},{\"line\":{\"color\":\"red\"},\"showlegend\":false,\"x\":[501,502],\"y\":[84.39,84.38],\"type\":\"scatter\"},{\"line\":{\"color\":\"red\"},\"showlegend\":false,\"x\":[502,503],\"y\":[84.38,84.48],\"type\":\"scatter\"},{\"line\":{\"color\":\"red\"},\"showlegend\":false,\"x\":[503,504],\"y\":[84.48,84.43],\"type\":\"scatter\"},{\"line\":{\"color\":\"red\"},\"showlegend\":false,\"x\":[504,505],\"y\":[84.43,84.44],\"type\":\"scatter\"},{\"line\":{\"color\":\"green\"},\"showlegend\":false,\"x\":[505,506],\"y\":[84.44,84.39],\"type\":\"scatter\"},{\"line\":{\"color\":\"red\"},\"showlegend\":false,\"x\":[506,507],\"y\":[84.39,84.38],\"type\":\"scatter\"},{\"line\":{\"color\":\"red\"},\"showlegend\":false,\"x\":[507,508],\"y\":[84.38,84.38],\"type\":\"scatter\"},{\"line\":{\"color\":\"red\"},\"showlegend\":false,\"x\":[508,509],\"y\":[84.38,84.44],\"type\":\"scatter\"},{\"line\":{\"color\":\"green\"},\"showlegend\":false,\"x\":[509,510],\"y\":[84.44,84.41],\"type\":\"scatter\"},{\"line\":{\"color\":\"green\"},\"showlegend\":false,\"x\":[510,511],\"y\":[84.41,87.53],\"type\":\"scatter\"},{\"line\":{\"color\":\"green\"},\"showlegend\":false,\"x\":[511,512],\"y\":[87.53,87.6],\"type\":\"scatter\"},{\"line\":{\"color\":\"green\"},\"showlegend\":false,\"x\":[512,513],\"y\":[87.6,87.61],\"type\":\"scatter\"},{\"line\":{\"color\":\"green\"},\"showlegend\":false,\"x\":[513,514],\"y\":[87.61,87.65],\"type\":\"scatter\"},{\"line\":{\"color\":\"green\"},\"showlegend\":false,\"x\":[514,515],\"y\":[87.65,87.9],\"type\":\"scatter\"},{\"line\":{\"color\":\"green\"},\"showlegend\":false,\"x\":[515,516],\"y\":[87.9,87.95],\"type\":\"scatter\"},{\"line\":{\"color\":\"green\"},\"showlegend\":false,\"x\":[516,517],\"y\":[87.95,87.99],\"type\":\"scatter\"},{\"line\":{\"color\":\"green\"},\"showlegend\":false,\"x\":[517,518],\"y\":[87.99,87.98],\"type\":\"scatter\"},{\"line\":{\"color\":\"green\"},\"showlegend\":false,\"x\":[518,519],\"y\":[87.98,88.1],\"type\":\"scatter\"},{\"line\":{\"color\":\"green\"},\"showlegend\":false,\"x\":[519,520],\"y\":[88.1,88.08],\"type\":\"scatter\"},{\"line\":{\"color\":\"green\"},\"showlegend\":false,\"x\":[520,521],\"y\":[88.08,88.17],\"type\":\"scatter\"},{\"line\":{\"color\":\"green\"},\"showlegend\":false,\"x\":[521,522],\"y\":[88.17,88.45],\"type\":\"scatter\"},{\"line\":{\"color\":\"green\"},\"showlegend\":false,\"x\":[522,523],\"y\":[88.45,88.74],\"type\":\"scatter\"},{\"line\":{\"color\":\"green\"},\"showlegend\":false,\"x\":[523,524],\"y\":[88.74,88.91],\"type\":\"scatter\"},{\"line\":{\"color\":\"green\"},\"showlegend\":false,\"x\":[524,525],\"y\":[88.91,88.65],\"type\":\"scatter\"},{\"line\":{\"color\":\"green\"},\"showlegend\":false,\"x\":[525,526],\"y\":[88.65,88.81],\"type\":\"scatter\"},{\"line\":{\"color\":\"green\"},\"showlegend\":false,\"x\":[526,527],\"y\":[88.81,88.73],\"type\":\"scatter\"},{\"line\":{\"color\":\"green\"},\"showlegend\":false,\"x\":[527,528],\"y\":[88.73,88.49],\"type\":\"scatter\"},{\"line\":{\"color\":\"green\"},\"showlegend\":false,\"x\":[528,529],\"y\":[88.49,88.35],\"type\":\"scatter\"},{\"line\":{\"color\":\"green\"},\"showlegend\":false,\"x\":[529,530],\"y\":[88.35,88.37],\"type\":\"scatter\"},{\"line\":{\"color\":\"red\"},\"showlegend\":false,\"x\":[530,531],\"y\":[88.37,88.25],\"type\":\"scatter\"},{\"line\":{\"color\":\"red\"},\"showlegend\":false,\"x\":[531,532],\"y\":[88.25,88.36],\"type\":\"scatter\"},{\"line\":{\"color\":\"red\"},\"showlegend\":false,\"x\":[532,533],\"y\":[88.36,88.3],\"type\":\"scatter\"},{\"line\":{\"color\":\"red\"},\"showlegend\":false,\"x\":[533,534],\"y\":[88.3,88.0],\"type\":\"scatter\"},{\"line\":{\"color\":\"red\"},\"showlegend\":false,\"x\":[534,535],\"y\":[88.0,87.92],\"type\":\"scatter\"},{\"line\":{\"color\":\"red\"},\"showlegend\":false,\"x\":[535,536],\"y\":[87.92,87.92],\"type\":\"scatter\"},{\"line\":{\"color\":\"red\"},\"showlegend\":false,\"x\":[536,537],\"y\":[87.92,87.82],\"type\":\"scatter\"},{\"line\":{\"color\":\"red\"},\"showlegend\":false,\"x\":[537,538],\"y\":[87.82,87.87],\"type\":\"scatter\"},{\"line\":{\"color\":\"red\"},\"showlegend\":false,\"x\":[538,539],\"y\":[87.87,87.79],\"type\":\"scatter\"},{\"line\":{\"color\":\"red\"},\"showlegend\":false,\"x\":[539,540],\"y\":[87.79,87.81],\"type\":\"scatter\"},{\"line\":{\"color\":\"red\"},\"showlegend\":false,\"x\":[540,541],\"y\":[87.81,87.96],\"type\":\"scatter\"},{\"line\":{\"color\":\"red\"},\"showlegend\":false,\"x\":[541,542],\"y\":[87.96,87.97],\"type\":\"scatter\"},{\"line\":{\"color\":\"red\"},\"showlegend\":false,\"x\":[542,543],\"y\":[87.97,88.02],\"type\":\"scatter\"},{\"line\":{\"color\":\"green\"},\"showlegend\":false,\"x\":[543,544],\"y\":[88.02,87.95],\"type\":\"scatter\"},{\"line\":{\"color\":\"green\"},\"showlegend\":false,\"x\":[544,545],\"y\":[87.95,87.79],\"type\":\"scatter\"},{\"line\":{\"color\":\"red\"},\"showlegend\":false,\"x\":[545,546],\"y\":[87.79,87.73],\"type\":\"scatter\"},{\"line\":{\"color\":\"red\"},\"showlegend\":false,\"x\":[546,547],\"y\":[87.73,87.69],\"type\":\"scatter\"},{\"line\":{\"color\":\"red\"},\"showlegend\":false,\"x\":[547,548],\"y\":[87.69,87.73],\"type\":\"scatter\"},{\"line\":{\"color\":\"red\"},\"showlegend\":false,\"x\":[548,549],\"y\":[87.73,87.73],\"type\":\"scatter\"},{\"line\":{\"color\":\"red\"},\"showlegend\":false,\"x\":[549,550],\"y\":[87.73,87.72],\"type\":\"scatter\"},{\"line\":{\"color\":\"red\"},\"showlegend\":false,\"x\":[550,551],\"y\":[87.72,87.76],\"type\":\"scatter\"},{\"line\":{\"color\":\"red\"},\"showlegend\":false,\"x\":[551,552],\"y\":[87.76,87.66],\"type\":\"scatter\"},{\"line\":{\"color\":\"red\"},\"showlegend\":false,\"x\":[552,553],\"y\":[87.66,87.57],\"type\":\"scatter\"},{\"line\":{\"color\":\"red\"},\"showlegend\":false,\"x\":[553,554],\"y\":[87.57,87.66],\"type\":\"scatter\"},{\"line\":{\"color\":\"red\"},\"showlegend\":false,\"x\":[554,555],\"y\":[87.66,87.66],\"type\":\"scatter\"},{\"line\":{\"color\":\"red\"},\"showlegend\":false,\"x\":[555,556],\"y\":[87.66,87.66],\"type\":\"scatter\"},{\"line\":{\"color\":\"red\"},\"showlegend\":false,\"x\":[556,557],\"y\":[87.66,87.67],\"type\":\"scatter\"},{\"line\":{\"color\":\"red\"},\"showlegend\":false,\"x\":[557,558],\"y\":[87.67,87.67],\"type\":\"scatter\"},{\"line\":{\"color\":\"green\"},\"showlegend\":false,\"x\":[558,559],\"y\":[87.67,87.68],\"type\":\"scatter\"},{\"line\":{\"color\":\"green\"},\"showlegend\":false,\"x\":[559,560],\"y\":[87.68,87.68],\"type\":\"scatter\"},{\"line\":{\"color\":\"red\"},\"showlegend\":false,\"x\":[560,561],\"y\":[87.68,87.7],\"type\":\"scatter\"},{\"line\":{\"color\":\"green\"},\"showlegend\":false,\"x\":[561,562],\"y\":[87.7,87.68],\"type\":\"scatter\"},{\"line\":{\"color\":\"red\"},\"showlegend\":false,\"x\":[562,563],\"y\":[87.68,87.67],\"type\":\"scatter\"},{\"line\":{\"color\":\"red\"},\"showlegend\":false,\"x\":[563,564],\"y\":[87.67,87.67],\"type\":\"scatter\"},{\"line\":{\"color\":\"red\"},\"showlegend\":false,\"x\":[564,565],\"y\":[87.67,87.61],\"type\":\"scatter\"},{\"line\":{\"color\":\"red\"},\"showlegend\":false,\"x\":[565,566],\"y\":[87.61,87.62],\"type\":\"scatter\"},{\"line\":{\"color\":\"red\"},\"showlegend\":false,\"x\":[566,567],\"y\":[87.62,87.56],\"type\":\"scatter\"},{\"line\":{\"color\":\"red\"},\"showlegend\":false,\"x\":[567,568],\"y\":[87.56,87.53],\"type\":\"scatter\"},{\"line\":{\"color\":\"red\"},\"showlegend\":false,\"x\":[568,569],\"y\":[87.53,87.51],\"type\":\"scatter\"},{\"line\":{\"color\":\"red\"},\"showlegend\":false,\"x\":[569,570],\"y\":[87.51,87.43],\"type\":\"scatter\"},{\"line\":{\"color\":\"red\"},\"showlegend\":false,\"x\":[570,571],\"y\":[87.43,87.35],\"type\":\"scatter\"},{\"line\":{\"color\":\"red\"},\"showlegend\":false,\"x\":[571,572],\"y\":[87.35,87.31],\"type\":\"scatter\"},{\"line\":{\"color\":\"red\"},\"showlegend\":false,\"x\":[572,573],\"y\":[87.31,87.26],\"type\":\"scatter\"},{\"line\":{\"color\":\"red\"},\"showlegend\":false,\"x\":[573,574],\"y\":[87.26,87.36],\"type\":\"scatter\"},{\"line\":{\"color\":\"red\"},\"showlegend\":false,\"x\":[574,575],\"y\":[87.36,87.37],\"type\":\"scatter\"},{\"line\":{\"color\":\"red\"},\"showlegend\":false,\"x\":[575,576],\"y\":[87.37,87.32],\"type\":\"scatter\"},{\"line\":{\"color\":\"red\"},\"showlegend\":false,\"x\":[576,577],\"y\":[87.32,87.34],\"type\":\"scatter\"},{\"line\":{\"color\":\"red\"},\"showlegend\":false,\"x\":[577,578],\"y\":[87.34,87.63],\"type\":\"scatter\"},{\"line\":{\"color\":\"green\"},\"showlegend\":false,\"x\":[578,579],\"y\":[87.63,87.49],\"type\":\"scatter\"},{\"line\":{\"color\":\"green\"},\"showlegend\":false,\"x\":[579,580],\"y\":[87.49,87.42],\"type\":\"scatter\"},{\"line\":{\"color\":\"red\"},\"showlegend\":false,\"x\":[580,581],\"y\":[87.42,87.64],\"type\":\"scatter\"},{\"line\":{\"color\":\"green\"},\"showlegend\":false,\"x\":[581,582],\"y\":[87.64,87.45],\"type\":\"scatter\"},{\"line\":{\"color\":\"green\"},\"showlegend\":false,\"x\":[582,583],\"y\":[87.45,87.62],\"type\":\"scatter\"},{\"line\":{\"color\":\"green\"},\"showlegend\":false,\"x\":[583,584],\"y\":[87.62,87.55],\"type\":\"scatter\"},{\"line\":{\"color\":\"green\"},\"showlegend\":false,\"x\":[584,585],\"y\":[87.55,87.43],\"type\":\"scatter\"},{\"line\":{\"color\":\"green\"},\"showlegend\":false,\"x\":[585,586],\"y\":[87.43,87.54],\"type\":\"scatter\"},{\"line\":{\"color\":\"green\"},\"showlegend\":false,\"x\":[586,587],\"y\":[87.54,87.42],\"type\":\"scatter\"},{\"line\":{\"color\":\"green\"},\"showlegend\":false,\"x\":[587,588],\"y\":[87.42,87.5],\"type\":\"scatter\"},{\"line\":{\"color\":\"green\"},\"showlegend\":false,\"x\":[588,589],\"y\":[87.5,87.49],\"type\":\"scatter\"},{\"line\":{\"color\":\"green\"},\"showlegend\":false,\"x\":[589,590],\"y\":[87.49,87.37],\"type\":\"scatter\"},{\"line\":{\"color\":\"red\"},\"showlegend\":false,\"x\":[590,591],\"y\":[87.37,87.37],\"type\":\"scatter\"},{\"line\":{\"color\":\"red\"},\"showlegend\":false,\"x\":[591,592],\"y\":[87.37,87.23],\"type\":\"scatter\"},{\"line\":{\"color\":\"red\"},\"showlegend\":false,\"x\":[592,593],\"y\":[87.23,87.15],\"type\":\"scatter\"},{\"line\":{\"color\":\"red\"},\"showlegend\":false,\"x\":[593,594],\"y\":[87.15,87.32],\"type\":\"scatter\"},{\"line\":{\"color\":\"red\"},\"showlegend\":false,\"x\":[594,595],\"y\":[87.32,87.37],\"type\":\"scatter\"},{\"line\":{\"color\":\"green\"},\"showlegend\":false,\"x\":[595,596],\"y\":[87.37,87.3],\"type\":\"scatter\"},{\"line\":{\"color\":\"red\"},\"showlegend\":false,\"x\":[596,597],\"y\":[87.3,87.0],\"type\":\"scatter\"},{\"line\":{\"color\":\"red\"},\"showlegend\":false,\"x\":[597,598],\"y\":[87.0,86.92],\"type\":\"scatter\"},{\"line\":{\"color\":\"red\"},\"showlegend\":false,\"x\":[598,599],\"y\":[86.92,87.02],\"type\":\"scatter\"},{\"line\":{\"color\":\"red\"},\"showlegend\":false,\"x\":[599,600],\"y\":[87.02,86.99],\"type\":\"scatter\"},{\"line\":{\"color\":\"red\"},\"showlegend\":false,\"x\":[600,601],\"y\":[86.99,86.9],\"type\":\"scatter\"},{\"line\":{\"color\":\"red\"},\"showlegend\":false,\"x\":[601,602],\"y\":[86.9,86.84],\"type\":\"scatter\"},{\"line\":{\"color\":\"red\"},\"showlegend\":false,\"x\":[602,603],\"y\":[86.84,86.85],\"type\":\"scatter\"},{\"line\":{\"color\":\"red\"},\"showlegend\":false,\"x\":[603,604],\"y\":[86.85,86.73],\"type\":\"scatter\"},{\"line\":{\"color\":\"red\"},\"showlegend\":false,\"x\":[604,605],\"y\":[86.73,86.65],\"type\":\"scatter\"},{\"line\":{\"color\":\"red\"},\"showlegend\":false,\"x\":[605,606],\"y\":[86.65,86.6],\"type\":\"scatter\"},{\"line\":{\"color\":\"red\"},\"showlegend\":false,\"x\":[606,607],\"y\":[86.6,86.47],\"type\":\"scatter\"},{\"line\":{\"color\":\"red\"},\"showlegend\":false,\"x\":[607,608],\"y\":[86.47,86.5],\"type\":\"scatter\"},{\"line\":{\"color\":\"red\"},\"showlegend\":false,\"x\":[608,609],\"y\":[86.5,86.69],\"type\":\"scatter\"},{\"line\":{\"color\":\"red\"},\"showlegend\":false,\"x\":[609,610],\"y\":[86.69,86.74],\"type\":\"scatter\"},{\"line\":{\"color\":\"green\"},\"showlegend\":false,\"x\":[610,611],\"y\":[86.74,86.8],\"type\":\"scatter\"},{\"line\":{\"color\":\"green\"},\"showlegend\":false,\"x\":[611,612],\"y\":[86.8,86.86],\"type\":\"scatter\"},{\"line\":{\"color\":\"green\"},\"showlegend\":false,\"x\":[612,613],\"y\":[86.86,86.79],\"type\":\"scatter\"},{\"line\":{\"color\":\"green\"},\"showlegend\":false,\"x\":[613,614],\"y\":[86.79,86.87],\"type\":\"scatter\"},{\"line\":{\"color\":\"green\"},\"showlegend\":false,\"x\":[614,615],\"y\":[86.87,86.89],\"type\":\"scatter\"},{\"line\":{\"color\":\"green\"},\"showlegend\":false,\"x\":[615,616],\"y\":[86.89,86.9],\"type\":\"scatter\"},{\"line\":{\"color\":\"green\"},\"showlegend\":false,\"x\":[616,617],\"y\":[86.9,86.83],\"type\":\"scatter\"},{\"line\":{\"color\":\"green\"},\"showlegend\":false,\"x\":[617,618],\"y\":[86.83,86.96],\"type\":\"scatter\"},{\"line\":{\"color\":\"green\"},\"showlegend\":false,\"x\":[618,619],\"y\":[86.96,86.82],\"type\":\"scatter\"},{\"line\":{\"color\":\"green\"},\"showlegend\":false,\"x\":[619,620],\"y\":[86.82,86.89],\"type\":\"scatter\"},{\"line\":{\"color\":\"green\"},\"showlegend\":false,\"x\":[620,621],\"y\":[86.89,86.85],\"type\":\"scatter\"},{\"line\":{\"color\":\"red\"},\"showlegend\":false,\"x\":[621,622],\"y\":[86.85,86.79],\"type\":\"scatter\"},{\"line\":{\"color\":\"red\"},\"showlegend\":false,\"x\":[622,623],\"y\":[86.79,86.88],\"type\":\"scatter\"},{\"line\":{\"color\":\"green\"},\"showlegend\":false,\"x\":[623,624],\"y\":[86.88,86.85],\"type\":\"scatter\"},{\"line\":{\"color\":\"green\"},\"showlegend\":false,\"x\":[624,625],\"y\":[86.85,86.83],\"type\":\"scatter\"},{\"line\":{\"color\":\"green\"},\"showlegend\":false,\"x\":[625,626],\"y\":[86.83,86.9],\"type\":\"scatter\"},{\"line\":{\"color\":\"green\"},\"showlegend\":false,\"x\":[626,627],\"y\":[86.9,86.99],\"type\":\"scatter\"},{\"line\":{\"color\":\"green\"},\"showlegend\":false,\"x\":[627,628],\"y\":[86.99,87.2],\"type\":\"scatter\"},{\"line\":{\"color\":\"green\"},\"showlegend\":false,\"x\":[628,629],\"y\":[87.2,87.33],\"type\":\"scatter\"},{\"line\":{\"color\":\"green\"},\"showlegend\":false,\"x\":[629,630],\"y\":[87.33,87.26],\"type\":\"scatter\"},{\"line\":{\"color\":\"green\"},\"showlegend\":false,\"x\":[630,631],\"y\":[87.26,87.37],\"type\":\"scatter\"},{\"line\":{\"color\":\"green\"},\"showlegend\":false,\"x\":[631,632],\"y\":[87.37,87.21],\"type\":\"scatter\"},{\"line\":{\"color\":\"green\"},\"showlegend\":false,\"x\":[632,633],\"y\":[87.21,87.26],\"type\":\"scatter\"},{\"line\":{\"color\":\"green\"},\"showlegend\":false,\"x\":[633,634],\"y\":[87.26,87.32],\"type\":\"scatter\"},{\"line\":{\"color\":\"green\"},\"showlegend\":false,\"x\":[634,635],\"y\":[87.32,87.59],\"type\":\"scatter\"},{\"line\":{\"color\":\"green\"},\"showlegend\":false,\"x\":[635,636],\"y\":[87.59,87.72],\"type\":\"scatter\"},{\"line\":{\"color\":\"green\"},\"showlegend\":false,\"x\":[636,637],\"y\":[87.72,87.73],\"type\":\"scatter\"},{\"line\":{\"color\":\"green\"},\"showlegend\":false,\"x\":[637,638],\"y\":[87.73,87.69],\"type\":\"scatter\"},{\"line\":{\"color\":\"green\"},\"showlegend\":false,\"x\":[638,639],\"y\":[87.69,87.71],\"type\":\"scatter\"},{\"line\":{\"color\":\"green\"},\"showlegend\":false,\"x\":[639,640],\"y\":[87.71,87.64],\"type\":\"scatter\"},{\"line\":{\"color\":\"green\"},\"showlegend\":false,\"x\":[640,641],\"y\":[87.64,87.61],\"type\":\"scatter\"},{\"line\":{\"color\":\"red\"},\"showlegend\":false,\"x\":[641,642],\"y\":[87.61,87.65],\"type\":\"scatter\"},{\"line\":{\"color\":\"red\"},\"showlegend\":false,\"x\":[642,643],\"y\":[87.65,87.62],\"type\":\"scatter\"},{\"line\":{\"color\":\"red\"},\"showlegend\":false,\"x\":[643,644],\"y\":[87.62,87.65],\"type\":\"scatter\"},{\"line\":{\"color\":\"red\"},\"showlegend\":false,\"x\":[644,645],\"y\":[87.65,87.56],\"type\":\"scatter\"},{\"line\":{\"color\":\"red\"},\"showlegend\":false,\"x\":[645,646],\"y\":[87.56,87.43],\"type\":\"scatter\"},{\"line\":{\"color\":\"red\"},\"showlegend\":false,\"x\":[646,647],\"y\":[87.43,87.44],\"type\":\"scatter\"},{\"line\":{\"color\":\"red\"},\"showlegend\":false,\"x\":[647,648],\"y\":[87.44,87.36],\"type\":\"scatter\"},{\"line\":{\"color\":\"red\"},\"showlegend\":false,\"x\":[648,649],\"y\":[87.36,87.33],\"type\":\"scatter\"},{\"line\":{\"color\":\"red\"},\"showlegend\":false,\"x\":[649,650],\"y\":[87.33,87.35],\"type\":\"scatter\"},{\"line\":{\"color\":\"red\"},\"showlegend\":false,\"x\":[650,651],\"y\":[87.35,87.24],\"type\":\"scatter\"},{\"line\":{\"color\":\"red\"},\"showlegend\":false,\"x\":[651,652],\"y\":[87.24,87.36],\"type\":\"scatter\"},{\"line\":{\"color\":\"red\"},\"showlegend\":false,\"x\":[652,653],\"y\":[87.36,87.8],\"type\":\"scatter\"},{\"line\":{\"color\":\"green\"},\"showlegend\":false,\"x\":[653,654],\"y\":[87.8,87.9],\"type\":\"scatter\"},{\"line\":{\"color\":\"green\"},\"showlegend\":false,\"x\":[654,655],\"y\":[87.9,87.99],\"type\":\"scatter\"},{\"line\":{\"color\":\"green\"},\"showlegend\":false,\"x\":[655,656],\"y\":[87.99,87.94],\"type\":\"scatter\"},{\"line\":{\"color\":\"green\"},\"showlegend\":false,\"x\":[656,657],\"y\":[87.94,87.98],\"type\":\"scatter\"},{\"line\":{\"color\":\"green\"},\"showlegend\":false,\"x\":[657,658],\"y\":[87.98,87.89],\"type\":\"scatter\"},{\"line\":{\"color\":\"green\"},\"showlegend\":false,\"x\":[658,659],\"y\":[87.89,87.85],\"type\":\"scatter\"},{\"line\":{\"color\":\"green\"},\"showlegend\":false,\"x\":[659,660],\"y\":[87.85,88.0],\"type\":\"scatter\"},{\"line\":{\"color\":\"green\"},\"showlegend\":false,\"x\":[660,661],\"y\":[88.0,87.7],\"type\":\"scatter\"},{\"line\":{\"color\":\"green\"},\"showlegend\":false,\"x\":[661,662],\"y\":[87.7,87.72],\"type\":\"scatter\"},{\"line\":{\"color\":\"green\"},\"showlegend\":false,\"x\":[662,663],\"y\":[87.72,87.67],\"type\":\"scatter\"},{\"line\":{\"color\":\"green\"},\"showlegend\":false,\"x\":[663,664],\"y\":[87.67,87.81],\"type\":\"scatter\"},{\"line\":{\"color\":\"green\"},\"showlegend\":false,\"x\":[664,665],\"y\":[87.81,87.75],\"type\":\"scatter\"},{\"line\":{\"color\":\"green\"},\"showlegend\":false,\"x\":[665,666],\"y\":[87.75,87.83],\"type\":\"scatter\"},{\"line\":{\"color\":\"green\"},\"showlegend\":false,\"x\":[666,667],\"y\":[87.83,87.55],\"type\":\"scatter\"},{\"line\":{\"color\":\"red\"},\"showlegend\":false,\"x\":[667,668],\"y\":[87.55,87.4],\"type\":\"scatter\"},{\"line\":{\"color\":\"red\"},\"showlegend\":false,\"x\":[668,669],\"y\":[87.4,87.21],\"type\":\"scatter\"},{\"line\":{\"color\":\"red\"},\"showlegend\":false,\"x\":[669,670],\"y\":[87.21,87.38],\"type\":\"scatter\"},{\"line\":{\"color\":\"red\"},\"showlegend\":false,\"x\":[670,671],\"y\":[87.38,87.54],\"type\":\"scatter\"},{\"line\":{\"color\":\"red\"},\"showlegend\":false,\"x\":[671,672],\"y\":[87.54,87.42],\"type\":\"scatter\"},{\"line\":{\"color\":\"red\"},\"showlegend\":false,\"x\":[672,673],\"y\":[87.42,87.41],\"type\":\"scatter\"},{\"line\":{\"color\":\"red\"},\"showlegend\":false,\"x\":[673,674],\"y\":[87.41,87.64],\"type\":\"scatter\"},{\"line\":{\"color\":\"green\"},\"showlegend\":false,\"x\":[674,675],\"y\":[87.64,87.56],\"type\":\"scatter\"},{\"line\":{\"color\":\"green\"},\"showlegend\":false,\"x\":[675,676],\"y\":[87.56,87.0],\"type\":\"scatter\"},{\"line\":{\"color\":\"red\"},\"showlegend\":false,\"x\":[676,677],\"y\":[87.0,87.13],\"type\":\"scatter\"},{\"line\":{\"color\":\"red\"},\"showlegend\":false,\"x\":[677,678],\"y\":[87.13,87.25],\"type\":\"scatter\"},{\"line\":{\"color\":\"red\"},\"showlegend\":false,\"x\":[678,679],\"y\":[87.25,87.4],\"type\":\"scatter\"},{\"line\":{\"color\":\"green\"},\"showlegend\":false,\"x\":[679,680],\"y\":[87.4,87.57],\"type\":\"scatter\"},{\"line\":{\"color\":\"green\"},\"showlegend\":false,\"x\":[680,681],\"y\":[87.57,87.66],\"type\":\"scatter\"},{\"line\":{\"color\":\"green\"},\"showlegend\":false,\"x\":[681,682],\"y\":[87.66,87.86],\"type\":\"scatter\"},{\"line\":{\"color\":\"green\"},\"showlegend\":false,\"x\":[682,683],\"y\":[87.86,88.12],\"type\":\"scatter\"},{\"line\":{\"color\":\"green\"},\"showlegend\":false,\"x\":[683,684],\"y\":[88.12,88.15],\"type\":\"scatter\"},{\"line\":{\"color\":\"green\"},\"showlegend\":false,\"x\":[684,685],\"y\":[88.15,88.17],\"type\":\"scatter\"},{\"line\":{\"color\":\"green\"},\"showlegend\":false,\"x\":[685,686],\"y\":[88.17,87.96],\"type\":\"scatter\"},{\"line\":{\"color\":\"green\"},\"showlegend\":false,\"x\":[686,687],\"y\":[87.96,88.09],\"type\":\"scatter\"},{\"line\":{\"color\":\"green\"},\"showlegend\":false,\"x\":[687,688],\"y\":[88.09,87.89],\"type\":\"scatter\"},{\"line\":{\"color\":\"green\"},\"showlegend\":false,\"x\":[688,689],\"y\":[87.89,87.97],\"type\":\"scatter\"},{\"line\":{\"color\":\"green\"},\"showlegend\":false,\"x\":[689,690],\"y\":[87.97,87.85],\"type\":\"scatter\"},{\"line\":{\"color\":\"green\"},\"showlegend\":false,\"x\":[690,691],\"y\":[87.85,87.84],\"type\":\"scatter\"},{\"line\":{\"color\":\"green\"},\"showlegend\":false,\"x\":[691,692],\"y\":[87.84,87.96],\"type\":\"scatter\"},{\"line\":{\"color\":\"green\"},\"showlegend\":false,\"x\":[692,693],\"y\":[87.96,87.97],\"type\":\"scatter\"},{\"line\":{\"color\":\"green\"},\"showlegend\":false,\"x\":[693,694],\"y\":[87.97,87.96],\"type\":\"scatter\"},{\"line\":{\"color\":\"green\"},\"showlegend\":false,\"x\":[694,695],\"y\":[87.96,87.94],\"type\":\"scatter\"},{\"line\":{\"color\":\"red\"},\"showlegend\":false,\"x\":[695,696],\"y\":[87.94,87.97],\"type\":\"scatter\"},{\"line\":{\"color\":\"red\"},\"showlegend\":false,\"x\":[696,697],\"y\":[87.97,87.79],\"type\":\"scatter\"},{\"line\":{\"color\":\"red\"},\"showlegend\":false,\"x\":[697,698],\"y\":[87.79,87.79],\"type\":\"scatter\"},{\"line\":{\"color\":\"red\"},\"showlegend\":false,\"x\":[698,699],\"y\":[87.79,87.83],\"type\":\"scatter\"},{\"line\":{\"color\":\"red\"},\"showlegend\":false,\"x\":[699,700],\"y\":[87.83,87.88],\"type\":\"scatter\"},{\"line\":{\"color\":\"red\"},\"showlegend\":false,\"x\":[700,701],\"y\":[87.88,88.0],\"type\":\"scatter\"},{\"line\":{\"color\":\"green\"},\"showlegend\":false,\"x\":[701,702],\"y\":[88.0,88.04],\"type\":\"scatter\"},{\"line\":{\"color\":\"green\"},\"showlegend\":false,\"x\":[702,703],\"y\":[88.04,88.15],\"type\":\"scatter\"},{\"line\":{\"color\":\"green\"},\"showlegend\":false,\"x\":[703,704],\"y\":[88.15,87.9],\"type\":\"scatter\"},{\"line\":{\"color\":\"red\"},\"showlegend\":false,\"x\":[704,705],\"y\":[87.9,87.85],\"type\":\"scatter\"},{\"line\":{\"color\":\"red\"},\"showlegend\":false,\"x\":[705,706],\"y\":[87.85,87.88],\"type\":\"scatter\"},{\"line\":{\"color\":\"red\"},\"showlegend\":false,\"x\":[706,707],\"y\":[87.88,87.83],\"type\":\"scatter\"},{\"line\":{\"color\":\"red\"},\"showlegend\":false,\"x\":[707,708],\"y\":[87.83,87.68],\"type\":\"scatter\"},{\"line\":{\"color\":\"red\"},\"showlegend\":false,\"x\":[708,709],\"y\":[87.68,87.69],\"type\":\"scatter\"},{\"line\":{\"color\":\"red\"},\"showlegend\":false,\"x\":[709,710],\"y\":[87.69,87.64],\"type\":\"scatter\"},{\"line\":{\"color\":\"red\"},\"showlegend\":false,\"x\":[710,711],\"y\":[87.64,87.57],\"type\":\"scatter\"},{\"line\":{\"color\":\"red\"},\"showlegend\":false,\"x\":[711,712],\"y\":[87.57,87.59],\"type\":\"scatter\"},{\"line\":{\"color\":\"red\"},\"showlegend\":false,\"x\":[712,713],\"y\":[87.59,87.64],\"type\":\"scatter\"},{\"line\":{\"color\":\"red\"},\"showlegend\":false,\"x\":[713,714],\"y\":[87.64,87.74],\"type\":\"scatter\"},{\"line\":{\"color\":\"green\"},\"showlegend\":false,\"x\":[714,715],\"y\":[87.74,87.81],\"type\":\"scatter\"},{\"line\":{\"color\":\"green\"},\"showlegend\":false,\"x\":[715,716],\"y\":[87.81,87.84],\"type\":\"scatter\"},{\"line\":{\"color\":\"green\"},\"showlegend\":false,\"x\":[716,717],\"y\":[87.84,87.97],\"type\":\"scatter\"},{\"line\":{\"color\":\"green\"},\"showlegend\":false,\"x\":[717,718],\"y\":[87.97,88.01],\"type\":\"scatter\"},{\"line\":{\"color\":\"green\"},\"showlegend\":false,\"x\":[718,719],\"y\":[88.01,88.06],\"type\":\"scatter\"},{\"line\":{\"color\":\"green\"},\"showlegend\":false,\"x\":[719,720],\"y\":[88.06,88.1],\"type\":\"scatter\"},{\"line\":{\"color\":\"green\"},\"showlegend\":false,\"x\":[720,721],\"y\":[88.1,87.98],\"type\":\"scatter\"},{\"line\":{\"color\":\"green\"},\"showlegend\":false,\"x\":[721,722],\"y\":[87.98,87.95],\"type\":\"scatter\"},{\"line\":{\"color\":\"green\"},\"showlegend\":false,\"x\":[722,723],\"y\":[87.95,87.91],\"type\":\"scatter\"},{\"line\":{\"color\":\"green\"},\"showlegend\":false,\"x\":[723,724],\"y\":[87.91,87.96],\"type\":\"scatter\"},{\"line\":{\"color\":\"green\"},\"showlegend\":false,\"x\":[724,725],\"y\":[87.96,87.91],\"type\":\"scatter\"},{\"line\":{\"color\":\"green\"},\"showlegend\":false,\"x\":[725,726],\"y\":[87.91,87.64],\"type\":\"scatter\"},{\"line\":{\"color\":\"red\"},\"showlegend\":false,\"x\":[726,727],\"y\":[87.64,87.64],\"type\":\"scatter\"},{\"line\":{\"color\":\"red\"},\"showlegend\":false,\"x\":[727,728],\"y\":[87.64,87.85],\"type\":\"scatter\"},{\"line\":{\"color\":\"green\"},\"showlegend\":false,\"x\":[728,729],\"y\":[87.85,87.95],\"type\":\"scatter\"},{\"line\":{\"color\":\"green\"},\"showlegend\":false,\"x\":[729,730],\"y\":[87.95,87.85],\"type\":\"scatter\"},{\"line\":{\"color\":\"green\"},\"showlegend\":false,\"x\":[730,731],\"y\":[87.85,87.99],\"type\":\"scatter\"},{\"line\":{\"color\":\"green\"},\"showlegend\":false,\"x\":[731,732],\"y\":[87.99,88.15],\"type\":\"scatter\"},{\"line\":{\"color\":\"green\"},\"showlegend\":false,\"x\":[732,733],\"y\":[88.15,88.19],\"type\":\"scatter\"},{\"line\":{\"color\":\"green\"},\"showlegend\":false,\"x\":[733,734],\"y\":[88.19,88.22],\"type\":\"scatter\"},{\"line\":{\"color\":\"green\"},\"showlegend\":false,\"x\":[734,735],\"y\":[88.22,88.19],\"type\":\"scatter\"},{\"line\":{\"color\":\"green\"},\"showlegend\":false,\"x\":[735,736],\"y\":[88.19,88.21],\"type\":\"scatter\"},{\"line\":{\"color\":\"green\"},\"showlegend\":false,\"x\":[736,737],\"y\":[88.21,88.15],\"type\":\"scatter\"},{\"line\":{\"color\":\"green\"},\"showlegend\":false,\"x\":[737,738],\"y\":[88.15,88.15],\"type\":\"scatter\"},{\"line\":{\"color\":\"green\"},\"showlegend\":false,\"x\":[738,739],\"y\":[88.15,88.2],\"type\":\"scatter\"},{\"line\":{\"color\":\"green\"},\"showlegend\":false,\"x\":[739,740],\"y\":[88.2,88.16],\"type\":\"scatter\"},{\"line\":{\"color\":\"green\"},\"showlegend\":false,\"x\":[740,741],\"y\":[88.16,88.14],\"type\":\"scatter\"},{\"line\":{\"color\":\"green\"},\"showlegend\":false,\"x\":[741,742],\"y\":[88.14,88.11],\"type\":\"scatter\"},{\"line\":{\"color\":\"green\"},\"showlegend\":false,\"x\":[742,743],\"y\":[88.11,88.09],\"type\":\"scatter\"},{\"line\":{\"color\":\"green\"},\"showlegend\":false,\"x\":[743,744],\"y\":[88.09,88.05],\"type\":\"scatter\"},{\"line\":{\"color\":\"red\"},\"showlegend\":false,\"x\":[744,745],\"y\":[88.05,88.05],\"type\":\"scatter\"},{\"line\":{\"color\":\"red\"},\"showlegend\":false,\"x\":[745,746],\"y\":[88.05,88.1],\"type\":\"scatter\"},{\"line\":{\"color\":\"green\"},\"showlegend\":false,\"x\":[746,747],\"y\":[88.1,88.1],\"type\":\"scatter\"},{\"line\":{\"color\":\"green\"},\"showlegend\":false,\"x\":[747,748],\"y\":[88.1,88.09],\"type\":\"scatter\"},{\"line\":{\"color\":\"green\"},\"showlegend\":false,\"x\":[748,749],\"y\":[88.09,88.12],\"type\":\"scatter\"},{\"line\":{\"color\":\"green\"},\"showlegend\":false,\"x\":[749,750],\"y\":[88.12,88.09],\"type\":\"scatter\"},{\"line\":{\"color\":\"red\"},\"showlegend\":false,\"x\":[750,751],\"y\":[88.09,88.09],\"type\":\"scatter\"},{\"line\":{\"color\":\"red\"},\"showlegend\":false,\"x\":[751,752],\"y\":[88.09,88.1],\"type\":\"scatter\"},{\"line\":{\"color\":\"red\"},\"showlegend\":false,\"x\":[752,753],\"y\":[88.1,88.03],\"type\":\"scatter\"},{\"line\":{\"color\":\"red\"},\"showlegend\":false,\"x\":[753,754],\"y\":[88.03,88.05],\"type\":\"scatter\"},{\"line\":{\"color\":\"red\"},\"showlegend\":false,\"x\":[754,755],\"y\":[88.05,88.06],\"type\":\"scatter\"},{\"line\":{\"color\":\"red\"},\"showlegend\":false,\"x\":[755,756],\"y\":[88.06,88.06],\"type\":\"scatter\"},{\"line\":{\"color\":\"red\"},\"showlegend\":false,\"x\":[756,757],\"y\":[88.06,88.03],\"type\":\"scatter\"},{\"line\":{\"color\":\"red\"},\"showlegend\":false,\"x\":[757,758],\"y\":[88.03,88.07],\"type\":\"scatter\"},{\"line\":{\"color\":\"red\"},\"showlegend\":false,\"x\":[758,759],\"y\":[88.07,88.12],\"type\":\"scatter\"},{\"line\":{\"color\":\"green\"},\"showlegend\":false,\"x\":[759,760],\"y\":[88.12,88.14],\"type\":\"scatter\"},{\"line\":{\"color\":\"green\"},\"showlegend\":false,\"x\":[760,761],\"y\":[88.14,88.2],\"type\":\"scatter\"},{\"line\":{\"color\":\"green\"},\"showlegend\":false,\"x\":[761,762],\"y\":[88.2,88.15],\"type\":\"scatter\"},{\"line\":{\"color\":\"green\"},\"showlegend\":false,\"x\":[762,763],\"y\":[88.15,88.17],\"type\":\"scatter\"},{\"line\":{\"color\":\"green\"},\"showlegend\":false,\"x\":[763,764],\"y\":[88.17,88.17],\"type\":\"scatter\"},{\"line\":{\"color\":\"green\"},\"showlegend\":false,\"x\":[764,765],\"y\":[88.17,88.17],\"type\":\"scatter\"},{\"line\":{\"color\":\"green\"},\"showlegend\":false,\"x\":[765,766],\"y\":[88.17,88.19],\"type\":\"scatter\"},{\"line\":{\"color\":\"green\"},\"showlegend\":false,\"x\":[766,767],\"y\":[88.19,88.25],\"type\":\"scatter\"},{\"line\":{\"color\":\"green\"},\"showlegend\":false,\"x\":[767,768],\"y\":[88.25,88.17],\"type\":\"scatter\"},{\"line\":{\"color\":\"green\"},\"showlegend\":false,\"x\":[768,769],\"y\":[88.17,88.18],\"type\":\"scatter\"},{\"line\":{\"color\":\"green\"},\"showlegend\":false,\"x\":[769,770],\"y\":[88.18,88.2],\"type\":\"scatter\"},{\"line\":{\"color\":\"green\"},\"showlegend\":false,\"x\":[770,771],\"y\":[88.2,88.21],\"type\":\"scatter\"},{\"line\":{\"color\":\"green\"},\"showlegend\":false,\"x\":[771,772],\"y\":[88.21,88.24],\"type\":\"scatter\"},{\"line\":{\"color\":\"green\"},\"showlegend\":false,\"x\":[772,773],\"y\":[88.24,88.04],\"type\":\"scatter\"},{\"line\":{\"color\":\"red\"},\"showlegend\":false,\"x\":[773,774],\"y\":[88.04,87.97],\"type\":\"scatter\"},{\"line\":{\"color\":\"red\"},\"showlegend\":false,\"x\":[774,775],\"y\":[87.97,87.93],\"type\":\"scatter\"},{\"line\":{\"color\":\"red\"},\"showlegend\":false,\"x\":[775,776],\"y\":[87.93,87.94],\"type\":\"scatter\"},{\"line\":{\"color\":\"red\"},\"showlegend\":false,\"x\":[776,777],\"y\":[87.94,87.9],\"type\":\"scatter\"},{\"line\":{\"color\":\"red\"},\"showlegend\":false,\"x\":[777,778],\"y\":[87.9,87.92],\"type\":\"scatter\"},{\"line\":{\"color\":\"red\"},\"showlegend\":false,\"x\":[778,779],\"y\":[87.92,87.95],\"type\":\"scatter\"},{\"line\":{\"color\":\"red\"},\"showlegend\":false,\"x\":[779,780],\"y\":[87.95,87.91],\"type\":\"scatter\"},{\"line\":{\"color\":\"red\"},\"showlegend\":false,\"x\":[780,781],\"y\":[87.91,87.92],\"type\":\"scatter\"},{\"line\":{\"color\":\"red\"},\"showlegend\":false,\"x\":[781,782],\"y\":[87.92,87.95],\"type\":\"scatter\"},{\"line\":{\"color\":\"red\"},\"showlegend\":false,\"x\":[782,783],\"y\":[87.95,87.99],\"type\":\"scatter\"},{\"line\":{\"color\":\"green\"},\"showlegend\":false,\"x\":[783,784],\"y\":[87.99,87.98],\"type\":\"scatter\"},{\"line\":{\"color\":\"green\"},\"showlegend\":false,\"x\":[784,785],\"y\":[87.98,87.88],\"type\":\"scatter\"},{\"line\":{\"color\":\"red\"},\"showlegend\":false,\"x\":[785,786],\"y\":[87.88,87.89],\"type\":\"scatter\"},{\"line\":{\"color\":\"red\"},\"showlegend\":false,\"x\":[786,787],\"y\":[87.89,87.91],\"type\":\"scatter\"},{\"line\":{\"color\":\"red\"},\"showlegend\":false,\"x\":[787,788],\"y\":[87.91,87.81],\"type\":\"scatter\"},{\"line\":{\"color\":\"red\"},\"showlegend\":false,\"x\":[788,789],\"y\":[87.81,87.71],\"type\":\"scatter\"},{\"line\":{\"color\":\"red\"},\"showlegend\":false,\"x\":[789,790],\"y\":[87.71,87.83],\"type\":\"scatter\"},{\"line\":{\"color\":\"green\"},\"showlegend\":false,\"x\":[790,791],\"y\":[87.83,87.79],\"type\":\"scatter\"},{\"line\":{\"color\":\"red\"},\"showlegend\":false,\"x\":[791,792],\"y\":[87.79,87.9],\"type\":\"scatter\"},{\"line\":{\"color\":\"green\"},\"showlegend\":false,\"x\":[792,793],\"y\":[87.9,87.87],\"type\":\"scatter\"},{\"line\":{\"color\":\"green\"},\"showlegend\":false,\"x\":[793,794],\"y\":[87.87,87.94],\"type\":\"scatter\"},{\"line\":{\"color\":\"green\"},\"showlegend\":false,\"x\":[794,795],\"y\":[87.94,88.07],\"type\":\"scatter\"},{\"line\":{\"color\":\"green\"},\"showlegend\":false,\"x\":[795,796],\"y\":[88.07,88.04],\"type\":\"scatter\"},{\"line\":{\"color\":\"green\"},\"showlegend\":false,\"x\":[796,797],\"y\":[88.04,87.98],\"type\":\"scatter\"},{\"line\":{\"color\":\"green\"},\"showlegend\":false,\"x\":[797,798],\"y\":[87.98,88.03],\"type\":\"scatter\"},{\"line\":{\"color\":\"green\"},\"showlegend\":false,\"x\":[798,799],\"y\":[88.03,88.01],\"type\":\"scatter\"},{\"line\":{\"color\":\"green\"},\"showlegend\":false,\"x\":[799,800],\"y\":[88.01,88.08],\"type\":\"scatter\"},{\"line\":{\"color\":\"green\"},\"showlegend\":false,\"x\":[800,801],\"y\":[88.08,88.06],\"type\":\"scatter\"},{\"line\":{\"color\":\"green\"},\"showlegend\":false,\"x\":[801,802],\"y\":[88.06,88.06],\"type\":\"scatter\"},{\"line\":{\"color\":\"green\"},\"showlegend\":false,\"x\":[802,803],\"y\":[88.06,87.98],\"type\":\"scatter\"},{\"line\":{\"color\":\"green\"},\"showlegend\":false,\"x\":[803,804],\"y\":[87.98,88.03],\"type\":\"scatter\"},{\"line\":{\"color\":\"green\"},\"showlegend\":false,\"x\":[804,805],\"y\":[88.03,88.11],\"type\":\"scatter\"},{\"line\":{\"color\":\"green\"},\"showlegend\":false,\"x\":[805,806],\"y\":[88.11,87.92],\"type\":\"scatter\"},{\"line\":{\"color\":\"red\"},\"showlegend\":false,\"x\":[806,807],\"y\":[87.92,87.89],\"type\":\"scatter\"},{\"line\":{\"color\":\"red\"},\"showlegend\":false,\"x\":[807,808],\"y\":[87.89,87.84],\"type\":\"scatter\"},{\"line\":{\"color\":\"red\"},\"showlegend\":false,\"x\":[808,809],\"y\":[87.84,87.82],\"type\":\"scatter\"},{\"line\":{\"color\":\"red\"},\"showlegend\":false,\"x\":[809,810],\"y\":[87.82,87.82],\"type\":\"scatter\"},{\"line\":{\"color\":\"red\"},\"showlegend\":false,\"x\":[810,811],\"y\":[87.82,87.86],\"type\":\"scatter\"},{\"line\":{\"color\":\"red\"},\"showlegend\":false,\"x\":[811,812],\"y\":[87.86,87.79],\"type\":\"scatter\"},{\"line\":{\"color\":\"red\"},\"showlegend\":false,\"x\":[812,813],\"y\":[87.79,87.81],\"type\":\"scatter\"},{\"line\":{\"color\":\"red\"},\"showlegend\":false,\"x\":[813,814],\"y\":[87.81,87.82],\"type\":\"scatter\"},{\"line\":{\"color\":\"red\"},\"showlegend\":false,\"x\":[814,815],\"y\":[87.82,87.81],\"type\":\"scatter\"},{\"line\":{\"color\":\"red\"},\"showlegend\":false,\"x\":[815,816],\"y\":[87.81,87.81],\"type\":\"scatter\"},{\"line\":{\"color\":\"red\"},\"showlegend\":false,\"x\":[816,817],\"y\":[87.81,87.8],\"type\":\"scatter\"},{\"line\":{\"color\":\"red\"},\"showlegend\":false,\"x\":[817,818],\"y\":[87.8,87.83],\"type\":\"scatter\"},{\"line\":{\"color\":\"red\"},\"showlegend\":false,\"x\":[818,819],\"y\":[87.83,87.82],\"type\":\"scatter\"},{\"line\":{\"color\":\"green\"},\"showlegend\":false,\"x\":[819,820],\"y\":[87.82,87.8],\"type\":\"scatter\"},{\"line\":{\"color\":\"red\"},\"showlegend\":false,\"x\":[820,821],\"y\":[87.8,87.79],\"type\":\"scatter\"},{\"line\":{\"color\":\"red\"},\"showlegend\":false,\"x\":[821,822],\"y\":[87.79,87.74],\"type\":\"scatter\"},{\"line\":{\"color\":\"red\"},\"showlegend\":false,\"x\":[822,823],\"y\":[87.74,87.77],\"type\":\"scatter\"},{\"line\":{\"color\":\"red\"},\"showlegend\":false,\"x\":[823,824],\"y\":[87.77,87.73],\"type\":\"scatter\"},{\"line\":{\"color\":\"red\"},\"showlegend\":false,\"x\":[824,825],\"y\":[87.73,87.73],\"type\":\"scatter\"},{\"line\":{\"color\":\"red\"},\"showlegend\":false,\"x\":[825,826],\"y\":[87.73,87.63],\"type\":\"scatter\"},{\"line\":{\"color\":\"red\"},\"showlegend\":false,\"x\":[826,827],\"y\":[87.63,87.67],\"type\":\"scatter\"},{\"line\":{\"color\":\"red\"},\"showlegend\":false,\"x\":[827,828],\"y\":[87.67,87.66],\"type\":\"scatter\"},{\"line\":{\"color\":\"red\"},\"showlegend\":false,\"x\":[828,829],\"y\":[87.66,87.66],\"type\":\"scatter\"},{\"line\":{\"color\":\"red\"},\"showlegend\":false,\"x\":[829,830],\"y\":[87.66,87.68],\"type\":\"scatter\"},{\"line\":{\"color\":\"red\"},\"showlegend\":false,\"x\":[830,831],\"y\":[87.68,87.68],\"type\":\"scatter\"},{\"line\":{\"color\":\"green\"},\"showlegend\":false,\"x\":[831,832],\"y\":[87.68,87.7],\"type\":\"scatter\"},{\"line\":{\"color\":\"green\"},\"showlegend\":false,\"x\":[832,833],\"y\":[87.7,87.7],\"type\":\"scatter\"},{\"line\":{\"color\":\"green\"},\"showlegend\":false,\"x\":[833,834],\"y\":[87.7,87.76],\"type\":\"scatter\"},{\"line\":{\"color\":\"green\"},\"showlegend\":false,\"x\":[834,835],\"y\":[87.76,87.8],\"type\":\"scatter\"},{\"line\":{\"color\":\"green\"},\"showlegend\":false,\"x\":[835,836],\"y\":[87.8,87.74],\"type\":\"scatter\"},{\"line\":{\"color\":\"green\"},\"showlegend\":false,\"x\":[836,837],\"y\":[87.74,87.74],\"type\":\"scatter\"},{\"line\":{\"color\":\"green\"},\"showlegend\":false,\"x\":[837,838],\"y\":[87.74,87.71],\"type\":\"scatter\"},{\"line\":{\"color\":\"green\"},\"showlegend\":false,\"x\":[838,839],\"y\":[87.71,87.74],\"type\":\"scatter\"},{\"line\":{\"color\":\"green\"},\"showlegend\":false,\"x\":[839,840],\"y\":[87.74,87.76],\"type\":\"scatter\"},{\"line\":{\"color\":\"green\"},\"showlegend\":false,\"x\":[840,841],\"y\":[87.76,87.71],\"type\":\"scatter\"},{\"line\":{\"color\":\"green\"},\"showlegend\":false,\"x\":[841,842],\"y\":[87.71,87.7],\"type\":\"scatter\"},{\"line\":{\"color\":\"red\"},\"showlegend\":false,\"x\":[842,843],\"y\":[87.7,87.7],\"type\":\"scatter\"},{\"line\":{\"color\":\"red\"},\"showlegend\":false,\"x\":[843,844],\"y\":[87.7,87.69],\"type\":\"scatter\"},{\"line\":{\"color\":\"red\"},\"showlegend\":false,\"x\":[844,845],\"y\":[87.69,87.6],\"type\":\"scatter\"},{\"line\":{\"color\":\"red\"},\"showlegend\":false,\"x\":[845,846],\"y\":[87.6,87.56],\"type\":\"scatter\"},{\"line\":{\"color\":\"red\"},\"showlegend\":false,\"x\":[846,847],\"y\":[87.56,87.65],\"type\":\"scatter\"},{\"line\":{\"color\":\"red\"},\"showlegend\":false,\"x\":[847,848],\"y\":[87.65,87.65],\"type\":\"scatter\"},{\"line\":{\"color\":\"red\"},\"showlegend\":false,\"x\":[848,849],\"y\":[87.65,87.66],\"type\":\"scatter\"},{\"line\":{\"color\":\"red\"},\"showlegend\":false,\"x\":[849,850],\"y\":[87.66,87.59],\"type\":\"scatter\"},{\"line\":{\"color\":\"red\"},\"showlegend\":false,\"x\":[850,851],\"y\":[87.59,87.64],\"type\":\"scatter\"},{\"line\":{\"color\":\"green\"},\"showlegend\":false,\"x\":[851,852],\"y\":[87.64,87.55],\"type\":\"scatter\"},{\"line\":{\"color\":\"red\"},\"showlegend\":false,\"x\":[852,853],\"y\":[87.55,87.56],\"type\":\"scatter\"},{\"line\":{\"color\":\"red\"},\"showlegend\":false,\"x\":[853,854],\"y\":[87.56,87.43],\"type\":\"scatter\"},{\"line\":{\"color\":\"red\"},\"showlegend\":false,\"x\":[854,855],\"y\":[87.43,87.51],\"type\":\"scatter\"},{\"line\":{\"color\":\"red\"},\"showlegend\":false,\"x\":[855,856],\"y\":[87.51,87.49],\"type\":\"scatter\"},{\"line\":{\"color\":\"red\"},\"showlegend\":false,\"x\":[856,857],\"y\":[87.49,87.39],\"type\":\"scatter\"},{\"line\":{\"color\":\"red\"},\"showlegend\":false,\"x\":[857,858],\"y\":[87.39,87.19],\"type\":\"scatter\"},{\"line\":{\"color\":\"red\"},\"showlegend\":false,\"x\":[858,859],\"y\":[87.19,87.12],\"type\":\"scatter\"},{\"line\":{\"color\":\"red\"},\"showlegend\":false,\"x\":[859,860],\"y\":[87.12,87.32],\"type\":\"scatter\"},{\"line\":{\"color\":\"red\"},\"showlegend\":false,\"x\":[860,861],\"y\":[87.32,87.49],\"type\":\"scatter\"},{\"line\":{\"color\":\"green\"},\"showlegend\":false,\"x\":[861,862],\"y\":[87.49,87.69],\"type\":\"scatter\"},{\"line\":{\"color\":\"green\"},\"showlegend\":false,\"x\":[862,863],\"y\":[87.69,87.77],\"type\":\"scatter\"},{\"line\":{\"color\":\"green\"},\"showlegend\":false,\"x\":[863,864],\"y\":[87.77,87.73],\"type\":\"scatter\"},{\"line\":{\"color\":\"green\"},\"showlegend\":false,\"x\":[864,865],\"y\":[87.73,87.85],\"type\":\"scatter\"},{\"line\":{\"color\":\"green\"},\"showlegend\":false,\"x\":[865,866],\"y\":[87.85,87.86],\"type\":\"scatter\"},{\"line\":{\"color\":\"green\"},\"showlegend\":false,\"x\":[866,867],\"y\":[87.86,87.87],\"type\":\"scatter\"},{\"line\":{\"color\":\"green\"},\"showlegend\":false,\"x\":[867,868],\"y\":[87.87,87.73],\"type\":\"scatter\"},{\"line\":{\"color\":\"green\"},\"showlegend\":false,\"x\":[868,869],\"y\":[87.73,87.79],\"type\":\"scatter\"},{\"line\":{\"color\":\"green\"},\"showlegend\":false,\"x\":[869,870],\"y\":[87.79,87.83],\"type\":\"scatter\"},{\"line\":{\"color\":\"green\"},\"showlegend\":false,\"x\":[870,871],\"y\":[87.83,88.06],\"type\":\"scatter\"},{\"line\":{\"color\":\"green\"},\"showlegend\":false,\"x\":[871,872],\"y\":[88.06,88.05],\"type\":\"scatter\"},{\"line\":{\"color\":\"green\"},\"showlegend\":false,\"x\":[872,873],\"y\":[88.05,88.26],\"type\":\"scatter\"},{\"line\":{\"color\":\"green\"},\"showlegend\":false,\"x\":[873,874],\"y\":[88.26,88.16],\"type\":\"scatter\"},{\"line\":{\"color\":\"green\"},\"showlegend\":false,\"x\":[874,875],\"y\":[88.16,88.27],\"type\":\"scatter\"},{\"line\":{\"color\":\"green\"},\"showlegend\":false,\"x\":[875,876],\"y\":[88.27,88.2],\"type\":\"scatter\"},{\"line\":{\"color\":\"green\"},\"showlegend\":false,\"x\":[876,877],\"y\":[88.2,88.26],\"type\":\"scatter\"},{\"line\":{\"color\":\"green\"},\"showlegend\":false,\"x\":[877,878],\"y\":[88.26,88.2],\"type\":\"scatter\"},{\"line\":{\"color\":\"green\"},\"showlegend\":false,\"x\":[878,879],\"y\":[88.2,88.35],\"type\":\"scatter\"},{\"line\":{\"color\":\"green\"},\"showlegend\":false,\"x\":[879,880],\"y\":[88.35,88.21],\"type\":\"scatter\"},{\"line\":{\"color\":\"red\"},\"showlegend\":false,\"x\":[880,881],\"y\":[88.21,88.12],\"type\":\"scatter\"},{\"line\":{\"color\":\"red\"},\"showlegend\":false,\"x\":[881,882],\"y\":[88.12,88.19],\"type\":\"scatter\"},{\"line\":{\"color\":\"red\"},\"showlegend\":false,\"x\":[882,883],\"y\":[88.19,88.08],\"type\":\"scatter\"},{\"line\":{\"color\":\"red\"},\"showlegend\":false,\"x\":[883,884],\"y\":[88.08,88.02],\"type\":\"scatter\"},{\"line\":{\"color\":\"red\"},\"showlegend\":false,\"x\":[884,885],\"y\":[88.02,88.09],\"type\":\"scatter\"},{\"line\":{\"color\":\"red\"},\"showlegend\":false,\"x\":[885,886],\"y\":[88.09,88.03],\"type\":\"scatter\"},{\"line\":{\"color\":\"red\"},\"showlegend\":false,\"x\":[886,887],\"y\":[88.03,88.18],\"type\":\"scatter\"},{\"line\":{\"color\":\"green\"},\"showlegend\":false,\"x\":[887,888],\"y\":[88.18,88.01],\"type\":\"scatter\"},{\"line\":{\"color\":\"red\"},\"showlegend\":false,\"x\":[888,889],\"y\":[88.01,87.87],\"type\":\"scatter\"},{\"line\":{\"color\":\"red\"},\"showlegend\":false,\"x\":[889,890],\"y\":[87.87,87.86],\"type\":\"scatter\"},{\"line\":{\"color\":\"red\"},\"showlegend\":false,\"x\":[890,891],\"y\":[87.86,87.95],\"type\":\"scatter\"},{\"line\":{\"color\":\"red\"},\"showlegend\":false,\"x\":[891,892],\"y\":[87.95,87.84],\"type\":\"scatter\"},{\"line\":{\"color\":\"red\"},\"showlegend\":false,\"x\":[892,893],\"y\":[87.84,87.88],\"type\":\"scatter\"},{\"line\":{\"color\":\"red\"},\"showlegend\":false,\"x\":[893,894],\"y\":[87.88,87.89],\"type\":\"scatter\"},{\"line\":{\"color\":\"red\"},\"showlegend\":false,\"x\":[894,895],\"y\":[87.89,88.04],\"type\":\"scatter\"},{\"line\":{\"color\":\"green\"},\"showlegend\":false,\"x\":[895,896],\"y\":[88.04,87.96],\"type\":\"scatter\"},{\"line\":{\"color\":\"green\"},\"showlegend\":false,\"x\":[896,897],\"y\":[87.96,87.86],\"type\":\"scatter\"},{\"line\":{\"color\":\"red\"},\"showlegend\":false,\"x\":[897,898],\"y\":[87.86,87.74],\"type\":\"scatter\"},{\"line\":{\"color\":\"red\"},\"showlegend\":false,\"x\":[898,899],\"y\":[87.74,87.61],\"type\":\"scatter\"},{\"line\":{\"color\":\"red\"},\"showlegend\":false,\"x\":[899,900],\"y\":[87.61,87.75],\"type\":\"scatter\"},{\"line\":{\"color\":\"red\"},\"showlegend\":false,\"x\":[900,901],\"y\":[87.75,87.74],\"type\":\"scatter\"},{\"line\":{\"color\":\"red\"},\"showlegend\":false,\"x\":[901,902],\"y\":[87.74,87.75],\"type\":\"scatter\"},{\"line\":{\"color\":\"red\"},\"showlegend\":false,\"x\":[902,903],\"y\":[87.75,87.72],\"type\":\"scatter\"},{\"line\":{\"color\":\"green\"},\"showlegend\":false,\"x\":[903,904],\"y\":[87.72,87.67],\"type\":\"scatter\"},{\"line\":{\"color\":\"red\"},\"showlegend\":false,\"x\":[904,905],\"y\":[87.67,87.69],\"type\":\"scatter\"},{\"line\":{\"color\":\"red\"},\"showlegend\":false,\"x\":[905,906],\"y\":[87.69,87.6],\"type\":\"scatter\"},{\"line\":{\"color\":\"red\"},\"showlegend\":false,\"x\":[906,907],\"y\":[87.6,87.73],\"type\":\"scatter\"},{\"line\":{\"color\":\"green\"},\"showlegend\":false,\"x\":[907,908],\"y\":[87.73,87.78],\"type\":\"scatter\"},{\"line\":{\"color\":\"green\"},\"showlegend\":false,\"x\":[908,909],\"y\":[87.78,87.75],\"type\":\"scatter\"},{\"line\":{\"color\":\"green\"},\"showlegend\":false,\"x\":[909,910],\"y\":[87.75,87.81],\"type\":\"scatter\"},{\"line\":{\"color\":\"green\"},\"showlegend\":false,\"x\":[910,911],\"y\":[87.81,87.79],\"type\":\"scatter\"},{\"line\":{\"color\":\"green\"},\"showlegend\":false,\"x\":[911,912],\"y\":[87.79,87.75],\"type\":\"scatter\"},{\"line\":{\"color\":\"green\"},\"showlegend\":false,\"x\":[912,913],\"y\":[87.75,87.57],\"type\":\"scatter\"},{\"line\":{\"color\":\"red\"},\"showlegend\":false,\"x\":[913,914],\"y\":[87.57,87.69],\"type\":\"scatter\"},{\"line\":{\"color\":\"green\"},\"showlegend\":false,\"x\":[914,915],\"y\":[87.69,87.73],\"type\":\"scatter\"},{\"line\":{\"color\":\"green\"},\"showlegend\":false,\"x\":[915,916],\"y\":[87.73,87.68],\"type\":\"scatter\"},{\"line\":{\"color\":\"green\"},\"showlegend\":false,\"x\":[916,917],\"y\":[87.68,87.64],\"type\":\"scatter\"},{\"line\":{\"color\":\"red\"},\"showlegend\":false,\"x\":[917,918],\"y\":[87.64,87.9],\"type\":\"scatter\"},{\"line\":{\"color\":\"green\"},\"showlegend\":false,\"x\":[918,919],\"y\":[87.9,87.99],\"type\":\"scatter\"},{\"line\":{\"color\":\"green\"},\"showlegend\":false,\"x\":[919,920],\"y\":[87.99,88.07],\"type\":\"scatter\"},{\"line\":{\"color\":\"green\"},\"showlegend\":false,\"x\":[920,921],\"y\":[88.07,87.97],\"type\":\"scatter\"},{\"line\":{\"color\":\"green\"},\"showlegend\":false,\"x\":[921,922],\"y\":[87.97,87.92],\"type\":\"scatter\"},{\"line\":{\"color\":\"green\"},\"showlegend\":false,\"x\":[922,923],\"y\":[87.92,87.83],\"type\":\"scatter\"},{\"line\":{\"color\":\"red\"},\"showlegend\":false,\"x\":[923,924],\"y\":[87.83,87.75],\"type\":\"scatter\"},{\"line\":{\"color\":\"red\"},\"showlegend\":false,\"x\":[924,925],\"y\":[87.75,87.66],\"type\":\"scatter\"},{\"line\":{\"color\":\"red\"},\"showlegend\":false,\"x\":[925,926],\"y\":[87.66,87.7],\"type\":\"scatter\"},{\"line\":{\"color\":\"red\"},\"showlegend\":false,\"x\":[926,927],\"y\":[87.7,87.8],\"type\":\"scatter\"},{\"line\":{\"color\":\"red\"},\"showlegend\":false,\"x\":[927,928],\"y\":[87.8,87.65],\"type\":\"scatter\"},{\"line\":{\"color\":\"red\"},\"showlegend\":false,\"x\":[928,929],\"y\":[87.65,87.83],\"type\":\"scatter\"},{\"line\":{\"color\":\"green\"},\"showlegend\":false,\"x\":[929,930],\"y\":[87.83,87.91],\"type\":\"scatter\"},{\"line\":{\"color\":\"green\"},\"showlegend\":false,\"x\":[930,931],\"y\":[87.91,87.74],\"type\":\"scatter\"},{\"line\":{\"color\":\"red\"},\"showlegend\":false,\"x\":[931,932],\"y\":[87.74,87.78],\"type\":\"scatter\"},{\"line\":{\"color\":\"green\"},\"showlegend\":false,\"x\":[932,933],\"y\":[87.78,87.92],\"type\":\"scatter\"},{\"line\":{\"color\":\"green\"},\"showlegend\":false,\"x\":[933,934],\"y\":[87.92,87.99],\"type\":\"scatter\"},{\"line\":{\"color\":\"green\"},\"showlegend\":false,\"x\":[934,935],\"y\":[87.99,87.85],\"type\":\"scatter\"},{\"line\":{\"color\":\"green\"},\"showlegend\":false,\"x\":[935,936],\"y\":[87.85,87.84],\"type\":\"scatter\"},{\"line\":{\"color\":\"green\"},\"showlegend\":false,\"x\":[936,937],\"y\":[87.84,87.79],\"type\":\"scatter\"},{\"line\":{\"color\":\"red\"},\"showlegend\":false,\"x\":[937,938],\"y\":[87.79,87.77],\"type\":\"scatter\"},{\"line\":{\"color\":\"red\"},\"showlegend\":false,\"x\":[938,939],\"y\":[87.77,87.6],\"type\":\"scatter\"},{\"line\":{\"color\":\"red\"},\"showlegend\":false,\"x\":[939,940],\"y\":[87.6,87.47],\"type\":\"scatter\"},{\"line\":{\"color\":\"red\"},\"showlegend\":false,\"x\":[940,941],\"y\":[87.47,87.45],\"type\":\"scatter\"},{\"line\":{\"color\":\"red\"},\"showlegend\":false,\"x\":[941,942],\"y\":[87.45,87.38],\"type\":\"scatter\"},{\"line\":{\"color\":\"red\"},\"showlegend\":false,\"x\":[942,943],\"y\":[87.38,87.52],\"type\":\"scatter\"},{\"line\":{\"color\":\"red\"},\"showlegend\":false,\"x\":[943,944],\"y\":[87.52,87.41],\"type\":\"scatter\"},{\"line\":{\"color\":\"red\"},\"showlegend\":false,\"x\":[944,945],\"y\":[87.41,87.28],\"type\":\"scatter\"},{\"line\":{\"color\":\"red\"},\"showlegend\":false,\"x\":[945,946],\"y\":[87.28,87.21],\"type\":\"scatter\"},{\"line\":{\"color\":\"red\"},\"showlegend\":false,\"x\":[946,947],\"y\":[87.21,87.03],\"type\":\"scatter\"},{\"line\":{\"color\":\"red\"},\"showlegend\":false,\"x\":[947,948],\"y\":[87.03,87.25],\"type\":\"scatter\"},{\"line\":{\"color\":\"red\"},\"showlegend\":false,\"x\":[948,949],\"y\":[87.25,87.3],\"type\":\"scatter\"},{\"line\":{\"color\":\"red\"},\"showlegend\":false,\"x\":[949,950],\"y\":[87.3,87.11],\"type\":\"scatter\"},{\"line\":{\"color\":\"red\"},\"showlegend\":false,\"x\":[950,951],\"y\":[87.11,87.17],\"type\":\"scatter\"},{\"line\":{\"color\":\"red\"},\"showlegend\":false,\"x\":[951,952],\"y\":[87.17,87.18],\"type\":\"scatter\"},{\"line\":{\"color\":\"red\"},\"showlegend\":false,\"x\":[952,953],\"y\":[87.18,87.16],\"type\":\"scatter\"},{\"line\":{\"color\":\"red\"},\"showlegend\":false,\"x\":[953,954],\"y\":[87.16,87.28],\"type\":\"scatter\"},{\"line\":{\"color\":\"green\"},\"showlegend\":false,\"x\":[954,955],\"y\":[87.28,87.34],\"type\":\"scatter\"},{\"line\":{\"color\":\"green\"},\"showlegend\":false,\"x\":[955,956],\"y\":[87.34,87.32],\"type\":\"scatter\"},{\"line\":{\"color\":\"green\"},\"showlegend\":false,\"x\":[956,957],\"y\":[87.32,87.19],\"type\":\"scatter\"},{\"line\":{\"color\":\"green\"},\"showlegend\":false,\"x\":[957,958],\"y\":[87.19,87.41],\"type\":\"scatter\"},{\"line\":{\"color\":\"green\"},\"showlegend\":false,\"x\":[958,959],\"y\":[87.41,87.41],\"type\":\"scatter\"},{\"line\":{\"color\":\"green\"},\"showlegend\":false,\"x\":[959,960],\"y\":[87.41,87.29],\"type\":\"scatter\"},{\"line\":{\"color\":\"green\"},\"showlegend\":false,\"x\":[960,961],\"y\":[87.29,87.33],\"type\":\"scatter\"},{\"line\":{\"color\":\"green\"},\"showlegend\":false,\"x\":[961,962],\"y\":[87.33,87.36],\"type\":\"scatter\"},{\"line\":{\"color\":\"green\"},\"showlegend\":false,\"x\":[962,963],\"y\":[87.36,87.49],\"type\":\"scatter\"},{\"line\":{\"color\":\"green\"},\"showlegend\":false,\"x\":[963,964],\"y\":[87.49,87.52],\"type\":\"scatter\"},{\"line\":{\"color\":\"green\"},\"showlegend\":false,\"x\":[964,965],\"y\":[87.52,87.53],\"type\":\"scatter\"},{\"line\":{\"color\":\"green\"},\"showlegend\":false,\"x\":[965,966],\"y\":[87.53,87.61],\"type\":\"scatter\"},{\"line\":{\"color\":\"green\"},\"showlegend\":false,\"x\":[966,967],\"y\":[87.61,87.71],\"type\":\"scatter\"},{\"line\":{\"color\":\"green\"},\"showlegend\":false,\"x\":[967,968],\"y\":[87.71,87.73],\"type\":\"scatter\"},{\"line\":{\"color\":\"green\"},\"showlegend\":false,\"x\":[968,969],\"y\":[87.73,87.87],\"type\":\"scatter\"},{\"line\":{\"color\":\"green\"},\"showlegend\":false,\"x\":[969,970],\"y\":[87.87,87.73],\"type\":\"scatter\"},{\"line\":{\"color\":\"green\"},\"showlegend\":false,\"x\":[970,971],\"y\":[87.73,87.66],\"type\":\"scatter\"},{\"line\":{\"color\":\"green\"},\"showlegend\":false,\"x\":[971,972],\"y\":[87.66,87.72],\"type\":\"scatter\"},{\"line\":{\"color\":\"green\"},\"showlegend\":false,\"x\":[972,973],\"y\":[87.72,87.68],\"type\":\"scatter\"},{\"line\":{\"color\":\"red\"},\"showlegend\":false,\"x\":[973,974],\"y\":[87.68,87.73],\"type\":\"scatter\"},{\"line\":{\"color\":\"red\"},\"showlegend\":false,\"x\":[974,975],\"y\":[87.73,87.69],\"type\":\"scatter\"},{\"line\":{\"color\":\"red\"},\"showlegend\":false,\"x\":[975,976],\"y\":[87.69,87.8],\"type\":\"scatter\"},{\"line\":{\"color\":\"green\"},\"showlegend\":false,\"x\":[976,977],\"y\":[87.8,87.83],\"type\":\"scatter\"},{\"line\":{\"color\":\"green\"},\"showlegend\":false,\"x\":[977,978],\"y\":[87.83,87.89],\"type\":\"scatter\"},{\"line\":{\"color\":\"green\"},\"showlegend\":false,\"x\":[978,979],\"y\":[87.89,87.83],\"type\":\"scatter\"},{\"line\":{\"color\":\"red\"},\"showlegend\":false,\"x\":[979,980],\"y\":[87.83,87.91],\"type\":\"scatter\"},{\"line\":{\"color\":\"green\"},\"showlegend\":false,\"x\":[980,981],\"y\":[87.91,87.87],\"type\":\"scatter\"},{\"line\":{\"color\":\"green\"},\"showlegend\":false,\"x\":[981,982],\"y\":[87.87,87.92],\"type\":\"scatter\"},{\"line\":{\"color\":\"green\"},\"showlegend\":false,\"x\":[982,983],\"y\":[87.92,87.89],\"type\":\"scatter\"},{\"line\":{\"color\":\"green\"},\"showlegend\":false,\"x\":[983,984],\"y\":[87.89,87.84],\"type\":\"scatter\"},{\"line\":{\"color\":\"red\"},\"showlegend\":false,\"x\":[984,985],\"y\":[87.84,87.74],\"type\":\"scatter\"},{\"line\":{\"color\":\"red\"},\"showlegend\":false,\"x\":[985,986],\"y\":[87.74,87.74],\"type\":\"scatter\"},{\"line\":{\"color\":\"red\"},\"showlegend\":false,\"x\":[986,987],\"y\":[87.74,87.63],\"type\":\"scatter\"},{\"line\":{\"color\":\"red\"},\"showlegend\":false,\"x\":[987,988],\"y\":[87.63,87.73],\"type\":\"scatter\"},{\"line\":{\"color\":\"green\"},\"showlegend\":false,\"x\":[988,989],\"y\":[87.73,87.65],\"type\":\"scatter\"},{\"line\":{\"color\":\"red\"},\"showlegend\":false,\"x\":[989,990],\"y\":[87.65,87.6],\"type\":\"scatter\"},{\"line\":{\"color\":\"red\"},\"showlegend\":false,\"x\":[990,991],\"y\":[87.6,87.77],\"type\":\"scatter\"},{\"line\":{\"color\":\"green\"},\"showlegend\":false,\"x\":[991,992],\"y\":[87.77,87.82],\"type\":\"scatter\"},{\"line\":{\"color\":\"green\"},\"showlegend\":false,\"x\":[992,993],\"y\":[87.82,87.83],\"type\":\"scatter\"},{\"line\":{\"color\":\"green\"},\"showlegend\":false,\"x\":[993,994],\"y\":[87.83,87.56],\"type\":\"scatter\"},{\"line\":{\"color\":\"red\"},\"showlegend\":false,\"x\":[994,995],\"y\":[87.56,87.53],\"type\":\"scatter\"},{\"line\":{\"color\":\"red\"},\"showlegend\":false,\"x\":[995,996],\"y\":[87.53,87.63],\"type\":\"scatter\"},{\"line\":{\"color\":\"red\"},\"showlegend\":false,\"x\":[996,997],\"y\":[87.63,87.64],\"type\":\"scatter\"},{\"line\":{\"color\":\"red\"},\"showlegend\":false,\"x\":[997,998],\"y\":[87.64,87.58],\"type\":\"scatter\"},{\"line\":{\"color\":\"red\"},\"showlegend\":false,\"x\":[998,999],\"y\":[87.58,87.57],\"type\":\"scatter\"}],                        {\"template\":{\"data\":{\"histogram2dcontour\":[{\"type\":\"histogram2dcontour\",\"colorbar\":{\"outlinewidth\":0,\"ticks\":\"\"},\"colorscale\":[[0.0,\"#0d0887\"],[0.1111111111111111,\"#46039f\"],[0.2222222222222222,\"#7201a8\"],[0.3333333333333333,\"#9c179e\"],[0.4444444444444444,\"#bd3786\"],[0.5555555555555556,\"#d8576b\"],[0.6666666666666666,\"#ed7953\"],[0.7777777777777778,\"#fb9f3a\"],[0.8888888888888888,\"#fdca26\"],[1.0,\"#f0f921\"]]}],\"choropleth\":[{\"type\":\"choropleth\",\"colorbar\":{\"outlinewidth\":0,\"ticks\":\"\"}}],\"histogram2d\":[{\"type\":\"histogram2d\",\"colorbar\":{\"outlinewidth\":0,\"ticks\":\"\"},\"colorscale\":[[0.0,\"#0d0887\"],[0.1111111111111111,\"#46039f\"],[0.2222222222222222,\"#7201a8\"],[0.3333333333333333,\"#9c179e\"],[0.4444444444444444,\"#bd3786\"],[0.5555555555555556,\"#d8576b\"],[0.6666666666666666,\"#ed7953\"],[0.7777777777777778,\"#fb9f3a\"],[0.8888888888888888,\"#fdca26\"],[1.0,\"#f0f921\"]]}],\"heatmap\":[{\"type\":\"heatmap\",\"colorbar\":{\"outlinewidth\":0,\"ticks\":\"\"},\"colorscale\":[[0.0,\"#0d0887\"],[0.1111111111111111,\"#46039f\"],[0.2222222222222222,\"#7201a8\"],[0.3333333333333333,\"#9c179e\"],[0.4444444444444444,\"#bd3786\"],[0.5555555555555556,\"#d8576b\"],[0.6666666666666666,\"#ed7953\"],[0.7777777777777778,\"#fb9f3a\"],[0.8888888888888888,\"#fdca26\"],[1.0,\"#f0f921\"]]}],\"heatmapgl\":[{\"type\":\"heatmapgl\",\"colorbar\":{\"outlinewidth\":0,\"ticks\":\"\"},\"colorscale\":[[0.0,\"#0d0887\"],[0.1111111111111111,\"#46039f\"],[0.2222222222222222,\"#7201a8\"],[0.3333333333333333,\"#9c179e\"],[0.4444444444444444,\"#bd3786\"],[0.5555555555555556,\"#d8576b\"],[0.6666666666666666,\"#ed7953\"],[0.7777777777777778,\"#fb9f3a\"],[0.8888888888888888,\"#fdca26\"],[1.0,\"#f0f921\"]]}],\"contourcarpet\":[{\"type\":\"contourcarpet\",\"colorbar\":{\"outlinewidth\":0,\"ticks\":\"\"}}],\"contour\":[{\"type\":\"contour\",\"colorbar\":{\"outlinewidth\":0,\"ticks\":\"\"},\"colorscale\":[[0.0,\"#0d0887\"],[0.1111111111111111,\"#46039f\"],[0.2222222222222222,\"#7201a8\"],[0.3333333333333333,\"#9c179e\"],[0.4444444444444444,\"#bd3786\"],[0.5555555555555556,\"#d8576b\"],[0.6666666666666666,\"#ed7953\"],[0.7777777777777778,\"#fb9f3a\"],[0.8888888888888888,\"#fdca26\"],[1.0,\"#f0f921\"]]}],\"surface\":[{\"type\":\"surface\",\"colorbar\":{\"outlinewidth\":0,\"ticks\":\"\"},\"colorscale\":[[0.0,\"#0d0887\"],[0.1111111111111111,\"#46039f\"],[0.2222222222222222,\"#7201a8\"],[0.3333333333333333,\"#9c179e\"],[0.4444444444444444,\"#bd3786\"],[0.5555555555555556,\"#d8576b\"],[0.6666666666666666,\"#ed7953\"],[0.7777777777777778,\"#fb9f3a\"],[0.8888888888888888,\"#fdca26\"],[1.0,\"#f0f921\"]]}],\"mesh3d\":[{\"type\":\"mesh3d\",\"colorbar\":{\"outlinewidth\":0,\"ticks\":\"\"}}],\"scatter\":[{\"fillpattern\":{\"fillmode\":\"overlay\",\"size\":10,\"solidity\":0.2},\"type\":\"scatter\"}],\"parcoords\":[{\"type\":\"parcoords\",\"line\":{\"colorbar\":{\"outlinewidth\":0,\"ticks\":\"\"}}}],\"scatterpolargl\":[{\"type\":\"scatterpolargl\",\"marker\":{\"colorbar\":{\"outlinewidth\":0,\"ticks\":\"\"}}}],\"bar\":[{\"error_x\":{\"color\":\"#2a3f5f\"},\"error_y\":{\"color\":\"#2a3f5f\"},\"marker\":{\"line\":{\"color\":\"#E5ECF6\",\"width\":0.5},\"pattern\":{\"fillmode\":\"overlay\",\"size\":10,\"solidity\":0.2}},\"type\":\"bar\"}],\"scattergeo\":[{\"type\":\"scattergeo\",\"marker\":{\"colorbar\":{\"outlinewidth\":0,\"ticks\":\"\"}}}],\"scatterpolar\":[{\"type\":\"scatterpolar\",\"marker\":{\"colorbar\":{\"outlinewidth\":0,\"ticks\":\"\"}}}],\"histogram\":[{\"marker\":{\"pattern\":{\"fillmode\":\"overlay\",\"size\":10,\"solidity\":0.2}},\"type\":\"histogram\"}],\"scattergl\":[{\"type\":\"scattergl\",\"marker\":{\"colorbar\":{\"outlinewidth\":0,\"ticks\":\"\"}}}],\"scatter3d\":[{\"type\":\"scatter3d\",\"line\":{\"colorbar\":{\"outlinewidth\":0,\"ticks\":\"\"}},\"marker\":{\"colorbar\":{\"outlinewidth\":0,\"ticks\":\"\"}}}],\"scattermapbox\":[{\"type\":\"scattermapbox\",\"marker\":{\"colorbar\":{\"outlinewidth\":0,\"ticks\":\"\"}}}],\"scatterternary\":[{\"type\":\"scatterternary\",\"marker\":{\"colorbar\":{\"outlinewidth\":0,\"ticks\":\"\"}}}],\"scattercarpet\":[{\"type\":\"scattercarpet\",\"marker\":{\"colorbar\":{\"outlinewidth\":0,\"ticks\":\"\"}}}],\"carpet\":[{\"aaxis\":{\"endlinecolor\":\"#2a3f5f\",\"gridcolor\":\"white\",\"linecolor\":\"white\",\"minorgridcolor\":\"white\",\"startlinecolor\":\"#2a3f5f\"},\"baxis\":{\"endlinecolor\":\"#2a3f5f\",\"gridcolor\":\"white\",\"linecolor\":\"white\",\"minorgridcolor\":\"white\",\"startlinecolor\":\"#2a3f5f\"},\"type\":\"carpet\"}],\"table\":[{\"cells\":{\"fill\":{\"color\":\"#EBF0F8\"},\"line\":{\"color\":\"white\"}},\"header\":{\"fill\":{\"color\":\"#C8D4E3\"},\"line\":{\"color\":\"white\"}},\"type\":\"table\"}],\"barpolar\":[{\"marker\":{\"line\":{\"color\":\"#E5ECF6\",\"width\":0.5},\"pattern\":{\"fillmode\":\"overlay\",\"size\":10,\"solidity\":0.2}},\"type\":\"barpolar\"}],\"pie\":[{\"automargin\":true,\"type\":\"pie\"}]},\"layout\":{\"autotypenumbers\":\"strict\",\"colorway\":[\"#636efa\",\"#EF553B\",\"#00cc96\",\"#ab63fa\",\"#FFA15A\",\"#19d3f3\",\"#FF6692\",\"#B6E880\",\"#FF97FF\",\"#FECB52\"],\"font\":{\"color\":\"#2a3f5f\"},\"hovermode\":\"closest\",\"hoverlabel\":{\"align\":\"left\"},\"paper_bgcolor\":\"white\",\"plot_bgcolor\":\"#E5ECF6\",\"polar\":{\"bgcolor\":\"#E5ECF6\",\"angularaxis\":{\"gridcolor\":\"white\",\"linecolor\":\"white\",\"ticks\":\"\"},\"radialaxis\":{\"gridcolor\":\"white\",\"linecolor\":\"white\",\"ticks\":\"\"}},\"ternary\":{\"bgcolor\":\"#E5ECF6\",\"aaxis\":{\"gridcolor\":\"white\",\"linecolor\":\"white\",\"ticks\":\"\"},\"baxis\":{\"gridcolor\":\"white\",\"linecolor\":\"white\",\"ticks\":\"\"},\"caxis\":{\"gridcolor\":\"white\",\"linecolor\":\"white\",\"ticks\":\"\"}},\"coloraxis\":{\"colorbar\":{\"outlinewidth\":0,\"ticks\":\"\"}},\"colorscale\":{\"sequential\":[[0.0,\"#0d0887\"],[0.1111111111111111,\"#46039f\"],[0.2222222222222222,\"#7201a8\"],[0.3333333333333333,\"#9c179e\"],[0.4444444444444444,\"#bd3786\"],[0.5555555555555556,\"#d8576b\"],[0.6666666666666666,\"#ed7953\"],[0.7777777777777778,\"#fb9f3a\"],[0.8888888888888888,\"#fdca26\"],[1.0,\"#f0f921\"]],\"sequentialminus\":[[0.0,\"#0d0887\"],[0.1111111111111111,\"#46039f\"],[0.2222222222222222,\"#7201a8\"],[0.3333333333333333,\"#9c179e\"],[0.4444444444444444,\"#bd3786\"],[0.5555555555555556,\"#d8576b\"],[0.6666666666666666,\"#ed7953\"],[0.7777777777777778,\"#fb9f3a\"],[0.8888888888888888,\"#fdca26\"],[1.0,\"#f0f921\"]],\"diverging\":[[0,\"#8e0152\"],[0.1,\"#c51b7d\"],[0.2,\"#de77ae\"],[0.3,\"#f1b6da\"],[0.4,\"#fde0ef\"],[0.5,\"#f7f7f7\"],[0.6,\"#e6f5d0\"],[0.7,\"#b8e186\"],[0.8,\"#7fbc41\"],[0.9,\"#4d9221\"],[1,\"#276419\"]]},\"xaxis\":{\"gridcolor\":\"white\",\"linecolor\":\"white\",\"ticks\":\"\",\"title\":{\"standoff\":15},\"zerolinecolor\":\"white\",\"automargin\":true,\"zerolinewidth\":2},\"yaxis\":{\"gridcolor\":\"white\",\"linecolor\":\"white\",\"ticks\":\"\",\"title\":{\"standoff\":15},\"zerolinecolor\":\"white\",\"automargin\":true,\"zerolinewidth\":2},\"scene\":{\"xaxis\":{\"backgroundcolor\":\"#E5ECF6\",\"gridcolor\":\"white\",\"linecolor\":\"white\",\"showbackground\":true,\"ticks\":\"\",\"zerolinecolor\":\"white\",\"gridwidth\":2},\"yaxis\":{\"backgroundcolor\":\"#E5ECF6\",\"gridcolor\":\"white\",\"linecolor\":\"white\",\"showbackground\":true,\"ticks\":\"\",\"zerolinecolor\":\"white\",\"gridwidth\":2},\"zaxis\":{\"backgroundcolor\":\"#E5ECF6\",\"gridcolor\":\"white\",\"linecolor\":\"white\",\"showbackground\":true,\"ticks\":\"\",\"zerolinecolor\":\"white\",\"gridwidth\":2}},\"shapedefaults\":{\"line\":{\"color\":\"#2a3f5f\"}},\"annotationdefaults\":{\"arrowcolor\":\"#2a3f5f\",\"arrowhead\":0,\"arrowwidth\":1},\"geo\":{\"bgcolor\":\"white\",\"landcolor\":\"#E5ECF6\",\"subunitcolor\":\"white\",\"showland\":true,\"showlakes\":true,\"lakecolor\":\"white\"},\"title\":{\"x\":0.05},\"mapbox\":{\"style\":\"light\"}}},\"xaxis\":{\"title\":{\"text\":\"Indeks\"}},\"yaxis\":{\"title\":{\"text\":\"Close\"}},\"title\":{\"text\":\"Wykres liniowy z kolorami\"}},                        {\"responsive\": true}                    ).then(function(){\n",
              "                            \n",
              "var gd = document.getElementById('18b599e6-dd16-4968-b5bd-31dffffef5f3');\n",
              "var x = new MutationObserver(function (mutations, observer) {{\n",
              "        var display = window.getComputedStyle(gd).display;\n",
              "        if (!display || display === 'none') {{\n",
              "            console.log([gd, 'removed!']);\n",
              "            Plotly.purge(gd);\n",
              "            observer.disconnect();\n",
              "        }}\n",
              "}});\n",
              "\n",
              "// Listen for the removal of the full notebook cells\n",
              "var notebookContainer = gd.closest('#notebook-container');\n",
              "if (notebookContainer) {{\n",
              "    x.observe(notebookContainer, {childList: true});\n",
              "}}\n",
              "\n",
              "// Listen for the clearing of the current output cell\n",
              "var outputEl = gd.closest('.output');\n",
              "if (outputEl) {{\n",
              "    x.observe(outputEl, {childList: true});\n",
              "}}\n",
              "\n",
              "                        })                };                            </script>        </div>\n",
              "</body>\n",
              "</html>"
            ]
          },
          "metadata": {}
        }
      ]
    },
    {
      "cell_type": "code",
      "source": [
        "# Profit\n",
        "sum = 0;\n",
        "for i in range(0, len(df)):\n",
        "  if ((i-1) > 0):\n",
        "    if df.at[i,'Sell'] == 1:\n",
        "      sum += (df.at[i,'Price'] - df.at[i-1,'Price'])*(-1)\n",
        "    elif df.at[i,'Buy'] == 1:\n",
        "      sum += (df.at[i,'Price'] - df.at[i-1,'Price'])\n",
        "    if df.at[i,'Sell'] != df.at[i-1,'Sell']:\n",
        "      sum -= 0.03\n",
        "\n",
        "print(sum)"
      ],
      "metadata": {
        "id": "6BLFVuISXDAv",
        "outputId": "c1e7ae29-224d-43b9-ada9-f4e10e3c1872",
        "colab": {
          "base_uri": "https://localhost:8080/"
        }
      },
      "execution_count": 321,
      "outputs": [
        {
          "output_type": "stream",
          "name": "stdout",
          "text": [
            "-4.029999999999849\n"
          ]
        }
      ]
    },
    {
      "cell_type": "markdown",
      "source": [
        "### <a name='a7'></a> Predykcja na podstawie modelu:\n",
        "\n",
        "\n",
        "\n",
        "1.   **model.evaluate(y_true, y_pred)** - pozwala obliczyć metryki modelu\n",
        "2.   **model.predict_classes()** - pozwala zwrócić odpowiednio przewidziane klasy\n",
        "3.   **model.predict_proba(), model.predict()** - pozwala zwrócić prawdopodobieństwo danej klasy\n",
        "\n",
        "\n",
        "\n"
      ],
      "metadata": {
        "id": "hZjlGQgPw2-G"
      }
    },
    {
      "cell_type": "code",
      "source": [
        "predictions = model.predict(x_test)\n",
        "predictions"
      ],
      "metadata": {
        "id": "Hnq1sJrZxPmf"
      },
      "execution_count": null,
      "outputs": []
    },
    {
      "cell_type": "code",
      "source": [
        "# predictions_cls = model.predict_classes(X_test)\n",
        "predictions_cls = np.argmax(model.predict(x_test), axis=-1)\n",
        "predictions_cls"
      ],
      "metadata": {
        "id": "--gCx91W0Csa"
      },
      "execution_count": null,
      "outputs": []
    },
    {
      "cell_type": "code",
      "source": [
        "metrics = pd.DataFrame(history.history)\n",
        "metrics['epoch'] = history.epoch\n",
        "metrics"
      ],
      "metadata": {
        "id": "YLoVcniO6toN"
      },
      "execution_count": null,
      "outputs": []
    },
    {
      "cell_type": "code",
      "source": [
        "history = model.fit(x_train, y_train, epochs=10, batch_size=32, validation_split=0.2)"
      ],
      "metadata": {
        "id": "GLQ4_vcn6oQa"
      },
      "execution_count": null,
      "outputs": []
    },
    {
      "cell_type": "code",
      "source": [
        "model = tf.keras.models.load_model('lstm_Model.keras')\n",
        "model.summary()"
      ],
      "metadata": {
        "id": "VTcKTFtqDz05"
      },
      "execution_count": null,
      "outputs": []
    },
    {
      "cell_type": "markdown",
      "source": [
        "### <a name='a5'></a> Przykład budowy modelu z kursu"
      ],
      "metadata": {
        "id": "L1dMlQcAxrBa"
      }
    },
    {
      "cell_type": "code",
      "source": [
        "# model = Sequential()\n",
        "# model.add(Flatten(input_shape=(28, 28)))\n",
        "# model.add(Dense(units=128, activation='relu'))\n",
        "# model.add(Dense(units=10, activation='softmax'))\n",
        "\n",
        "# model.compile(optimizer='rmsprop',\n",
        "#               loss='categorical_crossentropy',\n",
        "#               metrics=['accuracy'])\n",
        "\n",
        "# model.summary()\n",
        "model = Sequential()\n",
        "model.add(LstmLayer)\n",
        "model.add(Dense(units=2, activation='softmax')) # <----- output layer\n",
        "\n",
        "model.compile(optimizer='rmsprop',\n",
        "              loss='categorical_crossentropy',\n",
        "              metrics=['accuracy'])\n",
        "\n",
        "model.summary()"
      ],
      "metadata": {
        "id": "XXUBIQvdsdra"
      },
      "execution_count": null,
      "outputs": []
    },
    {
      "cell_type": "markdown",
      "source": [
        "### <a name='a8'></a> Zip file"
      ],
      "metadata": {
        "id": "EOfWIf-3-UsM"
      }
    },
    {
      "cell_type": "code",
      "source": [
        "from zipfile import ZipFile\n",
        "\n",
        "zip = ZipFile('my_python_files.zip','w')\n",
        "zip.write('lstm_Model.keras')"
      ],
      "metadata": {
        "id": "BzXru1KVD_H9"
      },
      "execution_count": null,
      "outputs": []
    },
    {
      "cell_type": "markdown",
      "source": [
        "### <a name='a9'></a> Extract tar gz"
      ],
      "metadata": {
        "id": "qwJG5yS6PU-V"
      }
    },
    {
      "cell_type": "code",
      "source": [
        "# importing the \"tarfile\" module\n",
        "import tarfile\n",
        "\n",
        "# open file\n",
        "file = tarfile.open('1_150x9.tar.gz')\n",
        "\n",
        "# extracting a specific file\n",
        "file.extractall(path='./1_150x9/')\n",
        "\n",
        "file.close()"
      ],
      "metadata": {
        "id": "vGD-1oYzPE3z"
      },
      "execution_count": 2,
      "outputs": []
    },
    {
      "cell_type": "code",
      "source": [],
      "metadata": {
        "id": "aVLlJ_ue-zvq"
      },
      "execution_count": null,
      "outputs": []
    }
  ]
}