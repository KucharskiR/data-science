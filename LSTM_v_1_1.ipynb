{
  "nbformat": 4,
  "nbformat_minor": 0,
  "metadata": {
    "colab": {
      "provenance": [],
      "gpuType": "T4",
      "authorship_tag": "ABX9TyN+omYmSggPfDoQ3seR40n3",
      "include_colab_link": true
    },
    "kernelspec": {
      "name": "python3",
      "display_name": "Python 3"
    },
    "language_info": {
      "name": "python"
    },
    "accelerator": "GPU"
  },
  "cells": [
    {
      "cell_type": "markdown",
      "metadata": {
        "id": "view-in-github",
        "colab_type": "text"
      },
      "source": [
        "<a href=\"https://colab.research.google.com/github/KucharskiR/data-science/blob/main/LSTM_v_1_1.ipynb\" target=\"_parent\"><img src=\"https://colab.research.google.com/assets/colab-badge.svg\" alt=\"Open In Colab\"/></a>"
      ]
    },
    {
      "cell_type": "markdown",
      "source": [],
      "metadata": {
        "id": "WuSMzASeSIkv"
      }
    },
    {
      "cell_type": "markdown",
      "source": [
        "### **Sieć neuronowa LSTM**\n",
        "\n",
        "Budowa sieci neuronowej LSTM\n",
        "\n",
        "#### **Spis treści:**\n",
        "1. [Import bibliotek](#a0)\n",
        "2. [Przygotowanie danych](#a1)\n",
        "3. [Konfiguracja LSTM layer](#a2)\n",
        "4. [Główny model](#a3)\n",
        "5. [Klasyfikacja](#a4)\n",
        "6. [Przykład budowy modelu z kursu](#a5)\n",
        "7. [Ocena modelu + wykresy](#a6)\n",
        "8. [Predykcja na podstawie modelu](#a7)\n",
        "9. [Zip file](#a8)\n",
        "10. [Extract .tar.gz](#a9)"
      ],
      "metadata": {
        "id": "9_IXOH1xSAE6"
      }
    },
    {
      "cell_type": "markdown",
      "source": [
        "### <a name='a0'></a> Import bibliotek"
      ],
      "metadata": {
        "id": "R8c4m6mdRsCn"
      }
    },
    {
      "cell_type": "code",
      "source": [
        "import csv\n",
        "import numpy as np\n",
        "import pandas as pd\n",
        "import tensorflow as tf\n",
        "from sklearn.model_selection import train_test_split\n",
        "from sklearn.preprocessing import MinMaxScaler\n",
        "from keras.models import Sequential\n",
        "from keras.layers import LSTM\n",
        "from keras.layers import Dense\n",
        "from keras.optimizers import Adam\n",
        "from keras.callbacks import LambdaCallback\n",
        "from keras.initializers import TruncatedNormal\n",
        "from keras.models import save_model\n",
        "import matplotlib.pyplot as plt\n",
        "from sklearn.metrics import confusion_matrix, accuracy_score, roc_auc_score, roc_curve\n",
        "import os\n",
        "\n",
        "np.set_printoptions(precision=12, suppress=True, linewidth=150)\n",
        "pd.options.display.float_format = '{:.6f}'.format\n",
        "# sns.set()   <--- seaborn\n",
        "print(np.__version__)"
      ],
      "metadata": {
        "id": "oscxr8yAP1qs",
        "colab": {
          "base_uri": "https://localhost:8080/"
        },
        "outputId": "33257a00-0442-4bf5-8160-ab4ca662608b"
      },
      "execution_count": 2,
      "outputs": [
        {
          "output_type": "stream",
          "name": "stdout",
          "text": [
            "1.25.2\n"
          ]
        }
      ]
    },
    {
      "cell_type": "markdown",
      "source": [
        "### <a name='a1'></a> Przygotowanie danych"
      ],
      "metadata": {
        "id": "SRGMRUlBQdgu"
      }
    },
    {
      "cell_type": "code",
      "source": [
        "# Assuming there are three features in your data\n",
        "num_features = 9\n",
        "num_labels = 2\n",
        "timestepsPerSample = 150\n",
        "epochs = 8\n",
        "batch = 32"
      ],
      "metadata": {
        "id": "RPfYadvw1QjV"
      },
      "execution_count": 69,
      "outputs": []
    },
    {
      "cell_type": "code",
      "source": [
        "# Replace 'your_file.csv' with the actual file path\n",
        "file_features = './1_150x9/1_150x9f.csv'\n",
        "file_labels = './1_150x9/1_150x9l.csv'\n",
        "\n",
        "# Specify the CSV file name\n",
        "csv_file_name = 'my_data1.csv'\n",
        "\n",
        "# Read the .csv file and create an array\n",
        "data_strings = np.genfromtxt(file_features, delimiter=';')\n",
        "labels_strings = np.genfromtxt(file_labels,delimiter=';')\n",
        "\n",
        "# Convert from strings to float and int\n",
        "X = data_strings.astype(float).reshape((-1,timestepsPerSample,num_features))\n",
        "Y = labels_strings.astype(float).reshape((-1,3))\n",
        "print(X.shape)\n",
        "print(Y.shape)"
      ],
      "metadata": {
        "colab": {
          "base_uri": "https://localhost:8080/"
        },
        "id": "ZpRmwBm5dg36",
        "outputId": "dcd4f385-a50e-4aa0-d866-184d7a432176"
      },
      "execution_count": 24,
      "outputs": [
        {
          "output_type": "stream",
          "name": "stdout",
          "text": [
            "(33300, 150, 9)\n",
            "(33300, 3)\n"
          ]
        }
      ]
    },
    {
      "cell_type": "code",
      "source": [
        "# splitting the dataset 75% for training and 25% testing\n",
        "# X_train, X_test, y_train, y_test = train_test_split(X,Y, test_size=0.2, random_state=42)\n",
        "x_train, x_test, Y_train, Y_test = train_test_split(X,Y, test_size=0.15, shuffle=False)\n",
        "print(x_train.shape)\n",
        "# print(x_train[:5])"
      ],
      "metadata": {
        "id": "7Nj3hWqDQb-T",
        "colab": {
          "base_uri": "https://localhost:8080/"
        },
        "outputId": "28b922d9-1801-46b9-e800-5c37c2a3ca4b"
      },
      "execution_count": 70,
      "outputs": [
        {
          "output_type": "stream",
          "name": "stdout",
          "text": [
            "(28305, 150, 9)\n"
          ]
        }
      ]
    },
    {
      "cell_type": "code",
      "source": [
        "y_train = Y_train[:, 0:2]\n",
        "y_test = Y_test[:, 0:2]\n",
        "print(y_train[:2])\n",
        "print(y_test[:2])"
      ],
      "metadata": {
        "id": "iCXnu_I_kcXB",
        "outputId": "627e3e6e-c214-4a2e-d04d-f6921e692cf3",
        "colab": {
          "base_uri": "https://localhost:8080/"
        }
      },
      "execution_count": 71,
      "outputs": [
        {
          "output_type": "stream",
          "name": "stdout",
          "text": [
            "[[0. 1.]\n",
            " [0. 1.]]\n",
            "[[0. 1.]\n",
            " [0. 1.]]\n"
          ]
        }
      ]
    },
    {
      "cell_type": "markdown",
      "source": [
        "### <a name='a4'></a> Konfiguracja LSTM layer"
      ],
      "metadata": {
        "id": "8HqOhfTgQsYb"
      }
    },
    {
      "cell_type": "code",
      "source": [
        "LstmLayer = LSTM(\n",
        "    units=300,\n",
        "    activation=\"tanh\",\n",
        "    recurrent_activation=\"sigmoid\",\n",
        "    use_bias=True,\n",
        "    kernel_initializer=\"glorot_uniform\",\n",
        "    recurrent_initializer=\"orthogonal\",\n",
        "    bias_initializer=\"zeros\",\n",
        "    unit_forget_bias=True,\n",
        "    kernel_regularizer=None,\n",
        "    recurrent_regularizer=None,\n",
        "    bias_regularizer=None,\n",
        "    activity_regularizer=None,\n",
        "    kernel_constraint=None,\n",
        "    recurrent_constraint=None,\n",
        "    bias_constraint=None,\n",
        "    dropout=0.0,\n",
        "    recurrent_dropout=0.0,\n",
        "    seed=None,\n",
        "    return_sequences=False,\n",
        "    return_state=False,\n",
        "    go_backwards=False,\n",
        "    stateful=False,\n",
        "    unroll=False,\n",
        "    input_shape=(x_train.shape[1],x_train.shape[2])\n",
        ")"
      ],
      "metadata": {
        "id": "c_nNj1oIQRZ8"
      },
      "execution_count": 72,
      "outputs": []
    },
    {
      "cell_type": "markdown",
      "source": [
        "### <a name='a3'></a> Główny model"
      ],
      "metadata": {
        "id": "JtbGqmW8Q49l"
      }
    },
    {
      "cell_type": "code",
      "source": [
        "num_samples = x_train.shape[0]\n",
        "STEPS_PER_EPOCH = num_samples/batch\n",
        "num_samples"
      ],
      "metadata": {
        "colab": {
          "base_uri": "https://localhost:8080/"
        },
        "id": "82GpoNe4x0sR",
        "outputId": "cc53bb8e-bff4-4f7f-d3f9-efc39b05a853"
      },
      "execution_count": 73,
      "outputs": [
        {
          "output_type": "execute_result",
          "data": {
            "text/plain": [
              "28305"
            ]
          },
          "metadata": {},
          "execution_count": 73
        }
      ]
    },
    {
      "cell_type": "code",
      "source": [
        "model = Sequential() # initializing model\n",
        "\n",
        "# input layer and LSTM layer with 50 neurons\n",
        "# lst.add(LSTM(units=300, return_sequences=False, input_shape=(x_train.shape[1],x_train.shape[2])))\n",
        "model.add(LstmLayer)\n",
        "model.add(Dense(50, activation='relu'))\n",
        "model.add(Dense(25, activation='relu'))\n",
        "model.add(Dense(10, activation='relu'))\n",
        "# outpute layer with sigmoid activation\n",
        "model.add(Dense(num_labels, activation='sigmoid'))\n",
        "\n",
        "lr_schedule = tf.keras.optimizers.schedules.InverseTimeDecay(\n",
        "  0.001,\n",
        "  decay_steps=STEPS_PER_EPOCH*100,\n",
        "  decay_rate=1,\n",
        "  staircase=False)\n",
        "\n",
        "def get_optimizer():\n",
        "  return tf.keras.optimizers.Adam(lr_schedule)\n",
        "\n",
        "optimizer = get_optimizer()\n",
        "\n",
        "# defining loss function, optimizer, metrics and then compiling model\n",
        "model.compile(loss='binary_crossentropy',optimizer=optimizer,metrics=['accuracy'])\n",
        "model.summary()"
      ],
      "metadata": {
        "colab": {
          "base_uri": "https://localhost:8080/"
        },
        "id": "yxpq8IoogFdl",
        "outputId": "d86aea8f-12af-402c-c4e9-40b8b00f915f"
      },
      "execution_count": 75,
      "outputs": [
        {
          "output_type": "stream",
          "name": "stdout",
          "text": [
            "Model: \"sequential_7\"\n",
            "_________________________________________________________________\n",
            " Layer (type)                Output Shape              Param #   \n",
            "=================================================================\n",
            " lstm_4 (LSTM)               (None, 300)               372000    \n",
            "                                                                 \n",
            " dense_28 (Dense)            (None, 50)                15050     \n",
            "                                                                 \n",
            " dense_29 (Dense)            (None, 25)                1275      \n",
            "                                                                 \n",
            " dense_30 (Dense)            (None, 10)                260       \n",
            "                                                                 \n",
            " dense_31 (Dense)            (None, 2)                 22        \n",
            "                                                                 \n",
            "=================================================================\n",
            "Total params: 388607 (1.48 MB)\n",
            "Trainable params: 388607 (1.48 MB)\n",
            "Non-trainable params: 0 (0.00 Byte)\n",
            "_________________________________________________________________\n"
          ]
        }
      ]
    },
    {
      "cell_type": "markdown",
      "source": [
        "### Training"
      ],
      "metadata": {
        "id": "mn7ZgX4wj8-T"
      }
    },
    {
      "cell_type": "code",
      "source": [
        "# training the model on training dataset\n",
        "# history = lst.fit(x_train, y_train, epochs=epochs, batch_size=batch,validation_split=0.2)\n",
        "history = model.fit(x_train, y_train, epochs=epochs, batch_size=batch, validation_data=(x_test, y_test))\n",
        "\n",
        "# Save model\n",
        "model.save(\"1_150x_trained.h5\", overwrite=True, save_format='h5')\n",
        "\n",
        "# predicting target attribute on testing dataset\n",
        "predict = model.predict(x_test)\n",
        "# predict = np.argmax(lst.predict(x_test), axis=-1)"
      ],
      "metadata": {
        "id": "ckxOaCSvhpcB",
        "colab": {
          "base_uri": "https://localhost:8080/"
        },
        "outputId": "a0239a54-c27e-4c7d-d1cc-5d2d6dda1546"
      },
      "execution_count": 76,
      "outputs": [
        {
          "output_type": "stream",
          "name": "stdout",
          "text": [
            "Epoch 1/8\n",
            "885/885 [==============================] - 15s 14ms/step - loss: 0.5878 - accuracy: 0.6915 - val_loss: 0.5658 - val_accuracy: 0.7067\n",
            "Epoch 2/8\n",
            "885/885 [==============================] - 12s 13ms/step - loss: 0.5666 - accuracy: 0.7095 - val_loss: 0.5648 - val_accuracy: 0.7037\n",
            "Epoch 3/8\n",
            "885/885 [==============================] - 11s 13ms/step - loss: 0.5611 - accuracy: 0.7150 - val_loss: 0.5699 - val_accuracy: 0.7059\n",
            "Epoch 4/8\n",
            "885/885 [==============================] - 11s 13ms/step - loss: 0.5577 - accuracy: 0.7164 - val_loss: 0.5691 - val_accuracy: 0.6977\n",
            "Epoch 5/8\n",
            "885/885 [==============================] - 12s 13ms/step - loss: 0.6085 - accuracy: 0.6636 - val_loss: 0.6117 - val_accuracy: 0.6655\n",
            "Epoch 6/8\n",
            "885/885 [==============================] - 12s 13ms/step - loss: 0.5969 - accuracy: 0.6854 - val_loss: 0.5875 - val_accuracy: 0.6899\n",
            "Epoch 7/8\n",
            "885/885 [==============================] - 12s 13ms/step - loss: 0.5840 - accuracy: 0.6952 - val_loss: 0.5836 - val_accuracy: 0.6925\n",
            "Epoch 8/8\n",
            "885/885 [==============================] - 12s 13ms/step - loss: 0.5778 - accuracy: 0.7006 - val_loss: 0.5751 - val_accuracy: 0.6991\n"
          ]
        },
        {
          "output_type": "stream",
          "name": "stderr",
          "text": [
            "/usr/local/lib/python3.10/dist-packages/keras/src/engine/training.py:3103: UserWarning:\n",
            "\n",
            "You are saving your model as an HDF5 file via `model.save()`. This file format is considered legacy. We recommend using instead the native Keras format, e.g. `model.save('my_model.keras')`.\n",
            "\n"
          ]
        },
        {
          "output_type": "stream",
          "name": "stdout",
          "text": [
            "157/157 [==============================] - 1s 5ms/step\n"
          ]
        }
      ]
    },
    {
      "cell_type": "code",
      "execution_count": 77,
      "metadata": {
        "id": "51o6kObaoKAk",
        "colab": {
          "base_uri": "https://localhost:8080/"
        },
        "outputId": "4549ce16-b3c8-49fc-9b09-97f93b731438"
      },
      "outputs": [
        {
          "output_type": "stream",
          "name": "stdout",
          "text": [
            "[[0.673091351986 0.330675363541 0.             1.            ]\n",
            " [0.640673100948 0.368645101786 0.             1.            ]\n",
            " [0.311187237501 0.68806296587  0.             1.            ]\n",
            " ...\n",
            " [0.454916536808 0.547820746899 0.             1.            ]\n",
            " [0.412055760622 0.590432286263 0.             1.            ]\n",
            " [0.528292000294 0.477908521891 0.             1.            ]]\n",
            "157/157 [==============================] - 1s 9ms/step - loss: 0.5751 - accuracy: 0.6991\n",
            "Test results - Loss: 0.5750563144683838 - Accuracy: 69.90991234779358%\n"
          ]
        }
      ],
      "source": [
        "# Set print options to suppress scientific notation\n",
        "np.set_printoptions(suppress=True)\n",
        "\n",
        "# Concatenate arrays\n",
        "result = np.hstack((predict, y_test))\n",
        "print(result)\n",
        "\n",
        "test_results = model.evaluate(x_test, y_test, verbose=1)\n",
        "print(f'Test results - Loss: {test_results[0]} - Accuracy: {test_results[1]*100}%')\n",
        "\n",
        "# # Create a DataFrame from the 2D array\n",
        "# df = pd.DataFrame(predict, columns=['Column1', 'Column2'])\n",
        "\n",
        "# # Export the DataFrame to CSV with semicolon as the delimiter and avoiding scientific notation\n",
        "# # df.to_csv(csv_file_name, sep=';', index=False, float_format='%.0f')\n",
        "# df.to_csv(csv_file_name, sep=';', index=False)\n",
        "\n",
        "# # Read the CSV file into a DataFrame without header\n",
        "# df = pd.read_csv(csv_file_name, sep=';', header=None)\n",
        "\n",
        "# # Drop the first row containing data\n",
        "# df = df.iloc[1:]\n",
        "\n",
        "# # Save the modified DataFrame back to the CSV file without header\n",
        "# df.to_csv(csv_file_name, sep=';', index=False, header=False)\n",
        "\n",
        "# print(f'CSV file name: {csv_file_name}.')\n",
        "\n"
      ]
    },
    {
      "cell_type": "markdown",
      "source": [
        "### <a name='a4'></a> Predict i Klasyfikacja"
      ],
      "metadata": {
        "id": "Gi3IESNbmXQ2"
      }
    },
    {
      "cell_type": "code",
      "source": [
        "predict = model.predict(x_test)\n",
        "predict[:3]"
      ],
      "metadata": {
        "id": "QpZVxifpko37",
        "colab": {
          "base_uri": "https://localhost:8080/"
        },
        "outputId": "e2836204-9b26-43bd-8554-b60bb2534313"
      },
      "execution_count": 78,
      "outputs": [
        {
          "output_type": "stream",
          "name": "stdout",
          "text": [
            "157/157 [==============================] - 1s 6ms/step\n"
          ]
        },
        {
          "output_type": "execute_result",
          "data": {
            "text/plain": [
              "array([[0.67309135, 0.33067536],\n",
              "       [0.6406731 , 0.3686451 ],\n",
              "       [0.31118724, 0.68806297]], dtype=float32)"
            ]
          },
          "metadata": {},
          "execution_count": 78
        }
      ]
    },
    {
      "cell_type": "code",
      "source": [
        "# np.info(predict)\n",
        "# np.where(y_pred > threshold, 1,0)\n",
        "predict_classes = predict\n",
        "# predict_classes = np.argmax(predict_classes, axis=-1)\n",
        "predict_classes = np.where(predict > 0.5, 1,0)\n",
        "np.info(predict_classes)\n",
        "predict_classes[:3]\n",
        "# predict"
      ],
      "metadata": {
        "id": "WqQZNp_UhtfY",
        "colab": {
          "base_uri": "https://localhost:8080/"
        },
        "outputId": "1208a272-e939-4837-ddaa-283a7008e8a3"
      },
      "execution_count": 79,
      "outputs": [
        {
          "output_type": "stream",
          "name": "stdout",
          "text": [
            "class:  ndarray\n",
            "shape:  (4995, 2)\n",
            "strides:  (16, 8)\n",
            "itemsize:  8\n",
            "aligned:  True\n",
            "contiguous:  True\n",
            "fortran:  False\n",
            "data pointer: 0x581c8649a800\n",
            "byteorder:  little\n",
            "byteswap:  False\n",
            "type: int64\n"
          ]
        },
        {
          "output_type": "execute_result",
          "data": {
            "text/plain": [
              "array([[1, 0],\n",
              "       [1, 0],\n",
              "       [0, 1]])"
            ]
          },
          "metadata": {},
          "execution_count": 79
        }
      ]
    },
    {
      "cell_type": "markdown",
      "source": [
        "**epochs** - ile razy zestaw treningowy zostanie przetworzony przez model. Przy każdej iteracji optymalizator próbuje dopasować wagi, aby funkcja celu została zminimalizowana.\n",
        "\n",
        "**batch_size** - liczba przykładów treningowych po której następuje aktualizacji wag\n",
        "\n",
        "**validation_split** - procent danych użytych do walidacji"
      ],
      "metadata": {
        "id": "iP8wBH2x6zN6"
      }
    },
    {
      "cell_type": "code",
      "source": [
        "metrics = pd.DataFrame(history.history)\n",
        "metrics['epoch'] = history.epoch\n",
        "metrics[:3]"
      ],
      "metadata": {
        "id": "Id7wOgRSPxgb",
        "colab": {
          "base_uri": "https://localhost:8080/",
          "height": 143
        },
        "outputId": "ae8a731b-bc40-4718-b977-1dc930928b53"
      },
      "execution_count": 80,
      "outputs": [
        {
          "output_type": "execute_result",
          "data": {
            "text/plain": [
              "      loss  accuracy  val_loss  val_accuracy  epoch\n",
              "0 0.587847  0.691539  0.565785      0.706707      0\n",
              "1 0.566613  0.709486  0.564827      0.703704      1\n",
              "2 0.561095  0.714962  0.569893      0.705906      2"
            ],
            "text/html": [
              "\n",
              "  <div id=\"df-ba27956f-a054-4f75-99e8-3a69b1c71a71\" class=\"colab-df-container\">\n",
              "    <div>\n",
              "<style scoped>\n",
              "    .dataframe tbody tr th:only-of-type {\n",
              "        vertical-align: middle;\n",
              "    }\n",
              "\n",
              "    .dataframe tbody tr th {\n",
              "        vertical-align: top;\n",
              "    }\n",
              "\n",
              "    .dataframe thead th {\n",
              "        text-align: right;\n",
              "    }\n",
              "</style>\n",
              "<table border=\"1\" class=\"dataframe\">\n",
              "  <thead>\n",
              "    <tr style=\"text-align: right;\">\n",
              "      <th></th>\n",
              "      <th>loss</th>\n",
              "      <th>accuracy</th>\n",
              "      <th>val_loss</th>\n",
              "      <th>val_accuracy</th>\n",
              "      <th>epoch</th>\n",
              "    </tr>\n",
              "  </thead>\n",
              "  <tbody>\n",
              "    <tr>\n",
              "      <th>0</th>\n",
              "      <td>0.587847</td>\n",
              "      <td>0.691539</td>\n",
              "      <td>0.565785</td>\n",
              "      <td>0.706707</td>\n",
              "      <td>0</td>\n",
              "    </tr>\n",
              "    <tr>\n",
              "      <th>1</th>\n",
              "      <td>0.566613</td>\n",
              "      <td>0.709486</td>\n",
              "      <td>0.564827</td>\n",
              "      <td>0.703704</td>\n",
              "      <td>1</td>\n",
              "    </tr>\n",
              "    <tr>\n",
              "      <th>2</th>\n",
              "      <td>0.561095</td>\n",
              "      <td>0.714962</td>\n",
              "      <td>0.569893</td>\n",
              "      <td>0.705906</td>\n",
              "      <td>2</td>\n",
              "    </tr>\n",
              "  </tbody>\n",
              "</table>\n",
              "</div>\n",
              "    <div class=\"colab-df-buttons\">\n",
              "\n",
              "  <div class=\"colab-df-container\">\n",
              "    <button class=\"colab-df-convert\" onclick=\"convertToInteractive('df-ba27956f-a054-4f75-99e8-3a69b1c71a71')\"\n",
              "            title=\"Convert this dataframe to an interactive table.\"\n",
              "            style=\"display:none;\">\n",
              "\n",
              "  <svg xmlns=\"http://www.w3.org/2000/svg\" height=\"24px\" viewBox=\"0 -960 960 960\">\n",
              "    <path d=\"M120-120v-720h720v720H120Zm60-500h600v-160H180v160Zm220 220h160v-160H400v160Zm0 220h160v-160H400v160ZM180-400h160v-160H180v160Zm440 0h160v-160H620v160ZM180-180h160v-160H180v160Zm440 0h160v-160H620v160Z\"/>\n",
              "  </svg>\n",
              "    </button>\n",
              "\n",
              "  <style>\n",
              "    .colab-df-container {\n",
              "      display:flex;\n",
              "      gap: 12px;\n",
              "    }\n",
              "\n",
              "    .colab-df-convert {\n",
              "      background-color: #E8F0FE;\n",
              "      border: none;\n",
              "      border-radius: 50%;\n",
              "      cursor: pointer;\n",
              "      display: none;\n",
              "      fill: #1967D2;\n",
              "      height: 32px;\n",
              "      padding: 0 0 0 0;\n",
              "      width: 32px;\n",
              "    }\n",
              "\n",
              "    .colab-df-convert:hover {\n",
              "      background-color: #E2EBFA;\n",
              "      box-shadow: 0px 1px 2px rgba(60, 64, 67, 0.3), 0px 1px 3px 1px rgba(60, 64, 67, 0.15);\n",
              "      fill: #174EA6;\n",
              "    }\n",
              "\n",
              "    .colab-df-buttons div {\n",
              "      margin-bottom: 4px;\n",
              "    }\n",
              "\n",
              "    [theme=dark] .colab-df-convert {\n",
              "      background-color: #3B4455;\n",
              "      fill: #D2E3FC;\n",
              "    }\n",
              "\n",
              "    [theme=dark] .colab-df-convert:hover {\n",
              "      background-color: #434B5C;\n",
              "      box-shadow: 0px 1px 3px 1px rgba(0, 0, 0, 0.15);\n",
              "      filter: drop-shadow(0px 1px 2px rgba(0, 0, 0, 0.3));\n",
              "      fill: #FFFFFF;\n",
              "    }\n",
              "  </style>\n",
              "\n",
              "    <script>\n",
              "      const buttonEl =\n",
              "        document.querySelector('#df-ba27956f-a054-4f75-99e8-3a69b1c71a71 button.colab-df-convert');\n",
              "      buttonEl.style.display =\n",
              "        google.colab.kernel.accessAllowed ? 'block' : 'none';\n",
              "\n",
              "      async function convertToInteractive(key) {\n",
              "        const element = document.querySelector('#df-ba27956f-a054-4f75-99e8-3a69b1c71a71');\n",
              "        const dataTable =\n",
              "          await google.colab.kernel.invokeFunction('convertToInteractive',\n",
              "                                                    [key], {});\n",
              "        if (!dataTable) return;\n",
              "\n",
              "        const docLinkHtml = 'Like what you see? Visit the ' +\n",
              "          '<a target=\"_blank\" href=https://colab.research.google.com/notebooks/data_table.ipynb>data table notebook</a>'\n",
              "          + ' to learn more about interactive tables.';\n",
              "        element.innerHTML = '';\n",
              "        dataTable['output_type'] = 'display_data';\n",
              "        await google.colab.output.renderOutput(dataTable, element);\n",
              "        const docLink = document.createElement('div');\n",
              "        docLink.innerHTML = docLinkHtml;\n",
              "        element.appendChild(docLink);\n",
              "      }\n",
              "    </script>\n",
              "  </div>\n",
              "\n",
              "\n",
              "<div id=\"df-a537cfbd-76ba-4af2-b7df-775e7683f15f\">\n",
              "  <button class=\"colab-df-quickchart\" onclick=\"quickchart('df-a537cfbd-76ba-4af2-b7df-775e7683f15f')\"\n",
              "            title=\"Suggest charts\"\n",
              "            style=\"display:none;\">\n",
              "\n",
              "<svg xmlns=\"http://www.w3.org/2000/svg\" height=\"24px\"viewBox=\"0 0 24 24\"\n",
              "     width=\"24px\">\n",
              "    <g>\n",
              "        <path d=\"M19 3H5c-1.1 0-2 .9-2 2v14c0 1.1.9 2 2 2h14c1.1 0 2-.9 2-2V5c0-1.1-.9-2-2-2zM9 17H7v-7h2v7zm4 0h-2V7h2v10zm4 0h-2v-4h2v4z\"/>\n",
              "    </g>\n",
              "</svg>\n",
              "  </button>\n",
              "\n",
              "<style>\n",
              "  .colab-df-quickchart {\n",
              "      --bg-color: #E8F0FE;\n",
              "      --fill-color: #1967D2;\n",
              "      --hover-bg-color: #E2EBFA;\n",
              "      --hover-fill-color: #174EA6;\n",
              "      --disabled-fill-color: #AAA;\n",
              "      --disabled-bg-color: #DDD;\n",
              "  }\n",
              "\n",
              "  [theme=dark] .colab-df-quickchart {\n",
              "      --bg-color: #3B4455;\n",
              "      --fill-color: #D2E3FC;\n",
              "      --hover-bg-color: #434B5C;\n",
              "      --hover-fill-color: #FFFFFF;\n",
              "      --disabled-bg-color: #3B4455;\n",
              "      --disabled-fill-color: #666;\n",
              "  }\n",
              "\n",
              "  .colab-df-quickchart {\n",
              "    background-color: var(--bg-color);\n",
              "    border: none;\n",
              "    border-radius: 50%;\n",
              "    cursor: pointer;\n",
              "    display: none;\n",
              "    fill: var(--fill-color);\n",
              "    height: 32px;\n",
              "    padding: 0;\n",
              "    width: 32px;\n",
              "  }\n",
              "\n",
              "  .colab-df-quickchart:hover {\n",
              "    background-color: var(--hover-bg-color);\n",
              "    box-shadow: 0 1px 2px rgba(60, 64, 67, 0.3), 0 1px 3px 1px rgba(60, 64, 67, 0.15);\n",
              "    fill: var(--button-hover-fill-color);\n",
              "  }\n",
              "\n",
              "  .colab-df-quickchart-complete:disabled,\n",
              "  .colab-df-quickchart-complete:disabled:hover {\n",
              "    background-color: var(--disabled-bg-color);\n",
              "    fill: var(--disabled-fill-color);\n",
              "    box-shadow: none;\n",
              "  }\n",
              "\n",
              "  .colab-df-spinner {\n",
              "    border: 2px solid var(--fill-color);\n",
              "    border-color: transparent;\n",
              "    border-bottom-color: var(--fill-color);\n",
              "    animation:\n",
              "      spin 1s steps(1) infinite;\n",
              "  }\n",
              "\n",
              "  @keyframes spin {\n",
              "    0% {\n",
              "      border-color: transparent;\n",
              "      border-bottom-color: var(--fill-color);\n",
              "      border-left-color: var(--fill-color);\n",
              "    }\n",
              "    20% {\n",
              "      border-color: transparent;\n",
              "      border-left-color: var(--fill-color);\n",
              "      border-top-color: var(--fill-color);\n",
              "    }\n",
              "    30% {\n",
              "      border-color: transparent;\n",
              "      border-left-color: var(--fill-color);\n",
              "      border-top-color: var(--fill-color);\n",
              "      border-right-color: var(--fill-color);\n",
              "    }\n",
              "    40% {\n",
              "      border-color: transparent;\n",
              "      border-right-color: var(--fill-color);\n",
              "      border-top-color: var(--fill-color);\n",
              "    }\n",
              "    60% {\n",
              "      border-color: transparent;\n",
              "      border-right-color: var(--fill-color);\n",
              "    }\n",
              "    80% {\n",
              "      border-color: transparent;\n",
              "      border-right-color: var(--fill-color);\n",
              "      border-bottom-color: var(--fill-color);\n",
              "    }\n",
              "    90% {\n",
              "      border-color: transparent;\n",
              "      border-bottom-color: var(--fill-color);\n",
              "    }\n",
              "  }\n",
              "</style>\n",
              "\n",
              "  <script>\n",
              "    async function quickchart(key) {\n",
              "      const quickchartButtonEl =\n",
              "        document.querySelector('#' + key + ' button');\n",
              "      quickchartButtonEl.disabled = true;  // To prevent multiple clicks.\n",
              "      quickchartButtonEl.classList.add('colab-df-spinner');\n",
              "      try {\n",
              "        const charts = await google.colab.kernel.invokeFunction(\n",
              "            'suggestCharts', [key], {});\n",
              "      } catch (error) {\n",
              "        console.error('Error during call to suggestCharts:', error);\n",
              "      }\n",
              "      quickchartButtonEl.classList.remove('colab-df-spinner');\n",
              "      quickchartButtonEl.classList.add('colab-df-quickchart-complete');\n",
              "    }\n",
              "    (() => {\n",
              "      let quickchartButtonEl =\n",
              "        document.querySelector('#df-a537cfbd-76ba-4af2-b7df-775e7683f15f button');\n",
              "      quickchartButtonEl.style.display =\n",
              "        google.colab.kernel.accessAllowed ? 'block' : 'none';\n",
              "    })();\n",
              "  </script>\n",
              "</div>\n",
              "    </div>\n",
              "  </div>\n"
            ],
            "application/vnd.google.colaboratory.intrinsic+json": {
              "type": "dataframe",
              "summary": "{\n  \"name\": \"metrics[:3]\",\n  \"rows\": 3,\n  \"fields\": [\n    {\n      \"column\": \"loss\",\n      \"properties\": {\n        \"dtype\": \"number\",\n        \"std\": 0.01412416412411333,\n        \"min\": 0.5610949397087097,\n        \"max\": 0.587846577167511,\n        \"num_unique_values\": 3,\n        \"samples\": [\n          0.587846577167511,\n          0.5666133761405945,\n          0.5610949397087097\n        ],\n        \"semantic_type\": \"\",\n        \"description\": \"\"\n      }\n    },\n    {\n      \"column\": \"accuracy\",\n      \"properties\": {\n        \"dtype\": \"number\",\n        \"std\": 0.012252569329137208,\n        \"min\": 0.6915385723114014,\n        \"max\": 0.7149620056152344,\n        \"num_unique_values\": 3,\n        \"samples\": [\n          0.6915385723114014,\n          0.7094859480857849,\n          0.7149620056152344\n        ],\n        \"semantic_type\": \"\",\n        \"description\": \"\"\n      }\n    },\n    {\n      \"column\": \"val_loss\",\n      \"properties\": {\n        \"dtype\": \"number\",\n        \"std\": 0.002691253778778459,\n        \"min\": 0.5648265480995178,\n        \"max\": 0.5698927640914917,\n        \"num_unique_values\": 3,\n        \"samples\": [\n          0.56578528881073,\n          0.5648265480995178,\n          0.5698927640914917\n        ],\n        \"semantic_type\": \"\",\n        \"description\": \"\"\n      }\n    },\n    {\n      \"column\": \"val_accuracy\",\n      \"properties\": {\n        \"dtype\": \"number\",\n        \"std\": 0.001555046602420382,\n        \"min\": 0.7037037014961243,\n        \"max\": 0.706706702709198,\n        \"num_unique_values\": 3,\n        \"samples\": [\n          0.706706702709198,\n          0.7037037014961243,\n          0.7059059143066406\n        ],\n        \"semantic_type\": \"\",\n        \"description\": \"\"\n      }\n    },\n    {\n      \"column\": \"epoch\",\n      \"properties\": {\n        \"dtype\": \"number\",\n        \"std\": 1,\n        \"min\": 0,\n        \"max\": 2,\n        \"num_unique_values\": 3,\n        \"samples\": [\n          0,\n          1,\n          2\n        ],\n        \"semantic_type\": \"\",\n        \"description\": \"\"\n      }\n    }\n  ]\n}"
            }
          },
          "metadata": {},
          "execution_count": 80
        }
      ]
    },
    {
      "cell_type": "markdown",
      "source": [
        "### <a name='a6'></a> Ocena modelu LSTM"
      ],
      "metadata": {
        "id": "c8fsX9-1SaXY"
      }
    },
    {
      "cell_type": "code",
      "source": [
        "import plotly.graph_objects as go\n",
        "from plotly.subplots import make_subplots\n",
        "\n",
        "fig = make_subplots(rows=1, cols=2)\n",
        "fig.add_trace(go.Scatter(x=metrics['epoch'], y=metrics['accuracy'], name='accuracy'), row=1, col=1)\n",
        "fig.add_trace(go.Scatter(x=metrics['epoch'], y=metrics['loss'], name='loss'), row=1, col=2)\n",
        "fig.add_trace(go.Scatter(x=metrics['epoch'], y=metrics['val_accuracy'], name='val_accuracy'), row=1, col=1)\n",
        "fig.add_trace(go.Scatter(x=metrics['epoch'], y=metrics['val_loss'], name='val_loss'), row=1, col=2)\n",
        "\n",
        "fig.update_xaxes(title_text='epochs')\n",
        "fig.update_yaxes(title_text='accuracy')\n",
        "fig.update_layout(width=1000, title='Accuracy and Loss')\n",
        "fig.show()"
      ],
      "metadata": {
        "id": "2XOExmC-wsQV",
        "colab": {
          "base_uri": "https://localhost:8080/",
          "height": 542
        },
        "outputId": "0c6aa9f3-224f-4411-c5e1-169520cd95cc"
      },
      "execution_count": 81,
      "outputs": [
        {
          "output_type": "display_data",
          "data": {
            "text/html": [
              "<html>\n",
              "<head><meta charset=\"utf-8\" /></head>\n",
              "<body>\n",
              "    <div>            <script src=\"https://cdnjs.cloudflare.com/ajax/libs/mathjax/2.7.5/MathJax.js?config=TeX-AMS-MML_SVG\"></script><script type=\"text/javascript\">if (window.MathJax && window.MathJax.Hub && window.MathJax.Hub.Config) {window.MathJax.Hub.Config({SVG: {font: \"STIX-Web\"}});}</script>                <script type=\"text/javascript\">window.PlotlyConfig = {MathJaxConfig: 'local'};</script>\n",
              "        <script charset=\"utf-8\" src=\"https://cdn.plot.ly/plotly-2.24.1.min.js\"></script>                <div id=\"72e5b8d3-5f7e-44e9-a1db-c022a1c50590\" class=\"plotly-graph-div\" style=\"height:525px; width:1000px;\"></div>            <script type=\"text/javascript\">                                    window.PLOTLYENV=window.PLOTLYENV || {};                                    if (document.getElementById(\"72e5b8d3-5f7e-44e9-a1db-c022a1c50590\")) {                    Plotly.newPlot(                        \"72e5b8d3-5f7e-44e9-a1db-c022a1c50590\",                        [{\"name\":\"accuracy\",\"x\":[0,1,2,3,4,5,6,7],\"y\":[0.6915385723114014,0.7094859480857849,0.7149620056152344,0.7164105176925659,0.6635929942131042,0.6853559613227844,0.6952481865882874,0.7005829215049744],\"type\":\"scatter\",\"xaxis\":\"x\",\"yaxis\":\"y\"},{\"name\":\"loss\",\"x\":[0,1,2,3,4,5,6,7],\"y\":[0.587846577167511,0.5666133761405945,0.5610949397087097,0.5577073693275452,0.608537495136261,0.5969010591506958,0.5840004682540894,0.5777661800384521],\"type\":\"scatter\",\"xaxis\":\"x2\",\"yaxis\":\"y2\"},{\"name\":\"val_accuracy\",\"x\":[0,1,2,3,4,5,6,7],\"y\":[0.706706702709198,0.7037037014961243,0.7059059143066406,0.6976976990699768,0.6654654741287231,0.6898899078369141,0.6924924850463867,0.6990991234779358],\"type\":\"scatter\",\"xaxis\":\"x\",\"yaxis\":\"y\"},{\"name\":\"val_loss\",\"x\":[0,1,2,3,4,5,6,7],\"y\":[0.56578528881073,0.5648265480995178,0.5698927640914917,0.5690984129905701,0.6117300987243652,0.587465226650238,0.5835887789726257,0.5750563144683838],\"type\":\"scatter\",\"xaxis\":\"x2\",\"yaxis\":\"y2\"}],                        {\"template\":{\"data\":{\"histogram2dcontour\":[{\"type\":\"histogram2dcontour\",\"colorbar\":{\"outlinewidth\":0,\"ticks\":\"\"},\"colorscale\":[[0.0,\"#0d0887\"],[0.1111111111111111,\"#46039f\"],[0.2222222222222222,\"#7201a8\"],[0.3333333333333333,\"#9c179e\"],[0.4444444444444444,\"#bd3786\"],[0.5555555555555556,\"#d8576b\"],[0.6666666666666666,\"#ed7953\"],[0.7777777777777778,\"#fb9f3a\"],[0.8888888888888888,\"#fdca26\"],[1.0,\"#f0f921\"]]}],\"choropleth\":[{\"type\":\"choropleth\",\"colorbar\":{\"outlinewidth\":0,\"ticks\":\"\"}}],\"histogram2d\":[{\"type\":\"histogram2d\",\"colorbar\":{\"outlinewidth\":0,\"ticks\":\"\"},\"colorscale\":[[0.0,\"#0d0887\"],[0.1111111111111111,\"#46039f\"],[0.2222222222222222,\"#7201a8\"],[0.3333333333333333,\"#9c179e\"],[0.4444444444444444,\"#bd3786\"],[0.5555555555555556,\"#d8576b\"],[0.6666666666666666,\"#ed7953\"],[0.7777777777777778,\"#fb9f3a\"],[0.8888888888888888,\"#fdca26\"],[1.0,\"#f0f921\"]]}],\"heatmap\":[{\"type\":\"heatmap\",\"colorbar\":{\"outlinewidth\":0,\"ticks\":\"\"},\"colorscale\":[[0.0,\"#0d0887\"],[0.1111111111111111,\"#46039f\"],[0.2222222222222222,\"#7201a8\"],[0.3333333333333333,\"#9c179e\"],[0.4444444444444444,\"#bd3786\"],[0.5555555555555556,\"#d8576b\"],[0.6666666666666666,\"#ed7953\"],[0.7777777777777778,\"#fb9f3a\"],[0.8888888888888888,\"#fdca26\"],[1.0,\"#f0f921\"]]}],\"heatmapgl\":[{\"type\":\"heatmapgl\",\"colorbar\":{\"outlinewidth\":0,\"ticks\":\"\"},\"colorscale\":[[0.0,\"#0d0887\"],[0.1111111111111111,\"#46039f\"],[0.2222222222222222,\"#7201a8\"],[0.3333333333333333,\"#9c179e\"],[0.4444444444444444,\"#bd3786\"],[0.5555555555555556,\"#d8576b\"],[0.6666666666666666,\"#ed7953\"],[0.7777777777777778,\"#fb9f3a\"],[0.8888888888888888,\"#fdca26\"],[1.0,\"#f0f921\"]]}],\"contourcarpet\":[{\"type\":\"contourcarpet\",\"colorbar\":{\"outlinewidth\":0,\"ticks\":\"\"}}],\"contour\":[{\"type\":\"contour\",\"colorbar\":{\"outlinewidth\":0,\"ticks\":\"\"},\"colorscale\":[[0.0,\"#0d0887\"],[0.1111111111111111,\"#46039f\"],[0.2222222222222222,\"#7201a8\"],[0.3333333333333333,\"#9c179e\"],[0.4444444444444444,\"#bd3786\"],[0.5555555555555556,\"#d8576b\"],[0.6666666666666666,\"#ed7953\"],[0.7777777777777778,\"#fb9f3a\"],[0.8888888888888888,\"#fdca26\"],[1.0,\"#f0f921\"]]}],\"surface\":[{\"type\":\"surface\",\"colorbar\":{\"outlinewidth\":0,\"ticks\":\"\"},\"colorscale\":[[0.0,\"#0d0887\"],[0.1111111111111111,\"#46039f\"],[0.2222222222222222,\"#7201a8\"],[0.3333333333333333,\"#9c179e\"],[0.4444444444444444,\"#bd3786\"],[0.5555555555555556,\"#d8576b\"],[0.6666666666666666,\"#ed7953\"],[0.7777777777777778,\"#fb9f3a\"],[0.8888888888888888,\"#fdca26\"],[1.0,\"#f0f921\"]]}],\"mesh3d\":[{\"type\":\"mesh3d\",\"colorbar\":{\"outlinewidth\":0,\"ticks\":\"\"}}],\"scatter\":[{\"fillpattern\":{\"fillmode\":\"overlay\",\"size\":10,\"solidity\":0.2},\"type\":\"scatter\"}],\"parcoords\":[{\"type\":\"parcoords\",\"line\":{\"colorbar\":{\"outlinewidth\":0,\"ticks\":\"\"}}}],\"scatterpolargl\":[{\"type\":\"scatterpolargl\",\"marker\":{\"colorbar\":{\"outlinewidth\":0,\"ticks\":\"\"}}}],\"bar\":[{\"error_x\":{\"color\":\"#2a3f5f\"},\"error_y\":{\"color\":\"#2a3f5f\"},\"marker\":{\"line\":{\"color\":\"#E5ECF6\",\"width\":0.5},\"pattern\":{\"fillmode\":\"overlay\",\"size\":10,\"solidity\":0.2}},\"type\":\"bar\"}],\"scattergeo\":[{\"type\":\"scattergeo\",\"marker\":{\"colorbar\":{\"outlinewidth\":0,\"ticks\":\"\"}}}],\"scatterpolar\":[{\"type\":\"scatterpolar\",\"marker\":{\"colorbar\":{\"outlinewidth\":0,\"ticks\":\"\"}}}],\"histogram\":[{\"marker\":{\"pattern\":{\"fillmode\":\"overlay\",\"size\":10,\"solidity\":0.2}},\"type\":\"histogram\"}],\"scattergl\":[{\"type\":\"scattergl\",\"marker\":{\"colorbar\":{\"outlinewidth\":0,\"ticks\":\"\"}}}],\"scatter3d\":[{\"type\":\"scatter3d\",\"line\":{\"colorbar\":{\"outlinewidth\":0,\"ticks\":\"\"}},\"marker\":{\"colorbar\":{\"outlinewidth\":0,\"ticks\":\"\"}}}],\"scattermapbox\":[{\"type\":\"scattermapbox\",\"marker\":{\"colorbar\":{\"outlinewidth\":0,\"ticks\":\"\"}}}],\"scatterternary\":[{\"type\":\"scatterternary\",\"marker\":{\"colorbar\":{\"outlinewidth\":0,\"ticks\":\"\"}}}],\"scattercarpet\":[{\"type\":\"scattercarpet\",\"marker\":{\"colorbar\":{\"outlinewidth\":0,\"ticks\":\"\"}}}],\"carpet\":[{\"aaxis\":{\"endlinecolor\":\"#2a3f5f\",\"gridcolor\":\"white\",\"linecolor\":\"white\",\"minorgridcolor\":\"white\",\"startlinecolor\":\"#2a3f5f\"},\"baxis\":{\"endlinecolor\":\"#2a3f5f\",\"gridcolor\":\"white\",\"linecolor\":\"white\",\"minorgridcolor\":\"white\",\"startlinecolor\":\"#2a3f5f\"},\"type\":\"carpet\"}],\"table\":[{\"cells\":{\"fill\":{\"color\":\"#EBF0F8\"},\"line\":{\"color\":\"white\"}},\"header\":{\"fill\":{\"color\":\"#C8D4E3\"},\"line\":{\"color\":\"white\"}},\"type\":\"table\"}],\"barpolar\":[{\"marker\":{\"line\":{\"color\":\"#E5ECF6\",\"width\":0.5},\"pattern\":{\"fillmode\":\"overlay\",\"size\":10,\"solidity\":0.2}},\"type\":\"barpolar\"}],\"pie\":[{\"automargin\":true,\"type\":\"pie\"}]},\"layout\":{\"autotypenumbers\":\"strict\",\"colorway\":[\"#636efa\",\"#EF553B\",\"#00cc96\",\"#ab63fa\",\"#FFA15A\",\"#19d3f3\",\"#FF6692\",\"#B6E880\",\"#FF97FF\",\"#FECB52\"],\"font\":{\"color\":\"#2a3f5f\"},\"hovermode\":\"closest\",\"hoverlabel\":{\"align\":\"left\"},\"paper_bgcolor\":\"white\",\"plot_bgcolor\":\"#E5ECF6\",\"polar\":{\"bgcolor\":\"#E5ECF6\",\"angularaxis\":{\"gridcolor\":\"white\",\"linecolor\":\"white\",\"ticks\":\"\"},\"radialaxis\":{\"gridcolor\":\"white\",\"linecolor\":\"white\",\"ticks\":\"\"}},\"ternary\":{\"bgcolor\":\"#E5ECF6\",\"aaxis\":{\"gridcolor\":\"white\",\"linecolor\":\"white\",\"ticks\":\"\"},\"baxis\":{\"gridcolor\":\"white\",\"linecolor\":\"white\",\"ticks\":\"\"},\"caxis\":{\"gridcolor\":\"white\",\"linecolor\":\"white\",\"ticks\":\"\"}},\"coloraxis\":{\"colorbar\":{\"outlinewidth\":0,\"ticks\":\"\"}},\"colorscale\":{\"sequential\":[[0.0,\"#0d0887\"],[0.1111111111111111,\"#46039f\"],[0.2222222222222222,\"#7201a8\"],[0.3333333333333333,\"#9c179e\"],[0.4444444444444444,\"#bd3786\"],[0.5555555555555556,\"#d8576b\"],[0.6666666666666666,\"#ed7953\"],[0.7777777777777778,\"#fb9f3a\"],[0.8888888888888888,\"#fdca26\"],[1.0,\"#f0f921\"]],\"sequentialminus\":[[0.0,\"#0d0887\"],[0.1111111111111111,\"#46039f\"],[0.2222222222222222,\"#7201a8\"],[0.3333333333333333,\"#9c179e\"],[0.4444444444444444,\"#bd3786\"],[0.5555555555555556,\"#d8576b\"],[0.6666666666666666,\"#ed7953\"],[0.7777777777777778,\"#fb9f3a\"],[0.8888888888888888,\"#fdca26\"],[1.0,\"#f0f921\"]],\"diverging\":[[0,\"#8e0152\"],[0.1,\"#c51b7d\"],[0.2,\"#de77ae\"],[0.3,\"#f1b6da\"],[0.4,\"#fde0ef\"],[0.5,\"#f7f7f7\"],[0.6,\"#e6f5d0\"],[0.7,\"#b8e186\"],[0.8,\"#7fbc41\"],[0.9,\"#4d9221\"],[1,\"#276419\"]]},\"xaxis\":{\"gridcolor\":\"white\",\"linecolor\":\"white\",\"ticks\":\"\",\"title\":{\"standoff\":15},\"zerolinecolor\":\"white\",\"automargin\":true,\"zerolinewidth\":2},\"yaxis\":{\"gridcolor\":\"white\",\"linecolor\":\"white\",\"ticks\":\"\",\"title\":{\"standoff\":15},\"zerolinecolor\":\"white\",\"automargin\":true,\"zerolinewidth\":2},\"scene\":{\"xaxis\":{\"backgroundcolor\":\"#E5ECF6\",\"gridcolor\":\"white\",\"linecolor\":\"white\",\"showbackground\":true,\"ticks\":\"\",\"zerolinecolor\":\"white\",\"gridwidth\":2},\"yaxis\":{\"backgroundcolor\":\"#E5ECF6\",\"gridcolor\":\"white\",\"linecolor\":\"white\",\"showbackground\":true,\"ticks\":\"\",\"zerolinecolor\":\"white\",\"gridwidth\":2},\"zaxis\":{\"backgroundcolor\":\"#E5ECF6\",\"gridcolor\":\"white\",\"linecolor\":\"white\",\"showbackground\":true,\"ticks\":\"\",\"zerolinecolor\":\"white\",\"gridwidth\":2}},\"shapedefaults\":{\"line\":{\"color\":\"#2a3f5f\"}},\"annotationdefaults\":{\"arrowcolor\":\"#2a3f5f\",\"arrowhead\":0,\"arrowwidth\":1},\"geo\":{\"bgcolor\":\"white\",\"landcolor\":\"#E5ECF6\",\"subunitcolor\":\"white\",\"showland\":true,\"showlakes\":true,\"lakecolor\":\"white\"},\"title\":{\"x\":0.05},\"mapbox\":{\"style\":\"light\"}}},\"xaxis\":{\"anchor\":\"y\",\"domain\":[0.0,0.45],\"title\":{\"text\":\"epochs\"}},\"yaxis\":{\"anchor\":\"x\",\"domain\":[0.0,1.0],\"title\":{\"text\":\"accuracy\"}},\"xaxis2\":{\"anchor\":\"y2\",\"domain\":[0.55,1.0],\"title\":{\"text\":\"epochs\"}},\"yaxis2\":{\"anchor\":\"x2\",\"domain\":[0.0,1.0],\"title\":{\"text\":\"accuracy\"}},\"width\":1000,\"title\":{\"text\":\"Accuracy and Loss\"}},                        {\"responsive\": true}                    ).then(function(){\n",
              "                            \n",
              "var gd = document.getElementById('72e5b8d3-5f7e-44e9-a1db-c022a1c50590');\n",
              "var x = new MutationObserver(function (mutations, observer) {{\n",
              "        var display = window.getComputedStyle(gd).display;\n",
              "        if (!display || display === 'none') {{\n",
              "            console.log([gd, 'removed!']);\n",
              "            Plotly.purge(gd);\n",
              "            observer.disconnect();\n",
              "        }}\n",
              "}});\n",
              "\n",
              "// Listen for the removal of the full notebook cells\n",
              "var notebookContainer = gd.closest('#notebook-container');\n",
              "if (notebookContainer) {{\n",
              "    x.observe(notebookContainer, {childList: true});\n",
              "}}\n",
              "\n",
              "// Listen for the clearing of the current output cell\n",
              "var outputEl = gd.closest('.output');\n",
              "if (outputEl) {{\n",
              "    x.observe(outputEl, {childList: true});\n",
              "}}\n",
              "\n",
              "                        })                };                            </script>        </div>\n",
              "</body>\n",
              "</html>"
            ]
          },
          "metadata": {}
        }
      ]
    },
    {
      "cell_type": "code",
      "source": [
        "# nie wiem co to za blok\n",
        "from keras.utils import to_categorical\n",
        "\n",
        "y_train = to_categorical(y_train, num_classes=10)\n",
        "y_test_cat = to_categorical(y_test, num_classes=10)"
      ],
      "metadata": {
        "id": "msrI6vC5xw3H"
      },
      "execution_count": 82,
      "outputs": []
    },
    {
      "cell_type": "code",
      "source": [
        "test_loss, test_acc = model.evaluate(x_test, y_test, verbose=0)\n",
        "print(test_acc)"
      ],
      "metadata": {
        "id": "DEKIy3Pdwuqs",
        "colab": {
          "base_uri": "https://localhost:8080/"
        },
        "outputId": "58412465-e574-496e-b2e8-5ae550716ecb"
      },
      "execution_count": 83,
      "outputs": [
        {
          "output_type": "stream",
          "name": "stdout",
          "text": [
            "0.6990991234779358\n"
          ]
        }
      ]
    },
    {
      "cell_type": "markdown",
      "source": [
        "### <a name='a7'></a> Graf zielono czerwony"
      ],
      "metadata": {
        "id": "EXfoIx7zUJLQ"
      }
    },
    {
      "cell_type": "code",
      "source": [
        "# Połączenie dwóch tablic\n",
        "concat = np.hstack((predict_classes, Y_test[:,2:]))\n",
        "print(concat.shape)\n",
        "print(concat[:3])"
      ],
      "metadata": {
        "id": "ZEJOPSNBVDC6",
        "colab": {
          "base_uri": "https://localhost:8080/"
        },
        "outputId": "e8ff5894-a536-4d98-9652-87289bc38a6f"
      },
      "execution_count": 84,
      "outputs": [
        {
          "output_type": "stream",
          "name": "stdout",
          "text": [
            "(4995, 3)\n",
            "[[ 1.    0.   79.8 ]\n",
            " [ 1.    0.   80.04]\n",
            " [ 0.    1.   80.  ]]\n"
          ]
        }
      ]
    },
    {
      "cell_type": "code",
      "source": [
        "import plotly.express as px\n",
        "import pandas as pd\n",
        "\n",
        "# Tworzenie Date Frame\n",
        "df = pd.DataFrame(concat, columns=['Sell', 'Buy', 'Price'])\n",
        "df.head(5)"
      ],
      "metadata": {
        "id": "FdY1159qUqXN",
        "colab": {
          "base_uri": "https://localhost:8080/",
          "height": 206
        },
        "outputId": "af9094ce-0a72-4824-c289-5a60e3cc085a"
      },
      "execution_count": 85,
      "outputs": [
        {
          "output_type": "execute_result",
          "data": {
            "text/plain": [
              "      Sell      Buy     Price\n",
              "0 1.000000 0.000000 79.800000\n",
              "1 1.000000 0.000000 80.040000\n",
              "2 0.000000 1.000000 80.000000\n",
              "3 0.000000 1.000000 80.140000\n",
              "4 0.000000 1.000000 80.310000"
            ],
            "text/html": [
              "\n",
              "  <div id=\"df-5634385a-c51d-4468-b9d1-d481fbb3ea66\" class=\"colab-df-container\">\n",
              "    <div>\n",
              "<style scoped>\n",
              "    .dataframe tbody tr th:only-of-type {\n",
              "        vertical-align: middle;\n",
              "    }\n",
              "\n",
              "    .dataframe tbody tr th {\n",
              "        vertical-align: top;\n",
              "    }\n",
              "\n",
              "    .dataframe thead th {\n",
              "        text-align: right;\n",
              "    }\n",
              "</style>\n",
              "<table border=\"1\" class=\"dataframe\">\n",
              "  <thead>\n",
              "    <tr style=\"text-align: right;\">\n",
              "      <th></th>\n",
              "      <th>Sell</th>\n",
              "      <th>Buy</th>\n",
              "      <th>Price</th>\n",
              "    </tr>\n",
              "  </thead>\n",
              "  <tbody>\n",
              "    <tr>\n",
              "      <th>0</th>\n",
              "      <td>1.000000</td>\n",
              "      <td>0.000000</td>\n",
              "      <td>79.800000</td>\n",
              "    </tr>\n",
              "    <tr>\n",
              "      <th>1</th>\n",
              "      <td>1.000000</td>\n",
              "      <td>0.000000</td>\n",
              "      <td>80.040000</td>\n",
              "    </tr>\n",
              "    <tr>\n",
              "      <th>2</th>\n",
              "      <td>0.000000</td>\n",
              "      <td>1.000000</td>\n",
              "      <td>80.000000</td>\n",
              "    </tr>\n",
              "    <tr>\n",
              "      <th>3</th>\n",
              "      <td>0.000000</td>\n",
              "      <td>1.000000</td>\n",
              "      <td>80.140000</td>\n",
              "    </tr>\n",
              "    <tr>\n",
              "      <th>4</th>\n",
              "      <td>0.000000</td>\n",
              "      <td>1.000000</td>\n",
              "      <td>80.310000</td>\n",
              "    </tr>\n",
              "  </tbody>\n",
              "</table>\n",
              "</div>\n",
              "    <div class=\"colab-df-buttons\">\n",
              "\n",
              "  <div class=\"colab-df-container\">\n",
              "    <button class=\"colab-df-convert\" onclick=\"convertToInteractive('df-5634385a-c51d-4468-b9d1-d481fbb3ea66')\"\n",
              "            title=\"Convert this dataframe to an interactive table.\"\n",
              "            style=\"display:none;\">\n",
              "\n",
              "  <svg xmlns=\"http://www.w3.org/2000/svg\" height=\"24px\" viewBox=\"0 -960 960 960\">\n",
              "    <path d=\"M120-120v-720h720v720H120Zm60-500h600v-160H180v160Zm220 220h160v-160H400v160Zm0 220h160v-160H400v160ZM180-400h160v-160H180v160Zm440 0h160v-160H620v160ZM180-180h160v-160H180v160Zm440 0h160v-160H620v160Z\"/>\n",
              "  </svg>\n",
              "    </button>\n",
              "\n",
              "  <style>\n",
              "    .colab-df-container {\n",
              "      display:flex;\n",
              "      gap: 12px;\n",
              "    }\n",
              "\n",
              "    .colab-df-convert {\n",
              "      background-color: #E8F0FE;\n",
              "      border: none;\n",
              "      border-radius: 50%;\n",
              "      cursor: pointer;\n",
              "      display: none;\n",
              "      fill: #1967D2;\n",
              "      height: 32px;\n",
              "      padding: 0 0 0 0;\n",
              "      width: 32px;\n",
              "    }\n",
              "\n",
              "    .colab-df-convert:hover {\n",
              "      background-color: #E2EBFA;\n",
              "      box-shadow: 0px 1px 2px rgba(60, 64, 67, 0.3), 0px 1px 3px 1px rgba(60, 64, 67, 0.15);\n",
              "      fill: #174EA6;\n",
              "    }\n",
              "\n",
              "    .colab-df-buttons div {\n",
              "      margin-bottom: 4px;\n",
              "    }\n",
              "\n",
              "    [theme=dark] .colab-df-convert {\n",
              "      background-color: #3B4455;\n",
              "      fill: #D2E3FC;\n",
              "    }\n",
              "\n",
              "    [theme=dark] .colab-df-convert:hover {\n",
              "      background-color: #434B5C;\n",
              "      box-shadow: 0px 1px 3px 1px rgba(0, 0, 0, 0.15);\n",
              "      filter: drop-shadow(0px 1px 2px rgba(0, 0, 0, 0.3));\n",
              "      fill: #FFFFFF;\n",
              "    }\n",
              "  </style>\n",
              "\n",
              "    <script>\n",
              "      const buttonEl =\n",
              "        document.querySelector('#df-5634385a-c51d-4468-b9d1-d481fbb3ea66 button.colab-df-convert');\n",
              "      buttonEl.style.display =\n",
              "        google.colab.kernel.accessAllowed ? 'block' : 'none';\n",
              "\n",
              "      async function convertToInteractive(key) {\n",
              "        const element = document.querySelector('#df-5634385a-c51d-4468-b9d1-d481fbb3ea66');\n",
              "        const dataTable =\n",
              "          await google.colab.kernel.invokeFunction('convertToInteractive',\n",
              "                                                    [key], {});\n",
              "        if (!dataTable) return;\n",
              "\n",
              "        const docLinkHtml = 'Like what you see? Visit the ' +\n",
              "          '<a target=\"_blank\" href=https://colab.research.google.com/notebooks/data_table.ipynb>data table notebook</a>'\n",
              "          + ' to learn more about interactive tables.';\n",
              "        element.innerHTML = '';\n",
              "        dataTable['output_type'] = 'display_data';\n",
              "        await google.colab.output.renderOutput(dataTable, element);\n",
              "        const docLink = document.createElement('div');\n",
              "        docLink.innerHTML = docLinkHtml;\n",
              "        element.appendChild(docLink);\n",
              "      }\n",
              "    </script>\n",
              "  </div>\n",
              "\n",
              "\n",
              "<div id=\"df-3874477a-369b-43ce-86ea-a6df87b131a0\">\n",
              "  <button class=\"colab-df-quickchart\" onclick=\"quickchart('df-3874477a-369b-43ce-86ea-a6df87b131a0')\"\n",
              "            title=\"Suggest charts\"\n",
              "            style=\"display:none;\">\n",
              "\n",
              "<svg xmlns=\"http://www.w3.org/2000/svg\" height=\"24px\"viewBox=\"0 0 24 24\"\n",
              "     width=\"24px\">\n",
              "    <g>\n",
              "        <path d=\"M19 3H5c-1.1 0-2 .9-2 2v14c0 1.1.9 2 2 2h14c1.1 0 2-.9 2-2V5c0-1.1-.9-2-2-2zM9 17H7v-7h2v7zm4 0h-2V7h2v10zm4 0h-2v-4h2v4z\"/>\n",
              "    </g>\n",
              "</svg>\n",
              "  </button>\n",
              "\n",
              "<style>\n",
              "  .colab-df-quickchart {\n",
              "      --bg-color: #E8F0FE;\n",
              "      --fill-color: #1967D2;\n",
              "      --hover-bg-color: #E2EBFA;\n",
              "      --hover-fill-color: #174EA6;\n",
              "      --disabled-fill-color: #AAA;\n",
              "      --disabled-bg-color: #DDD;\n",
              "  }\n",
              "\n",
              "  [theme=dark] .colab-df-quickchart {\n",
              "      --bg-color: #3B4455;\n",
              "      --fill-color: #D2E3FC;\n",
              "      --hover-bg-color: #434B5C;\n",
              "      --hover-fill-color: #FFFFFF;\n",
              "      --disabled-bg-color: #3B4455;\n",
              "      --disabled-fill-color: #666;\n",
              "  }\n",
              "\n",
              "  .colab-df-quickchart {\n",
              "    background-color: var(--bg-color);\n",
              "    border: none;\n",
              "    border-radius: 50%;\n",
              "    cursor: pointer;\n",
              "    display: none;\n",
              "    fill: var(--fill-color);\n",
              "    height: 32px;\n",
              "    padding: 0;\n",
              "    width: 32px;\n",
              "  }\n",
              "\n",
              "  .colab-df-quickchart:hover {\n",
              "    background-color: var(--hover-bg-color);\n",
              "    box-shadow: 0 1px 2px rgba(60, 64, 67, 0.3), 0 1px 3px 1px rgba(60, 64, 67, 0.15);\n",
              "    fill: var(--button-hover-fill-color);\n",
              "  }\n",
              "\n",
              "  .colab-df-quickchart-complete:disabled,\n",
              "  .colab-df-quickchart-complete:disabled:hover {\n",
              "    background-color: var(--disabled-bg-color);\n",
              "    fill: var(--disabled-fill-color);\n",
              "    box-shadow: none;\n",
              "  }\n",
              "\n",
              "  .colab-df-spinner {\n",
              "    border: 2px solid var(--fill-color);\n",
              "    border-color: transparent;\n",
              "    border-bottom-color: var(--fill-color);\n",
              "    animation:\n",
              "      spin 1s steps(1) infinite;\n",
              "  }\n",
              "\n",
              "  @keyframes spin {\n",
              "    0% {\n",
              "      border-color: transparent;\n",
              "      border-bottom-color: var(--fill-color);\n",
              "      border-left-color: var(--fill-color);\n",
              "    }\n",
              "    20% {\n",
              "      border-color: transparent;\n",
              "      border-left-color: var(--fill-color);\n",
              "      border-top-color: var(--fill-color);\n",
              "    }\n",
              "    30% {\n",
              "      border-color: transparent;\n",
              "      border-left-color: var(--fill-color);\n",
              "      border-top-color: var(--fill-color);\n",
              "      border-right-color: var(--fill-color);\n",
              "    }\n",
              "    40% {\n",
              "      border-color: transparent;\n",
              "      border-right-color: var(--fill-color);\n",
              "      border-top-color: var(--fill-color);\n",
              "    }\n",
              "    60% {\n",
              "      border-color: transparent;\n",
              "      border-right-color: var(--fill-color);\n",
              "    }\n",
              "    80% {\n",
              "      border-color: transparent;\n",
              "      border-right-color: var(--fill-color);\n",
              "      border-bottom-color: var(--fill-color);\n",
              "    }\n",
              "    90% {\n",
              "      border-color: transparent;\n",
              "      border-bottom-color: var(--fill-color);\n",
              "    }\n",
              "  }\n",
              "</style>\n",
              "\n",
              "  <script>\n",
              "    async function quickchart(key) {\n",
              "      const quickchartButtonEl =\n",
              "        document.querySelector('#' + key + ' button');\n",
              "      quickchartButtonEl.disabled = true;  // To prevent multiple clicks.\n",
              "      quickchartButtonEl.classList.add('colab-df-spinner');\n",
              "      try {\n",
              "        const charts = await google.colab.kernel.invokeFunction(\n",
              "            'suggestCharts', [key], {});\n",
              "      } catch (error) {\n",
              "        console.error('Error during call to suggestCharts:', error);\n",
              "      }\n",
              "      quickchartButtonEl.classList.remove('colab-df-spinner');\n",
              "      quickchartButtonEl.classList.add('colab-df-quickchart-complete');\n",
              "    }\n",
              "    (() => {\n",
              "      let quickchartButtonEl =\n",
              "        document.querySelector('#df-3874477a-369b-43ce-86ea-a6df87b131a0 button');\n",
              "      quickchartButtonEl.style.display =\n",
              "        google.colab.kernel.accessAllowed ? 'block' : 'none';\n",
              "    })();\n",
              "  </script>\n",
              "</div>\n",
              "    </div>\n",
              "  </div>\n"
            ],
            "application/vnd.google.colaboratory.intrinsic+json": {
              "type": "dataframe",
              "variable_name": "df",
              "summary": "{\n  \"name\": \"df\",\n  \"rows\": 4995,\n  \"fields\": [\n    {\n      \"column\": \"Sell\",\n      \"properties\": {\n        \"dtype\": \"number\",\n        \"std\": 0.4994082093245146,\n        \"min\": 0.0,\n        \"max\": 1.0,\n        \"num_unique_values\": 2,\n        \"samples\": [\n          0.0,\n          1.0\n        ],\n        \"semantic_type\": \"\",\n        \"description\": \"\"\n      }\n    },\n    {\n      \"column\": \"Buy\",\n      \"properties\": {\n        \"dtype\": \"number\",\n        \"std\": 0.4994183234058033,\n        \"min\": 0.0,\n        \"max\": 1.0,\n        \"num_unique_values\": 2,\n        \"samples\": [\n          1.0,\n          0.0\n        ],\n        \"semantic_type\": \"\",\n        \"description\": \"\"\n      }\n    },\n    {\n      \"column\": \"Price\",\n      \"properties\": {\n        \"dtype\": \"number\",\n        \"std\": 1.7302645188980268,\n        \"min\": 76.72,\n        \"max\": 83.75,\n        \"num_unique_values\": 673,\n        \"samples\": [\n          82.26,\n          83.54\n        ],\n        \"semantic_type\": \"\",\n        \"description\": \"\"\n      }\n    }\n  ]\n}"
            }
          },
          "metadata": {},
          "execution_count": 85
        }
      ]
    },
    {
      "cell_type": "code",
      "source": [
        "import plotly.graph_objects as go\n",
        "import pandas as pd\n",
        "\n",
        "# Tworzenie wykresu liniowego\n",
        "fig = go.Figure()\n",
        "\n",
        "# Dodawanie linii do wykresu\n",
        "for i in range(800, len(df[:1500])):\n",
        "    color = 'green' if df.at[i, 'Buy'] == 1 else 'red'\n",
        "    fig.add_trace(go.Scatter(x=[i-1, i], y=[df.at[i-1, 'Price'], df.at[i, 'Price']], line=dict(color=color), showlegend=False))\n",
        "\n",
        "# Ustawienia osi i tytuł\n",
        "fig.update_layout(\n",
        "    xaxis_title='Indeks',\n",
        "    yaxis_title='Close',\n",
        "    title='Wykres liniowy z kolorami'\n",
        ")\n",
        "\n",
        "# Wyświetlanie wykresu\n",
        "fig.show()"
      ],
      "metadata": {
        "id": "SahOH5S5UFs4",
        "colab": {
          "base_uri": "https://localhost:8080/",
          "height": 542
        },
        "outputId": "27098a5a-9b13-4ad5-ac82-8a4adc70803d"
      },
      "execution_count": 88,
      "outputs": [
        {
          "output_type": "display_data",
          "data": {
            "text/html": [
              "<html>\n",
              "<head><meta charset=\"utf-8\" /></head>\n",
              "<body>\n",
              "    <div>            <script src=\"https://cdnjs.cloudflare.com/ajax/libs/mathjax/2.7.5/MathJax.js?config=TeX-AMS-MML_SVG\"></script><script type=\"text/javascript\">if (window.MathJax && window.MathJax.Hub && window.MathJax.Hub.Config) {window.MathJax.Hub.Config({SVG: {font: \"STIX-Web\"}});}</script>                <script type=\"text/javascript\">window.PlotlyConfig = {MathJaxConfig: 'local'};</script>\n",
              "        <script charset=\"utf-8\" src=\"https://cdn.plot.ly/plotly-2.24.1.min.js\"></script>                <div id=\"3c00e8d8-1865-47d3-8608-98c8be2acf95\" class=\"plotly-graph-div\" style=\"height:525px; width:100%;\"></div>            <script type=\"text/javascript\">                                    window.PLOTLYENV=window.PLOTLYENV || {};                                    if (document.getElementById(\"3c00e8d8-1865-47d3-8608-98c8be2acf95\")) {                    Plotly.newPlot(                        \"3c00e8d8-1865-47d3-8608-98c8be2acf95\",                        [{\"line\":{\"color\":\"red\"},\"showlegend\":false,\"x\":[799,800],\"y\":[81.76,81.57],\"type\":\"scatter\"},{\"line\":{\"color\":\"red\"},\"showlegend\":false,\"x\":[800,801],\"y\":[81.57,81.6],\"type\":\"scatter\"},{\"line\":{\"color\":\"red\"},\"showlegend\":false,\"x\":[801,802],\"y\":[81.6,81.68],\"type\":\"scatter\"},{\"line\":{\"color\":\"red\"},\"showlegend\":false,\"x\":[802,803],\"y\":[81.68,81.51],\"type\":\"scatter\"},{\"line\":{\"color\":\"red\"},\"showlegend\":false,\"x\":[803,804],\"y\":[81.51,81.49],\"type\":\"scatter\"},{\"line\":{\"color\":\"red\"},\"showlegend\":false,\"x\":[804,805],\"y\":[81.49,81.45],\"type\":\"scatter\"},{\"line\":{\"color\":\"red\"},\"showlegend\":false,\"x\":[805,806],\"y\":[81.45,81.36],\"type\":\"scatter\"},{\"line\":{\"color\":\"red\"},\"showlegend\":false,\"x\":[806,807],\"y\":[81.36,81.38],\"type\":\"scatter\"},{\"line\":{\"color\":\"red\"},\"showlegend\":false,\"x\":[807,808],\"y\":[81.38,81.41],\"type\":\"scatter\"},{\"line\":{\"color\":\"red\"},\"showlegend\":false,\"x\":[808,809],\"y\":[81.41,81.51],\"type\":\"scatter\"},{\"line\":{\"color\":\"red\"},\"showlegend\":false,\"x\":[809,810],\"y\":[81.51,81.46],\"type\":\"scatter\"},{\"line\":{\"color\":\"red\"},\"showlegend\":false,\"x\":[810,811],\"y\":[81.46,81.35],\"type\":\"scatter\"},{\"line\":{\"color\":\"red\"},\"showlegend\":false,\"x\":[811,812],\"y\":[81.35,81.61],\"type\":\"scatter\"},{\"line\":{\"color\":\"green\"},\"showlegend\":false,\"x\":[812,813],\"y\":[81.61,81.64],\"type\":\"scatter\"},{\"line\":{\"color\":\"green\"},\"showlegend\":false,\"x\":[813,814],\"y\":[81.64,81.89],\"type\":\"scatter\"},{\"line\":{\"color\":\"green\"},\"showlegend\":false,\"x\":[814,815],\"y\":[81.89,81.99],\"type\":\"scatter\"},{\"line\":{\"color\":\"green\"},\"showlegend\":false,\"x\":[815,816],\"y\":[81.99,82.26],\"type\":\"scatter\"},{\"line\":{\"color\":\"green\"},\"showlegend\":false,\"x\":[816,817],\"y\":[82.26,82.39],\"type\":\"scatter\"},{\"line\":{\"color\":\"green\"},\"showlegend\":false,\"x\":[817,818],\"y\":[82.39,82.44],\"type\":\"scatter\"},{\"line\":{\"color\":\"green\"},\"showlegend\":false,\"x\":[818,819],\"y\":[82.44,82.71],\"type\":\"scatter\"},{\"line\":{\"color\":\"green\"},\"showlegend\":false,\"x\":[819,820],\"y\":[82.71,82.8],\"type\":\"scatter\"},{\"line\":{\"color\":\"green\"},\"showlegend\":false,\"x\":[820,821],\"y\":[82.8,83.13],\"type\":\"scatter\"},{\"line\":{\"color\":\"green\"},\"showlegend\":false,\"x\":[821,822],\"y\":[83.13,83.43],\"type\":\"scatter\"},{\"line\":{\"color\":\"green\"},\"showlegend\":false,\"x\":[822,823],\"y\":[83.43,83.43],\"type\":\"scatter\"},{\"line\":{\"color\":\"green\"},\"showlegend\":false,\"x\":[823,824],\"y\":[83.43,83.06],\"type\":\"scatter\"},{\"line\":{\"color\":\"green\"},\"showlegend\":false,\"x\":[824,825],\"y\":[83.06,83.0],\"type\":\"scatter\"},{\"line\":{\"color\":\"green\"},\"showlegend\":false,\"x\":[825,826],\"y\":[83.0,82.92],\"type\":\"scatter\"},{\"line\":{\"color\":\"green\"},\"showlegend\":false,\"x\":[826,827],\"y\":[82.92,82.96],\"type\":\"scatter\"},{\"line\":{\"color\":\"green\"},\"showlegend\":false,\"x\":[827,828],\"y\":[82.96,83.22],\"type\":\"scatter\"},{\"line\":{\"color\":\"green\"},\"showlegend\":false,\"x\":[828,829],\"y\":[83.22,83.14],\"type\":\"scatter\"},{\"line\":{\"color\":\"green\"},\"showlegend\":false,\"x\":[829,830],\"y\":[83.14,83.35],\"type\":\"scatter\"},{\"line\":{\"color\":\"green\"},\"showlegend\":false,\"x\":[830,831],\"y\":[83.35,83.41],\"type\":\"scatter\"},{\"line\":{\"color\":\"green\"},\"showlegend\":false,\"x\":[831,832],\"y\":[83.41,83.38],\"type\":\"scatter\"},{\"line\":{\"color\":\"green\"},\"showlegend\":false,\"x\":[832,833],\"y\":[83.38,83.56],\"type\":\"scatter\"},{\"line\":{\"color\":\"green\"},\"showlegend\":false,\"x\":[833,834],\"y\":[83.56,83.41],\"type\":\"scatter\"},{\"line\":{\"color\":\"green\"},\"showlegend\":false,\"x\":[834,835],\"y\":[83.41,83.39],\"type\":\"scatter\"},{\"line\":{\"color\":\"green\"},\"showlegend\":false,\"x\":[835,836],\"y\":[83.39,83.41],\"type\":\"scatter\"},{\"line\":{\"color\":\"green\"},\"showlegend\":false,\"x\":[836,837],\"y\":[83.41,83.46],\"type\":\"scatter\"},{\"line\":{\"color\":\"green\"},\"showlegend\":false,\"x\":[837,838],\"y\":[83.46,83.53],\"type\":\"scatter\"},{\"line\":{\"color\":\"green\"},\"showlegend\":false,\"x\":[838,839],\"y\":[83.53,83.53],\"type\":\"scatter\"},{\"line\":{\"color\":\"green\"},\"showlegend\":false,\"x\":[839,840],\"y\":[83.53,83.48],\"type\":\"scatter\"},{\"line\":{\"color\":\"green\"},\"showlegend\":false,\"x\":[840,841],\"y\":[83.48,83.49],\"type\":\"scatter\"},{\"line\":{\"color\":\"green\"},\"showlegend\":false,\"x\":[841,842],\"y\":[83.49,83.5],\"type\":\"scatter\"},{\"line\":{\"color\":\"green\"},\"showlegend\":false,\"x\":[842,843],\"y\":[83.5,83.52],\"type\":\"scatter\"},{\"line\":{\"color\":\"green\"},\"showlegend\":false,\"x\":[843,844],\"y\":[83.52,83.51],\"type\":\"scatter\"},{\"line\":{\"color\":\"green\"},\"showlegend\":false,\"x\":[844,845],\"y\":[83.51,83.57],\"type\":\"scatter\"},{\"line\":{\"color\":\"green\"},\"showlegend\":false,\"x\":[845,846],\"y\":[83.57,83.65],\"type\":\"scatter\"},{\"line\":{\"color\":\"green\"},\"showlegend\":false,\"x\":[846,847],\"y\":[83.65,83.71],\"type\":\"scatter\"},{\"line\":{\"color\":\"green\"},\"showlegend\":false,\"x\":[847,848],\"y\":[83.71,83.72],\"type\":\"scatter\"},{\"line\":{\"color\":\"green\"},\"showlegend\":false,\"x\":[848,849],\"y\":[83.72,83.72],\"type\":\"scatter\"},{\"line\":{\"color\":\"green\"},\"showlegend\":false,\"x\":[849,850],\"y\":[83.72,83.74],\"type\":\"scatter\"},{\"line\":{\"color\":\"green\"},\"showlegend\":false,\"x\":[850,851],\"y\":[83.74,83.72],\"type\":\"scatter\"},{\"line\":{\"color\":\"green\"},\"showlegend\":false,\"x\":[851,852],\"y\":[83.72,83.73],\"type\":\"scatter\"},{\"line\":{\"color\":\"green\"},\"showlegend\":false,\"x\":[852,853],\"y\":[83.73,83.59],\"type\":\"scatter\"},{\"line\":{\"color\":\"red\"},\"showlegend\":false,\"x\":[853,854],\"y\":[83.59,83.56],\"type\":\"scatter\"},{\"line\":{\"color\":\"red\"},\"showlegend\":false,\"x\":[854,855],\"y\":[83.56,83.54],\"type\":\"scatter\"},{\"line\":{\"color\":\"red\"},\"showlegend\":false,\"x\":[855,856],\"y\":[83.54,83.58],\"type\":\"scatter\"},{\"line\":{\"color\":\"red\"},\"showlegend\":false,\"x\":[856,857],\"y\":[83.58,83.58],\"type\":\"scatter\"},{\"line\":{\"color\":\"red\"},\"showlegend\":false,\"x\":[857,858],\"y\":[83.58,83.63],\"type\":\"scatter\"},{\"line\":{\"color\":\"green\"},\"showlegend\":false,\"x\":[858,859],\"y\":[83.63,83.66],\"type\":\"scatter\"},{\"line\":{\"color\":\"green\"},\"showlegend\":false,\"x\":[859,860],\"y\":[83.66,83.68],\"type\":\"scatter\"},{\"line\":{\"color\":\"green\"},\"showlegend\":false,\"x\":[860,861],\"y\":[83.68,83.71],\"type\":\"scatter\"},{\"line\":{\"color\":\"green\"},\"showlegend\":false,\"x\":[861,862],\"y\":[83.71,83.74],\"type\":\"scatter\"},{\"line\":{\"color\":\"green\"},\"showlegend\":false,\"x\":[862,863],\"y\":[83.74,83.75],\"type\":\"scatter\"},{\"line\":{\"color\":\"green\"},\"showlegend\":false,\"x\":[863,864],\"y\":[83.75,83.08],\"type\":\"scatter\"},{\"line\":{\"color\":\"red\"},\"showlegend\":false,\"x\":[864,865],\"y\":[83.08,83.07],\"type\":\"scatter\"},{\"line\":{\"color\":\"red\"},\"showlegend\":false,\"x\":[865,866],\"y\":[83.07,83.05],\"type\":\"scatter\"},{\"line\":{\"color\":\"red\"},\"showlegend\":false,\"x\":[866,867],\"y\":[83.05,83.08],\"type\":\"scatter\"},{\"line\":{\"color\":\"red\"},\"showlegend\":false,\"x\":[867,868],\"y\":[83.08,83.03],\"type\":\"scatter\"},{\"line\":{\"color\":\"red\"},\"showlegend\":false,\"x\":[868,869],\"y\":[83.03,83.16],\"type\":\"scatter\"},{\"line\":{\"color\":\"red\"},\"showlegend\":false,\"x\":[869,870],\"y\":[83.16,83.17],\"type\":\"scatter\"},{\"line\":{\"color\":\"red\"},\"showlegend\":false,\"x\":[870,871],\"y\":[83.17,83.43],\"type\":\"scatter\"},{\"line\":{\"color\":\"green\"},\"showlegend\":false,\"x\":[871,872],\"y\":[83.43,83.44],\"type\":\"scatter\"},{\"line\":{\"color\":\"green\"},\"showlegend\":false,\"x\":[872,873],\"y\":[83.44,83.32],\"type\":\"scatter\"},{\"line\":{\"color\":\"green\"},\"showlegend\":false,\"x\":[873,874],\"y\":[83.32,83.29],\"type\":\"scatter\"},{\"line\":{\"color\":\"green\"},\"showlegend\":false,\"x\":[874,875],\"y\":[83.29,83.24],\"type\":\"scatter\"},{\"line\":{\"color\":\"red\"},\"showlegend\":false,\"x\":[875,876],\"y\":[83.24,83.22],\"type\":\"scatter\"},{\"line\":{\"color\":\"red\"},\"showlegend\":false,\"x\":[876,877],\"y\":[83.22,83.12],\"type\":\"scatter\"},{\"line\":{\"color\":\"red\"},\"showlegend\":false,\"x\":[877,878],\"y\":[83.12,83.17],\"type\":\"scatter\"},{\"line\":{\"color\":\"red\"},\"showlegend\":false,\"x\":[878,879],\"y\":[83.17,83.27],\"type\":\"scatter\"},{\"line\":{\"color\":\"red\"},\"showlegend\":false,\"x\":[879,880],\"y\":[83.27,83.27],\"type\":\"scatter\"},{\"line\":{\"color\":\"green\"},\"showlegend\":false,\"x\":[880,881],\"y\":[83.27,83.28],\"type\":\"scatter\"},{\"line\":{\"color\":\"green\"},\"showlegend\":false,\"x\":[881,882],\"y\":[83.28,83.23],\"type\":\"scatter\"},{\"line\":{\"color\":\"green\"},\"showlegend\":false,\"x\":[882,883],\"y\":[83.23,83.19],\"type\":\"scatter\"},{\"line\":{\"color\":\"red\"},\"showlegend\":false,\"x\":[883,884],\"y\":[83.19,83.13],\"type\":\"scatter\"},{\"line\":{\"color\":\"red\"},\"showlegend\":false,\"x\":[884,885],\"y\":[83.13,83.24],\"type\":\"scatter\"},{\"line\":{\"color\":\"red\"},\"showlegend\":false,\"x\":[885,886],\"y\":[83.24,83.25],\"type\":\"scatter\"},{\"line\":{\"color\":\"green\"},\"showlegend\":false,\"x\":[886,887],\"y\":[83.25,83.28],\"type\":\"scatter\"},{\"line\":{\"color\":\"green\"},\"showlegend\":false,\"x\":[887,888],\"y\":[83.28,83.26],\"type\":\"scatter\"},{\"line\":{\"color\":\"green\"},\"showlegend\":false,\"x\":[888,889],\"y\":[83.26,83.19],\"type\":\"scatter\"},{\"line\":{\"color\":\"green\"},\"showlegend\":false,\"x\":[889,890],\"y\":[83.19,83.23],\"type\":\"scatter\"},{\"line\":{\"color\":\"green\"},\"showlegend\":false,\"x\":[890,891],\"y\":[83.23,83.17],\"type\":\"scatter\"},{\"line\":{\"color\":\"red\"},\"showlegend\":false,\"x\":[891,892],\"y\":[83.17,83.18],\"type\":\"scatter\"},{\"line\":{\"color\":\"red\"},\"showlegend\":false,\"x\":[892,893],\"y\":[83.18,83.18],\"type\":\"scatter\"},{\"line\":{\"color\":\"red\"},\"showlegend\":false,\"x\":[893,894],\"y\":[83.18,83.24],\"type\":\"scatter\"},{\"line\":{\"color\":\"green\"},\"showlegend\":false,\"x\":[894,895],\"y\":[83.24,83.22],\"type\":\"scatter\"},{\"line\":{\"color\":\"green\"},\"showlegend\":false,\"x\":[895,896],\"y\":[83.22,83.36],\"type\":\"scatter\"},{\"line\":{\"color\":\"green\"},\"showlegend\":false,\"x\":[896,897],\"y\":[83.36,83.33],\"type\":\"scatter\"},{\"line\":{\"color\":\"green\"},\"showlegend\":false,\"x\":[897,898],\"y\":[83.33,83.34],\"type\":\"scatter\"},{\"line\":{\"color\":\"green\"},\"showlegend\":false,\"x\":[898,899],\"y\":[83.34,83.33],\"type\":\"scatter\"},{\"line\":{\"color\":\"green\"},\"showlegend\":false,\"x\":[899,900],\"y\":[83.33,83.35],\"type\":\"scatter\"},{\"line\":{\"color\":\"green\"},\"showlegend\":false,\"x\":[900,901],\"y\":[83.35,83.39],\"type\":\"scatter\"},{\"line\":{\"color\":\"green\"},\"showlegend\":false,\"x\":[901,902],\"y\":[83.39,83.38],\"type\":\"scatter\"},{\"line\":{\"color\":\"green\"},\"showlegend\":false,\"x\":[902,903],\"y\":[83.38,83.41],\"type\":\"scatter\"},{\"line\":{\"color\":\"green\"},\"showlegend\":false,\"x\":[903,904],\"y\":[83.41,83.42],\"type\":\"scatter\"},{\"line\":{\"color\":\"green\"},\"showlegend\":false,\"x\":[904,905],\"y\":[83.42,83.43],\"type\":\"scatter\"},{\"line\":{\"color\":\"green\"},\"showlegend\":false,\"x\":[905,906],\"y\":[83.43,83.4],\"type\":\"scatter\"},{\"line\":{\"color\":\"green\"},\"showlegend\":false,\"x\":[906,907],\"y\":[83.4,83.41],\"type\":\"scatter\"},{\"line\":{\"color\":\"green\"},\"showlegend\":false,\"x\":[907,908],\"y\":[83.41,83.46],\"type\":\"scatter\"},{\"line\":{\"color\":\"green\"},\"showlegend\":false,\"x\":[908,909],\"y\":[83.46,83.46],\"type\":\"scatter\"},{\"line\":{\"color\":\"green\"},\"showlegend\":false,\"x\":[909,910],\"y\":[83.46,83.45],\"type\":\"scatter\"},{\"line\":{\"color\":\"green\"},\"showlegend\":false,\"x\":[910,911],\"y\":[83.45,83.45],\"type\":\"scatter\"},{\"line\":{\"color\":\"green\"},\"showlegend\":false,\"x\":[911,912],\"y\":[83.45,83.41],\"type\":\"scatter\"},{\"line\":{\"color\":\"green\"},\"showlegend\":false,\"x\":[912,913],\"y\":[83.41,83.33],\"type\":\"scatter\"},{\"line\":{\"color\":\"red\"},\"showlegend\":false,\"x\":[913,914],\"y\":[83.33,83.33],\"type\":\"scatter\"},{\"line\":{\"color\":\"red\"},\"showlegend\":false,\"x\":[914,915],\"y\":[83.33,83.33],\"type\":\"scatter\"},{\"line\":{\"color\":\"red\"},\"showlegend\":false,\"x\":[915,916],\"y\":[83.33,83.34],\"type\":\"scatter\"},{\"line\":{\"color\":\"red\"},\"showlegend\":false,\"x\":[916,917],\"y\":[83.34,83.26],\"type\":\"scatter\"},{\"line\":{\"color\":\"red\"},\"showlegend\":false,\"x\":[917,918],\"y\":[83.26,83.21],\"type\":\"scatter\"},{\"line\":{\"color\":\"red\"},\"showlegend\":false,\"x\":[918,919],\"y\":[83.21,83.29],\"type\":\"scatter\"},{\"line\":{\"color\":\"red\"},\"showlegend\":false,\"x\":[919,920],\"y\":[83.29,83.24],\"type\":\"scatter\"},{\"line\":{\"color\":\"red\"},\"showlegend\":false,\"x\":[920,921],\"y\":[83.24,83.32],\"type\":\"scatter\"},{\"line\":{\"color\":\"red\"},\"showlegend\":false,\"x\":[921,922],\"y\":[83.32,83.27],\"type\":\"scatter\"},{\"line\":{\"color\":\"red\"},\"showlegend\":false,\"x\":[922,923],\"y\":[83.27,83.26],\"type\":\"scatter\"},{\"line\":{\"color\":\"red\"},\"showlegend\":false,\"x\":[923,924],\"y\":[83.26,83.28],\"type\":\"scatter\"},{\"line\":{\"color\":\"red\"},\"showlegend\":false,\"x\":[924,925],\"y\":[83.28,83.32],\"type\":\"scatter\"},{\"line\":{\"color\":\"green\"},\"showlegend\":false,\"x\":[925,926],\"y\":[83.32,83.32],\"type\":\"scatter\"},{\"line\":{\"color\":\"green\"},\"showlegend\":false,\"x\":[926,927],\"y\":[83.32,83.31],\"type\":\"scatter\"},{\"line\":{\"color\":\"green\"},\"showlegend\":false,\"x\":[927,928],\"y\":[83.31,83.3],\"type\":\"scatter\"},{\"line\":{\"color\":\"green\"},\"showlegend\":false,\"x\":[928,929],\"y\":[83.3,83.27],\"type\":\"scatter\"},{\"line\":{\"color\":\"red\"},\"showlegend\":false,\"x\":[929,930],\"y\":[83.27,83.22],\"type\":\"scatter\"},{\"line\":{\"color\":\"red\"},\"showlegend\":false,\"x\":[930,931],\"y\":[83.22,83.21],\"type\":\"scatter\"},{\"line\":{\"color\":\"red\"},\"showlegend\":false,\"x\":[931,932],\"y\":[83.21,83.16],\"type\":\"scatter\"},{\"line\":{\"color\":\"red\"},\"showlegend\":false,\"x\":[932,933],\"y\":[83.16,83.14],\"type\":\"scatter\"},{\"line\":{\"color\":\"red\"},\"showlegend\":false,\"x\":[933,934],\"y\":[83.14,83.17],\"type\":\"scatter\"},{\"line\":{\"color\":\"red\"},\"showlegend\":false,\"x\":[934,935],\"y\":[83.17,83.18],\"type\":\"scatter\"},{\"line\":{\"color\":\"red\"},\"showlegend\":false,\"x\":[935,936],\"y\":[83.18,83.15],\"type\":\"scatter\"},{\"line\":{\"color\":\"red\"},\"showlegend\":false,\"x\":[936,937],\"y\":[83.15,83.13],\"type\":\"scatter\"},{\"line\":{\"color\":\"red\"},\"showlegend\":false,\"x\":[937,938],\"y\":[83.13,83.09],\"type\":\"scatter\"},{\"line\":{\"color\":\"red\"},\"showlegend\":false,\"x\":[938,939],\"y\":[83.09,83.11],\"type\":\"scatter\"},{\"line\":{\"color\":\"red\"},\"showlegend\":false,\"x\":[939,940],\"y\":[83.11,83.19],\"type\":\"scatter\"},{\"line\":{\"color\":\"red\"},\"showlegend\":false,\"x\":[940,941],\"y\":[83.19,83.13],\"type\":\"scatter\"},{\"line\":{\"color\":\"red\"},\"showlegend\":false,\"x\":[941,942],\"y\":[83.13,83.17],\"type\":\"scatter\"},{\"line\":{\"color\":\"green\"},\"showlegend\":false,\"x\":[942,943],\"y\":[83.17,83.2],\"type\":\"scatter\"},{\"line\":{\"color\":\"green\"},\"showlegend\":false,\"x\":[943,944],\"y\":[83.2,83.29],\"type\":\"scatter\"},{\"line\":{\"color\":\"green\"},\"showlegend\":false,\"x\":[944,945],\"y\":[83.29,83.27],\"type\":\"scatter\"},{\"line\":{\"color\":\"green\"},\"showlegend\":false,\"x\":[945,946],\"y\":[83.27,83.17],\"type\":\"scatter\"},{\"line\":{\"color\":\"green\"},\"showlegend\":false,\"x\":[946,947],\"y\":[83.17,83.35],\"type\":\"scatter\"},{\"line\":{\"color\":\"green\"},\"showlegend\":false,\"x\":[947,948],\"y\":[83.35,83.4],\"type\":\"scatter\"},{\"line\":{\"color\":\"green\"},\"showlegend\":false,\"x\":[948,949],\"y\":[83.4,83.37],\"type\":\"scatter\"},{\"line\":{\"color\":\"green\"},\"showlegend\":false,\"x\":[949,950],\"y\":[83.37,83.38],\"type\":\"scatter\"},{\"line\":{\"color\":\"green\"},\"showlegend\":false,\"x\":[950,951],\"y\":[83.38,83.39],\"type\":\"scatter\"},{\"line\":{\"color\":\"green\"},\"showlegend\":false,\"x\":[951,952],\"y\":[83.39,83.35],\"type\":\"scatter\"},{\"line\":{\"color\":\"green\"},\"showlegend\":false,\"x\":[952,953],\"y\":[83.35,83.24],\"type\":\"scatter\"},{\"line\":{\"color\":\"green\"},\"showlegend\":false,\"x\":[953,954],\"y\":[83.24,83.19],\"type\":\"scatter\"},{\"line\":{\"color\":\"red\"},\"showlegend\":false,\"x\":[954,955],\"y\":[83.19,83.19],\"type\":\"scatter\"},{\"line\":{\"color\":\"red\"},\"showlegend\":false,\"x\":[955,956],\"y\":[83.19,83.11],\"type\":\"scatter\"},{\"line\":{\"color\":\"red\"},\"showlegend\":false,\"x\":[956,957],\"y\":[83.11,83.08],\"type\":\"scatter\"},{\"line\":{\"color\":\"red\"},\"showlegend\":false,\"x\":[957,958],\"y\":[83.08,83.02],\"type\":\"scatter\"},{\"line\":{\"color\":\"red\"},\"showlegend\":false,\"x\":[958,959],\"y\":[83.02,82.85],\"type\":\"scatter\"},{\"line\":{\"color\":\"red\"},\"showlegend\":false,\"x\":[959,960],\"y\":[82.85,82.61],\"type\":\"scatter\"},{\"line\":{\"color\":\"red\"},\"showlegend\":false,\"x\":[960,961],\"y\":[82.61,82.68],\"type\":\"scatter\"},{\"line\":{\"color\":\"red\"},\"showlegend\":false,\"x\":[961,962],\"y\":[82.68,82.65],\"type\":\"scatter\"},{\"line\":{\"color\":\"red\"},\"showlegend\":false,\"x\":[962,963],\"y\":[82.65,82.66],\"type\":\"scatter\"},{\"line\":{\"color\":\"red\"},\"showlegend\":false,\"x\":[963,964],\"y\":[82.66,82.77],\"type\":\"scatter\"},{\"line\":{\"color\":\"red\"},\"showlegend\":false,\"x\":[964,965],\"y\":[82.77,82.75],\"type\":\"scatter\"},{\"line\":{\"color\":\"red\"},\"showlegend\":false,\"x\":[965,966],\"y\":[82.75,82.61],\"type\":\"scatter\"},{\"line\":{\"color\":\"red\"},\"showlegend\":false,\"x\":[966,967],\"y\":[82.61,82.63],\"type\":\"scatter\"},{\"line\":{\"color\":\"red\"},\"showlegend\":false,\"x\":[967,968],\"y\":[82.63,82.58],\"type\":\"scatter\"},{\"line\":{\"color\":\"red\"},\"showlegend\":false,\"x\":[968,969],\"y\":[82.58,82.56],\"type\":\"scatter\"},{\"line\":{\"color\":\"red\"},\"showlegend\":false,\"x\":[969,970],\"y\":[82.56,82.54],\"type\":\"scatter\"},{\"line\":{\"color\":\"red\"},\"showlegend\":false,\"x\":[970,971],\"y\":[82.54,82.71],\"type\":\"scatter\"},{\"line\":{\"color\":\"red\"},\"showlegend\":false,\"x\":[971,972],\"y\":[82.71,82.65],\"type\":\"scatter\"},{\"line\":{\"color\":\"red\"},\"showlegend\":false,\"x\":[972,973],\"y\":[82.65,82.73],\"type\":\"scatter\"},{\"line\":{\"color\":\"green\"},\"showlegend\":false,\"x\":[973,974],\"y\":[82.73,82.74],\"type\":\"scatter\"},{\"line\":{\"color\":\"green\"},\"showlegend\":false,\"x\":[974,975],\"y\":[82.74,82.83],\"type\":\"scatter\"},{\"line\":{\"color\":\"green\"},\"showlegend\":false,\"x\":[975,976],\"y\":[82.83,82.82],\"type\":\"scatter\"},{\"line\":{\"color\":\"green\"},\"showlegend\":false,\"x\":[976,977],\"y\":[82.82,82.95],\"type\":\"scatter\"},{\"line\":{\"color\":\"green\"},\"showlegend\":false,\"x\":[977,978],\"y\":[82.95,83.07],\"type\":\"scatter\"},{\"line\":{\"color\":\"green\"},\"showlegend\":false,\"x\":[978,979],\"y\":[83.07,82.98],\"type\":\"scatter\"},{\"line\":{\"color\":\"green\"},\"showlegend\":false,\"x\":[979,980],\"y\":[82.98,82.98],\"type\":\"scatter\"},{\"line\":{\"color\":\"green\"},\"showlegend\":false,\"x\":[980,981],\"y\":[82.98,82.92],\"type\":\"scatter\"},{\"line\":{\"color\":\"green\"},\"showlegend\":false,\"x\":[981,982],\"y\":[82.92,82.87],\"type\":\"scatter\"},{\"line\":{\"color\":\"green\"},\"showlegend\":false,\"x\":[982,983],\"y\":[82.87,82.96],\"type\":\"scatter\"},{\"line\":{\"color\":\"green\"},\"showlegend\":false,\"x\":[983,984],\"y\":[82.96,83.01],\"type\":\"scatter\"},{\"line\":{\"color\":\"green\"},\"showlegend\":false,\"x\":[984,985],\"y\":[83.01,83.1],\"type\":\"scatter\"},{\"line\":{\"color\":\"green\"},\"showlegend\":false,\"x\":[985,986],\"y\":[83.1,83.1],\"type\":\"scatter\"},{\"line\":{\"color\":\"green\"},\"showlegend\":false,\"x\":[986,987],\"y\":[83.1,83.06],\"type\":\"scatter\"},{\"line\":{\"color\":\"green\"},\"showlegend\":false,\"x\":[987,988],\"y\":[83.06,82.99],\"type\":\"scatter\"},{\"line\":{\"color\":\"green\"},\"showlegend\":false,\"x\":[988,989],\"y\":[82.99,83.1],\"type\":\"scatter\"},{\"line\":{\"color\":\"green\"},\"showlegend\":false,\"x\":[989,990],\"y\":[83.1,83.14],\"type\":\"scatter\"},{\"line\":{\"color\":\"green\"},\"showlegend\":false,\"x\":[990,991],\"y\":[83.14,83.08],\"type\":\"scatter\"},{\"line\":{\"color\":\"green\"},\"showlegend\":false,\"x\":[991,992],\"y\":[83.08,83.01],\"type\":\"scatter\"},{\"line\":{\"color\":\"green\"},\"showlegend\":false,\"x\":[992,993],\"y\":[83.01,83.01],\"type\":\"scatter\"},{\"line\":{\"color\":\"red\"},\"showlegend\":false,\"x\":[993,994],\"y\":[83.01,83.04],\"type\":\"scatter\"},{\"line\":{\"color\":\"red\"},\"showlegend\":false,\"x\":[994,995],\"y\":[83.04,82.94],\"type\":\"scatter\"},{\"line\":{\"color\":\"red\"},\"showlegend\":false,\"x\":[995,996],\"y\":[82.94,82.97],\"type\":\"scatter\"},{\"line\":{\"color\":\"red\"},\"showlegend\":false,\"x\":[996,997],\"y\":[82.97,83.0],\"type\":\"scatter\"},{\"line\":{\"color\":\"red\"},\"showlegend\":false,\"x\":[997,998],\"y\":[83.0,83.06],\"type\":\"scatter\"},{\"line\":{\"color\":\"green\"},\"showlegend\":false,\"x\":[998,999],\"y\":[83.06,82.99],\"type\":\"scatter\"},{\"line\":{\"color\":\"red\"},\"showlegend\":false,\"x\":[999,1000],\"y\":[82.99,82.94],\"type\":\"scatter\"},{\"line\":{\"color\":\"red\"},\"showlegend\":false,\"x\":[1000,1001],\"y\":[82.94,82.94],\"type\":\"scatter\"},{\"line\":{\"color\":\"red\"},\"showlegend\":false,\"x\":[1001,1002],\"y\":[82.94,82.88],\"type\":\"scatter\"},{\"line\":{\"color\":\"red\"},\"showlegend\":false,\"x\":[1002,1003],\"y\":[82.88,82.82],\"type\":\"scatter\"},{\"line\":{\"color\":\"red\"},\"showlegend\":false,\"x\":[1003,1004],\"y\":[82.82,82.9],\"type\":\"scatter\"},{\"line\":{\"color\":\"red\"},\"showlegend\":false,\"x\":[1004,1005],\"y\":[82.9,82.88],\"type\":\"scatter\"},{\"line\":{\"color\":\"red\"},\"showlegend\":false,\"x\":[1005,1006],\"y\":[82.88,82.8],\"type\":\"scatter\"},{\"line\":{\"color\":\"red\"},\"showlegend\":false,\"x\":[1006,1007],\"y\":[82.8,82.81],\"type\":\"scatter\"},{\"line\":{\"color\":\"red\"},\"showlegend\":false,\"x\":[1007,1008],\"y\":[82.81,82.72],\"type\":\"scatter\"},{\"line\":{\"color\":\"red\"},\"showlegend\":false,\"x\":[1008,1009],\"y\":[82.72,82.62],\"type\":\"scatter\"},{\"line\":{\"color\":\"red\"},\"showlegend\":false,\"x\":[1009,1010],\"y\":[82.62,82.57],\"type\":\"scatter\"},{\"line\":{\"color\":\"red\"},\"showlegend\":false,\"x\":[1010,1011],\"y\":[82.57,82.49],\"type\":\"scatter\"},{\"line\":{\"color\":\"red\"},\"showlegend\":false,\"x\":[1011,1012],\"y\":[82.49,82.41],\"type\":\"scatter\"},{\"line\":{\"color\":\"red\"},\"showlegend\":false,\"x\":[1012,1013],\"y\":[82.41,82.42],\"type\":\"scatter\"},{\"line\":{\"color\":\"red\"},\"showlegend\":false,\"x\":[1013,1014],\"y\":[82.42,82.26],\"type\":\"scatter\"},{\"line\":{\"color\":\"red\"},\"showlegend\":false,\"x\":[1014,1015],\"y\":[82.26,82.29],\"type\":\"scatter\"},{\"line\":{\"color\":\"red\"},\"showlegend\":false,\"x\":[1015,1016],\"y\":[82.29,82.41],\"type\":\"scatter\"},{\"line\":{\"color\":\"red\"},\"showlegend\":false,\"x\":[1016,1017],\"y\":[82.41,82.27],\"type\":\"scatter\"},{\"line\":{\"color\":\"red\"},\"showlegend\":false,\"x\":[1017,1018],\"y\":[82.27,82.24],\"type\":\"scatter\"},{\"line\":{\"color\":\"red\"},\"showlegend\":false,\"x\":[1018,1019],\"y\":[82.24,82.48],\"type\":\"scatter\"},{\"line\":{\"color\":\"red\"},\"showlegend\":false,\"x\":[1019,1020],\"y\":[82.48,82.5],\"type\":\"scatter\"},{\"line\":{\"color\":\"green\"},\"showlegend\":false,\"x\":[1020,1021],\"y\":[82.5,82.38],\"type\":\"scatter\"},{\"line\":{\"color\":\"green\"},\"showlegend\":false,\"x\":[1021,1022],\"y\":[82.38,82.35],\"type\":\"scatter\"},{\"line\":{\"color\":\"red\"},\"showlegend\":false,\"x\":[1022,1023],\"y\":[82.35,82.28],\"type\":\"scatter\"},{\"line\":{\"color\":\"red\"},\"showlegend\":false,\"x\":[1023,1024],\"y\":[82.28,82.29],\"type\":\"scatter\"},{\"line\":{\"color\":\"red\"},\"showlegend\":false,\"x\":[1024,1025],\"y\":[82.29,82.35],\"type\":\"scatter\"},{\"line\":{\"color\":\"red\"},\"showlegend\":false,\"x\":[1025,1026],\"y\":[82.35,82.06],\"type\":\"scatter\"},{\"line\":{\"color\":\"red\"},\"showlegend\":false,\"x\":[1026,1027],\"y\":[82.06,81.76],\"type\":\"scatter\"},{\"line\":{\"color\":\"red\"},\"showlegend\":false,\"x\":[1027,1028],\"y\":[81.76,81.7],\"type\":\"scatter\"},{\"line\":{\"color\":\"red\"},\"showlegend\":false,\"x\":[1028,1029],\"y\":[81.7,81.75],\"type\":\"scatter\"},{\"line\":{\"color\":\"red\"},\"showlegend\":false,\"x\":[1029,1030],\"y\":[81.75,81.85],\"type\":\"scatter\"},{\"line\":{\"color\":\"red\"},\"showlegend\":false,\"x\":[1030,1031],\"y\":[81.85,82.09],\"type\":\"scatter\"},{\"line\":{\"color\":\"green\"},\"showlegend\":false,\"x\":[1031,1032],\"y\":[82.09,81.86],\"type\":\"scatter\"},{\"line\":{\"color\":\"red\"},\"showlegend\":false,\"x\":[1032,1033],\"y\":[81.86,81.8],\"type\":\"scatter\"},{\"line\":{\"color\":\"red\"},\"showlegend\":false,\"x\":[1033,1034],\"y\":[81.8,81.5],\"type\":\"scatter\"},{\"line\":{\"color\":\"red\"},\"showlegend\":false,\"x\":[1034,1035],\"y\":[81.5,81.73],\"type\":\"scatter\"},{\"line\":{\"color\":\"red\"},\"showlegend\":false,\"x\":[1035,1036],\"y\":[81.73,81.84],\"type\":\"scatter\"},{\"line\":{\"color\":\"green\"},\"showlegend\":false,\"x\":[1036,1037],\"y\":[81.84,81.84],\"type\":\"scatter\"},{\"line\":{\"color\":\"green\"},\"showlegend\":false,\"x\":[1037,1038],\"y\":[81.84,81.83],\"type\":\"scatter\"},{\"line\":{\"color\":\"green\"},\"showlegend\":false,\"x\":[1038,1039],\"y\":[81.83,81.96],\"type\":\"scatter\"},{\"line\":{\"color\":\"green\"},\"showlegend\":false,\"x\":[1039,1040],\"y\":[81.96,82.07],\"type\":\"scatter\"},{\"line\":{\"color\":\"green\"},\"showlegend\":false,\"x\":[1040,1041],\"y\":[82.07,81.96],\"type\":\"scatter\"},{\"line\":{\"color\":\"green\"},\"showlegend\":false,\"x\":[1041,1042],\"y\":[81.96,82.03],\"type\":\"scatter\"},{\"line\":{\"color\":\"green\"},\"showlegend\":false,\"x\":[1042,1043],\"y\":[82.03,82.23],\"type\":\"scatter\"},{\"line\":{\"color\":\"green\"},\"showlegend\":false,\"x\":[1043,1044],\"y\":[82.23,82.05],\"type\":\"scatter\"},{\"line\":{\"color\":\"green\"},\"showlegend\":false,\"x\":[1044,1045],\"y\":[82.05,81.98],\"type\":\"scatter\"},{\"line\":{\"color\":\"green\"},\"showlegend\":false,\"x\":[1045,1046],\"y\":[81.98,82.02],\"type\":\"scatter\"},{\"line\":{\"color\":\"green\"},\"showlegend\":false,\"x\":[1046,1047],\"y\":[82.02,81.89],\"type\":\"scatter\"},{\"line\":{\"color\":\"red\"},\"showlegend\":false,\"x\":[1047,1048],\"y\":[81.89,81.94],\"type\":\"scatter\"},{\"line\":{\"color\":\"red\"},\"showlegend\":false,\"x\":[1048,1049],\"y\":[81.94,82.05],\"type\":\"scatter\"},{\"line\":{\"color\":\"green\"},\"showlegend\":false,\"x\":[1049,1050],\"y\":[82.05,82.15],\"type\":\"scatter\"},{\"line\":{\"color\":\"green\"},\"showlegend\":false,\"x\":[1050,1051],\"y\":[82.15,82.03],\"type\":\"scatter\"},{\"line\":{\"color\":\"green\"},\"showlegend\":false,\"x\":[1051,1052],\"y\":[82.03,81.85],\"type\":\"scatter\"},{\"line\":{\"color\":\"red\"},\"showlegend\":false,\"x\":[1052,1053],\"y\":[81.85,81.83],\"type\":\"scatter\"},{\"line\":{\"color\":\"red\"},\"showlegend\":false,\"x\":[1053,1054],\"y\":[81.83,81.78],\"type\":\"scatter\"},{\"line\":{\"color\":\"red\"},\"showlegend\":false,\"x\":[1054,1055],\"y\":[81.78,82.06],\"type\":\"scatter\"},{\"line\":{\"color\":\"green\"},\"showlegend\":false,\"x\":[1055,1056],\"y\":[82.06,82.14],\"type\":\"scatter\"},{\"line\":{\"color\":\"green\"},\"showlegend\":false,\"x\":[1056,1057],\"y\":[82.14,82.26],\"type\":\"scatter\"},{\"line\":{\"color\":\"green\"},\"showlegend\":false,\"x\":[1057,1058],\"y\":[82.26,82.23],\"type\":\"scatter\"},{\"line\":{\"color\":\"green\"},\"showlegend\":false,\"x\":[1058,1059],\"y\":[82.23,82.24],\"type\":\"scatter\"},{\"line\":{\"color\":\"green\"},\"showlegend\":false,\"x\":[1059,1060],\"y\":[82.24,82.15],\"type\":\"scatter\"},{\"line\":{\"color\":\"green\"},\"showlegend\":false,\"x\":[1060,1061],\"y\":[82.15,82.03],\"type\":\"scatter\"},{\"line\":{\"color\":\"green\"},\"showlegend\":false,\"x\":[1061,1062],\"y\":[82.03,81.96],\"type\":\"scatter\"},{\"line\":{\"color\":\"red\"},\"showlegend\":false,\"x\":[1062,1063],\"y\":[81.96,81.93],\"type\":\"scatter\"},{\"line\":{\"color\":\"red\"},\"showlegend\":false,\"x\":[1063,1064],\"y\":[81.93,81.89],\"type\":\"scatter\"},{\"line\":{\"color\":\"red\"},\"showlegend\":false,\"x\":[1064,1065],\"y\":[81.89,81.88],\"type\":\"scatter\"},{\"line\":{\"color\":\"red\"},\"showlegend\":false,\"x\":[1065,1066],\"y\":[81.88,81.76],\"type\":\"scatter\"},{\"line\":{\"color\":\"red\"},\"showlegend\":false,\"x\":[1066,1067],\"y\":[81.76,81.82],\"type\":\"scatter\"},{\"line\":{\"color\":\"red\"},\"showlegend\":false,\"x\":[1067,1068],\"y\":[81.82,81.87],\"type\":\"scatter\"},{\"line\":{\"color\":\"red\"},\"showlegend\":false,\"x\":[1068,1069],\"y\":[81.87,81.86],\"type\":\"scatter\"},{\"line\":{\"color\":\"red\"},\"showlegend\":false,\"x\":[1069,1070],\"y\":[81.86,81.65],\"type\":\"scatter\"},{\"line\":{\"color\":\"red\"},\"showlegend\":false,\"x\":[1070,1071],\"y\":[81.65,81.76],\"type\":\"scatter\"},{\"line\":{\"color\":\"red\"},\"showlegend\":false,\"x\":[1071,1072],\"y\":[81.76,81.9],\"type\":\"scatter\"},{\"line\":{\"color\":\"red\"},\"showlegend\":false,\"x\":[1072,1073],\"y\":[81.9,81.97],\"type\":\"scatter\"},{\"line\":{\"color\":\"green\"},\"showlegend\":false,\"x\":[1073,1074],\"y\":[81.97,81.98],\"type\":\"scatter\"},{\"line\":{\"color\":\"green\"},\"showlegend\":false,\"x\":[1074,1075],\"y\":[81.98,81.9],\"type\":\"scatter\"},{\"line\":{\"color\":\"green\"},\"showlegend\":false,\"x\":[1075,1076],\"y\":[81.9,81.9],\"type\":\"scatter\"},{\"line\":{\"color\":\"green\"},\"showlegend\":false,\"x\":[1076,1077],\"y\":[81.9,81.92],\"type\":\"scatter\"},{\"line\":{\"color\":\"green\"},\"showlegend\":false,\"x\":[1077,1078],\"y\":[81.92,81.99],\"type\":\"scatter\"},{\"line\":{\"color\":\"green\"},\"showlegend\":false,\"x\":[1078,1079],\"y\":[81.99,81.98],\"type\":\"scatter\"},{\"line\":{\"color\":\"green\"},\"showlegend\":false,\"x\":[1079,1080],\"y\":[81.98,82.04],\"type\":\"scatter\"},{\"line\":{\"color\":\"green\"},\"showlegend\":false,\"x\":[1080,1081],\"y\":[82.04,82.13],\"type\":\"scatter\"},{\"line\":{\"color\":\"green\"},\"showlegend\":false,\"x\":[1081,1082],\"y\":[82.13,81.54],\"type\":\"scatter\"},{\"line\":{\"color\":\"red\"},\"showlegend\":false,\"x\":[1082,1083],\"y\":[81.54,81.62],\"type\":\"scatter\"},{\"line\":{\"color\":\"red\"},\"showlegend\":false,\"x\":[1083,1084],\"y\":[81.62,81.7],\"type\":\"scatter\"},{\"line\":{\"color\":\"red\"},\"showlegend\":false,\"x\":[1084,1085],\"y\":[81.7,81.92],\"type\":\"scatter\"},{\"line\":{\"color\":\"green\"},\"showlegend\":false,\"x\":[1085,1086],\"y\":[81.92,81.89],\"type\":\"scatter\"},{\"line\":{\"color\":\"green\"},\"showlegend\":false,\"x\":[1086,1087],\"y\":[81.89,81.91],\"type\":\"scatter\"},{\"line\":{\"color\":\"green\"},\"showlegend\":false,\"x\":[1087,1088],\"y\":[81.91,81.95],\"type\":\"scatter\"},{\"line\":{\"color\":\"green\"},\"showlegend\":false,\"x\":[1088,1089],\"y\":[81.95,81.9],\"type\":\"scatter\"},{\"line\":{\"color\":\"green\"},\"showlegend\":false,\"x\":[1089,1090],\"y\":[81.9,81.9],\"type\":\"scatter\"},{\"line\":{\"color\":\"green\"},\"showlegend\":false,\"x\":[1090,1091],\"y\":[81.9,81.95],\"type\":\"scatter\"},{\"line\":{\"color\":\"green\"},\"showlegend\":false,\"x\":[1091,1092],\"y\":[81.95,81.91],\"type\":\"scatter\"},{\"line\":{\"color\":\"red\"},\"showlegend\":false,\"x\":[1092,1093],\"y\":[81.91,81.93],\"type\":\"scatter\"},{\"line\":{\"color\":\"green\"},\"showlegend\":false,\"x\":[1093,1094],\"y\":[81.93,81.93],\"type\":\"scatter\"},{\"line\":{\"color\":\"green\"},\"showlegend\":false,\"x\":[1094,1095],\"y\":[81.93,81.91],\"type\":\"scatter\"},{\"line\":{\"color\":\"red\"},\"showlegend\":false,\"x\":[1095,1096],\"y\":[81.91,82.03],\"type\":\"scatter\"},{\"line\":{\"color\":\"green\"},\"showlegend\":false,\"x\":[1096,1097],\"y\":[82.03,81.96],\"type\":\"scatter\"},{\"line\":{\"color\":\"red\"},\"showlegend\":false,\"x\":[1097,1098],\"y\":[81.96,82.03],\"type\":\"scatter\"},{\"line\":{\"color\":\"green\"},\"showlegend\":false,\"x\":[1098,1099],\"y\":[82.03,82.04],\"type\":\"scatter\"},{\"line\":{\"color\":\"green\"},\"showlegend\":false,\"x\":[1099,1100],\"y\":[82.04,81.95],\"type\":\"scatter\"},{\"line\":{\"color\":\"red\"},\"showlegend\":false,\"x\":[1100,1101],\"y\":[81.95,81.98],\"type\":\"scatter\"},{\"line\":{\"color\":\"red\"},\"showlegend\":false,\"x\":[1101,1102],\"y\":[81.98,81.96],\"type\":\"scatter\"},{\"line\":{\"color\":\"red\"},\"showlegend\":false,\"x\":[1102,1103],\"y\":[81.96,82.0],\"type\":\"scatter\"},{\"line\":{\"color\":\"red\"},\"showlegend\":false,\"x\":[1103,1104],\"y\":[82.0,82.04],\"type\":\"scatter\"},{\"line\":{\"color\":\"green\"},\"showlegend\":false,\"x\":[1104,1105],\"y\":[82.04,82.01],\"type\":\"scatter\"},{\"line\":{\"color\":\"green\"},\"showlegend\":false,\"x\":[1105,1106],\"y\":[82.01,82.03],\"type\":\"scatter\"},{\"line\":{\"color\":\"green\"},\"showlegend\":false,\"x\":[1106,1107],\"y\":[82.03,82.04],\"type\":\"scatter\"},{\"line\":{\"color\":\"green\"},\"showlegend\":false,\"x\":[1107,1108],\"y\":[82.04,81.99],\"type\":\"scatter\"},{\"line\":{\"color\":\"green\"},\"showlegend\":false,\"x\":[1108,1109],\"y\":[81.99,81.99],\"type\":\"scatter\"},{\"line\":{\"color\":\"red\"},\"showlegend\":false,\"x\":[1109,1110],\"y\":[81.99,81.95],\"type\":\"scatter\"},{\"line\":{\"color\":\"red\"},\"showlegend\":false,\"x\":[1110,1111],\"y\":[81.95,81.96],\"type\":\"scatter\"},{\"line\":{\"color\":\"red\"},\"showlegend\":false,\"x\":[1111,1112],\"y\":[81.96,81.93],\"type\":\"scatter\"},{\"line\":{\"color\":\"red\"},\"showlegend\":false,\"x\":[1112,1113],\"y\":[81.93,81.96],\"type\":\"scatter\"},{\"line\":{\"color\":\"red\"},\"showlegend\":false,\"x\":[1113,1114],\"y\":[81.96,81.98],\"type\":\"scatter\"},{\"line\":{\"color\":\"red\"},\"showlegend\":false,\"x\":[1114,1115],\"y\":[81.98,81.97],\"type\":\"scatter\"},{\"line\":{\"color\":\"green\"},\"showlegend\":false,\"x\":[1115,1116],\"y\":[81.97,81.97],\"type\":\"scatter\"},{\"line\":{\"color\":\"green\"},\"showlegend\":false,\"x\":[1116,1117],\"y\":[81.97,81.94],\"type\":\"scatter\"},{\"line\":{\"color\":\"red\"},\"showlegend\":false,\"x\":[1117,1118],\"y\":[81.94,81.95],\"type\":\"scatter\"},{\"line\":{\"color\":\"red\"},\"showlegend\":false,\"x\":[1118,1119],\"y\":[81.95,81.87],\"type\":\"scatter\"},{\"line\":{\"color\":\"red\"},\"showlegend\":false,\"x\":[1119,1120],\"y\":[81.87,81.85],\"type\":\"scatter\"},{\"line\":{\"color\":\"red\"},\"showlegend\":false,\"x\":[1120,1121],\"y\":[81.85,82.01],\"type\":\"scatter\"},{\"line\":{\"color\":\"green\"},\"showlegend\":false,\"x\":[1121,1122],\"y\":[82.01,81.88],\"type\":\"scatter\"},{\"line\":{\"color\":\"red\"},\"showlegend\":false,\"x\":[1122,1123],\"y\":[81.88,81.9],\"type\":\"scatter\"},{\"line\":{\"color\":\"red\"},\"showlegend\":false,\"x\":[1123,1124],\"y\":[81.9,81.9],\"type\":\"scatter\"},{\"line\":{\"color\":\"red\"},\"showlegend\":false,\"x\":[1124,1125],\"y\":[81.9,81.89],\"type\":\"scatter\"},{\"line\":{\"color\":\"red\"},\"showlegend\":false,\"x\":[1125,1126],\"y\":[81.89,81.95],\"type\":\"scatter\"},{\"line\":{\"color\":\"red\"},\"showlegend\":false,\"x\":[1126,1127],\"y\":[81.95,81.96],\"type\":\"scatter\"},{\"line\":{\"color\":\"green\"},\"showlegend\":false,\"x\":[1127,1128],\"y\":[81.96,82.08],\"type\":\"scatter\"},{\"line\":{\"color\":\"green\"},\"showlegend\":false,\"x\":[1128,1129],\"y\":[82.08,82.1],\"type\":\"scatter\"},{\"line\":{\"color\":\"green\"},\"showlegend\":false,\"x\":[1129,1130],\"y\":[82.1,82.13],\"type\":\"scatter\"},{\"line\":{\"color\":\"green\"},\"showlegend\":false,\"x\":[1130,1131],\"y\":[82.13,82.18],\"type\":\"scatter\"},{\"line\":{\"color\":\"green\"},\"showlegend\":false,\"x\":[1131,1132],\"y\":[82.18,82.18],\"type\":\"scatter\"},{\"line\":{\"color\":\"green\"},\"showlegend\":false,\"x\":[1132,1133],\"y\":[82.18,82.14],\"type\":\"scatter\"},{\"line\":{\"color\":\"green\"},\"showlegend\":false,\"x\":[1133,1134],\"y\":[82.14,82.15],\"type\":\"scatter\"},{\"line\":{\"color\":\"green\"},\"showlegend\":false,\"x\":[1134,1135],\"y\":[82.15,82.24],\"type\":\"scatter\"},{\"line\":{\"color\":\"green\"},\"showlegend\":false,\"x\":[1135,1136],\"y\":[82.24,82.13],\"type\":\"scatter\"},{\"line\":{\"color\":\"green\"},\"showlegend\":false,\"x\":[1136,1137],\"y\":[82.13,82.18],\"type\":\"scatter\"},{\"line\":{\"color\":\"green\"},\"showlegend\":false,\"x\":[1137,1138],\"y\":[82.18,82.23],\"type\":\"scatter\"},{\"line\":{\"color\":\"green\"},\"showlegend\":false,\"x\":[1138,1139],\"y\":[82.23,82.2],\"type\":\"scatter\"},{\"line\":{\"color\":\"green\"},\"showlegend\":false,\"x\":[1139,1140],\"y\":[82.2,82.18],\"type\":\"scatter\"},{\"line\":{\"color\":\"green\"},\"showlegend\":false,\"x\":[1140,1141],\"y\":[82.18,82.21],\"type\":\"scatter\"},{\"line\":{\"color\":\"green\"},\"showlegend\":false,\"x\":[1141,1142],\"y\":[82.21,82.2],\"type\":\"scatter\"},{\"line\":{\"color\":\"green\"},\"showlegend\":false,\"x\":[1142,1143],\"y\":[82.2,82.2],\"type\":\"scatter\"},{\"line\":{\"color\":\"green\"},\"showlegend\":false,\"x\":[1143,1144],\"y\":[82.2,82.14],\"type\":\"scatter\"},{\"line\":{\"color\":\"red\"},\"showlegend\":false,\"x\":[1144,1145],\"y\":[82.14,82.11],\"type\":\"scatter\"},{\"line\":{\"color\":\"red\"},\"showlegend\":false,\"x\":[1145,1146],\"y\":[82.11,82.02],\"type\":\"scatter\"},{\"line\":{\"color\":\"red\"},\"showlegend\":false,\"x\":[1146,1147],\"y\":[82.02,81.98],\"type\":\"scatter\"},{\"line\":{\"color\":\"red\"},\"showlegend\":false,\"x\":[1147,1148],\"y\":[81.98,82.0],\"type\":\"scatter\"},{\"line\":{\"color\":\"red\"},\"showlegend\":false,\"x\":[1148,1149],\"y\":[82.0,82.03],\"type\":\"scatter\"},{\"line\":{\"color\":\"red\"},\"showlegend\":false,\"x\":[1149,1150],\"y\":[82.03,82.07],\"type\":\"scatter\"},{\"line\":{\"color\":\"red\"},\"showlegend\":false,\"x\":[1150,1151],\"y\":[82.07,82.1],\"type\":\"scatter\"},{\"line\":{\"color\":\"green\"},\"showlegend\":false,\"x\":[1151,1152],\"y\":[82.1,82.11],\"type\":\"scatter\"},{\"line\":{\"color\":\"green\"},\"showlegend\":false,\"x\":[1152,1153],\"y\":[82.11,82.13],\"type\":\"scatter\"},{\"line\":{\"color\":\"green\"},\"showlegend\":false,\"x\":[1153,1154],\"y\":[82.13,82.12],\"type\":\"scatter\"},{\"line\":{\"color\":\"green\"},\"showlegend\":false,\"x\":[1154,1155],\"y\":[82.12,82.07],\"type\":\"scatter\"},{\"line\":{\"color\":\"green\"},\"showlegend\":false,\"x\":[1155,1156],\"y\":[82.07,82.02],\"type\":\"scatter\"},{\"line\":{\"color\":\"red\"},\"showlegend\":false,\"x\":[1156,1157],\"y\":[82.02,82.02],\"type\":\"scatter\"},{\"line\":{\"color\":\"red\"},\"showlegend\":false,\"x\":[1157,1158],\"y\":[82.02,81.96],\"type\":\"scatter\"},{\"line\":{\"color\":\"red\"},\"showlegend\":false,\"x\":[1158,1159],\"y\":[81.96,81.99],\"type\":\"scatter\"},{\"line\":{\"color\":\"red\"},\"showlegend\":false,\"x\":[1159,1160],\"y\":[81.99,82.0],\"type\":\"scatter\"},{\"line\":{\"color\":\"red\"},\"showlegend\":false,\"x\":[1160,1161],\"y\":[82.0,82.01],\"type\":\"scatter\"},{\"line\":{\"color\":\"red\"},\"showlegend\":false,\"x\":[1161,1162],\"y\":[82.01,81.99],\"type\":\"scatter\"},{\"line\":{\"color\":\"red\"},\"showlegend\":false,\"x\":[1162,1163],\"y\":[81.99,81.99],\"type\":\"scatter\"},{\"line\":{\"color\":\"green\"},\"showlegend\":false,\"x\":[1163,1164],\"y\":[81.99,82.03],\"type\":\"scatter\"},{\"line\":{\"color\":\"green\"},\"showlegend\":false,\"x\":[1164,1165],\"y\":[82.03,82.05],\"type\":\"scatter\"},{\"line\":{\"color\":\"green\"},\"showlegend\":false,\"x\":[1165,1166],\"y\":[82.05,82.07],\"type\":\"scatter\"},{\"line\":{\"color\":\"green\"},\"showlegend\":false,\"x\":[1166,1167],\"y\":[82.07,82.05],\"type\":\"scatter\"},{\"line\":{\"color\":\"green\"},\"showlegend\":false,\"x\":[1167,1168],\"y\":[82.05,82.05],\"type\":\"scatter\"},{\"line\":{\"color\":\"green\"},\"showlegend\":false,\"x\":[1168,1169],\"y\":[82.05,82.07],\"type\":\"scatter\"},{\"line\":{\"color\":\"green\"},\"showlegend\":false,\"x\":[1169,1170],\"y\":[82.07,82.08],\"type\":\"scatter\"},{\"line\":{\"color\":\"green\"},\"showlegend\":false,\"x\":[1170,1171],\"y\":[82.08,82.07],\"type\":\"scatter\"},{\"line\":{\"color\":\"green\"},\"showlegend\":false,\"x\":[1171,1172],\"y\":[82.07,82.07],\"type\":\"scatter\"},{\"line\":{\"color\":\"green\"},\"showlegend\":false,\"x\":[1172,1173],\"y\":[82.07,82.08],\"type\":\"scatter\"},{\"line\":{\"color\":\"green\"},\"showlegend\":false,\"x\":[1173,1174],\"y\":[82.08,82.07],\"type\":\"scatter\"},{\"line\":{\"color\":\"green\"},\"showlegend\":false,\"x\":[1174,1175],\"y\":[82.07,82.08],\"type\":\"scatter\"},{\"line\":{\"color\":\"green\"},\"showlegend\":false,\"x\":[1175,1176],\"y\":[82.08,82.05],\"type\":\"scatter\"},{\"line\":{\"color\":\"red\"},\"showlegend\":false,\"x\":[1176,1177],\"y\":[82.05,82.05],\"type\":\"scatter\"},{\"line\":{\"color\":\"red\"},\"showlegend\":false,\"x\":[1177,1178],\"y\":[82.05,82.06],\"type\":\"scatter\"},{\"line\":{\"color\":\"red\"},\"showlegend\":false,\"x\":[1178,1179],\"y\":[82.06,82.11],\"type\":\"scatter\"},{\"line\":{\"color\":\"green\"},\"showlegend\":false,\"x\":[1179,1180],\"y\":[82.11,82.12],\"type\":\"scatter\"},{\"line\":{\"color\":\"green\"},\"showlegend\":false,\"x\":[1180,1181],\"y\":[82.12,82.16],\"type\":\"scatter\"},{\"line\":{\"color\":\"green\"},\"showlegend\":false,\"x\":[1181,1182],\"y\":[82.16,82.22],\"type\":\"scatter\"},{\"line\":{\"color\":\"green\"},\"showlegend\":false,\"x\":[1182,1183],\"y\":[82.22,82.25],\"type\":\"scatter\"},{\"line\":{\"color\":\"green\"},\"showlegend\":false,\"x\":[1183,1184],\"y\":[82.25,82.25],\"type\":\"scatter\"},{\"line\":{\"color\":\"green\"},\"showlegend\":false,\"x\":[1184,1185],\"y\":[82.25,82.24],\"type\":\"scatter\"},{\"line\":{\"color\":\"green\"},\"showlegend\":false,\"x\":[1185,1186],\"y\":[82.24,82.18],\"type\":\"scatter\"},{\"line\":{\"color\":\"green\"},\"showlegend\":false,\"x\":[1186,1187],\"y\":[82.18,82.2],\"type\":\"scatter\"},{\"line\":{\"color\":\"green\"},\"showlegend\":false,\"x\":[1187,1188],\"y\":[82.2,82.16],\"type\":\"scatter\"},{\"line\":{\"color\":\"red\"},\"showlegend\":false,\"x\":[1188,1189],\"y\":[82.16,82.19],\"type\":\"scatter\"},{\"line\":{\"color\":\"green\"},\"showlegend\":false,\"x\":[1189,1190],\"y\":[82.19,82.18],\"type\":\"scatter\"},{\"line\":{\"color\":\"green\"},\"showlegend\":false,\"x\":[1190,1191],\"y\":[82.18,82.22],\"type\":\"scatter\"},{\"line\":{\"color\":\"green\"},\"showlegend\":false,\"x\":[1191,1192],\"y\":[82.22,82.26],\"type\":\"scatter\"},{\"line\":{\"color\":\"green\"},\"showlegend\":false,\"x\":[1192,1193],\"y\":[82.26,82.25],\"type\":\"scatter\"},{\"line\":{\"color\":\"green\"},\"showlegend\":false,\"x\":[1193,1194],\"y\":[82.25,82.21],\"type\":\"scatter\"},{\"line\":{\"color\":\"green\"},\"showlegend\":false,\"x\":[1194,1195],\"y\":[82.21,82.23],\"type\":\"scatter\"},{\"line\":{\"color\":\"green\"},\"showlegend\":false,\"x\":[1195,1196],\"y\":[82.23,82.15],\"type\":\"scatter\"},{\"line\":{\"color\":\"red\"},\"showlegend\":false,\"x\":[1196,1197],\"y\":[82.15,82.1],\"type\":\"scatter\"},{\"line\":{\"color\":\"red\"},\"showlegend\":false,\"x\":[1197,1198],\"y\":[82.1,82.1],\"type\":\"scatter\"},{\"line\":{\"color\":\"red\"},\"showlegend\":false,\"x\":[1198,1199],\"y\":[82.1,82.09],\"type\":\"scatter\"},{\"line\":{\"color\":\"red\"},\"showlegend\":false,\"x\":[1199,1200],\"y\":[82.09,82.02],\"type\":\"scatter\"},{\"line\":{\"color\":\"red\"},\"showlegend\":false,\"x\":[1200,1201],\"y\":[82.02,81.97],\"type\":\"scatter\"},{\"line\":{\"color\":\"red\"},\"showlegend\":false,\"x\":[1201,1202],\"y\":[81.97,81.92],\"type\":\"scatter\"},{\"line\":{\"color\":\"red\"},\"showlegend\":false,\"x\":[1202,1203],\"y\":[81.92,81.94],\"type\":\"scatter\"},{\"line\":{\"color\":\"red\"},\"showlegend\":false,\"x\":[1203,1204],\"y\":[81.94,81.9],\"type\":\"scatter\"},{\"line\":{\"color\":\"red\"},\"showlegend\":false,\"x\":[1204,1205],\"y\":[81.9,81.91],\"type\":\"scatter\"},{\"line\":{\"color\":\"red\"},\"showlegend\":false,\"x\":[1205,1206],\"y\":[81.91,81.88],\"type\":\"scatter\"},{\"line\":{\"color\":\"red\"},\"showlegend\":false,\"x\":[1206,1207],\"y\":[81.88,81.92],\"type\":\"scatter\"},{\"line\":{\"color\":\"red\"},\"showlegend\":false,\"x\":[1207,1208],\"y\":[81.92,81.74],\"type\":\"scatter\"},{\"line\":{\"color\":\"red\"},\"showlegend\":false,\"x\":[1208,1209],\"y\":[81.74,81.76],\"type\":\"scatter\"},{\"line\":{\"color\":\"red\"},\"showlegend\":false,\"x\":[1209,1210],\"y\":[81.76,81.78],\"type\":\"scatter\"},{\"line\":{\"color\":\"red\"},\"showlegend\":false,\"x\":[1210,1211],\"y\":[81.78,81.84],\"type\":\"scatter\"},{\"line\":{\"color\":\"red\"},\"showlegend\":false,\"x\":[1211,1212],\"y\":[81.84,81.8],\"type\":\"scatter\"},{\"line\":{\"color\":\"red\"},\"showlegend\":false,\"x\":[1212,1213],\"y\":[81.8,81.9],\"type\":\"scatter\"},{\"line\":{\"color\":\"green\"},\"showlegend\":false,\"x\":[1213,1214],\"y\":[81.9,81.85],\"type\":\"scatter\"},{\"line\":{\"color\":\"red\"},\"showlegend\":false,\"x\":[1214,1215],\"y\":[81.85,81.87],\"type\":\"scatter\"},{\"line\":{\"color\":\"green\"},\"showlegend\":false,\"x\":[1215,1216],\"y\":[81.87,81.79],\"type\":\"scatter\"},{\"line\":{\"color\":\"red\"},\"showlegend\":false,\"x\":[1216,1217],\"y\":[81.79,81.43],\"type\":\"scatter\"},{\"line\":{\"color\":\"red\"},\"showlegend\":false,\"x\":[1217,1218],\"y\":[81.43,81.71],\"type\":\"scatter\"},{\"line\":{\"color\":\"red\"},\"showlegend\":false,\"x\":[1218,1219],\"y\":[81.71,81.65],\"type\":\"scatter\"},{\"line\":{\"color\":\"red\"},\"showlegend\":false,\"x\":[1219,1220],\"y\":[81.65,81.82],\"type\":\"scatter\"},{\"line\":{\"color\":\"green\"},\"showlegend\":false,\"x\":[1220,1221],\"y\":[81.82,81.76],\"type\":\"scatter\"},{\"line\":{\"color\":\"green\"},\"showlegend\":false,\"x\":[1221,1222],\"y\":[81.76,81.61],\"type\":\"scatter\"},{\"line\":{\"color\":\"green\"},\"showlegend\":false,\"x\":[1222,1223],\"y\":[81.61,81.78],\"type\":\"scatter\"},{\"line\":{\"color\":\"green\"},\"showlegend\":false,\"x\":[1223,1224],\"y\":[81.78,81.73],\"type\":\"scatter\"},{\"line\":{\"color\":\"green\"},\"showlegend\":false,\"x\":[1224,1225],\"y\":[81.73,81.85],\"type\":\"scatter\"},{\"line\":{\"color\":\"green\"},\"showlegend\":false,\"x\":[1225,1226],\"y\":[81.85,81.84],\"type\":\"scatter\"},{\"line\":{\"color\":\"green\"},\"showlegend\":false,\"x\":[1226,1227],\"y\":[81.84,81.95],\"type\":\"scatter\"},{\"line\":{\"color\":\"green\"},\"showlegend\":false,\"x\":[1227,1228],\"y\":[81.95,81.97],\"type\":\"scatter\"},{\"line\":{\"color\":\"green\"},\"showlegend\":false,\"x\":[1228,1229],\"y\":[81.97,82.01],\"type\":\"scatter\"},{\"line\":{\"color\":\"green\"},\"showlegend\":false,\"x\":[1229,1230],\"y\":[82.01,82.12],\"type\":\"scatter\"},{\"line\":{\"color\":\"green\"},\"showlegend\":false,\"x\":[1230,1231],\"y\":[82.12,82.1],\"type\":\"scatter\"},{\"line\":{\"color\":\"green\"},\"showlegend\":false,\"x\":[1231,1232],\"y\":[82.1,82.06],\"type\":\"scatter\"},{\"line\":{\"color\":\"green\"},\"showlegend\":false,\"x\":[1232,1233],\"y\":[82.06,82.08],\"type\":\"scatter\"},{\"line\":{\"color\":\"green\"},\"showlegend\":false,\"x\":[1233,1234],\"y\":[82.08,82.11],\"type\":\"scatter\"},{\"line\":{\"color\":\"green\"},\"showlegend\":false,\"x\":[1234,1235],\"y\":[82.11,82.13],\"type\":\"scatter\"},{\"line\":{\"color\":\"green\"},\"showlegend\":false,\"x\":[1235,1236],\"y\":[82.13,82.02],\"type\":\"scatter\"},{\"line\":{\"color\":\"green\"},\"showlegend\":false,\"x\":[1236,1237],\"y\":[82.02,81.96],\"type\":\"scatter\"},{\"line\":{\"color\":\"red\"},\"showlegend\":false,\"x\":[1237,1238],\"y\":[81.96,81.8],\"type\":\"scatter\"},{\"line\":{\"color\":\"red\"},\"showlegend\":false,\"x\":[1238,1239],\"y\":[81.8,81.91],\"type\":\"scatter\"},{\"line\":{\"color\":\"red\"},\"showlegend\":false,\"x\":[1239,1240],\"y\":[81.91,81.85],\"type\":\"scatter\"},{\"line\":{\"color\":\"red\"},\"showlegend\":false,\"x\":[1240,1241],\"y\":[81.85,81.86],\"type\":\"scatter\"},{\"line\":{\"color\":\"red\"},\"showlegend\":false,\"x\":[1241,1242],\"y\":[81.86,81.96],\"type\":\"scatter\"},{\"line\":{\"color\":\"red\"},\"showlegend\":false,\"x\":[1242,1243],\"y\":[81.96,81.95],\"type\":\"scatter\"},{\"line\":{\"color\":\"green\"},\"showlegend\":false,\"x\":[1243,1244],\"y\":[81.95,81.95],\"type\":\"scatter\"},{\"line\":{\"color\":\"green\"},\"showlegend\":false,\"x\":[1244,1245],\"y\":[81.95,81.92],\"type\":\"scatter\"},{\"line\":{\"color\":\"green\"},\"showlegend\":false,\"x\":[1245,1246],\"y\":[81.92,81.96],\"type\":\"scatter\"},{\"line\":{\"color\":\"green\"},\"showlegend\":false,\"x\":[1246,1247],\"y\":[81.96,81.87],\"type\":\"scatter\"},{\"line\":{\"color\":\"red\"},\"showlegend\":false,\"x\":[1247,1248],\"y\":[81.87,81.92],\"type\":\"scatter\"},{\"line\":{\"color\":\"green\"},\"showlegend\":false,\"x\":[1248,1249],\"y\":[81.92,81.93],\"type\":\"scatter\"},{\"line\":{\"color\":\"green\"},\"showlegend\":false,\"x\":[1249,1250],\"y\":[81.93,81.9],\"type\":\"scatter\"},{\"line\":{\"color\":\"green\"},\"showlegend\":false,\"x\":[1250,1251],\"y\":[81.9,81.77],\"type\":\"scatter\"},{\"line\":{\"color\":\"red\"},\"showlegend\":false,\"x\":[1251,1252],\"y\":[81.77,81.62],\"type\":\"scatter\"},{\"line\":{\"color\":\"red\"},\"showlegend\":false,\"x\":[1252,1253],\"y\":[81.62,81.69],\"type\":\"scatter\"},{\"line\":{\"color\":\"red\"},\"showlegend\":false,\"x\":[1253,1254],\"y\":[81.69,81.73],\"type\":\"scatter\"},{\"line\":{\"color\":\"red\"},\"showlegend\":false,\"x\":[1254,1255],\"y\":[81.73,81.66],\"type\":\"scatter\"},{\"line\":{\"color\":\"red\"},\"showlegend\":false,\"x\":[1255,1256],\"y\":[81.66,81.65],\"type\":\"scatter\"},{\"line\":{\"color\":\"red\"},\"showlegend\":false,\"x\":[1256,1257],\"y\":[81.65,81.73],\"type\":\"scatter\"},{\"line\":{\"color\":\"red\"},\"showlegend\":false,\"x\":[1257,1258],\"y\":[81.73,81.69],\"type\":\"scatter\"},{\"line\":{\"color\":\"red\"},\"showlegend\":false,\"x\":[1258,1259],\"y\":[81.69,81.63],\"type\":\"scatter\"},{\"line\":{\"color\":\"red\"},\"showlegend\":false,\"x\":[1259,1260],\"y\":[81.63,81.58],\"type\":\"scatter\"},{\"line\":{\"color\":\"red\"},\"showlegend\":false,\"x\":[1260,1261],\"y\":[81.58,81.49],\"type\":\"scatter\"},{\"line\":{\"color\":\"red\"},\"showlegend\":false,\"x\":[1261,1262],\"y\":[81.49,81.54],\"type\":\"scatter\"},{\"line\":{\"color\":\"red\"},\"showlegend\":false,\"x\":[1262,1263],\"y\":[81.54,81.54],\"type\":\"scatter\"},{\"line\":{\"color\":\"red\"},\"showlegend\":false,\"x\":[1263,1264],\"y\":[81.54,81.27],\"type\":\"scatter\"},{\"line\":{\"color\":\"red\"},\"showlegend\":false,\"x\":[1264,1265],\"y\":[81.27,81.38],\"type\":\"scatter\"},{\"line\":{\"color\":\"red\"},\"showlegend\":false,\"x\":[1265,1266],\"y\":[81.38,81.33],\"type\":\"scatter\"},{\"line\":{\"color\":\"red\"},\"showlegend\":false,\"x\":[1266,1267],\"y\":[81.33,81.25],\"type\":\"scatter\"},{\"line\":{\"color\":\"red\"},\"showlegend\":false,\"x\":[1267,1268],\"y\":[81.25,81.33],\"type\":\"scatter\"},{\"line\":{\"color\":\"red\"},\"showlegend\":false,\"x\":[1268,1269],\"y\":[81.33,81.25],\"type\":\"scatter\"},{\"line\":{\"color\":\"red\"},\"showlegend\":false,\"x\":[1269,1270],\"y\":[81.25,81.34],\"type\":\"scatter\"},{\"line\":{\"color\":\"red\"},\"showlegend\":false,\"x\":[1270,1271],\"y\":[81.34,81.26],\"type\":\"scatter\"},{\"line\":{\"color\":\"red\"},\"showlegend\":false,\"x\":[1271,1272],\"y\":[81.26,81.13],\"type\":\"scatter\"},{\"line\":{\"color\":\"red\"},\"showlegend\":false,\"x\":[1272,1273],\"y\":[81.13,81.12],\"type\":\"scatter\"},{\"line\":{\"color\":\"red\"},\"showlegend\":false,\"x\":[1273,1274],\"y\":[81.12,80.92],\"type\":\"scatter\"},{\"line\":{\"color\":\"red\"},\"showlegend\":false,\"x\":[1274,1275],\"y\":[80.92,80.88],\"type\":\"scatter\"},{\"line\":{\"color\":\"red\"},\"showlegend\":false,\"x\":[1275,1276],\"y\":[80.88,80.98],\"type\":\"scatter\"},{\"line\":{\"color\":\"red\"},\"showlegend\":false,\"x\":[1276,1277],\"y\":[80.98,81.01],\"type\":\"scatter\"},{\"line\":{\"color\":\"red\"},\"showlegend\":false,\"x\":[1277,1278],\"y\":[81.01,80.97],\"type\":\"scatter\"},{\"line\":{\"color\":\"red\"},\"showlegend\":false,\"x\":[1278,1279],\"y\":[80.97,80.87],\"type\":\"scatter\"},{\"line\":{\"color\":\"red\"},\"showlegend\":false,\"x\":[1279,1280],\"y\":[80.87,81.03],\"type\":\"scatter\"},{\"line\":{\"color\":\"red\"},\"showlegend\":false,\"x\":[1280,1281],\"y\":[81.03,81.05],\"type\":\"scatter\"},{\"line\":{\"color\":\"green\"},\"showlegend\":false,\"x\":[1281,1282],\"y\":[81.05,81.0],\"type\":\"scatter\"},{\"line\":{\"color\":\"green\"},\"showlegend\":false,\"x\":[1282,1283],\"y\":[81.0,81.0],\"type\":\"scatter\"},{\"line\":{\"color\":\"green\"},\"showlegend\":false,\"x\":[1283,1284],\"y\":[81.0,81.21],\"type\":\"scatter\"},{\"line\":{\"color\":\"green\"},\"showlegend\":false,\"x\":[1284,1285],\"y\":[81.21,81.39],\"type\":\"scatter\"},{\"line\":{\"color\":\"green\"},\"showlegend\":false,\"x\":[1285,1286],\"y\":[81.39,81.44],\"type\":\"scatter\"},{\"line\":{\"color\":\"green\"},\"showlegend\":false,\"x\":[1286,1287],\"y\":[81.44,81.6],\"type\":\"scatter\"},{\"line\":{\"color\":\"green\"},\"showlegend\":false,\"x\":[1287,1288],\"y\":[81.6,81.66],\"type\":\"scatter\"},{\"line\":{\"color\":\"green\"},\"showlegend\":false,\"x\":[1288,1289],\"y\":[81.66,81.76],\"type\":\"scatter\"},{\"line\":{\"color\":\"green\"},\"showlegend\":false,\"x\":[1289,1290],\"y\":[81.76,81.9],\"type\":\"scatter\"},{\"line\":{\"color\":\"green\"},\"showlegend\":false,\"x\":[1290,1291],\"y\":[81.9,81.96],\"type\":\"scatter\"},{\"line\":{\"color\":\"green\"},\"showlegend\":false,\"x\":[1291,1292],\"y\":[81.96,82.07],\"type\":\"scatter\"},{\"line\":{\"color\":\"green\"},\"showlegend\":false,\"x\":[1292,1293],\"y\":[82.07,82.13],\"type\":\"scatter\"},{\"line\":{\"color\":\"green\"},\"showlegend\":false,\"x\":[1293,1294],\"y\":[82.13,81.93],\"type\":\"scatter\"},{\"line\":{\"color\":\"green\"},\"showlegend\":false,\"x\":[1294,1295],\"y\":[81.93,82.02],\"type\":\"scatter\"},{\"line\":{\"color\":\"green\"},\"showlegend\":false,\"x\":[1295,1296],\"y\":[82.02,82.04],\"type\":\"scatter\"},{\"line\":{\"color\":\"green\"},\"showlegend\":false,\"x\":[1296,1297],\"y\":[82.04,81.91],\"type\":\"scatter\"},{\"line\":{\"color\":\"green\"},\"showlegend\":false,\"x\":[1297,1298],\"y\":[81.91,81.81],\"type\":\"scatter\"},{\"line\":{\"color\":\"green\"},\"showlegend\":false,\"x\":[1298,1299],\"y\":[81.81,81.7],\"type\":\"scatter\"},{\"line\":{\"color\":\"red\"},\"showlegend\":false,\"x\":[1299,1300],\"y\":[81.7,81.62],\"type\":\"scatter\"},{\"line\":{\"color\":\"red\"},\"showlegend\":false,\"x\":[1300,1301],\"y\":[81.62,81.72],\"type\":\"scatter\"},{\"line\":{\"color\":\"red\"},\"showlegend\":false,\"x\":[1301,1302],\"y\":[81.72,81.89],\"type\":\"scatter\"},{\"line\":{\"color\":\"green\"},\"showlegend\":false,\"x\":[1302,1303],\"y\":[81.89,81.91],\"type\":\"scatter\"},{\"line\":{\"color\":\"green\"},\"showlegend\":false,\"x\":[1303,1304],\"y\":[81.91,81.96],\"type\":\"scatter\"},{\"line\":{\"color\":\"green\"},\"showlegend\":false,\"x\":[1304,1305],\"y\":[81.96,82.16],\"type\":\"scatter\"},{\"line\":{\"color\":\"green\"},\"showlegend\":false,\"x\":[1305,1306],\"y\":[82.16,82.26],\"type\":\"scatter\"},{\"line\":{\"color\":\"green\"},\"showlegend\":false,\"x\":[1306,1307],\"y\":[82.26,82.29],\"type\":\"scatter\"},{\"line\":{\"color\":\"green\"},\"showlegend\":false,\"x\":[1307,1308],\"y\":[82.29,82.27],\"type\":\"scatter\"},{\"line\":{\"color\":\"green\"},\"showlegend\":false,\"x\":[1308,1309],\"y\":[82.27,82.37],\"type\":\"scatter\"},{\"line\":{\"color\":\"green\"},\"showlegend\":false,\"x\":[1309,1310],\"y\":[82.37,82.4],\"type\":\"scatter\"},{\"line\":{\"color\":\"green\"},\"showlegend\":false,\"x\":[1310,1311],\"y\":[82.4,82.5],\"type\":\"scatter\"},{\"line\":{\"color\":\"green\"},\"showlegend\":false,\"x\":[1311,1312],\"y\":[82.5,82.45],\"type\":\"scatter\"},{\"line\":{\"color\":\"green\"},\"showlegend\":false,\"x\":[1312,1313],\"y\":[82.45,82.3],\"type\":\"scatter\"},{\"line\":{\"color\":\"green\"},\"showlegend\":false,\"x\":[1313,1314],\"y\":[82.3,82.37],\"type\":\"scatter\"},{\"line\":{\"color\":\"green\"},\"showlegend\":false,\"x\":[1314,1315],\"y\":[82.37,82.51],\"type\":\"scatter\"},{\"line\":{\"color\":\"green\"},\"showlegend\":false,\"x\":[1315,1316],\"y\":[82.51,82.59],\"type\":\"scatter\"},{\"line\":{\"color\":\"green\"},\"showlegend\":false,\"x\":[1316,1317],\"y\":[82.59,82.58],\"type\":\"scatter\"},{\"line\":{\"color\":\"green\"},\"showlegend\":false,\"x\":[1317,1318],\"y\":[82.58,82.48],\"type\":\"scatter\"},{\"line\":{\"color\":\"green\"},\"showlegend\":false,\"x\":[1318,1319],\"y\":[82.48,82.55],\"type\":\"scatter\"},{\"line\":{\"color\":\"green\"},\"showlegend\":false,\"x\":[1319,1320],\"y\":[82.55,82.6],\"type\":\"scatter\"},{\"line\":{\"color\":\"green\"},\"showlegend\":false,\"x\":[1320,1321],\"y\":[82.6,82.66],\"type\":\"scatter\"},{\"line\":{\"color\":\"green\"},\"showlegend\":false,\"x\":[1321,1322],\"y\":[82.66,82.69],\"type\":\"scatter\"},{\"line\":{\"color\":\"green\"},\"showlegend\":false,\"x\":[1322,1323],\"y\":[82.69,82.51],\"type\":\"scatter\"},{\"line\":{\"color\":\"green\"},\"showlegend\":false,\"x\":[1323,1324],\"y\":[82.51,82.44],\"type\":\"scatter\"},{\"line\":{\"color\":\"red\"},\"showlegend\":false,\"x\":[1324,1325],\"y\":[82.44,82.44],\"type\":\"scatter\"},{\"line\":{\"color\":\"red\"},\"showlegend\":false,\"x\":[1325,1326],\"y\":[82.44,82.42],\"type\":\"scatter\"},{\"line\":{\"color\":\"red\"},\"showlegend\":false,\"x\":[1326,1327],\"y\":[82.42,82.49],\"type\":\"scatter\"},{\"line\":{\"color\":\"red\"},\"showlegend\":false,\"x\":[1327,1328],\"y\":[82.49,82.55],\"type\":\"scatter\"},{\"line\":{\"color\":\"red\"},\"showlegend\":false,\"x\":[1328,1329],\"y\":[82.55,82.54],\"type\":\"scatter\"},{\"line\":{\"color\":\"green\"},\"showlegend\":false,\"x\":[1329,1330],\"y\":[82.54,82.63],\"type\":\"scatter\"},{\"line\":{\"color\":\"green\"},\"showlegend\":false,\"x\":[1330,1331],\"y\":[82.63,82.6],\"type\":\"scatter\"},{\"line\":{\"color\":\"green\"},\"showlegend\":false,\"x\":[1331,1332],\"y\":[82.6,82.68],\"type\":\"scatter\"},{\"line\":{\"color\":\"green\"},\"showlegend\":false,\"x\":[1332,1333],\"y\":[82.68,82.65],\"type\":\"scatter\"},{\"line\":{\"color\":\"green\"},\"showlegend\":false,\"x\":[1333,1334],\"y\":[82.65,82.66],\"type\":\"scatter\"},{\"line\":{\"color\":\"green\"},\"showlegend\":false,\"x\":[1334,1335],\"y\":[82.66,82.62],\"type\":\"scatter\"},{\"line\":{\"color\":\"green\"},\"showlegend\":false,\"x\":[1335,1336],\"y\":[82.62,82.7],\"type\":\"scatter\"},{\"line\":{\"color\":\"green\"},\"showlegend\":false,\"x\":[1336,1337],\"y\":[82.7,82.77],\"type\":\"scatter\"},{\"line\":{\"color\":\"green\"},\"showlegend\":false,\"x\":[1337,1338],\"y\":[82.77,82.72],\"type\":\"scatter\"},{\"line\":{\"color\":\"green\"},\"showlegend\":false,\"x\":[1338,1339],\"y\":[82.72,82.71],\"type\":\"scatter\"},{\"line\":{\"color\":\"green\"},\"showlegend\":false,\"x\":[1339,1340],\"y\":[82.71,82.75],\"type\":\"scatter\"},{\"line\":{\"color\":\"green\"},\"showlegend\":false,\"x\":[1340,1341],\"y\":[82.75,82.77],\"type\":\"scatter\"},{\"line\":{\"color\":\"green\"},\"showlegend\":false,\"x\":[1341,1342],\"y\":[82.77,82.55],\"type\":\"scatter\"},{\"line\":{\"color\":\"red\"},\"showlegend\":false,\"x\":[1342,1343],\"y\":[82.55,82.59],\"type\":\"scatter\"},{\"line\":{\"color\":\"red\"},\"showlegend\":false,\"x\":[1343,1344],\"y\":[82.59,82.53],\"type\":\"scatter\"},{\"line\":{\"color\":\"red\"},\"showlegend\":false,\"x\":[1344,1345],\"y\":[82.53,82.52],\"type\":\"scatter\"},{\"line\":{\"color\":\"red\"},\"showlegend\":false,\"x\":[1345,1346],\"y\":[82.52,82.54],\"type\":\"scatter\"},{\"line\":{\"color\":\"red\"},\"showlegend\":false,\"x\":[1346,1347],\"y\":[82.54,82.56],\"type\":\"scatter\"},{\"line\":{\"color\":\"red\"},\"showlegend\":false,\"x\":[1347,1348],\"y\":[82.56,82.49],\"type\":\"scatter\"},{\"line\":{\"color\":\"red\"},\"showlegend\":false,\"x\":[1348,1349],\"y\":[82.49,82.49],\"type\":\"scatter\"},{\"line\":{\"color\":\"red\"},\"showlegend\":false,\"x\":[1349,1350],\"y\":[82.49,82.45],\"type\":\"scatter\"},{\"line\":{\"color\":\"red\"},\"showlegend\":false,\"x\":[1350,1351],\"y\":[82.45,82.41],\"type\":\"scatter\"},{\"line\":{\"color\":\"red\"},\"showlegend\":false,\"x\":[1351,1352],\"y\":[82.41,82.42],\"type\":\"scatter\"},{\"line\":{\"color\":\"red\"},\"showlegend\":false,\"x\":[1352,1353],\"y\":[82.42,82.39],\"type\":\"scatter\"},{\"line\":{\"color\":\"red\"},\"showlegend\":false,\"x\":[1353,1354],\"y\":[82.39,82.46],\"type\":\"scatter\"},{\"line\":{\"color\":\"red\"},\"showlegend\":false,\"x\":[1354,1355],\"y\":[82.46,82.4],\"type\":\"scatter\"},{\"line\":{\"color\":\"red\"},\"showlegend\":false,\"x\":[1355,1356],\"y\":[82.4,82.44],\"type\":\"scatter\"},{\"line\":{\"color\":\"red\"},\"showlegend\":false,\"x\":[1356,1357],\"y\":[82.44,82.49],\"type\":\"scatter\"},{\"line\":{\"color\":\"green\"},\"showlegend\":false,\"x\":[1357,1358],\"y\":[82.49,82.52],\"type\":\"scatter\"},{\"line\":{\"color\":\"green\"},\"showlegend\":false,\"x\":[1358,1359],\"y\":[82.52,82.55],\"type\":\"scatter\"},{\"line\":{\"color\":\"green\"},\"showlegend\":false,\"x\":[1359,1360],\"y\":[82.55,82.55],\"type\":\"scatter\"},{\"line\":{\"color\":\"green\"},\"showlegend\":false,\"x\":[1360,1361],\"y\":[82.55,82.5],\"type\":\"scatter\"},{\"line\":{\"color\":\"green\"},\"showlegend\":false,\"x\":[1361,1362],\"y\":[82.5,82.52],\"type\":\"scatter\"},{\"line\":{\"color\":\"green\"},\"showlegend\":false,\"x\":[1362,1363],\"y\":[82.52,82.54],\"type\":\"scatter\"},{\"line\":{\"color\":\"green\"},\"showlegend\":false,\"x\":[1363,1364],\"y\":[82.54,82.49],\"type\":\"scatter\"},{\"line\":{\"color\":\"green\"},\"showlegend\":false,\"x\":[1364,1365],\"y\":[82.49,82.51],\"type\":\"scatter\"},{\"line\":{\"color\":\"green\"},\"showlegend\":false,\"x\":[1365,1366],\"y\":[82.51,82.51],\"type\":\"scatter\"},{\"line\":{\"color\":\"green\"},\"showlegend\":false,\"x\":[1366,1367],\"y\":[82.51,82.43],\"type\":\"scatter\"},{\"line\":{\"color\":\"red\"},\"showlegend\":false,\"x\":[1367,1368],\"y\":[82.43,82.43],\"type\":\"scatter\"},{\"line\":{\"color\":\"red\"},\"showlegend\":false,\"x\":[1368,1369],\"y\":[82.43,82.39],\"type\":\"scatter\"},{\"line\":{\"color\":\"red\"},\"showlegend\":false,\"x\":[1369,1370],\"y\":[82.39,82.36],\"type\":\"scatter\"},{\"line\":{\"color\":\"red\"},\"showlegend\":false,\"x\":[1370,1371],\"y\":[82.36,82.37],\"type\":\"scatter\"},{\"line\":{\"color\":\"red\"},\"showlegend\":false,\"x\":[1371,1372],\"y\":[82.37,82.34],\"type\":\"scatter\"},{\"line\":{\"color\":\"red\"},\"showlegend\":false,\"x\":[1372,1373],\"y\":[82.34,82.39],\"type\":\"scatter\"},{\"line\":{\"color\":\"red\"},\"showlegend\":false,\"x\":[1373,1374],\"y\":[82.39,82.51],\"type\":\"scatter\"},{\"line\":{\"color\":\"green\"},\"showlegend\":false,\"x\":[1374,1375],\"y\":[82.51,82.46],\"type\":\"scatter\"},{\"line\":{\"color\":\"green\"},\"showlegend\":false,\"x\":[1375,1376],\"y\":[82.46,82.45],\"type\":\"scatter\"},{\"line\":{\"color\":\"green\"},\"showlegend\":false,\"x\":[1376,1377],\"y\":[82.45,82.42],\"type\":\"scatter\"},{\"line\":{\"color\":\"green\"},\"showlegend\":false,\"x\":[1377,1378],\"y\":[82.42,82.45],\"type\":\"scatter\"},{\"line\":{\"color\":\"green\"},\"showlegend\":false,\"x\":[1378,1379],\"y\":[82.45,82.39],\"type\":\"scatter\"},{\"line\":{\"color\":\"red\"},\"showlegend\":false,\"x\":[1379,1380],\"y\":[82.39,82.38],\"type\":\"scatter\"},{\"line\":{\"color\":\"red\"},\"showlegend\":false,\"x\":[1380,1381],\"y\":[82.38,82.39],\"type\":\"scatter\"},{\"line\":{\"color\":\"red\"},\"showlegend\":false,\"x\":[1381,1382],\"y\":[82.39,82.4],\"type\":\"scatter\"},{\"line\":{\"color\":\"red\"},\"showlegend\":false,\"x\":[1382,1383],\"y\":[82.4,82.39],\"type\":\"scatter\"},{\"line\":{\"color\":\"red\"},\"showlegend\":false,\"x\":[1383,1384],\"y\":[82.39,82.4],\"type\":\"scatter\"},{\"line\":{\"color\":\"red\"},\"showlegend\":false,\"x\":[1384,1385],\"y\":[82.4,82.46],\"type\":\"scatter\"},{\"line\":{\"color\":\"green\"},\"showlegend\":false,\"x\":[1385,1386],\"y\":[82.46,82.36],\"type\":\"scatter\"},{\"line\":{\"color\":\"red\"},\"showlegend\":false,\"x\":[1386,1387],\"y\":[82.36,82.31],\"type\":\"scatter\"},{\"line\":{\"color\":\"red\"},\"showlegend\":false,\"x\":[1387,1388],\"y\":[82.31,82.25],\"type\":\"scatter\"},{\"line\":{\"color\":\"red\"},\"showlegend\":false,\"x\":[1388,1389],\"y\":[82.25,82.28],\"type\":\"scatter\"},{\"line\":{\"color\":\"red\"},\"showlegend\":false,\"x\":[1389,1390],\"y\":[82.28,82.2],\"type\":\"scatter\"},{\"line\":{\"color\":\"red\"},\"showlegend\":false,\"x\":[1390,1391],\"y\":[82.2,82.2],\"type\":\"scatter\"},{\"line\":{\"color\":\"red\"},\"showlegend\":false,\"x\":[1391,1392],\"y\":[82.2,82.19],\"type\":\"scatter\"},{\"line\":{\"color\":\"red\"},\"showlegend\":false,\"x\":[1392,1393],\"y\":[82.19,82.23],\"type\":\"scatter\"},{\"line\":{\"color\":\"red\"},\"showlegend\":false,\"x\":[1393,1394],\"y\":[82.23,82.19],\"type\":\"scatter\"},{\"line\":{\"color\":\"red\"},\"showlegend\":false,\"x\":[1394,1395],\"y\":[82.19,82.19],\"type\":\"scatter\"},{\"line\":{\"color\":\"red\"},\"showlegend\":false,\"x\":[1395,1396],\"y\":[82.19,82.15],\"type\":\"scatter\"},{\"line\":{\"color\":\"red\"},\"showlegend\":false,\"x\":[1396,1397],\"y\":[82.15,82.23],\"type\":\"scatter\"},{\"line\":{\"color\":\"red\"},\"showlegend\":false,\"x\":[1397,1398],\"y\":[82.23,82.1],\"type\":\"scatter\"},{\"line\":{\"color\":\"red\"},\"showlegend\":false,\"x\":[1398,1399],\"y\":[82.1,82.11],\"type\":\"scatter\"},{\"line\":{\"color\":\"red\"},\"showlegend\":false,\"x\":[1399,1400],\"y\":[82.11,82.12],\"type\":\"scatter\"},{\"line\":{\"color\":\"red\"},\"showlegend\":false,\"x\":[1400,1401],\"y\":[82.12,82.16],\"type\":\"scatter\"},{\"line\":{\"color\":\"red\"},\"showlegend\":false,\"x\":[1401,1402],\"y\":[82.16,82.13],\"type\":\"scatter\"},{\"line\":{\"color\":\"red\"},\"showlegend\":false,\"x\":[1402,1403],\"y\":[82.13,82.12],\"type\":\"scatter\"},{\"line\":{\"color\":\"red\"},\"showlegend\":false,\"x\":[1403,1404],\"y\":[82.12,82.13],\"type\":\"scatter\"},{\"line\":{\"color\":\"red\"},\"showlegend\":false,\"x\":[1404,1405],\"y\":[82.13,82.26],\"type\":\"scatter\"},{\"line\":{\"color\":\"green\"},\"showlegend\":false,\"x\":[1405,1406],\"y\":[82.26,82.27],\"type\":\"scatter\"},{\"line\":{\"color\":\"green\"},\"showlegend\":false,\"x\":[1406,1407],\"y\":[82.27,82.26],\"type\":\"scatter\"},{\"line\":{\"color\":\"green\"},\"showlegend\":false,\"x\":[1407,1408],\"y\":[82.26,82.26],\"type\":\"scatter\"},{\"line\":{\"color\":\"green\"},\"showlegend\":false,\"x\":[1408,1409],\"y\":[82.26,82.24],\"type\":\"scatter\"},{\"line\":{\"color\":\"green\"},\"showlegend\":false,\"x\":[1409,1410],\"y\":[82.24,82.18],\"type\":\"scatter\"},{\"line\":{\"color\":\"green\"},\"showlegend\":false,\"x\":[1410,1411],\"y\":[82.18,82.11],\"type\":\"scatter\"},{\"line\":{\"color\":\"red\"},\"showlegend\":false,\"x\":[1411,1412],\"y\":[82.11,82.09],\"type\":\"scatter\"},{\"line\":{\"color\":\"red\"},\"showlegend\":false,\"x\":[1412,1413],\"y\":[82.09,82.1],\"type\":\"scatter\"},{\"line\":{\"color\":\"red\"},\"showlegend\":false,\"x\":[1413,1414],\"y\":[82.1,82.12],\"type\":\"scatter\"},{\"line\":{\"color\":\"red\"},\"showlegend\":false,\"x\":[1414,1415],\"y\":[82.12,82.12],\"type\":\"scatter\"},{\"line\":{\"color\":\"red\"},\"showlegend\":false,\"x\":[1415,1416],\"y\":[82.12,82.09],\"type\":\"scatter\"},{\"line\":{\"color\":\"red\"},\"showlegend\":false,\"x\":[1416,1417],\"y\":[82.09,82.08],\"type\":\"scatter\"},{\"line\":{\"color\":\"red\"},\"showlegend\":false,\"x\":[1417,1418],\"y\":[82.08,82.1],\"type\":\"scatter\"},{\"line\":{\"color\":\"red\"},\"showlegend\":false,\"x\":[1418,1419],\"y\":[82.1,82.13],\"type\":\"scatter\"},{\"line\":{\"color\":\"red\"},\"showlegend\":false,\"x\":[1419,1420],\"y\":[82.13,82.13],\"type\":\"scatter\"},{\"line\":{\"color\":\"green\"},\"showlegend\":false,\"x\":[1420,1421],\"y\":[82.13,82.13],\"type\":\"scatter\"},{\"line\":{\"color\":\"green\"},\"showlegend\":false,\"x\":[1421,1422],\"y\":[82.13,82.15],\"type\":\"scatter\"},{\"line\":{\"color\":\"green\"},\"showlegend\":false,\"x\":[1422,1423],\"y\":[82.15,82.15],\"type\":\"scatter\"},{\"line\":{\"color\":\"green\"},\"showlegend\":false,\"x\":[1423,1424],\"y\":[82.15,82.16],\"type\":\"scatter\"},{\"line\":{\"color\":\"green\"},\"showlegend\":false,\"x\":[1424,1425],\"y\":[82.16,82.16],\"type\":\"scatter\"},{\"line\":{\"color\":\"green\"},\"showlegend\":false,\"x\":[1425,1426],\"y\":[82.16,82.17],\"type\":\"scatter\"},{\"line\":{\"color\":\"green\"},\"showlegend\":false,\"x\":[1426,1427],\"y\":[82.17,82.17],\"type\":\"scatter\"},{\"line\":{\"color\":\"green\"},\"showlegend\":false,\"x\":[1427,1428],\"y\":[82.17,82.22],\"type\":\"scatter\"},{\"line\":{\"color\":\"green\"},\"showlegend\":false,\"x\":[1428,1429],\"y\":[82.22,82.23],\"type\":\"scatter\"},{\"line\":{\"color\":\"green\"},\"showlegend\":false,\"x\":[1429,1430],\"y\":[82.23,82.26],\"type\":\"scatter\"},{\"line\":{\"color\":\"green\"},\"showlegend\":false,\"x\":[1430,1431],\"y\":[82.26,82.26],\"type\":\"scatter\"},{\"line\":{\"color\":\"green\"},\"showlegend\":false,\"x\":[1431,1432],\"y\":[82.26,82.26],\"type\":\"scatter\"},{\"line\":{\"color\":\"green\"},\"showlegend\":false,\"x\":[1432,1433],\"y\":[82.26,82.26],\"type\":\"scatter\"},{\"line\":{\"color\":\"green\"},\"showlegend\":false,\"x\":[1433,1434],\"y\":[82.26,82.19],\"type\":\"scatter\"},{\"line\":{\"color\":\"green\"},\"showlegend\":false,\"x\":[1434,1435],\"y\":[82.19,82.16],\"type\":\"scatter\"},{\"line\":{\"color\":\"red\"},\"showlegend\":false,\"x\":[1435,1436],\"y\":[82.16,82.13],\"type\":\"scatter\"},{\"line\":{\"color\":\"red\"},\"showlegend\":false,\"x\":[1436,1437],\"y\":[82.13,82.3],\"type\":\"scatter\"},{\"line\":{\"color\":\"green\"},\"showlegend\":false,\"x\":[1437,1438],\"y\":[82.3,82.26],\"type\":\"scatter\"},{\"line\":{\"color\":\"red\"},\"showlegend\":false,\"x\":[1438,1439],\"y\":[82.26,82.25],\"type\":\"scatter\"},{\"line\":{\"color\":\"red\"},\"showlegend\":false,\"x\":[1439,1440],\"y\":[82.25,82.26],\"type\":\"scatter\"},{\"line\":{\"color\":\"red\"},\"showlegend\":false,\"x\":[1440,1441],\"y\":[82.26,82.29],\"type\":\"scatter\"},{\"line\":{\"color\":\"green\"},\"showlegend\":false,\"x\":[1441,1442],\"y\":[82.29,82.34],\"type\":\"scatter\"},{\"line\":{\"color\":\"green\"},\"showlegend\":false,\"x\":[1442,1443],\"y\":[82.34,82.31],\"type\":\"scatter\"},{\"line\":{\"color\":\"green\"},\"showlegend\":false,\"x\":[1443,1444],\"y\":[82.31,82.22],\"type\":\"scatter\"},{\"line\":{\"color\":\"red\"},\"showlegend\":false,\"x\":[1444,1445],\"y\":[82.22,82.22],\"type\":\"scatter\"},{\"line\":{\"color\":\"red\"},\"showlegend\":false,\"x\":[1445,1446],\"y\":[82.22,82.19],\"type\":\"scatter\"},{\"line\":{\"color\":\"red\"},\"showlegend\":false,\"x\":[1446,1447],\"y\":[82.19,82.19],\"type\":\"scatter\"},{\"line\":{\"color\":\"red\"},\"showlegend\":false,\"x\":[1447,1448],\"y\":[82.19,82.19],\"type\":\"scatter\"},{\"line\":{\"color\":\"red\"},\"showlegend\":false,\"x\":[1448,1449],\"y\":[82.19,82.19],\"type\":\"scatter\"},{\"line\":{\"color\":\"red\"},\"showlegend\":false,\"x\":[1449,1450],\"y\":[82.19,82.13],\"type\":\"scatter\"},{\"line\":{\"color\":\"red\"},\"showlegend\":false,\"x\":[1450,1451],\"y\":[82.13,82.22],\"type\":\"scatter\"},{\"line\":{\"color\":\"red\"},\"showlegend\":false,\"x\":[1451,1452],\"y\":[82.22,82.24],\"type\":\"scatter\"},{\"line\":{\"color\":\"green\"},\"showlegend\":false,\"x\":[1452,1453],\"y\":[82.24,82.23],\"type\":\"scatter\"},{\"line\":{\"color\":\"green\"},\"showlegend\":false,\"x\":[1453,1454],\"y\":[82.23,82.23],\"type\":\"scatter\"},{\"line\":{\"color\":\"green\"},\"showlegend\":false,\"x\":[1454,1455],\"y\":[82.23,82.26],\"type\":\"scatter\"},{\"line\":{\"color\":\"green\"},\"showlegend\":false,\"x\":[1455,1456],\"y\":[82.26,82.11],\"type\":\"scatter\"},{\"line\":{\"color\":\"red\"},\"showlegend\":false,\"x\":[1456,1457],\"y\":[82.11,82.11],\"type\":\"scatter\"},{\"line\":{\"color\":\"red\"},\"showlegend\":false,\"x\":[1457,1458],\"y\":[82.11,82.13],\"type\":\"scatter\"},{\"line\":{\"color\":\"red\"},\"showlegend\":false,\"x\":[1458,1459],\"y\":[82.13,82.22],\"type\":\"scatter\"},{\"line\":{\"color\":\"green\"},\"showlegend\":false,\"x\":[1459,1460],\"y\":[82.22,82.02],\"type\":\"scatter\"},{\"line\":{\"color\":\"red\"},\"showlegend\":false,\"x\":[1460,1461],\"y\":[82.02,81.97],\"type\":\"scatter\"},{\"line\":{\"color\":\"red\"},\"showlegend\":false,\"x\":[1461,1462],\"y\":[81.97,82.04],\"type\":\"scatter\"},{\"line\":{\"color\":\"red\"},\"showlegend\":false,\"x\":[1462,1463],\"y\":[82.04,82.03],\"type\":\"scatter\"},{\"line\":{\"color\":\"red\"},\"showlegend\":false,\"x\":[1463,1464],\"y\":[82.03,82.05],\"type\":\"scatter\"},{\"line\":{\"color\":\"red\"},\"showlegend\":false,\"x\":[1464,1465],\"y\":[82.05,82.02],\"type\":\"scatter\"},{\"line\":{\"color\":\"red\"},\"showlegend\":false,\"x\":[1465,1466],\"y\":[82.02,81.98],\"type\":\"scatter\"},{\"line\":{\"color\":\"red\"},\"showlegend\":false,\"x\":[1466,1467],\"y\":[81.98,82.0],\"type\":\"scatter\"},{\"line\":{\"color\":\"red\"},\"showlegend\":false,\"x\":[1467,1468],\"y\":[82.0,82.14],\"type\":\"scatter\"},{\"line\":{\"color\":\"green\"},\"showlegend\":false,\"x\":[1468,1469],\"y\":[82.14,82.18],\"type\":\"scatter\"},{\"line\":{\"color\":\"green\"},\"showlegend\":false,\"x\":[1469,1470],\"y\":[82.18,82.16],\"type\":\"scatter\"},{\"line\":{\"color\":\"green\"},\"showlegend\":false,\"x\":[1470,1471],\"y\":[82.16,82.12],\"type\":\"scatter\"},{\"line\":{\"color\":\"green\"},\"showlegend\":false,\"x\":[1471,1472],\"y\":[82.12,82.28],\"type\":\"scatter\"},{\"line\":{\"color\":\"green\"},\"showlegend\":false,\"x\":[1472,1473],\"y\":[82.28,82.26],\"type\":\"scatter\"},{\"line\":{\"color\":\"green\"},\"showlegend\":false,\"x\":[1473,1474],\"y\":[82.26,82.3],\"type\":\"scatter\"},{\"line\":{\"color\":\"green\"},\"showlegend\":false,\"x\":[1474,1475],\"y\":[82.3,82.31],\"type\":\"scatter\"},{\"line\":{\"color\":\"green\"},\"showlegend\":false,\"x\":[1475,1476],\"y\":[82.31,82.24],\"type\":\"scatter\"},{\"line\":{\"color\":\"green\"},\"showlegend\":false,\"x\":[1476,1477],\"y\":[82.24,82.16],\"type\":\"scatter\"},{\"line\":{\"color\":\"red\"},\"showlegend\":false,\"x\":[1477,1478],\"y\":[82.16,82.07],\"type\":\"scatter\"},{\"line\":{\"color\":\"red\"},\"showlegend\":false,\"x\":[1478,1479],\"y\":[82.07,82.0],\"type\":\"scatter\"},{\"line\":{\"color\":\"red\"},\"showlegend\":false,\"x\":[1479,1480],\"y\":[82.0,82.17],\"type\":\"scatter\"},{\"line\":{\"color\":\"red\"},\"showlegend\":false,\"x\":[1480,1481],\"y\":[82.17,82.09],\"type\":\"scatter\"},{\"line\":{\"color\":\"red\"},\"showlegend\":false,\"x\":[1481,1482],\"y\":[82.09,81.86],\"type\":\"scatter\"},{\"line\":{\"color\":\"red\"},\"showlegend\":false,\"x\":[1482,1483],\"y\":[81.86,81.93],\"type\":\"scatter\"},{\"line\":{\"color\":\"red\"},\"showlegend\":false,\"x\":[1483,1484],\"y\":[81.93,81.74],\"type\":\"scatter\"},{\"line\":{\"color\":\"red\"},\"showlegend\":false,\"x\":[1484,1485],\"y\":[81.74,81.66],\"type\":\"scatter\"},{\"line\":{\"color\":\"red\"},\"showlegend\":false,\"x\":[1485,1486],\"y\":[81.66,81.66],\"type\":\"scatter\"},{\"line\":{\"color\":\"red\"},\"showlegend\":false,\"x\":[1486,1487],\"y\":[81.66,81.72],\"type\":\"scatter\"},{\"line\":{\"color\":\"red\"},\"showlegend\":false,\"x\":[1487,1488],\"y\":[81.72,81.62],\"type\":\"scatter\"},{\"line\":{\"color\":\"red\"},\"showlegend\":false,\"x\":[1488,1489],\"y\":[81.62,81.71],\"type\":\"scatter\"},{\"line\":{\"color\":\"red\"},\"showlegend\":false,\"x\":[1489,1490],\"y\":[81.71,81.67],\"type\":\"scatter\"},{\"line\":{\"color\":\"red\"},\"showlegend\":false,\"x\":[1490,1491],\"y\":[81.67,81.53],\"type\":\"scatter\"},{\"line\":{\"color\":\"red\"},\"showlegend\":false,\"x\":[1491,1492],\"y\":[81.53,81.44],\"type\":\"scatter\"},{\"line\":{\"color\":\"red\"},\"showlegend\":false,\"x\":[1492,1493],\"y\":[81.44,81.4],\"type\":\"scatter\"},{\"line\":{\"color\":\"red\"},\"showlegend\":false,\"x\":[1493,1494],\"y\":[81.4,81.56],\"type\":\"scatter\"},{\"line\":{\"color\":\"red\"},\"showlegend\":false,\"x\":[1494,1495],\"y\":[81.56,81.69],\"type\":\"scatter\"},{\"line\":{\"color\":\"red\"},\"showlegend\":false,\"x\":[1495,1496],\"y\":[81.69,81.56],\"type\":\"scatter\"},{\"line\":{\"color\":\"red\"},\"showlegend\":false,\"x\":[1496,1497],\"y\":[81.56,81.52],\"type\":\"scatter\"},{\"line\":{\"color\":\"red\"},\"showlegend\":false,\"x\":[1497,1498],\"y\":[81.52,81.51],\"type\":\"scatter\"},{\"line\":{\"color\":\"red\"},\"showlegend\":false,\"x\":[1498,1499],\"y\":[81.51,81.54],\"type\":\"scatter\"}],                        {\"template\":{\"data\":{\"histogram2dcontour\":[{\"type\":\"histogram2dcontour\",\"colorbar\":{\"outlinewidth\":0,\"ticks\":\"\"},\"colorscale\":[[0.0,\"#0d0887\"],[0.1111111111111111,\"#46039f\"],[0.2222222222222222,\"#7201a8\"],[0.3333333333333333,\"#9c179e\"],[0.4444444444444444,\"#bd3786\"],[0.5555555555555556,\"#d8576b\"],[0.6666666666666666,\"#ed7953\"],[0.7777777777777778,\"#fb9f3a\"],[0.8888888888888888,\"#fdca26\"],[1.0,\"#f0f921\"]]}],\"choropleth\":[{\"type\":\"choropleth\",\"colorbar\":{\"outlinewidth\":0,\"ticks\":\"\"}}],\"histogram2d\":[{\"type\":\"histogram2d\",\"colorbar\":{\"outlinewidth\":0,\"ticks\":\"\"},\"colorscale\":[[0.0,\"#0d0887\"],[0.1111111111111111,\"#46039f\"],[0.2222222222222222,\"#7201a8\"],[0.3333333333333333,\"#9c179e\"],[0.4444444444444444,\"#bd3786\"],[0.5555555555555556,\"#d8576b\"],[0.6666666666666666,\"#ed7953\"],[0.7777777777777778,\"#fb9f3a\"],[0.8888888888888888,\"#fdca26\"],[1.0,\"#f0f921\"]]}],\"heatmap\":[{\"type\":\"heatmap\",\"colorbar\":{\"outlinewidth\":0,\"ticks\":\"\"},\"colorscale\":[[0.0,\"#0d0887\"],[0.1111111111111111,\"#46039f\"],[0.2222222222222222,\"#7201a8\"],[0.3333333333333333,\"#9c179e\"],[0.4444444444444444,\"#bd3786\"],[0.5555555555555556,\"#d8576b\"],[0.6666666666666666,\"#ed7953\"],[0.7777777777777778,\"#fb9f3a\"],[0.8888888888888888,\"#fdca26\"],[1.0,\"#f0f921\"]]}],\"heatmapgl\":[{\"type\":\"heatmapgl\",\"colorbar\":{\"outlinewidth\":0,\"ticks\":\"\"},\"colorscale\":[[0.0,\"#0d0887\"],[0.1111111111111111,\"#46039f\"],[0.2222222222222222,\"#7201a8\"],[0.3333333333333333,\"#9c179e\"],[0.4444444444444444,\"#bd3786\"],[0.5555555555555556,\"#d8576b\"],[0.6666666666666666,\"#ed7953\"],[0.7777777777777778,\"#fb9f3a\"],[0.8888888888888888,\"#fdca26\"],[1.0,\"#f0f921\"]]}],\"contourcarpet\":[{\"type\":\"contourcarpet\",\"colorbar\":{\"outlinewidth\":0,\"ticks\":\"\"}}],\"contour\":[{\"type\":\"contour\",\"colorbar\":{\"outlinewidth\":0,\"ticks\":\"\"},\"colorscale\":[[0.0,\"#0d0887\"],[0.1111111111111111,\"#46039f\"],[0.2222222222222222,\"#7201a8\"],[0.3333333333333333,\"#9c179e\"],[0.4444444444444444,\"#bd3786\"],[0.5555555555555556,\"#d8576b\"],[0.6666666666666666,\"#ed7953\"],[0.7777777777777778,\"#fb9f3a\"],[0.8888888888888888,\"#fdca26\"],[1.0,\"#f0f921\"]]}],\"surface\":[{\"type\":\"surface\",\"colorbar\":{\"outlinewidth\":0,\"ticks\":\"\"},\"colorscale\":[[0.0,\"#0d0887\"],[0.1111111111111111,\"#46039f\"],[0.2222222222222222,\"#7201a8\"],[0.3333333333333333,\"#9c179e\"],[0.4444444444444444,\"#bd3786\"],[0.5555555555555556,\"#d8576b\"],[0.6666666666666666,\"#ed7953\"],[0.7777777777777778,\"#fb9f3a\"],[0.8888888888888888,\"#fdca26\"],[1.0,\"#f0f921\"]]}],\"mesh3d\":[{\"type\":\"mesh3d\",\"colorbar\":{\"outlinewidth\":0,\"ticks\":\"\"}}],\"scatter\":[{\"fillpattern\":{\"fillmode\":\"overlay\",\"size\":10,\"solidity\":0.2},\"type\":\"scatter\"}],\"parcoords\":[{\"type\":\"parcoords\",\"line\":{\"colorbar\":{\"outlinewidth\":0,\"ticks\":\"\"}}}],\"scatterpolargl\":[{\"type\":\"scatterpolargl\",\"marker\":{\"colorbar\":{\"outlinewidth\":0,\"ticks\":\"\"}}}],\"bar\":[{\"error_x\":{\"color\":\"#2a3f5f\"},\"error_y\":{\"color\":\"#2a3f5f\"},\"marker\":{\"line\":{\"color\":\"#E5ECF6\",\"width\":0.5},\"pattern\":{\"fillmode\":\"overlay\",\"size\":10,\"solidity\":0.2}},\"type\":\"bar\"}],\"scattergeo\":[{\"type\":\"scattergeo\",\"marker\":{\"colorbar\":{\"outlinewidth\":0,\"ticks\":\"\"}}}],\"scatterpolar\":[{\"type\":\"scatterpolar\",\"marker\":{\"colorbar\":{\"outlinewidth\":0,\"ticks\":\"\"}}}],\"histogram\":[{\"marker\":{\"pattern\":{\"fillmode\":\"overlay\",\"size\":10,\"solidity\":0.2}},\"type\":\"histogram\"}],\"scattergl\":[{\"type\":\"scattergl\",\"marker\":{\"colorbar\":{\"outlinewidth\":0,\"ticks\":\"\"}}}],\"scatter3d\":[{\"type\":\"scatter3d\",\"line\":{\"colorbar\":{\"outlinewidth\":0,\"ticks\":\"\"}},\"marker\":{\"colorbar\":{\"outlinewidth\":0,\"ticks\":\"\"}}}],\"scattermapbox\":[{\"type\":\"scattermapbox\",\"marker\":{\"colorbar\":{\"outlinewidth\":0,\"ticks\":\"\"}}}],\"scatterternary\":[{\"type\":\"scatterternary\",\"marker\":{\"colorbar\":{\"outlinewidth\":0,\"ticks\":\"\"}}}],\"scattercarpet\":[{\"type\":\"scattercarpet\",\"marker\":{\"colorbar\":{\"outlinewidth\":0,\"ticks\":\"\"}}}],\"carpet\":[{\"aaxis\":{\"endlinecolor\":\"#2a3f5f\",\"gridcolor\":\"white\",\"linecolor\":\"white\",\"minorgridcolor\":\"white\",\"startlinecolor\":\"#2a3f5f\"},\"baxis\":{\"endlinecolor\":\"#2a3f5f\",\"gridcolor\":\"white\",\"linecolor\":\"white\",\"minorgridcolor\":\"white\",\"startlinecolor\":\"#2a3f5f\"},\"type\":\"carpet\"}],\"table\":[{\"cells\":{\"fill\":{\"color\":\"#EBF0F8\"},\"line\":{\"color\":\"white\"}},\"header\":{\"fill\":{\"color\":\"#C8D4E3\"},\"line\":{\"color\":\"white\"}},\"type\":\"table\"}],\"barpolar\":[{\"marker\":{\"line\":{\"color\":\"#E5ECF6\",\"width\":0.5},\"pattern\":{\"fillmode\":\"overlay\",\"size\":10,\"solidity\":0.2}},\"type\":\"barpolar\"}],\"pie\":[{\"automargin\":true,\"type\":\"pie\"}]},\"layout\":{\"autotypenumbers\":\"strict\",\"colorway\":[\"#636efa\",\"#EF553B\",\"#00cc96\",\"#ab63fa\",\"#FFA15A\",\"#19d3f3\",\"#FF6692\",\"#B6E880\",\"#FF97FF\",\"#FECB52\"],\"font\":{\"color\":\"#2a3f5f\"},\"hovermode\":\"closest\",\"hoverlabel\":{\"align\":\"left\"},\"paper_bgcolor\":\"white\",\"plot_bgcolor\":\"#E5ECF6\",\"polar\":{\"bgcolor\":\"#E5ECF6\",\"angularaxis\":{\"gridcolor\":\"white\",\"linecolor\":\"white\",\"ticks\":\"\"},\"radialaxis\":{\"gridcolor\":\"white\",\"linecolor\":\"white\",\"ticks\":\"\"}},\"ternary\":{\"bgcolor\":\"#E5ECF6\",\"aaxis\":{\"gridcolor\":\"white\",\"linecolor\":\"white\",\"ticks\":\"\"},\"baxis\":{\"gridcolor\":\"white\",\"linecolor\":\"white\",\"ticks\":\"\"},\"caxis\":{\"gridcolor\":\"white\",\"linecolor\":\"white\",\"ticks\":\"\"}},\"coloraxis\":{\"colorbar\":{\"outlinewidth\":0,\"ticks\":\"\"}},\"colorscale\":{\"sequential\":[[0.0,\"#0d0887\"],[0.1111111111111111,\"#46039f\"],[0.2222222222222222,\"#7201a8\"],[0.3333333333333333,\"#9c179e\"],[0.4444444444444444,\"#bd3786\"],[0.5555555555555556,\"#d8576b\"],[0.6666666666666666,\"#ed7953\"],[0.7777777777777778,\"#fb9f3a\"],[0.8888888888888888,\"#fdca26\"],[1.0,\"#f0f921\"]],\"sequentialminus\":[[0.0,\"#0d0887\"],[0.1111111111111111,\"#46039f\"],[0.2222222222222222,\"#7201a8\"],[0.3333333333333333,\"#9c179e\"],[0.4444444444444444,\"#bd3786\"],[0.5555555555555556,\"#d8576b\"],[0.6666666666666666,\"#ed7953\"],[0.7777777777777778,\"#fb9f3a\"],[0.8888888888888888,\"#fdca26\"],[1.0,\"#f0f921\"]],\"diverging\":[[0,\"#8e0152\"],[0.1,\"#c51b7d\"],[0.2,\"#de77ae\"],[0.3,\"#f1b6da\"],[0.4,\"#fde0ef\"],[0.5,\"#f7f7f7\"],[0.6,\"#e6f5d0\"],[0.7,\"#b8e186\"],[0.8,\"#7fbc41\"],[0.9,\"#4d9221\"],[1,\"#276419\"]]},\"xaxis\":{\"gridcolor\":\"white\",\"linecolor\":\"white\",\"ticks\":\"\",\"title\":{\"standoff\":15},\"zerolinecolor\":\"white\",\"automargin\":true,\"zerolinewidth\":2},\"yaxis\":{\"gridcolor\":\"white\",\"linecolor\":\"white\",\"ticks\":\"\",\"title\":{\"standoff\":15},\"zerolinecolor\":\"white\",\"automargin\":true,\"zerolinewidth\":2},\"scene\":{\"xaxis\":{\"backgroundcolor\":\"#E5ECF6\",\"gridcolor\":\"white\",\"linecolor\":\"white\",\"showbackground\":true,\"ticks\":\"\",\"zerolinecolor\":\"white\",\"gridwidth\":2},\"yaxis\":{\"backgroundcolor\":\"#E5ECF6\",\"gridcolor\":\"white\",\"linecolor\":\"white\",\"showbackground\":true,\"ticks\":\"\",\"zerolinecolor\":\"white\",\"gridwidth\":2},\"zaxis\":{\"backgroundcolor\":\"#E5ECF6\",\"gridcolor\":\"white\",\"linecolor\":\"white\",\"showbackground\":true,\"ticks\":\"\",\"zerolinecolor\":\"white\",\"gridwidth\":2}},\"shapedefaults\":{\"line\":{\"color\":\"#2a3f5f\"}},\"annotationdefaults\":{\"arrowcolor\":\"#2a3f5f\",\"arrowhead\":0,\"arrowwidth\":1},\"geo\":{\"bgcolor\":\"white\",\"landcolor\":\"#E5ECF6\",\"subunitcolor\":\"white\",\"showland\":true,\"showlakes\":true,\"lakecolor\":\"white\"},\"title\":{\"x\":0.05},\"mapbox\":{\"style\":\"light\"}}},\"xaxis\":{\"title\":{\"text\":\"Indeks\"}},\"yaxis\":{\"title\":{\"text\":\"Close\"}},\"title\":{\"text\":\"Wykres liniowy z kolorami\"}},                        {\"responsive\": true}                    ).then(function(){\n",
              "                            \n",
              "var gd = document.getElementById('3c00e8d8-1865-47d3-8608-98c8be2acf95');\n",
              "var x = new MutationObserver(function (mutations, observer) {{\n",
              "        var display = window.getComputedStyle(gd).display;\n",
              "        if (!display || display === 'none') {{\n",
              "            console.log([gd, 'removed!']);\n",
              "            Plotly.purge(gd);\n",
              "            observer.disconnect();\n",
              "        }}\n",
              "}});\n",
              "\n",
              "// Listen for the removal of the full notebook cells\n",
              "var notebookContainer = gd.closest('#notebook-container');\n",
              "if (notebookContainer) {{\n",
              "    x.observe(notebookContainer, {childList: true});\n",
              "}}\n",
              "\n",
              "// Listen for the clearing of the current output cell\n",
              "var outputEl = gd.closest('.output');\n",
              "if (outputEl) {{\n",
              "    x.observe(outputEl, {childList: true});\n",
              "}}\n",
              "\n",
              "                        })                };                            </script>        </div>\n",
              "</body>\n",
              "</html>"
            ]
          },
          "metadata": {}
        }
      ]
    },
    {
      "cell_type": "markdown",
      "source": [
        "### <a name='a7'></a> Predykcja na podstawie modelu:\n",
        "\n",
        "\n",
        "\n",
        "1.   **model.evaluate(y_true, y_pred)** - pozwala obliczyć metryki modelu\n",
        "2.   **model.predict_classes()** - pozwala zwrócić odpowiednio przewidziane klasy\n",
        "3.   **model.predict_proba(), model.predict()** - pozwala zwrócić prawdopodobieństwo danej klasy\n",
        "\n",
        "\n",
        "\n"
      ],
      "metadata": {
        "id": "hZjlGQgPw2-G"
      }
    },
    {
      "cell_type": "code",
      "source": [
        "predictions = model.predict(x_test)\n",
        "predictions"
      ],
      "metadata": {
        "id": "Hnq1sJrZxPmf"
      },
      "execution_count": null,
      "outputs": []
    },
    {
      "cell_type": "code",
      "source": [
        "# predictions_cls = model.predict_classes(X_test)\n",
        "predictions_cls = np.argmax(model.predict(x_test), axis=-1)\n",
        "predictions_cls"
      ],
      "metadata": {
        "id": "--gCx91W0Csa"
      },
      "execution_count": null,
      "outputs": []
    },
    {
      "cell_type": "code",
      "source": [
        "metrics = pd.DataFrame(history.history)\n",
        "metrics['epoch'] = history.epoch\n",
        "metrics"
      ],
      "metadata": {
        "id": "YLoVcniO6toN"
      },
      "execution_count": null,
      "outputs": []
    },
    {
      "cell_type": "code",
      "source": [
        "history = model.fit(x_train, y_train, epochs=10, batch_size=32, validation_split=0.2)"
      ],
      "metadata": {
        "id": "GLQ4_vcn6oQa"
      },
      "execution_count": null,
      "outputs": []
    },
    {
      "cell_type": "code",
      "source": [
        "model = tf.keras.models.load_model('lstm_Model.keras')\n",
        "model.summary()"
      ],
      "metadata": {
        "id": "VTcKTFtqDz05"
      },
      "execution_count": null,
      "outputs": []
    },
    {
      "cell_type": "markdown",
      "source": [
        "### <a name='a5'></a> Przykład budowy modelu z kursu"
      ],
      "metadata": {
        "id": "L1dMlQcAxrBa"
      }
    },
    {
      "cell_type": "code",
      "source": [
        "# model = Sequential()\n",
        "# model.add(Flatten(input_shape=(28, 28)))\n",
        "# model.add(Dense(units=128, activation='relu'))\n",
        "# model.add(Dense(units=10, activation='softmax'))\n",
        "\n",
        "# model.compile(optimizer='rmsprop',\n",
        "#               loss='categorical_crossentropy',\n",
        "#               metrics=['accuracy'])\n",
        "\n",
        "# model.summary()\n",
        "model = Sequential()\n",
        "model.add(LstmLayer)\n",
        "model.add(Dense(units=2, activation='softmax')) # <----- output layer\n",
        "\n",
        "model.compile(optimizer='rmsprop',\n",
        "              loss='categorical_crossentropy',\n",
        "              metrics=['accuracy'])\n",
        "\n",
        "model.summary()"
      ],
      "metadata": {
        "id": "XXUBIQvdsdra"
      },
      "execution_count": null,
      "outputs": []
    },
    {
      "cell_type": "markdown",
      "source": [
        "### <a name='a8'></a> Zip file"
      ],
      "metadata": {
        "id": "EOfWIf-3-UsM"
      }
    },
    {
      "cell_type": "code",
      "source": [
        "from zipfile import ZipFile\n",
        "\n",
        "zip = ZipFile('my_python_files.zip','w')\n",
        "zip.write('lstm_Model.keras')"
      ],
      "metadata": {
        "id": "BzXru1KVD_H9"
      },
      "execution_count": null,
      "outputs": []
    },
    {
      "cell_type": "markdown",
      "source": [
        "### <a name='a9'></a> Extract tar gz"
      ],
      "metadata": {
        "id": "qwJG5yS6PU-V"
      }
    },
    {
      "cell_type": "code",
      "source": [
        "# importing the \"tarfile\" module\n",
        "import tarfile\n",
        "\n",
        "# open file\n",
        "file = tarfile.open('1_150x9.tar.gz')\n",
        "\n",
        "# extracting a specific file\n",
        "file.extractall(path='./1_150x9/')\n",
        "\n",
        "file.close()"
      ],
      "metadata": {
        "id": "vGD-1oYzPE3z"
      },
      "execution_count": 1,
      "outputs": []
    },
    {
      "cell_type": "code",
      "source": [],
      "metadata": {
        "id": "aVLlJ_ue-zvq"
      },
      "execution_count": null,
      "outputs": []
    }
  ]
}